{
 "cells": [
  {
   "cell_type": "code",
   "execution_count": 2,
   "metadata": {},
   "outputs": [
    {
     "name": "stdout",
     "output_type": "stream",
     "text": [
      "Data read operation failed.\n",
      "(psycopg2.errors.UndefinedTable) relation \"reports\" does not exist\n",
      "LINE 1: SELECT COUNT(*) AS NUMBER_OF_ROWS FROM reports\n",
      "                                               ^\n",
      "\n",
      "[SQL: SELECT COUNT(*) AS NUMBER_OF_ROWS FROM reports]\n",
      "(Background on this error at: https://sqlalche.me/e/20/f405)\n"
     ]
    },
    {
     "ename": "UnboundLocalError",
     "evalue": "local variable 'result' referenced before assignment",
     "output_type": "error",
     "traceback": [
      "\u001b[0;31m---------------------------------------------------------------------------\u001b[0m",
      "\u001b[0;31mUnboundLocalError\u001b[0m                         Traceback (most recent call last)",
      "Cell \u001b[0;32mIn[2], line 9\u001b[0m\n\u001b[1;32m      3\u001b[0m \u001b[39mfrom\u001b[39;00m \u001b[39mexperiment\u001b[39;00m\u001b[39m.\u001b[39;00m\u001b[39mmodel\u001b[39;00m\u001b[39m.\u001b[39;00m\u001b[39mdataset\u001b[39;00m \u001b[39mimport\u001b[39;00m ReportDataset, batch_collate_fn\n\u001b[1;32m      5\u001b[0m DATASETS \u001b[39m=\u001b[39m {\n\u001b[1;32m      6\u001b[0m     \u001b[39m\"\u001b[39m\u001b[39mreport_dataset\u001b[39m\u001b[39m\"\u001b[39m: ReportDataset,\n\u001b[1;32m      7\u001b[0m }\n\u001b[0;32m----> 9\u001b[0m tr_dataset \u001b[39m=\u001b[39m DATASETS[\u001b[39m\"\u001b[39;49m\u001b[39mreport_dataset\u001b[39;49m\u001b[39m\"\u001b[39;49m](\n\u001b[1;32m     10\u001b[0m             mode\u001b[39m=\u001b[39;49m\u001b[39m\"\u001b[39;49m\u001b[39mtrain\u001b[39;49m\u001b[39m\"\u001b[39;49m,\n\u001b[1;32m     11\u001b[0m             n_folds\u001b[39m=\u001b[39;49m\u001b[39m5\u001b[39;49m,\n\u001b[1;32m     12\u001b[0m             current_fold\u001b[39m=\u001b[39;49m\u001b[39m0\u001b[39;49m,\n\u001b[1;32m     13\u001b[0m             batch_size\u001b[39m=\u001b[39;49m\u001b[39m10\u001b[39;49m,\n\u001b[1;32m     14\u001b[0m             in_memory\u001b[39m=\u001b[39;49m\u001b[39mTrue\u001b[39;49;00m\n\u001b[1;32m     15\u001b[0m         )\n\u001b[1;32m     16\u001b[0m tr_dataloader \u001b[39m=\u001b[39m DataLoader(\n\u001b[1;32m     17\u001b[0m             tr_dataset,\n\u001b[1;32m     18\u001b[0m             batch_size\u001b[39m=\u001b[39m\u001b[39m10\u001b[39m,\n\u001b[1;32m     19\u001b[0m             collate_fn\u001b[39m=\u001b[39mbatch_collate_fn,\n\u001b[1;32m     20\u001b[0m         )\n",
      "File \u001b[0;32m~/GitRepos/reports/src/experiment/model/dataset.py:260\u001b[0m, in \u001b[0;36mReportDataset.__init__\u001b[0;34m(self, mode, n_folds, current_fold, batch_size, in_memory)\u001b[0m\n\u001b[1;32m    251\u001b[0m \u001b[39mdef\u001b[39;00m \u001b[39m__init__\u001b[39m(\n\u001b[1;32m    252\u001b[0m     \u001b[39mself\u001b[39m,\n\u001b[1;32m    253\u001b[0m     mode: \u001b[39mstr\u001b[39m \u001b[39m=\u001b[39m \u001b[39m\"\u001b[39m\u001b[39minference\u001b[39m\u001b[39m\"\u001b[39m,\n\u001b[0;32m   (...)\u001b[0m\n\u001b[1;32m    257\u001b[0m     in_memory: \u001b[39mbool\u001b[39m \u001b[39m=\u001b[39m \u001b[39mFalse\u001b[39;00m,\n\u001b[1;32m    258\u001b[0m ):\n\u001b[1;32m    259\u001b[0m     data_table_name \u001b[39m=\u001b[39m \u001b[39m\"\u001b[39m\u001b[39mreports\u001b[39m\u001b[39m\"\u001b[39m\n\u001b[0;32m--> 260\u001b[0m     \u001b[39msuper\u001b[39;49m()\u001b[39m.\u001b[39;49m\u001b[39m__init__\u001b[39;49m(\n\u001b[1;32m    261\u001b[0m         data_table_name,\n\u001b[1;32m    262\u001b[0m         mode,\n\u001b[1;32m    263\u001b[0m         n_folds,\n\u001b[1;32m    264\u001b[0m         current_fold,\n\u001b[1;32m    265\u001b[0m         batch_size,\n\u001b[1;32m    266\u001b[0m         in_memory,\n\u001b[1;32m    267\u001b[0m     )\n\u001b[1;32m    268\u001b[0m     \u001b[39mself\u001b[39m\u001b[39m.\u001b[39mtokenizer \u001b[39m=\u001b[39m AutoTokenizer\u001b[39m.\u001b[39mfrom_pretrained(\u001b[39m\"\u001b[39m\u001b[39mdistilbert-base-uncased\u001b[39m\u001b[39m\"\u001b[39m)\n",
      "File \u001b[0;32m~/GitRepos/reports/src/experiment/model/dataset.py:75\u001b[0m, in \u001b[0;36mBaseDataset.__init__\u001b[0;34m(self, database_table_name, mode, n_folds, current_fold, batch_size, in_memory)\u001b[0m\n\u001b[1;32m     72\u001b[0m \u001b[39mself\u001b[39m\u001b[39m.\u001b[39mdbutils \u001b[39m=\u001b[39m DatabaseUtils()\n\u001b[1;32m     73\u001b[0m \u001b[39mself\u001b[39m\u001b[39m.\u001b[39mdbutils\u001b[39m.\u001b[39mconnect_database()\n\u001b[0;32m---> 75\u001b[0m \u001b[39mself\u001b[39m\u001b[39m.\u001b[39mn_samples_total \u001b[39m=\u001b[39m \u001b[39mself\u001b[39;49m\u001b[39m.\u001b[39;49mget_number_of_samples()\n\u001b[1;32m     77\u001b[0m \u001b[39m# Keep half of the data as 'unseen' to be used in inference.\u001b[39;00m\n\u001b[1;32m     78\u001b[0m \u001b[39mself\u001b[39m\u001b[39m.\u001b[39mseen_data_indices, \u001b[39mself\u001b[39m\u001b[39m.\u001b[39munseen_data_indices \u001b[39m=\u001b[39m \u001b[39mself\u001b[39m\u001b[39m.\u001b[39mget_fold_indices(\n\u001b[1;32m     79\u001b[0m     \u001b[39mself\u001b[39m\u001b[39m.\u001b[39mn_samples_total, \u001b[39m2\u001b[39m\n\u001b[1;32m     80\u001b[0m )\n",
      "File \u001b[0;32m~/GitRepos/reports/src/experiment/model/dataset.py:144\u001b[0m, in \u001b[0;36mBaseDataset.get_number_of_samples\u001b[0;34m(self)\u001b[0m\n\u001b[1;32m    139\u001b[0m \u001b[39mdef\u001b[39;00m \u001b[39mget_number_of_samples\u001b[39m(\u001b[39mself\u001b[39m) \u001b[39m-\u001b[39m\u001b[39m>\u001b[39m \u001b[39mint\u001b[39m:\n\u001b[1;32m    140\u001b[0m \u001b[39m    \u001b[39m\u001b[39m\"\"\"\u001b[39;00m\n\u001b[1;32m    141\u001b[0m \u001b[39m    Method to find how many samples are expected in ALL dataset.\u001b[39;00m\n\u001b[1;32m    142\u001b[0m \u001b[39m    E.g., number of images in the target folder, number of rows in dataframe.\u001b[39;00m\n\u001b[1;32m    143\u001b[0m \u001b[39m    \"\"\"\u001b[39;00m\n\u001b[0;32m--> 144\u001b[0m     \u001b[39mreturn\u001b[39;00m \u001b[39mself\u001b[39;49m\u001b[39m.\u001b[39;49mdbutils\u001b[39m.\u001b[39;49mget_table_size(\u001b[39mself\u001b[39;49m\u001b[39m.\u001b[39;49mdatabase_table_name)\n",
      "File \u001b[0;32m~/GitRepos/reports/src/experiment/utils/dbutils.py:235\u001b[0m, in \u001b[0;36mDatabaseUtils.get_table_size\u001b[0;34m(self, table_name)\u001b[0m\n\u001b[1;32m    233\u001b[0m \u001b[39m\u001b[39m\u001b[39m\"\"\"Returns the number of rows of the specified table.\"\"\"\u001b[39;00m\n\u001b[1;32m    234\u001b[0m query \u001b[39m=\u001b[39m \u001b[39mf\u001b[39m\u001b[39m\"\u001b[39m\u001b[39mSELECT COUNT(*) AS NUMBER_OF_ROWS FROM \u001b[39m\u001b[39m{\u001b[39;00mtable_name\u001b[39m}\u001b[39;00m\u001b[39m\"\u001b[39m\n\u001b[0;32m--> 235\u001b[0m df \u001b[39m=\u001b[39m \u001b[39mself\u001b[39;49m\u001b[39m.\u001b[39;49mread_sql_query(query)\n\u001b[1;32m    236\u001b[0m \u001b[39mif\u001b[39;00m df \u001b[39mis\u001b[39;00m \u001b[39mNone\u001b[39;00m:\n\u001b[1;32m    237\u001b[0m     \u001b[39mreturn\u001b[39;00m \u001b[39m0\u001b[39m\n",
      "File \u001b[0;32m~/GitRepos/reports/src/experiment/utils/dbutils.py:147\u001b[0m, in \u001b[0;36mDatabaseUtils.read_sql_query\u001b[0;34m(self, sql, output_format, db_name)\u001b[0m\n\u001b[1;32m    144\u001b[0m output \u001b[39m=\u001b[39m \u001b[39mNone\u001b[39;00m\n\u001b[1;32m    146\u001b[0m \u001b[39mif\u001b[39;00m output_format \u001b[39m==\u001b[39m \u001b[39m\"\u001b[39m\u001b[39mdataframe\u001b[39m\u001b[39m\"\u001b[39m:\n\u001b[0;32m--> 147\u001b[0m     column_names \u001b[39m=\u001b[39m result\u001b[39m.\u001b[39mkeys()  \u001b[39m# Get column names from the result set\u001b[39;00m\n\u001b[1;32m    148\u001b[0m     output \u001b[39m=\u001b[39m pd\u001b[39m.\u001b[39mDataFrame(data, columns\u001b[39m=\u001b[39mcolumn_names)\n\u001b[1;32m    149\u001b[0m \u001b[39melse\u001b[39;00m:\n",
      "\u001b[0;31mUnboundLocalError\u001b[0m: local variable 'result' referenced before assignment"
     ]
    }
   ],
   "source": [
    "from torch.utils.data import DataLoader\n",
    "\n",
    "from experiment.model.dataset import ReportDataset, batch_collate_fn\n",
    "\n",
    "DATASETS = {\n",
    "    \"report_dataset\": ReportDataset,\n",
    "}\n",
    "\n",
    "tr_dataset = DATASETS[\"report_dataset\"](\n",
    "    mode=\"train\", n_folds=5, current_fold=0, batch_size=10, in_memory=True\n",
    ")\n",
    "tr_dataloader = DataLoader(\n",
    "    tr_dataset,\n",
    "    batch_size=10,\n",
    "    collate_fn=batch_collate_fn,\n",
    ")"
   ]
  },
  {
   "cell_type": "code",
   "execution_count": null,
   "metadata": {},
   "outputs": [],
   "source": [
    "for report, classification in tr_dataloader:\n",
    "    print(report)\n",
    "    "
   ]
  }
 ],
 "metadata": {
  "kernelspec": {
   "display_name": ".venv",
   "language": "python",
   "name": "python3"
  },
  "language_info": {
   "codemirror_mode": {
    "name": "ipython",
    "version": 3
   },
   "file_extension": ".py",
   "mimetype": "text/x-python",
   "name": "python",
   "nbconvert_exporter": "python",
   "pygments_lexer": "ipython3",
   "version": "3.11.2"
  },
  "orig_nbformat": 4
 },
 "nbformat": 4,
 "nbformat_minor": 2
}
