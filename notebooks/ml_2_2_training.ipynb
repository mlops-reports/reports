{
 "cells": [
  {
   "cell_type": "code",
   "execution_count": null,
   "metadata": {},
   "outputs": [],
   "source": [
    "from experiments import Experiment\n",
    "\n",
    "def main() -> None:\n",
    "    exp = Experiment(\n",
    "        dataset=\"mock_dataset\",\n",
    "        timepoint=None,\n",
    "        n_epochs=20,\n",
    "        n_folds=5,\n",
    "        validation_period=1,\n",
    "        learning_rate=0.001,\n",
    "        loss_weight=1.0,\n",
    "        model_name=\"mock_model_experiment\",\n",
    "    )\n",
    "    exp.train_model()\n",
    "    exp.run_inference()\n",
    "    exp.get_results_table()"
   ]
  },
  {
   "cell_type": "code",
   "execution_count": null,
   "metadata": {},
   "outputs": [],
   "source": [
    "main()"
   ]
  }
 ],
 "metadata": {
  "kernelspec": {
   "display_name": ".venv",
   "language": "python",
   "name": "python3"
  },
  "language_info": {
   "name": "python",
   "version": "3.11.2"
  },
  "orig_nbformat": 4
 },
 "nbformat": 4,
 "nbformat_minor": 2
}
