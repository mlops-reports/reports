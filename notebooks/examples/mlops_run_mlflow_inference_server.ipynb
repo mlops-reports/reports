{
 "cells": [
  {
   "cell_type": "code",
   "execution_count": 1,
   "metadata": {},
   "outputs": [],
   "source": [
    "from experiment.api import mlflow as mlflow_api"
   ]
  },
  {
   "cell_type": "code",
   "execution_count": 5,
   "metadata": {},
   "outputs": [
    {
     "name": "stderr",
     "output_type": "stream",
     "text": [
      "[2023-09-02 11:44:11 +0300] [96172] [INFO] Handling signal: term\n",
      "[2023-09-02 11:44:11 +0300] [96173] [INFO] Worker exiting (pid: 96173)\n",
      "[2023-09-02 11:44:11 +0300] [96174] [INFO] Worker exiting (pid: 96174)\n",
      "[2023-09-02 11:44:11 +0300] [96177] [INFO] Worker exiting (pid: 96177)\n",
      "[2023-09-02 11:44:11 +0300] [96175] [INFO] Worker exiting (pid: 96175)\n",
      "[2023-09-02 11:44:11 +0300] [96198] [INFO] Handling signal: term\n",
      "[2023-09-02 11:44:11 +0300] [96199] [INFO] Worker exiting (pid: 96199)\n",
      "[2023-09-02 11:44:12 +0300] [96172] [INFO] Shutting down: Master\n",
      "[2023-09-02 11:44:12 +0300] [96198] [INFO] Shutting down: Master\n"
     ]
    }
   ],
   "source": [
    "mlflow = mlflow_api.MLFlow()\n",
    "\n",
    "# clean with garbage collection\n",
    "mlflow.clean(gc=True)"
   ]
  },
  {
   "cell_type": "code",
   "execution_count": 3,
   "metadata": {},
   "outputs": [],
   "source": [
    "# run the tracking server\n",
    "mlflow.run_tracking_server()"
   ]
  },
  {
   "cell_type": "code",
   "execution_count": 4,
   "metadata": {},
   "outputs": [
    {
     "name": "stderr",
     "output_type": "stream",
     "text": [
      "[2023-09-02 11:38:02 +0300] [96172] [INFO] Starting gunicorn 21.2.0\n",
      "[2023-09-02 11:38:02 +0300] [96172] [INFO] Listening at: http://0.0.0.0:9999 (96172)\n",
      "[2023-09-02 11:38:02 +0300] [96172] [INFO] Using worker: sync\n",
      "[2023-09-02 11:38:02 +0300] [96173] [INFO] Booting worker with pid: 96173\n",
      "[2023-09-02 11:38:02 +0300] [96174] [INFO] Booting worker with pid: 96174\n",
      "[2023-09-02 11:38:02 +0300] [96175] [INFO] Booting worker with pid: 96175\n",
      "[2023-09-02 11:38:02 +0300] [96177] [INFO] Booting worker with pid: 96177\n"
     ]
    },
    {
     "name": "stderr",
     "output_type": "stream",
     "text": [
      "Downloading artifacts: 100%|██████████| 1/1 [00:00<00:00,  4.48it/s]\n",
      "2023/09/02 11:38:14 INFO mlflow.models.flavor_backend_registry: Selected backend for flavor 'python_function'\n",
      "Downloading artifacts: 100%|██████████| 6/6 [00:00<00:00,  7.48it/s]\n",
      "2023/09/02 11:38:15 INFO mlflow.pyfunc.backend: === Running command 'exec gunicorn --timeout=60 -b 127.0.0.1:1234 -w 1 ${GUNICORN_CMD_ARGS} -- mlflow.pyfunc.scoring_server.wsgi:app'\n",
      "[2023-09-02 11:38:15 +0300] [96198] [INFO] Starting gunicorn 21.2.0\n",
      "[2023-09-02 11:38:15 +0300] [96198] [INFO] Listening at: http://127.0.0.1:1234 (96198)\n",
      "[2023-09-02 11:38:15 +0300] [96198] [INFO] Using worker: sync\n",
      "[2023-09-02 11:38:15 +0300] [96199] [INFO] Booting worker with pid: 96199\n",
      "Downloading artifacts: 100%|██████████| 1/1 [00:00<00:00,  4.68it/s]\n",
      "Downloading artifacts: 100%|██████████| 1/1 [00:00<00:00,  3.84it/s]\n",
      "Downloading artifacts: 100%|██████████| 1/1 [00:00<00:00,  3.27it/s]\n"
     ]
    }
   ],
   "source": [
    "# get the best run \n",
    "best_run = mlflow.get_best_run_by_metric(\"NLP Experiments\", \"accuracy\")\n",
    "best_run_id = best_run[\"run_id\"]\n",
    "\n",
    "# serve the best model\n",
    "mlflow.run_inference_server(best_run_id)"
   ]
  }
 ],
 "metadata": {
  "kernelspec": {
   "display_name": ".venv",
   "language": "python",
   "name": "python3"
  },
  "language_info": {
   "codemirror_mode": {
    "name": "ipython",
    "version": 3
   },
   "file_extension": ".py",
   "mimetype": "text/x-python",
   "name": "python",
   "nbconvert_exporter": "python",
   "pygments_lexer": "ipython3",
   "version": "3.11.2"
  },
  "orig_nbformat": 4
 },
 "nbformat": 4,
 "nbformat_minor": 2
}
