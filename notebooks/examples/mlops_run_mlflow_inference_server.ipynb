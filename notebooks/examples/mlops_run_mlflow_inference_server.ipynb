{
 "cells": [
  {
   "cell_type": "code",
   "execution_count": 1,
   "metadata": {},
   "outputs": [],
   "source": [
    "from experiment.api import mlflow as mlflow_api"
   ]
  },
  {
   "cell_type": "code",
   "execution_count": 2,
   "metadata": {},
   "outputs": [
    {
     "name": "stderr",
     "output_type": "stream",
     "text": [
      "kill: usage: kill [-s sigspec | -n signum | -sigspec] pid | jobspec ... or kill -l [sigspec]\n"
     ]
    },
    {
     "name": "stdout",
     "output_type": "stream",
     "text": [
      "Run with ID dd9fd6dda5a343c5af6389310542485e has been permanently deleted.\n",
      "Run with ID 5dfb53d9b5e24aa9baec814e78e15049 has been permanently deleted.\n"
     ]
    }
   ],
   "source": [
    "mlflow = mlflow_api.MLFlow()\n",
    "\n",
    "# clean with garbage collection\n",
    "mlflow.clean(gc=True)"
   ]
  },
  {
   "cell_type": "code",
   "execution_count": 3,
   "metadata": {},
   "outputs": [],
   "source": [
    "# run the tracking server\n",
    "mlflow.run_tracking_server()"
   ]
  },
  {
   "cell_type": "code",
   "execution_count": 4,
   "metadata": {},
   "outputs": [
    {
     "name": "stderr",
     "output_type": "stream",
     "text": [
      "[2023-08-30 12:44:13 +0300] [94666] [INFO] Starting gunicorn 21.2.0\n",
      "[2023-08-30 12:44:13 +0300] [94666] [INFO] Listening at: http://0.0.0.0:9999 (94666)\n",
      "[2023-08-30 12:44:13 +0300] [94666] [INFO] Using worker: sync\n",
      "[2023-08-30 12:44:13 +0300] [94667] [INFO] Booting worker with pid: 94667\n",
      "[2023-08-30 12:44:13 +0300] [94668] [INFO] Booting worker with pid: 94668\n",
      "[2023-08-30 12:44:13 +0300] [94669] [INFO] Booting worker with pid: 94669\n",
      "[2023-08-30 12:44:14 +0300] [94670] [INFO] Booting worker with pid: 94670\n"
     ]
    },
    {
     "name": "stderr",
     "output_type": "stream",
     "text": [
      "Downloading artifacts:   0%|          | 0/1 [00:00<?, ?it/s]\n",
      "Traceback (most recent call last):\n",
      "  File \"/Users/gokasci/Desktop/reports/.venv/bin/mlflow\", line 8, in <module>\n",
      "    sys.exit(cli())\n",
      "             ^^^^^\n",
      "  File \"/Users/gokasci/Desktop/reports/.venv/lib/python3.11/site-packages/click/core.py\", line 1157, in __call__\n",
      "    return self.main(*args, **kwargs)\n",
      "           ^^^^^^^^^^^^^^^^^^^^^^^^^^\n",
      "  File \"/Users/gokasci/Desktop/reports/.venv/lib/python3.11/site-packages/click/core.py\", line 1078, in main\n",
      "    rv = self.invoke(ctx)\n",
      "         ^^^^^^^^^^^^^^^^\n",
      "  File \"/Users/gokasci/Desktop/reports/.venv/lib/python3.11/site-packages/click/core.py\", line 1688, in invoke\n",
      "    return _process_result(sub_ctx.command.invoke(sub_ctx))\n",
      "                           ^^^^^^^^^^^^^^^^^^^^^^^^^^^^^^^\n",
      "  File \"/Users/gokasci/Desktop/reports/.venv/lib/python3.11/site-packages/click/core.py\", line 1688, in invoke\n",
      "    return _process_result(sub_ctx.command.invoke(sub_ctx))\n",
      "                           ^^^^^^^^^^^^^^^^^^^^^^^^^^^^^^^\n",
      "  File \"/Users/gokasci/Desktop/reports/.venv/lib/python3.11/site-packages/click/core.py\", line 1434, in invoke\n",
      "    return ctx.invoke(self.callback, **ctx.params)\n",
      "           ^^^^^^^^^^^^^^^^^^^^^^^^^^^^^^^^^^^^^^^\n",
      "  File \"/Users/gokasci/Desktop/reports/.venv/lib/python3.11/site-packages/click/core.py\", line 783, in invoke\n",
      "    return __callback(*args, **kwargs)\n",
      "           ^^^^^^^^^^^^^^^^^^^^^^^^^^^\n",
      "  File \"/Users/gokasci/Desktop/reports/.venv/lib/python3.11/site-packages/mlflow/models/cli.py\", line 105, in serve\n",
      "    return get_flavor_backend(\n",
      "           ^^^^^^^^^^^^^^^^^^^\n",
      "  File \"/Users/gokasci/Desktop/reports/.venv/lib/python3.11/site-packages/mlflow/models/flavor_backend_registry.py\", line 45, in get_flavor_backend\n",
      "    local_path = _download_artifact_from_uri(\n",
      "                 ^^^^^^^^^^^^^^^^^^^^^^^^^^^^\n",
      "  File \"/Users/gokasci/Desktop/reports/.venv/lib/python3.11/site-packages/mlflow/tracking/artifact_utils.py\", line 100, in _download_artifact_from_uri\n",
      "    return get_artifact_repository(artifact_uri=root_uri).download_artifacts(\n",
      "           ^^^^^^^^^^^^^^^^^^^^^^^^^^^^^^^^^^^^^^^^^^^^^^^^^^^^^^^^^^^^^^^^^^\n",
      "  File \"/Users/gokasci/Desktop/reports/.venv/lib/python3.11/site-packages/mlflow/store/artifact/artifact_repo.py\", line 210, in download_artifacts\n",
      "    raise MlflowException(\n",
      "mlflow.exceptions.MlflowException: The following failures occurred while downloading one or more artifacts from s3://ml-experiment-reports/mlartifacts/c4ca80c995034e21ba9e9495866f4320/artifacts: {'MLmodel': \"ClientError('An error occurred (404) when calling the HeadObject operation: Not Found')\"}\n"
     ]
    }
   ],
   "source": [
    "# get the best run \n",
    "best_run = mlflow.get_best_run_by_metric(\"NLP Experiments\", \"accuracy\")\n",
    "best_run_id = best_run[\"run_id\"]\n",
    "\n",
    "# serve the best model\n",
    "mlflow.run_inference_server(best_run_id)"
   ]
  }
 ],
 "metadata": {
  "kernelspec": {
   "display_name": ".venv",
   "language": "python",
   "name": "python3"
  },
  "language_info": {
   "codemirror_mode": {
    "name": "ipython",
    "version": 3
   },
   "file_extension": ".py",
   "mimetype": "text/x-python",
   "name": "python",
   "nbconvert_exporter": "python",
   "pygments_lexer": "ipython3",
   "version": "3.11.2"
  },
  "orig_nbformat": 4
 },
 "nbformat": 4,
 "nbformat_minor": 2
}
