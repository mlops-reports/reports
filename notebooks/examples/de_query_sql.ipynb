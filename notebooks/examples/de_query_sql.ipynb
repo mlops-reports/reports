{
 "cells": [
  {
   "cell_type": "code",
   "execution_count": 1,
   "metadata": {},
   "outputs": [],
   "source": [
    "from experiment.utils import dbutils"
   ]
  },
  {
   "cell_type": "code",
   "execution_count": 2,
   "metadata": {},
   "outputs": [],
   "source": [
    "db = dbutils.DatabaseUtils()"
   ]
  },
  {
   "cell_type": "code",
   "execution_count": 3,
   "metadata": {},
   "outputs": [
    {
     "data": {
      "text/html": [
       "<div>\n",
       "<style scoped>\n",
       "    .dataframe tbody tr th:only-of-type {\n",
       "        vertical-align: middle;\n",
       "    }\n",
       "\n",
       "    .dataframe tbody tr th {\n",
       "        vertical-align: top;\n",
       "    }\n",
       "\n",
       "    .dataframe thead th {\n",
       "        text-align: right;\n",
       "    }\n",
       "</style>\n",
       "<table border=\"1\" class=\"dataframe\">\n",
       "  <thead>\n",
       "    <tr style=\"text-align: right;\">\n",
       "      <th></th>\n",
       "      <th>id</th>\n",
       "      <th>text</th>\n",
       "    </tr>\n",
       "  </thead>\n",
       "  <tbody>\n",
       "    <tr>\n",
       "      <th>0</th>\n",
       "      <td>235373</td>\n",
       "      <td>REPORT DATE: 27.09.2021    FILM NO: \\n\\nBrain ...</td>\n",
       "    </tr>\n",
       "    <tr>\n",
       "      <th>1</th>\n",
       "      <td>235415</td>\n",
       "      <td>REPORT DATE: 09.08.2021     FILM NUMBER:\\n\\nBR...</td>\n",
       "    </tr>\n",
       "    <tr>\n",
       "      <th>2</th>\n",
       "      <td>235568</td>\n",
       "      <td>The evaluated findings should be compared with...</td>\n",
       "    </tr>\n",
       "    <tr>\n",
       "      <th>3</th>\n",
       "      <td>235446</td>\n",
       "      <td>REPORT DATE: 02.06.2022    FILM NO:\\n\\nIn the ...</td>\n",
       "    </tr>\n",
       "    <tr>\n",
       "      <th>4</th>\n",
       "      <td>235569</td>\n",
       "      <td>The results were similar to a Brain MRI perfor...</td>\n",
       "    </tr>\n",
       "  </tbody>\n",
       "</table>\n",
       "</div>"
      ],
      "text/plain": [
       "       id                                               text\n",
       "0  235373  REPORT DATE: 27.09.2021    FILM NO: \\n\\nBrain ...\n",
       "1  235415  REPORT DATE: 09.08.2021     FILM NUMBER:\\n\\nBR...\n",
       "2  235568  The evaluated findings should be compared with...\n",
       "3  235446  REPORT DATE: 02.06.2022    FILM NO:\\n\\nIn the ...\n",
       "4  235569  The results were similar to a Brain MRI perfor..."
      ]
     },
     "execution_count": 3,
     "metadata": {},
     "output_type": "execute_result"
    }
   ],
   "source": [
    "# task list\n",
    "selected_tasks: list = [224738, 221734]\n",
    "\n",
    "# default DWH\n",
    "query = f\"SELECT id, data ->> 'text' as text FROM annotation.tasks LIMIT 10\"\n",
    "\n",
    "# retrieve values from the database\n",
    "values = db.read_sql_query(query, output_format=\"dataframe\")\n",
    "values.head()"
   ]
  },
  {
   "cell_type": "code",
   "execution_count": 4,
   "metadata": {},
   "outputs": [
    {
     "data": {
      "text/plain": [
       "(10, 2)"
      ]
     },
     "execution_count": 4,
     "metadata": {},
     "output_type": "execute_result"
    }
   ],
   "source": [
    "values.shape"
   ]
  },
  {
   "cell_type": "code",
   "execution_count": 5,
   "metadata": {},
   "outputs": [
    {
     "data": {
      "text/plain": [
       "2296"
      ]
     },
     "execution_count": 5,
     "metadata": {},
     "output_type": "execute_result"
    }
   ],
   "source": [
    "# retrieve table size\n",
    "values = db.get_table_size_by_table_name(\n",
    "    table=\"tasks\", schema=\"annotation\", database=\"report_labeling\"\n",
    ")\n",
    "values"
   ]
  },
  {
   "cell_type": "code",
   "execution_count": 6,
   "metadata": {},
   "outputs": [
    {
     "data": {
      "text/html": [
       "<div>\n",
       "<style scoped>\n",
       "    .dataframe tbody tr th:only-of-type {\n",
       "        vertical-align: middle;\n",
       "    }\n",
       "\n",
       "    .dataframe tbody tr th {\n",
       "        vertical-align: top;\n",
       "    }\n",
       "\n",
       "    .dataframe thead th {\n",
       "        text-align: right;\n",
       "    }\n",
       "</style>\n",
       "<table border=\"1\" class=\"dataframe\">\n",
       "  <thead>\n",
       "    <tr style=\"text-align: right;\">\n",
       "      <th></th>\n",
       "      <th>id</th>\n",
       "      <th>?column?</th>\n",
       "    </tr>\n",
       "  </thead>\n",
       "  <tbody>\n",
       "    <tr>\n",
       "      <th>0</th>\n",
       "      <td>235373</td>\n",
       "      <td>REPORT DATE: 27.09.2021    FILM NO: \\n\\nBrain ...</td>\n",
       "    </tr>\n",
       "    <tr>\n",
       "      <th>1</th>\n",
       "      <td>235415</td>\n",
       "      <td>REPORT DATE: 09.08.2021     FILM NUMBER:\\n\\nBR...</td>\n",
       "    </tr>\n",
       "    <tr>\n",
       "      <th>2</th>\n",
       "      <td>235568</td>\n",
       "      <td>The evaluated findings should be compared with...</td>\n",
       "    </tr>\n",
       "    <tr>\n",
       "      <th>3</th>\n",
       "      <td>235446</td>\n",
       "      <td>REPORT DATE: 02.06.2022    FILM NO:\\n\\nIn the ...</td>\n",
       "    </tr>\n",
       "    <tr>\n",
       "      <th>4</th>\n",
       "      <td>235569</td>\n",
       "      <td>The results were similar to a Brain MRI perfor...</td>\n",
       "    </tr>\n",
       "    <tr>\n",
       "      <th>...</th>\n",
       "      <td>...</td>\n",
       "      <td>...</td>\n",
       "    </tr>\n",
       "    <tr>\n",
       "      <th>2291</th>\n",
       "      <td>235471</td>\n",
       "      <td>REPORT DATE: 27/07/2022   FILM NO: 12723982\\n\\...</td>\n",
       "    </tr>\n",
       "    <tr>\n",
       "      <th>2292</th>\n",
       "      <td>235472</td>\n",
       "      <td>REPORT DATE: 04/01/2022            CASE NUMBER...</td>\n",
       "    </tr>\n",
       "    <tr>\n",
       "      <th>2293</th>\n",
       "      <td>235474</td>\n",
       "      <td>REPORT DATE: 18/04/2023  FILM NO:\\n\\nBRAIN ANG...</td>\n",
       "    </tr>\n",
       "    <tr>\n",
       "      <th>2294</th>\n",
       "      <td>235530</td>\n",
       "      <td>Date of the Report: 31/03/2022   Film Number: ...</td>\n",
       "    </tr>\n",
       "    <tr>\n",
       "      <th>2295</th>\n",
       "      <td>235475</td>\n",
       "      <td>REPORT DATE: 26.11.2021    FILM NO: 12386441\\n...</td>\n",
       "    </tr>\n",
       "  </tbody>\n",
       "</table>\n",
       "<p>2296 rows × 2 columns</p>\n",
       "</div>"
      ],
      "text/plain": [
       "          id                                           ?column?\n",
       "0     235373  REPORT DATE: 27.09.2021    FILM NO: \\n\\nBrain ...\n",
       "1     235415  REPORT DATE: 09.08.2021     FILM NUMBER:\\n\\nBR...\n",
       "2     235568  The evaluated findings should be compared with...\n",
       "3     235446  REPORT DATE: 02.06.2022    FILM NO:\\n\\nIn the ...\n",
       "4     235569  The results were similar to a Brain MRI perfor...\n",
       "...      ...                                                ...\n",
       "2291  235471  REPORT DATE: 27/07/2022   FILM NO: 12723982\\n\\...\n",
       "2292  235472  REPORT DATE: 04/01/2022            CASE NUMBER...\n",
       "2293  235474  REPORT DATE: 18/04/2023  FILM NO:\\n\\nBRAIN ANG...\n",
       "2294  235530  Date of the Report: 31/03/2022   Film Number: ...\n",
       "2295  235475  REPORT DATE: 26.11.2021    FILM NO: 12386441\\n...\n",
       "\n",
       "[2296 rows x 2 columns]"
      ]
     },
     "execution_count": 6,
     "metadata": {},
     "output_type": "execute_result"
    }
   ],
   "source": [
    "# select table by columns\n",
    "columns = [\"id\", \"data ->> 'text'\"]\n",
    "values = db.select_table_by_columns(\n",
    "    columns, table=\"tasks\", schema=\"annotation\", database=\"report_labeling\"\n",
    ")\n",
    "values"
   ]
  },
  {
   "cell_type": "code",
   "execution_count": 7,
   "metadata": {},
   "outputs": [
    {
     "data": {
      "text/html": [
       "<div>\n",
       "<style scoped>\n",
       "    .dataframe tbody tr th:only-of-type {\n",
       "        vertical-align: middle;\n",
       "    }\n",
       "\n",
       "    .dataframe tbody tr th {\n",
       "        vertical-align: top;\n",
       "    }\n",
       "\n",
       "    .dataframe thead th {\n",
       "        text-align: right;\n",
       "    }\n",
       "</style>\n",
       "<table border=\"1\" class=\"dataframe\">\n",
       "  <thead>\n",
       "    <tr style=\"text-align: right;\">\n",
       "      <th></th>\n",
       "      <th>run_uuid</th>\n",
       "      <th>name</th>\n",
       "      <th>source_type</th>\n",
       "      <th>source_name</th>\n",
       "      <th>entry_point_name</th>\n",
       "      <th>user_id</th>\n",
       "      <th>status</th>\n",
       "      <th>start_time</th>\n",
       "      <th>end_time</th>\n",
       "      <th>source_version</th>\n",
       "      <th>lifecycle_stage</th>\n",
       "      <th>artifact_uri</th>\n",
       "      <th>experiment_id</th>\n",
       "      <th>deleted_time</th>\n",
       "    </tr>\n",
       "  </thead>\n",
       "  <tbody>\n",
       "    <tr>\n",
       "      <th>0</th>\n",
       "      <td>0608b90ca8d7449c893bb4da540ea382</td>\n",
       "      <td>RNN: first_run</td>\n",
       "      <td>UNKNOWN</td>\n",
       "      <td></td>\n",
       "      <td></td>\n",
       "      <td>Göktuğ Aşcı</td>\n",
       "      <td>FINISHED</td>\n",
       "      <td>1693643690648</td>\n",
       "      <td>1693643717180</td>\n",
       "      <td></td>\n",
       "      <td>active</td>\n",
       "      <td>s3://ml-experiment-reports/mlartifacts/0608b90...</td>\n",
       "      <td>1</td>\n",
       "      <td>None</td>\n",
       "    </tr>\n",
       "  </tbody>\n",
       "</table>\n",
       "</div>"
      ],
      "text/plain": [
       "                           run_uuid            name source_type source_name  \\\n",
       "0  0608b90ca8d7449c893bb4da540ea382  RNN: first_run     UNKNOWN               \n",
       "\n",
       "  entry_point_name      user_id    status     start_time       end_time  \\\n",
       "0                   Göktuğ Aşcı  FINISHED  1693643690648  1693643717180   \n",
       "\n",
       "  source_version lifecycle_stage  \\\n",
       "0                         active   \n",
       "\n",
       "                                        artifact_uri  experiment_id  \\\n",
       "0  s3://ml-experiment-reports/mlartifacts/0608b90...              1   \n",
       "\n",
       "  deleted_time  \n",
       "0         None  "
      ]
     },
     "execution_count": 7,
     "metadata": {},
     "output_type": "execute_result"
    }
   ],
   "source": [
    "# filter\n",
    "query = \"\"\"\n",
    "            SELECT * from runs\n",
    "        \"\"\"\n",
    "\n",
    "# get values from the database\n",
    "values = db.read_sql_query(query, db_name=\"ml_experiment\")\n",
    "values.head()"
   ]
  }
 ],
 "metadata": {
  "kernelspec": {
   "display_name": "venv",
   "language": "python",
   "name": "python3"
  },
  "language_info": {
   "codemirror_mode": {
    "name": "ipython",
    "version": 3
   },
   "file_extension": ".py",
   "mimetype": "text/x-python",
   "name": "python",
   "nbconvert_exporter": "python",
   "pygments_lexer": "ipython3",
   "version": "3.11.6"
  },
  "orig_nbformat": 4,
  "vscode": {
   "interpreter": {
    "hash": "7a11b5806063588ffa5cb6957d903c4bc8dba24b766ad1a742e49e70893a0fa1"
   }
  }
 },
 "nbformat": 4,
 "nbformat_minor": 2
}
