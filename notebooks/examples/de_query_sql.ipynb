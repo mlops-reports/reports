{
 "cells": [
  {
   "cell_type": "code",
   "execution_count": 1,
   "metadata": {},
   "outputs": [],
   "source": [
    "from experiment.utils import dbutils"
   ]
  },
  {
   "cell_type": "code",
   "execution_count": 2,
   "metadata": {},
   "outputs": [],
   "source": [
    "db = dbutils.DatabaseUtils()"
   ]
  },
  {
   "cell_type": "code",
   "execution_count": 3,
   "metadata": {},
   "outputs": [
    {
     "data": {
      "text/html": [
       "<div>\n",
       "<style scoped>\n",
       "    .dataframe tbody tr th:only-of-type {\n",
       "        vertical-align: middle;\n",
       "    }\n",
       "\n",
       "    .dataframe tbody tr th {\n",
       "        vertical-align: top;\n",
       "    }\n",
       "\n",
       "    .dataframe thead th {\n",
       "        text-align: right;\n",
       "    }\n",
       "</style>\n",
       "<table border=\"1\" class=\"dataframe\">\n",
       "  <thead>\n",
       "    <tr style=\"text-align: right;\">\n",
       "      <th></th>\n",
       "      <th>id</th>\n",
       "      <th>text</th>\n",
       "    </tr>\n",
       "  </thead>\n",
       "  <tbody>\n",
       "    <tr>\n",
       "      <th>0</th>\n",
       "      <td>232247</td>\n",
       "      <td>Beyin   BT tetkiki   Kafa kaidesi ve kalvarial...</td>\n",
       "    </tr>\n",
       "    <tr>\n",
       "      <th>1</th>\n",
       "      <td>233332</td>\n",
       "      <td>Beyin BT   Kafa tabanı ve verteks arasından el...</td>\n",
       "    </tr>\n",
       "    <tr>\n",
       "      <th>2</th>\n",
       "      <td>226567</td>\n",
       "      <td>Beyin BT   Kafa tabanı ve verteks arasından el...</td>\n",
       "    </tr>\n",
       "    <tr>\n",
       "      <th>3</th>\n",
       "      <td>227892</td>\n",
       "      <td>Kafa tabanı ve verteks arasından elde olunan k...</td>\n",
       "    </tr>\n",
       "    <tr>\n",
       "      <th>4</th>\n",
       "      <td>225502</td>\n",
       "      <td>BT, BEYIN, KONTRASTSIZ  Kafa tabanı ve verteks...</td>\n",
       "    </tr>\n",
       "  </tbody>\n",
       "</table>\n",
       "</div>"
      ],
      "text/plain": [
       "       id                                               text\n",
       "0  232247  Beyin   BT tetkiki   Kafa kaidesi ve kalvarial...\n",
       "1  233332  Beyin BT   Kafa tabanı ve verteks arasından el...\n",
       "2  226567  Beyin BT   Kafa tabanı ve verteks arasından el...\n",
       "3  227892  Kafa tabanı ve verteks arasından elde olunan k...\n",
       "4  225502  BT, BEYIN, KONTRASTSIZ  Kafa tabanı ve verteks..."
      ]
     },
     "execution_count": 3,
     "metadata": {},
     "output_type": "execute_result"
    }
   ],
   "source": [
    "# task list\n",
    "selected_tasks: list = [224738, 221734]\n",
    "\n",
    "# default DWH\n",
    "query = f\"SELECT id, data ->> 'text' as text FROM task LIMIT 10\"\n",
    "\n",
    "# retrieve values from the database\n",
    "values = db.read_sql_query(query, output_format=\"dataframe\")\n",
    "values.head()"
   ]
  },
  {
   "cell_type": "code",
   "execution_count": 4,
   "metadata": {},
   "outputs": [
    {
     "data": {
      "text/plain": [
       "(10, 2)"
      ]
     },
     "execution_count": 4,
     "metadata": {},
     "output_type": "execute_result"
    }
   ],
   "source": [
    "values.shape"
   ]
  },
  {
   "cell_type": "code",
   "execution_count": null,
   "metadata": {},
   "outputs": [],
   "source": [
    "# filter\n",
    "query = \"\"\"\n",
    "            SELECT * from runs\n",
    "        \"\"\"\n",
    "\n",
    "# get values from the database\n",
    "values = db.read_sql_query(query, db_name=\"ml_experiment\")\n",
    "values.head()"
   ]
  }
 ],
 "metadata": {
  "kernelspec": {
   "display_name": "venv",
   "language": "python",
   "name": "python3"
  },
  "language_info": {
   "codemirror_mode": {
    "name": "ipython",
    "version": 3
   },
   "file_extension": ".py",
   "mimetype": "text/x-python",
   "name": "python",
   "nbconvert_exporter": "python",
   "pygments_lexer": "ipython3",
   "version": "3.11.2"
  },
  "orig_nbformat": 4,
  "vscode": {
   "interpreter": {
    "hash": "7a11b5806063588ffa5cb6957d903c4bc8dba24b766ad1a742e49e70893a0fa1"
   }
  }
 },
 "nbformat": 4,
 "nbformat_minor": 2
}
