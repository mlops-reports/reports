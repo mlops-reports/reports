{
 "cells": [
  {
   "cell_type": "code",
   "execution_count": 1,
   "metadata": {},
   "outputs": [],
   "source": [
    "from experiment.utils import dbutils"
   ]
  },
  {
   "cell_type": "code",
   "execution_count": 2,
   "metadata": {},
   "outputs": [],
   "source": [
    "db = dbutils.DatabaseUtils()"
   ]
  },
  {
   "cell_type": "code",
   "execution_count": 3,
   "metadata": {},
   "outputs": [
    {
     "data": {
      "text/html": [
       "<div>\n",
       "<style scoped>\n",
       "    .dataframe tbody tr th:only-of-type {\n",
       "        vertical-align: middle;\n",
       "    }\n",
       "\n",
       "    .dataframe tbody tr th {\n",
       "        vertical-align: top;\n",
       "    }\n",
       "\n",
       "    .dataframe thead th {\n",
       "        text-align: right;\n",
       "    }\n",
       "</style>\n",
       "<table border=\"1\" class=\"dataframe\">\n",
       "  <thead>\n",
       "    <tr style=\"text-align: right;\">\n",
       "      <th></th>\n",
       "      <th>id</th>\n",
       "      <th>text</th>\n",
       "      <th>study_no</th>\n",
       "      <th>patient_no</th>\n",
       "      <th>protocol_no</th>\n",
       "      <th>report_date</th>\n",
       "      <th>report_count</th>\n",
       "    </tr>\n",
       "  </thead>\n",
       "  <tbody>\n",
       "    <tr>\n",
       "      <th>0</th>\n",
       "      <td>185015</td>\n",
       "      <td>BEYIN  BT TETKİKİ    prt no 9644   Kafa tabanı...</td>\n",
       "      <td></td>\n",
       "      <td>2008251410</td>\n",
       "      <td>22582619</td>\n",
       "      <td>2010-05-24</td>\n",
       "      <td>1</td>\n",
       "    </tr>\n",
       "    <tr>\n",
       "      <th>1</th>\n",
       "      <td>185017</td>\n",
       "      <td>Kafa tabanı ve verteks arasından elde olunan k...</td>\n",
       "      <td>12828265.0</td>\n",
       "      <td>2007066964</td>\n",
       "      <td>23076972</td>\n",
       "      <td>2020-10-06</td>\n",
       "      <td>1</td>\n",
       "    </tr>\n",
       "    <tr>\n",
       "      <th>2</th>\n",
       "      <td>185018</td>\n",
       "      <td>Kafa tabanı ve verteks arasından elde olunan k...</td>\n",
       "      <td>12828358.0</td>\n",
       "      <td>2008043690</td>\n",
       "      <td>23076971</td>\n",
       "      <td>2020-10-06</td>\n",
       "      <td>1</td>\n",
       "    </tr>\n",
       "    <tr>\n",
       "      <th>3</th>\n",
       "      <td>185019</td>\n",
       "      <td>KONTRASTSIZ BEYİN BT   İnfratentorial kesitler...</td>\n",
       "      <td>12841009.0</td>\n",
       "      <td>2008037641</td>\n",
       "      <td>23098996</td>\n",
       "      <td>2020-10-13</td>\n",
       "      <td>1</td>\n",
       "    </tr>\n",
       "    <tr>\n",
       "      <th>4</th>\n",
       "      <td>185020</td>\n",
       "      <td>KONTRASTSIZ BEYİN BT   İnfratentorial kesitler...</td>\n",
       "      <td>12840846.0</td>\n",
       "      <td>2008696775</td>\n",
       "      <td>23098733</td>\n",
       "      <td>2020-10-13</td>\n",
       "      <td>1</td>\n",
       "    </tr>\n",
       "  </tbody>\n",
       "</table>\n",
       "</div>"
      ],
      "text/plain": [
       "       id                                               text    study_no  \\\n",
       "0  185015  BEYIN  BT TETKİKİ    prt no 9644   Kafa tabanı...               \n",
       "1  185017  Kafa tabanı ve verteks arasından elde olunan k...  12828265.0   \n",
       "2  185018  Kafa tabanı ve verteks arasından elde olunan k...  12828358.0   \n",
       "3  185019  KONTRASTSIZ BEYİN BT   İnfratentorial kesitler...  12841009.0   \n",
       "4  185020  KONTRASTSIZ BEYİN BT   İnfratentorial kesitler...  12840846.0   \n",
       "\n",
       "   patient_no protocol_no report_date report_count  \n",
       "0  2008251410    22582619  2010-05-24            1  \n",
       "1  2007066964    23076972  2020-10-06            1  \n",
       "2  2008043690    23076971  2020-10-06            1  \n",
       "3  2008037641    23098996  2020-10-13            1  \n",
       "4  2008696775    23098733  2020-10-13            1  "
      ]
     },
     "execution_count": 3,
     "metadata": {},
     "output_type": "execute_result"
    }
   ],
   "source": [
    "# filter\n",
    "query = \"\"\"\n",
    "            --SELECT * FROM annotation.choices\n",
    "            --SELECT * FROM annotation.labels\n",
    "            SELECT id, \n",
    "                data ->> 'text' as text, \n",
    "                data ->> 'study_no' as study_no,\n",
    "                data ->> 'patient_no' as patient_no,\n",
    "                data ->> 'protocol_no' as protocol_no,\n",
    "                data ->> 'report_date' as report_date,\n",
    "                data ->> 'report_count' as report_count  \n",
    "            FROM task\n",
    "            WHERE is_labeled = TRUE\n",
    "            ORDER BY report_count DESC\n",
    "        \"\"\"\n",
    "\n",
    "# get values from the database\n",
    "values = db.read_sql_query(query)\n",
    "values.head()"
   ]
  }
 ],
 "metadata": {
  "kernelspec": {
   "display_name": ".venv",
   "language": "python",
   "name": "python3"
  },
  "language_info": {
   "codemirror_mode": {
    "name": "ipython",
    "version": 3
   },
   "file_extension": ".py",
   "mimetype": "text/x-python",
   "name": "python",
   "nbconvert_exporter": "python",
   "pygments_lexer": "ipython3",
   "version": "3.11.2"
  },
  "orig_nbformat": 4
 },
 "nbformat": 4,
 "nbformat_minor": 2
}
