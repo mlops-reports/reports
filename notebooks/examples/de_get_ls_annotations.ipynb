{
 "cells": [
  {
   "cell_type": "code",
   "execution_count": null,
   "metadata": {},
   "outputs": [],
   "source": [
    "# import pandas as pd\n",
    "# import json\n",
    "# import pathlib\n",
    "\n",
    "# from experiment.utils import transformation\n",
    "import experiment.utils.query as query_utils"
   ]
  },
  {
   "cell_type": "code",
   "execution_count": null,
   "metadata": {},
   "outputs": [],
   "source": [
    "# filter\n",
    "query = \"\"\"\n",
    "            --SELECT * FROM annotation.choices\n",
    "            --SELECT * FROM annotation.labels\n",
    "            SELECT id, \n",
    "                data ->> 'text' as text, \n",
    "                data ->> 'study_no' as study_no,\n",
    "                data ->> 'patient_no' as patient_no,\n",
    "                data ->> 'protocol_no' as protocol_no,\n",
    "                data ->> 'report_date' as report_date,\n",
    "                data ->> 'report_count' as report_count  \n",
    "            FROM task\n",
    "            WHERE is_labeled = TRUE\n",
    "            ORDER BY report_count DESC\n",
    "        \"\"\"\n",
    "\n",
    "# get values from the database\n",
    "values = query_utils.get_select_values(query)\n",
    "values.head()"
   ]
  }
 ],
 "metadata": {
  "kernelspec": {
   "display_name": ".venv",
   "language": "python",
   "name": "python3"
  },
  "language_info": {
   "codemirror_mode": {
    "name": "ipython",
    "version": 3
   },
   "file_extension": ".py",
   "mimetype": "text/x-python",
   "name": "python",
   "nbconvert_exporter": "python",
   "pygments_lexer": "ipython3",
   "version": "3.11.2"
  },
  "orig_nbformat": 4
 },
 "nbformat": 4,
 "nbformat_minor": 2
}
