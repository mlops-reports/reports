{
 "cells": [
  {
   "cell_type": "code",
   "execution_count": 1,
   "metadata": {},
   "outputs": [],
   "source": [
    "from experiment.api import mlflow as mlflow_api"
   ]
  },
  {
   "cell_type": "code",
   "execution_count": 2,
   "metadata": {},
   "outputs": [
    {
     "name": "stderr",
     "output_type": "stream",
     "text": [
      "kill: usage: kill [-s sigspec | -n signum | -sigspec] pid | jobspec ... or kill -l [sigspec]\n"
     ]
    }
   ],
   "source": [
    "mlflow = mlflow_api.MLFlow()\n",
    "\n",
    "# clean the environment without garbage collection\n",
    "mlflow.clean()"
   ]
  },
  {
   "cell_type": "code",
   "execution_count": 3,
   "metadata": {},
   "outputs": [
    {
     "name": "stderr",
     "output_type": "stream",
     "text": [
      "[2023-08-30 13:53:36 +0300] [98041] [INFO] Starting gunicorn 21.2.0\n",
      "[2023-08-30 13:53:36 +0300] [98041] [INFO] Listening at: http://0.0.0.0:9999 (98041)\n",
      "[2023-08-30 13:53:36 +0300] [98041] [INFO] Using worker: sync\n",
      "[2023-08-30 13:53:36 +0300] [98042] [INFO] Booting worker with pid: 98042\n",
      "[2023-08-30 13:53:36 +0300] [98043] [INFO] Booting worker with pid: 98043\n",
      "[2023-08-30 13:53:36 +0300] [98044] [INFO] Booting worker with pid: 98044\n",
      "[2023-08-30 13:53:36 +0300] [98045] [INFO] Booting worker with pid: 98045\n",
      "[2023-08-30 13:54:52 +0300] [98041] [INFO] Handling signal: term\n",
      "[2023-08-30 13:54:52 +0300] [98042] [INFO] Worker exiting (pid: 98042)\n",
      "[2023-08-30 13:54:52 +0300] [98044] [INFO] Worker exiting (pid: 98044)\n",
      "[2023-08-30 13:54:52 +0300] [98043] [INFO] Worker exiting (pid: 98043)\n",
      "[2023-08-30 13:54:52 +0300] [98045] [INFO] Worker exiting (pid: 98045)\n",
      "[2023-08-30 13:54:52 +0300] [98041] [INFO] Shutting down: Master\n"
     ]
    }
   ],
   "source": [
    "# run the tracking server\n",
    "mlflow.run_tracking_server()"
   ]
  }
 ],
 "metadata": {
  "kernelspec": {
   "display_name": ".venv",
   "language": "python",
   "name": "python3"
  },
  "language_info": {
   "codemirror_mode": {
    "name": "ipython",
    "version": 3
   },
   "file_extension": ".py",
   "mimetype": "text/x-python",
   "name": "python",
   "nbconvert_exporter": "python",
   "pygments_lexer": "ipython3",
   "version": "3.11.2"
  },
  "orig_nbformat": 4
 },
 "nbformat": 4,
 "nbformat_minor": 2
}
