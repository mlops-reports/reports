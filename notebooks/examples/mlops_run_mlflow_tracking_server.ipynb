{
 "cells": [
  {
   "cell_type": "code",
   "execution_count": 1,
   "metadata": {},
   "outputs": [],
   "source": [
    "from experiment.api import mlflow as mlflow_api"
   ]
  },
  {
   "cell_type": "code",
   "execution_count": 2,
   "metadata": {},
   "outputs": [
    {
     "name": "stderr",
     "output_type": "stream",
     "text": [
      "kill: usage: kill [-s sigspec | -n signum | -sigspec] pid | jobspec ... or kill -l [sigspec]\n"
     ]
    }
   ],
   "source": [
    "mlflow = mlflow_api.MLFlow()\n",
    "\n",
    "# clean the environment without garbage collection\n",
    "mlflow.clean()"
   ]
  },
  {
   "cell_type": "code",
   "execution_count": 3,
   "metadata": {},
   "outputs": [
    {
     "name": "stderr",
     "output_type": "stream",
     "text": [
      "[2023-08-30 12:43:22 +0300] [94621] [INFO] Starting gunicorn 21.2.0\n",
      "[2023-08-30 12:43:22 +0300] [94621] [INFO] Listening at: http://0.0.0.0:9999 (94621)\n",
      "[2023-08-30 12:43:22 +0300] [94621] [INFO] Using worker: sync\n",
      "[2023-08-30 12:43:22 +0300] [94622] [INFO] Booting worker with pid: 94622\n",
      "[2023-08-30 12:43:22 +0300] [94623] [INFO] Booting worker with pid: 94623\n",
      "[2023-08-30 12:43:22 +0300] [94624] [INFO] Booting worker with pid: 94624\n",
      "[2023-08-30 12:43:22 +0300] [94625] [INFO] Booting worker with pid: 94625\n",
      "[2023-08-30 12:43:51 +0300] [94621] [INFO] Handling signal: term\n",
      "[2023-08-30 12:43:51 +0300] [94622] [INFO] Worker exiting (pid: 94622)\n",
      "[2023-08-30 12:43:51 +0300] [94623] [INFO] Worker exiting (pid: 94623)\n",
      "[2023-08-30 12:43:51 +0300] [94624] [INFO] Worker exiting (pid: 94624)\n",
      "[2023-08-30 12:43:51 +0300] [94625] [INFO] Worker exiting (pid: 94625)\n",
      "[2023-08-30 12:43:51 +0300] [94621] [INFO] Shutting down: Master\n"
     ]
    }
   ],
   "source": [
    "# run the tracking server\n",
    "mlflow.run_tracking_server()"
   ]
  }
 ],
 "metadata": {
  "kernelspec": {
   "display_name": ".venv",
   "language": "python",
   "name": "python3"
  },
  "language_info": {
   "codemirror_mode": {
    "name": "ipython",
    "version": 3
   },
   "file_extension": ".py",
   "mimetype": "text/x-python",
   "name": "python",
   "nbconvert_exporter": "python",
   "pygments_lexer": "ipython3",
   "version": "3.11.2"
  },
  "orig_nbformat": 4
 },
 "nbformat": 4,
 "nbformat_minor": 2
}
