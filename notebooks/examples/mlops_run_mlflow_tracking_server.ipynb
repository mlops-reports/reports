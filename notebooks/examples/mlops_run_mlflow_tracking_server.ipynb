{
 "cells": [
  {
   "cell_type": "code",
   "execution_count": 1,
   "metadata": {},
   "outputs": [],
   "source": [
    "from experiment.api import mlflow as mlflow_api"
   ]
  },
  {
   "cell_type": "code",
   "execution_count": 4,
   "metadata": {},
   "outputs": [
    {
     "name": "stderr",
     "output_type": "stream",
     "text": [
      "[2023-10-23 20:45:17 +0200] [44986] [INFO] Handling signal: term\n",
      "[2023-10-23 20:45:17 +0200] [44990] [INFO] Worker exiting (pid: 44990)\n",
      "[2023-10-23 20:45:17 +0200] [44987] [INFO] Worker exiting (pid: 44987)\n",
      "[2023-10-23 20:45:17 +0200] [44989] [INFO] Worker exiting (pid: 44989)\n",
      "[2023-10-23 20:45:17 +0200] [44988] [INFO] Worker exiting (pid: 44988)\n",
      "kill: usage: kill [-s sigspec | -n signum | -sigspec] pid | jobspec ... or kill -l [sigspec]\n"
     ]
    },
    {
     "name": "stderr",
     "output_type": "stream",
     "text": [
      "[2023-10-23 20:45:18 +0200] [44986] [INFO] Shutting down: Master\n"
     ]
    }
   ],
   "source": [
    "mlflow = mlflow_api.MLFlow()\n",
    "\n",
    "# clean the environment without garbage collection\n",
    "mlflow.clean()"
   ]
  },
  {
   "cell_type": "code",
   "execution_count": 3,
   "metadata": {},
   "outputs": [
    {
     "name": "stderr",
     "output_type": "stream",
     "text": [
      "[2023-10-23 20:43:44 +0200] [44986] [INFO] Starting gunicorn 21.2.0\n",
      "[2023-10-23 20:43:44 +0200] [44986] [INFO] Listening at: http://0.0.0.0:9999 (44986)\n",
      "[2023-10-23 20:43:44 +0200] [44986] [INFO] Using worker: sync\n",
      "[2023-10-23 20:43:44 +0200] [44987] [INFO] Booting worker with pid: 44987\n",
      "[2023-10-23 20:43:44 +0200] [44988] [INFO] Booting worker with pid: 44988\n",
      "[2023-10-23 20:43:44 +0200] [44989] [INFO] Booting worker with pid: 44989\n",
      "[2023-10-23 20:43:45 +0200] [44990] [INFO] Booting worker with pid: 44990\n"
     ]
    }
   ],
   "source": [
    "# run the tracking server\n",
    "mlflow.run_tracking_server()"
   ]
  }
 ],
 "metadata": {
  "kernelspec": {
   "display_name": ".venv",
   "language": "python",
   "name": "python3"
  },
  "language_info": {
   "codemirror_mode": {
    "name": "ipython",
    "version": 3
   },
   "file_extension": ".py",
   "mimetype": "text/x-python",
   "name": "python",
   "nbconvert_exporter": "python",
   "pygments_lexer": "ipython3",
   "version": "3.11.6"
  },
  "orig_nbformat": 4
 },
 "nbformat": 4,
 "nbformat_minor": 2
}
