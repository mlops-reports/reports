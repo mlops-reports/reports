{
 "cells": [
  {
   "cell_type": "code",
   "execution_count": 1,
   "metadata": {},
   "outputs": [],
   "source": [
    "import torch\n",
    "import torch.nn as nn\n",
    "import torch.optim as optim\n",
    "import torchvision\n",
    "import torchvision.transforms as transforms\n",
    "\n",
    "from experiment.api import mlflow as mlflow_api"
   ]
  },
  {
   "cell_type": "code",
   "execution_count": 2,
   "metadata": {},
   "outputs": [],
   "source": [
    "LOG_MODEL_RUN = True\n",
    "\n",
    "mlflow = mlflow_api.MLFlow()"
   ]
  },
  {
   "cell_type": "code",
   "execution_count": 3,
   "metadata": {},
   "outputs": [
    {
     "name": "stdout",
     "output_type": "stream",
     "text": [
      "Epoch [1/2], Loss: 0.3855\n",
      "Epoch [2/2], Loss: 0.1481\n",
      "Training finished.\n"
     ]
    }
   ],
   "source": [
    "# Hyperparameters\n",
    "model_config = {\"batch_size\": 64, \"learning_rate\": 0.001, \"num_epochs\": 2}\n",
    "\n",
    "# Define a simple feedforward neural network using nn.Sequential\n",
    "model = nn.Sequential(\n",
    "    nn.Linear(28 * 28, 128),  # Input layer (28x28=784 input features, 128 hidden units)\n",
    "    nn.ReLU(),  # ReLU activation function\n",
    "    nn.Linear(128, 64),  # Hidden layer (128 input features, 64 hidden units)\n",
    "    nn.ReLU(),  # ReLU activation function\n",
    "    nn.Linear(\n",
    "        64, 10\n",
    "    ),  # Output layer (64 input features, 10 output units for 10 classes)\n",
    ")\n",
    "\n",
    "# Load MNIST dataset and apply transformations\n",
    "transform = transforms.Compose(\n",
    "    [transforms.ToTensor(), transforms.Normalize((0.5,), (0.5,))]\n",
    ")\n",
    "train_dataset = torchvision.datasets.MNIST(\n",
    "    root=\"./data\", train=True, transform=transform, download=True\n",
    ")\n",
    "train_loader = torch.utils.data.DataLoader(\n",
    "    dataset=train_dataset, batch_size=model_config[\"batch_size\"], shuffle=True\n",
    ")\n",
    "\n",
    "# Loss function and optimizer\n",
    "criterion = nn.CrossEntropyLoss()\n",
    "optimizer = optim.Adam(model.parameters(), lr=model_config[\"learning_rate\"])\n",
    "\n",
    "# Training loop\n",
    "for epoch in range(model_config[\"num_epochs\"]):\n",
    "    for images, labels in train_loader:\n",
    "        images = images.view(-1, 28 * 28)  # Reshape images to flatten them\n",
    "        optimizer.zero_grad()  # Zero the gradients\n",
    "        outputs = model(images)  # Forward pass\n",
    "        loss = criterion(outputs, labels)  # Compute loss\n",
    "        loss.backward()  # Backpropagation\n",
    "        optimizer.step()  # Update weights\n",
    "\n",
    "    print(f\"Epoch [{epoch+1}/{model_config['num_epochs']}], Loss: {loss.item():.4f}\")\n",
    "\n",
    "print(\"Training finished.\")"
   ]
  },
  {
   "cell_type": "code",
   "execution_count": 6,
   "metadata": {},
   "outputs": [
    {
     "name": "stdout",
     "output_type": "stream",
     "text": [
      "Accuracy on the test dataset: 95.03%\n"
     ]
    },
    {
     "data": {
      "text/plain": [
       "Sequential(\n",
       "  (0): Linear(in_features=784, out_features=128, bias=True)\n",
       "  (1): ReLU()\n",
       "  (2): Linear(in_features=128, out_features=64, bias=True)\n",
       "  (3): ReLU()\n",
       "  (4): Linear(in_features=64, out_features=10, bias=True)\n",
       ")"
      ]
     },
     "execution_count": 6,
     "metadata": {},
     "output_type": "execute_result"
    }
   ],
   "source": [
    "# Load MNIST test dataset\n",
    "test_dataset = torchvision.datasets.MNIST(root='./data', train=False, transform=transform, download=True)\n",
    "test_loader = torch.utils.data.DataLoader(dataset=test_dataset, batch_size=model_config['batch_size'], shuffle=False)\n",
    "\n",
    "# Set model to evaluation mode\n",
    "model.eval()\n",
    "\n",
    "correct = 0\n",
    "total = 0\n",
    "\n",
    "# Calculate accuracy on the test dataset\n",
    "with torch.no_grad():\n",
    "    for images, labels in test_loader:\n",
    "        images = images.view(-1, 28 * 28)\n",
    "        outputs = model(images)\n",
    "        _, predicted = torch.max(outputs.data, 1)  # Get predicted labels\n",
    "        total += labels.size(0)\n",
    "        correct += (predicted == labels).sum().item()\n",
    "\n",
    "accuracy = 100 * correct / total\n",
    "print(f'Accuracy on the test dataset: {accuracy:.2f}%')\n",
    "\n",
    "# Set model back to training mode\n",
    "model.train()"
   ]
  },
  {
   "cell_type": "code",
   "execution_count": 5,
   "metadata": {},
   "outputs": [
    {
     "name": "stderr",
     "output_type": "stream",
     "text": [
      "Registered model 'rnn_experiments' already exists. Creating a new version of this model...\n",
      "2023/09/02 11:35:17 INFO mlflow.tracking._model_registry.client: Waiting up to 300 seconds for model version to finish creation. Model name: rnn_experiments, version 49\n",
      "Created version '49' of model 'rnn_experiments'.\n"
     ]
    }
   ],
   "source": [
    "if LOG_MODEL_RUN:\n",
    "    # log a model run\n",
    "    log_dict = {\n",
    "        \"params\": model_config,\n",
    "        \"metrics\": {\n",
    "            \"accuracy\": accuracy,\n",
    "            \"loss\": loss.item()\n",
    "        },\n",
    "    }\n",
    "\n",
    "    # extra_artifacts = {\n",
    "    #     \"tokenizer\": {\n",
    "    #         \"local_path\": tokenizer_path,\n",
    "    #         \"save_path\": \"data\"\n",
    "    #     }\n",
    "    # }\n",
    "\n",
    "    run_id = mlflow.log_experiment_run(\n",
    "        model=model,\n",
    "        experiment_name=\"NLP Experiments\",\n",
    "        run_name=f\"RNN: first_run\",\n",
    "        log_dict=log_dict,\n",
    "        registered_model_name=\"rnn_experiments\",\n",
    "        # extra_artifacts=extra_artifacts,\n",
    "        tags={\"model\": \"deep_learning\", \"library\": \"pytorch\"},\n",
    "    )"
   ]
  }
 ],
 "metadata": {
  "kernelspec": {
   "display_name": ".venv",
   "language": "python",
   "name": "python3"
  },
  "language_info": {
   "codemirror_mode": {
    "name": "ipython",
    "version": 3
   },
   "file_extension": ".py",
   "mimetype": "text/x-python",
   "name": "python",
   "nbconvert_exporter": "python",
   "pygments_lexer": "ipython3",
   "version": "3.11.2"
  },
  "orig_nbformat": 4
 },
 "nbformat": 4,
 "nbformat_minor": 2
}
