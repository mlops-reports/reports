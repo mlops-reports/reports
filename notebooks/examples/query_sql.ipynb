{
 "cells": [
  {
   "cell_type": "code",
   "execution_count": 8,
   "metadata": {},
   "outputs": [],
   "source": [
    "import experiment.utils.query as query_utils"
   ]
  },
  {
   "cell_type": "code",
   "execution_count": 9,
   "metadata": {},
   "outputs": [
    {
     "data": {
      "text/html": [
       "<div>\n",
       "<style scoped>\n",
       "    .dataframe tbody tr th:only-of-type {\n",
       "        vertical-align: middle;\n",
       "    }\n",
       "\n",
       "    .dataframe tbody tr th {\n",
       "        vertical-align: top;\n",
       "    }\n",
       "\n",
       "    .dataframe thead th {\n",
       "        text-align: right;\n",
       "    }\n",
       "</style>\n",
       "<table border=\"1\" class=\"dataframe\">\n",
       "  <thead>\n",
       "    <tr style=\"text-align: right;\">\n",
       "      <th></th>\n",
       "      <th>id</th>\n",
       "      <th>result</th>\n",
       "      <th>lead_time</th>\n",
       "      <th>created_at</th>\n",
       "      <th>updated_at</th>\n",
       "      <th>annotation_id</th>\n",
       "      <th>task_id</th>\n",
       "      <th>user_id</th>\n",
       "      <th>was_postponed</th>\n",
       "    </tr>\n",
       "  </thead>\n",
       "  <tbody>\n",
       "    <tr>\n",
       "      <th>0</th>\n",
       "      <td>31</td>\n",
       "      <td>[{'id': 'CYfPc9T_Ft', 'type': 'labels', 'value...</td>\n",
       "      <td>18.787</td>\n",
       "      <td>2023-08-05 17:46:59.343024+00:00</td>\n",
       "      <td>2023-08-05 17:46:59.343037+00:00</td>\n",
       "      <td>NaN</td>\n",
       "      <td>185070</td>\n",
       "      <td>18</td>\n",
       "      <td>False</td>\n",
       "    </tr>\n",
       "    <tr>\n",
       "      <th>1</th>\n",
       "      <td>37</td>\n",
       "      <td>[{'id': '2_xCl4Xmta', 'type': 'labels', 'value...</td>\n",
       "      <td>90.032</td>\n",
       "      <td>2023-08-07 18:02:15.416793+00:00</td>\n",
       "      <td>2023-08-07 18:02:23.740920+00:00</td>\n",
       "      <td>15.0</td>\n",
       "      <td>185015</td>\n",
       "      <td>1</td>\n",
       "      <td>False</td>\n",
       "    </tr>\n",
       "  </tbody>\n",
       "</table>\n",
       "</div>"
      ],
      "text/plain": [
       "   id                                             result  lead_time  \\\n",
       "0  31  [{'id': 'CYfPc9T_Ft', 'type': 'labels', 'value...     18.787   \n",
       "1  37  [{'id': '2_xCl4Xmta', 'type': 'labels', 'value...     90.032   \n",
       "\n",
       "                        created_at                       updated_at  \\\n",
       "0 2023-08-05 17:46:59.343024+00:00 2023-08-05 17:46:59.343037+00:00   \n",
       "1 2023-08-07 18:02:15.416793+00:00 2023-08-07 18:02:23.740920+00:00   \n",
       "\n",
       "   annotation_id  task_id  user_id  was_postponed  \n",
       "0            NaN   185070       18          False  \n",
       "1           15.0   185015        1          False  "
      ]
     },
     "execution_count": 9,
     "metadata": {},
     "output_type": "execute_result"
    }
   ],
   "source": [
    "# filter\n",
    "query = \"\"\"\n",
    "            --SELECT * FROM project p\n",
    "\n",
    "            SELECT * FROM tasks_annotationdraft ta \n",
    "\n",
    "            --SELECT * FROM task t\n",
    "        \"\"\"\n",
    "\n",
    "# get values from the database\n",
    "values = query_utils.get_select_values(query)\n",
    "values.head()"
   ]
  },
  {
   "cell_type": "code",
   "execution_count": null,
   "metadata": {},
   "outputs": [],
   "source": [
    "values.shape"
   ]
  },
  {
   "cell_type": "code",
   "execution_count": 6,
   "metadata": {},
   "outputs": [
    {
     "data": {
      "text/html": [
       "<div>\n",
       "<style scoped>\n",
       "    .dataframe tbody tr th:only-of-type {\n",
       "        vertical-align: middle;\n",
       "    }\n",
       "\n",
       "    .dataframe tbody tr th {\n",
       "        vertical-align: top;\n",
       "    }\n",
       "\n",
       "    .dataframe thead th {\n",
       "        text-align: right;\n",
       "    }\n",
       "</style>\n",
       "<table border=\"1\" class=\"dataframe\">\n",
       "  <thead>\n",
       "    <tr style=\"text-align: right;\">\n",
       "      <th></th>\n",
       "      <th>id</th>\n",
       "      <th>result</th>\n",
       "      <th>lead_time</th>\n",
       "      <th>created_at</th>\n",
       "      <th>updated_at</th>\n",
       "      <th>annotation_id</th>\n",
       "      <th>task_id</th>\n",
       "      <th>user_id</th>\n",
       "      <th>was_postponed</th>\n",
       "    </tr>\n",
       "  </thead>\n",
       "  <tbody>\n",
       "    <tr>\n",
       "      <th>0</th>\n",
       "      <td>31</td>\n",
       "      <td>[{'id': 'CYfPc9T_Ft', 'type': 'labels', 'value...</td>\n",
       "      <td>18.787</td>\n",
       "      <td>2023-08-05 17:46:59.343024+00:00</td>\n",
       "      <td>2023-08-05 17:46:59.343037+00:00</td>\n",
       "      <td>None</td>\n",
       "      <td>185070</td>\n",
       "      <td>18</td>\n",
       "      <td>False</td>\n",
       "    </tr>\n",
       "  </tbody>\n",
       "</table>\n",
       "</div>"
      ],
      "text/plain": [
       "   id                                             result  lead_time  \\\n",
       "0  31  [{'id': 'CYfPc9T_Ft', 'type': 'labels', 'value...     18.787   \n",
       "\n",
       "                        created_at                       updated_at  \\\n",
       "0 2023-08-05 17:46:59.343024+00:00 2023-08-05 17:46:59.343037+00:00   \n",
       "\n",
       "  annotation_id  task_id  user_id  was_postponed  \n",
       "0          None   185070       18          False  "
      ]
     },
     "execution_count": 6,
     "metadata": {},
     "output_type": "execute_result"
    }
   ],
   "source": [
    "# default DWH\n",
    "query = \"SELECT * FROM tasks_annotationdraft ta WHERE TRUE\"\n",
    "\n",
    "# study list\n",
    "task_annotations: list = [31]\n",
    "\n",
    "# filter by a Python list\n",
    "query_latest = (\n",
    "    query_utils.filter_by_column(\n",
    "        query=query,\n",
    "        column_name=\"id\",\n",
    "        column_items=task_annotations,\n",
    "    )\n",
    ")\n",
    "\n",
    "# retrieve values from the database\n",
    "values = query_utils.get_select_values(query_latest, output_format=\"dataframe\")\n",
    "values.head()"
   ]
  },
  {
   "cell_type": "code",
   "execution_count": 7,
   "metadata": {},
   "outputs": [
    {
     "data": {
      "text/plain": [
       "(1, 9)"
      ]
     },
     "execution_count": 7,
     "metadata": {},
     "output_type": "execute_result"
    }
   ],
   "source": [
    "values.shape"
   ]
  }
 ],
 "metadata": {
  "kernelspec": {
   "display_name": "venv",
   "language": "python",
   "name": "python3"
  },
  "language_info": {
   "codemirror_mode": {
    "name": "ipython",
    "version": 3
   },
   "file_extension": ".py",
   "mimetype": "text/x-python",
   "name": "python",
   "nbconvert_exporter": "python",
   "pygments_lexer": "ipython3",
   "version": "3.11.4"
  },
  "orig_nbformat": 4,
  "vscode": {
   "interpreter": {
    "hash": "7a11b5806063588ffa5cb6957d903c4bc8dba24b766ad1a742e49e70893a0fa1"
   }
  }
 },
 "nbformat": 4,
 "nbformat_minor": 2
}
