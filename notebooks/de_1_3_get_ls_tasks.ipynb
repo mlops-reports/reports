{
 "cells": [
  {
   "cell_type": "code",
   "execution_count": 1,
   "metadata": {},
   "outputs": [],
   "source": [
    "import warnings\n",
    "\n",
    "import pandas as pd\n",
    "\n",
    "from experiment.utils import dbutils, logger, transformation"
   ]
  },
  {
   "cell_type": "code",
   "execution_count": 2,
   "metadata": {},
   "outputs": [],
   "source": [
    "# suppress warnings\n",
    "warnings.filterwarnings(\"ignore\", category=UserWarning)"
   ]
  },
  {
   "cell_type": "code",
   "execution_count": 3,
   "metadata": {},
   "outputs": [],
   "source": [
    "db = dbutils.DatabaseUtils()"
   ]
  },
  {
   "cell_type": "code",
   "execution_count": 7,
   "metadata": {},
   "outputs": [],
   "source": [
    "# get reports directly from database\n",
    "query = \"\"\"\n",
    "            SELECT\n",
    "                report_id,\n",
    "                patient_no,\n",
    "                report_original,\n",
    "                report_english_clean AS text,\n",
    "                report_original_clean\n",
    "            FROM\n",
    "                annotation.upload_tasks\n",
    "            WHERE\n",
    "                report_id NOT IN (\n",
    "                SELECT\n",
    "                    (DATA ->> 'report_id')::INT AS report_id\n",
    "                FROM\n",
    "                    annotation.tasks)\n",
    "        \"\"\"\n",
    "\n",
    "# get values from the database\n",
    "df_upload_tasks = db.read_sql_query(query)\n",
    "df_upload_tasks.to_csv(\n",
    "    transformation.get_project_root() / \"tmp\" / \"data\"/ \"upload_tasks.csv\", index=False\n",
    ")"
   ]
  },
  {
   "cell_type": "code",
   "execution_count": 8,
   "metadata": {},
   "outputs": [
    {
     "data": {
      "text/html": [
       "<div>\n",
       "<style scoped>\n",
       "    .dataframe tbody tr th:only-of-type {\n",
       "        vertical-align: middle;\n",
       "    }\n",
       "\n",
       "    .dataframe tbody tr th {\n",
       "        vertical-align: top;\n",
       "    }\n",
       "\n",
       "    .dataframe thead th {\n",
       "        text-align: right;\n",
       "    }\n",
       "</style>\n",
       "<table border=\"1\" class=\"dataframe\">\n",
       "  <thead>\n",
       "    <tr style=\"text-align: right;\">\n",
       "      <th></th>\n",
       "      <th>report_id</th>\n",
       "      <th>patient_no</th>\n",
       "      <th>report_original</th>\n",
       "      <th>text</th>\n",
       "      <th>report_original_clean</th>\n",
       "    </tr>\n",
       "  </thead>\n",
       "  <tbody>\n",
       "    <tr>\n",
       "      <th>0</th>\n",
       "      <td>22582619</td>\n",
       "      <td>2008251410</td>\n",
       "      <td>\\n\\nBEYIN  BT TETKİKİ \\nRAPOR TARİHİ:24/05/201...</td>\n",
       "      <td>BRAIN MRI   prt no 9644   The sections obtaine...</td>\n",
       "      <td>BEYIN  BT TETKİKİ    prt no 9644   Kafa tabanı...</td>\n",
       "    </tr>\n",
       "    <tr>\n",
       "      <th>1</th>\n",
       "      <td>22613309</td>\n",
       "      <td>2008071149</td>\n",
       "      <td>RAPOR TARİHİ: 15.06.2022 FİLM NO:12615994\\n\\nK...</td>\n",
       "      <td>15.06. Contrastless brain     CT scan   The sc...</td>\n",
       "      <td>15.06.  Kontrastsız beyin     BT tetkiki   Tet...</td>\n",
       "    </tr>\n",
       "    <tr>\n",
       "      <th>2</th>\n",
       "      <td>23076972</td>\n",
       "      <td>2007066964</td>\n",
       "      <td>\\n\\nÇEKİM TARİHİ: 06/10/2020                  ...</td>\n",
       "      <td>In cross-sections obtained between the base of...</td>\n",
       "      <td>Kafa tabanı ve verteks arasından elde olunan k...</td>\n",
       "    </tr>\n",
       "    <tr>\n",
       "      <th>3</th>\n",
       "      <td>23076971</td>\n",
       "      <td>2008043690</td>\n",
       "      <td>\\n\\nÇEKİM TARİHİ: 06/10/2020                  ...</td>\n",
       "      <td>The sections obtained between the base of the ...</td>\n",
       "      <td>Kafa tabanı ve verteks arasından elde olunan k...</td>\n",
       "    </tr>\n",
       "    <tr>\n",
       "      <th>4</th>\n",
       "      <td>21229198</td>\n",
       "      <td>2007085552</td>\n",
       "      <td>RAPOR TARİHİ: 07/07/2021     FİLM NO: \\n\\nKont...</td>\n",
       "      <td>Contrastless BRAIN CT scan. Skull base and cal...</td>\n",
       "      <td>Kontrastsız  BEYİN      BT tetkiki   Kafa kaid...</td>\n",
       "    </tr>\n",
       "  </tbody>\n",
       "</table>\n",
       "</div>"
      ],
      "text/plain": [
       "   report_id  patient_no                                    report_original  \\\n",
       "0   22582619  2008251410  \\n\\nBEYIN  BT TETKİKİ \\nRAPOR TARİHİ:24/05/201...   \n",
       "1   22613309  2008071149  RAPOR TARİHİ: 15.06.2022 FİLM NO:12615994\\n\\nK...   \n",
       "2   23076972  2007066964  \\n\\nÇEKİM TARİHİ: 06/10/2020                  ...   \n",
       "3   23076971  2008043690  \\n\\nÇEKİM TARİHİ: 06/10/2020                  ...   \n",
       "4   21229198  2007085552  RAPOR TARİHİ: 07/07/2021     FİLM NO: \\n\\nKont...   \n",
       "\n",
       "                                                text  \\\n",
       "0  BRAIN MRI   prt no 9644   The sections obtaine...   \n",
       "1  15.06. Contrastless brain     CT scan   The sc...   \n",
       "2  In cross-sections obtained between the base of...   \n",
       "3  The sections obtained between the base of the ...   \n",
       "4  Contrastless BRAIN CT scan. Skull base and cal...   \n",
       "\n",
       "                               report_original_clean  \n",
       "0  BEYIN  BT TETKİKİ    prt no 9644   Kafa tabanı...  \n",
       "1  15.06.  Kontrastsız beyin     BT tetkiki   Tet...  \n",
       "2  Kafa tabanı ve verteks arasından elde olunan k...  \n",
       "3  Kafa tabanı ve verteks arasından elde olunan k...  \n",
       "4  Kontrastsız  BEYİN      BT tetkiki   Kafa kaid...  "
      ]
     },
     "execution_count": 8,
     "metadata": {},
     "output_type": "execute_result"
    }
   ],
   "source": [
    "df_upload_tasks.head()"
   ]
  }
 ],
 "metadata": {
  "kernelspec": {
   "display_name": ".venv",
   "language": "python",
   "name": "python3"
  },
  "language_info": {
   "codemirror_mode": {
    "name": "ipython",
    "version": 3
   },
   "file_extension": ".py",
   "mimetype": "text/x-python",
   "name": "python",
   "nbconvert_exporter": "python",
   "pygments_lexer": "ipython3",
   "version": "3.11.2"
  },
  "orig_nbformat": 4
 },
 "nbformat": 4,
 "nbformat_minor": 2
}
