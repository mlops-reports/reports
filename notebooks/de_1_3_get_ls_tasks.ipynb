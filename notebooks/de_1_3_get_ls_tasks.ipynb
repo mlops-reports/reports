{
 "cells": [
  {
   "cell_type": "code",
   "execution_count": 17,
   "metadata": {},
   "outputs": [],
   "source": [
    "from experiment.utils import dbutils, transformation\n",
    "from experiment.api import label_studio"
   ]
  },
  {
   "cell_type": "code",
   "execution_count": 18,
   "metadata": {},
   "outputs": [],
   "source": [
    "db = dbutils.DatabaseUtils()"
   ]
  },
  {
   "cell_type": "code",
   "execution_count": 19,
   "metadata": {},
   "outputs": [],
   "source": [
    "# get reports directly from database\n",
    "query = \"\"\"\n",
    "            SELECT\n",
    "                report_id,\n",
    "                patient_no,\n",
    "                report_original,\n",
    "                report_english_clean AS text,\n",
    "                report_original_clean\n",
    "            FROM\n",
    "                annotation.upload_tasks\n",
    "            WHERE\n",
    "                report_id NOT IN (\n",
    "                SELECT\n",
    "                    (DATA ->> 'report_id')::INT AS report_id\n",
    "                FROM\n",
    "                    public.task)\n",
    "        \"\"\"\n",
    "\n",
    "# get values from the database\n",
    "df_upload_tasks = db.read_sql_query(query)\n",
    "\n",
    "# output tasks as a csv file\n",
    "output_path = (\n",
    "    transformation.get_project_root() / \"tmp\" / \"data\" / \"upload_tasks.csv\"\n",
    ")\n",
    "df_upload_tasks.to_csv(output_path, index=False)"
   ]
  },
  {
   "cell_type": "code",
   "execution_count": 20,
   "metadata": {},
   "outputs": [
    {
     "name": "stderr",
     "output_type": "stream",
     "text": [
      "  % Total    % Received % Xferd  Average Speed   Time    Time     Time  Current\n",
      "                                 Dload  Upload   Total   Spent    Left  Speed\n",
      "  0     0    0     0    0     0      0      0 --:--:-- --:--:-- --:--:--     0"
     ]
    },
    {
     "name": "stdout",
     "output_type": "stream",
     "text": [
      "{\"task_count\":1,\"annotation_count\":0,\"prediction_count\":0,\"duration\":0.07434511184692383,\"file_upload_ids\":[21],\"could_be_tasks_list\":true,\"found_formats\":{\".csv\":1},\"data_columns\":[\"patient_no\",\"report_original_clean\",\"report_original\",\"text\",\"report_id\"]}"
     ]
    },
    {
     "name": "stderr",
     "output_type": "stream",
     "text": [
      "100  1875  100   257  100  1618    871   5484 --:--:-- --:--:-- --:--:--  6443\n"
     ]
    }
   ],
   "source": [
    "# upload tasks to label studio\n",
    "label_studio.upload_csv_tasks(csv_path=output_path, project_id=7)"
   ]
  }
 ],
 "metadata": {
  "kernelspec": {
   "display_name": ".venv",
   "language": "python",
   "name": "python3"
  },
  "language_info": {
   "codemirror_mode": {
    "name": "ipython",
    "version": 3
   },
   "file_extension": ".py",
   "mimetype": "text/x-python",
   "name": "python",
   "nbconvert_exporter": "python",
   "pygments_lexer": "ipython3",
   "version": "3.11.2"
  },
  "orig_nbformat": 4
 },
 "nbformat": 4,
 "nbformat_minor": 2
}
