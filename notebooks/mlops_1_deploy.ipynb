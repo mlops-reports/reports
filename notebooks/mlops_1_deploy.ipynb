{
 "cells": [
  {
   "cell_type": "code",
   "execution_count": 1,
   "metadata": {},
   "outputs": [],
   "source": [
    "from experiment.api import mlflow as mlflow_api"
   ]
  },
  {
   "cell_type": "code",
   "execution_count": 2,
   "metadata": {},
   "outputs": [
    {
     "name": "stderr",
     "output_type": "stream",
     "text": [
      "[2023-08-21 00:50:02 +0200] [65509] [INFO] Starting gunicorn 21.2.0\n",
      "[2023-08-21 00:50:02 +0200] [65509] [INFO] Listening at: http://127.0.0.1:9999 (65509)\n",
      "[2023-08-21 00:50:02 +0200] [65509] [INFO] Using worker: sync\n",
      "[2023-08-21 00:50:02 +0200] [65510] [INFO] Booting worker with pid: 65510\n",
      "[2023-08-21 00:50:02 +0200] [65511] [INFO] Booting worker with pid: 65511\n",
      "[2023-08-21 00:50:02 +0200] [65512] [INFO] Booting worker with pid: 65512\n",
      "[2023-08-21 00:50:02 +0200] [65513] [INFO] Booting worker with pid: 65513\n"
     ]
    },
    {
     "name": "stderr",
     "output_type": "stream",
     "text": [
      "Downloading artifacts: 100%|██████████| 1/1 [00:00<00:00,  5.55it/s]\n",
      "2023/08/21 00:50:14 INFO mlflow.models.flavor_backend_registry: Selected backend for flavor 'python_function'\n",
      "Downloading artifacts: 100%|██████████| 8/8 [00:01<00:00,  7.29it/s]\n",
      "2023/08/21 00:50:15 INFO mlflow.pyfunc.backend: === Running command 'exec gunicorn --timeout=60 -b 127.0.0.1:1234 -w 1 ${GUNICORN_CMD_ARGS} -- mlflow.pyfunc.scoring_server.wsgi:app'\n",
      "[2023-08-21 00:50:15 +0200] [65541] [INFO] Starting gunicorn 21.2.0\n",
      "[2023-08-21 00:50:15 +0200] [65541] [INFO] Listening at: http://127.0.0.1:1234 (65541)\n",
      "[2023-08-21 00:50:15 +0200] [65541] [INFO] Using worker: sync\n",
      "[2023-08-21 00:50:15 +0200] [65542] [INFO] Booting worker with pid: 65542\n",
      "/Users/gokasci/Desktop/reports/.venv/lib/python3.11/site-packages/keras/src/backend.py:452: UserWarning: `tf.keras.backend.set_learning_phase` is deprecated and will be removed after 2020-10-11. To update it, simply pass a True/False value to the `training` argument of the `__call__` method of your layer or model.\n",
      "  warnings.warn(\n"
     ]
    },
    {
     "name": "stdout",
     "output_type": "stream",
     "text": [
      "1/1 [==============================] - 0s 49ms/step\n"
     ]
    }
   ],
   "source": [
    "mlflow = mlflow_api.MLFlow()\n",
    "\n",
    "# clean with garbage collection\n",
    "mlflow.clean(gc=True)\n",
    "\n",
    "# run the tracking server\n",
    "mlflow.run_server()\n",
    "\n",
    "# get the best run \n",
    "best_run = mlflow.get_best_run_by_metric(\"NLP Experiments\", \"val_accuracy\")\n",
    "best_run_id = best_run[\"run_id\"]\n",
    "\n",
    "# serve the best model\n",
    "mlflow.serve_model(best_run_id)"
   ]
  }
 ],
 "metadata": {
  "kernelspec": {
   "display_name": ".venv",
   "language": "python",
   "name": "python3"
  },
  "language_info": {
   "codemirror_mode": {
    "name": "ipython",
    "version": 3
   },
   "file_extension": ".py",
   "mimetype": "text/x-python",
   "name": "python",
   "nbconvert_exporter": "python",
   "pygments_lexer": "ipython3",
   "version": "3.11.4"
  },
  "orig_nbformat": 4
 },
 "nbformat": 4,
 "nbformat_minor": 2
}
