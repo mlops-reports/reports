{
 "cells": [
  {
   "cell_type": "code",
   "execution_count": 1,
   "metadata": {},
   "outputs": [],
   "source": [
    "from experiment.api import mlflow as mlflow_api"
   ]
  },
  {
   "cell_type": "code",
   "execution_count": 2,
   "metadata": {},
   "outputs": [
    {
     "name": "stderr",
     "output_type": "stream",
     "text": [
      "kill: usage: kill [-s sigspec | -n signum | -sigspec] pid | jobspec ... or kill -l [sigspec]\n"
     ]
    },
    {
     "name": "stdout",
     "output_type": "stream",
     "text": [
      "Run with ID 1d1ab4b141634063a9195efe4cf365dc has been permanently deleted.\n",
      "Run with ID 5e8d2b7ce24d4eb09a39621d4ce35e48 has been permanently deleted.\n"
     ]
    }
   ],
   "source": [
    "mlflow = mlflow_api.MLFlow()\n",
    "\n",
    "# clean with garbage collection\n",
    "mlflow.clean(gc=True)"
   ]
  },
  {
   "cell_type": "code",
   "execution_count": 3,
   "metadata": {},
   "outputs": [],
   "source": [
    "# run the tracking server\n",
    "mlflow.run_server()"
   ]
  },
  {
   "cell_type": "code",
   "execution_count": 4,
   "metadata": {},
   "outputs": [
    {
     "name": "stderr",
     "output_type": "stream",
     "text": [
      "[2023-08-22 18:31:37 +0200] [64406] [INFO] Starting gunicorn 21.2.0\n",
      "[2023-08-22 18:31:37 +0200] [64406] [INFO] Listening at: http://0.0.0.0:9999 (64406)\n",
      "[2023-08-22 18:31:37 +0200] [64406] [INFO] Using worker: sync\n",
      "[2023-08-22 18:31:37 +0200] [64407] [INFO] Booting worker with pid: 64407\n",
      "[2023-08-22 18:31:37 +0200] [64408] [INFO] Booting worker with pid: 64408\n",
      "[2023-08-22 18:31:37 +0200] [64409] [INFO] Booting worker with pid: 64409\n",
      "[2023-08-22 18:31:37 +0200] [64410] [INFO] Booting worker with pid: 64410\n"
     ]
    },
    {
     "name": "stderr",
     "output_type": "stream",
     "text": [
      "Downloading artifacts: 100%|██████████| 1/1 [00:00<00:00,  5.72it/s]\n",
      "2023/08/22 18:31:49 INFO mlflow.models.flavor_backend_registry: Selected backend for flavor 'python_function'\n",
      "Downloading artifacts:   0%|          | 0/12 [00:00<?, ?it/s]2023/08/22 18:31:50 INFO mlflow.store.artifact.artifact_repo: The progress bar can be disabled by setting the environment variable MLFLOW_ENABLE_ARTIFACTS_PROGRESS_BAR to false\n",
      "Downloading artifacts: 100%|██████████| 12/12 [00:00<00:00, 17.88it/s]  \n",
      "2023/08/22 18:31:51 INFO mlflow.pyfunc.backend: === Running command 'exec gunicorn --timeout=60 -b 127.0.0.1:1234 -w 1 ${GUNICORN_CMD_ARGS} -- mlflow.pyfunc.scoring_server.wsgi:app'\n",
      "[2023-08-22 18:31:51 +0200] [64429] [INFO] Starting gunicorn 21.2.0\n",
      "[2023-08-22 18:31:51 +0200] [64429] [INFO] Listening at: http://127.0.0.1:1234 (64429)\n",
      "[2023-08-22 18:31:51 +0200] [64429] [INFO] Using worker: sync\n",
      "[2023-08-22 18:31:51 +0200] [64430] [INFO] Booting worker with pid: 64430\n",
      "/Users/gokasci/Desktop/reports/.venv/lib/python3.11/site-packages/keras/src/backend.py:452: UserWarning: `tf.keras.backend.set_learning_phase` is deprecated and will be removed after 2020-10-11. To update it, simply pass a True/False value to the `training` argument of the `__call__` method of your layer or model.\n",
      "  warnings.warn(\n"
     ]
    },
    {
     "name": "stdout",
     "output_type": "stream",
     "text": [
      "1/1 [==============================] - 0s 61ms/step\n"
     ]
    }
   ],
   "source": [
    "# get the best run \n",
    "best_run = mlflow.get_best_run_by_metric(\"NLP Experiments\", \"accuracy\")\n",
    "best_run_id = best_run[\"run_id\"]\n",
    "\n",
    "# serve the best model\n",
    "mlflow.serve_model(best_run_id)"
   ]
  }
 ],
 "metadata": {
  "kernelspec": {
   "display_name": ".venv",
   "language": "python",
   "name": "python3"
  },
  "language_info": {
   "codemirror_mode": {
    "name": "ipython",
    "version": 3
   },
   "file_extension": ".py",
   "mimetype": "text/x-python",
   "name": "python",
   "nbconvert_exporter": "python",
   "pygments_lexer": "ipython3",
   "version": "3.11.2"
  },
  "orig_nbformat": 4
 },
 "nbformat": 4,
 "nbformat_minor": 2
}
