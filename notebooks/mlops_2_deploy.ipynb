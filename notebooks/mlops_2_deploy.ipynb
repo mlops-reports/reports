{
 "cells": [
  {
   "cell_type": "code",
   "execution_count": null,
   "metadata": {},
   "outputs": [],
   "source": [
    "from experiment.api import mlflow as mlflow_api"
   ]
  },
  {
   "cell_type": "code",
   "execution_count": null,
   "metadata": {},
   "outputs": [],
   "source": [
    "mlflow = mlflow_api.MLFlow()\n",
    "mlflow.clean()"
   ]
  },
  {
   "cell_type": "code",
   "execution_count": null,
   "metadata": {},
   "outputs": [],
   "source": [
    "run_id = \"\""
   ]
  },
  {
   "cell_type": "code",
   "execution_count": null,
   "metadata": {},
   "outputs": [],
   "source": [
    "# serve a model\n",
    "mlflow.serve_model(run_id)"
   ]
  },
  {
   "cell_type": "code",
   "execution_count": null,
   "metadata": {},
   "outputs": [],
   "source": [
    "# def get_prediction_from_server(row, mlflow: mlflow_api.MLFlow):\n",
    "#     \"\"\"\n",
    "#     This functions receives response from the machine learning server\n",
    "#     \"\"\"\n",
    "\n",
    "#     row = row[:-1]\n",
    "#     data = {\"dataframe_split\": {\"columns\": list(X_train.columns), \"data\": [row]}}\n",
    "#     response = mlflow.get_predictions(data)\n",
    "\n",
    "#     return response.json()"
   ]
  }
 ],
 "metadata": {
  "kernelspec": {
   "display_name": ".venv",
   "language": "python",
   "name": "python3"
  },
  "language_info": {
   "codemirror_mode": {
    "name": "ipython",
    "version": 3
   },
   "file_extension": ".py",
   "mimetype": "text/x-python",
   "name": "python",
   "nbconvert_exporter": "python",
   "pygments_lexer": "ipython3",
   "version": "3.11.4"
  },
  "orig_nbformat": 4
 },
 "nbformat": 4,
 "nbformat_minor": 2
}
