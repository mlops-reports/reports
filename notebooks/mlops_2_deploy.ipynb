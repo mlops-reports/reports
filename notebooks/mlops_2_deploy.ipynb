{
 "cells": [
  {
   "cell_type": "code",
   "execution_count": 21,
   "metadata": {},
   "outputs": [],
   "source": [
    "from experiment.api import mlflow as mlflow_api\n",
    "from experiment.utils import transformation\n",
    "\n",
    "import numpy as np\n",
    "import pandas as pd\n",
    "import pathlib\n",
    "\n",
    "# import tensorflow as tf\n",
    "from tensorflow.keras.preprocessing.text import Tokenizer\n",
    "from tensorflow.keras.preprocessing.sequence import pad_sequences"
   ]
  },
  {
   "cell_type": "code",
   "execution_count": 22,
   "metadata": {},
   "outputs": [],
   "source": [
    "working_dir = pathlib.Path.cwd()\n"
   ]
  },
  {
   "cell_type": "code",
   "execution_count": 23,
   "metadata": {},
   "outputs": [
    {
     "name": "stderr",
     "output_type": "stream",
     "text": [
      "kill: usage: kill [-s sigspec | -n signum | -sigspec] pid | jobspec ... or kill -l [sigspec]\n"
     ]
    }
   ],
   "source": [
    "mlflow = mlflow_api.MLFlow()\n",
    "mlflow.clean(gc=True)"
   ]
  },
  {
   "cell_type": "code",
   "execution_count": 24,
   "metadata": {},
   "outputs": [],
   "source": [
    "clean_annotations = pd.read_csv(\n",
    "    working_dir.parent / \"data\" / \"output\" / \"clean_annotations.csv\"\n",
    ")\n",
    "\n",
    "# skip the last report\n",
    "sentences = clean_annotations[\"relevant_text\"].to_list()[-1:]\n",
    "clean_labels = clean_annotations[\"classifications\"].to_list()[-1:]"
   ]
  },
  {
   "cell_type": "code",
   "execution_count": 25,
   "metadata": {},
   "outputs": [
    {
     "name": "stderr",
     "output_type": "stream",
     "text": [
      "[nltk_data] Downloading package stopwords to\n",
      "[nltk_data]     /Users/gokasci/nltk_data...\n",
      "[nltk_data]   Package stopwords is already up-to-date!\n"
     ]
    }
   ],
   "source": [
    "clean_sentences = transformation.sentence_cleaning_pipeline(sentences)"
   ]
  },
  {
   "cell_type": "code",
   "execution_count": 26,
   "metadata": {},
   "outputs": [],
   "source": [
    "model_config_path = (\n",
    "    working_dir.parent / \"data\" / \"input\" / \"model_config\" / \"nlp_experiment.json\"\n",
    ")\n",
    "model_config = mlflow.get_model_config(model_config_path)"
   ]
  },
  {
   "cell_type": "code",
   "execution_count": 27,
   "metadata": {},
   "outputs": [],
   "source": [
    "# run the server\n",
    "mlflow.run_server()"
   ]
  },
  {
   "cell_type": "code",
   "execution_count": 28,
   "metadata": {},
   "outputs": [
    {
     "name": "stderr",
     "output_type": "stream",
     "text": [
      "[2023-08-19 22:18:43 +0200] [27739] [INFO] Starting gunicorn 21.2.0\n",
      "[2023-08-19 22:18:43 +0200] [27739] [INFO] Listening at: http://127.0.0.1:9999 (27739)\n",
      "[2023-08-19 22:18:43 +0200] [27739] [INFO] Using worker: sync\n",
      "[2023-08-19 22:18:43 +0200] [27741] [INFO] Booting worker with pid: 27741\n",
      "[2023-08-19 22:18:43 +0200] [27742] [INFO] Booting worker with pid: 27742\n",
      "[2023-08-19 22:18:43 +0200] [27743] [INFO] Booting worker with pid: 27743\n",
      "[2023-08-19 22:18:43 +0200] [27744] [INFO] Booting worker with pid: 27744\n"
     ]
    },
    {
     "data": {
      "text/plain": [
       "{'run_id': 'ec7b2b48613d43418fd0f4c965a7d8b3', 'metrics': 0.6363636255264282}"
      ]
     },
     "execution_count": 28,
     "metadata": {},
     "output_type": "execute_result"
    }
   ],
   "source": [
    "# get the best metric \n",
    "best_metric = mlflow.get_best_run_by_metric(\"NLP Experiments\", \"val_accuracy\")\n",
    "best_metric"
   ]
  },
  {
   "cell_type": "code",
   "execution_count": 29,
   "metadata": {},
   "outputs": [],
   "source": [
    "# serve the model\n",
    "mlflow.serve_model(best_metric[\"run_id\"])"
   ]
  },
  {
   "cell_type": "code",
   "execution_count": 30,
   "metadata": {},
   "outputs": [],
   "source": [
    "tokenizer = Tokenizer(\n",
    "    num_words=model_config[\"vocab_size\"], oov_token=model_config[\"oov_token\"]\n",
    ")"
   ]
  },
  {
   "cell_type": "code",
   "execution_count": 31,
   "metadata": {},
   "outputs": [],
   "source": [
    "# predict a sentence\n",
    "tokenizer.fit_on_texts(clean_sentences)\n",
    "clean_sequences = tokenizer.texts_to_sequences(clean_sentences)\n",
    "clean_sequences_padded = pad_sequences(\n",
    "    clean_sequences,\n",
    "    maxlen=model_config[\"max_input_length\"],\n",
    "    padding=model_config[\"padding_type\"],\n",
    "    truncating=model_config[\"trunc_type\"],\n",
    ")\n",
    "clean_sequences_padded = np.array(clean_sequences_padded)\n",
    "# predictions = model.predict(clean_sequences_padded)\n",
    "# predictions = [np.argmax(prediction) for prediction in predictions]"
   ]
  },
  {
   "cell_type": "markdown",
   "metadata": {},
   "source": [
    "1. Emergency\n",
    "2. Normal\n",
    "3. Non Emergency [Doctor]\n",
    "4. Non Emergency [No Doctor]"
   ]
  },
  {
   "cell_type": "code",
   "execution_count": 32,
   "metadata": {},
   "outputs": [
    {
     "name": "stderr",
     "output_type": "stream",
     "text": [
      "Downloading artifacts: 100%|██████████| 1/1 [00:00<00:00,  5.91it/s]\n",
      "2023/08/19 22:18:53 INFO mlflow.models.flavor_backend_registry: Selected backend for flavor 'python_function'\n",
      "Downloading artifacts: 100%|██████████| 7/7 [00:00<00:00, 10.73it/s]   \n",
      "2023/08/19 22:18:54 INFO mlflow.pyfunc.backend: === Running command 'exec gunicorn --timeout=60 -b 127.0.0.1:1234 -w 1 ${GUNICORN_CMD_ARGS} -- mlflow.pyfunc.scoring_server.wsgi:app'\n",
      "[2023-08-19 22:18:54 +0200] [27767] [INFO] Starting gunicorn 21.2.0\n",
      "[2023-08-19 22:18:54 +0200] [27767] [INFO] Listening at: http://127.0.0.1:1234 (27767)\n",
      "[2023-08-19 22:18:54 +0200] [27767] [INFO] Using worker: sync\n",
      "[2023-08-19 22:18:54 +0200] [27768] [INFO] Booting worker with pid: 27768\n",
      "/Users/gokasci/Desktop/reports/.venv/lib/python3.11/site-packages/keras/src/backend.py:452: UserWarning: `tf.keras.backend.set_learning_phase` is deprecated and will be removed after 2020-10-11. To update it, simply pass a True/False value to the `training` argument of the `__call__` method of your layer or model.\n",
      "  warnings.warn(\n"
     ]
    }
   ],
   "source": [
    "# def get_prediction_from_server(row, mlflow: mlflow_api.MLFlow):\n",
    "#     \"\"\"\n",
    "#     This functions receives response from the machine learning server\n",
    "#     \"\"\"\n",
    "\n",
    "#     row = row[:-1]\n",
    "#     data = {\"dataframe_split\": {\"columns\": list(X_train.columns), \"data\": [row]}}\n",
    "#     response = mlflow.get_predictions(data)\n",
    "\n",
    "#     return response.json()"
   ]
  }
 ],
 "metadata": {
  "kernelspec": {
   "display_name": ".venv",
   "language": "python",
   "name": "python3"
  },
  "language_info": {
   "codemirror_mode": {
    "name": "ipython",
    "version": 3
   },
   "file_extension": ".py",
   "mimetype": "text/x-python",
   "name": "python",
   "nbconvert_exporter": "python",
   "pygments_lexer": "ipython3",
   "version": "3.11.4"
  },
  "orig_nbformat": 4
 },
 "nbformat": 4,
 "nbformat_minor": 2
}
