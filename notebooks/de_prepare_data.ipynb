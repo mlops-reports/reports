{
 "cells": [
  {
   "cell_type": "code",
   "execution_count": 1,
   "metadata": {},
   "outputs": [],
   "source": [
    "import pandas as pd\n",
    "import pathlib\n",
    "import re\n",
    "import warnings"
   ]
  },
  {
   "cell_type": "code",
   "execution_count": 2,
   "metadata": {},
   "outputs": [],
   "source": [
    "# suppress warnings\n",
    "warnings.filterwarnings(\"ignore\", category=UserWarning)"
   ]
  },
  {
   "cell_type": "code",
   "execution_count": 3,
   "metadata": {},
   "outputs": [],
   "source": [
    "# get the source file\n",
    "working_dir = pathlib.Path.cwd()\n",
    "source_data = working_dir.parent / \"data\" / \"input\" / \"BT_BEYIN_KSIZ.xls\"\n",
    "df_reports = pd.read_excel(source_data)"
   ]
  },
  {
   "cell_type": "code",
   "execution_count": 4,
   "metadata": {},
   "outputs": [],
   "source": [
    "# regex patterns\n",
    "film_no_pattern = r\"\\b\\d{6,}\\b\"\n",
    "rapor_tarihi_pattern= r\"\\b\\d{1,2}[-/.]\\d{1,2}[-/.]\\d{2,4}\\b\""
   ]
  },
  {
   "cell_type": "code",
   "execution_count": 5,
   "metadata": {},
   "outputs": [],
   "source": [
    "# useful functions\n",
    "def pattern_find_and_remove(text: str, pattern: str) -> tuple[str]:\n",
    "    \"\"\"\n",
    "    Find patters and remove them\n",
    "    \"\"\"\n",
    "    try:\n",
    "        extracted_pattern = re.findall(pattern, text)[0]\n",
    "    except IndexError:\n",
    "        extracted_pattern = \"\"\n",
    "\n",
    "    return extracted_pattern, text.replace(extracted_pattern, \"\").strip()\n",
    "\n",
    "def replace_patterns_from_text(\n",
    "    text: str, patterns: list[str], replace_with: str = \"\"\n",
    ") -> str:\n",
    "    \"\"\"\n",
    "    Replace patters from text\n",
    "    \"\"\"\n",
    "    for pattern in patterns:\n",
    "        text = text.replace(pattern, replace_with)\n",
    "\n",
    "    return text.strip()\n",
    "\n",
    "def apply_transformations(text) -> tuple[str]:\n",
    "    \"\"\"\n",
    "    Apply multiple transformations\n",
    "    \"\"\"\n",
    "    text = replace_patterns_from_text(\n",
    "        text,\n",
    "        [\n",
    "            \"RAPOR TARİHİ\",\n",
    "            \"FİLM NO\",\n",
    "            \"TETKİK NO\",\n",
    "            \"ÇEKİM TARİHİ\",\n",
    "            \"ÇEKİM  TARİHİ\",\n",
    "            \"TETKİK TARİHİ\",\n",
    "            \"Tetkik no\",\n",
    "            \" :\",\n",
    "            \": \",\n",
    "            \" : \",\n",
    "        ],\n",
    "    )\n",
    "    text = replace_patterns_from_text(\n",
    "        text, [\"RAPOR TARİHİ\", \"FİLM NO\", \"TETKİK NO\", \" :\", \": \", \" : \"]\n",
    "    )\n",
    "    text = replace_patterns_from_text(text, [\"\\n\", \"*\"], \" \")\n",
    "    text = replace_patterns_from_text(text, [\":\", \";\"], \" \")\n",
    "\n",
    "    film_no, text = pattern_find_and_remove(\n",
    "        text,\n",
    "        film_no_pattern,\n",
    "    )\n",
    "    rapor_tarihi, text = pattern_find_and_remove(text, rapor_tarihi_pattern)\n",
    "\n",
    "    return text.strip(), rapor_tarihi, film_no"
   ]
  },
  {
   "cell_type": "code",
   "execution_count": 6,
   "metadata": {},
   "outputs": [],
   "source": [
    "# extract relevant information\n",
    "result = df_reports['ACIKLAMA'].apply(apply_transformations)\n",
    "df_reports[[\"text\", \"report_date\", \"study_no\"]] = pd.DataFrame(\n",
    "    result.tolist(), index=result.index\n",
    ")"
   ]
  },
  {
   "cell_type": "code",
   "execution_count": 7,
   "metadata": {},
   "outputs": [
    {
     "data": {
      "text/plain": [
       "1780"
      ]
     },
     "execution_count": 7,
     "metadata": {},
     "output_type": "execute_result"
    }
   ],
   "source": [
    "# check empty dates\n",
    "(df_reports['report_date'].values == '').sum() "
   ]
  },
  {
   "cell_type": "code",
   "execution_count": 8,
   "metadata": {},
   "outputs": [],
   "source": [
    "# drop unnecessary columns\n",
    "df_reports = df_reports.rename(\n",
    "    columns={\n",
    "        \"HASTA_NO\": \"patient_no\",\n",
    "        \"PROTOKOL_NO\": \"protocol_no\",\n",
    "    }\n",
    ").drop([\"ACIKLAMA\", \"AD_SOYAD\"], axis=1)"
   ]
  },
  {
   "cell_type": "code",
   "execution_count": 9,
   "metadata": {},
   "outputs": [],
   "source": [
    "# convert the report date column\n",
    "df_reports['report_date'] = pd.to_datetime(df_reports['report_date'], errors='coerce')"
   ]
  },
  {
   "cell_type": "code",
   "execution_count": 10,
   "metadata": {},
   "outputs": [],
   "source": [
    "# detect report count\n",
    "df_report_count = df_reports.groupby(\"patient_no\").agg(report_count=pd.NamedAgg(column=\"patient_no\", aggfunc=\"count\")).reset_index()"
   ]
  },
  {
   "cell_type": "code",
   "execution_count": 11,
   "metadata": {},
   "outputs": [],
   "source": [
    "# merge report counts & order by report count/date & drop duplicates\n",
    "df_reports = df_reports.drop_duplicates(subset=[\"patient_no\"], keep=\"first\").merge(\n",
    "    df_report_count, on=\"patient_no\", how=\"left\"\n",
    ").sort_values([\"report_count\", \"report_date\"], ascending=[True, True])"
   ]
  },
  {
   "cell_type": "code",
   "execution_count": 12,
   "metadata": {},
   "outputs": [],
   "source": [
    "# convert output df to a csv file\n",
    "df_reports.to_csv(working_dir.parent / \"data\" / \"output\" / \"tasks.csv\")"
   ]
  }
 ],
 "metadata": {
  "kernelspec": {
   "display_name": ".venv",
   "language": "python",
   "name": "python3"
  },
  "language_info": {
   "codemirror_mode": {
    "name": "ipython",
    "version": 3
   },
   "file_extension": ".py",
   "mimetype": "text/x-python",
   "name": "python",
   "nbconvert_exporter": "python",
   "pygments_lexer": "ipython3",
   "version": "3.11.4"
  },
  "orig_nbformat": 4
 },
 "nbformat": 4,
 "nbformat_minor": 2
}
