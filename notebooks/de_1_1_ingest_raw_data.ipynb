{
 "cells": [
  {
   "cell_type": "code",
   "execution_count": 1,
   "metadata": {},
   "outputs": [],
   "source": [
    "import pandas as pd\n",
    "\n",
    "import experiment.utils.query as query_utils\n",
    "from experiment.utils import transformation"
   ]
  },
  {
   "cell_type": "code",
   "execution_count": 2,
   "metadata": {},
   "outputs": [],
   "source": [
    "# read the csv file\n",
    "raw_ct_brain = transformation.get_project_root() / \"tmp\" / \"data\" / \"raw_ct_brain.csv\"\n",
    "df = pd.read_csv(raw_ct_brain)\n",
    "df[\"INDEX\"] = df[\"PROTOKOL_NO\"]\n",
    "df.set_index('INDEX')\n",
    "\n",
    "# get the db engine\n",
    "engine = query_utils.get_db_engine()"
   ]
  },
  {
   "cell_type": "code",
   "execution_count": 10,
   "metadata": {},
   "outputs": [
    {
     "data": {
      "text/plain": [
       "32132"
      ]
     },
     "execution_count": 10,
     "metadata": {},
     "output_type": "execute_result"
    }
   ],
   "source": [
    "# upsert values\n",
    "df.to_sql(\n",
    "    name=\"reports\",\n",
    "    schema=\"raw_data\",\n",
    "    con=engine,\n",
    "    index=False,\n",
    "    if_exists=\"replace\",\n",
    "    chunksize=1000,\n",
    "    method='multi'\n",
    ")"
   ]
  }
 ],
 "metadata": {
  "kernelspec": {
   "display_name": ".venv",
   "language": "python",
   "name": "python3"
  },
  "language_info": {
   "codemirror_mode": {
    "name": "ipython",
    "version": 3
   },
   "file_extension": ".py",
   "mimetype": "text/x-python",
   "name": "python",
   "nbconvert_exporter": "python",
   "pygments_lexer": "ipython3",
   "version": "3.11.2"
  },
  "orig_nbformat": 4
 },
 "nbformat": 4,
 "nbformat_minor": 2
}
