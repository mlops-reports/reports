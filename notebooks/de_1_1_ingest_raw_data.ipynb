{
 "cells": [
  {
   "cell_type": "code",
   "execution_count": 9,
   "metadata": {},
   "outputs": [],
   "source": [
    "import pandas as pd\n",
    "\n",
    "from experiment.utils.tables.reports_raw_table import ReportsRawTable\n",
    "from experiment.utils import dbutils\n",
    "from experiment.utils import transformation"
   ]
  },
  {
   "cell_type": "code",
   "execution_count": 10,
   "metadata": {},
   "outputs": [],
   "source": [
    "db = dbutils.DatabaseUtils()"
   ]
  },
  {
   "cell_type": "code",
   "execution_count": 11,
   "metadata": {},
   "outputs": [],
   "source": [
    "# read the csv file\n",
    "raw_ct_brain = transformation.get_project_root() / \"tmp\" / \"data\" / \"raw_ct_brain.csv\"\n",
    "df = pd.read_csv(raw_ct_brain)"
   ]
  },
  {
   "cell_type": "code",
   "execution_count": 12,
   "metadata": {},
   "outputs": [],
   "source": [
    "reports_raw, Base = ReportsRawTable()\n",
    "# Base.metadata.create_all(db.engine)\n",
    "\n",
    "data_to_insert = []\n",
    "cols_to_upsert = [\"patient_no\", \"full_name\", \"report_original\"]\n",
    "for index, row in df.iterrows():\n",
    "    data_to_insert.append(\n",
    "        {\n",
    "            \"report_id\": index + 1, # use df index as report_id\n",
    "            \"protocol_no\": row[\"PROTOKOL_NO\"],\n",
    "            \"patient_no\": row[\"HASTA_NO\"],\n",
    "            \"full_name\": transformation.hash_value(row[\"AD_SOYAD\"]),\n",
    "            \"report_original\": row[\"ACIKLAMA\"],\n",
    "        }\n",
    "    )\n",
    "\n",
    "db.upsert_values(reports_raw, data_to_insert, cols_to_upsert, [\"report_id\"])"
   ]
  }
 ],
 "metadata": {
  "kernelspec": {
   "display_name": ".venv",
   "language": "python",
   "name": "python3"
  },
  "language_info": {
   "codemirror_mode": {
    "name": "ipython",
    "version": 3
   },
   "file_extension": ".py",
   "mimetype": "text/x-python",
   "name": "python",
   "nbconvert_exporter": "python",
   "pygments_lexer": "ipython3",
   "version": "3.11.2"
  },
  "orig_nbformat": 4
 },
 "nbformat": 4,
 "nbformat_minor": 2
}
