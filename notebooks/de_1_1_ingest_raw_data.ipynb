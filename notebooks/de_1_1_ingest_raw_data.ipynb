{
 "cells": [
  {
   "cell_type": "code",
   "execution_count": 1,
   "metadata": {},
   "outputs": [],
   "source": [
    "import pandas as pd\n",
    "\n",
    "from experiment.utils import dbutils\n",
    "from experiment.utils import transformation"
   ]
  },
  {
   "cell_type": "code",
   "execution_count": null,
   "metadata": {},
   "outputs": [],
   "source": [
    "# from sqlalchemy.ext.declarative import declarative_base\n",
    "# from sqlalchemy import Column, Integer, String\n",
    "# from sqlalchemy.orm import sessionmaker\n",
    "# from sqlalchemy.dialects.postgresql import insert"
   ]
  },
  {
   "cell_type": "code",
   "execution_count": 2,
   "metadata": {},
   "outputs": [],
   "source": [
    "db = dbutils.DatabaseUtils()"
   ]
  },
  {
   "cell_type": "code",
   "execution_count": 3,
   "metadata": {},
   "outputs": [],
   "source": [
    "# read the csv file\n",
    "raw_ct_brain = transformation.get_project_root() / \"tmp\" / \"data\" / \"raw_ct_brain.csv\"\n",
    "df = pd.read_csv(raw_ct_brain)\n"
   ]
  },
  {
   "cell_type": "code",
   "execution_count": 5,
   "metadata": {},
   "outputs": [
    {
     "name": "stderr",
     "output_type": "stream",
     "text": [
      "/Users/gokasci/Desktop/reports/src/experiment/utils/dbutils.py:241: SettingWithCopyWarning: \n",
      "A value is trying to be set on a copy of a slice from a DataFrame.\n",
      "Try using .loc[row_indexer,col_indexer] = value instead\n",
      "\n",
      "See the caveats in the documentation: https://pandas.pydata.org/pandas-docs/stable/user_guide/indexing.html#returning-a-view-versus-a-copy\n",
      "  df[\"INDEX\"] = df[primary_key_col]\n"
     ]
    },
    {
     "data": {
      "text/plain": [
       "True"
      ]
     },
     "execution_count": 5,
     "metadata": {},
     "output_type": "execute_result"
    }
   ],
   "source": [
    "# upsert values\n",
    "db.upsert_values(\n",
    "    df=df[:10],\n",
    "    primary_key_col=\"PROTOKOL_NO\",\n",
    "    name=\"reports\",\n",
    "    schema=\"raw_data\",\n",
    "    index=False,\n",
    "    if_exists=\"replace\",\n",
    "    chunksize=1000,\n",
    "    method='multi'\n",
    ")"
   ]
  },
  {
   "cell_type": "code",
   "execution_count": null,
   "metadata": {},
   "outputs": [],
   "source": [
    "# rows = []\n",
    "\n",
    "# for row in df.iterrows():\n",
    "#     rows.append({\n",
    "#         row[],\n",
    "#         row[],\n",
    "#         row[],\n",
    "#         row[]\n",
    "#     })\n",
    "\n",
    "# Session = sessionmaker(bind=db.engine)\n",
    "# session = Session()\n",
    "\n",
    "# Base = declarative_base()\n",
    "\n",
    "# class MyTable(Base):\n",
    "#     __tablename__ = 'my_table'\n",
    "\n",
    "#     id = Column(Integer, primary_key=True)\n",
    "#     column1 = Column(String, unique=True)\n",
    "#     column2 = Column(String)\n",
    "\n",
    "\n",
    "# insert_stmt = insert(MyTable).values(row)\n",
    "\n",
    "# insert_stmt = insert_stmt.on_conflict_do_update(\n",
    "#     constraint=\"my_table_pkey\",  # Replace with the name of your constraint\n",
    "#     set_=row\n",
    "# )\n",
    "\n",
    "# session.execute(insert_stmt)\n",
    "# session.commit()\n",
    "# session.close()"
   ]
  }
 ],
 "metadata": {
  "kernelspec": {
   "display_name": ".venv",
   "language": "python",
   "name": "python3"
  },
  "language_info": {
   "codemirror_mode": {
    "name": "ipython",
    "version": 3
   },
   "file_extension": ".py",
   "mimetype": "text/x-python",
   "name": "python",
   "nbconvert_exporter": "python",
   "pygments_lexer": "ipython3",
   "version": "3.11.2"
  },
  "orig_nbformat": 4
 },
 "nbformat": 4,
 "nbformat_minor": 2
}
