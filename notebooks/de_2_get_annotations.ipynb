{
 "cells": [
  {
   "cell_type": "code",
   "execution_count": null,
   "metadata": {},
   "outputs": [],
   "source": [
    "import pandas as pd\n",
    "import json\n",
    "# import pathlib\n",
    "\n",
    "from experiment.api import label_studio\n",
    "from experiment.utils import transformation"
   ]
  },
  {
   "cell_type": "code",
   "execution_count": null,
   "metadata": {},
   "outputs": [],
   "source": [
    "# get variables\n",
    "ANNOTATIONS_PATH = transformation.get_project_root() / \"data\" / \"output\" / \"annotations.json\"\n",
    "DB_PATH = transformation.get_project_root() / \"data\" / \"output\" / \"db.json\"\n",
    "\n",
    "# start the heroku server if stopped\n",
    "label_studio.start_label_studio()\n",
    "\n",
    "# get the annotations from the label studio server\n",
    "label_studio.download_annotations()"
   ]
  },
  {
   "cell_type": "code",
   "execution_count": null,
   "metadata": {},
   "outputs": [],
   "source": [
    "# Read the JSON data from file\n",
    "with open(ANNOTATIONS_PATH, \"r\") as file:\n",
    "    json_data = json.load(file)\n",
    "\n",
    "# Create a list to store flattened data\n",
    "flattened_data_list = []\n",
    "\n",
    "# Flatten the nested data for each entry in the JSON data\n",
    "for entry in json_data:\n",
    "    annotations = entry.get(\"annotations\", [])\n",
    "    data = entry.get(\"data\", [])\n",
    "    for annotation in annotations:\n",
    "        result = annotation.get(\"result\", [])\n",
    "        for res in result:\n",
    "            value = res.get(\"value\", {})\n",
    "            flattened_data = {\n",
    "                # \"id\": entry[\"id\"],\n",
    "                \"annotation_id\": annotation[\"id\"],\n",
    "                # \"completed_by\": annotation[\"completed_by\"],\n",
    "                \"type\": res[\"type\"],\n",
    "                # \"end\": value.get(\"end\", None),\n",
    "                # \"start\": value.get(\"start\", None),\n",
    "                \"text\": value.get(\"text\", None),\n",
    "                \"labels\": value.get(\"labels\", None),\n",
    "                \"choices\": value.get(\"choices\", None),\n",
    "                # \"origin\": res.get(\"origin\", None),\n",
    "                # \"to_name\": res.get(\"to_name\", None),\n",
    "                # \"from_name\": res.get(\"from_name\", None),\n",
    "                \"full_text\": data.get(\"text\", None),\n",
    "                \"study_no\": data.get(\"study_no\", None),\n",
    "                \"patient_no\": data.get(\"patient_no\", None),\n",
    "                \"report_date\": data.get(\"report_date\", None),\n",
    "                \"report_count\": data.get(\"report_count\", None),\n",
    "            }\n",
    "            flattened_data_list.append(flattened_data)\n",
    "\n",
    "# Convert to a Pandas DataFrame\n",
    "df = pd.DataFrame(flattened_data_list)\n",
    "\n",
    "with open(DB_PATH, \"w\") as outfile:\n",
    "    json_data = {\"annotated\": list(set(df[\"patient_no\"].to_list()))}\n",
    "    json.dump(json_data, outfile)"
   ]
  },
  {
   "cell_type": "code",
   "execution_count": null,
   "metadata": {},
   "outputs": [],
   "source": [
    "# separate labels and choices\n",
    "df_labels = df.loc[df.type == \"labels\"]\n",
    "df_choices = df.loc[df.type == \"choices\"]\n",
    "\n",
    "# merge labels & choices & select only the relevant columns\n",
    "df_labels_choices = (\n",
    "    df_labels.groupby(\"annotation_id\")\n",
    "    .agg({\"text\": \" \".join})\n",
    "    .reset_index()\n",
    "    .merge(df_choices, on=\"annotation_id\", how=\"left\")\n",
    ")[\n",
    "    [\n",
    "        \"annotation_id\",\n",
    "        # \"study_no\",\n",
    "        \"patient_no\",\n",
    "        \"report_date\",\n",
    "        # \"report_count\",\n",
    "        \"full_text\",\n",
    "        \"text_x\",\n",
    "        \"choices\",\n",
    "    ]\n",
    "].rename(\n",
    "    columns={\"text_x\": \"relevant_text\", \"choices\": \"classifications\"}\n",
    ")\n",
    "\n",
    "# update the classifications column type\n",
    "df_labels_choices[\"classifications\"] = df_labels_choices[\"classifications\"].astype(str)\n",
    "\n",
    "# filter excluded ones\n",
    "df_final = df_labels_choices.loc[\n",
    "    ~df_labels_choices[\"classifications\"].str.contains(\"Exclude\", na=False)\n",
    "]\n",
    "\n",
    "# Define a mapping of string values to integer values\n",
    "string_to_integer_mapping = {\n",
    "    \"['Emergency']\": 0,\n",
    "    \"['Normal']\": 1,\n",
    "    \"['Non Emergency [Doctor]']\": 2,\n",
    "    \"['Non Emergency [No Doctor]']\": 3,\n",
    "}\n",
    "\n",
    "# Replace string values with integer values\n",
    "df_final[\"classifications\"] = df_final[\"classifications\"].replace(\n",
    "    string_to_integer_mapping\n",
    ")"
   ]
  },
  {
   "cell_type": "code",
   "execution_count": null,
   "metadata": {},
   "outputs": [],
   "source": [
    "df_final[\"relevant_text\"][0]"
   ]
  },
  {
   "cell_type": "code",
   "execution_count": null,
   "metadata": {},
   "outputs": [],
   "source": [
    "# add word count to the data frame\n",
    "df_final[\"word_count\"] = (\n",
    "    df_final[\"relevant_text\"]\n",
    "    .apply(lambda x: len(str(x).split()))\n",
    ")\n",
    "\n",
    "# word count ascending\n",
    "df_final_sorted = df_final.sort_values([\"word_count\"], ascending=False)\n",
    "df_final_sorted.head(5)"
   ]
  },
  {
   "cell_type": "code",
   "execution_count": null,
   "metadata": {},
   "outputs": [],
   "source": [
    "df_final_sorted.to_csv(transformation.get_project_root() / \"data\" / \"output\" / \"clean_annotations.csv\")"
   ]
  },
  {
   "cell_type": "code",
   "execution_count": null,
   "metadata": {},
   "outputs": [],
   "source": [
    "# stop the instance\n",
    "label_studio.stop_label_studio()"
   ]
  }
 ],
 "metadata": {
  "kernelspec": {
   "display_name": ".venv",
   "language": "python",
   "name": "python3"
  },
  "language_info": {
   "codemirror_mode": {
    "name": "ipython",
    "version": 3
   },
   "file_extension": ".py",
   "mimetype": "text/x-python",
   "name": "python",
   "nbconvert_exporter": "python",
   "pygments_lexer": "ipython3",
   "version": "3.11.4"
  },
  "orig_nbformat": 4
 },
 "nbformat": 4,
 "nbformat_minor": 2
}
