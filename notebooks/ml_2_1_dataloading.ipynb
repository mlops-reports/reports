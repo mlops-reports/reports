{
 "cells": [
  {
   "cell_type": "code",
   "execution_count": 1,
   "metadata": {},
   "outputs": [
    {
     "ename": "ValueError",
     "evalue": "Cannot have number of splits n_splits=2 greater than the number of samples: n_samples=0.",
     "output_type": "error",
     "traceback": [
      "\u001b[0;31m---------------------------------------------------------------------------\u001b[0m",
      "\u001b[0;31mValueError\u001b[0m                                Traceback (most recent call last)",
      "\u001b[1;32m/Users/gokasci/Desktop/reports/notebooks/ml_1_dataloading.ipynb Cell 1\u001b[0m line \u001b[0;36m9\n\u001b[1;32m      <a href='vscode-notebook-cell:/Users/gokasci/Desktop/reports/notebooks/ml_1_dataloading.ipynb#W0sZmlsZQ%3D%3D?line=2'>3</a>\u001b[0m \u001b[39mfrom\u001b[39;00m \u001b[39mexperiment\u001b[39;00m\u001b[39m.\u001b[39;00m\u001b[39mmodel\u001b[39;00m\u001b[39m.\u001b[39;00m\u001b[39mdataset\u001b[39;00m \u001b[39mimport\u001b[39;00m ReportDataset, batch_collate_fn\n\u001b[1;32m      <a href='vscode-notebook-cell:/Users/gokasci/Desktop/reports/notebooks/ml_1_dataloading.ipynb#W0sZmlsZQ%3D%3D?line=4'>5</a>\u001b[0m DATASETS \u001b[39m=\u001b[39m {\n\u001b[1;32m      <a href='vscode-notebook-cell:/Users/gokasci/Desktop/reports/notebooks/ml_1_dataloading.ipynb#W0sZmlsZQ%3D%3D?line=5'>6</a>\u001b[0m     \u001b[39m\"\u001b[39m\u001b[39mreport_dataset\u001b[39m\u001b[39m\"\u001b[39m: ReportDataset,\n\u001b[1;32m      <a href='vscode-notebook-cell:/Users/gokasci/Desktop/reports/notebooks/ml_1_dataloading.ipynb#W0sZmlsZQ%3D%3D?line=6'>7</a>\u001b[0m }\n\u001b[0;32m----> <a href='vscode-notebook-cell:/Users/gokasci/Desktop/reports/notebooks/ml_1_dataloading.ipynb#W0sZmlsZQ%3D%3D?line=8'>9</a>\u001b[0m tr_dataset \u001b[39m=\u001b[39m DATASETS[\u001b[39m\"\u001b[39;49m\u001b[39mreport_dataset\u001b[39;49m\u001b[39m\"\u001b[39;49m](\n\u001b[1;32m     <a href='vscode-notebook-cell:/Users/gokasci/Desktop/reports/notebooks/ml_1_dataloading.ipynb#W0sZmlsZQ%3D%3D?line=9'>10</a>\u001b[0m     mode\u001b[39m=\u001b[39;49m\u001b[39m\"\u001b[39;49m\u001b[39mtrain\u001b[39;49m\u001b[39m\"\u001b[39;49m, n_folds\u001b[39m=\u001b[39;49m\u001b[39m5\u001b[39;49m, current_fold\u001b[39m=\u001b[39;49m\u001b[39m0\u001b[39;49m, batch_size\u001b[39m=\u001b[39;49m\u001b[39m10\u001b[39;49m, in_memory\u001b[39m=\u001b[39;49m\u001b[39mTrue\u001b[39;49;00m\n\u001b[1;32m     <a href='vscode-notebook-cell:/Users/gokasci/Desktop/reports/notebooks/ml_1_dataloading.ipynb#W0sZmlsZQ%3D%3D?line=10'>11</a>\u001b[0m )\n\u001b[1;32m     <a href='vscode-notebook-cell:/Users/gokasci/Desktop/reports/notebooks/ml_1_dataloading.ipynb#W0sZmlsZQ%3D%3D?line=12'>13</a>\u001b[0m tr_dataloader \u001b[39m=\u001b[39m DataLoader(\n\u001b[1;32m     <a href='vscode-notebook-cell:/Users/gokasci/Desktop/reports/notebooks/ml_1_dataloading.ipynb#W0sZmlsZQ%3D%3D?line=13'>14</a>\u001b[0m     tr_dataset,\n\u001b[1;32m     <a href='vscode-notebook-cell:/Users/gokasci/Desktop/reports/notebooks/ml_1_dataloading.ipynb#W0sZmlsZQ%3D%3D?line=14'>15</a>\u001b[0m     batch_size\u001b[39m=\u001b[39m\u001b[39m10\u001b[39m,\n\u001b[1;32m     <a href='vscode-notebook-cell:/Users/gokasci/Desktop/reports/notebooks/ml_1_dataloading.ipynb#W0sZmlsZQ%3D%3D?line=15'>16</a>\u001b[0m     collate_fn\u001b[39m=\u001b[39mbatch_collate_fn,\n\u001b[1;32m     <a href='vscode-notebook-cell:/Users/gokasci/Desktop/reports/notebooks/ml_1_dataloading.ipynb#W0sZmlsZQ%3D%3D?line=16'>17</a>\u001b[0m )\n",
      "File \u001b[0;32m~/Desktop/reports/src/experiment/model/dataset.py:267\u001b[0m, in \u001b[0;36mReportDataset.__init__\u001b[0;34m(self, mode, n_folds, current_fold, batch_size, in_memory)\u001b[0m\n\u001b[1;32m    256\u001b[0m \u001b[39mdef\u001b[39;00m \u001b[39m__init__\u001b[39m(\n\u001b[1;32m    257\u001b[0m     \u001b[39mself\u001b[39m,\n\u001b[1;32m    258\u001b[0m     mode: \u001b[39mstr\u001b[39m \u001b[39m=\u001b[39m \u001b[39m\"\u001b[39m\u001b[39minference\u001b[39m\u001b[39m\"\u001b[39m,\n\u001b[0;32m   (...)\u001b[0m\n\u001b[1;32m    262\u001b[0m     in_memory: \u001b[39mbool\u001b[39m \u001b[39m=\u001b[39m \u001b[39mFalse\u001b[39;00m,\n\u001b[1;32m    263\u001b[0m ):\n\u001b[1;32m    264\u001b[0m     sql_query \u001b[39m=\u001b[39m \u001b[39m\"\"\"\u001b[39m\u001b[39m SELECT * FROM annotation.choices \u001b[39m\u001b[39m\"\"\"\u001b[39m\n\u001b[0;32m--> 267\u001b[0m     \u001b[39msuper\u001b[39;49m()\u001b[39m.\u001b[39;49m\u001b[39m__init__\u001b[39;49m(\n\u001b[1;32m    268\u001b[0m         sql_query,\n\u001b[1;32m    269\u001b[0m         mode,\n\u001b[1;32m    270\u001b[0m         n_folds,\n\u001b[1;32m    271\u001b[0m         current_fold,\n\u001b[1;32m    272\u001b[0m         batch_size,\n\u001b[1;32m    273\u001b[0m         in_memory,\n\u001b[1;32m    274\u001b[0m     )\n\u001b[1;32m    275\u001b[0m     \u001b[39mself\u001b[39m\u001b[39m.\u001b[39mtokenizer \u001b[39m=\u001b[39m AutoTokenizer\u001b[39m.\u001b[39mfrom_pretrained(\u001b[39m\"\u001b[39m\u001b[39mdistilbert-base-uncased\u001b[39m\u001b[39m\"\u001b[39m)\n",
      "File \u001b[0;32m~/Desktop/reports/src/experiment/model/dataset.py:78\u001b[0m, in \u001b[0;36mBaseDataset.__init__\u001b[0;34m(self, sql_query, mode, n_folds, current_fold, batch_size, in_memory)\u001b[0m\n\u001b[1;32m     75\u001b[0m \u001b[39mself\u001b[39m\u001b[39m.\u001b[39mn_samples_total \u001b[39m=\u001b[39m \u001b[39mself\u001b[39m\u001b[39m.\u001b[39mget_number_of_samples()\n\u001b[1;32m     77\u001b[0m \u001b[39m# Keep half of the data as 'unseen' to be used in inference.\u001b[39;00m\n\u001b[0;32m---> 78\u001b[0m \u001b[39mself\u001b[39m\u001b[39m.\u001b[39mseen_data_indices, \u001b[39mself\u001b[39m\u001b[39m.\u001b[39munseen_data_indices \u001b[39m=\u001b[39m \u001b[39mself\u001b[39;49m\u001b[39m.\u001b[39;49mget_fold_indices(\n\u001b[1;32m     79\u001b[0m     \u001b[39mself\u001b[39;49m\u001b[39m.\u001b[39;49mn_samples_total, \u001b[39m2\u001b[39;49m\n\u001b[1;32m     80\u001b[0m )\n\u001b[1;32m     82\u001b[0m \u001b[39mif\u001b[39;00m \u001b[39mnot\u001b[39;00m mode \u001b[39m==\u001b[39m \u001b[39m\"\u001b[39m\u001b[39minference\u001b[39m\u001b[39m\"\u001b[39m \u001b[39mand\u001b[39;00m in_memory:\n\u001b[1;32m     83\u001b[0m     \u001b[39mself\u001b[39m\u001b[39m.\u001b[39msamples_labels \u001b[39m=\u001b[39m \u001b[39mself\u001b[39m\u001b[39m.\u001b[39mget_labels()\n",
      "File \u001b[0;32m~/Desktop/reports/src/experiment/model/dataset.py:237\u001b[0m, in \u001b[0;36mBaseDataset.get_fold_indices\u001b[0;34m(self, all_data_size, n_folds, fold_id)\u001b[0m\n\u001b[1;32m    235\u001b[0m kf \u001b[39m=\u001b[39m KFold(n_splits\u001b[39m=\u001b[39mn_folds, shuffle\u001b[39m=\u001b[39m\u001b[39mTrue\u001b[39;00m)\n\u001b[1;32m    236\u001b[0m split_indices \u001b[39m=\u001b[39m kf\u001b[39m.\u001b[39msplit(\u001b[39mrange\u001b[39m(all_data_size))\n\u001b[0;32m--> 237\u001b[0m train_indices, val_indices \u001b[39m=\u001b[39m [\n\u001b[1;32m    238\u001b[0m     (np\u001b[39m.\u001b[39;49marray(train), np\u001b[39m.\u001b[39;49marray(val)) \u001b[39mfor\u001b[39;49;00m train, val \u001b[39min\u001b[39;49;00m split_indices\n\u001b[1;32m    239\u001b[0m ][fold_id]\n\u001b[1;32m    240\u001b[0m \u001b[39m# Split train and test\u001b[39;00m\n\u001b[1;32m    241\u001b[0m \u001b[39mreturn\u001b[39;00m train_indices, val_indices\n",
      "File \u001b[0;32m~/Desktop/reports/src/experiment/model/dataset.py:237\u001b[0m, in \u001b[0;36m<listcomp>\u001b[0;34m(.0)\u001b[0m\n\u001b[1;32m    235\u001b[0m kf \u001b[39m=\u001b[39m KFold(n_splits\u001b[39m=\u001b[39mn_folds, shuffle\u001b[39m=\u001b[39m\u001b[39mTrue\u001b[39;00m)\n\u001b[1;32m    236\u001b[0m split_indices \u001b[39m=\u001b[39m kf\u001b[39m.\u001b[39msplit(\u001b[39mrange\u001b[39m(all_data_size))\n\u001b[0;32m--> 237\u001b[0m train_indices, val_indices \u001b[39m=\u001b[39m [\n\u001b[1;32m    238\u001b[0m     (np\u001b[39m.\u001b[39marray(train), np\u001b[39m.\u001b[39marray(val)) \u001b[39mfor\u001b[39;00m train, val \u001b[39min\u001b[39;00m split_indices\n\u001b[1;32m    239\u001b[0m ][fold_id]\n\u001b[1;32m    240\u001b[0m \u001b[39m# Split train and test\u001b[39;00m\n\u001b[1;32m    241\u001b[0m \u001b[39mreturn\u001b[39;00m train_indices, val_indices\n",
      "File \u001b[0;32m~/Desktop/reports/.venv/lib/python3.11/site-packages/sklearn/model_selection/_split.py:370\u001b[0m, in \u001b[0;36m_BaseKFold.split\u001b[0;34m(self, X, y, groups)\u001b[0m\n\u001b[1;32m    368\u001b[0m n_samples \u001b[39m=\u001b[39m _num_samples(X)\n\u001b[1;32m    369\u001b[0m \u001b[39mif\u001b[39;00m \u001b[39mself\u001b[39m\u001b[39m.\u001b[39mn_splits \u001b[39m>\u001b[39m n_samples:\n\u001b[0;32m--> 370\u001b[0m     \u001b[39mraise\u001b[39;00m \u001b[39mValueError\u001b[39;00m(\n\u001b[1;32m    371\u001b[0m         (\n\u001b[1;32m    372\u001b[0m             \u001b[39m\"\u001b[39m\u001b[39mCannot have number of splits n_splits=\u001b[39m\u001b[39m{0}\u001b[39;00m\u001b[39m greater\u001b[39m\u001b[39m\"\u001b[39m\n\u001b[1;32m    373\u001b[0m             \u001b[39m\"\u001b[39m\u001b[39m than the number of samples: n_samples=\u001b[39m\u001b[39m{1}\u001b[39;00m\u001b[39m.\u001b[39m\u001b[39m\"\u001b[39m\n\u001b[1;32m    374\u001b[0m         )\u001b[39m.\u001b[39mformat(\u001b[39mself\u001b[39m\u001b[39m.\u001b[39mn_splits, n_samples)\n\u001b[1;32m    375\u001b[0m     )\n\u001b[1;32m    377\u001b[0m \u001b[39mfor\u001b[39;00m train, test \u001b[39min\u001b[39;00m \u001b[39msuper\u001b[39m()\u001b[39m.\u001b[39msplit(X, y, groups):\n\u001b[1;32m    378\u001b[0m     \u001b[39myield\u001b[39;00m train, test\n",
      "\u001b[0;31mValueError\u001b[0m: Cannot have number of splits n_splits=2 greater than the number of samples: n_samples=0."
     ]
    }
   ],
   "source": [
    "from torch.utils.data import DataLoader\n",
    "\n",
    "from experiment.model.dataset import ReportDataset, batch_collate_fn\n",
    "\n",
    "DATASETS = {\n",
    "    \"report_dataset\": ReportDataset,\n",
    "}\n",
    "\n",
    "tr_dataset = DATASETS[\"report_dataset\"](\n",
    "    mode=\"train\", n_folds=5, current_fold=0, batch_size=10, in_memory=True\n",
    ")\n",
    "\n",
    "tr_dataloader = DataLoader(\n",
    "    tr_dataset,\n",
    "    batch_size=10,\n",
    "    collate_fn=batch_collate_fn,\n",
    ")"
   ]
  },
  {
   "cell_type": "code",
   "execution_count": null,
   "metadata": {},
   "outputs": [],
   "source": [
    "for report, classification in tr_dataloader:\n",
    "    print(report)\n",
    "    "
   ]
  }
 ],
 "metadata": {
  "kernelspec": {
   "display_name": ".venv",
   "language": "python",
   "name": "python3"
  },
  "language_info": {
   "codemirror_mode": {
    "name": "ipython",
    "version": 3
   },
   "file_extension": ".py",
   "mimetype": "text/x-python",
   "name": "python",
   "nbconvert_exporter": "python",
   "pygments_lexer": "ipython3",
   "version": "3.11.2"
  },
  "orig_nbformat": 4
 },
 "nbformat": 4,
 "nbformat_minor": 2
}
