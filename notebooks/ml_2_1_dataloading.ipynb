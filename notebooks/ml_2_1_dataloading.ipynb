{
 "cells": [
  {
   "cell_type": "code",
   "execution_count": null,
   "metadata": {},
   "outputs": [],
   "source": [
    "from torch.utils.data import DataLoader\n",
    "from experiment.utils.logging import logger\n",
    "from experiment.model.dataset import ReportDataset, batch_collate_fn\n",
    "\n",
    "DATASETS = {\n",
    "    \"report_dataset\": ReportDataset,\n",
    "}\n",
    "\n",
    "tr_dataset = DATASETS[\"report_dataset\"](\n",
    "    mode=\"train\", n_folds=5, current_fold=0, batch_size=10, in_memory=True\n",
    ")\n",
    "\n",
    "tr_dataloader = DataLoader(\n",
    "    tr_dataset,\n",
    "    batch_size=10,\n",
    "    collate_fn=batch_collate_fn,\n",
    ")"
   ]
  },
  {
   "cell_type": "code",
   "execution_count": null,
   "metadata": {},
   "outputs": [],
   "source": [
    "for report, classification in tr_dataloader:\n",
    "    logger.info(logger)"
   ]
  }
 ],
 "metadata": {
  "kernelspec": {
   "display_name": ".venv",
   "language": "python",
   "name": "python3"
  },
  "language_info": {
   "codemirror_mode": {
    "name": "ipython",
    "version": 3
   },
   "file_extension": ".py",
   "mimetype": "text/x-python",
   "name": "python",
   "nbconvert_exporter": "python",
   "pygments_lexer": "ipython3",
   "version": "3.11.6"
  },
  "orig_nbformat": 4
 },
 "nbformat": 4,
 "nbformat_minor": 2
}
