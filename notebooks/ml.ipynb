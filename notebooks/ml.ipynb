{
 "cells": [
  {
   "cell_type": "code",
   "execution_count": 854,
   "metadata": {},
   "outputs": [],
   "source": [
    "import tensorflow as tf\n",
    "# from tensorflow import keras\n",
    "import nltk\n",
    "import simplemma\n",
    "import pandas as pd\n",
    "import pathlib\n",
    "import json\n",
    "import numpy as np\n",
    "import matplotlib.pyplot as plt\n",
    "\n",
    "from tensorflow.keras.preprocessing.text import Tokenizer\n",
    "from tensorflow.keras.preprocessing.sequence import pad_sequences"
   ]
  },
  {
   "cell_type": "code",
   "execution_count": 855,
   "metadata": {},
   "outputs": [
    {
     "name": "stderr",
     "output_type": "stream",
     "text": [
      "[nltk_data] Downloading package stopwords to\n",
      "[nltk_data]     /Users/gokasci/nltk_data...\n",
      "[nltk_data]   Package stopwords is already up-to-date!\n"
     ]
    }
   ],
   "source": [
    "working_dir = pathlib.Path.cwd()\n",
    "\n",
    "nltk.download(\"stopwords\")\n",
    "\n",
    "# get Turkish stopwords\n",
    "turkish_stopwords = nltk.corpus.stopwords.words(\"turkish\")\n",
    "\n",
    "# tokenizer without comma\n",
    "regexp_tokenizer = nltk.tokenize.RegexpTokenizer(r\"\\w+\")\n",
    "\n",
    "# word corrections\n",
    "with open(working_dir.parent / \"data\" / \"input\" / \"word_corrections.json\", \"r\") as file:\n",
    "    word_corrections = json.load(file)"
   ]
  },
  {
   "cell_type": "markdown",
   "metadata": {},
   "source": [
    "1. Emergency\n",
    "2. Normal\n",
    "3. Non Emergency [Doctor]\n",
    "4. Non Emergency [No Doctor]"
   ]
  },
  {
   "cell_type": "code",
   "execution_count": 856,
   "metadata": {},
   "outputs": [],
   "source": [
    "clean_annotations = pd.read_csv(working_dir.parent / \"data\" / \"output\" / \"clean_annotations.csv\")\n",
    "\n",
    "sentences = clean_annotations[\"relevant_text\"].to_list()\n",
    "labels = clean_annotations[\"classifications\"].to_list()"
   ]
  },
  {
   "cell_type": "code",
   "execution_count": 857,
   "metadata": {},
   "outputs": [
    {
     "data": {
      "text/plain": [
       "['Kontrastsız Beyin BT Kafa kaidesi ve kalvarial kemik yapılar normal sınırlardadır. 4.ventrikül ve bazal sisternalar normal genişliktedir. Posterior fossa oluşumları olağandır. İntrakranial hipo veya hiperdens sınırlanabilen patoloji saptanmadı. 3.ventrikül orta hatta ve normal genişliktedir. Lateral ventriküller olağandır. Beyin orta hat yapılarında yer değiştirme saptanmamıştır. Serebral sulkuslar olağandır. Nazal septum sola deviye görünümdedir ve BTye yansıyan tipik bir akut iskemi bulgusu mevcut değildir.  Ancak bu konuda klinik kuşku varsa olgunun diffüzyon MRG ile değerlendirilmesi ve detaylandırılması daha yararlı olacaktır. ',\n",
       " 'Sol serebellar hemisferde sekel ??? ensefalomalazi sahaları ve eski iskemi sekeli değişiklikler izlenmektedir. Sağ serebellar hemisfer düzeyinde de benzer bulgular izlenmekle birlikte her iki serebellumda atrofi bulguları ve folyolarda belirginleşme mevcuttur. Supratentorial kesitlerin değerlendirilmesinde 3. ve lateral ventrikul, konveksite sulkusları atrofiye sekonder belirginleşmiştir. Sağda posterior serebral arter sulama sahasında kronik iskemik sekel gliozis sahalarının varlığı mevcuttur. Periventrikuler lökoriazis alanları izlenmektedir. ',\n",
       " ' Periventriküler derin beyaz cevherde kronik iskemik gliozise bağlı dansite kaybı izlenmektedir. Bazal sisterna ve serebral konvekste sulkuslarının genişliği atrofi ile uyumlu artmıştır. Sağ oksipital lobda kronik infarkt sekeli ensefalomalazi- gliozis ile uyumlu hipodens alan mevcuttur. Sağ kapsüle interna ön bölümünde de kronik infarkta ait hipodens alan izlenmiştir. Her iki lateral ventrikül genişliği atrofi zemininde hafif artmış görünümdedir. ',\n",
       " 'Sağda orbita tavanınd frontal sinüs tabanında çökme gösteren fraktür hatları izlenmiştir. Sağ orbita medial duvarında da fraktür hatları izlenmektedir. Sağ orbita tabanında maksiller sinüs üst duvarında yine çökme gösteren fraktür hattı mevcut olup orbital yağ dokunun bu düzeyden maksiller sinüse doğru uzanımı saptanmıştır. Sağ maksiller sinüs içerisinde kanama ile uyumlu yüksek dansiteli görünümlerde izlenmiştir. ',\n",
       " 'Sağ orbita üst duvarında fraktüre ait görünüm izlenmekte olup medial kesimde frontal sinüs duvarına uzanmaktadır,fraktüre komşu dural planlarda milimetrik hava değerleri mevcuttur.Sağ frontal sinüs inferior kesiminde anterior duvarda da fraktür hattı izlenmiştir.Sağ frontal bölgede ve periorbital alanda cilt altı yumuşak dokuda ödem- hematom ile uyumlu dansite ve kalınlık artışı ile hava değerleri mevcuttur. ']"
      ]
     },
     "execution_count": 857,
     "metadata": {},
     "output_type": "execute_result"
    }
   ],
   "source": [
    "sentences[:5]"
   ]
  },
  {
   "cell_type": "code",
   "execution_count": 858,
   "metadata": {},
   "outputs": [],
   "source": [
    "vocab_size = 10000\n",
    "embedding_dim = 16\n",
    "max_input_length = 25 # default\n",
    "trunc_type='post'\n",
    "padding_type='post'\n",
    "oov_token = None # \"<OOV>\"\n",
    "training_percent = 80\n",
    "num_epochs = 25"
   ]
  },
  {
   "cell_type": "code",
   "execution_count": 859,
   "metadata": {},
   "outputs": [],
   "source": [
    "def find_and_replace_in_string(input_string, replacements):\n",
    "    for key, value in replacements.items():\n",
    "        input_string = input_string.replace(key, value)\n",
    "    return input_string\n",
    "\n",
    "\n",
    "def find_longest_sentence_length(sentences):\n",
    "    longest_length = max(len(sentence.split()) for sentence in sentences)\n",
    "    return longest_length\n",
    "\n",
    "\n",
    "def plot_graphs(history, string):\n",
    "    plt.plot(history.history[string])\n",
    "    plt.plot(history.history[\"val_\" + string])\n",
    "    plt.xlabel(\"Epochs\")\n",
    "    plt.ylabel(string)\n",
    "    plt.legend([string, \"val_\" + string])\n",
    "    plt.show()\n",
    "\n",
    "\n",
    "def sentence_cleaning_pipeline(sentences):\n",
    "    return [\n",
    "        find_and_replace_in_string(\n",
    "            \" \".join(\n",
    "                [\n",
    "                    simplemma.lemmatize(word, lang=\"tr\").lower()\n",
    "                    for word in regexp_tokenizer.tokenize(sentence)\n",
    "                    if word not in turkish_stopwords\n",
    "                ]\n",
    "            ),\n",
    "            word_corrections,\n",
    "        )\n",
    "        for sentence in sentences\n",
    "    ]\n",
    "\n",
    "def calculate_matching_ratio(list1, list2):\n",
    "    if len(list1) != len(list2):\n",
    "        return \"Lists are not of the same length\"\n",
    "    matches = sum(i == j for i, j in zip(list1, list2))\n",
    "    return matches / len(list1)"
   ]
  },
  {
   "cell_type": "markdown",
   "metadata": {},
   "source": [
    "1. Remove punctuation\n",
    "2. Only lower letters\n",
    "3. Lemmatize\n",
    "4. Remove stop words\n",
    "5. Manual corrections"
   ]
  },
  {
   "cell_type": "code",
   "execution_count": 860,
   "metadata": {},
   "outputs": [
    {
     "data": {
      "text/plain": [
       "['kontrast beyin bt kafa kaide kalvarial kemik yapı normal sınır 4 ventrikül bazal sisternalar normal genişlik poster fos oluşum olağan i̇ntrakranial hipo hiperdens sınırlanabi patoloji sapta 3 ventrikül orta hatta normal genişlik lateral ventrikül olağan beyin orta hat yapı yer değiş sapta serebral sulkus olağan nazal septum sol deviye görünüm btye yansı tipik bir akut iskemi bulgu mevcut değil ancak konu klinik kuşku var olgu diffüzyon mrg değer detaylandırılması yarar ol',\n",
       " 'sol serebellar hemisfer sekel ensefalomalazi saha eski iskemi sekel değişik izle sağ serebellar hemisfer düzey benzer bulgu izle birlikte iki serebellumda atrofi bulgu folyo belirgin mevcut supratentorial kesit değerlendirilmesin 3 lateral ventrikul konveksit sulkus atrofiye sekonder belirgin sağ poster serebral arter sula saha kronik iskemik sekel gliozis saha varlık mevcut periventrikuler lökoriazis alan izle',\n",
       " 'periventriküler derin beyaz cevher kronik iskemik gliozise bağ dansite kayıp izle bazal sisterna serebral konveks sulkuslar genişlik atrofi uyum art sağ oksipital lobda kronik infarkt sekel ensefalomalazi gliozis uyum hipodens al mevcut sağ kapsül interna ön bölüm kronik infarkta ait hipodens al izle her iki lateral ventrikül genişlik atrofi zemin hafif art görünüm',\n",
       " 'sağ orbita tavan frontal sinüs taban çök göster fraktür hat izle sağ orbita medial duvar fraktür hat izle sağ orbita taban maksil sinüs üst duvar yine çök göster fraktür hat mevcut ol orbital yağ doku düzey maksil sinüs doğru uzanım sapta sağ maksil sinüs içeri kana uyum yüksek dansit görünüm izle',\n",
       " 'sağ orbita üst duvar fraktüre ait görünüm izle ol medial kesim frontal sinüs duvar uza fraktüre komşu dural plan milimetrik hava değer mevcut sağ frontal sinüs inferior kesim anterior duvar fraktür hat izle sağ frontal bölge periorbital alan cilt altı yumuşak doku ödem hematom uyum dansite kalınlık art hava değer mevcut']"
      ]
     },
     "execution_count": 860,
     "metadata": {},
     "output_type": "execute_result"
    }
   ],
   "source": [
    "clean_sentences = sentence_cleaning_pipeline(sentences)\n",
    "max_input_length = find_longest_sentence_length(clean_sentences)\n",
    "\n",
    "# show clean sentences\n",
    "clean_sentences[:5]"
   ]
  },
  {
   "cell_type": "code",
   "execution_count": 861,
   "metadata": {},
   "outputs": [
    {
     "data": {
      "text/plain": [
       "[1, 3, 3, 0, 0]"
      ]
     },
     "execution_count": 861,
     "metadata": {},
     "output_type": "execute_result"
    }
   ],
   "source": [
    "labels[:5]"
   ]
  },
  {
   "cell_type": "code",
   "execution_count": 862,
   "metadata": {},
   "outputs": [],
   "source": [
    "# manuall test the word lemmatizer\n",
    "# word = \"hemisferde\"\n",
    "# simplemma.lemmatize(word, lang=\"tr\").lower()"
   ]
  },
  {
   "cell_type": "code",
   "execution_count": 863,
   "metadata": {},
   "outputs": [],
   "source": [
    "training_size = int(len(clean_sentences) * training_percent / 100)\n",
    "training_sentences = clean_sentences[0:training_size]\n",
    "testing_sentences = clean_sentences[training_size:]\n",
    "training_labels = labels[0:training_size]\n",
    "testing_labels = labels[training_size:]"
   ]
  },
  {
   "cell_type": "code",
   "execution_count": 864,
   "metadata": {},
   "outputs": [],
   "source": [
    "tokenizer = Tokenizer(num_words=vocab_size, oov_token=oov_token)"
   ]
  },
  {
   "cell_type": "code",
   "execution_count": 865,
   "metadata": {},
   "outputs": [],
   "source": [
    "tokenizer.fit_on_texts(training_sentences)\n",
    "\n",
    "training_sequences = tokenizer.texts_to_sequences(training_sentences)\n",
    "training_padded = pad_sequences(training_sequences, maxlen=max_input_length, padding=padding_type, truncating=trunc_type)\n",
    "testing_sequences = tokenizer.texts_to_sequences(testing_sentences)\n",
    "testing_padded = pad_sequences(testing_sequences, maxlen=max_input_length, padding=padding_type, truncating=trunc_type)\n",
    "\n",
    "training_padded = np.array(training_padded)\n",
    "training_labels = np.array(training_labels)\n",
    "testing_padded = np.array(testing_padded)\n",
    "testing_labels = np.array(testing_labels)"
   ]
  },
  {
   "cell_type": "code",
   "execution_count": 866,
   "metadata": {},
   "outputs": [],
   "source": [
    "model = tf.keras.Sequential(\n",
    "    [\n",
    "        tf.keras.layers.Embedding(\n",
    "            vocab_size, embedding_dim, input_length=max_input_length\n",
    "        ),\n",
    "        tf.keras.layers.GlobalAveragePooling1D(),\n",
    "        tf.keras.layers.Dense(64, activation=\"relu\"),\n",
    "        tf.keras.layers.Dense(64, activation=\"relu\"),\n",
    "        tf.keras.layers.Dense(64, activation=\"relu\"),\n",
    "        tf.keras.layers.Dense(32, activation=\"relu\"),\n",
    "        tf.keras.layers.Dense(4, activation=\"softmax\"),\n",
    "    ]\n",
    ")\n",
    "model.compile(\n",
    "    loss=\"sparse_categorical_crossentropy\", optimizer=\"adam\", metrics=[\"accuracy\"]\n",
    ")"
   ]
  },
  {
   "cell_type": "code",
   "execution_count": 867,
   "metadata": {},
   "outputs": [
    {
     "name": "stdout",
     "output_type": "stream",
     "text": [
      "Model: \"sequential_33\"\n",
      "_________________________________________________________________\n",
      " Layer (type)                Output Shape              Param #   \n",
      "=================================================================\n",
      " embedding_33 (Embedding)    (None, 71, 16)            160000    \n",
      "                                                                 \n",
      " global_average_pooling1d_3  (None, 16)                0         \n",
      " 3 (GlobalAveragePooling1D)                                      \n",
      "                                                                 \n",
      " dense_169 (Dense)           (None, 64)                1088      \n",
      "                                                                 \n",
      " dense_170 (Dense)           (None, 64)                4160      \n",
      "                                                                 \n",
      " dense_171 (Dense)           (None, 64)                4160      \n",
      "                                                                 \n",
      " dense_172 (Dense)           (None, 32)                2080      \n",
      "                                                                 \n",
      " dense_173 (Dense)           (None, 4)                 132       \n",
      "                                                                 \n",
      "=================================================================\n",
      "Total params: 171620 (670.39 KB)\n",
      "Trainable params: 171620 (670.39 KB)\n",
      "Non-trainable params: 0 (0.00 Byte)\n",
      "_________________________________________________________________\n"
     ]
    }
   ],
   "source": [
    "model.summary()\n"
   ]
  },
  {
   "cell_type": "code",
   "execution_count": 868,
   "metadata": {},
   "outputs": [
    {
     "name": "stdout",
     "output_type": "stream",
     "text": [
      "Epoch 1/25\n"
     ]
    },
    {
     "name": "stdout",
     "output_type": "stream",
     "text": [
      "6/6 - 0s - loss: 1.3819 - accuracy: 0.5238 - val_loss: 1.3647 - val_accuracy: 0.6364 - 278ms/epoch - 46ms/step\n",
      "Epoch 2/25\n",
      "6/6 - 0s - loss: 1.3652 - accuracy: 0.4286 - val_loss: 1.3427 - val_accuracy: 0.6364 - 19ms/epoch - 3ms/step\n",
      "Epoch 3/25\n",
      "6/6 - 0s - loss: 1.3449 - accuracy: 0.6667 - val_loss: 1.3119 - val_accuracy: 0.6364 - 19ms/epoch - 3ms/step\n",
      "Epoch 4/25\n",
      "6/6 - 0s - loss: 1.3130 - accuracy: 0.7381 - val_loss: 1.2759 - val_accuracy: 0.6364 - 20ms/epoch - 3ms/step\n",
      "Epoch 5/25\n",
      "6/6 - 0s - loss: 1.2715 - accuracy: 0.7619 - val_loss: 1.2375 - val_accuracy: 0.6364 - 19ms/epoch - 3ms/step\n",
      "Epoch 6/25\n",
      "6/6 - 0s - loss: 1.2094 - accuracy: 0.7619 - val_loss: 1.1894 - val_accuracy: 0.6364 - 18ms/epoch - 3ms/step\n",
      "Epoch 7/25\n",
      "6/6 - 0s - loss: 1.1293 - accuracy: 0.7619 - val_loss: 1.1333 - val_accuracy: 0.6364 - 19ms/epoch - 3ms/step\n",
      "Epoch 8/25\n",
      "6/6 - 0s - loss: 1.0261 - accuracy: 0.7619 - val_loss: 1.0962 - val_accuracy: 0.6364 - 19ms/epoch - 3ms/step\n",
      "Epoch 9/25\n",
      "6/6 - 0s - loss: 0.9006 - accuracy: 0.7619 - val_loss: 1.0697 - val_accuracy: 0.6364 - 18ms/epoch - 3ms/step\n",
      "Epoch 10/25\n",
      "6/6 - 0s - loss: 0.8213 - accuracy: 0.7619 - val_loss: 1.0981 - val_accuracy: 0.6364 - 18ms/epoch - 3ms/step\n",
      "Epoch 11/25\n",
      "6/6 - 0s - loss: 0.7421 - accuracy: 0.7619 - val_loss: 1.1147 - val_accuracy: 0.6364 - 18ms/epoch - 3ms/step\n",
      "Epoch 12/25\n",
      "6/6 - 0s - loss: 0.6890 - accuracy: 0.7619 - val_loss: 1.0910 - val_accuracy: 0.6364 - 19ms/epoch - 3ms/step\n",
      "Epoch 13/25\n",
      "6/6 - 0s - loss: 0.6508 - accuracy: 0.7619 - val_loss: 1.0484 - val_accuracy: 0.6364 - 18ms/epoch - 3ms/step\n",
      "Epoch 14/25\n",
      "6/6 - 0s - loss: 0.6117 - accuracy: 0.7619 - val_loss: 1.0025 - val_accuracy: 0.6364 - 19ms/epoch - 3ms/step\n",
      "Epoch 15/25\n",
      "6/6 - 0s - loss: 0.5981 - accuracy: 0.7619 - val_loss: 0.9687 - val_accuracy: 0.6364 - 18ms/epoch - 3ms/step\n",
      "Epoch 16/25\n",
      "6/6 - 0s - loss: 0.5673 - accuracy: 0.7619 - val_loss: 0.9594 - val_accuracy: 0.6364 - 19ms/epoch - 3ms/step\n",
      "Epoch 17/25\n",
      "6/6 - 0s - loss: 0.5425 - accuracy: 0.8333 - val_loss: 0.9476 - val_accuracy: 0.6364 - 19ms/epoch - 3ms/step\n",
      "Epoch 18/25\n",
      "6/6 - 0s - loss: 0.5126 - accuracy: 0.8333 - val_loss: 0.9463 - val_accuracy: 0.6364 - 20ms/epoch - 3ms/step\n",
      "Epoch 19/25\n",
      "6/6 - 0s - loss: 0.4772 - accuracy: 0.8333 - val_loss: 0.9668 - val_accuracy: 0.6364 - 19ms/epoch - 3ms/step\n",
      "Epoch 20/25\n",
      "6/6 - 0s - loss: 0.4475 - accuracy: 0.8810 - val_loss: 1.0133 - val_accuracy: 0.6364 - 20ms/epoch - 3ms/step\n",
      "Epoch 21/25\n",
      "6/6 - 0s - loss: 0.4078 - accuracy: 0.8810 - val_loss: 1.0084 - val_accuracy: 0.6364 - 20ms/epoch - 3ms/step\n",
      "Epoch 22/25\n",
      "6/6 - 0s - loss: 0.3694 - accuracy: 0.8810 - val_loss: 0.9449 - val_accuracy: 0.6364 - 20ms/epoch - 3ms/step\n",
      "Epoch 23/25\n",
      "6/6 - 0s - loss: 0.3511 - accuracy: 0.8810 - val_loss: 0.9222 - val_accuracy: 0.6364 - 19ms/epoch - 3ms/step\n",
      "Epoch 24/25\n",
      "6/6 - 0s - loss: 0.2985 - accuracy: 0.9048 - val_loss: 0.9485 - val_accuracy: 0.5455 - 19ms/epoch - 3ms/step\n",
      "Epoch 25/25\n",
      "6/6 - 0s - loss: 0.2723 - accuracy: 0.9048 - val_loss: 0.8879 - val_accuracy: 0.5455 - 20ms/epoch - 3ms/step\n"
     ]
    }
   ],
   "source": [
    "history = model.fit(training_padded, training_labels, epochs=num_epochs, batch_size=8, validation_data=(testing_padded, testing_labels), verbose=2)"
   ]
  },
  {
   "cell_type": "code",
   "execution_count": 869,
   "metadata": {},
   "outputs": [
    {
     "data": {
      "image/png": "[encoded data removed]",
      "text/plain": [
       "<Figure size 640x480 with 1 Axes>"
      ]
     },
     "metadata": {},
     "output_type": "display_data"
    },
    {
     "data": {
      "image/png": "[encoded data removed]",
      "text/plain": [
       "<Figure size 640x480 with 1 Axes>"
      ]
     },
     "metadata": {},
     "output_type": "display_data"
    }
   ],
   "source": [
    "plot_graphs(history, \"accuracy\")\n",
    "plot_graphs(history, \"loss\")"
   ]
  },
  {
   "cell_type": "code",
   "execution_count": 870,
   "metadata": {},
   "outputs": [],
   "source": [
    "testing_items_till = 52"
   ]
  },
  {
   "cell_type": "code",
   "execution_count": 871,
   "metadata": {},
   "outputs": [
    {
     "data": {
      "text/plain": [
       "['kontrast beyin bt kafa kaide kalvarial kemik yapı normal sınır 4 ventrikül bazal sisternalar normal genişlik poster fos oluşum olağan i̇ntrakranial hipo hiperdens sınırlanabi patoloji sapta 3 ventrikül orta hatta normal genişlik lateral ventrikül olağan beyin orta hat yapı yer değiş sapta serebral sulkus olağan nazal septum sol deviye görünüm btye yansı tipik bir akut iskemi bulgu mevcut değil ancak konu klinik kuşku var olgu diffüzyon mrg değer detaylandırılması yarar ol',\n",
       " 'sol serebellar hemisfer sekel ensefalomalazi saha eski iskemi sekel değişik izle sağ serebellar hemisfer düzey benzer bulgu izle birlikte iki serebellumda atrofi bulgu folyo belirgin mevcut supratentorial kesit değerlendirilmesin 3 lateral ventrikul konveksit sulkus atrofiye sekonder belirgin sağ poster serebral arter sula saha kronik iskemik sekel gliozis saha varlık mevcut periventrikuler lökoriazis alan izle',\n",
       " 'periventriküler derin beyaz cevher kronik iskemik gliozise bağ dansite kayıp izle bazal sisterna serebral konveks sulkuslar genişlik atrofi uyum art sağ oksipital lobda kronik infarkt sekel ensefalomalazi gliozis uyum hipodens al mevcut sağ kapsül interna ön bölüm kronik infarkta ait hipodens al izle her iki lateral ventrikül genişlik atrofi zemin hafif art görünüm']"
      ]
     },
     "execution_count": 871,
     "metadata": {},
     "output_type": "execute_result"
    }
   ],
   "source": [
    "prediction_sentences = clean_sentences[:testing_items_till]\n",
    "prediction_sentences[:3]"
   ]
  },
  {
   "cell_type": "code",
   "execution_count": 872,
   "metadata": {},
   "outputs": [
    {
     "name": "stdout",
     "output_type": "stream",
     "text": [
      "2/2 [==============================] - 0s 1ms/step\n"
     ]
    }
   ],
   "source": [
    "# predict a sentence\n",
    "tokenizer.fit_on_texts(prediction_sentences)\n",
    "prediction_sequences = tokenizer.texts_to_sequences(prediction_sentences)\n",
    "prediction_padded = pad_sequences(prediction_sequences, maxlen=max_input_length, padding=padding_type, truncating=trunc_type)\n",
    "prediction_padded = np.array(prediction_padded)\n",
    "predictions = model.predict(prediction_padded)\n",
    "predictions = [np.argmax(prediction) for prediction in predictions]"
   ]
  },
  {
   "cell_type": "code",
   "execution_count": 873,
   "metadata": {},
   "outputs": [
    {
     "data": {
      "text/plain": [
       "0.7307692307692307"
      ]
     },
     "execution_count": 873,
     "metadata": {},
     "output_type": "execute_result"
    }
   ],
   "source": [
    "calculate_matching_ratio(labels[:testing_items_till], predictions)"
   ]
  }
 ],
 "metadata": {
  "kernelspec": {
   "display_name": ".venv",
   "language": "python",
   "name": "python3"
  },
  "language_info": {
   "codemirror_mode": {
    "name": "ipython",
    "version": 3
   },
   "file_extension": ".py",
   "mimetype": "text/x-python",
   "name": "python",
   "nbconvert_exporter": "python",
   "pygments_lexer": "ipython3",
   "version": "3.11.4"
  },
  "orig_nbformat": 4
 },
 "nbformat": 4,
 "nbformat_minor": 2
}
