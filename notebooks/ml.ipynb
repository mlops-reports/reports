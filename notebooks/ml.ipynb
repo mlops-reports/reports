{
 "cells": [
  {
   "cell_type": "code",
   "execution_count": 376,
   "metadata": {},
   "outputs": [],
   "source": [
    "import tensorflow as tf\n",
    "# from tensorflow import keras\n",
    "import nltk\n",
    "import simplemma\n",
    "import pandas as pd\n",
    "import pathlib\n",
    "import json\n",
    "import numpy as np\n",
    "import matplotlib.pyplot as plt\n",
    "\n",
    "from tensorflow.keras.preprocessing.text import Tokenizer\n",
    "from tensorflow.keras.preprocessing.sequence import pad_sequences"
   ]
  },
  {
   "cell_type": "code",
   "execution_count": 377,
   "metadata": {},
   "outputs": [
    {
     "name": "stderr",
     "output_type": "stream",
     "text": [
      "[nltk_data] Downloading package stopwords to\n",
      "[nltk_data]     /Users/gokasci/nltk_data...\n",
      "[nltk_data]   Package stopwords is already up-to-date!\n"
     ]
    }
   ],
   "source": [
    "working_dir = pathlib.Path.cwd()\n",
    "\n",
    "nltk.download(\"stopwords\")\n",
    "\n",
    "# get Turkish stopwords\n",
    "turkish_stopwords = nltk.corpus.stopwords.words(\"turkish\")\n",
    "\n",
    "# tokenizer without comma\n",
    "regexp_tokenizer = nltk.tokenize.RegexpTokenizer(r\"\\w+\")\n",
    "\n",
    "# word corrections\n",
    "with open(working_dir.parent / \"data\" / \"input\" / \"word_corrections.json\", \"r\") as file:\n",
    "    word_corrections = json.load(file)"
   ]
  },
  {
   "cell_type": "markdown",
   "metadata": {},
   "source": [
    "1. Emergency\n",
    "2. Normal\n",
    "3. Non Emergency [Doctor]\n",
    "4. Non Emergency [No Doctor]"
   ]
  },
  {
   "cell_type": "code",
   "execution_count": 378,
   "metadata": {},
   "outputs": [],
   "source": [
    "clean_annotations = pd.read_csv(working_dir.parent / \"data\" / \"output\" / \"clean_annotations.csv\")\n",
    "\n",
    "sentences = clean_annotations[\"relevant_text\"].to_list()\n",
    "labels = clean_annotations[\"classifications\"].to_list()"
   ]
  },
  {
   "cell_type": "code",
   "execution_count": 379,
   "metadata": {},
   "outputs": [
    {
     "data": {
      "text/plain": [
       "['Kontrastsız Beyin BT Kafa kaidesi ve kalvarial kemik yapılar normal sınırlardadır. 4.ventrikül ve bazal sisternalar normal genişliktedir. Posterior fossa oluşumları olağandır. İntrakranial hipo veya hiperdens sınırlanabilen patoloji saptanmadı. 3.ventrikül orta hatta ve normal genişliktedir. Lateral ventriküller olağandır. Beyin orta hat yapılarında yer değiştirme saptanmamıştır. Serebral sulkuslar olağandır. Nazal septum sola deviye görünümdedir ve BTye yansıyan tipik bir akut iskemi bulgusu mevcut değildir.  Ancak bu konuda klinik kuşku varsa olgunun diffüzyon MRG ile değerlendirilmesi ve detaylandırılması daha yararlı olacaktır. ',\n",
       " 'Sol serebellar hemisferde sekel ??? ensefalomalazi sahaları ve eski iskemi sekeli değişiklikler izlenmektedir. Sağ serebellar hemisfer düzeyinde de benzer bulgular izlenmekle birlikte her iki serebellumda atrofi bulguları ve folyolarda belirginleşme mevcuttur. Supratentorial kesitlerin değerlendirilmesinde 3. ve lateral ventrikul, konveksite sulkusları atrofiye sekonder belirginleşmiştir. Sağda posterior serebral arter sulama sahasında kronik iskemik sekel gliozis sahalarının varlığı mevcuttur. Periventrikuler lökoriazis alanları izlenmektedir. ',\n",
       " ' Periventriküler derin beyaz cevherde kronik iskemik gliozise bağlı dansite kaybı izlenmektedir. Bazal sisterna ve serebral konvekste sulkuslarının genişliği atrofi ile uyumlu artmıştır. Sağ oksipital lobda kronik infarkt sekeli ensefalomalazi- gliozis ile uyumlu hipodens alan mevcuttur. Sağ kapsüle interna ön bölümünde de kronik infarkta ait hipodens alan izlenmiştir. Her iki lateral ventrikül genişliği atrofi zemininde hafif artmış görünümdedir. ',\n",
       " 'Sağda orbita tavanınd frontal sinüs tabanında çökme gösteren fraktür hatları izlenmiştir. Sağ orbita medial duvarında da fraktür hatları izlenmektedir. Sağ orbita tabanında maksiller sinüs üst duvarında yine çökme gösteren fraktür hattı mevcut olup orbital yağ dokunun bu düzeyden maksiller sinüse doğru uzanımı saptanmıştır. Sağ maksiller sinüs içerisinde kanama ile uyumlu yüksek dansiteli görünümlerde izlenmiştir. ',\n",
       " 'Sağ orbita üst duvarında fraktüre ait görünüm izlenmekte olup medial kesimde frontal sinüs duvarına uzanmaktadır,fraktüre komşu dural planlarda milimetrik hava değerleri mevcuttur.Sağ frontal sinüs inferior kesiminde anterior duvarda da fraktür hattı izlenmiştir.Sağ frontal bölgede ve periorbital alanda cilt altı yumuşak dokuda ödem- hematom ile uyumlu dansite ve kalınlık artışı ile hava değerleri mevcuttur. ']"
      ]
     },
     "execution_count": 379,
     "metadata": {},
     "output_type": "execute_result"
    }
   ],
   "source": [
    "sentences[:5]"
   ]
  },
  {
   "cell_type": "code",
   "execution_count": 380,
   "metadata": {},
   "outputs": [],
   "source": [
    "vocab_size = 10000\n",
    "embedding_dim = 16\n",
    "max_input_length = 100 # default\n",
    "trunc_type='post'\n",
    "padding_type='post'\n",
    "oov_token = None # \"<OOV>\"\n",
    "training_percent = 80"
   ]
  },
  {
   "cell_type": "code",
   "execution_count": 381,
   "metadata": {},
   "outputs": [],
   "source": [
    "def find_and_replace_in_string(input_string, replacements):\n",
    "    for key, value in replacements.items():\n",
    "        input_string = input_string.replace(key, value)\n",
    "    return input_string\n",
    "\n",
    "def find_longest_sentence_length(sentences):\n",
    "    longest_length = max(len(sentence.split()) for sentence in sentences)\n",
    "    return longest_length\n",
    "\n",
    "def plot_graphs(history, string):\n",
    "    plt.plot(history.history[string])\n",
    "    plt.plot(history.history['val_'+string])\n",
    "    plt.xlabel(\"Epochs\")\n",
    "    plt.ylabel(string)\n",
    "    plt.legend([string, 'val_'+string])\n",
    "    plt.show()"
   ]
  },
  {
   "cell_type": "markdown",
   "metadata": {},
   "source": [
    "1. Remove punctuation\n",
    "2. Only lower letters\n",
    "3. Lemmatize\n",
    "4. Remove stop words\n",
    "5. Manual corrections"
   ]
  },
  {
   "cell_type": "code",
   "execution_count": 382,
   "metadata": {},
   "outputs": [
    {
     "data": {
      "text/plain": [
       "['kontrast beyin bt kafa kaide kalvarial kemik yapı normal sınır 4 ventrikül bazal sisternalar normal genişlik poster fos oluşum olağan i̇ntrakranial hipo hiperdens sınırlanabi patoloji sapta 3 ventrikül orta hatta normal genişlik lateral ventrikül olağan beyin orta hat yapı yer değiş sapta serebral sulkus olağan nazal septum sol deviye görünüm btye yansı tipik bir akut iskemi bulgu mevcut değil ancak konu klinik kuşku var olgu diffüzyon mrg değer detaylandırılması yarar ol',\n",
       " 'sol serebellar hemisfer sekel ensefalomalazi saha eski iskemi sekel değişik izle sağ serebellar hemisfer düzey benzer bulgu izle birlikte iki serebellumda atrofi bulgu folyo belirgin mevcut supratentorial kesit değerlendirilmesin 3 lateral ventrikul konveksit sulkus atrofiye sekonder belirgin sağ poster serebral arter sula saha kronik iskemik sekel gliozis saha varlık mevcut periventrikuler lökoriazis alan izle',\n",
       " 'periventriküler derin beyaz cevher kronik iskemik gliozise bağ dansite kayıp izle bazal sisterna serebral konveks sulkuslar genişlik atrofi uyum art sağ oksipital lobda kronik infarkt sekel ensefalomalazi gliozis uyum hipodens al mevcut sağ kapsül interna ön bölüm kronik infarkta ait hipodens al izle her iki lateral ventrikül genişlik atrofi zemin hafif art görünüm',\n",
       " 'sağ orbita tavan frontal sinüs taban çök göster fraktür hat izle sağ orbita medial duvar fraktür hat izle sağ orbita taban maksil sinüs üst duvar yine çök göster fraktür hat mevcut ol orbital yağ doku düzey maksil sinüs doğru uzanım sapta sağ maksil sinüs içeri kana uyum yüksek dansit görünüm izle',\n",
       " 'sağ orbita üst duvar fraktüre ait görünüm izle ol medial kesim frontal sinüs duvar uza fraktüre komşu dural plan milimetrik hava değer mevcut sağ frontal sinüs inferior kesim anterior duvar fraktür hat izle sağ frontal bölge periorbital alan cilt altı yumuşak doku ödem hematom uyum dansite kalınlık art hava değer mevcut']"
      ]
     },
     "execution_count": 382,
     "metadata": {},
     "output_type": "execute_result"
    }
   ],
   "source": [
    "clean_sentences = [\n",
    "    find_and_replace_in_string(\n",
    "        \" \".join(\n",
    "            [\n",
    "                simplemma.lemmatize(word, lang=\"tr\").lower()\n",
    "                for word in regexp_tokenizer.tokenize(sentence)\n",
    "                if word not in turkish_stopwords\n",
    "            ]\n",
    "        ),\n",
    "        word_corrections,\n",
    "    )\n",
    "    for sentence in sentences\n",
    "]\n",
    "\n",
    "# show clean sentences\n",
    "clean_sentences[:5]"
   ]
  },
  {
   "cell_type": "code",
   "execution_count": 383,
   "metadata": {},
   "outputs": [
    {
     "data": {
      "text/plain": [
       "[1, 3, 3, 0, 0]"
      ]
     },
     "execution_count": 383,
     "metadata": {},
     "output_type": "execute_result"
    }
   ],
   "source": [
    "labels[:5]"
   ]
  },
  {
   "cell_type": "code",
   "execution_count": 384,
   "metadata": {},
   "outputs": [],
   "source": [
    "max_input_length = find_longest_sentence_length(clean_sentences)"
   ]
  },
  {
   "cell_type": "code",
   "execution_count": 385,
   "metadata": {},
   "outputs": [],
   "source": [
    "# manuall test the word lemmatizer\n",
    "# word = \"hemisferde\"\n",
    "# simplemma.lemmatize(word, lang=\"tr\").lower()"
   ]
  },
  {
   "cell_type": "code",
   "execution_count": 386,
   "metadata": {},
   "outputs": [],
   "source": [
    "training_size = int(len(clean_sentences) * training_percent / 100)\n",
    "training_sentences = clean_sentences[0:training_size]\n",
    "testing_sentences = clean_sentences[training_size:]\n",
    "training_labels = labels[0:training_size]\n",
    "testing_labels = labels[training_size:]"
   ]
  },
  {
   "cell_type": "code",
   "execution_count": 387,
   "metadata": {},
   "outputs": [],
   "source": [
    "tokenizer = Tokenizer(num_words=vocab_size, oov_token=oov_token)\n",
    "tokenizer.fit_on_texts(training_sentences)\n",
    "word_index = tokenizer.word_index\n",
    "\n",
    "training_sequences = tokenizer.texts_to_sequences(training_sentences)\n",
    "training_padded = pad_sequences(training_sequences, maxlen=max_input_length, padding=padding_type, truncating=trunc_type)\n",
    "testing_sequences = tokenizer.texts_to_sequences(testing_sentences)\n",
    "testing_padded = pad_sequences(testing_sequences, maxlen=max_input_length, padding=padding_type, truncating=trunc_type)\n",
    "\n",
    "training_padded = np.array(training_padded)\n",
    "training_labels = np.array(training_labels)\n",
    "testing_padded = np.array(testing_padded)\n",
    "testing_labels = np.array(testing_labels)"
   ]
  },
  {
   "cell_type": "code",
   "execution_count": 388,
   "metadata": {},
   "outputs": [
    {
     "data": {
      "text/plain": [
       "array([3, 3, 2, 2, 3, 2, 3, 2, 3, 3, 3])"
      ]
     },
     "execution_count": 388,
     "metadata": {},
     "output_type": "execute_result"
    }
   ],
   "source": [
    "testing_labels"
   ]
  },
  {
   "cell_type": "code",
   "execution_count": 389,
   "metadata": {},
   "outputs": [],
   "source": [
    "model = tf.keras.Sequential([\n",
    "    tf.keras.layers.Embedding(vocab_size, embedding_dim, input_length=max_input_length),\n",
    "    tf.keras.layers.GlobalAveragePooling1D(),\n",
    "    tf.keras.layers.Dense(64, activation='relu'),\n",
    "    tf.keras.layers.Dense(64, activation='relu'),\n",
    "    # tf.keras.layers.Dense(64, activation='relu'),\n",
    "    tf.keras.layers.Dense(64, activation='relu'),\n",
    "    tf.keras.layers.Dense(32, activation='relu'),\n",
    "    tf.keras.layers.Dense(4, activation='softmax')\n",
    "])\n",
    "model.compile(loss='sparse_categorical_crossentropy',optimizer='adam',metrics=['accuracy'])"
   ]
  },
  {
   "cell_type": "code",
   "execution_count": 390,
   "metadata": {},
   "outputs": [
    {
     "name": "stdout",
     "output_type": "stream",
     "text": [
      "Model: \"sequential_16\"\n",
      "_________________________________________________________________\n",
      " Layer (type)                Output Shape              Param #   \n",
      "=================================================================\n",
      " embedding_16 (Embedding)    (None, 71, 16)            160000    \n",
      "                                                                 \n",
      " global_average_pooling1d_1  (None, 16)                0         \n",
      " 6 (GlobalAveragePooling1D)                                      \n",
      "                                                                 \n",
      " dense_73 (Dense)            (None, 64)                1088      \n",
      "                                                                 \n",
      " dense_74 (Dense)            (None, 64)                4160      \n",
      "                                                                 \n",
      " dense_75 (Dense)            (None, 64)                4160      \n",
      "                                                                 \n",
      " dense_76 (Dense)            (None, 32)                2080      \n",
      "                                                                 \n",
      " dense_77 (Dense)            (None, 4)                 132       \n",
      "                                                                 \n",
      "=================================================================\n",
      "Total params: 171620 (670.39 KB)\n",
      "Trainable params: 171620 (670.39 KB)\n",
      "Non-trainable params: 0 (0.00 Byte)\n",
      "_________________________________________________________________\n"
     ]
    }
   ],
   "source": [
    "model.summary()\n"
   ]
  },
  {
   "cell_type": "code",
   "execution_count": 391,
   "metadata": {},
   "outputs": [
    {
     "name": "stdout",
     "output_type": "stream",
     "text": [
      "Epoch 1/100\n"
     ]
    },
    {
     "name": "stdout",
     "output_type": "stream",
     "text": [
      "2/2 - 0s - loss: 1.3858 - accuracy: 0.3333 - val_loss: 1.3837 - val_accuracy: 0.0000e+00 - 261ms/epoch - 130ms/step\n",
      "Epoch 2/100\n",
      "2/2 - 0s - loss: 1.3794 - accuracy: 0.3571 - val_loss: 1.3787 - val_accuracy: 0.0000e+00 - 14ms/epoch - 7ms/step\n",
      "Epoch 3/100\n",
      "2/2 - 0s - loss: 1.3715 - accuracy: 0.3571 - val_loss: 1.3733 - val_accuracy: 0.0000e+00 - 14ms/epoch - 7ms/step\n",
      "Epoch 4/100\n",
      "2/2 - 0s - loss: 1.3625 - accuracy: 0.3571 - val_loss: 1.3685 - val_accuracy: 0.0000e+00 - 14ms/epoch - 7ms/step\n",
      "Epoch 5/100\n",
      "2/2 - 0s - loss: 1.3538 - accuracy: 0.3571 - val_loss: 1.3627 - val_accuracy: 0.0000e+00 - 13ms/epoch - 7ms/step\n",
      "Epoch 6/100\n",
      "2/2 - 0s - loss: 1.3455 - accuracy: 0.3571 - val_loss: 1.3564 - val_accuracy: 0.0000e+00 - 14ms/epoch - 7ms/step\n",
      "Epoch 7/100\n",
      "2/2 - 0s - loss: 1.3338 - accuracy: 0.3571 - val_loss: 1.3498 - val_accuracy: 0.0000e+00 - 14ms/epoch - 7ms/step\n",
      "Epoch 8/100\n",
      "2/2 - 0s - loss: 1.3234 - accuracy: 0.3571 - val_loss: 1.3426 - val_accuracy: 0.0000e+00 - 13ms/epoch - 7ms/step\n",
      "Epoch 9/100\n",
      "2/2 - 0s - loss: 1.3108 - accuracy: 0.3571 - val_loss: 1.3348 - val_accuracy: 0.5455 - 14ms/epoch - 7ms/step\n",
      "Epoch 10/100\n",
      "2/2 - 0s - loss: 1.2986 - accuracy: 0.4286 - val_loss: 1.3284 - val_accuracy: 0.6364 - 14ms/epoch - 7ms/step\n",
      "Epoch 11/100\n",
      "2/2 - 0s - loss: 1.2857 - accuracy: 0.5714 - val_loss: 1.3230 - val_accuracy: 0.6364 - 14ms/epoch - 7ms/step\n",
      "Epoch 12/100\n",
      "2/2 - 0s - loss: 1.2702 - accuracy: 0.6429 - val_loss: 1.3195 - val_accuracy: 0.6364 - 14ms/epoch - 7ms/step\n",
      "Epoch 13/100\n",
      "2/2 - 0s - loss: 1.2564 - accuracy: 0.6905 - val_loss: 1.3192 - val_accuracy: 0.6364 - 14ms/epoch - 7ms/step\n",
      "Epoch 14/100\n",
      "2/2 - 0s - loss: 1.2458 - accuracy: 0.7143 - val_loss: 1.3209 - val_accuracy: 0.6364 - 14ms/epoch - 7ms/step\n",
      "Epoch 15/100\n",
      "2/2 - 0s - loss: 1.2327 - accuracy: 0.7619 - val_loss: 1.3249 - val_accuracy: 0.6364 - 13ms/epoch - 7ms/step\n",
      "Epoch 16/100\n",
      "2/2 - 0s - loss: 1.2216 - accuracy: 0.7619 - val_loss: 1.3309 - val_accuracy: 0.6364 - 13ms/epoch - 7ms/step\n",
      "Epoch 17/100\n",
      "2/2 - 0s - loss: 1.2117 - accuracy: 0.7619 - val_loss: 1.3364 - val_accuracy: 0.6364 - 13ms/epoch - 7ms/step\n",
      "Epoch 18/100\n",
      "2/2 - 0s - loss: 1.2028 - accuracy: 0.7619 - val_loss: 1.3335 - val_accuracy: 0.6364 - 13ms/epoch - 7ms/step\n",
      "Epoch 19/100\n",
      "2/2 - 0s - loss: 1.1918 - accuracy: 0.7381 - val_loss: 1.3268 - val_accuracy: 0.6364 - 13ms/epoch - 7ms/step\n",
      "Epoch 20/100\n",
      "2/2 - 0s - loss: 1.1825 - accuracy: 0.4286 - val_loss: 1.3164 - val_accuracy: 0.6364 - 14ms/epoch - 7ms/step\n",
      "Epoch 21/100\n",
      "2/2 - 0s - loss: 1.1714 - accuracy: 0.4286 - val_loss: 1.3062 - val_accuracy: 0.6364 - 14ms/epoch - 7ms/step\n",
      "Epoch 22/100\n",
      "2/2 - 0s - loss: 1.1578 - accuracy: 0.4286 - val_loss: 1.3018 - val_accuracy: 0.6364 - 13ms/epoch - 7ms/step\n",
      "Epoch 23/100\n",
      "2/2 - 0s - loss: 1.1416 - accuracy: 0.4286 - val_loss: 1.2974 - val_accuracy: 0.6364 - 14ms/epoch - 7ms/step\n",
      "Epoch 24/100\n",
      "2/2 - 0s - loss: 1.1231 - accuracy: 0.4524 - val_loss: 1.2892 - val_accuracy: 0.6364 - 13ms/epoch - 7ms/step\n",
      "Epoch 25/100\n",
      "2/2 - 0s - loss: 1.0987 - accuracy: 0.7381 - val_loss: 1.2740 - val_accuracy: 0.6364 - 14ms/epoch - 7ms/step\n",
      "Epoch 26/100\n",
      "2/2 - 0s - loss: 1.0700 - accuracy: 0.7381 - val_loss: 1.2554 - val_accuracy: 0.6364 - 14ms/epoch - 7ms/step\n",
      "Epoch 27/100\n",
      "2/2 - 0s - loss: 1.0402 - accuracy: 0.7381 - val_loss: 1.2402 - val_accuracy: 0.6364 - 14ms/epoch - 7ms/step\n",
      "Epoch 28/100\n",
      "2/2 - 0s - loss: 1.0014 - accuracy: 0.7381 - val_loss: 1.2291 - val_accuracy: 0.6364 - 14ms/epoch - 7ms/step\n",
      "Epoch 29/100\n",
      "2/2 - 0s - loss: 0.9630 - accuracy: 0.7619 - val_loss: 1.2186 - val_accuracy: 0.6364 - 14ms/epoch - 7ms/step\n",
      "Epoch 30/100\n",
      "2/2 - 0s - loss: 0.9200 - accuracy: 0.7619 - val_loss: 1.2088 - val_accuracy: 0.6364 - 13ms/epoch - 7ms/step\n",
      "Epoch 31/100\n",
      "2/2 - 0s - loss: 0.8785 - accuracy: 0.7619 - val_loss: 1.1981 - val_accuracy: 0.6364 - 13ms/epoch - 7ms/step\n",
      "Epoch 32/100\n",
      "2/2 - 0s - loss: 0.8329 - accuracy: 0.7619 - val_loss: 1.1893 - val_accuracy: 0.6364 - 14ms/epoch - 7ms/step\n",
      "Epoch 33/100\n",
      "2/2 - 0s - loss: 0.7863 - accuracy: 0.7619 - val_loss: 1.1813 - val_accuracy: 0.6364 - 14ms/epoch - 7ms/step\n",
      "Epoch 34/100\n",
      "2/2 - 0s - loss: 0.7429 - accuracy: 0.7619 - val_loss: 1.1735 - val_accuracy: 0.6364 - 14ms/epoch - 7ms/step\n",
      "Epoch 35/100\n",
      "2/2 - 0s - loss: 0.7026 - accuracy: 0.7619 - val_loss: 1.1637 - val_accuracy: 0.6364 - 14ms/epoch - 7ms/step\n",
      "Epoch 36/100\n",
      "2/2 - 0s - loss: 0.6624 - accuracy: 0.7619 - val_loss: 1.1510 - val_accuracy: 0.6364 - 13ms/epoch - 7ms/step\n",
      "Epoch 37/100\n",
      "2/2 - 0s - loss: 0.6228 - accuracy: 0.7619 - val_loss: 1.1403 - val_accuracy: 0.6364 - 13ms/epoch - 7ms/step\n",
      "Epoch 38/100\n",
      "2/2 - 0s - loss: 0.5881 - accuracy: 0.7619 - val_loss: 1.1361 - val_accuracy: 0.6364 - 14ms/epoch - 7ms/step\n",
      "Epoch 39/100\n",
      "2/2 - 0s - loss: 0.5595 - accuracy: 0.7619 - val_loss: 1.1365 - val_accuracy: 0.6364 - 13ms/epoch - 7ms/step\n",
      "Epoch 40/100\n",
      "2/2 - 0s - loss: 0.5329 - accuracy: 0.7619 - val_loss: 1.1344 - val_accuracy: 0.6364 - 14ms/epoch - 7ms/step\n",
      "Epoch 41/100\n",
      "2/2 - 0s - loss: 0.5103 - accuracy: 0.7619 - val_loss: 1.1321 - val_accuracy: 0.6364 - 13ms/epoch - 7ms/step\n",
      "Epoch 42/100\n",
      "2/2 - 0s - loss: 0.4907 - accuracy: 0.7857 - val_loss: 1.1373 - val_accuracy: 0.6364 - 13ms/epoch - 7ms/step\n",
      "Epoch 43/100\n",
      "2/2 - 0s - loss: 0.4743 - accuracy: 0.8095 - val_loss: 1.1457 - val_accuracy: 0.6364 - 13ms/epoch - 7ms/step\n",
      "Epoch 44/100\n",
      "2/2 - 0s - loss: 0.4570 - accuracy: 0.8095 - val_loss: 1.1398 - val_accuracy: 0.6364 - 13ms/epoch - 6ms/step\n",
      "Epoch 45/100\n",
      "2/2 - 0s - loss: 0.4387 - accuracy: 0.8095 - val_loss: 1.1376 - val_accuracy: 0.6364 - 14ms/epoch - 7ms/step\n",
      "Epoch 46/100\n",
      "2/2 - 0s - loss: 0.4185 - accuracy: 0.8095 - val_loss: 1.1433 - val_accuracy: 0.6364 - 14ms/epoch - 7ms/step\n",
      "Epoch 47/100\n",
      "2/2 - 0s - loss: 0.4090 - accuracy: 0.9048 - val_loss: 1.1481 - val_accuracy: 0.6364 - 14ms/epoch - 7ms/step\n",
      "Epoch 48/100\n",
      "2/2 - 0s - loss: 0.3902 - accuracy: 0.9048 - val_loss: 1.1421 - val_accuracy: 0.6364 - 14ms/epoch - 7ms/step\n",
      "Epoch 49/100\n",
      "2/2 - 0s - loss: 0.3727 - accuracy: 0.9048 - val_loss: 1.1361 - val_accuracy: 0.6364 - 14ms/epoch - 7ms/step\n",
      "Epoch 50/100\n",
      "2/2 - 0s - loss: 0.3567 - accuracy: 0.9048 - val_loss: 1.1271 - val_accuracy: 0.6364 - 13ms/epoch - 7ms/step\n",
      "Epoch 51/100\n",
      "2/2 - 0s - loss: 0.3423 - accuracy: 0.9048 - val_loss: 1.1144 - val_accuracy: 0.6364 - 14ms/epoch - 7ms/step\n",
      "Epoch 52/100\n",
      "2/2 - 0s - loss: 0.3291 - accuracy: 0.9048 - val_loss: 1.0914 - val_accuracy: 0.6364 - 13ms/epoch - 7ms/step\n",
      "Epoch 53/100\n",
      "2/2 - 0s - loss: 0.3153 - accuracy: 0.9048 - val_loss: 1.0847 - val_accuracy: 0.6364 - 13ms/epoch - 7ms/step\n",
      "Epoch 54/100\n",
      "2/2 - 0s - loss: 0.3058 - accuracy: 0.9048 - val_loss: 1.0635 - val_accuracy: 0.6364 - 13ms/epoch - 7ms/step\n",
      "Epoch 55/100\n",
      "2/2 - 0s - loss: 0.2896 - accuracy: 0.9048 - val_loss: 1.0284 - val_accuracy: 0.6364 - 15ms/epoch - 7ms/step\n",
      "Epoch 56/100\n",
      "2/2 - 0s - loss: 0.2789 - accuracy: 0.9048 - val_loss: 1.0198 - val_accuracy: 0.6364 - 14ms/epoch - 7ms/step\n",
      "Epoch 57/100\n",
      "2/2 - 0s - loss: 0.2680 - accuracy: 0.9048 - val_loss: 0.9900 - val_accuracy: 0.6364 - 13ms/epoch - 7ms/step\n",
      "Epoch 58/100\n",
      "2/2 - 0s - loss: 0.2552 - accuracy: 0.9048 - val_loss: 0.9602 - val_accuracy: 0.6364 - 14ms/epoch - 7ms/step\n",
      "Epoch 59/100\n",
      "2/2 - 0s - loss: 0.2448 - accuracy: 0.9048 - val_loss: 0.9460 - val_accuracy: 0.6364 - 13ms/epoch - 7ms/step\n",
      "Epoch 60/100\n",
      "2/2 - 0s - loss: 0.2364 - accuracy: 0.9048 - val_loss: 0.9213 - val_accuracy: 0.6364 - 14ms/epoch - 7ms/step\n",
      "Epoch 61/100\n",
      "2/2 - 0s - loss: 0.2249 - accuracy: 0.9048 - val_loss: 0.8964 - val_accuracy: 0.6364 - 14ms/epoch - 7ms/step\n",
      "Epoch 62/100\n",
      "2/2 - 0s - loss: 0.2153 - accuracy: 0.9048 - val_loss: 0.8743 - val_accuracy: 0.6364 - 14ms/epoch - 7ms/step\n",
      "Epoch 63/100\n",
      "2/2 - 0s - loss: 0.2050 - accuracy: 0.9048 - val_loss: 0.8570 - val_accuracy: 0.6364 - 14ms/epoch - 7ms/step\n",
      "Epoch 64/100\n",
      "2/2 - 0s - loss: 0.1960 - accuracy: 0.9048 - val_loss: 0.8404 - val_accuracy: 0.6364 - 14ms/epoch - 7ms/step\n",
      "Epoch 65/100\n",
      "2/2 - 0s - loss: 0.1880 - accuracy: 0.9048 - val_loss: 0.8266 - val_accuracy: 0.6364 - 14ms/epoch - 7ms/step\n",
      "Epoch 66/100\n",
      "2/2 - 0s - loss: 0.1815 - accuracy: 0.9048 - val_loss: 0.8095 - val_accuracy: 0.6364 - 14ms/epoch - 7ms/step\n",
      "Epoch 67/100\n",
      "2/2 - 0s - loss: 0.1735 - accuracy: 0.9048 - val_loss: 0.7916 - val_accuracy: 0.6364 - 14ms/epoch - 7ms/step\n",
      "Epoch 68/100\n",
      "2/2 - 0s - loss: 0.1643 - accuracy: 0.9286 - val_loss: 0.7760 - val_accuracy: 0.6364 - 14ms/epoch - 7ms/step\n",
      "Epoch 69/100\n",
      "2/2 - 0s - loss: 0.1583 - accuracy: 0.9286 - val_loss: 0.7626 - val_accuracy: 0.6364 - 14ms/epoch - 7ms/step\n",
      "Epoch 70/100\n",
      "2/2 - 0s - loss: 0.1511 - accuracy: 0.9286 - val_loss: 0.7507 - val_accuracy: 0.6364 - 14ms/epoch - 7ms/step\n",
      "Epoch 71/100\n",
      "2/2 - 0s - loss: 0.1417 - accuracy: 0.9762 - val_loss: 0.7562 - val_accuracy: 0.6364 - 14ms/epoch - 7ms/step\n",
      "Epoch 72/100\n",
      "2/2 - 0s - loss: 0.1377 - accuracy: 0.9762 - val_loss: 0.7599 - val_accuracy: 0.6364 - 14ms/epoch - 7ms/step\n",
      "Epoch 73/100\n",
      "2/2 - 0s - loss: 0.1325 - accuracy: 0.9762 - val_loss: 0.7253 - val_accuracy: 0.5455 - 14ms/epoch - 7ms/step\n",
      "Epoch 74/100\n",
      "2/2 - 0s - loss: 0.1229 - accuracy: 0.9762 - val_loss: 0.7040 - val_accuracy: 0.5455 - 14ms/epoch - 7ms/step\n",
      "Epoch 75/100\n",
      "2/2 - 0s - loss: 0.1156 - accuracy: 0.9762 - val_loss: 0.7197 - val_accuracy: 0.7273 - 14ms/epoch - 7ms/step\n",
      "Epoch 76/100\n",
      "2/2 - 0s - loss: 0.1113 - accuracy: 1.0000 - val_loss: 0.7197 - val_accuracy: 0.7273 - 14ms/epoch - 7ms/step\n",
      "Epoch 77/100\n",
      "2/2 - 0s - loss: 0.1043 - accuracy: 1.0000 - val_loss: 0.6976 - val_accuracy: 0.4545 - 13ms/epoch - 7ms/step\n",
      "Epoch 78/100\n",
      "2/2 - 0s - loss: 0.0958 - accuracy: 1.0000 - val_loss: 0.7022 - val_accuracy: 0.5455 - 14ms/epoch - 7ms/step\n",
      "Epoch 79/100\n",
      "2/2 - 0s - loss: 0.0907 - accuracy: 1.0000 - val_loss: 0.7056 - val_accuracy: 0.4545 - 14ms/epoch - 7ms/step\n",
      "Epoch 80/100\n",
      "2/2 - 0s - loss: 0.0809 - accuracy: 1.0000 - val_loss: 0.7354 - val_accuracy: 0.7273 - 15ms/epoch - 7ms/step\n",
      "Epoch 81/100\n",
      "2/2 - 0s - loss: 0.0803 - accuracy: 1.0000 - val_loss: 0.7610 - val_accuracy: 0.7273 - 15ms/epoch - 7ms/step\n",
      "Epoch 82/100\n",
      "2/2 - 0s - loss: 0.0721 - accuracy: 1.0000 - val_loss: 0.7319 - val_accuracy: 0.6364 - 14ms/epoch - 7ms/step\n",
      "Epoch 83/100\n",
      "2/2 - 0s - loss: 0.0653 - accuracy: 1.0000 - val_loss: 0.7342 - val_accuracy: 0.4545 - 14ms/epoch - 7ms/step\n",
      "Epoch 84/100\n",
      "2/2 - 0s - loss: 0.0610 - accuracy: 1.0000 - val_loss: 0.7350 - val_accuracy: 0.6364 - 15ms/epoch - 7ms/step\n",
      "Epoch 85/100\n",
      "2/2 - 0s - loss: 0.0551 - accuracy: 1.0000 - val_loss: 0.7474 - val_accuracy: 0.6364 - 14ms/epoch - 7ms/step\n",
      "Epoch 86/100\n",
      "2/2 - 0s - loss: 0.0495 - accuracy: 1.0000 - val_loss: 0.7815 - val_accuracy: 0.7273 - 14ms/epoch - 7ms/step\n",
      "Epoch 87/100\n",
      "2/2 - 0s - loss: 0.0449 - accuracy: 1.0000 - val_loss: 0.7907 - val_accuracy: 0.7273 - 14ms/epoch - 7ms/step\n",
      "Epoch 88/100\n",
      "2/2 - 0s - loss: 0.0403 - accuracy: 1.0000 - val_loss: 0.7851 - val_accuracy: 0.7273 - 17ms/epoch - 8ms/step\n",
      "Epoch 89/100\n",
      "2/2 - 0s - loss: 0.0368 - accuracy: 1.0000 - val_loss: 0.7980 - val_accuracy: 0.7273 - 15ms/epoch - 8ms/step\n",
      "Epoch 90/100\n",
      "2/2 - 0s - loss: 0.0334 - accuracy: 1.0000 - val_loss: 0.8226 - val_accuracy: 0.6364 - 15ms/epoch - 8ms/step\n",
      "Epoch 91/100\n",
      "2/2 - 0s - loss: 0.0305 - accuracy: 1.0000 - val_loss: 0.8453 - val_accuracy: 0.6364 - 15ms/epoch - 8ms/step\n",
      "Epoch 92/100\n",
      "2/2 - 0s - loss: 0.0278 - accuracy: 1.0000 - val_loss: 0.8645 - val_accuracy: 0.6364 - 14ms/epoch - 7ms/step\n",
      "Epoch 93/100\n",
      "2/2 - 0s - loss: 0.0254 - accuracy: 1.0000 - val_loss: 0.8774 - val_accuracy: 0.6364 - 15ms/epoch - 8ms/step\n",
      "Epoch 94/100\n",
      "2/2 - 0s - loss: 0.0233 - accuracy: 1.0000 - val_loss: 0.8970 - val_accuracy: 0.6364 - 16ms/epoch - 8ms/step\n",
      "Epoch 95/100\n",
      "2/2 - 0s - loss: 0.0211 - accuracy: 1.0000 - val_loss: 0.9086 - val_accuracy: 0.6364 - 16ms/epoch - 8ms/step\n",
      "Epoch 96/100\n",
      "2/2 - 0s - loss: 0.0193 - accuracy: 1.0000 - val_loss: 0.9211 - val_accuracy: 0.6364 - 15ms/epoch - 8ms/step\n",
      "Epoch 97/100\n",
      "2/2 - 0s - loss: 0.0176 - accuracy: 1.0000 - val_loss: 0.9381 - val_accuracy: 0.6364 - 15ms/epoch - 8ms/step\n",
      "Epoch 98/100\n",
      "2/2 - 0s - loss: 0.0161 - accuracy: 1.0000 - val_loss: 0.9360 - val_accuracy: 0.6364 - 14ms/epoch - 7ms/step\n",
      "Epoch 99/100\n",
      "2/2 - 0s - loss: 0.0145 - accuracy: 1.0000 - val_loss: 0.9412 - val_accuracy: 0.6364 - 14ms/epoch - 7ms/step\n",
      "Epoch 100/100\n",
      "2/2 - 0s - loss: 0.0133 - accuracy: 1.0000 - val_loss: 0.9601 - val_accuracy: 0.6364 - 14ms/epoch - 7ms/step\n"
     ]
    }
   ],
   "source": [
    "num_epochs = 100\n",
    "history = model.fit(training_padded, training_labels, epochs=num_epochs, validation_data=(testing_padded, testing_labels), verbose=2)"
   ]
  },
  {
   "cell_type": "code",
   "execution_count": 392,
   "metadata": {},
   "outputs": [
    {
     "data": {
      "image/png": "[encoded data removed]",
      "text/plain": [
       "<Figure size 640x480 with 1 Axes>"
      ]
     },
     "metadata": {},
     "output_type": "display_data"
    },
    {
     "data": {
      "image/png": "[encoded data removed]",
      "text/plain": [
       "<Figure size 640x480 with 1 Axes>"
      ]
     },
     "metadata": {},
     "output_type": "display_data"
    }
   ],
   "source": [
    "plot_graphs(history, \"accuracy\")\n",
    "plot_graphs(history, \"loss\")"
   ]
  },
  {
   "cell_type": "code",
   "execution_count": 393,
   "metadata": {},
   "outputs": [],
   "source": [
    "# reverse_word_index = dict([(value, key) for (key, value) in word_index.items()])\n",
    "\n",
    "# def decode_sentence(text):\n",
    "#     return ' '.join([reverse_word_index.get(i, '?') for i in text])\n",
    "\n",
    "# print(decode_sentence(training_padded[0]))\n",
    "# print(training_sentences[2])\n",
    "# print(labels[2])"
   ]
  },
  {
   "cell_type": "code",
   "execution_count": 394,
   "metadata": {},
   "outputs": [],
   "source": [
    "# e = model.layers[0]\n",
    "# weights = e.get_weights()[0]\n",
    "# print(weights.shape) # shape: (vocab_size, embedding_dim)"
   ]
  },
  {
   "cell_type": "code",
   "execution_count": 395,
   "metadata": {},
   "outputs": [],
   "source": [
    "testing_item = 45"
   ]
  },
  {
   "cell_type": "code",
   "execution_count": 400,
   "metadata": {},
   "outputs": [
    {
     "data": {
      "text/plain": [
       "'sağ temporaparietalde eksternal subaraknoidal mesafe sol karşılaştırıldığında hafif asimetrik genişle izle'"
      ]
     },
     "execution_count": 400,
     "metadata": {},
     "output_type": "execute_result"
    }
   ],
   "source": [
    "sentence = clean_sentences[testing_item]\n",
    "sentence"
   ]
  },
  {
   "cell_type": "code",
   "execution_count": 396,
   "metadata": {},
   "outputs": [
    {
     "name": "stdout",
     "output_type": "stream",
     "text": [
      "4/4 [==============================] - 0s 660us/step\n"
     ]
    },
    {
     "data": {
      "text/plain": [
       "array([[4.4558322e-04, 1.6804287e-03, 4.0622792e-01, 5.9164608e-01],\n",
       "       [4.4558322e-04, 1.6804287e-03, 4.0622792e-01, 5.9164608e-01],\n",
       "       [4.4558322e-04, 1.6804287e-03, 4.0622792e-01, 5.9164608e-01],\n",
       "       [4.4558322e-04, 1.6804287e-03, 4.0622792e-01, 5.9164608e-01],\n",
       "       [4.4558322e-04, 1.6804287e-03, 4.0622792e-01, 5.9164608e-01],\n",
       "       [4.4558322e-04, 1.6804287e-03, 4.0622792e-01, 5.9164608e-01],\n",
       "       [4.4558322e-04, 1.6804287e-03, 4.0622792e-01, 5.9164608e-01],\n",
       "       [4.4558322e-04, 1.6804287e-03, 4.0622792e-01, 5.9164608e-01],\n",
       "       [4.4558322e-04, 1.6804287e-03, 4.0622792e-01, 5.9164608e-01],\n",
       "       [4.4558322e-04, 1.6804287e-03, 4.0622792e-01, 5.9164608e-01],\n",
       "       [4.4558322e-04, 1.6804287e-03, 4.0622792e-01, 5.9164608e-01],\n",
       "       [4.4558322e-04, 1.6804287e-03, 4.0622792e-01, 5.9164608e-01],\n",
       "       [4.4558322e-04, 1.6804287e-03, 4.0622792e-01, 5.9164608e-01],\n",
       "       [4.4558322e-04, 1.6804287e-03, 4.0622792e-01, 5.9164608e-01],\n",
       "       [4.4558322e-04, 1.6804287e-03, 4.0622792e-01, 5.9164608e-01],\n",
       "       [4.4558322e-04, 1.6804287e-03, 4.0622792e-01, 5.9164608e-01],\n",
       "       [4.4558322e-04, 1.6804287e-03, 4.0622792e-01, 5.9164608e-01],\n",
       "       [4.4558322e-04, 1.6804287e-03, 4.0622792e-01, 5.9164608e-01],\n",
       "       [4.4558322e-04, 1.6804287e-03, 4.0622792e-01, 5.9164608e-01],\n",
       "       [4.4558322e-04, 1.6804287e-03, 4.0622792e-01, 5.9164608e-01],\n",
       "       [4.4558322e-04, 1.6804287e-03, 4.0622792e-01, 5.9164608e-01],\n",
       "       [4.4558322e-04, 1.6804287e-03, 4.0622792e-01, 5.9164608e-01],\n",
       "       [4.4558322e-04, 1.6804287e-03, 4.0622792e-01, 5.9164608e-01],\n",
       "       [4.4558322e-04, 1.6804287e-03, 4.0622792e-01, 5.9164608e-01],\n",
       "       [4.4558322e-04, 1.6804287e-03, 4.0622792e-01, 5.9164608e-01],\n",
       "       [4.4558322e-04, 1.6804287e-03, 4.0622792e-01, 5.9164608e-01],\n",
       "       [4.4558322e-04, 1.6804287e-03, 4.0622792e-01, 5.9164608e-01],\n",
       "       [4.4558322e-04, 1.6804287e-03, 4.0622792e-01, 5.9164608e-01],\n",
       "       [4.4558322e-04, 1.6804287e-03, 4.0622792e-01, 5.9164608e-01],\n",
       "       [4.4558322e-04, 1.6804287e-03, 4.0622792e-01, 5.9164608e-01],\n",
       "       [4.4558322e-04, 1.6804287e-03, 4.0622792e-01, 5.9164608e-01],\n",
       "       [4.4558322e-04, 1.6804287e-03, 4.0622792e-01, 5.9164608e-01],\n",
       "       [4.4558322e-04, 1.6804287e-03, 4.0622792e-01, 5.9164608e-01],\n",
       "       [4.4558322e-04, 1.6804287e-03, 4.0622792e-01, 5.9164608e-01],\n",
       "       [4.4558322e-04, 1.6804287e-03, 4.0622792e-01, 5.9164608e-01],\n",
       "       [4.4558322e-04, 1.6804287e-03, 4.0622792e-01, 5.9164608e-01],\n",
       "       [4.4558322e-04, 1.6804287e-03, 4.0622792e-01, 5.9164608e-01],\n",
       "       [4.4558322e-04, 1.6804287e-03, 4.0622792e-01, 5.9164608e-01],\n",
       "       [4.4558322e-04, 1.6804287e-03, 4.0622792e-01, 5.9164608e-01],\n",
       "       [4.4558322e-04, 1.6804287e-03, 4.0622792e-01, 5.9164608e-01],\n",
       "       [4.4558322e-04, 1.6804287e-03, 4.0622792e-01, 5.9164608e-01],\n",
       "       [4.4558322e-04, 1.6804287e-03, 4.0622792e-01, 5.9164608e-01],\n",
       "       [4.4558322e-04, 1.6804287e-03, 4.0622792e-01, 5.9164608e-01],\n",
       "       [4.4558322e-04, 1.6804287e-03, 4.0622792e-01, 5.9164608e-01],\n",
       "       [4.4558322e-04, 1.6804287e-03, 4.0622792e-01, 5.9164608e-01],\n",
       "       [4.4558322e-04, 1.6804287e-03, 4.0622792e-01, 5.9164608e-01],\n",
       "       [4.4558322e-04, 1.6804287e-03, 4.0622792e-01, 5.9164608e-01],\n",
       "       [4.4558322e-04, 1.6804287e-03, 4.0622792e-01, 5.9164608e-01],\n",
       "       [4.4558322e-04, 1.6804287e-03, 4.0622792e-01, 5.9164608e-01],\n",
       "       [4.4558322e-04, 1.6804287e-03, 4.0622792e-01, 5.9164608e-01],\n",
       "       [4.4558322e-04, 1.6804287e-03, 4.0622792e-01, 5.9164608e-01],\n",
       "       [4.4558322e-04, 1.6804287e-03, 4.0622792e-01, 5.9164608e-01],\n",
       "       [4.4558322e-04, 1.6804287e-03, 4.0622792e-01, 5.9164608e-01],\n",
       "       [4.4558322e-04, 1.6804287e-03, 4.0622792e-01, 5.9164608e-01],\n",
       "       [4.4558322e-04, 1.6804287e-03, 4.0622792e-01, 5.9164608e-01],\n",
       "       [4.4558322e-04, 1.6804287e-03, 4.0622792e-01, 5.9164608e-01],\n",
       "       [4.4558322e-04, 1.6804287e-03, 4.0622792e-01, 5.9164608e-01],\n",
       "       [4.4558322e-04, 1.6804287e-03, 4.0622792e-01, 5.9164608e-01],\n",
       "       [4.4558322e-04, 1.6804287e-03, 4.0622792e-01, 5.9164608e-01],\n",
       "       [4.4558322e-04, 1.6804287e-03, 4.0622792e-01, 5.9164608e-01],\n",
       "       [4.4558322e-04, 1.6804287e-03, 4.0622792e-01, 5.9164608e-01],\n",
       "       [4.4558322e-04, 1.6804287e-03, 4.0622792e-01, 5.9164608e-01],\n",
       "       [4.4558322e-04, 1.6804287e-03, 4.0622792e-01, 5.9164608e-01],\n",
       "       [4.4558322e-04, 1.6804287e-03, 4.0622792e-01, 5.9164608e-01],\n",
       "       [4.4558322e-04, 1.6804287e-03, 4.0622792e-01, 5.9164608e-01],\n",
       "       [4.4558322e-04, 1.6804287e-03, 4.0622792e-01, 5.9164608e-01],\n",
       "       [4.4558322e-04, 1.6804287e-03, 4.0622792e-01, 5.9164608e-01],\n",
       "       [4.4558322e-04, 1.6804287e-03, 4.0622792e-01, 5.9164608e-01],\n",
       "       [4.4558322e-04, 1.6804287e-03, 4.0622792e-01, 5.9164608e-01],\n",
       "       [4.4558322e-04, 1.6804287e-03, 4.0622792e-01, 5.9164608e-01],\n",
       "       [4.4558322e-04, 1.6804287e-03, 4.0622792e-01, 5.9164608e-01],\n",
       "       [4.4558322e-04, 1.6804287e-03, 4.0622792e-01, 5.9164608e-01],\n",
       "       [4.4558322e-04, 1.6804287e-03, 4.0622792e-01, 5.9164608e-01],\n",
       "       [4.4558322e-04, 1.6804287e-03, 4.0622792e-01, 5.9164608e-01],\n",
       "       [4.4558322e-04, 1.6804287e-03, 4.0622792e-01, 5.9164608e-01],\n",
       "       [4.4558322e-04, 1.6804287e-03, 4.0622792e-01, 5.9164608e-01],\n",
       "       [4.4558322e-04, 1.6804287e-03, 4.0622792e-01, 5.9164608e-01],\n",
       "       [4.4558322e-04, 1.6804287e-03, 4.0622792e-01, 5.9164608e-01],\n",
       "       [4.4558322e-04, 1.6804287e-03, 4.0622792e-01, 5.9164608e-01],\n",
       "       [4.4558322e-04, 1.6804287e-03, 4.0622792e-01, 5.9164608e-01],\n",
       "       [4.4558322e-04, 1.6804287e-03, 4.0622792e-01, 5.9164608e-01],\n",
       "       [4.4558322e-04, 1.6804287e-03, 4.0622792e-01, 5.9164608e-01],\n",
       "       [4.4558322e-04, 1.6804287e-03, 4.0622792e-01, 5.9164608e-01],\n",
       "       [4.4558322e-04, 1.6804287e-03, 4.0622792e-01, 5.9164608e-01],\n",
       "       [4.4558322e-04, 1.6804287e-03, 4.0622792e-01, 5.9164608e-01],\n",
       "       [4.4558322e-04, 1.6804287e-03, 4.0622792e-01, 5.9164608e-01],\n",
       "       [4.4558322e-04, 1.6804287e-03, 4.0622792e-01, 5.9164608e-01],\n",
       "       [4.4558322e-04, 1.6804287e-03, 4.0622792e-01, 5.9164608e-01],\n",
       "       [4.4558322e-04, 1.6804287e-03, 4.0622792e-01, 5.9164608e-01],\n",
       "       [4.4558322e-04, 1.6804287e-03, 4.0622792e-01, 5.9164608e-01],\n",
       "       [4.4558322e-04, 1.6804287e-03, 4.0622792e-01, 5.9164608e-01],\n",
       "       [4.4558322e-04, 1.6804287e-03, 4.0622792e-01, 5.9164608e-01],\n",
       "       [4.4558322e-04, 1.6804287e-03, 4.0622792e-01, 5.9164608e-01],\n",
       "       [4.4558322e-04, 1.6804287e-03, 4.0622792e-01, 5.9164608e-01],\n",
       "       [4.4558322e-04, 1.6804287e-03, 4.0622792e-01, 5.9164608e-01],\n",
       "       [4.4558322e-04, 1.6804287e-03, 4.0622792e-01, 5.9164608e-01],\n",
       "       [4.4558322e-04, 1.6804287e-03, 4.0622792e-01, 5.9164608e-01],\n",
       "       [4.4558322e-04, 1.6804287e-03, 4.0622792e-01, 5.9164608e-01],\n",
       "       [4.4558322e-04, 1.6804287e-03, 4.0622792e-01, 5.9164608e-01],\n",
       "       [4.4558322e-04, 1.6804287e-03, 4.0622792e-01, 5.9164608e-01],\n",
       "       [4.4558322e-04, 1.6804287e-03, 4.0622792e-01, 5.9164608e-01],\n",
       "       [4.4558322e-04, 1.6804287e-03, 4.0622792e-01, 5.9164608e-01],\n",
       "       [4.4558322e-04, 1.6804287e-03, 4.0622792e-01, 5.9164608e-01],\n",
       "       [4.4558322e-04, 1.6804287e-03, 4.0622792e-01, 5.9164608e-01],\n",
       "       [4.4558322e-04, 1.6804287e-03, 4.0622792e-01, 5.9164608e-01],\n",
       "       [4.4558322e-04, 1.6804287e-03, 4.0622792e-01, 5.9164608e-01]],\n",
       "      dtype=float32)"
      ]
     },
     "execution_count": 396,
     "metadata": {},
     "output_type": "execute_result"
    }
   ],
   "source": [
    "\n",
    "sequences = tokenizer.texts_to_sequences(sentence)\n",
    "padded = pad_sequences(\n",
    "    sequences, maxlen=max_input_length, padding=padding_type, truncating=trunc_type\n",
    ")\n",
    "predictions = model.predict(padded)\n",
    "predictions"
   ]
  },
  {
   "cell_type": "code",
   "execution_count": 397,
   "metadata": {},
   "outputs": [
    {
     "data": {
      "text/plain": [
       "2"
      ]
     },
     "execution_count": 397,
     "metadata": {},
     "output_type": "execute_result"
    }
   ],
   "source": [
    "labels[testing_item]"
   ]
  },
  {
   "cell_type": "code",
   "execution_count": 398,
   "metadata": {},
   "outputs": [
    {
     "data": {
      "text/plain": [
       "3"
      ]
     },
     "execution_count": 398,
     "metadata": {},
     "output_type": "execute_result"
    }
   ],
   "source": [
    "max_index = np.argmax(predictions[0])\n",
    "max_index"
   ]
  }
 ],
 "metadata": {
  "kernelspec": {
   "display_name": ".venv",
   "language": "python",
   "name": "python3"
  },
  "language_info": {
   "codemirror_mode": {
    "name": "ipython",
    "version": 3
   },
   "file_extension": ".py",
   "mimetype": "text/x-python",
   "name": "python",
   "nbconvert_exporter": "python",
   "pygments_lexer": "ipython3",
   "version": "3.11.4"
  },
  "orig_nbformat": 4
 },
 "nbformat": 4,
 "nbformat_minor": 2
}
