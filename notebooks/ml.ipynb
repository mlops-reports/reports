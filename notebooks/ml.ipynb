{
 "cells": [
  {
   "cell_type": "code",
   "execution_count": 67,
   "metadata": {},
   "outputs": [],
   "source": [
    "import tensorflow as tf\n",
    "# from tensorflow import keras\n",
    "import nltk\n",
    "import simplemma\n",
    "import pandas as pd\n",
    "import pathlib\n",
    "import json\n",
    "import numpy as np\n",
    "import matplotlib.pyplot as plt\n",
    "\n",
    "from tensorflow.keras.preprocessing.text import Tokenizer\n",
    "from tensorflow.keras.preprocessing.sequence import pad_sequences"
   ]
  },
  {
   "cell_type": "code",
   "execution_count": 68,
   "metadata": {},
   "outputs": [
    {
     "name": "stderr",
     "output_type": "stream",
     "text": [
      "[nltk_data] Downloading package stopwords to\n",
      "[nltk_data]     /Users/gokasci/nltk_data...\n",
      "[nltk_data]   Package stopwords is already up-to-date!\n"
     ]
    }
   ],
   "source": [
    "working_dir = pathlib.Path.cwd()\n",
    "\n",
    "nltk.download(\"stopwords\")\n",
    "\n",
    "# get Turkish stopwords\n",
    "turkish_stopwords = nltk.corpus.stopwords.words(\"turkish\")\n",
    "\n",
    "# tokenizer without comma\n",
    "regexp_tokenizer = nltk.tokenize.RegexpTokenizer(r\"\\w+\")\n",
    "\n",
    "# word corrections\n",
    "with open(working_dir.parent / \"data\" / \"input\" / \"word_corrections.json\", \"r\") as file:\n",
    "    word_corrections = json.load(file)"
   ]
  },
  {
   "cell_type": "markdown",
   "metadata": {},
   "source": [
    "1. Emergency\n",
    "2. Normal\n",
    "3. Non Emergency [Doctor]\n",
    "4. Non Emergency [No Doctor]"
   ]
  },
  {
   "cell_type": "code",
   "execution_count": 69,
   "metadata": {},
   "outputs": [],
   "source": [
    "clean_annotations = pd.read_csv(working_dir.parent / \"data\" / \"output\" / \"clean_annotations.csv\")\n",
    "\n",
    "sentences = clean_annotations[\"relevant_text\"].to_list()\n",
    "labels = clean_annotations[\"classifications\"].to_list()"
   ]
  },
  {
   "cell_type": "code",
   "execution_count": 70,
   "metadata": {},
   "outputs": [
    {
     "data": {
      "text/plain": [
       "['Kontrastsız Beyin BT Kafa kaidesi ve kalvarial kemik yapılar normal sınırlardadır. 4.ventrikül ve bazal sisternalar normal genişliktedir. Posterior fossa oluşumları olağandır. İntrakranial hipo veya hiperdens sınırlanabilen patoloji saptanmadı. 3.ventrikül orta hatta ve normal genişliktedir. Lateral ventriküller olağandır. Beyin orta hat yapılarında yer değiştirme saptanmamıştır. Serebral sulkuslar olağandır. Nazal septum sola deviye görünümdedir ve BTye yansıyan tipik bir akut iskemi bulgusu mevcut değildir.  Ancak bu konuda klinik kuşku varsa olgunun diffüzyon MRG ile değerlendirilmesi ve detaylandırılması daha yararlı olacaktır. ',\n",
       " 'Sol serebellar hemisferde sekel ??? ensefalomalazi sahaları ve eski iskemi sekeli değişiklikler izlenmektedir. Sağ serebellar hemisfer düzeyinde de benzer bulgular izlenmekle birlikte her iki serebellumda atrofi bulguları ve folyolarda belirginleşme mevcuttur. Supratentorial kesitlerin değerlendirilmesinde 3. ve lateral ventrikul, konveksite sulkusları atrofiye sekonder belirginleşmiştir. Sağda posterior serebral arter sulama sahasında kronik iskemik sekel gliozis sahalarının varlığı mevcuttur. Periventrikuler lökoriazis alanları izlenmektedir. ',\n",
       " ' Periventriküler derin beyaz cevherde kronik iskemik gliozise bağlı dansite kaybı izlenmektedir. Bazal sisterna ve serebral konvekste sulkuslarının genişliği atrofi ile uyumlu artmıştır. Sağ oksipital lobda kronik infarkt sekeli ensefalomalazi- gliozis ile uyumlu hipodens alan mevcuttur. Sağ kapsüle interna ön bölümünde de kronik infarkta ait hipodens alan izlenmiştir. Her iki lateral ventrikül genişliği atrofi zemininde hafif artmış görünümdedir. ',\n",
       " 'Sağda orbita tavanınd frontal sinüs tabanında çökme gösteren fraktür hatları izlenmiştir. Sağ orbita medial duvarında da fraktür hatları izlenmektedir. Sağ orbita tabanında maksiller sinüs üst duvarında yine çökme gösteren fraktür hattı mevcut olup orbital yağ dokunun bu düzeyden maksiller sinüse doğru uzanımı saptanmıştır. Sağ maksiller sinüs içerisinde kanama ile uyumlu yüksek dansiteli görünümlerde izlenmiştir. ',\n",
       " 'Sağ orbita üst duvarında fraktüre ait görünüm izlenmekte olup medial kesimde frontal sinüs duvarına uzanmaktadır,fraktüre komşu dural planlarda milimetrik hava değerleri mevcuttur.Sağ frontal sinüs inferior kesiminde anterior duvarda da fraktür hattı izlenmiştir.Sağ frontal bölgede ve periorbital alanda cilt altı yumuşak dokuda ödem- hematom ile uyumlu dansite ve kalınlık artışı ile hava değerleri mevcuttur. ']"
      ]
     },
     "execution_count": 70,
     "metadata": {},
     "output_type": "execute_result"
    }
   ],
   "source": [
    "sentences[:5]"
   ]
  },
  {
   "cell_type": "code",
   "execution_count": 71,
   "metadata": {},
   "outputs": [],
   "source": [
    "vocab_size = 10000\n",
    "embedding_dim = 16\n",
    "max_input_length = 25 # default\n",
    "trunc_type='post'\n",
    "padding_type='post'\n",
    "oov_token = None # \"<OOV>\"\n",
    "training_percent = 80"
   ]
  },
  {
   "cell_type": "code",
   "execution_count": 72,
   "metadata": {},
   "outputs": [],
   "source": [
    "def find_and_replace_in_string(input_string, replacements):\n",
    "    for key, value in replacements.items():\n",
    "        input_string = input_string.replace(key, value)\n",
    "    return input_string\n",
    "\n",
    "\n",
    "def find_longest_sentence_length(sentences):\n",
    "    longest_length = max(len(sentence.split()) for sentence in sentences)\n",
    "    return longest_length\n",
    "\n",
    "\n",
    "def plot_graphs(history, string):\n",
    "    plt.plot(history.history[string])\n",
    "    plt.plot(history.history[\"val_\" + string])\n",
    "    plt.xlabel(\"Epochs\")\n",
    "    plt.ylabel(string)\n",
    "    plt.legend([string, \"val_\" + string])\n",
    "    plt.show()\n",
    "\n",
    "\n",
    "def sentence_cleaning_pipeline(sentences):\n",
    "    return [\n",
    "        find_and_replace_in_string(\n",
    "            \" \".join(\n",
    "                [\n",
    "                    simplemma.lemmatize(word, lang=\"tr\").lower()\n",
    "                    for word in regexp_tokenizer.tokenize(sentence)\n",
    "                    if word not in turkish_stopwords\n",
    "                ]\n",
    "            ),\n",
    "            word_corrections,\n",
    "        )\n",
    "        for sentence in sentences\n",
    "    ]"
   ]
  },
  {
   "cell_type": "markdown",
   "metadata": {},
   "source": [
    "1. Remove punctuation\n",
    "2. Only lower letters\n",
    "3. Lemmatize\n",
    "4. Remove stop words\n",
    "5. Manual corrections"
   ]
  },
  {
   "cell_type": "code",
   "execution_count": 73,
   "metadata": {},
   "outputs": [
    {
     "data": {
      "text/plain": [
       "['kontrast beyin bt kafa kaide kalvarial kemik yapı normal sınır 4 ventrikül bazal sisternalar normal genişlik poster fos oluşum olağan i̇ntrakranial hipo hiperdens sınırlanabi patoloji sapta 3 ventrikül orta hatta normal genişlik lateral ventrikül olağan beyin orta hat yapı yer değiş sapta serebral sulkus olağan nazal septum sol deviye görünüm btye yansı tipik bir akut iskemi bulgu mevcut değil ancak konu klinik kuşku var olgu diffüzyon mrg değer detaylandırılması yarar ol',\n",
       " 'sol serebellar hemisfer sekel ensefalomalazi saha eski iskemi sekel değişik izle sağ serebellar hemisfer düzey benzer bulgu izle birlikte iki serebellumda atrofi bulgu folyo belirgin mevcut supratentorial kesit değerlendirilmesin 3 lateral ventrikul konveksit sulkus atrofiye sekonder belirgin sağ poster serebral arter sula saha kronik iskemik sekel gliozis saha varlık mevcut periventrikuler lökoriazis alan izle',\n",
       " 'periventriküler derin beyaz cevher kronik iskemik gliozise bağ dansite kayıp izle bazal sisterna serebral konveks sulkuslar genişlik atrofi uyum art sağ oksipital lobda kronik infarkt sekel ensefalomalazi gliozis uyum hipodens al mevcut sağ kapsül interna ön bölüm kronik infarkta ait hipodens al izle her iki lateral ventrikül genişlik atrofi zemin hafif art görünüm',\n",
       " 'sağ orbita tavan frontal sinüs taban çök göster fraktür hat izle sağ orbita medial duvar fraktür hat izle sağ orbita taban maksil sinüs üst duvar yine çök göster fraktür hat mevcut ol orbital yağ doku düzey maksil sinüs doğru uzanım sapta sağ maksil sinüs içeri kana uyum yüksek dansit görünüm izle',\n",
       " 'sağ orbita üst duvar fraktüre ait görünüm izle ol medial kesim frontal sinüs duvar uza fraktüre komşu dural plan milimetrik hava değer mevcut sağ frontal sinüs inferior kesim anterior duvar fraktür hat izle sağ frontal bölge periorbital alan cilt altı yumuşak doku ödem hematom uyum dansite kalınlık art hava değer mevcut']"
      ]
     },
     "execution_count": 73,
     "metadata": {},
     "output_type": "execute_result"
    }
   ],
   "source": [
    "clean_sentences = sentence_cleaning_pipeline(sentences)\n",
    "\n",
    "# show clean sentences\n",
    "clean_sentences[:5]"
   ]
  },
  {
   "cell_type": "code",
   "execution_count": 74,
   "metadata": {},
   "outputs": [
    {
     "data": {
      "text/plain": [
       "[1, 3, 3, 0, 0]"
      ]
     },
     "execution_count": 74,
     "metadata": {},
     "output_type": "execute_result"
    }
   ],
   "source": [
    "labels[:5]"
   ]
  },
  {
   "cell_type": "code",
   "execution_count": 75,
   "metadata": {},
   "outputs": [],
   "source": [
    "max_input_length = find_longest_sentence_length(clean_sentences)"
   ]
  },
  {
   "cell_type": "code",
   "execution_count": 76,
   "metadata": {},
   "outputs": [],
   "source": [
    "# manuall test the word lemmatizer\n",
    "# word = \"hemisferde\"\n",
    "# simplemma.lemmatize(word, lang=\"tr\").lower()"
   ]
  },
  {
   "cell_type": "code",
   "execution_count": 77,
   "metadata": {},
   "outputs": [],
   "source": [
    "training_size = int(len(clean_sentences) * training_percent / 100)\n",
    "training_sentences = clean_sentences[0:training_size]\n",
    "testing_sentences = clean_sentences[training_size:]\n",
    "training_labels = labels[0:training_size]\n",
    "testing_labels = labels[training_size:]"
   ]
  },
  {
   "cell_type": "code",
   "execution_count": 78,
   "metadata": {},
   "outputs": [],
   "source": [
    "tokenizer = Tokenizer(num_words=vocab_size, oov_token=oov_token)\n",
    "tokenizer.fit_on_texts(training_sentences)\n",
    "word_index = tokenizer.word_index\n",
    "\n",
    "training_sequences = tokenizer.texts_to_sequences(training_sentences)\n",
    "training_padded = pad_sequences(training_sequences, maxlen=max_input_length, padding=padding_type, truncating=trunc_type)\n",
    "testing_sequences = tokenizer.texts_to_sequences(testing_sentences)\n",
    "testing_padded = pad_sequences(testing_sequences, maxlen=max_input_length, padding=padding_type, truncating=trunc_type)\n",
    "\n",
    "training_padded = np.array(training_padded)\n",
    "training_labels = np.array(training_labels)\n",
    "testing_padded = np.array(testing_padded)\n",
    "testing_labels = np.array(testing_labels)"
   ]
  },
  {
   "cell_type": "code",
   "execution_count": 79,
   "metadata": {},
   "outputs": [
    {
     "data": {
      "text/plain": [
       "array([3, 3, 2, 2, 3, 2, 3, 2, 3, 3, 3])"
      ]
     },
     "execution_count": 79,
     "metadata": {},
     "output_type": "execute_result"
    }
   ],
   "source": [
    "testing_labels"
   ]
  },
  {
   "cell_type": "code",
   "execution_count": 80,
   "metadata": {},
   "outputs": [],
   "source": [
    "model = tf.keras.Sequential([\n",
    "    tf.keras.layers.Embedding(vocab_size, embedding_dim, input_length=max_input_length),\n",
    "    tf.keras.layers.GlobalAveragePooling1D(),\n",
    "    tf.keras.layers.Dense(64, activation='relu'),\n",
    "    tf.keras.layers.Dense(64, activation='relu'),\n",
    "    # tf.keras.layers.Dense(64, activation='relu'),\n",
    "    tf.keras.layers.Dense(64, activation='relu'),\n",
    "    tf.keras.layers.Dense(32, activation='relu'),\n",
    "    tf.keras.layers.Dense(4, activation='softmax')\n",
    "])\n",
    "model.compile(loss='sparse_categorical_crossentropy',optimizer='adam',metrics=['accuracy'])"
   ]
  },
  {
   "cell_type": "code",
   "execution_count": 81,
   "metadata": {},
   "outputs": [
    {
     "name": "stdout",
     "output_type": "stream",
     "text": [
      "Model: \"sequential_2\"\n",
      "_________________________________________________________________\n",
      " Layer (type)                Output Shape              Param #   \n",
      "=================================================================\n",
      " embedding_2 (Embedding)     (None, 71, 16)            160000    \n",
      "                                                                 \n",
      " global_average_pooling1d_2  (None, 16)                0         \n",
      "  (GlobalAveragePooling1D)                                       \n",
      "                                                                 \n",
      " dense_10 (Dense)            (None, 64)                1088      \n",
      "                                                                 \n",
      " dense_11 (Dense)            (None, 64)                4160      \n",
      "                                                                 \n",
      " dense_12 (Dense)            (None, 64)                4160      \n",
      "                                                                 \n",
      " dense_13 (Dense)            (None, 32)                2080      \n",
      "                                                                 \n",
      " dense_14 (Dense)            (None, 4)                 132       \n",
      "                                                                 \n",
      "=================================================================\n",
      "Total params: 171620 (670.39 KB)\n",
      "Trainable params: 171620 (670.39 KB)\n",
      "Non-trainable params: 0 (0.00 Byte)\n",
      "_________________________________________________________________\n"
     ]
    }
   ],
   "source": [
    "model.summary()\n"
   ]
  },
  {
   "cell_type": "code",
   "execution_count": 82,
   "metadata": {},
   "outputs": [
    {
     "name": "stdout",
     "output_type": "stream",
     "text": [
      "Epoch 1/100\n"
     ]
    },
    {
     "name": "stdout",
     "output_type": "stream",
     "text": [
      "2/2 - 0s - loss: 1.3835 - accuracy: 0.4048 - val_loss: 1.3672 - val_accuracy: 0.6364 - 311ms/epoch - 155ms/step\n",
      "Epoch 2/100\n",
      "2/2 - 0s - loss: 1.3759 - accuracy: 0.4048 - val_loss: 1.3552 - val_accuracy: 0.6364 - 17ms/epoch - 8ms/step\n",
      "Epoch 3/100\n",
      "2/2 - 0s - loss: 1.3684 - accuracy: 0.4048 - val_loss: 1.3427 - val_accuracy: 0.6364 - 17ms/epoch - 9ms/step\n",
      "Epoch 4/100\n",
      "2/2 - 0s - loss: 1.3586 - accuracy: 0.4048 - val_loss: 1.3292 - val_accuracy: 0.6364 - 17ms/epoch - 8ms/step\n",
      "Epoch 5/100\n",
      "2/2 - 0s - loss: 1.3495 - accuracy: 0.4048 - val_loss: 1.3166 - val_accuracy: 0.6364 - 17ms/epoch - 9ms/step\n",
      "Epoch 6/100\n",
      "2/2 - 0s - loss: 1.3373 - accuracy: 0.4048 - val_loss: 1.3050 - val_accuracy: 0.6364 - 29ms/epoch - 15ms/step\n",
      "Epoch 7/100\n",
      "2/2 - 0s - loss: 1.3255 - accuracy: 0.4048 - val_loss: 1.2899 - val_accuracy: 0.6364 - 18ms/epoch - 9ms/step\n",
      "Epoch 8/100\n",
      "2/2 - 0s - loss: 1.3118 - accuracy: 0.4048 - val_loss: 1.2733 - val_accuracy: 0.6364 - 17ms/epoch - 8ms/step\n",
      "Epoch 9/100\n",
      "2/2 - 0s - loss: 1.2973 - accuracy: 0.4048 - val_loss: 1.2538 - val_accuracy: 0.6364 - 16ms/epoch - 8ms/step\n",
      "Epoch 10/100\n",
      "2/2 - 0s - loss: 1.2815 - accuracy: 0.4048 - val_loss: 1.2333 - val_accuracy: 0.6364 - 15ms/epoch - 8ms/step\n",
      "Epoch 11/100\n",
      "2/2 - 0s - loss: 1.2674 - accuracy: 0.4048 - val_loss: 1.2161 - val_accuracy: 0.6364 - 16ms/epoch - 8ms/step\n",
      "Epoch 12/100\n",
      "2/2 - 0s - loss: 1.2463 - accuracy: 0.4048 - val_loss: 1.2013 - val_accuracy: 0.6364 - 16ms/epoch - 8ms/step\n",
      "Epoch 13/100\n",
      "2/2 - 0s - loss: 1.2275 - accuracy: 0.4048 - val_loss: 1.1845 - val_accuracy: 0.6364 - 16ms/epoch - 8ms/step\n",
      "Epoch 14/100\n",
      "2/2 - 0s - loss: 1.2066 - accuracy: 0.4048 - val_loss: 1.1705 - val_accuracy: 0.6364 - 17ms/epoch - 8ms/step\n",
      "Epoch 15/100\n",
      "2/2 - 0s - loss: 1.1898 - accuracy: 0.4048 - val_loss: 1.1609 - val_accuracy: 0.6364 - 15ms/epoch - 7ms/step\n",
      "Epoch 16/100\n",
      "2/2 - 0s - loss: 1.1784 - accuracy: 0.4048 - val_loss: 1.1578 - val_accuracy: 0.6364 - 16ms/epoch - 8ms/step\n",
      "Epoch 17/100\n",
      "2/2 - 0s - loss: 1.1548 - accuracy: 0.4048 - val_loss: 1.1553 - val_accuracy: 0.6364 - 15ms/epoch - 8ms/step\n",
      "Epoch 18/100\n",
      "2/2 - 0s - loss: 1.1365 - accuracy: 0.4048 - val_loss: 1.1524 - val_accuracy: 0.6364 - 16ms/epoch - 8ms/step\n",
      "Epoch 19/100\n",
      "2/2 - 0s - loss: 1.1204 - accuracy: 0.4048 - val_loss: 1.1486 - val_accuracy: 0.6364 - 16ms/epoch - 8ms/step\n",
      "Epoch 20/100\n",
      "2/2 - 0s - loss: 1.1002 - accuracy: 0.4286 - val_loss: 1.1452 - val_accuracy: 0.6364 - 16ms/epoch - 8ms/step\n",
      "Epoch 21/100\n",
      "2/2 - 0s - loss: 1.0792 - accuracy: 0.7381 - val_loss: 1.1452 - val_accuracy: 0.6364 - 17ms/epoch - 8ms/step\n",
      "Epoch 22/100\n",
      "2/2 - 0s - loss: 1.0595 - accuracy: 0.7381 - val_loss: 1.1457 - val_accuracy: 0.6364 - 16ms/epoch - 8ms/step\n",
      "Epoch 23/100\n",
      "2/2 - 0s - loss: 1.0388 - accuracy: 0.7381 - val_loss: 1.1438 - val_accuracy: 0.6364 - 16ms/epoch - 8ms/step\n",
      "Epoch 24/100\n",
      "2/2 - 0s - loss: 1.0146 - accuracy: 0.7381 - val_loss: 1.1367 - val_accuracy: 0.6364 - 15ms/epoch - 7ms/step\n",
      "Epoch 25/100\n",
      "2/2 - 0s - loss: 0.9888 - accuracy: 0.7381 - val_loss: 1.1286 - val_accuracy: 0.6364 - 15ms/epoch - 7ms/step\n",
      "Epoch 26/100\n",
      "2/2 - 0s - loss: 0.9660 - accuracy: 0.7619 - val_loss: 1.1163 - val_accuracy: 0.6364 - 16ms/epoch - 8ms/step\n",
      "Epoch 27/100\n",
      "2/2 - 0s - loss: 0.9399 - accuracy: 0.7619 - val_loss: 1.0974 - val_accuracy: 0.6364 - 16ms/epoch - 8ms/step\n",
      "Epoch 28/100\n",
      "2/2 - 0s - loss: 0.9151 - accuracy: 0.7619 - val_loss: 1.0803 - val_accuracy: 0.6364 - 16ms/epoch - 8ms/step\n",
      "Epoch 29/100\n",
      "2/2 - 0s - loss: 0.8925 - accuracy: 0.7619 - val_loss: 1.0643 - val_accuracy: 0.6364 - 17ms/epoch - 8ms/step\n",
      "Epoch 30/100\n",
      "2/2 - 0s - loss: 0.8648 - accuracy: 0.7619 - val_loss: 1.0492 - val_accuracy: 0.6364 - 17ms/epoch - 8ms/step\n",
      "Epoch 31/100\n",
      "2/2 - 0s - loss: 0.8353 - accuracy: 0.7619 - val_loss: 1.0418 - val_accuracy: 0.6364 - 18ms/epoch - 9ms/step\n",
      "Epoch 32/100\n",
      "2/2 - 0s - loss: 0.8040 - accuracy: 0.7619 - val_loss: 1.0437 - val_accuracy: 0.6364 - 16ms/epoch - 8ms/step\n",
      "Epoch 33/100\n",
      "2/2 - 0s - loss: 0.7740 - accuracy: 0.7619 - val_loss: 1.0447 - val_accuracy: 0.6364 - 16ms/epoch - 8ms/step\n",
      "Epoch 34/100\n",
      "2/2 - 0s - loss: 0.7471 - accuracy: 0.7619 - val_loss: 1.0402 - val_accuracy: 0.6364 - 17ms/epoch - 8ms/step\n",
      "Epoch 35/100\n",
      "2/2 - 0s - loss: 0.7192 - accuracy: 0.7619 - val_loss: 1.0152 - val_accuracy: 0.6364 - 18ms/epoch - 9ms/step\n",
      "Epoch 36/100\n",
      "2/2 - 0s - loss: 0.6891 - accuracy: 0.7619 - val_loss: 0.9882 - val_accuracy: 0.6364 - 17ms/epoch - 9ms/step\n",
      "Epoch 37/100\n",
      "2/2 - 0s - loss: 0.6611 - accuracy: 0.7619 - val_loss: 0.9690 - val_accuracy: 0.6364 - 16ms/epoch - 8ms/step\n",
      "Epoch 38/100\n",
      "2/2 - 0s - loss: 0.6382 - accuracy: 0.7619 - val_loss: 0.9589 - val_accuracy: 0.6364 - 17ms/epoch - 8ms/step\n",
      "Epoch 39/100\n",
      "2/2 - 0s - loss: 0.6219 - accuracy: 0.7619 - val_loss: 0.9481 - val_accuracy: 0.6364 - 16ms/epoch - 8ms/step\n",
      "Epoch 40/100\n",
      "2/2 - 0s - loss: 0.5959 - accuracy: 0.7619 - val_loss: 0.9422 - val_accuracy: 0.6364 - 15ms/epoch - 8ms/step\n",
      "Epoch 41/100\n",
      "2/2 - 0s - loss: 0.5653 - accuracy: 0.7619 - val_loss: 0.9541 - val_accuracy: 0.6364 - 16ms/epoch - 8ms/step\n",
      "Epoch 42/100\n",
      "2/2 - 0s - loss: 0.5445 - accuracy: 0.7619 - val_loss: 0.9871 - val_accuracy: 0.6364 - 15ms/epoch - 8ms/step\n",
      "Epoch 43/100\n",
      "2/2 - 0s - loss: 0.5333 - accuracy: 0.7619 - val_loss: 0.9933 - val_accuracy: 0.6364 - 16ms/epoch - 8ms/step\n",
      "Epoch 44/100\n",
      "2/2 - 0s - loss: 0.5172 - accuracy: 0.7619 - val_loss: 0.9707 - val_accuracy: 0.6364 - 16ms/epoch - 8ms/step\n",
      "Epoch 45/100\n",
      "2/2 - 0s - loss: 0.4884 - accuracy: 0.7619 - val_loss: 0.9538 - val_accuracy: 0.6364 - 15ms/epoch - 7ms/step\n",
      "Epoch 46/100\n",
      "2/2 - 0s - loss: 0.4658 - accuracy: 0.7619 - val_loss: 0.9470 - val_accuracy: 0.6364 - 16ms/epoch - 8ms/step\n",
      "Epoch 47/100\n",
      "2/2 - 0s - loss: 0.4557 - accuracy: 0.7619 - val_loss: 0.9529 - val_accuracy: 0.6364 - 17ms/epoch - 8ms/step\n",
      "Epoch 48/100\n",
      "2/2 - 0s - loss: 0.4377 - accuracy: 0.7619 - val_loss: 0.9657 - val_accuracy: 0.6364 - 16ms/epoch - 8ms/step\n",
      "Epoch 49/100\n",
      "2/2 - 0s - loss: 0.4198 - accuracy: 0.7857 - val_loss: 0.9879 - val_accuracy: 0.6364 - 17ms/epoch - 9ms/step\n",
      "Epoch 50/100\n",
      "2/2 - 0s - loss: 0.4065 - accuracy: 0.7619 - val_loss: 1.0051 - val_accuracy: 0.6364 - 18ms/epoch - 9ms/step\n",
      "Epoch 51/100\n",
      "2/2 - 0s - loss: 0.3944 - accuracy: 0.7857 - val_loss: 1.0077 - val_accuracy: 0.6364 - 18ms/epoch - 9ms/step\n",
      "Epoch 52/100\n",
      "2/2 - 0s - loss: 0.3777 - accuracy: 0.8095 - val_loss: 0.9904 - val_accuracy: 0.6364 - 19ms/epoch - 10ms/step\n",
      "Epoch 53/100\n",
      "2/2 - 0s - loss: 0.3587 - accuracy: 0.8810 - val_loss: 0.9829 - val_accuracy: 0.6364 - 20ms/epoch - 10ms/step\n",
      "Epoch 54/100\n",
      "2/2 - 0s - loss: 0.3508 - accuracy: 0.9048 - val_loss: 0.9767 - val_accuracy: 0.6364 - 17ms/epoch - 9ms/step\n",
      "Epoch 55/100\n",
      "2/2 - 0s - loss: 0.3383 - accuracy: 0.9048 - val_loss: 0.9694 - val_accuracy: 0.6364 - 20ms/epoch - 10ms/step\n",
      "Epoch 56/100\n",
      "2/2 - 0s - loss: 0.3205 - accuracy: 0.9048 - val_loss: 0.9798 - val_accuracy: 0.6364 - 18ms/epoch - 9ms/step\n",
      "Epoch 57/100\n",
      "2/2 - 0s - loss: 0.3082 - accuracy: 0.9048 - val_loss: 0.9956 - val_accuracy: 0.6364 - 18ms/epoch - 9ms/step\n",
      "Epoch 58/100\n",
      "2/2 - 0s - loss: 0.2968 - accuracy: 0.9048 - val_loss: 0.9738 - val_accuracy: 0.6364 - 17ms/epoch - 8ms/step\n",
      "Epoch 59/100\n",
      "2/2 - 0s - loss: 0.2810 - accuracy: 0.9048 - val_loss: 0.9464 - val_accuracy: 0.6364 - 16ms/epoch - 8ms/step\n",
      "Epoch 60/100\n",
      "2/2 - 0s - loss: 0.2703 - accuracy: 0.9048 - val_loss: 0.9320 - val_accuracy: 0.6364 - 17ms/epoch - 9ms/step\n",
      "Epoch 61/100\n",
      "2/2 - 0s - loss: 0.2585 - accuracy: 0.9048 - val_loss: 0.9190 - val_accuracy: 0.6364 - 15ms/epoch - 8ms/step\n",
      "Epoch 62/100\n",
      "2/2 - 0s - loss: 0.2436 - accuracy: 0.9286 - val_loss: 0.9092 - val_accuracy: 0.6364 - 16ms/epoch - 8ms/step\n",
      "Epoch 63/100\n",
      "2/2 - 0s - loss: 0.2336 - accuracy: 1.0000 - val_loss: 0.8927 - val_accuracy: 0.5455 - 16ms/epoch - 8ms/step\n",
      "Epoch 64/100\n",
      "2/2 - 0s - loss: 0.2237 - accuracy: 1.0000 - val_loss: 0.8848 - val_accuracy: 0.5455 - 18ms/epoch - 9ms/step\n",
      "Epoch 65/100\n",
      "2/2 - 0s - loss: 0.2144 - accuracy: 1.0000 - val_loss: 0.8787 - val_accuracy: 0.5455 - 18ms/epoch - 9ms/step\n",
      "Epoch 66/100\n",
      "2/2 - 0s - loss: 0.2034 - accuracy: 1.0000 - val_loss: 0.8751 - val_accuracy: 0.5455 - 16ms/epoch - 8ms/step\n",
      "Epoch 67/100\n",
      "2/2 - 0s - loss: 0.1949 - accuracy: 1.0000 - val_loss: 0.8746 - val_accuracy: 0.5455 - 17ms/epoch - 9ms/step\n",
      "Epoch 68/100\n",
      "2/2 - 0s - loss: 0.1840 - accuracy: 1.0000 - val_loss: 0.8805 - val_accuracy: 0.5455 - 16ms/epoch - 8ms/step\n",
      "Epoch 69/100\n",
      "2/2 - 0s - loss: 0.1742 - accuracy: 1.0000 - val_loss: 0.8927 - val_accuracy: 0.5455 - 16ms/epoch - 8ms/step\n",
      "Epoch 70/100\n",
      "2/2 - 0s - loss: 0.1652 - accuracy: 1.0000 - val_loss: 0.8982 - val_accuracy: 0.5455 - 17ms/epoch - 8ms/step\n",
      "Epoch 71/100\n",
      "2/2 - 0s - loss: 0.1538 - accuracy: 1.0000 - val_loss: 0.9201 - val_accuracy: 0.5455 - 29ms/epoch - 14ms/step\n",
      "Epoch 72/100\n",
      "2/2 - 0s - loss: 0.1451 - accuracy: 1.0000 - val_loss: 0.9345 - val_accuracy: 0.5455 - 22ms/epoch - 11ms/step\n",
      "Epoch 73/100\n",
      "2/2 - 0s - loss: 0.1364 - accuracy: 1.0000 - val_loss: 0.9244 - val_accuracy: 0.5455 - 17ms/epoch - 8ms/step\n",
      "Epoch 74/100\n",
      "2/2 - 0s - loss: 0.1301 - accuracy: 1.0000 - val_loss: 0.9270 - val_accuracy: 0.5455 - 18ms/epoch - 9ms/step\n",
      "Epoch 75/100\n",
      "2/2 - 0s - loss: 0.1256 - accuracy: 1.0000 - val_loss: 0.9225 - val_accuracy: 0.5455 - 19ms/epoch - 9ms/step\n",
      "Epoch 76/100\n",
      "2/2 - 0s - loss: 0.1153 - accuracy: 1.0000 - val_loss: 0.9397 - val_accuracy: 0.5455 - 16ms/epoch - 8ms/step\n",
      "Epoch 77/100\n",
      "2/2 - 0s - loss: 0.1107 - accuracy: 1.0000 - val_loss: 0.9356 - val_accuracy: 0.5455 - 19ms/epoch - 10ms/step\n",
      "Epoch 78/100\n",
      "2/2 - 0s - loss: 0.1036 - accuracy: 1.0000 - val_loss: 0.9091 - val_accuracy: 0.5455 - 17ms/epoch - 9ms/step\n",
      "Epoch 79/100\n",
      "2/2 - 0s - loss: 0.0934 - accuracy: 1.0000 - val_loss: 0.9163 - val_accuracy: 0.4545 - 15ms/epoch - 7ms/step\n",
      "Epoch 80/100\n",
      "2/2 - 0s - loss: 0.0895 - accuracy: 1.0000 - val_loss: 0.9190 - val_accuracy: 0.4545 - 17ms/epoch - 9ms/step\n",
      "Epoch 81/100\n",
      "2/2 - 0s - loss: 0.0826 - accuracy: 1.0000 - val_loss: 0.9040 - val_accuracy: 0.5455 - 17ms/epoch - 8ms/step\n",
      "Epoch 82/100\n",
      "2/2 - 0s - loss: 0.0713 - accuracy: 1.0000 - val_loss: 0.9157 - val_accuracy: 0.5455 - 16ms/epoch - 8ms/step\n",
      "Epoch 83/100\n",
      "2/2 - 0s - loss: 0.0696 - accuracy: 1.0000 - val_loss: 0.9062 - val_accuracy: 0.5455 - 16ms/epoch - 8ms/step\n",
      "Epoch 84/100\n",
      "2/2 - 0s - loss: 0.0670 - accuracy: 1.0000 - val_loss: 0.9151 - val_accuracy: 0.4545 - 16ms/epoch - 8ms/step\n",
      "Epoch 85/100\n",
      "2/2 - 0s - loss: 0.0573 - accuracy: 1.0000 - val_loss: 1.0653 - val_accuracy: 0.5455 - 16ms/epoch - 8ms/step\n",
      "Epoch 86/100\n",
      "2/2 - 0s - loss: 0.0568 - accuracy: 1.0000 - val_loss: 1.0644 - val_accuracy: 0.5455 - 17ms/epoch - 8ms/step\n",
      "Epoch 87/100\n",
      "2/2 - 0s - loss: 0.0486 - accuracy: 1.0000 - val_loss: 0.9398 - val_accuracy: 0.3636 - 17ms/epoch - 8ms/step\n",
      "Epoch 88/100\n",
      "2/2 - 0s - loss: 0.0435 - accuracy: 1.0000 - val_loss: 0.9285 - val_accuracy: 0.4545 - 16ms/epoch - 8ms/step\n",
      "Epoch 89/100\n",
      "2/2 - 0s - loss: 0.0408 - accuracy: 1.0000 - val_loss: 0.9422 - val_accuracy: 0.4545 - 17ms/epoch - 9ms/step\n",
      "Epoch 90/100\n",
      "2/2 - 0s - loss: 0.0348 - accuracy: 1.0000 - val_loss: 0.9975 - val_accuracy: 0.3636 - 15ms/epoch - 8ms/step\n",
      "Epoch 91/100\n",
      "2/2 - 0s - loss: 0.0322 - accuracy: 1.0000 - val_loss: 1.0253 - val_accuracy: 0.3636 - 17ms/epoch - 9ms/step\n",
      "Epoch 92/100\n",
      "2/2 - 0s - loss: 0.0296 - accuracy: 1.0000 - val_loss: 0.9939 - val_accuracy: 0.3636 - 18ms/epoch - 9ms/step\n",
      "Epoch 93/100\n",
      "2/2 - 0s - loss: 0.0257 - accuracy: 1.0000 - val_loss: 0.9715 - val_accuracy: 0.4545 - 17ms/epoch - 9ms/step\n",
      "Epoch 94/100\n",
      "2/2 - 0s - loss: 0.0237 - accuracy: 1.0000 - val_loss: 0.9751 - val_accuracy: 0.4545 - 17ms/epoch - 8ms/step\n",
      "Epoch 95/100\n",
      "2/2 - 0s - loss: 0.0223 - accuracy: 1.0000 - val_loss: 0.9926 - val_accuracy: 0.3636 - 17ms/epoch - 8ms/step\n",
      "Epoch 96/100\n",
      "2/2 - 0s - loss: 0.0198 - accuracy: 1.0000 - val_loss: 1.0368 - val_accuracy: 0.3636 - 17ms/epoch - 9ms/step\n",
      "Epoch 97/100\n",
      "2/2 - 0s - loss: 0.0177 - accuracy: 1.0000 - val_loss: 1.0985 - val_accuracy: 0.4545 - 17ms/epoch - 8ms/step\n",
      "Epoch 98/100\n",
      "2/2 - 0s - loss: 0.0168 - accuracy: 1.0000 - val_loss: 1.1217 - val_accuracy: 0.5455 - 16ms/epoch - 8ms/step\n",
      "Epoch 99/100\n",
      "2/2 - 0s - loss: 0.0154 - accuracy: 1.0000 - val_loss: 1.0999 - val_accuracy: 0.3636 - 15ms/epoch - 8ms/step\n",
      "Epoch 100/100\n",
      "2/2 - 0s - loss: 0.0141 - accuracy: 1.0000 - val_loss: 1.0854 - val_accuracy: 0.3636 - 17ms/epoch - 8ms/step\n"
     ]
    }
   ],
   "source": [
    "num_epochs = 100\n",
    "history = model.fit(training_padded, training_labels, epochs=num_epochs, validation_data=(testing_padded, testing_labels), verbose=2)"
   ]
  },
  {
   "cell_type": "code",
   "execution_count": 83,
   "metadata": {},
   "outputs": [
    {
     "data": {
      "image/png": "[encoded data removed]",
      "text/plain": [
       "<Figure size 640x480 with 1 Axes>"
      ]
     },
     "metadata": {},
     "output_type": "display_data"
    },
    {
     "data": {
      "image/png": "[encoded data removed]",
      "text/plain": [
       "<Figure size 640x480 with 1 Axes>"
      ]
     },
     "metadata": {},
     "output_type": "display_data"
    }
   ],
   "source": [
    "plot_graphs(history, \"accuracy\")\n",
    "plot_graphs(history, \"loss\")"
   ]
  },
  {
   "cell_type": "code",
   "execution_count": 84,
   "metadata": {},
   "outputs": [],
   "source": [
    "# reverse_word_index = dict([(value, key) for (key, value) in word_index.items()])\n",
    "\n",
    "# def decode_sentence(text):\n",
    "#     return ' '.join([reverse_word_index.get(i, '?') for i in text])\n",
    "\n",
    "# print(decode_sentence(training_padded[0]))\n",
    "# print(training_sentences[2])\n",
    "# print(labels[2])"
   ]
  },
  {
   "cell_type": "code",
   "execution_count": 85,
   "metadata": {},
   "outputs": [],
   "source": [
    "# e = model.layers[0]\n",
    "# weights = e.get_weights()[0]\n",
    "# print(weights.shape) # shape: (vocab_size, embedding_dim)"
   ]
  },
  {
   "cell_type": "code",
   "execution_count": 86,
   "metadata": {},
   "outputs": [],
   "source": [
    "testing_item = 10"
   ]
  },
  {
   "cell_type": "code",
   "execution_count": 87,
   "metadata": {},
   "outputs": [
    {
     "data": {
      "text/plain": [
       "'kafa taban verteks ara el ol kesit kafa kaide kalvarial kemik yapı normal sınır 4 ventrikül bazal sisternalar normal genişlik poster fos oluşum olağan i̇ntrakranial hipo hiperdens sınırlanabi patoloji sapta 3 ventrikül orta hatta normal genişlik lateral ventrikül olağan beyin orta hat yapı yer değiş sapta serebral sulkus olağan'"
      ]
     },
     "execution_count": 87,
     "metadata": {},
     "output_type": "execute_result"
    }
   ],
   "source": [
    "sentence = clean_sentences[testing_item]\n",
    "sentence"
   ]
  },
  {
   "cell_type": "code",
   "execution_count": 88,
   "metadata": {},
   "outputs": [
    {
     "name": "stdout",
     "output_type": "stream",
     "text": [
      "11/11 [==============================] - 0s 580us/step\n"
     ]
    },
    {
     "data": {
      "text/plain": [
       "array([[4.0323539e-03, 1.5294230e-08, 5.4858136e-01, 4.4738629e-01],\n",
       "       [4.0323539e-03, 1.5294230e-08, 5.4858136e-01, 4.4738629e-01],\n",
       "       [4.0323539e-03, 1.5294230e-08, 5.4858136e-01, 4.4738629e-01],\n",
       "       ...,\n",
       "       [4.0323539e-03, 1.5294230e-08, 5.4858136e-01, 4.4738629e-01],\n",
       "       [4.0323539e-03, 1.5294230e-08, 5.4858136e-01, 4.4738629e-01],\n",
       "       [4.0323539e-03, 1.5294230e-08, 5.4858136e-01, 4.4738629e-01]],\n",
       "      dtype=float32)"
      ]
     },
     "execution_count": 88,
     "metadata": {},
     "output_type": "execute_result"
    }
   ],
   "source": [
    "\n",
    "sequences = tokenizer.texts_to_sequences(sentence)\n",
    "padded = pad_sequences(\n",
    "    sequences, maxlen=max_input_length, padding=padding_type, truncating=trunc_type\n",
    ")\n",
    "predictions = model.predict(padded)\n",
    "predictions"
   ]
  },
  {
   "cell_type": "code",
   "execution_count": 89,
   "metadata": {},
   "outputs": [
    {
     "data": {
      "text/plain": [
       "1"
      ]
     },
     "execution_count": 89,
     "metadata": {},
     "output_type": "execute_result"
    }
   ],
   "source": [
    "labels[testing_item]"
   ]
  },
  {
   "cell_type": "code",
   "execution_count": 90,
   "metadata": {},
   "outputs": [
    {
     "data": {
      "text/plain": [
       "2"
      ]
     },
     "execution_count": 90,
     "metadata": {},
     "output_type": "execute_result"
    }
   ],
   "source": [
    "max_index = np.argmax(predictions[0])\n",
    "max_index"
   ]
  }
 ],
 "metadata": {
  "kernelspec": {
   "display_name": ".venv",
   "language": "python",
   "name": "python3"
  },
  "language_info": {
   "codemirror_mode": {
    "name": "ipython",
    "version": 3
   },
   "file_extension": ".py",
   "mimetype": "text/x-python",
   "name": "python",
   "nbconvert_exporter": "python",
   "pygments_lexer": "ipython3",
   "version": "3.11.4"
  },
  "orig_nbformat": 4
 },
 "nbformat": 4,
 "nbformat_minor": 2
}
