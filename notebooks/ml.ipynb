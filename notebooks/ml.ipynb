{
 "cells": [
  {
   "cell_type": "code",
   "execution_count": 172,
   "metadata": {},
   "outputs": [],
   "source": [
    "import tensorflow as tf\n",
    "# from tensorflow import keras\n",
    "import nltk\n",
    "import simplemma\n",
    "import pandas as pd\n",
    "import pathlib\n",
    "import json\n",
    "import numpy as np\n",
    "import matplotlib.pyplot as plt\n",
    "\n",
    "from tensorflow.keras.preprocessing.text import Tokenizer\n",
    "from tensorflow.keras.preprocessing.sequence import pad_sequences"
   ]
  },
  {
   "cell_type": "code",
   "execution_count": 173,
   "metadata": {},
   "outputs": [],
   "source": [
    "working_dir = pathlib.Path.cwd()\n",
    "\n",
    "test_and_train_studies = 40\n",
    "vocab_size = 10000\n",
    "embedding_dim = 16\n",
    "max_input_length = 25 # default\n",
    "trunc_type='post'\n",
    "padding_type='post'\n",
    "oov_token = None # \"<OOV>\"\n",
    "training_percent = 80\n",
    "num_epochs = 100"
   ]
  },
  {
   "cell_type": "code",
   "execution_count": 174,
   "metadata": {},
   "outputs": [],
   "source": [
    "clean_annotations = pd.read_csv(working_dir.parent / \"data\" / \"output\" / \"clean_annotations.csv\")\n",
    "\n",
    "sentences = clean_annotations[\"relevant_text\"].to_list()[:test_and_train_studies]\n",
    "production_sentences = clean_annotations[\"relevant_text\"].to_list()[test_and_train_studies:]\n",
    "\n",
    "# 1. Emergency\n",
    "# 2. Normal\n",
    "# 3. Non Emergency [Doctor]\n",
    "# 4. Non Emergency [No Doctor]\n",
    "clean_labels = clean_annotations[\"classifications\"].to_list()[:test_and_train_studies]\n",
    "production_labels = clean_annotations[\"classifications\"].to_list()[test_and_train_studies:]"
   ]
  },
  {
   "cell_type": "code",
   "execution_count": 175,
   "metadata": {},
   "outputs": [],
   "source": [
    "def find_and_replace_exact_word(input_word, replacements):\n",
    "    for key, value in replacements.items():\n",
    "        if input_word == key:\n",
    "            return value\n",
    "    return input_word\n",
    "\n",
    "\n",
    "def find_longest_sentence_length(sentences):\n",
    "    longest_length = max(len(sentence.split()) for sentence in sentences)\n",
    "    return longest_length\n",
    "\n",
    "\n",
    "def plot_graphs(history, string):\n",
    "    plt.plot(history.history[string])\n",
    "    plt.plot(history.history[\"val_\" + string])\n",
    "    plt.xlabel(\"Epochs\")\n",
    "    plt.ylabel(string)\n",
    "    plt.legend([string, \"val_\" + string])\n",
    "    plt.show()\n",
    "\n",
    "\n",
    "def sentence_cleaning_pipeline(sentences):\n",
    "    \"\"\"\n",
    "    1. Remove punctuation\n",
    "    2. Only lower letters\n",
    "    3. Lemmatize\n",
    "    4. Remove stop words\n",
    "    5. Manual corrections\n",
    "    \"\"\"\n",
    "    # tokenizer without punctuation\n",
    "    regexp_tokenizer = nltk.tokenize.RegexpTokenizer(r\"\\w+\")\n",
    "\n",
    "    # get Turkish stopwords\n",
    "    nltk.download(\"stopwords\")\n",
    "    turkish_stopwords = nltk.corpus.stopwords.words(\"turkish\")\n",
    "\n",
    "    # word corrections\n",
    "    with open(\n",
    "        working_dir.parent / \"data\" / \"input\" / \"manuel_corrections.json\", \"r\"\n",
    "    ) as file:\n",
    "        manuel_corrections = json.load(file)\n",
    "\n",
    "    return [\n",
    "        \" \".join(\n",
    "            find_and_replace_exact_word(\n",
    "                simplemma.lemmatize(word, lang=\"tr\").lower(),\n",
    "                manuel_corrections[\"fix_post_lemmatasation\"],\n",
    "            )\n",
    "            for word in regexp_tokenizer.tokenize(sentence)\n",
    "            if word\n",
    "            not in turkish_stopwords + manuel_corrections[\"skip_pre_lemmatasation\"]\n",
    "        )\n",
    "        for sentence in sentences\n",
    "    ]\n",
    "\n",
    "\n",
    "def calculate_matching_ratio(list1, list2):\n",
    "    if len(list1) != len(list2):\n",
    "        return \"Lists are not of the same length\"\n",
    "    matches = sum(i == j for i, j in zip(list1, list2))\n",
    "    return matches / len(list1)"
   ]
  },
  {
   "cell_type": "code",
   "execution_count": 176,
   "metadata": {},
   "outputs": [
    {
     "data": {
      "text/plain": [
       "['Kontrastsız Beyin BT Kafa kaidesi ve kalvarial kemik yapılar normal sınırlardadır. 4.ventrikül ve bazal sisternalar normal genişliktedir. Posterior fossa oluşumları olağandır. İntrakranial hipo veya hiperdens sınırlanabilen patoloji saptanmadı. 3.ventrikül orta hatta ve normal genişliktedir. Lateral ventriküller olağandır. Beyin orta hat yapılarında yer değiştirme saptanmamıştır. Serebral sulkuslar olağandır. Nazal septum sola deviye görünümdedir ve BTye yansıyan tipik bir akut iskemi bulgusu mevcut değildir.  Ancak bu konuda klinik kuşku varsa olgunun diffüzyon MRG ile değerlendirilmesi ve detaylandırılması daha yararlı olacaktır. ',\n",
       " 'Sol serebellar hemisferde sekel ??? ensefalomalazi sahaları ve eski iskemi sekeli değişiklikler izlenmektedir. Sağ serebellar hemisfer düzeyinde de benzer bulgular izlenmekle birlikte her iki serebellumda atrofi bulguları ve folyolarda belirginleşme mevcuttur. Supratentorial kesitlerin değerlendirilmesinde 3. ve lateral ventrikul, konveksite sulkusları atrofiye sekonder belirginleşmiştir. Sağda posterior serebral arter sulama sahasında kronik iskemik sekel gliozis sahalarının varlığı mevcuttur. Periventrikuler lökoriazis alanları izlenmektedir. ',\n",
       " ' Periventriküler derin beyaz cevherde kronik iskemik gliozise bağlı dansite kaybı izlenmektedir. Bazal sisterna ve serebral konvekste sulkuslarının genişliği atrofi ile uyumlu artmıştır. Sağ oksipital lobda kronik infarkt sekeli ensefalomalazi- gliozis ile uyumlu hipodens alan mevcuttur. Sağ kapsüle interna ön bölümünde de kronik infarkta ait hipodens alan izlenmiştir. Her iki lateral ventrikül genişliği atrofi zemininde hafif artmış görünümdedir. ',\n",
       " 'Sağda orbita tavanınd frontal sinüs tabanında çökme gösteren fraktür hatları izlenmiştir. Sağ orbita medial duvarında da fraktür hatları izlenmektedir. Sağ orbita tabanında maksiller sinüs üst duvarında yine çökme gösteren fraktür hattı mevcut olup orbital yağ dokunun bu düzeyden maksiller sinüse doğru uzanımı saptanmıştır. Sağ maksiller sinüs içerisinde kanama ile uyumlu yüksek dansiteli görünümlerde izlenmiştir. ',\n",
       " 'Sağ orbita üst duvarında fraktüre ait görünüm izlenmekte olup medial kesimde frontal sinüs duvarına uzanmaktadır,fraktüre komşu dural planlarda milimetrik hava değerleri mevcuttur.Sağ frontal sinüs inferior kesiminde anterior duvarda da fraktür hattı izlenmiştir.Sağ frontal bölgede ve periorbital alanda cilt altı yumuşak dokuda ödem- hematom ile uyumlu dansite ve kalınlık artışı ile hava değerleri mevcuttur. ']"
      ]
     },
     "execution_count": 176,
     "metadata": {},
     "output_type": "execute_result"
    }
   ],
   "source": [
    "sentences[:5]"
   ]
  },
  {
   "cell_type": "code",
   "execution_count": 177,
   "metadata": {},
   "outputs": [
    {
     "name": "stderr",
     "output_type": "stream",
     "text": [
      "[nltk_data] Downloading package stopwords to\n",
      "[nltk_data]     /Users/gokasci/nltk_data...\n",
      "[nltk_data]   Package stopwords is already up-to-date!\n"
     ]
    }
   ],
   "source": [
    "clean_sentences = sentence_cleaning_pipeline(sentences)\n",
    "max_input_length = find_longest_sentence_length(clean_sentences)"
   ]
  },
  {
   "cell_type": "code",
   "execution_count": 178,
   "metadata": {},
   "outputs": [
    {
     "name": "stdout",
     "output_type": "stream",
     "text": [
      "clean sentences: 40\n",
      "production sentences: 13\n"
     ]
    },
    {
     "data": {
      "text/plain": [
       "['kontrast beyin bt kafa kaide kalvarial kemik yapı normal sınır 4 ventrikül bazal sisternalar normal genişlik posterior fossa oluşum olağan i̇ntrakranial hipo hiperdens sınırlanabilen patoloji 3 ventrikül orta hatta normal genişlik lateral ventrikül olağan beyin orta hat yapı yer değiş sapta serebral sulkus olağan nazal septum sol deviye görünüm btye yansı tipik bir akut iskemi bulgu mevcut değil ancak konu klinik kuşku var olgu diffüzyon mrg değer detaylandırılması yarar ol',\n",
       " 'sol serebellar hemisfer sekel ensefalomalazi saha eski iskemi sekel değişik izle sağ serebellar hemisfer düzey benzer bulgu izle birlikte iki serebellumda atrofi bulgu folyo belirgin mevcut supratentorial kesit değerlendirilmesin 3 lateral ventrikul konveksite sulkus atrofiye sekonder belirgin sağ posterior serebral arter sula saha kronik iskemik sekel gliozis saha varlık mevcut periventrikuler lökoriazis alan izle',\n",
       " 'periventriküler derin beyaz cevher kronik iskemik gliozise bağ dansite kayıp izle bazal sisterna serebral konveks sulkuslar genişlik atrofi uyum art sağ oksipital lobda kronik infarkt sekel ensefalomalazi gliozis uyum hipodens alan mevcut sağ kapsül interna ön bölüm kronik infarkta ait hipodens alan izle her iki lateral ventrikül genişlik atrofi zemin hafif art görünüm',\n",
       " 'sağ orbita tavan frontal sinüs taban çök göster fraktür hat izle sağ orbita medial duvar fraktür hat izle sağ orbita taban maksiller sinüs üst duvar yine çök göster fraktür hat mevcut ol orbital yağ doku düzey maksiller sinüs doğru uzanım sapta sağ maksiller sinüs içeri kana uyum yüksek dansite görünüm izle',\n",
       " 'sağ orbita üst duvar fraktüre ait görünüm izle ol medial kesim frontal sinüs duvar uza fraktüre komşu dural plan milimetrik hava değer mevcut sağ frontal sinüs inferior kesim anterior duvar fraktür hat izle sağ frontal bölge periorbital alan cilt altı yumuşak doku ödem hematom uyum dansite kalınlık art hava değer mevcut']"
      ]
     },
     "execution_count": 178,
     "metadata": {},
     "output_type": "execute_result"
    }
   ],
   "source": [
    "# sentence count\n",
    "print(f\"clean sentences: {len(clean_sentences)}\")\n",
    "print(f\"production sentences: {len(production_sentences)}\")\n",
    "# show clean sentences\n",
    "clean_sentences[:5]"
   ]
  },
  {
   "cell_type": "code",
   "execution_count": 179,
   "metadata": {},
   "outputs": [
    {
     "data": {
      "text/plain": [
       "[1, 3, 3, 0, 0]"
      ]
     },
     "execution_count": 179,
     "metadata": {},
     "output_type": "execute_result"
    }
   ],
   "source": [
    "clean_labels[:5]"
   ]
  },
  {
   "cell_type": "code",
   "execution_count": 180,
   "metadata": {},
   "outputs": [],
   "source": [
    "# save json files\n",
    "with open(working_dir.parent / \"data\" / \"output\" / \"lemma_correction.json\", \"w\", encoding=\"utf-8\") as json_file:\n",
    "    data = {\n",
    "        str(index): {\"no_lemma\": sentence, \"lemma\": clean_sentence}\n",
    "        for index, (sentence, clean_sentence) in enumerate(\n",
    "            zip(sentences, clean_sentences)\n",
    "        )\n",
    "    }\n",
    "    json_file.write(json.dumps(data, indent=4, ensure_ascii=False))"
   ]
  },
  {
   "cell_type": "code",
   "execution_count": 181,
   "metadata": {},
   "outputs": [],
   "source": [
    "# manuall test the word lemmatizer\n",
    "# word = \"hemisferde\"\n",
    "# simplemma.lemmatize(word, lang=\"tr\").lower()"
   ]
  },
  {
   "cell_type": "code",
   "execution_count": 182,
   "metadata": {},
   "outputs": [],
   "source": [
    "training_size = int(len(clean_sentences) * training_percent / 100)\n",
    "training_sentences = clean_sentences[0:training_size]\n",
    "testing_sentences = clean_sentences[training_size:]\n",
    "training_labels = clean_labels[0:training_size]\n",
    "testing_labels = clean_labels[training_size:]"
   ]
  },
  {
   "cell_type": "code",
   "execution_count": 183,
   "metadata": {},
   "outputs": [],
   "source": [
    "tokenizer = Tokenizer(num_words=vocab_size, oov_token=oov_token)\n",
    "tokenizer.fit_on_texts(training_sentences)\n",
    "\n",
    "training_sequences = tokenizer.texts_to_sequences(training_sentences)\n",
    "training_padded = pad_sequences(training_sequences, maxlen=max_input_length, padding=padding_type, truncating=trunc_type)\n",
    "testing_sequences = tokenizer.texts_to_sequences(testing_sentences)\n",
    "testing_padded = pad_sequences(testing_sequences, maxlen=max_input_length, padding=padding_type, truncating=trunc_type)\n",
    "\n",
    "training_padded = np.array(training_padded)\n",
    "training_labels = np.array(training_labels)\n",
    "testing_padded = np.array(testing_padded)\n",
    "testing_labels = np.array(testing_labels)"
   ]
  },
  {
   "cell_type": "code",
   "execution_count": 184,
   "metadata": {},
   "outputs": [],
   "source": [
    "model = tf.keras.Sequential(\n",
    "    [\n",
    "        tf.keras.layers.Embedding(\n",
    "            vocab_size, embedding_dim, input_length=max_input_length\n",
    "        ),\n",
    "        tf.keras.layers.GlobalAveragePooling1D(),\n",
    "        tf.keras.layers.Dense(64, activation=\"relu\"),\n",
    "        tf.keras.layers.Dense(64, activation=\"relu\"),\n",
    "        tf.keras.layers.Dense(64, activation=\"relu\"),\n",
    "        tf.keras.layers.Dense(64, activation=\"relu\"),\n",
    "        tf.keras.layers.Dense(64, activation=\"relu\"),\n",
    "        tf.keras.layers.Dense(64, activation=\"relu\"),\n",
    "        tf.keras.layers.Dense(32, activation=\"relu\"),\n",
    "        tf.keras.layers.Dense(4, activation=\"softmax\"),\n",
    "    ]\n",
    ")\n",
    "model.compile(\n",
    "    loss=\"sparse_categorical_crossentropy\", optimizer=\"adam\", metrics=[\"accuracy\"]\n",
    ")"
   ]
  },
  {
   "cell_type": "code",
   "execution_count": 185,
   "metadata": {},
   "outputs": [
    {
     "name": "stdout",
     "output_type": "stream",
     "text": [
      "Model: \"sequential_7\"\n",
      "_________________________________________________________________\n",
      " Layer (type)                Output Shape              Param #   \n",
      "=================================================================\n",
      " embedding_7 (Embedding)     (None, 70, 16)            160000    \n",
      "                                                                 \n",
      " global_average_pooling1d_7  (None, 16)                0         \n",
      "  (GlobalAveragePooling1D)                                       \n",
      "                                                                 \n",
      " dense_57 (Dense)            (None, 64)                1088      \n",
      "                                                                 \n",
      " dense_58 (Dense)            (None, 64)                4160      \n",
      "                                                                 \n",
      " dense_59 (Dense)            (None, 64)                4160      \n",
      "                                                                 \n",
      " dense_60 (Dense)            (None, 64)                4160      \n",
      "                                                                 \n",
      " dense_61 (Dense)            (None, 64)                4160      \n",
      "                                                                 \n",
      " dense_62 (Dense)            (None, 64)                4160      \n",
      "                                                                 \n",
      " dense_63 (Dense)            (None, 32)                2080      \n",
      "                                                                 \n",
      " dense_64 (Dense)            (None, 4)                 132       \n",
      "                                                                 \n",
      "=================================================================\n",
      "Total params: 184100 (719.14 KB)\n",
      "Trainable params: 184100 (719.14 KB)\n",
      "Non-trainable params: 0 (0.00 Byte)\n",
      "_________________________________________________________________\n"
     ]
    }
   ],
   "source": [
    "model.summary()\n"
   ]
  },
  {
   "cell_type": "code",
   "execution_count": 186,
   "metadata": {},
   "outputs": [
    {
     "name": "stdout",
     "output_type": "stream",
     "text": [
      "Epoch 1/100\n"
     ]
    },
    {
     "name": "stdout",
     "output_type": "stream",
     "text": [
      "4/4 - 1s - loss: 1.3849 - accuracy: 0.1875 - val_loss: 1.3830 - val_accuracy: 0.5000 - 597ms/epoch - 149ms/step\n",
      "Epoch 2/100\n",
      "4/4 - 0s - loss: 1.3758 - accuracy: 0.3750 - val_loss: 1.3834 - val_accuracy: 0.5000 - 22ms/epoch - 5ms/step\n",
      "Epoch 3/100\n",
      "4/4 - 0s - loss: 1.3652 - accuracy: 0.3750 - val_loss: 1.3825 - val_accuracy: 0.5000 - 21ms/epoch - 5ms/step\n",
      "Epoch 4/100\n",
      "4/4 - 0s - loss: 1.3496 - accuracy: 0.3750 - val_loss: 1.3809 - val_accuracy: 0.5000 - 21ms/epoch - 5ms/step\n",
      "Epoch 5/100\n",
      "4/4 - 0s - loss: 1.3281 - accuracy: 0.3750 - val_loss: 1.3812 - val_accuracy: 0.5000 - 21ms/epoch - 5ms/step\n",
      "Epoch 6/100\n",
      "4/4 - 0s - loss: 1.2921 - accuracy: 0.3750 - val_loss: 1.3917 - val_accuracy: 0.5000 - 22ms/epoch - 5ms/step\n",
      "Epoch 7/100\n",
      "4/4 - 0s - loss: 1.2559 - accuracy: 0.3750 - val_loss: 1.4107 - val_accuracy: 0.5000 - 21ms/epoch - 5ms/step\n",
      "Epoch 8/100\n",
      "4/4 - 0s - loss: 1.2047 - accuracy: 0.3750 - val_loss: 1.4665 - val_accuracy: 0.5000 - 20ms/epoch - 5ms/step\n",
      "Epoch 9/100\n",
      "4/4 - 0s - loss: 1.1410 - accuracy: 0.3750 - val_loss: 1.6181 - val_accuracy: 0.5000 - 22ms/epoch - 5ms/step\n",
      "Epoch 10/100\n",
      "4/4 - 0s - loss: 1.1117 - accuracy: 0.3750 - val_loss: 1.8331 - val_accuracy: 0.5000 - 22ms/epoch - 6ms/step\n",
      "Epoch 11/100\n",
      "4/4 - 0s - loss: 1.0926 - accuracy: 0.4375 - val_loss: 1.9518 - val_accuracy: 0.0000e+00 - 21ms/epoch - 5ms/step\n",
      "Epoch 12/100\n",
      "4/4 - 0s - loss: 1.0764 - accuracy: 0.4688 - val_loss: 2.0287 - val_accuracy: 0.0000e+00 - 21ms/epoch - 5ms/step\n",
      "Epoch 13/100\n",
      "4/4 - 0s - loss: 1.0574 - accuracy: 0.4688 - val_loss: 1.9121 - val_accuracy: 0.0000e+00 - 21ms/epoch - 5ms/step\n",
      "Epoch 14/100\n",
      "4/4 - 0s - loss: 1.0077 - accuracy: 0.4688 - val_loss: 1.7854 - val_accuracy: 0.0000e+00 - 20ms/epoch - 5ms/step\n",
      "Epoch 15/100\n",
      "4/4 - 0s - loss: 0.9700 - accuracy: 0.6562 - val_loss: 1.6862 - val_accuracy: 0.5000 - 21ms/epoch - 5ms/step\n",
      "Epoch 16/100\n",
      "4/4 - 0s - loss: 0.9221 - accuracy: 0.8438 - val_loss: 1.6326 - val_accuracy: 0.5000 - 21ms/epoch - 5ms/step\n",
      "Epoch 17/100\n",
      "4/4 - 0s - loss: 0.8425 - accuracy: 0.8438 - val_loss: 1.6271 - val_accuracy: 0.5000 - 21ms/epoch - 5ms/step\n",
      "Epoch 18/100\n",
      "4/4 - 0s - loss: 0.7243 - accuracy: 0.8438 - val_loss: 1.5748 - val_accuracy: 0.5000 - 21ms/epoch - 5ms/step\n",
      "Epoch 19/100\n",
      "4/4 - 0s - loss: 0.5927 - accuracy: 0.8438 - val_loss: 1.5717 - val_accuracy: 0.5000 - 21ms/epoch - 5ms/step\n",
      "Epoch 20/100\n",
      "4/4 - 0s - loss: 0.4597 - accuracy: 0.8438 - val_loss: 1.4966 - val_accuracy: 0.5000 - 21ms/epoch - 5ms/step\n",
      "Epoch 21/100\n",
      "4/4 - 0s - loss: 0.3712 - accuracy: 0.8438 - val_loss: 1.4461 - val_accuracy: 0.5000 - 22ms/epoch - 5ms/step\n",
      "Epoch 22/100\n",
      "4/4 - 0s - loss: 0.3150 - accuracy: 0.8438 - val_loss: 1.3704 - val_accuracy: 0.5000 - 22ms/epoch - 5ms/step\n",
      "Epoch 23/100\n",
      "4/4 - 0s - loss: 0.2930 - accuracy: 0.8438 - val_loss: 1.1721 - val_accuracy: 0.5000 - 21ms/epoch - 5ms/step\n",
      "Epoch 24/100\n",
      "4/4 - 0s - loss: 0.2610 - accuracy: 0.8438 - val_loss: 1.1764 - val_accuracy: 0.5000 - 22ms/epoch - 5ms/step\n",
      "Epoch 25/100\n",
      "4/4 - 0s - loss: 0.2455 - accuracy: 0.9062 - val_loss: 1.2931 - val_accuracy: 0.5000 - 22ms/epoch - 6ms/step\n",
      "Epoch 26/100\n",
      "4/4 - 0s - loss: 0.2318 - accuracy: 0.9375 - val_loss: 1.2387 - val_accuracy: 0.5000 - 23ms/epoch - 6ms/step\n",
      "Epoch 27/100\n",
      "4/4 - 0s - loss: 0.2171 - accuracy: 0.9375 - val_loss: 1.2328 - val_accuracy: 0.5000 - 22ms/epoch - 5ms/step\n",
      "Epoch 28/100\n",
      "4/4 - 0s - loss: 0.2117 - accuracy: 0.9375 - val_loss: 1.1742 - val_accuracy: 0.5000 - 22ms/epoch - 5ms/step\n",
      "Epoch 29/100\n",
      "4/4 - 0s - loss: 0.1972 - accuracy: 0.9375 - val_loss: 1.2052 - val_accuracy: 0.5000 - 22ms/epoch - 5ms/step\n",
      "Epoch 30/100\n",
      "4/4 - 0s - loss: 0.1830 - accuracy: 0.9375 - val_loss: 1.3567 - val_accuracy: 0.5000 - 22ms/epoch - 5ms/step\n",
      "Epoch 31/100\n",
      "4/4 - 0s - loss: 0.1686 - accuracy: 0.9375 - val_loss: 1.4645 - val_accuracy: 0.5000 - 22ms/epoch - 5ms/step\n",
      "Epoch 32/100\n",
      "4/4 - 0s - loss: 0.1519 - accuracy: 0.9375 - val_loss: 1.6083 - val_accuracy: 0.5000 - 22ms/epoch - 5ms/step\n",
      "Epoch 33/100\n",
      "4/4 - 0s - loss: 0.1288 - accuracy: 0.9688 - val_loss: 1.7878 - val_accuracy: 0.5000 - 21ms/epoch - 5ms/step\n",
      "Epoch 34/100\n",
      "4/4 - 0s - loss: 0.1160 - accuracy: 0.9688 - val_loss: 1.5831 - val_accuracy: 0.3750 - 28ms/epoch - 7ms/step\n",
      "Epoch 35/100\n",
      "4/4 - 0s - loss: 0.0957 - accuracy: 0.9688 - val_loss: 1.8341 - val_accuracy: 0.3750 - 23ms/epoch - 6ms/step\n",
      "Epoch 36/100\n",
      "4/4 - 0s - loss: 0.0859 - accuracy: 0.9688 - val_loss: 2.1852 - val_accuracy: 0.3750 - 22ms/epoch - 6ms/step\n",
      "Epoch 37/100\n",
      "4/4 - 0s - loss: 0.0809 - accuracy: 0.9688 - val_loss: 2.1784 - val_accuracy: 0.3750 - 22ms/epoch - 6ms/step\n",
      "Epoch 38/100\n",
      "4/4 - 0s - loss: 0.0779 - accuracy: 0.9688 - val_loss: 2.4705 - val_accuracy: 0.5000 - 22ms/epoch - 5ms/step\n",
      "Epoch 39/100\n",
      "4/4 - 0s - loss: 0.0719 - accuracy: 0.9688 - val_loss: 2.6101 - val_accuracy: 0.3750 - 22ms/epoch - 5ms/step\n",
      "Epoch 40/100\n",
      "4/4 - 0s - loss: 0.0688 - accuracy: 0.9688 - val_loss: 2.7427 - val_accuracy: 0.3750 - 22ms/epoch - 6ms/step\n",
      "Epoch 41/100\n",
      "4/4 - 0s - loss: 0.0698 - accuracy: 0.9688 - val_loss: 2.7929 - val_accuracy: 0.3750 - 23ms/epoch - 6ms/step\n",
      "Epoch 42/100\n",
      "4/4 - 0s - loss: 0.0680 - accuracy: 0.9688 - val_loss: 2.8808 - val_accuracy: 0.5000 - 25ms/epoch - 6ms/step\n",
      "Epoch 43/100\n",
      "4/4 - 0s - loss: 0.0636 - accuracy: 0.9688 - val_loss: 3.0143 - val_accuracy: 0.3750 - 25ms/epoch - 6ms/step\n",
      "Epoch 44/100\n",
      "4/4 - 0s - loss: 0.0593 - accuracy: 0.9688 - val_loss: 3.1140 - val_accuracy: 0.3750 - 24ms/epoch - 6ms/step\n",
      "Epoch 45/100\n",
      "4/4 - 0s - loss: 0.0528 - accuracy: 0.9688 - val_loss: 3.3433 - val_accuracy: 0.3750 - 25ms/epoch - 6ms/step\n",
      "Epoch 46/100\n",
      "4/4 - 0s - loss: 0.0482 - accuracy: 1.0000 - val_loss: 3.5726 - val_accuracy: 0.2500 - 26ms/epoch - 7ms/step\n",
      "Epoch 47/100\n",
      "4/4 - 0s - loss: 0.0266 - accuracy: 1.0000 - val_loss: 3.8628 - val_accuracy: 0.2500 - 24ms/epoch - 6ms/step\n",
      "Epoch 48/100\n",
      "4/4 - 0s - loss: 0.0194 - accuracy: 1.0000 - val_loss: 4.0407 - val_accuracy: 0.2500 - 25ms/epoch - 6ms/step\n",
      "Epoch 49/100\n",
      "4/4 - 0s - loss: 0.0112 - accuracy: 1.0000 - val_loss: 4.4409 - val_accuracy: 0.2500 - 24ms/epoch - 6ms/step\n",
      "Epoch 50/100\n",
      "4/4 - 0s - loss: 0.0052 - accuracy: 1.0000 - val_loss: 4.5231 - val_accuracy: 0.3750 - 24ms/epoch - 6ms/step\n",
      "Epoch 51/100\n",
      "4/4 - 0s - loss: 0.0025 - accuracy: 1.0000 - val_loss: 4.6661 - val_accuracy: 0.3750 - 24ms/epoch - 6ms/step\n",
      "Epoch 52/100\n",
      "4/4 - 0s - loss: 0.0017 - accuracy: 1.0000 - val_loss: 4.7808 - val_accuracy: 0.3750 - 24ms/epoch - 6ms/step\n",
      "Epoch 53/100\n",
      "4/4 - 0s - loss: 0.0013 - accuracy: 1.0000 - val_loss: 4.8446 - val_accuracy: 0.3750 - 24ms/epoch - 6ms/step\n",
      "Epoch 54/100\n",
      "4/4 - 0s - loss: 9.2736e-04 - accuracy: 1.0000 - val_loss: 4.8938 - val_accuracy: 0.3750 - 24ms/epoch - 6ms/step\n",
      "Epoch 55/100\n",
      "4/4 - 0s - loss: 7.5351e-04 - accuracy: 1.0000 - val_loss: 4.9354 - val_accuracy: 0.3750 - 24ms/epoch - 6ms/step\n",
      "Epoch 56/100\n",
      "4/4 - 0s - loss: 6.6514e-04 - accuracy: 1.0000 - val_loss: 5.0022 - val_accuracy: 0.3750 - 24ms/epoch - 6ms/step\n",
      "Epoch 57/100\n",
      "4/4 - 0s - loss: 5.8585e-04 - accuracy: 1.0000 - val_loss: 5.0846 - val_accuracy: 0.3750 - 24ms/epoch - 6ms/step\n",
      "Epoch 58/100\n",
      "4/4 - 0s - loss: 5.1793e-04 - accuracy: 1.0000 - val_loss: 5.1661 - val_accuracy: 0.3750 - 24ms/epoch - 6ms/step\n",
      "Epoch 59/100\n",
      "4/4 - 0s - loss: 4.7497e-04 - accuracy: 1.0000 - val_loss: 5.2363 - val_accuracy: 0.3750 - 23ms/epoch - 6ms/step\n",
      "Epoch 60/100\n",
      "4/4 - 0s - loss: 4.2077e-04 - accuracy: 1.0000 - val_loss: 5.2838 - val_accuracy: 0.3750 - 24ms/epoch - 6ms/step\n",
      "Epoch 61/100\n",
      "4/4 - 0s - loss: 3.9955e-04 - accuracy: 1.0000 - val_loss: 5.3323 - val_accuracy: 0.3750 - 23ms/epoch - 6ms/step\n",
      "Epoch 62/100\n",
      "4/4 - 0s - loss: 3.6129e-04 - accuracy: 1.0000 - val_loss: 5.3663 - val_accuracy: 0.3750 - 24ms/epoch - 6ms/step\n",
      "Epoch 63/100\n",
      "4/4 - 0s - loss: 3.4234e-04 - accuracy: 1.0000 - val_loss: 5.4045 - val_accuracy: 0.3750 - 23ms/epoch - 6ms/step\n",
      "Epoch 64/100\n",
      "4/4 - 0s - loss: 3.2306e-04 - accuracy: 1.0000 - val_loss: 5.4573 - val_accuracy: 0.3750 - 23ms/epoch - 6ms/step\n",
      "Epoch 65/100\n",
      "4/4 - 0s - loss: 3.0090e-04 - accuracy: 1.0000 - val_loss: 5.4976 - val_accuracy: 0.3750 - 23ms/epoch - 6ms/step\n",
      "Epoch 66/100\n",
      "4/4 - 0s - loss: 2.8707e-04 - accuracy: 1.0000 - val_loss: 5.5320 - val_accuracy: 0.3750 - 22ms/epoch - 5ms/step\n",
      "Epoch 67/100\n",
      "4/4 - 0s - loss: 2.7790e-04 - accuracy: 1.0000 - val_loss: 5.5713 - val_accuracy: 0.3750 - 22ms/epoch - 6ms/step\n",
      "Epoch 68/100\n",
      "4/4 - 0s - loss: 2.6279e-04 - accuracy: 1.0000 - val_loss: 5.6080 - val_accuracy: 0.3750 - 22ms/epoch - 6ms/step\n",
      "Epoch 69/100\n",
      "4/4 - 0s - loss: 2.4695e-04 - accuracy: 1.0000 - val_loss: 5.6293 - val_accuracy: 0.3750 - 22ms/epoch - 6ms/step\n",
      "Epoch 70/100\n",
      "4/4 - 0s - loss: 2.4020e-04 - accuracy: 1.0000 - val_loss: 5.6740 - val_accuracy: 0.3750 - 22ms/epoch - 5ms/step\n",
      "Epoch 71/100\n",
      "4/4 - 0s - loss: 2.2636e-04 - accuracy: 1.0000 - val_loss: 5.7031 - val_accuracy: 0.3750 - 22ms/epoch - 6ms/step\n",
      "Epoch 72/100\n",
      "4/4 - 0s - loss: 2.2004e-04 - accuracy: 1.0000 - val_loss: 5.7377 - val_accuracy: 0.3750 - 22ms/epoch - 5ms/step\n",
      "Epoch 73/100\n",
      "4/4 - 0s - loss: 2.1346e-04 - accuracy: 1.0000 - val_loss: 5.7720 - val_accuracy: 0.3750 - 22ms/epoch - 6ms/step\n",
      "Epoch 74/100\n",
      "4/4 - 0s - loss: 2.0299e-04 - accuracy: 1.0000 - val_loss: 5.8039 - val_accuracy: 0.3750 - 22ms/epoch - 6ms/step\n",
      "Epoch 75/100\n",
      "4/4 - 0s - loss: 1.9614e-04 - accuracy: 1.0000 - val_loss: 5.8300 - val_accuracy: 0.3750 - 22ms/epoch - 6ms/step\n",
      "Epoch 76/100\n",
      "4/4 - 0s - loss: 1.8843e-04 - accuracy: 1.0000 - val_loss: 5.8534 - val_accuracy: 0.3750 - 22ms/epoch - 6ms/step\n",
      "Epoch 77/100\n",
      "4/4 - 0s - loss: 1.8230e-04 - accuracy: 1.0000 - val_loss: 5.8781 - val_accuracy: 0.3750 - 25ms/epoch - 6ms/step\n",
      "Epoch 78/100\n",
      "4/4 - 0s - loss: 1.7703e-04 - accuracy: 1.0000 - val_loss: 5.9060 - val_accuracy: 0.3750 - 24ms/epoch - 6ms/step\n",
      "Epoch 79/100\n",
      "4/4 - 0s - loss: 1.7152e-04 - accuracy: 1.0000 - val_loss: 5.9326 - val_accuracy: 0.3750 - 25ms/epoch - 6ms/step\n",
      "Epoch 80/100\n",
      "4/4 - 0s - loss: 1.6478e-04 - accuracy: 1.0000 - val_loss: 5.9579 - val_accuracy: 0.3750 - 23ms/epoch - 6ms/step\n",
      "Epoch 81/100\n",
      "4/4 - 0s - loss: 1.5997e-04 - accuracy: 1.0000 - val_loss: 5.9824 - val_accuracy: 0.3750 - 26ms/epoch - 6ms/step\n",
      "Epoch 82/100\n",
      "4/4 - 0s - loss: 1.5544e-04 - accuracy: 1.0000 - val_loss: 6.0042 - val_accuracy: 0.3750 - 24ms/epoch - 6ms/step\n",
      "Epoch 83/100\n",
      "4/4 - 0s - loss: 1.4984e-04 - accuracy: 1.0000 - val_loss: 6.0222 - val_accuracy: 0.3750 - 26ms/epoch - 6ms/step\n",
      "Epoch 84/100\n",
      "4/4 - 0s - loss: 1.4620e-04 - accuracy: 1.0000 - val_loss: 6.0477 - val_accuracy: 0.3750 - 27ms/epoch - 7ms/step\n",
      "Epoch 85/100\n",
      "4/4 - 0s - loss: 1.4170e-04 - accuracy: 1.0000 - val_loss: 6.0688 - val_accuracy: 0.3750 - 24ms/epoch - 6ms/step\n",
      "Epoch 86/100\n",
      "4/4 - 0s - loss: 1.3680e-04 - accuracy: 1.0000 - val_loss: 6.0799 - val_accuracy: 0.3750 - 27ms/epoch - 7ms/step\n",
      "Epoch 87/100\n",
      "4/4 - 0s - loss: 1.3249e-04 - accuracy: 1.0000 - val_loss: 6.0890 - val_accuracy: 0.3750 - 23ms/epoch - 6ms/step\n",
      "Epoch 88/100\n",
      "4/4 - 0s - loss: 1.2949e-04 - accuracy: 1.0000 - val_loss: 6.1024 - val_accuracy: 0.3750 - 25ms/epoch - 6ms/step\n",
      "Epoch 89/100\n",
      "4/4 - 0s - loss: 1.2584e-04 - accuracy: 1.0000 - val_loss: 6.1176 - val_accuracy: 0.3750 - 23ms/epoch - 6ms/step\n",
      "Epoch 90/100\n",
      "4/4 - 0s - loss: 1.2277e-04 - accuracy: 1.0000 - val_loss: 6.1387 - val_accuracy: 0.3750 - 32ms/epoch - 8ms/step\n",
      "Epoch 91/100\n",
      "4/4 - 0s - loss: 1.1905e-04 - accuracy: 1.0000 - val_loss: 6.1608 - val_accuracy: 0.3750 - 29ms/epoch - 7ms/step\n",
      "Epoch 92/100\n",
      "4/4 - 0s - loss: 1.1551e-04 - accuracy: 1.0000 - val_loss: 6.1742 - val_accuracy: 0.3750 - 28ms/epoch - 7ms/step\n",
      "Epoch 93/100\n",
      "4/4 - 0s - loss: 1.1236e-04 - accuracy: 1.0000 - val_loss: 6.1867 - val_accuracy: 0.3750 - 28ms/epoch - 7ms/step\n",
      "Epoch 94/100\n",
      "4/4 - 0s - loss: 1.0940e-04 - accuracy: 1.0000 - val_loss: 6.1996 - val_accuracy: 0.3750 - 25ms/epoch - 6ms/step\n",
      "Epoch 95/100\n",
      "4/4 - 0s - loss: 1.0712e-04 - accuracy: 1.0000 - val_loss: 6.2123 - val_accuracy: 0.3750 - 26ms/epoch - 6ms/step\n",
      "Epoch 96/100\n",
      "4/4 - 0s - loss: 1.0473e-04 - accuracy: 1.0000 - val_loss: 6.2328 - val_accuracy: 0.3750 - 22ms/epoch - 6ms/step\n",
      "Epoch 97/100\n",
      "4/4 - 0s - loss: 1.0120e-04 - accuracy: 1.0000 - val_loss: 6.2476 - val_accuracy: 0.3750 - 34ms/epoch - 8ms/step\n",
      "Epoch 98/100\n",
      "4/4 - 0s - loss: 9.8784e-05 - accuracy: 1.0000 - val_loss: 6.2642 - val_accuracy: 0.3750 - 39ms/epoch - 10ms/step\n",
      "Epoch 99/100\n",
      "4/4 - 0s - loss: 9.6785e-05 - accuracy: 1.0000 - val_loss: 6.2866 - val_accuracy: 0.3750 - 24ms/epoch - 6ms/step\n",
      "Epoch 100/100\n",
      "4/4 - 0s - loss: 9.4218e-05 - accuracy: 1.0000 - val_loss: 6.3019 - val_accuracy: 0.3750 - 23ms/epoch - 6ms/step\n"
     ]
    }
   ],
   "source": [
    "history = model.fit(training_padded, training_labels, epochs=num_epochs, batch_size=8, validation_data=(testing_padded, testing_labels), verbose=2)"
   ]
  },
  {
   "cell_type": "code",
   "execution_count": 187,
   "metadata": {},
   "outputs": [
    {
     "data": {
      "image/png": "[encoded data removed]",
      "text/plain": [
       "<Figure size 640x480 with 1 Axes>"
      ]
     },
     "metadata": {},
     "output_type": "display_data"
    },
    {
     "data": {
      "image/png": "[encoded data removed]",
      "text/plain": [
       "<Figure size 640x480 with 1 Axes>"
      ]
     },
     "metadata": {},
     "output_type": "display_data"
    }
   ],
   "source": [
    "plot_graphs(history, \"accuracy\")\n",
    "plot_graphs(history, \"loss\")"
   ]
  },
  {
   "cell_type": "code",
   "execution_count": 188,
   "metadata": {},
   "outputs": [
    {
     "data": {
      "text/plain": [
       "['Serebral sulkus ve sisternalar atrofiye sekonder genişlemiştir. Ponsta iki adet laküner infarkt alanı izlenmektedir.',\n",
       " 'Periventriküler beyaz cevher doku yoğunlukları azalmıştır. Hemisferik kortikal sulkuslar ve serebellar folyolar atrofik görünümdedir.',\n",
       " 'Sağda bazal ganglionik düzeyde genişlemiş perivaskuler aralığa ait görünümün varlığı izlenmiştir (normalin varyasyonu). ']"
      ]
     },
     "execution_count": 188,
     "metadata": {},
     "output_type": "execute_result"
    }
   ],
   "source": [
    "production_sentences[:3]"
   ]
  },
  {
   "cell_type": "code",
   "execution_count": 189,
   "metadata": {},
   "outputs": [
    {
     "data": {
      "text/plain": [
       "13"
      ]
     },
     "execution_count": 189,
     "metadata": {},
     "output_type": "execute_result"
    }
   ],
   "source": [
    "len(production_sentences)"
   ]
  },
  {
   "cell_type": "code",
   "execution_count": 190,
   "metadata": {},
   "outputs": [
    {
     "data": {
      "text/plain": [
       "array([[ 11,  12, 119,  16,  75,  76, 159, 268,  56, 269, 154,  97, 270,\n",
       "        160,   0,   0,   0,   0,   0,   0,   0,   0,   0,   0,   0,   0,\n",
       "          0,   0,   0,   0,   0,   0,   0,   0,   0,   0,   0,   0,   0,\n",
       "          0,   0,   0,   0,   0,   0,   0,   0,   0,   0,   0,   0,   0,\n",
       "          0,   0,   0,   0,   0,   0,   0,   0,   0,   0,   0,   0,   0,\n",
       "          0,   0,   0,   0,   0],\n",
       "       [ 49,  52,  67,  60, 271, 272, 155, 116,  96, 119,  43, 273, 113,\n",
       "        274,   0,   0,   0,   0,   0,   0,   0,   0,   0,   0,   0,   0,\n",
       "          0,   0,   0,   0,   0,   0,   0,   0,   0,   0,   0,   0,   0,\n",
       "          0,   0,   0,   0,   0,   0,   0,   0,   0,   0,   0,   0,   0,\n",
       "          0,   0,   0,   0,   0,   0,   0,   0,   0,   0,   0,   0,   0,\n",
       "          0,   0,   0,   0,   0],\n",
       "       [161,  23, 275, 162, 276, 277, 278,  80, 279, 280,  55, 281, 282,\n",
       "          0,   0,   0,   0,   0,   0,   0,   0,   0,   0,   0,   0,   0,\n",
       "          0,   0,   0,   0,   0,   0,   0,   0,   0,   0,   0,   0,   0,\n",
       "          0,   0,   0,   0,   0,   0,   0,   0,   0,   0,   0,   0,   0,\n",
       "          0,   0,   0,   0,   0,   0,   0,   0,   0,   0,   0,   0,   0,\n",
       "          0,   0,   0,   0,   0],\n",
       "       [ 39, 283,  20,   5,  26,  47,  47, 101,  60, 284,  58, 285, 160,\n",
       "          0,   0,   0,   0,   0,   0,   0,   0,   0,   0,   0,   0,   0,\n",
       "          0,   0,   0,   0,   0,   0,   0,   0,   0,   0,   0,   0,   0,\n",
       "          0,   0,   0,   0,   0,   0,   0,   0,   0,   0,   0,   0,   0,\n",
       "          0,   0,   0,   0,   0,   0,   0,   0,   0,   0,   0,   0,   0,\n",
       "          0,   0,   0,   0,   0],\n",
       "       [163, 164,  20, 286,  89, 287, 288, 289, 140,  60, 290, 165,   0,\n",
       "          0,   0,   0,   0,   0,   0,   0,   0,   0,   0,   0,   0,   0,\n",
       "          0,   0,   0,   0,   0,   0,   0,   0,   0,   0,   0,   0,   0,\n",
       "          0,   0,   0,   0,   0,   0,   0,   0,   0,   0,   0,   0,   0,\n",
       "          0,   0,   0,   0,   0,   0,   0,   0,   0,   0,   0,   0,   0,\n",
       "          0,   0,   0,   0,   0],\n",
       "       [161, 291, 104, 105, 292,  45, 166, 293,  81, 149, 294,  55,   0,\n",
       "          0,   0,   0,   0,   0,   0,   0,   0,   0,   0,   0,   0,   0,\n",
       "          0,   0,   0,   0,   0,   0,   0,   0,   0,   0,   0,   0,   0,\n",
       "          0,   0,   0,   0,   0,   0,   0,   0,   0,   0,   0,   0,   0,\n",
       "          0,   0,   0,   0,   0,   0,   0,   0,   0,   0,   0,   0,   0,\n",
       "          0,   0,   0,   0,   0],\n",
       "       [ 11,  96, 295, 163, 164,  98,  56,  50,  89, 167, 168,  55,   0,\n",
       "          0,   0,   0,   0,   0,   0,   0,   0,   0,   0,   0,   0,   0,\n",
       "          0,   0,   0,   0,   0,   0,   0,   0,   0,   0,   0,   0,   0,\n",
       "          0,   0,   0,   0,   0,   0,   0,   0,   0,   0,   0,   0,   0,\n",
       "          0,   0,   0,   0,   0,   0,   0,   0,   0,   0,   0,   0,   0,\n",
       "          0,   0,   0,   0,   0],\n",
       "       [ 45, 109, 296,  24,  47, 101, 297, 298,  55, 110, 299,   0,   0,\n",
       "          0,   0,   0,   0,   0,   0,   0,   0,   0,   0,   0,   0,   0,\n",
       "          0,   0,   0,   0,   0,   0,   0,   0,   0,   0,   0,   0,   0,\n",
       "          0,   0,   0,   0,   0,   0,   0,   0,   0,   0,   0,   0,   0,\n",
       "          0,   0,   0,   0,   0,   0,   0,   0,   0,   0,   0,   0,   0,\n",
       "          0,   0,   0,   0,   0],\n",
       "       [ 20, 300, 301, 302, 116, 162, 138, 303, 304,  55,   0,   0,   0,\n",
       "          0,   0,   0,   0,   0,   0,   0,   0,   0,   0,   0,   0,   0,\n",
       "          0,   0,   0,   0,   0,   0,   0,   0,   0,   0,   0,   0,   0,\n",
       "          0,   0,   0,   0,   0,   0,   0,   0,   0,   0,   0,   0,   0,\n",
       "          0,   0,   0,   0,   0,   0,   0,   0,   0,   0,   0,   0,   0,\n",
       "          0,   0,   0,   0,   0],\n",
       "       [ 45,  50,  89, 118, 166, 305, 306, 165,   0,   0,   0,   0,   0,\n",
       "          0,   0,   0,   0,   0,   0,   0,   0,   0,   0,   0,   0,   0,\n",
       "          0,   0,   0,   0,   0,   0,   0,   0,   0,   0,   0,   0,   0,\n",
       "          0,   0,   0,   0,   0,   0,   0,   0,   0,   0,   0,   0,   0,\n",
       "          0,   0,   0,   0,   0,   0,   0,   0,   0,   0,   0,   0,   0,\n",
       "          0,   0,   0,   0,   0],\n",
       "       [ 11,  12, 119,  16,  75,  76, 159,   0,   0,   0,   0,   0,   0,\n",
       "          0,   0,   0,   0,   0,   0,   0,   0,   0,   0,   0,   0,   0,\n",
       "          0,   0,   0,   0,   0,   0,   0,   0,   0,   0,   0,   0,   0,\n",
       "          0,   0,   0,   0,   0,   0,   0,   0,   0,   0,   0,   0,   0,\n",
       "          0,   0,   0,   0,   0,   0,   0,   0,   0,   0,   0,   0,   0,\n",
       "          0,   0,   0,   0,   0],\n",
       "       [157, 307,  18,  18, 308, 309,  55,   0,   0,   0,   0,   0,   0,\n",
       "          0,   0,   0,   0,   0,   0,   0,   0,   0,   0,   0,   0,   0,\n",
       "          0,   0,   0,   0,   0,   0,   0,   0,   0,   0,   0,   0,   0,\n",
       "          0,   0,   0,   0,   0,   0,   0,   0,   0,   0,   0,   0,   0,\n",
       "          0,   0,   0,   0,   0,   0,   0,   0,   0,   0,   0,   0,   0,\n",
       "          0,   0,   0,   0,   0],\n",
       "       [ 20,  50,  89, 167, 168,  55,   0,   0,   0,   0,   0,   0,   0,\n",
       "          0,   0,   0,   0,   0,   0,   0,   0,   0,   0,   0,   0,   0,\n",
       "          0,   0,   0,   0,   0,   0,   0,   0,   0,   0,   0,   0,   0,\n",
       "          0,   0,   0,   0,   0,   0,   0,   0,   0,   0,   0,   0,   0,\n",
       "          0,   0,   0,   0,   0,   0,   0,   0,   0,   0,   0,   0,   0,\n",
       "          0,   0,   0,   0,   0]], dtype=int32)"
      ]
     },
     "execution_count": 190,
     "metadata": {},
     "output_type": "execute_result"
    }
   ],
   "source": [
    "# predict a sentence\n",
    "tokenizer.fit_on_texts(production_sentences)\n",
    "prediction_sequences = tokenizer.texts_to_sequences(production_sentences)\n",
    "prediction_padded = pad_sequences(prediction_sequences, maxlen=max_input_length, padding=padding_type, truncating=trunc_type)\n",
    "prediction_padded = np.array(prediction_padded)\n",
    "prediction_padded"
   ]
  },
  {
   "cell_type": "code",
   "execution_count": 191,
   "metadata": {},
   "outputs": [
    {
     "name": "stdout",
     "output_type": "stream",
     "text": [
      "WARNING:tensorflow:6 out of the last 8 calls to <function Model.make_predict_function.<locals>.predict_function at 0x2cac7ea20> triggered tf.function retracing. Tracing is expensive and the excessive number of tracings could be due to (1) creating @tf.function repeatedly in a loop, (2) passing tensors with different shapes, (3) passing Python objects instead of tensors. For (1), please define your @tf.function outside of the loop. For (2), @tf.function has reduce_retracing=True option that can avoid unnecessary retracing. For (3), please refer to https://www.tensorflow.org/guide/function#controlling_retracing and https://www.tensorflow.org/api_docs/python/tf/function for  more details.\n",
      "1/1 [==============================] - 0s 110ms/step\n"
     ]
    }
   ],
   "source": [
    "predictions = model.predict(prediction_padded)\n",
    "predictions = [np.argmax(prediction) for prediction in predictions]"
   ]
  },
  {
   "cell_type": "code",
   "execution_count": 192,
   "metadata": {},
   "outputs": [
    {
     "data": {
      "text/plain": [
       "0.6153846153846154"
      ]
     },
     "execution_count": 192,
     "metadata": {},
     "output_type": "execute_result"
    }
   ],
   "source": [
    "calculate_matching_ratio(production_labels, predictions)"
   ]
  }
 ],
 "metadata": {
  "kernelspec": {
   "display_name": ".venv",
   "language": "python",
   "name": "python3"
  },
  "language_info": {
   "codemirror_mode": {
    "name": "ipython",
    "version": 3
   },
   "file_extension": ".py",
   "mimetype": "text/x-python",
   "name": "python",
   "nbconvert_exporter": "python",
   "pygments_lexer": "ipython3",
   "version": "3.11.2"
  },
  "orig_nbformat": 4
 },
 "nbformat": 4,
 "nbformat_minor": 2
}
