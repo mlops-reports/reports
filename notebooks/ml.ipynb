{
 "cells": [
  {
   "cell_type": "code",
   "execution_count": 493,
   "metadata": {},
   "outputs": [],
   "source": [
    "import tensorflow as tf\n",
    "# from tensorflow import keras\n",
    "import nltk\n",
    "import simplemma\n",
    "import pandas as pd\n",
    "import pathlib\n",
    "import json\n",
    "import numpy as np\n",
    "import matplotlib.pyplot as plt\n",
    "\n",
    "from tensorflow.keras.preprocessing.text import Tokenizer\n",
    "from tensorflow.keras.preprocessing.sequence import pad_sequences"
   ]
  },
  {
   "cell_type": "code",
   "execution_count": 494,
   "metadata": {},
   "outputs": [],
   "source": [
    "working_dir = pathlib.Path.cwd()\n",
    "\n",
    "vocab_size = 10000\n",
    "embedding_dim = 16\n",
    "max_input_length = 25 # default\n",
    "trunc_type='post'\n",
    "padding_type='post'\n",
    "oov_token = None # \"<OOV>\"\n",
    "training_percent = 80\n",
    "num_epochs = 100"
   ]
  },
  {
   "cell_type": "code",
   "execution_count": 495,
   "metadata": {},
   "outputs": [],
   "source": [
    "clean_annotations = pd.read_csv(working_dir.parent / \"data\" / \"output\" / \"clean_annotations.csv\")\n",
    "\n",
    "sentences = clean_annotations[\"relevant_text\"].to_list()\n",
    "production_sentences = clean_annotations[\"full_text\"].to_list()\n",
    "\n",
    "# 1. Emergency\n",
    "# 2. Normal\n",
    "# 3. Non Emergency [Doctor]\n",
    "# 4. Non Emergency [No Doctor]\n",
    "labels = clean_annotations[\"classifications\"].to_list()"
   ]
  },
  {
   "cell_type": "code",
   "execution_count": 496,
   "metadata": {},
   "outputs": [],
   "source": [
    "def find_and_replace_exact_word(input_word, replacements):\n",
    "    for key, value in replacements.items():\n",
    "        \n",
    "        if input_word == key:\n",
    "            return value\n",
    "    return input_word\n",
    "\n",
    "\n",
    "def find_longest_sentence_length(sentences):\n",
    "    longest_length = max(len(sentence.split()) for sentence in sentences)\n",
    "    return longest_length\n",
    "\n",
    "\n",
    "def plot_graphs(history, string):\n",
    "    plt.plot(history.history[string])\n",
    "    plt.plot(history.history[\"val_\" + string])\n",
    "    plt.xlabel(\"Epochs\")\n",
    "    plt.ylabel(string)\n",
    "    plt.legend([string, \"val_\" + string])\n",
    "    plt.show()\n",
    "\n",
    "\n",
    "def sentence_cleaning_pipeline(sentences):\n",
    "    \"\"\"\n",
    "    1. Remove punctuation\n",
    "    2. Only lower letters\n",
    "    3. Lemmatize\n",
    "    4. Remove stop words\n",
    "    5. Manual corrections\n",
    "    \"\"\"\n",
    "    # tokenizer without punctuation\n",
    "    regexp_tokenizer = nltk.tokenize.RegexpTokenizer(r\"\\w+\")\n",
    "\n",
    "    # get Turkish stopwords\n",
    "    nltk.download(\"stopwords\")\n",
    "    turkish_stopwords = nltk.corpus.stopwords.words(\"turkish\")\n",
    "\n",
    "    # word corrections\n",
    "    with open(\n",
    "        working_dir.parent / \"data\" / \"input\" / \"word_corrections.json\", \"r\"\n",
    "    ) as file:\n",
    "        word_corrections = json.load(file)\n",
    "\n",
    "    return [\n",
    "        \" \".join(\n",
    "            find_and_replace_exact_word(\n",
    "                simplemma.lemmatize(word, lang=\"tr\").lower(),\n",
    "                word_corrections,\n",
    "            )\n",
    "            for word in regexp_tokenizer.tokenize(sentence)\n",
    "            if word not in turkish_stopwords\n",
    "        )\n",
    "        for sentence in sentences\n",
    "    ]\n",
    "\n",
    "\n",
    "def calculate_matching_ratio(list1, list2):\n",
    "    if len(list1) != len(list2):\n",
    "        return \"Lists are not of the same length\"\n",
    "    matches = sum(i == j for i, j in zip(list1, list2))\n",
    "    return matches / len(list1)"
   ]
  },
  {
   "cell_type": "code",
   "execution_count": 497,
   "metadata": {},
   "outputs": [
    {
     "data": {
      "text/plain": [
       "['Kontrastsız Beyin BT Kafa kaidesi ve kalvarial kemik yapılar normal sınırlardadır. 4.ventrikül ve bazal sisternalar normal genişliktedir. Posterior fossa oluşumları olağandır. İntrakranial hipo veya hiperdens sınırlanabilen patoloji saptanmadı. 3.ventrikül orta hatta ve normal genişliktedir. Lateral ventriküller olağandır. Beyin orta hat yapılarında yer değiştirme saptanmamıştır. Serebral sulkuslar olağandır. Nazal septum sola deviye görünümdedir ve BTye yansıyan tipik bir akut iskemi bulgusu mevcut değildir.  Ancak bu konuda klinik kuşku varsa olgunun diffüzyon MRG ile değerlendirilmesi ve detaylandırılması daha yararlı olacaktır. ',\n",
       " 'Sol serebellar hemisferde sekel ??? ensefalomalazi sahaları ve eski iskemi sekeli değişiklikler izlenmektedir. Sağ serebellar hemisfer düzeyinde de benzer bulgular izlenmekle birlikte her iki serebellumda atrofi bulguları ve folyolarda belirginleşme mevcuttur. Supratentorial kesitlerin değerlendirilmesinde 3. ve lateral ventrikul, konveksite sulkusları atrofiye sekonder belirginleşmiştir. Sağda posterior serebral arter sulama sahasında kronik iskemik sekel gliozis sahalarının varlığı mevcuttur. Periventrikuler lökoriazis alanları izlenmektedir. ',\n",
       " ' Periventriküler derin beyaz cevherde kronik iskemik gliozise bağlı dansite kaybı izlenmektedir. Bazal sisterna ve serebral konvekste sulkuslarının genişliği atrofi ile uyumlu artmıştır. Sağ oksipital lobda kronik infarkt sekeli ensefalomalazi- gliozis ile uyumlu hipodens alan mevcuttur. Sağ kapsüle interna ön bölümünde de kronik infarkta ait hipodens alan izlenmiştir. Her iki lateral ventrikül genişliği atrofi zemininde hafif artmış görünümdedir. ',\n",
       " 'Sağda orbita tavanınd frontal sinüs tabanında çökme gösteren fraktür hatları izlenmiştir. Sağ orbita medial duvarında da fraktür hatları izlenmektedir. Sağ orbita tabanında maksiller sinüs üst duvarında yine çökme gösteren fraktür hattı mevcut olup orbital yağ dokunun bu düzeyden maksiller sinüse doğru uzanımı saptanmıştır. Sağ maksiller sinüs içerisinde kanama ile uyumlu yüksek dansiteli görünümlerde izlenmiştir. ',\n",
       " 'Sağ orbita üst duvarında fraktüre ait görünüm izlenmekte olup medial kesimde frontal sinüs duvarına uzanmaktadır,fraktüre komşu dural planlarda milimetrik hava değerleri mevcuttur.Sağ frontal sinüs inferior kesiminde anterior duvarda da fraktür hattı izlenmiştir.Sağ frontal bölgede ve periorbital alanda cilt altı yumuşak dokuda ödem- hematom ile uyumlu dansite ve kalınlık artışı ile hava değerleri mevcuttur. ']"
      ]
     },
     "execution_count": 497,
     "metadata": {},
     "output_type": "execute_result"
    }
   ],
   "source": [
    "sentences[:5]"
   ]
  },
  {
   "cell_type": "code",
   "execution_count": 498,
   "metadata": {},
   "outputs": [
    {
     "name": "stderr",
     "output_type": "stream",
     "text": [
      "[nltk_data] Downloading package stopwords to\n",
      "[nltk_data]     /Users/gokasci/nltk_data...\n",
      "[nltk_data]   Package stopwords is already up-to-date!\n"
     ]
    }
   ],
   "source": [
    "clean_sentences = sentence_cleaning_pipeline(sentences)\n",
    "max_input_length = find_longest_sentence_length(clean_sentences)"
   ]
  },
  {
   "cell_type": "code",
   "execution_count": 499,
   "metadata": {},
   "outputs": [
    {
     "data": {
      "text/plain": [
       "['kontrast beyin bt kafa kaide kalvarial kemik yapı normal sınır 4 ventrikül bazal sisternalar normal genişlik poster fos oluşum olağan i̇ntrakranial hipo hiperdens sınırlanabi patoloji sapta 3 ventrikül orta hatta normal genişlik lateral ventrikül olağan beyin orta hat yapı yer değiş sapta serebral sulkus olağan nazal septum sol deviye görünüm btye yansı tipik bir akut iskemi bulgu mevcut değil ancak konu klinik kuşku var olgu diffüzyon mrg değer detaylandırılması yarar ol',\n",
       " 'sol serebellar hemisfer sekel ensefalomalazi saha eski iskemi sekel değişik izle sağ serebellar hemisfer düzey benzer bulgu izle birlikte iki serebellumda atrofi bulgu folyo belirgin mevcut supratentorial kesit değerlendirilmesin 3 lateral ventrikul konveksit sulkus atrofiye sekonder belirgin sağ poster serebral arter sula saha kronik iskemik sekel gliozis saha varlık mevcut periventrikuler lökoriazis alan izle',\n",
       " 'periventriküler derin beyaz cevher kronik iskemik gliozise bağ dansite kayıp izle bazal sisterna serebral konveks sulkuslar genişlik atrofi uyum art sağ oksipital lobda kronik infarkt sekel ensefalomalazi gliozis uyum hipodens al mevcut sağ kapsül interna ön bölüm kronik infarkta ait hipodens al izle her iki lateral ventrikül genişlik atrofi zemin hafif art görünüm',\n",
       " 'sağ orbita tavan frontal sinüs taban çök göster fraktür hat izle sağ orbita medial duvar fraktür hat izle sağ orbita taban maksil sinüs üst duvar yine çök göster fraktür hat mevcut ol orbital yağ doku düzey maksil sinüs doğru uzanım sapta sağ maksil sinüs içeri kana uyum yüksek dansit görünüm izle',\n",
       " 'sağ orbita üst duvar fraktüre ait görünüm izle ol medial kesim frontal sinüs duvar uza fraktüre komşu dural plan milimetrik hava değer mevcut sağ frontal sinüs inferior kesim anterior duvar fraktür hat izle sağ frontal bölge periorbital alan cilt altı yumuşak doku ödem hematom uyum dansite kalınlık art hava değer mevcut']"
      ]
     },
     "execution_count": 499,
     "metadata": {},
     "output_type": "execute_result"
    }
   ],
   "source": [
    "# show clean sentences\n",
    "clean_sentences[:5]"
   ]
  },
  {
   "cell_type": "code",
   "execution_count": 500,
   "metadata": {},
   "outputs": [
    {
     "data": {
      "text/plain": [
       "[1, 3, 3, 0, 0]"
      ]
     },
     "execution_count": 500,
     "metadata": {},
     "output_type": "execute_result"
    }
   ],
   "source": [
    "labels[:5]"
   ]
  },
  {
   "cell_type": "code",
   "execution_count": 501,
   "metadata": {},
   "outputs": [],
   "source": [
    "# save json files\n",
    "with open(working_dir.parent / \"data\" / \"output\" / \"lemma_correction.json\", \"w\", encoding=\"utf-8\") as json_file:\n",
    "    data = {\n",
    "        str(index): {\"no_lemma\": sentence, \"lemma\": clean_sentence}\n",
    "        for index, (sentence, clean_sentence) in enumerate(\n",
    "            zip(sentences, clean_sentences)\n",
    "        )\n",
    "    }\n",
    "    json_file.write(json.dumps(data, indent=4, ensure_ascii=False))"
   ]
  },
  {
   "cell_type": "code",
   "execution_count": 502,
   "metadata": {},
   "outputs": [],
   "source": [
    "# manuall test the word lemmatizer\n",
    "# word = \"hemisferde\"\n",
    "# simplemma.lemmatize(word, lang=\"tr\").lower()"
   ]
  },
  {
   "cell_type": "code",
   "execution_count": 503,
   "metadata": {},
   "outputs": [],
   "source": [
    "training_size = int(len(clean_sentences) * training_percent / 100)\n",
    "training_sentences = clean_sentences[0:training_size]\n",
    "testing_sentences = clean_sentences[training_size:]\n",
    "training_labels = labels[0:training_size]\n",
    "testing_labels = labels[training_size:]"
   ]
  },
  {
   "cell_type": "code",
   "execution_count": 504,
   "metadata": {},
   "outputs": [],
   "source": [
    "tokenizer = Tokenizer(num_words=vocab_size, oov_token=oov_token)\n",
    "tokenizer.fit_on_texts(training_sentences)\n",
    "\n",
    "training_sequences = tokenizer.texts_to_sequences(training_sentences)\n",
    "training_padded = pad_sequences(training_sequences, maxlen=max_input_length, padding=padding_type, truncating=trunc_type)\n",
    "testing_sequences = tokenizer.texts_to_sequences(testing_sentences)\n",
    "testing_padded = pad_sequences(testing_sequences, maxlen=max_input_length, padding=padding_type, truncating=trunc_type)\n",
    "\n",
    "training_padded = np.array(training_padded)\n",
    "training_labels = np.array(training_labels)\n",
    "testing_padded = np.array(testing_padded)\n",
    "testing_labels = np.array(testing_labels)"
   ]
  },
  {
   "cell_type": "code",
   "execution_count": 505,
   "metadata": {},
   "outputs": [],
   "source": [
    "model = tf.keras.Sequential(\n",
    "    [\n",
    "        tf.keras.layers.Embedding(\n",
    "            vocab_size, embedding_dim, input_length=max_input_length\n",
    "        ),\n",
    "        tf.keras.layers.GlobalAveragePooling1D(),\n",
    "        tf.keras.layers.Dense(64, activation=\"relu\"),\n",
    "        tf.keras.layers.Dense(64, activation=\"relu\"),\n",
    "        tf.keras.layers.Dense(64, activation=\"relu\"),\n",
    "        tf.keras.layers.Dense(64, activation=\"relu\"),\n",
    "        tf.keras.layers.Dense(64, activation=\"relu\"),\n",
    "        tf.keras.layers.Dense(64, activation=\"relu\"),\n",
    "        tf.keras.layers.Dense(32, activation=\"relu\"),\n",
    "        tf.keras.layers.Dense(4, activation=\"softmax\"),\n",
    "    ]\n",
    ")\n",
    "model.compile(\n",
    "    loss=\"sparse_categorical_crossentropy\", optimizer=\"adam\", metrics=[\"accuracy\"]\n",
    ")"
   ]
  },
  {
   "cell_type": "code",
   "execution_count": 506,
   "metadata": {},
   "outputs": [
    {
     "name": "stdout",
     "output_type": "stream",
     "text": [
      "Model: \"sequential_22\"\n",
      "_________________________________________________________________\n",
      " Layer (type)                Output Shape              Param #   \n",
      "=================================================================\n",
      " embedding_22 (Embedding)    (None, 71, 16)            160000    \n",
      "                                                                 \n",
      " global_average_pooling1d_2  (None, 16)                0         \n",
      " 2 (GlobalAveragePooling1D)                                      \n",
      "                                                                 \n",
      " dense_157 (Dense)           (None, 64)                1088      \n",
      "                                                                 \n",
      " dense_158 (Dense)           (None, 64)                4160      \n",
      "                                                                 \n",
      " dense_159 (Dense)           (None, 64)                4160      \n",
      "                                                                 \n",
      " dense_160 (Dense)           (None, 64)                4160      \n",
      "                                                                 \n",
      " dense_161 (Dense)           (None, 64)                4160      \n",
      "                                                                 \n",
      " dense_162 (Dense)           (None, 64)                4160      \n",
      "                                                                 \n",
      " dense_163 (Dense)           (None, 32)                2080      \n",
      "                                                                 \n",
      " dense_164 (Dense)           (None, 4)                 132       \n",
      "                                                                 \n",
      "=================================================================\n",
      "Total params: 184100 (719.14 KB)\n",
      "Trainable params: 184100 (719.14 KB)\n",
      "Non-trainable params: 0 (0.00 Byte)\n",
      "_________________________________________________________________\n"
     ]
    }
   ],
   "source": [
    "model.summary()\n"
   ]
  },
  {
   "cell_type": "code",
   "execution_count": 507,
   "metadata": {},
   "outputs": [
    {
     "name": "stdout",
     "output_type": "stream",
     "text": [
      "Epoch 1/100\n"
     ]
    },
    {
     "name": "stdout",
     "output_type": "stream",
     "text": [
      "6/6 - 1s - loss: 1.3832 - accuracy: 0.3571 - val_loss: 1.3843 - val_accuracy: 0.0000e+00 - 663ms/epoch - 111ms/step\n",
      "Epoch 2/100\n",
      "6/6 - 0s - loss: 1.3711 - accuracy: 0.3571 - val_loss: 1.3789 - val_accuracy: 0.0000e+00 - 29ms/epoch - 5ms/step\n",
      "Epoch 3/100\n",
      "6/6 - 0s - loss: 1.3514 - accuracy: 0.3571 - val_loss: 1.3762 - val_accuracy: 0.0000e+00 - 29ms/epoch - 5ms/step\n",
      "Epoch 4/100\n",
      "6/6 - 0s - loss: 1.3271 - accuracy: 0.3571 - val_loss: 1.3719 - val_accuracy: 0.0000e+00 - 30ms/epoch - 5ms/step\n",
      "Epoch 5/100\n",
      "6/6 - 0s - loss: 1.2745 - accuracy: 0.3571 - val_loss: 1.3771 - val_accuracy: 0.0000e+00 - 28ms/epoch - 5ms/step\n",
      "Epoch 6/100\n",
      "6/6 - 0s - loss: 1.2054 - accuracy: 0.3571 - val_loss: 1.3818 - val_accuracy: 0.0000e+00 - 27ms/epoch - 4ms/step\n",
      "Epoch 7/100\n",
      "6/6 - 0s - loss: 1.1275 - accuracy: 0.4048 - val_loss: 1.3500 - val_accuracy: 0.6364 - 27ms/epoch - 4ms/step\n",
      "Epoch 8/100\n",
      "6/6 - 0s - loss: 1.0170 - accuracy: 0.7619 - val_loss: 1.3018 - val_accuracy: 0.6364 - 26ms/epoch - 4ms/step\n",
      "Epoch 9/100\n",
      "6/6 - 0s - loss: 0.8736 - accuracy: 0.7619 - val_loss: 1.2169 - val_accuracy: 0.6364 - 27ms/epoch - 5ms/step\n",
      "Epoch 10/100\n",
      "6/6 - 0s - loss: 0.7532 - accuracy: 0.7619 - val_loss: 1.1060 - val_accuracy: 0.6364 - 29ms/epoch - 5ms/step\n",
      "Epoch 11/100\n",
      "6/6 - 0s - loss: 0.6862 - accuracy: 0.7619 - val_loss: 1.0200 - val_accuracy: 0.6364 - 32ms/epoch - 5ms/step\n",
      "Epoch 12/100\n",
      "6/6 - 0s - loss: 0.6254 - accuracy: 0.7619 - val_loss: 0.9868 - val_accuracy: 0.6364 - 28ms/epoch - 5ms/step\n",
      "Epoch 13/100\n",
      "6/6 - 0s - loss: 0.5914 - accuracy: 0.7619 - val_loss: 1.0199 - val_accuracy: 0.6364 - 28ms/epoch - 5ms/step\n",
      "Epoch 14/100\n",
      "6/6 - 0s - loss: 0.5473 - accuracy: 0.7619 - val_loss: 1.0206 - val_accuracy: 0.6364 - 30ms/epoch - 5ms/step\n",
      "Epoch 15/100\n",
      "6/6 - 0s - loss: 0.4975 - accuracy: 0.7619 - val_loss: 1.0089 - val_accuracy: 0.6364 - 29ms/epoch - 5ms/step\n",
      "Epoch 16/100\n",
      "6/6 - 0s - loss: 0.4533 - accuracy: 0.7619 - val_loss: 0.9893 - val_accuracy: 0.6364 - 29ms/epoch - 5ms/step\n",
      "Epoch 17/100\n",
      "6/6 - 0s - loss: 0.4532 - accuracy: 0.7619 - val_loss: 0.9658 - val_accuracy: 0.6364 - 31ms/epoch - 5ms/step\n",
      "Epoch 18/100\n",
      "6/6 - 0s - loss: 0.3900 - accuracy: 0.7619 - val_loss: 0.9436 - val_accuracy: 0.6364 - 34ms/epoch - 6ms/step\n",
      "Epoch 19/100\n",
      "6/6 - 0s - loss: 0.3638 - accuracy: 0.7619 - val_loss: 0.9045 - val_accuracy: 0.6364 - 30ms/epoch - 5ms/step\n",
      "Epoch 20/100\n",
      "6/6 - 0s - loss: 0.3339 - accuracy: 0.8810 - val_loss: 0.8886 - val_accuracy: 0.6364 - 27ms/epoch - 5ms/step\n",
      "Epoch 21/100\n",
      "6/6 - 0s - loss: 0.3057 - accuracy: 0.9048 - val_loss: 0.8720 - val_accuracy: 0.6364 - 28ms/epoch - 5ms/step\n",
      "Epoch 22/100\n",
      "6/6 - 0s - loss: 0.2677 - accuracy: 0.9048 - val_loss: 0.8697 - val_accuracy: 0.6364 - 28ms/epoch - 5ms/step\n",
      "Epoch 23/100\n",
      "6/6 - 0s - loss: 0.2477 - accuracy: 0.9048 - val_loss: 0.8328 - val_accuracy: 0.6364 - 27ms/epoch - 4ms/step\n",
      "Epoch 24/100\n",
      "6/6 - 0s - loss: 0.2089 - accuracy: 0.9048 - val_loss: 0.7862 - val_accuracy: 0.6364 - 28ms/epoch - 5ms/step\n",
      "Epoch 25/100\n",
      "6/6 - 0s - loss: 0.1806 - accuracy: 0.9524 - val_loss: 0.7255 - val_accuracy: 0.6364 - 29ms/epoch - 5ms/step\n",
      "Epoch 26/100\n",
      "6/6 - 0s - loss: 0.1621 - accuracy: 0.9762 - val_loss: 0.7566 - val_accuracy: 0.5455 - 32ms/epoch - 5ms/step\n",
      "Epoch 27/100\n",
      "6/6 - 0s - loss: 0.1411 - accuracy: 0.9524 - val_loss: 0.8761 - val_accuracy: 0.6364 - 36ms/epoch - 6ms/step\n",
      "Epoch 28/100\n",
      "6/6 - 0s - loss: 0.1111 - accuracy: 0.9762 - val_loss: 0.7502 - val_accuracy: 0.5455 - 37ms/epoch - 6ms/step\n",
      "Epoch 29/100\n",
      "6/6 - 0s - loss: 0.0700 - accuracy: 1.0000 - val_loss: 0.9944 - val_accuracy: 0.6364 - 36ms/epoch - 6ms/step\n",
      "Epoch 30/100\n",
      "6/6 - 0s - loss: 0.0561 - accuracy: 1.0000 - val_loss: 1.0954 - val_accuracy: 0.4545 - 36ms/epoch - 6ms/step\n",
      "Epoch 31/100\n",
      "6/6 - 0s - loss: 0.0341 - accuracy: 1.0000 - val_loss: 1.4477 - val_accuracy: 0.4545 - 36ms/epoch - 6ms/step\n",
      "Epoch 32/100\n",
      "6/6 - 0s - loss: 0.0319 - accuracy: 1.0000 - val_loss: 0.9776 - val_accuracy: 0.4545 - 39ms/epoch - 6ms/step\n",
      "Epoch 33/100\n",
      "6/6 - 0s - loss: 0.0342 - accuracy: 0.9762 - val_loss: 3.0385 - val_accuracy: 0.4545 - 41ms/epoch - 7ms/step\n",
      "Epoch 34/100\n",
      "6/6 - 0s - loss: 0.1471 - accuracy: 0.9048 - val_loss: 1.1403 - val_accuracy: 0.4545 - 35ms/epoch - 6ms/step\n",
      "Epoch 35/100\n",
      "6/6 - 0s - loss: 0.0847 - accuracy: 0.9762 - val_loss: 3.0410 - val_accuracy: 0.4545 - 30ms/epoch - 5ms/step\n",
      "Epoch 36/100\n",
      "6/6 - 0s - loss: 0.1689 - accuracy: 0.9048 - val_loss: 1.8144 - val_accuracy: 0.5455 - 29ms/epoch - 5ms/step\n",
      "Epoch 37/100\n",
      "6/6 - 0s - loss: 0.2869 - accuracy: 0.9286 - val_loss: 2.3492 - val_accuracy: 0.4545 - 28ms/epoch - 5ms/step\n",
      "Epoch 38/100\n",
      "6/6 - 0s - loss: 0.1239 - accuracy: 0.9524 - val_loss: 1.4777 - val_accuracy: 0.5455 - 27ms/epoch - 5ms/step\n",
      "Epoch 39/100\n",
      "6/6 - 0s - loss: 0.1151 - accuracy: 0.9524 - val_loss: 1.8407 - val_accuracy: 0.4545 - 28ms/epoch - 5ms/step\n",
      "Epoch 40/100\n",
      "6/6 - 0s - loss: 0.0893 - accuracy: 0.9762 - val_loss: 2.0221 - val_accuracy: 0.4545 - 31ms/epoch - 5ms/step\n",
      "Epoch 41/100\n",
      "6/6 - 0s - loss: 0.0118 - accuracy: 1.0000 - val_loss: 1.7284 - val_accuracy: 0.5455 - 81ms/epoch - 13ms/step\n",
      "Epoch 42/100\n",
      "6/6 - 0s - loss: 0.0133 - accuracy: 1.0000 - val_loss: 1.4643 - val_accuracy: 0.5455 - 31ms/epoch - 5ms/step\n",
      "Epoch 43/100\n",
      "6/6 - 0s - loss: 0.0153 - accuracy: 1.0000 - val_loss: 1.4443 - val_accuracy: 0.5455 - 53ms/epoch - 9ms/step\n",
      "Epoch 44/100\n",
      "6/6 - 0s - loss: 0.0080 - accuracy: 1.0000 - val_loss: 1.6069 - val_accuracy: 0.4545 - 45ms/epoch - 7ms/step\n",
      "Epoch 45/100\n",
      "6/6 - 0s - loss: 0.0058 - accuracy: 1.0000 - val_loss: 1.6368 - val_accuracy: 0.4545 - 46ms/epoch - 8ms/step\n",
      "Epoch 46/100\n",
      "6/6 - 0s - loss: 0.0047 - accuracy: 1.0000 - val_loss: 1.5962 - val_accuracy: 0.5455 - 39ms/epoch - 7ms/step\n",
      "Epoch 47/100\n",
      "6/6 - 0s - loss: 0.0039 - accuracy: 1.0000 - val_loss: 1.5571 - val_accuracy: 0.5455 - 29ms/epoch - 5ms/step\n",
      "Epoch 48/100\n",
      "6/6 - 0s - loss: 0.0033 - accuracy: 1.0000 - val_loss: 1.5293 - val_accuracy: 0.5455 - 32ms/epoch - 5ms/step\n",
      "Epoch 49/100\n",
      "6/6 - 0s - loss: 0.0030 - accuracy: 1.0000 - val_loss: 1.5268 - val_accuracy: 0.5455 - 38ms/epoch - 6ms/step\n",
      "Epoch 50/100\n",
      "6/6 - 0s - loss: 0.0026 - accuracy: 1.0000 - val_loss: 1.5313 - val_accuracy: 0.5455 - 45ms/epoch - 8ms/step\n",
      "Epoch 51/100\n",
      "6/6 - 0s - loss: 0.0024 - accuracy: 1.0000 - val_loss: 1.5756 - val_accuracy: 0.5455 - 42ms/epoch - 7ms/step\n",
      "Epoch 52/100\n",
      "6/6 - 0s - loss: 0.0022 - accuracy: 1.0000 - val_loss: 1.5959 - val_accuracy: 0.5455 - 40ms/epoch - 7ms/step\n",
      "Epoch 53/100\n",
      "6/6 - 0s - loss: 0.0020 - accuracy: 1.0000 - val_loss: 1.5995 - val_accuracy: 0.5455 - 41ms/epoch - 7ms/step\n",
      "Epoch 54/100\n",
      "6/6 - 0s - loss: 0.0019 - accuracy: 1.0000 - val_loss: 1.5780 - val_accuracy: 0.5455 - 46ms/epoch - 8ms/step\n",
      "Epoch 55/100\n",
      "6/6 - 0s - loss: 0.0017 - accuracy: 1.0000 - val_loss: 1.5805 - val_accuracy: 0.5455 - 37ms/epoch - 6ms/step\n",
      "Epoch 56/100\n",
      "6/6 - 0s - loss: 0.0016 - accuracy: 1.0000 - val_loss: 1.5970 - val_accuracy: 0.5455 - 36ms/epoch - 6ms/step\n",
      "Epoch 57/100\n",
      "6/6 - 0s - loss: 0.0015 - accuracy: 1.0000 - val_loss: 1.6132 - val_accuracy: 0.5455 - 42ms/epoch - 7ms/step\n",
      "Epoch 58/100\n",
      "6/6 - 0s - loss: 0.0014 - accuracy: 1.0000 - val_loss: 1.6387 - val_accuracy: 0.5455 - 43ms/epoch - 7ms/step\n",
      "Epoch 59/100\n",
      "6/6 - 0s - loss: 0.0013 - accuracy: 1.0000 - val_loss: 1.6490 - val_accuracy: 0.5455 - 44ms/epoch - 7ms/step\n",
      "Epoch 60/100\n",
      "6/6 - 0s - loss: 0.0012 - accuracy: 1.0000 - val_loss: 1.6614 - val_accuracy: 0.5455 - 43ms/epoch - 7ms/step\n",
      "Epoch 61/100\n",
      "6/6 - 0s - loss: 0.0012 - accuracy: 1.0000 - val_loss: 1.6669 - val_accuracy: 0.5455 - 34ms/epoch - 6ms/step\n",
      "Epoch 62/100\n",
      "6/6 - 0s - loss: 0.0011 - accuracy: 1.0000 - val_loss: 1.6611 - val_accuracy: 0.5455 - 33ms/epoch - 5ms/step\n",
      "Epoch 63/100\n",
      "6/6 - 0s - loss: 0.0011 - accuracy: 1.0000 - val_loss: 1.6590 - val_accuracy: 0.5455 - 32ms/epoch - 5ms/step\n",
      "Epoch 64/100\n",
      "6/6 - 0s - loss: 0.0010 - accuracy: 1.0000 - val_loss: 1.6674 - val_accuracy: 0.5455 - 32ms/epoch - 5ms/step\n",
      "Epoch 65/100\n",
      "6/6 - 0s - loss: 9.5714e-04 - accuracy: 1.0000 - val_loss: 1.6771 - val_accuracy: 0.5455 - 33ms/epoch - 6ms/step\n",
      "Epoch 66/100\n",
      "6/6 - 0s - loss: 9.1541e-04 - accuracy: 1.0000 - val_loss: 1.6877 - val_accuracy: 0.5455 - 32ms/epoch - 5ms/step\n",
      "Epoch 67/100\n",
      "6/6 - 0s - loss: 8.7663e-04 - accuracy: 1.0000 - val_loss: 1.7063 - val_accuracy: 0.5455 - 33ms/epoch - 5ms/step\n",
      "Epoch 68/100\n",
      "6/6 - 0s - loss: 8.3775e-04 - accuracy: 1.0000 - val_loss: 1.7199 - val_accuracy: 0.5455 - 30ms/epoch - 5ms/step\n",
      "Epoch 69/100\n",
      "6/6 - 0s - loss: 7.9564e-04 - accuracy: 1.0000 - val_loss: 1.7160 - val_accuracy: 0.5455 - 29ms/epoch - 5ms/step\n",
      "Epoch 70/100\n",
      "6/6 - 0s - loss: 7.6911e-04 - accuracy: 1.0000 - val_loss: 1.7085 - val_accuracy: 0.5455 - 29ms/epoch - 5ms/step\n",
      "Epoch 71/100\n",
      "6/6 - 0s - loss: 7.3868e-04 - accuracy: 1.0000 - val_loss: 1.7251 - val_accuracy: 0.5455 - 29ms/epoch - 5ms/step\n",
      "Epoch 72/100\n",
      "6/6 - 0s - loss: 7.1016e-04 - accuracy: 1.0000 - val_loss: 1.7474 - val_accuracy: 0.5455 - 30ms/epoch - 5ms/step\n",
      "Epoch 73/100\n",
      "6/6 - 0s - loss: 6.7919e-04 - accuracy: 1.0000 - val_loss: 1.7551 - val_accuracy: 0.5455 - 32ms/epoch - 5ms/step\n",
      "Epoch 74/100\n",
      "6/6 - 0s - loss: 6.5269e-04 - accuracy: 1.0000 - val_loss: 1.7481 - val_accuracy: 0.5455 - 54ms/epoch - 9ms/step\n",
      "Epoch 75/100\n",
      "6/6 - 0s - loss: 6.3010e-04 - accuracy: 1.0000 - val_loss: 1.7567 - val_accuracy: 0.5455 - 47ms/epoch - 8ms/step\n",
      "Epoch 76/100\n",
      "6/6 - 0s - loss: 6.0587e-04 - accuracy: 1.0000 - val_loss: 1.7624 - val_accuracy: 0.5455 - 29ms/epoch - 5ms/step\n",
      "Epoch 77/100\n",
      "6/6 - 0s - loss: 5.8725e-04 - accuracy: 1.0000 - val_loss: 1.7748 - val_accuracy: 0.5455 - 31ms/epoch - 5ms/step\n",
      "Epoch 78/100\n",
      "6/6 - 0s - loss: 5.6545e-04 - accuracy: 1.0000 - val_loss: 1.7857 - val_accuracy: 0.5455 - 30ms/epoch - 5ms/step\n",
      "Epoch 79/100\n",
      "6/6 - 0s - loss: 5.4593e-04 - accuracy: 1.0000 - val_loss: 1.7872 - val_accuracy: 0.5455 - 31ms/epoch - 5ms/step\n",
      "Epoch 80/100\n",
      "6/6 - 0s - loss: 5.2619e-04 - accuracy: 1.0000 - val_loss: 1.7944 - val_accuracy: 0.5455 - 31ms/epoch - 5ms/step\n",
      "Epoch 81/100\n",
      "6/6 - 0s - loss: 5.0991e-04 - accuracy: 1.0000 - val_loss: 1.8086 - val_accuracy: 0.5455 - 36ms/epoch - 6ms/step\n",
      "Epoch 82/100\n",
      "6/6 - 0s - loss: 4.9173e-04 - accuracy: 1.0000 - val_loss: 1.8122 - val_accuracy: 0.5455 - 33ms/epoch - 6ms/step\n",
      "Epoch 83/100\n",
      "6/6 - 0s - loss: 4.7676e-04 - accuracy: 1.0000 - val_loss: 1.8304 - val_accuracy: 0.5455 - 32ms/epoch - 5ms/step\n",
      "Epoch 84/100\n",
      "6/6 - 0s - loss: 4.5757e-04 - accuracy: 1.0000 - val_loss: 1.8376 - val_accuracy: 0.5455 - 31ms/epoch - 5ms/step\n",
      "Epoch 85/100\n",
      "6/6 - 0s - loss: 4.4644e-04 - accuracy: 1.0000 - val_loss: 1.8445 - val_accuracy: 0.5455 - 30ms/epoch - 5ms/step\n",
      "Epoch 86/100\n",
      "6/6 - 0s - loss: 4.3045e-04 - accuracy: 1.0000 - val_loss: 1.8533 - val_accuracy: 0.5455 - 30ms/epoch - 5ms/step\n",
      "Epoch 87/100\n",
      "6/6 - 0s - loss: 4.1796e-04 - accuracy: 1.0000 - val_loss: 1.8583 - val_accuracy: 0.5455 - 29ms/epoch - 5ms/step\n",
      "Epoch 88/100\n",
      "6/6 - 0s - loss: 4.0659e-04 - accuracy: 1.0000 - val_loss: 1.8563 - val_accuracy: 0.5455 - 31ms/epoch - 5ms/step\n",
      "Epoch 89/100\n",
      "6/6 - 0s - loss: 3.9532e-04 - accuracy: 1.0000 - val_loss: 1.8601 - val_accuracy: 0.5455 - 31ms/epoch - 5ms/step\n",
      "Epoch 90/100\n",
      "6/6 - 0s - loss: 3.8426e-04 - accuracy: 1.0000 - val_loss: 1.8663 - val_accuracy: 0.5455 - 29ms/epoch - 5ms/step\n",
      "Epoch 91/100\n",
      "6/6 - 0s - loss: 3.7450e-04 - accuracy: 1.0000 - val_loss: 1.8837 - val_accuracy: 0.5455 - 30ms/epoch - 5ms/step\n",
      "Epoch 92/100\n",
      "6/6 - 0s - loss: 3.6446e-04 - accuracy: 1.0000 - val_loss: 1.8971 - val_accuracy: 0.5455 - 31ms/epoch - 5ms/step\n",
      "Epoch 93/100\n",
      "6/6 - 0s - loss: 3.5300e-04 - accuracy: 1.0000 - val_loss: 1.8948 - val_accuracy: 0.5455 - 30ms/epoch - 5ms/step\n",
      "Epoch 94/100\n",
      "6/6 - 0s - loss: 3.4310e-04 - accuracy: 1.0000 - val_loss: 1.8950 - val_accuracy: 0.5455 - 31ms/epoch - 5ms/step\n",
      "Epoch 95/100\n",
      "6/6 - 0s - loss: 3.3463e-04 - accuracy: 1.0000 - val_loss: 1.9041 - val_accuracy: 0.5455 - 30ms/epoch - 5ms/step\n",
      "Epoch 96/100\n",
      "6/6 - 0s - loss: 3.2499e-04 - accuracy: 1.0000 - val_loss: 1.9115 - val_accuracy: 0.5455 - 29ms/epoch - 5ms/step\n",
      "Epoch 97/100\n",
      "6/6 - 0s - loss: 3.1866e-04 - accuracy: 1.0000 - val_loss: 1.9297 - val_accuracy: 0.5455 - 29ms/epoch - 5ms/step\n",
      "Epoch 98/100\n",
      "6/6 - 0s - loss: 3.0656e-04 - accuracy: 1.0000 - val_loss: 1.9418 - val_accuracy: 0.5455 - 30ms/epoch - 5ms/step\n",
      "Epoch 99/100\n",
      "6/6 - 0s - loss: 2.9632e-04 - accuracy: 1.0000 - val_loss: 1.9436 - val_accuracy: 0.5455 - 37ms/epoch - 6ms/step\n",
      "Epoch 100/100\n",
      "6/6 - 0s - loss: 2.8871e-04 - accuracy: 1.0000 - val_loss: 1.9525 - val_accuracy: 0.5455 - 32ms/epoch - 5ms/step\n"
     ]
    }
   ],
   "source": [
    "history = model.fit(training_padded, training_labels, epochs=num_epochs, batch_size=8, validation_data=(testing_padded, testing_labels), verbose=2)"
   ]
  },
  {
   "cell_type": "code",
   "execution_count": 508,
   "metadata": {},
   "outputs": [
    {
     "data": {
      "image/png": "[encoded data removed]",
      "text/plain": [
       "<Figure size 640x480 with 1 Axes>"
      ]
     },
     "metadata": {},
     "output_type": "display_data"
    },
    {
     "data": {
      "image/png": "[encoded data removed]",
      "text/plain": [
       "<Figure size 640x480 with 1 Axes>"
      ]
     },
     "metadata": {},
     "output_type": "display_data"
    }
   ],
   "source": [
    "plot_graphs(history, \"accuracy\")\n",
    "plot_graphs(history, \"loss\")"
   ]
  },
  {
   "cell_type": "code",
   "execution_count": 509,
   "metadata": {},
   "outputs": [
    {
     "data": {
      "text/plain": [
       "['Kontrastsız Beyin BT  Kafa kaidesi ve kalvarial kemik yapılar normal sınırlardadır.  4.ventrikül ve bazal sisternalar normal genişliktedir. Posterior fossa oluşumları olağandır.  İntrakranial hipo veya hiperdens sınırlanabilen patoloji saptanmadı.  3.ventrikül orta hatta ve normal genişliktedir. Lateral ventriküller olağandır. Beyin orta hat yapılarında yer değiştirme saptanmamıştır.  Serebral sulkuslar olağandır.  Nazal septum sola deviye görünümdedir ve BTye yansıyan tipik bir akut iskemi bulgusu mevcut değildir. Ancak bu konuda klinik kuşku varsa olgunun diffüzyon MRG ile değerlendirilmesi ve detaylandırılması daha yararlı olacaktır. Sol maksiller sinüste submukoz retansiyon kisti ve mukozal kalınlaşmalar mevcuttur.',\n",
       " 'KONTRASTSIZ BEYİN BT   İnfratentorial kesitlerde  Sol serebellar hemisferde sekel ???  ensefalomalazi sahaları ve eski iskemi sekeli değişiklikler izlenmektedir. Sağ serebellar hemisfer düzeyinde de benzer bulgular izlenmekle birlikte her iki serebellumda atrofi bulguları ve folyolarda belirginleşme mevcuttur. 4. ventrikül olağandır.  Supratentorial kesitlerin değerlendirilmesinde  3. ve lateral ventrikul, konveksite sulkusları atrofiye sekonder belirginleşmiştir.  Sağda posterior serebral arter sulama sahasında kronik iskemik sekel gliozis sahalarının varlığı mevcuttur. Periventrikuler lökoriazis alanları izlenmektedir.   Akut hemoraji ya da shift bulgusu saptanmadı.  BT tetkikine yansıyan akut hemoraji ya da shift bulgusu şuan için mevcut değildir ancak bu konuda klinik kuşku var ise olgunun diffuzyon MRG ile değerlendirilmesi daha yararlı olacaktır.  Nazal septum hafif sağa deviyedir.   Kafa kaidesi ve kalvarial kemikler olağandır.',\n",
       " 'Kontrastsız Beyin  BT tetkiki   Kafa kaidesi ve kalvarial kemik yapılar normal sınırlardadır.  4.ventrikül normal genişliktedir. Posterior fossa oluşumları olağandır.  Periventriküler derin beyaz cevherde kronik  iskemik gliozise bağlı  dansite kaybı izlenmektedir.   3.ventrikül orta hatta ve normal genişliktedir. Beyin orta hat yapılarında yer değiştirme saptanmamıştır.  Her iki lateral ventrikül  genişliği atrofi zemininde hafif artmış  görünümdedir.  Bazal sisterna  ve serebral konvekste sulkuslarının genişliği  atrofi  ile uyumlu artmıştır.  Sağ oksipital lobda kronik infarkt sekeli ensefalomalazi- gliozis ile uyumlu hipodens alan mevcuttur. Sağ kapsüle interna ön bölümünde de  kronik infarkta ait  hipodens alan izlenmiştir.']"
      ]
     },
     "execution_count": 509,
     "metadata": {},
     "output_type": "execute_result"
    }
   ],
   "source": [
    "production_sentences[:3]"
   ]
  },
  {
   "cell_type": "code",
   "execution_count": 510,
   "metadata": {},
   "outputs": [
    {
     "data": {
      "text/plain": [
       "53"
      ]
     },
     "execution_count": 510,
     "metadata": {},
     "output_type": "execute_result"
    }
   ],
   "source": [
    "len(production_sentences)"
   ]
  },
  {
   "cell_type": "code",
   "execution_count": 511,
   "metadata": {},
   "outputs": [
    {
     "data": {
      "text/plain": [
       "array([[ 64,   7,  24, ..., 228, 448, 291],\n",
       "       [217, 131,  24, ..., 155, 184, 123],\n",
       "       [ 64,   7,  24, ..., 324,  75,  98],\n",
       "       ...,\n",
       "       [  7,  24,  95, ...,   0,   0,   0],\n",
       "       [  6,  49,   1, ...,   0,   0,   0],\n",
       "       [  6,  49,   1, ...,   0,   0,   0]], dtype=int32)"
      ]
     },
     "execution_count": 511,
     "metadata": {},
     "output_type": "execute_result"
    }
   ],
   "source": [
    "# predict a sentence\n",
    "tokenizer.fit_on_texts(production_sentences)\n",
    "prediction_sequences = tokenizer.texts_to_sequences(production_sentences)\n",
    "prediction_padded = pad_sequences(prediction_sequences, maxlen=max_input_length, padding=padding_type, truncating=trunc_type)\n",
    "prediction_padded = np.array(prediction_padded)\n",
    "prediction_padded"
   ]
  },
  {
   "cell_type": "code",
   "execution_count": 512,
   "metadata": {},
   "outputs": [
    {
     "name": "stdout",
     "output_type": "stream",
     "text": [
      "2/2 [==============================] - 0s 2ms/step\n"
     ]
    }
   ],
   "source": [
    "predictions = model.predict(prediction_padded)\n",
    "predictions = [np.argmax(prediction) for prediction in predictions]"
   ]
  },
  {
   "cell_type": "code",
   "execution_count": 513,
   "metadata": {},
   "outputs": [
    {
     "data": {
      "text/plain": [
       "0.3018867924528302"
      ]
     },
     "execution_count": 513,
     "metadata": {},
     "output_type": "execute_result"
    }
   ],
   "source": [
    "calculate_matching_ratio(labels, predictions)"
   ]
  }
 ],
 "metadata": {
  "kernelspec": {
   "display_name": ".venv",
   "language": "python",
   "name": "python3"
  },
  "language_info": {
   "codemirror_mode": {
    "name": "ipython",
    "version": 3
   },
   "file_extension": ".py",
   "mimetype": "text/x-python",
   "name": "python",
   "nbconvert_exporter": "python",
   "pygments_lexer": "ipython3",
   "version": "3.11.2"
  },
  "orig_nbformat": 4
 },
 "nbformat": 4,
 "nbformat_minor": 2
}
