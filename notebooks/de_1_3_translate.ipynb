{
 "cells": [
  {
   "cell_type": "code",
   "execution_count": 1,
   "metadata": {},
   "outputs": [],
   "source": [
    "from experiment.utils import dbutils, transformation"
   ]
  },
  {
   "cell_type": "code",
   "execution_count": 2,
   "metadata": {},
   "outputs": [],
   "source": [
    "db = dbutils.DatabaseUtils()"
   ]
  },
  {
   "cell_type": "code",
   "execution_count": 3,
   "metadata": {},
   "outputs": [],
   "source": [
    "# filter\n",
    "query = \"\"\"\n",
    "            SELECT \n",
    "                * \n",
    "            FROM annotation.upload_tasks\n",
    "        \"\"\"\n",
    "\n",
    "df = db.read_sql_query(query)"
   ]
  },
  {
   "cell_type": "code",
   "execution_count": 4,
   "metadata": {},
   "outputs": [],
   "source": [
    "example_report = \"Beyin BT tetkiki  Posterior fossada beyin sapı, 4. ventrikül genişliği, serebellar hemisferler doğaldır.  Supratentorial lokalizasyonda ventriküler sistem ve eksternal subaraknoidal mesafe genişliğinin doğal olduğu izlenmiştir.  Serebral parankim alanlarında patalojik dansite saptanmamıştır.  Kemik pencerede yapılan inceleme normal sınırlardadır.\""
   ]
  },
  {
   "cell_type": "code",
   "execution_count": 5,
   "metadata": {},
   "outputs": [],
   "source": [
    "# translated_report = transformation.translate_report(example_report)\n",
    "# translated_report"
   ]
  }
 ],
 "metadata": {
  "kernelspec": {
   "display_name": ".venv",
   "language": "python",
   "name": "python3"
  },
  "language_info": {
   "codemirror_mode": {
    "name": "ipython",
    "version": 3
   },
   "file_extension": ".py",
   "mimetype": "text/x-python",
   "name": "python",
   "nbconvert_exporter": "python",
   "pygments_lexer": "ipython3",
   "version": "3.11.2"
  },
  "orig_nbformat": 4
 },
 "nbformat": 4,
 "nbformat_minor": 2
}
