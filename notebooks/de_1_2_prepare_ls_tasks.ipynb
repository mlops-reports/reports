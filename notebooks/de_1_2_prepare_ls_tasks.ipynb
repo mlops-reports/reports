{
 "cells": [
  {
   "cell_type": "code",
   "execution_count": 1,
   "metadata": {},
   "outputs": [],
   "source": [
    "import time\n",
    "import datetime\n",
    "\n",
    "from experiment.utils import dbutils, logger, transformation\n",
    "from experiment.utils.tables.upload_tasks_table import UploadTasksTable\n",
    "from experiment.api import label_studio\n",
    "\n",
    "import openai"
   ]
  },
  {
   "cell_type": "code",
   "execution_count": 2,
   "metadata": {},
   "outputs": [],
   "source": [
    "db = dbutils.DatabaseUtils()\n",
    "lg = logger.Logger(\n",
    "    logging_level=\"DEBUG\",\n",
    "    log_file=transformation.get_project_root() / \"tmp\" / \"report_prompting.log\",\n",
    ")"
   ]
  },
  {
   "cell_type": "code",
   "execution_count": 3,
   "metadata": {},
   "outputs": [],
   "source": [
    "PROMPT_N_MORE_REPORTS = 200\n",
    "PROMPT = \"Perform the following transformation on the report: Translate into English\" \n",
    "PRIORITIZE_BY = \"normal\" # \"normal\" or \"emergency\""
   ]
  },
  {
   "cell_type": "code",
   "execution_count": 4,
   "metadata": {},
   "outputs": [],
   "source": [
    "reports_raw, Base = UploadTasksTable()"
   ]
  },
  {
   "cell_type": "code",
   "execution_count": 5,
   "metadata": {},
   "outputs": [
    {
     "name": "stdout",
     "output_type": "stream",
     "text": [
      "\u001b[0m09:24:22  Running with dbt=1.6.1\n",
      "\u001b[0m09:24:22  Registered adapter: postgres=1.6.1\n",
      "\u001b[0m09:24:22  [\u001b[33mWARNING\u001b[0m]: Did not find matching node for patch with name 'annotations' in the 'models' section of file 'models/schema.yml'\n",
      "\u001b[0m09:24:22  Found 8 models, 3 sources, 0 exposures, 0 metrics, 689 macros, 0 groups, 0 semantic models\n",
      "\u001b[0m09:24:22  \n",
      "\u001b[0m09:24:24  Concurrency: 5 threads (target='prod')\n",
      "\u001b[0m09:24:24  \n",
      "\u001b[0m09:24:24  1 of 3 START sql view model annotation.stg_reports ............................. [RUN]\n",
      "\u001b[0m09:24:25  1 of 3 OK created sql view model annotation.stg_reports ........................ [\u001b[32mCREATE VIEW\u001b[0m in 0.83s]\n",
      "\u001b[0m09:24:25  2 of 3 START sql table model annotation.reports ................................ [RUN]\n",
      "\u001b[0m09:24:27  2 of 3 OK created sql table model annotation.reports ........................... [\u001b[32mSELECT 32132\u001b[0m in 1.57s]\n",
      "\u001b[0m09:24:27  3 of 3 START sql incremental model annotation.upload_tasks ..................... [RUN]\n",
      "\u001b[0m09:24:29  3 of 3 OK created sql incremental model annotation.upload_tasks ................ [\u001b[32mMERGE 25687\u001b[0m in 1.98s]\n",
      "\u001b[0m09:24:29  \n",
      "\u001b[0m09:24:29  Finished running 1 view model, 1 table model, 1 incremental model in 0 hours 0 minutes and 6.84 seconds (6.84s).\n",
      "\u001b[0m09:24:29  \n",
      "\u001b[0m09:24:29  \u001b[32mCompleted successfully\u001b[0m\n",
      "\u001b[0m09:24:29  \n",
      "\u001b[0m09:24:29  Done. PASS=3 WARN=0 ERROR=0 SKIP=0 TOTAL=3\n",
      "\u001b[0m09:24:31  Running with dbt=1.6.1\n",
      "\u001b[0m09:24:31  Registered adapter: postgres=1.6.1\n",
      "\u001b[0m09:24:32  [\u001b[33mWARNING\u001b[0m]: Did not find matching node for patch with name 'annotations' in the 'models' section of file 'models/schema.yml'\n",
      "\u001b[0m09:24:32  Found 8 models, 3 sources, 0 exposures, 0 metrics, 689 macros, 0 groups, 0 semantic models\n",
      "\u001b[0m09:24:32  \n",
      "\u001b[0m09:24:34  Concurrency: 1 threads (target='prod')\n",
      "\u001b[0m09:24:34  \n",
      "\u001b[0m09:24:34  1 of 5 START sql view model annotation.stg_task_completion ..................... [RUN]\n",
      "\u001b[0m09:24:34  1 of 5 OK created sql view model annotation.stg_task_completion ................ [\u001b[32mCREATE VIEW\u001b[0m in 0.79s]\n",
      "\u001b[0m09:24:34  2 of 5 START sql incremental model annotation.tasks ............................ [RUN]\n",
      "\u001b[0m09:24:35  2 of 5 OK created sql incremental model annotation.tasks ....................... [\u001b[32mSELECT 2545\u001b[0m in 0.85s]\n",
      "\u001b[0m09:24:35  3 of 5 START sql incremental model annotation.choices .......................... [RUN]\n",
      "\u001b[0m09:24:36  3 of 5 ERROR creating sql incremental model annotation.choices ................. [\u001b[31mERROR\u001b[0m in 0.92s]\n",
      "\u001b[0m09:24:36  4 of 5 START sql incremental model annotation.labels ........................... [RUN]\n",
      "\u001b[0m09:24:37  CANCEL query model.reports_data.labels ......................................... [\u001b[31mCANCEL\u001b[0m]\n",
      "\u001b[0m09:24:37  4 of 5 ERROR creating sql incremental model annotation.labels .................. [\u001b[31mERROR\u001b[0m in 0.91s]\n",
      "\u001b[0m09:24:37  \n",
      "\u001b[0m09:24:37  \u001b[33mDatabase Error in model choices (models/marts/choices.sql)\u001b[0m\n",
      "\u001b[0m09:24:37    syntax error at or near \".\"\n",
      "\u001b[0m09:24:37    LINE 10:         ON . TO GROUP read_write_all;\n",
      "\u001b[0m09:24:37                        ^\n",
      "\u001b[0m09:24:37    compiled Code at target/run/reports_data/models/marts/choices.sql\n",
      "\u001b[0m09:24:38  \n",
      "\u001b[0m09:24:38  Finished running 1 view model, 4 incremental models in 0 hours 0 minutes and 5.93 seconds (5.93s).\n",
      "\u001b[0m09:24:38  \n",
      "\u001b[0m09:24:38  \u001b[31mCompleted with 3 errors and 0 warnings:\u001b[0m\n",
      "\u001b[0m09:24:38  \n",
      "\u001b[0m09:24:38  \u001b[33mDatabase Error in model choices (models/marts/choices.sql)\u001b[0m\n",
      "\u001b[0m09:24:38    syntax error at or near \".\"\n",
      "\u001b[0m09:24:38    LINE 10:         ON . TO GROUP read_write_all;\n",
      "\u001b[0m09:24:38                        ^\n",
      "\u001b[0m09:24:38    compiled Code at target/run/reports_data/models/marts/choices.sql\n",
      "\u001b[0m09:24:38  \n",
      "\u001b[0m09:24:38  \u001b[33mSkipping due to fail_fast\u001b[0m\n",
      "\u001b[0m09:24:38  \n",
      "\u001b[0m09:24:38  \u001b[33mSkipping due to fail_fast\u001b[0m\n",
      "\u001b[0m09:24:38  \n",
      "\u001b[0m09:24:38  Done. PASS=2 WARN=0 ERROR=1 SKIP=2 TOTAL=5\n"
     ]
    }
   ],
   "source": [
    "# generate annotation tables\n",
    "# Base.metadata.create_all(db.engine)\n",
    "\n",
    "db.run_dbt_model('all')"
   ]
  },
  {
   "cell_type": "markdown",
   "metadata": {},
   "source": [
    "### 1) Select Reports"
   ]
  },
  {
   "cell_type": "code",
   "execution_count": 6,
   "metadata": {},
   "outputs": [],
   "source": [
    "PRIORITIZE_BY_VALUES = {\n",
    "    \"normal\": \"ASC\",\n",
    "    \"emergency\": \"DESC\"\n",
    "}"
   ]
  },
  {
   "cell_type": "code",
   "execution_count": 7,
   "metadata": {},
   "outputs": [
    {
     "data": {
      "text/html": [
       "<div>\n",
       "<style scoped>\n",
       "    .dataframe tbody tr th:only-of-type {\n",
       "        vertical-align: middle;\n",
       "    }\n",
       "\n",
       "    .dataframe tbody tr th {\n",
       "        vertical-align: top;\n",
       "    }\n",
       "\n",
       "    .dataframe thead th {\n",
       "        text-align: right;\n",
       "    }\n",
       "</style>\n",
       "<table border=\"1\" class=\"dataframe\">\n",
       "  <thead>\n",
       "    <tr style=\"text-align: right;\">\n",
       "      <th></th>\n",
       "      <th>report_id</th>\n",
       "      <th>patient_no</th>\n",
       "      <th>protocol_no</th>\n",
       "      <th>report_original</th>\n",
       "      <th>report_length</th>\n",
       "      <th>report_prompted</th>\n",
       "      <th>patient_report_count</th>\n",
       "    </tr>\n",
       "  </thead>\n",
       "  <tbody>\n",
       "    <tr>\n",
       "      <th>0</th>\n",
       "      <td>3885</td>\n",
       "      <td>2005072330</td>\n",
       "      <td>24087556</td>\n",
       "      <td>\\n.\\n.\\n..\\n\\n..\\n.\\n.\\n.\\n.\\n.\\n.\\n.\\n.\\n\\n.\\...</td>\n",
       "      <td>1</td>\n",
       "      <td>Perform the following transformation on the re...</td>\n",
       "      <td>1</td>\n",
       "    </tr>\n",
       "    <tr>\n",
       "      <th>1</th>\n",
       "      <td>10572</td>\n",
       "      <td>2008067603</td>\n",
       "      <td>21389331</td>\n",
       "      <td>görüntüler yok \\n.\\n..\\n.\\n.\\n\\n.\\n.\\n.\\n.\\n.\\...</td>\n",
       "      <td>3</td>\n",
       "      <td>There are no images.</td>\n",
       "      <td>1</td>\n",
       "    </tr>\n",
       "    <tr>\n",
       "      <th>2</th>\n",
       "      <td>18041</td>\n",
       "      <td>2008609782</td>\n",
       "      <td>24028540</td>\n",
       "      <td>SONUCU GİRİLECEKTİR......................SONUC...</td>\n",
       "      <td>3</td>\n",
       "      <td>The result will be entered.</td>\n",
       "      <td>1</td>\n",
       "    </tr>\n",
       "    <tr>\n",
       "      <th>3</th>\n",
       "      <td>14847</td>\n",
       "      <td>2008342803</td>\n",
       "      <td>24154059</td>\n",
       "      <td>DİĞER TETKİKLERİNİ OKUDUNUZ BU TETKİKLERİDE OK...</td>\n",
       "      <td>6</td>\n",
       "      <td>Did you read the other tests? Can you also rea...</td>\n",
       "      <td>1</td>\n",
       "    </tr>\n",
       "    <tr>\n",
       "      <th>4</th>\n",
       "      <td>21371</td>\n",
       "      <td>2008938063</td>\n",
       "      <td>24072123</td>\n",
       "      <td>RAPOR TARİHİ:21/05/2023   FİLM NO: \\n\\nraporla...</td>\n",
       "      <td>7</td>\n",
       "      <td>REPORT DATE: 21/05/2023   FILM NO: \\n\\nto be r...</td>\n",
       "      <td>1</td>\n",
       "    </tr>\n",
       "  </tbody>\n",
       "</table>\n",
       "</div>"
      ],
      "text/plain": [
       "   report_id  patient_no  protocol_no  \\\n",
       "0       3885  2005072330     24087556   \n",
       "1      10572  2008067603     21389331   \n",
       "2      18041  2008609782     24028540   \n",
       "3      14847  2008342803     24154059   \n",
       "4      21371  2008938063     24072123   \n",
       "\n",
       "                                     report_original  report_length  \\\n",
       "0  \\n.\\n.\\n..\\n\\n..\\n.\\n.\\n.\\n.\\n.\\n.\\n.\\n.\\n\\n.\\...              1   \n",
       "1  görüntüler yok \\n.\\n..\\n.\\n.\\n\\n.\\n.\\n.\\n.\\n.\\...              3   \n",
       "2  SONUCU GİRİLECEKTİR......................SONUC...              3   \n",
       "3  DİĞER TETKİKLERİNİ OKUDUNUZ BU TETKİKLERİDE OK...              6   \n",
       "4  RAPOR TARİHİ:21/05/2023   FİLM NO: \\n\\nraporla...              7   \n",
       "\n",
       "                                     report_prompted  patient_report_count  \n",
       "0  Perform the following transformation on the re...                     1  \n",
       "1                               There are no images.                     1  \n",
       "2                        The result will be entered.                     1  \n",
       "3  Did you read the other tests? Can you also rea...                     1  \n",
       "4  REPORT DATE: 21/05/2023   FILM NO: \\n\\nto be r...                     1  "
      ]
     },
     "execution_count": 7,
     "metadata": {},
     "output_type": "execute_result"
    }
   ],
   "source": [
    "# get reports directly from database\n",
    "query = f\"\"\"\n",
    "            SELECT * FROM annotation.upload_tasks ut \n",
    "            ORDER BY patient_report_count {PRIORITIZE_BY_VALUES[PRIORITIZE_BY]}, report_length {PRIORITIZE_BY_VALUES[PRIORITIZE_BY]} \n",
    "        \"\"\"\n",
    "\n",
    "# get values from the database\n",
    "df_reports = db.read_sql_query(query)\n",
    "df_reports.head()"
   ]
  },
  {
   "cell_type": "code",
   "execution_count": 8,
   "metadata": {},
   "outputs": [],
   "source": [
    "# get annotated reports \n",
    "query = \"\"\"\n",
    "            SELECT \n",
    "                DISTINCT data ->> 'patient_no' as patient_no\n",
    "            FROM task\n",
    "            WHERE is_labeled = TRUE\n",
    "        \"\"\"\n",
    "\n",
    "# get values from the database\n",
    "annotated_patient_nos = db.read_sql_query(query)[\"patient_no\"].to_list()"
   ]
  },
  {
   "cell_type": "code",
   "execution_count": 9,
   "metadata": {},
   "outputs": [],
   "source": [
    "# get tasks that have been prompted\n",
    "query = \"\"\"\n",
    "            SELECT \n",
    "                report_id\n",
    "            FROM annotation.upload_tasks\n",
    "            WHERE report_prompted != '' \n",
    "        \"\"\"\n",
    "\n",
    "# get values from the database\n",
    "upload_tasks_prompted = db.read_sql_query(query)[\"report_id\"].to_list()"
   ]
  },
  {
   "cell_type": "code",
   "execution_count": 10,
   "metadata": {},
   "outputs": [],
   "source": [
    "# use only non-prompted reports & non-annotated patients\n",
    "df_upload_tasks = (\n",
    "    df_reports.loc[~df_reports[\"patient_no\"].isin(annotated_patient_nos)]\n",
    "    .loc[~df_reports[\"report_id\"].isin(upload_tasks_prompted)]\n",
    "    .head(PROMPT_N_MORE_REPORTS)\n",
    ")"
   ]
  },
  {
   "cell_type": "markdown",
   "metadata": {},
   "source": [
    "### 2) Prompt Reports"
   ]
  },
  {
   "cell_type": "code",
   "execution_count": 11,
   "metadata": {},
   "outputs": [
    {
     "ename": "Timeout",
     "evalue": "Request timed out: HTTPSConnectionPool(host='api.openai.com', port=443): Read timed out. (read timeout=600)",
     "output_type": "error",
     "traceback": [
      "\u001b[0;31m---------------------------------------------------------------------------\u001b[0m",
      "\u001b[0;31mTimeoutError\u001b[0m                              Traceback (most recent call last)",
      "File \u001b[0;32m~/Desktop/reports/.venv/lib/python3.11/site-packages/urllib3/connectionpool.py:466\u001b[0m, in \u001b[0;36mHTTPConnectionPool._make_request\u001b[0;34m(self, conn, method, url, timeout, chunked, **httplib_request_kw)\u001b[0m\n\u001b[1;32m    462\u001b[0m         \u001b[39mexcept\u001b[39;00m \u001b[39mBaseException\u001b[39;00m \u001b[39mas\u001b[39;00m e:\n\u001b[1;32m    463\u001b[0m             \u001b[39m# Remove the TypeError from the exception chain in\u001b[39;00m\n\u001b[1;32m    464\u001b[0m             \u001b[39m# Python 3 (including for exceptions like SystemExit).\u001b[39;00m\n\u001b[1;32m    465\u001b[0m             \u001b[39m# Otherwise it looks like a bug in the code.\u001b[39;00m\n\u001b[0;32m--> 466\u001b[0m             six\u001b[39m.\u001b[39;49mraise_from(e, \u001b[39mNone\u001b[39;49;00m)\n\u001b[1;32m    467\u001b[0m \u001b[39mexcept\u001b[39;00m (SocketTimeout, BaseSSLError, SocketError) \u001b[39mas\u001b[39;00m e:\n",
      "File \u001b[0;32m<string>:3\u001b[0m, in \u001b[0;36mraise_from\u001b[0;34m(value, from_value)\u001b[0m\n",
      "File \u001b[0;32m~/Desktop/reports/.venv/lib/python3.11/site-packages/urllib3/connectionpool.py:461\u001b[0m, in \u001b[0;36mHTTPConnectionPool._make_request\u001b[0;34m(self, conn, method, url, timeout, chunked, **httplib_request_kw)\u001b[0m\n\u001b[1;32m    460\u001b[0m \u001b[39mtry\u001b[39;00m:\n\u001b[0;32m--> 461\u001b[0m     httplib_response \u001b[39m=\u001b[39m conn\u001b[39m.\u001b[39;49mgetresponse()\n\u001b[1;32m    462\u001b[0m \u001b[39mexcept\u001b[39;00m \u001b[39mBaseException\u001b[39;00m \u001b[39mas\u001b[39;00m e:\n\u001b[1;32m    463\u001b[0m     \u001b[39m# Remove the TypeError from the exception chain in\u001b[39;00m\n\u001b[1;32m    464\u001b[0m     \u001b[39m# Python 3 (including for exceptions like SystemExit).\u001b[39;00m\n\u001b[1;32m    465\u001b[0m     \u001b[39m# Otherwise it looks like a bug in the code.\u001b[39;00m\n",
      "File \u001b[0;32m/Library/Frameworks/Python.framework/Versions/3.11/lib/python3.11/http/client.py:1378\u001b[0m, in \u001b[0;36mHTTPConnection.getresponse\u001b[0;34m(self)\u001b[0m\n\u001b[1;32m   1377\u001b[0m \u001b[39mtry\u001b[39;00m:\n\u001b[0;32m-> 1378\u001b[0m     response\u001b[39m.\u001b[39;49mbegin()\n\u001b[1;32m   1379\u001b[0m \u001b[39mexcept\u001b[39;00m \u001b[39mConnectionError\u001b[39;00m:\n",
      "File \u001b[0;32m/Library/Frameworks/Python.framework/Versions/3.11/lib/python3.11/http/client.py:318\u001b[0m, in \u001b[0;36mHTTPResponse.begin\u001b[0;34m(self)\u001b[0m\n\u001b[1;32m    317\u001b[0m \u001b[39mwhile\u001b[39;00m \u001b[39mTrue\u001b[39;00m:\n\u001b[0;32m--> 318\u001b[0m     version, status, reason \u001b[39m=\u001b[39m \u001b[39mself\u001b[39;49m\u001b[39m.\u001b[39;49m_read_status()\n\u001b[1;32m    319\u001b[0m     \u001b[39mif\u001b[39;00m status \u001b[39m!=\u001b[39m CONTINUE:\n",
      "File \u001b[0;32m/Library/Frameworks/Python.framework/Versions/3.11/lib/python3.11/http/client.py:279\u001b[0m, in \u001b[0;36mHTTPResponse._read_status\u001b[0;34m(self)\u001b[0m\n\u001b[1;32m    278\u001b[0m \u001b[39mdef\u001b[39;00m \u001b[39m_read_status\u001b[39m(\u001b[39mself\u001b[39m):\n\u001b[0;32m--> 279\u001b[0m     line \u001b[39m=\u001b[39m \u001b[39mstr\u001b[39m(\u001b[39mself\u001b[39m\u001b[39m.\u001b[39mfp\u001b[39m.\u001b[39mreadline(_MAXLINE \u001b[39m+\u001b[39m \u001b[39m1\u001b[39m), \u001b[39m\"\u001b[39m\u001b[39miso-8859-1\u001b[39m\u001b[39m\"\u001b[39m)\n\u001b[1;32m    280\u001b[0m     \u001b[39mif\u001b[39;00m \u001b[39mlen\u001b[39m(line) \u001b[39m>\u001b[39m _MAXLINE:\n",
      "File \u001b[0;32m/Library/Frameworks/Python.framework/Versions/3.11/lib/python3.11/socket.py:706\u001b[0m, in \u001b[0;36mSocketIO.readinto\u001b[0;34m(self, b)\u001b[0m\n\u001b[1;32m    705\u001b[0m \u001b[39mtry\u001b[39;00m:\n\u001b[0;32m--> 706\u001b[0m     \u001b[39mreturn\u001b[39;00m \u001b[39mself\u001b[39;49m\u001b[39m.\u001b[39;49m_sock\u001b[39m.\u001b[39;49mrecv_into(b)\n\u001b[1;32m    707\u001b[0m \u001b[39mexcept\u001b[39;00m timeout:\n",
      "File \u001b[0;32m/Library/Frameworks/Python.framework/Versions/3.11/lib/python3.11/ssl.py:1311\u001b[0m, in \u001b[0;36mSSLSocket.recv_into\u001b[0;34m(self, buffer, nbytes, flags)\u001b[0m\n\u001b[1;32m   1308\u001b[0m         \u001b[39mraise\u001b[39;00m \u001b[39mValueError\u001b[39;00m(\n\u001b[1;32m   1309\u001b[0m           \u001b[39m\"\u001b[39m\u001b[39mnon-zero flags not allowed in calls to recv_into() on \u001b[39m\u001b[39m%s\u001b[39;00m\u001b[39m\"\u001b[39m \u001b[39m%\u001b[39m\n\u001b[1;32m   1310\u001b[0m           \u001b[39mself\u001b[39m\u001b[39m.\u001b[39m\u001b[39m__class__\u001b[39m)\n\u001b[0;32m-> 1311\u001b[0m     \u001b[39mreturn\u001b[39;00m \u001b[39mself\u001b[39;49m\u001b[39m.\u001b[39;49mread(nbytes, buffer)\n\u001b[1;32m   1312\u001b[0m \u001b[39melse\u001b[39;00m:\n",
      "File \u001b[0;32m/Library/Frameworks/Python.framework/Versions/3.11/lib/python3.11/ssl.py:1167\u001b[0m, in \u001b[0;36mSSLSocket.read\u001b[0;34m(self, len, buffer)\u001b[0m\n\u001b[1;32m   1166\u001b[0m \u001b[39mif\u001b[39;00m buffer \u001b[39mis\u001b[39;00m \u001b[39mnot\u001b[39;00m \u001b[39mNone\u001b[39;00m:\n\u001b[0;32m-> 1167\u001b[0m     \u001b[39mreturn\u001b[39;00m \u001b[39mself\u001b[39;49m\u001b[39m.\u001b[39;49m_sslobj\u001b[39m.\u001b[39;49mread(\u001b[39mlen\u001b[39;49m, buffer)\n\u001b[1;32m   1168\u001b[0m \u001b[39melse\u001b[39;00m:\n",
      "\u001b[0;31mTimeoutError\u001b[0m: The read operation timed out",
      "\nDuring handling of the above exception, another exception occurred:\n",
      "\u001b[0;31mReadTimeoutError\u001b[0m                          Traceback (most recent call last)",
      "File \u001b[0;32m~/Desktop/reports/.venv/lib/python3.11/site-packages/requests/adapters.py:486\u001b[0m, in \u001b[0;36mHTTPAdapter.send\u001b[0;34m(self, request, stream, timeout, verify, cert, proxies)\u001b[0m\n\u001b[1;32m    485\u001b[0m \u001b[39mtry\u001b[39;00m:\n\u001b[0;32m--> 486\u001b[0m     resp \u001b[39m=\u001b[39m conn\u001b[39m.\u001b[39;49murlopen(\n\u001b[1;32m    487\u001b[0m         method\u001b[39m=\u001b[39;49mrequest\u001b[39m.\u001b[39;49mmethod,\n\u001b[1;32m    488\u001b[0m         url\u001b[39m=\u001b[39;49murl,\n\u001b[1;32m    489\u001b[0m         body\u001b[39m=\u001b[39;49mrequest\u001b[39m.\u001b[39;49mbody,\n\u001b[1;32m    490\u001b[0m         headers\u001b[39m=\u001b[39;49mrequest\u001b[39m.\u001b[39;49mheaders,\n\u001b[1;32m    491\u001b[0m         redirect\u001b[39m=\u001b[39;49m\u001b[39mFalse\u001b[39;49;00m,\n\u001b[1;32m    492\u001b[0m         assert_same_host\u001b[39m=\u001b[39;49m\u001b[39mFalse\u001b[39;49;00m,\n\u001b[1;32m    493\u001b[0m         preload_content\u001b[39m=\u001b[39;49m\u001b[39mFalse\u001b[39;49;00m,\n\u001b[1;32m    494\u001b[0m         decode_content\u001b[39m=\u001b[39;49m\u001b[39mFalse\u001b[39;49;00m,\n\u001b[1;32m    495\u001b[0m         retries\u001b[39m=\u001b[39;49m\u001b[39mself\u001b[39;49m\u001b[39m.\u001b[39;49mmax_retries,\n\u001b[1;32m    496\u001b[0m         timeout\u001b[39m=\u001b[39;49mtimeout,\n\u001b[1;32m    497\u001b[0m         chunked\u001b[39m=\u001b[39;49mchunked,\n\u001b[1;32m    498\u001b[0m     )\n\u001b[1;32m    500\u001b[0m \u001b[39mexcept\u001b[39;00m (ProtocolError, \u001b[39mOSError\u001b[39;00m) \u001b[39mas\u001b[39;00m err:\n",
      "File \u001b[0;32m~/Desktop/reports/.venv/lib/python3.11/site-packages/urllib3/connectionpool.py:798\u001b[0m, in \u001b[0;36mHTTPConnectionPool.urlopen\u001b[0;34m(self, method, url, body, headers, retries, redirect, assert_same_host, timeout, pool_timeout, release_conn, chunked, body_pos, **response_kw)\u001b[0m\n\u001b[1;32m    796\u001b[0m     e \u001b[39m=\u001b[39m ProtocolError(\u001b[39m\"\u001b[39m\u001b[39mConnection aborted.\u001b[39m\u001b[39m\"\u001b[39m, e)\n\u001b[0;32m--> 798\u001b[0m retries \u001b[39m=\u001b[39m retries\u001b[39m.\u001b[39;49mincrement(\n\u001b[1;32m    799\u001b[0m     method, url, error\u001b[39m=\u001b[39;49me, _pool\u001b[39m=\u001b[39;49m\u001b[39mself\u001b[39;49m, _stacktrace\u001b[39m=\u001b[39;49msys\u001b[39m.\u001b[39;49mexc_info()[\u001b[39m2\u001b[39;49m]\n\u001b[1;32m    800\u001b[0m )\n\u001b[1;32m    801\u001b[0m retries\u001b[39m.\u001b[39msleep()\n",
      "File \u001b[0;32m~/Desktop/reports/.venv/lib/python3.11/site-packages/urllib3/util/retry.py:550\u001b[0m, in \u001b[0;36mRetry.increment\u001b[0;34m(self, method, url, response, error, _pool, _stacktrace)\u001b[0m\n\u001b[1;32m    549\u001b[0m \u001b[39mif\u001b[39;00m read \u001b[39mis\u001b[39;00m \u001b[39mFalse\u001b[39;00m \u001b[39mor\u001b[39;00m \u001b[39mnot\u001b[39;00m \u001b[39mself\u001b[39m\u001b[39m.\u001b[39m_is_method_retryable(method):\n\u001b[0;32m--> 550\u001b[0m     \u001b[39mraise\u001b[39;00m six\u001b[39m.\u001b[39;49mreraise(\u001b[39mtype\u001b[39;49m(error), error, _stacktrace)\n\u001b[1;32m    551\u001b[0m \u001b[39melif\u001b[39;00m read \u001b[39mis\u001b[39;00m \u001b[39mnot\u001b[39;00m \u001b[39mNone\u001b[39;00m:\n",
      "File \u001b[0;32m~/Desktop/reports/.venv/lib/python3.11/site-packages/urllib3/packages/six.py:770\u001b[0m, in \u001b[0;36mreraise\u001b[0;34m(tp, value, tb)\u001b[0m\n\u001b[1;32m    769\u001b[0m         \u001b[39mraise\u001b[39;00m value\u001b[39m.\u001b[39mwith_traceback(tb)\n\u001b[0;32m--> 770\u001b[0m     \u001b[39mraise\u001b[39;00m value\n\u001b[1;32m    771\u001b[0m \u001b[39mfinally\u001b[39;00m:\n",
      "File \u001b[0;32m~/Desktop/reports/.venv/lib/python3.11/site-packages/urllib3/connectionpool.py:714\u001b[0m, in \u001b[0;36mHTTPConnectionPool.urlopen\u001b[0;34m(self, method, url, body, headers, retries, redirect, assert_same_host, timeout, pool_timeout, release_conn, chunked, body_pos, **response_kw)\u001b[0m\n\u001b[1;32m    713\u001b[0m \u001b[39m# Make the request on the httplib connection object.\u001b[39;00m\n\u001b[0;32m--> 714\u001b[0m httplib_response \u001b[39m=\u001b[39m \u001b[39mself\u001b[39;49m\u001b[39m.\u001b[39;49m_make_request(\n\u001b[1;32m    715\u001b[0m     conn,\n\u001b[1;32m    716\u001b[0m     method,\n\u001b[1;32m    717\u001b[0m     url,\n\u001b[1;32m    718\u001b[0m     timeout\u001b[39m=\u001b[39;49mtimeout_obj,\n\u001b[1;32m    719\u001b[0m     body\u001b[39m=\u001b[39;49mbody,\n\u001b[1;32m    720\u001b[0m     headers\u001b[39m=\u001b[39;49mheaders,\n\u001b[1;32m    721\u001b[0m     chunked\u001b[39m=\u001b[39;49mchunked,\n\u001b[1;32m    722\u001b[0m )\n\u001b[1;32m    724\u001b[0m \u001b[39m# If we're going to release the connection in ``finally:``, then\u001b[39;00m\n\u001b[1;32m    725\u001b[0m \u001b[39m# the response doesn't need to know about the connection. Otherwise\u001b[39;00m\n\u001b[1;32m    726\u001b[0m \u001b[39m# it will also try to release it and we'll have a double-release\u001b[39;00m\n\u001b[1;32m    727\u001b[0m \u001b[39m# mess.\u001b[39;00m\n",
      "File \u001b[0;32m~/Desktop/reports/.venv/lib/python3.11/site-packages/urllib3/connectionpool.py:468\u001b[0m, in \u001b[0;36mHTTPConnectionPool._make_request\u001b[0;34m(self, conn, method, url, timeout, chunked, **httplib_request_kw)\u001b[0m\n\u001b[1;32m    467\u001b[0m \u001b[39mexcept\u001b[39;00m (SocketTimeout, BaseSSLError, SocketError) \u001b[39mas\u001b[39;00m e:\n\u001b[0;32m--> 468\u001b[0m     \u001b[39mself\u001b[39;49m\u001b[39m.\u001b[39;49m_raise_timeout(err\u001b[39m=\u001b[39;49me, url\u001b[39m=\u001b[39;49murl, timeout_value\u001b[39m=\u001b[39;49mread_timeout)\n\u001b[1;32m    469\u001b[0m     \u001b[39mraise\u001b[39;00m\n",
      "File \u001b[0;32m~/Desktop/reports/.venv/lib/python3.11/site-packages/urllib3/connectionpool.py:357\u001b[0m, in \u001b[0;36mHTTPConnectionPool._raise_timeout\u001b[0;34m(self, err, url, timeout_value)\u001b[0m\n\u001b[1;32m    356\u001b[0m \u001b[39mif\u001b[39;00m \u001b[39misinstance\u001b[39m(err, SocketTimeout):\n\u001b[0;32m--> 357\u001b[0m     \u001b[39mraise\u001b[39;00m ReadTimeoutError(\n\u001b[1;32m    358\u001b[0m         \u001b[39mself\u001b[39m, url, \u001b[39m\"\u001b[39m\u001b[39mRead timed out. (read timeout=\u001b[39m\u001b[39m%s\u001b[39;00m\u001b[39m)\u001b[39m\u001b[39m\"\u001b[39m \u001b[39m%\u001b[39m timeout_value\n\u001b[1;32m    359\u001b[0m     )\n\u001b[1;32m    361\u001b[0m \u001b[39m# See the above comment about EAGAIN in Python 3. In Python 2 we have\u001b[39;00m\n\u001b[1;32m    362\u001b[0m \u001b[39m# to specifically catch it and throw the timeout error\u001b[39;00m\n",
      "\u001b[0;31mReadTimeoutError\u001b[0m: HTTPSConnectionPool(host='api.openai.com', port=443): Read timed out. (read timeout=600)",
      "\nDuring handling of the above exception, another exception occurred:\n",
      "\u001b[0;31mReadTimeout\u001b[0m                               Traceback (most recent call last)",
      "File \u001b[0;32m~/Desktop/reports/.venv/lib/python3.11/site-packages/openai/api_requestor.py:596\u001b[0m, in \u001b[0;36mAPIRequestor.request_raw\u001b[0;34m(self, method, url, params, supplied_headers, files, stream, request_id, request_timeout)\u001b[0m\n\u001b[1;32m    595\u001b[0m \u001b[39mtry\u001b[39;00m:\n\u001b[0;32m--> 596\u001b[0m     result \u001b[39m=\u001b[39m _thread_context\u001b[39m.\u001b[39;49msession\u001b[39m.\u001b[39;49mrequest(\n\u001b[1;32m    597\u001b[0m         method,\n\u001b[1;32m    598\u001b[0m         abs_url,\n\u001b[1;32m    599\u001b[0m         headers\u001b[39m=\u001b[39;49mheaders,\n\u001b[1;32m    600\u001b[0m         data\u001b[39m=\u001b[39;49mdata,\n\u001b[1;32m    601\u001b[0m         files\u001b[39m=\u001b[39;49mfiles,\n\u001b[1;32m    602\u001b[0m         stream\u001b[39m=\u001b[39;49mstream,\n\u001b[1;32m    603\u001b[0m         timeout\u001b[39m=\u001b[39;49mrequest_timeout \u001b[39mif\u001b[39;49;00m request_timeout \u001b[39melse\u001b[39;49;00m TIMEOUT_SECS,\n\u001b[1;32m    604\u001b[0m         proxies\u001b[39m=\u001b[39;49m_thread_context\u001b[39m.\u001b[39;49msession\u001b[39m.\u001b[39;49mproxies,\n\u001b[1;32m    605\u001b[0m     )\n\u001b[1;32m    606\u001b[0m \u001b[39mexcept\u001b[39;00m requests\u001b[39m.\u001b[39mexceptions\u001b[39m.\u001b[39mTimeout \u001b[39mas\u001b[39;00m e:\n",
      "File \u001b[0;32m~/Desktop/reports/.venv/lib/python3.11/site-packages/requests/sessions.py:589\u001b[0m, in \u001b[0;36mSession.request\u001b[0;34m(self, method, url, params, data, headers, cookies, files, auth, timeout, allow_redirects, proxies, hooks, stream, verify, cert, json)\u001b[0m\n\u001b[1;32m    588\u001b[0m send_kwargs\u001b[39m.\u001b[39mupdate(settings)\n\u001b[0;32m--> 589\u001b[0m resp \u001b[39m=\u001b[39m \u001b[39mself\u001b[39;49m\u001b[39m.\u001b[39;49msend(prep, \u001b[39m*\u001b[39;49m\u001b[39m*\u001b[39;49msend_kwargs)\n\u001b[1;32m    591\u001b[0m \u001b[39mreturn\u001b[39;00m resp\n",
      "File \u001b[0;32m~/Desktop/reports/.venv/lib/python3.11/site-packages/requests/sessions.py:703\u001b[0m, in \u001b[0;36mSession.send\u001b[0;34m(self, request, **kwargs)\u001b[0m\n\u001b[1;32m    702\u001b[0m \u001b[39m# Send the request\u001b[39;00m\n\u001b[0;32m--> 703\u001b[0m r \u001b[39m=\u001b[39m adapter\u001b[39m.\u001b[39;49msend(request, \u001b[39m*\u001b[39;49m\u001b[39m*\u001b[39;49mkwargs)\n\u001b[1;32m    705\u001b[0m \u001b[39m# Total elapsed time of the request (approximately)\u001b[39;00m\n",
      "File \u001b[0;32m~/Desktop/reports/.venv/lib/python3.11/site-packages/requests/adapters.py:532\u001b[0m, in \u001b[0;36mHTTPAdapter.send\u001b[0;34m(self, request, stream, timeout, verify, cert, proxies)\u001b[0m\n\u001b[1;32m    531\u001b[0m \u001b[39melif\u001b[39;00m \u001b[39misinstance\u001b[39m(e, ReadTimeoutError):\n\u001b[0;32m--> 532\u001b[0m     \u001b[39mraise\u001b[39;00m ReadTimeout(e, request\u001b[39m=\u001b[39mrequest)\n\u001b[1;32m    533\u001b[0m \u001b[39melif\u001b[39;00m \u001b[39misinstance\u001b[39m(e, _InvalidHeader):\n",
      "\u001b[0;31mReadTimeout\u001b[0m: HTTPSConnectionPool(host='api.openai.com', port=443): Read timed out. (read timeout=600)",
      "\nThe above exception was the direct cause of the following exception:\n",
      "\u001b[0;31mTimeout\u001b[0m                                   Traceback (most recent call last)",
      "\u001b[1;32m/Users/goktugasci/Desktop/reports/notebooks/de_1_2_prepare_ls_tasks.ipynb Cell 13\u001b[0m line \u001b[0;36m1\n\u001b[1;32m      <a href='vscode-notebook-cell:/Users/goktugasci/Desktop/reports/notebooks/de_1_2_prepare_ls_tasks.ipynb#X15sZmlsZQ%3D%3D?line=3'>4</a>\u001b[0m \u001b[39mfor\u001b[39;00m _, row \u001b[39min\u001b[39;00m df_upload_tasks\u001b[39m.\u001b[39miterrows():\n\u001b[1;32m      <a href='vscode-notebook-cell:/Users/goktugasci/Desktop/reports/notebooks/de_1_2_prepare_ls_tasks.ipynb#X15sZmlsZQ%3D%3D?line=4'>5</a>\u001b[0m     \u001b[39mtry\u001b[39;00m:\n\u001b[1;32m      <a href='vscode-notebook-cell:/Users/goktugasci/Desktop/reports/notebooks/de_1_2_prepare_ls_tasks.ipynb#X15sZmlsZQ%3D%3D?line=5'>6</a>\u001b[0m         data_to_insert\u001b[39m.\u001b[39mappend(\n\u001b[1;32m      <a href='vscode-notebook-cell:/Users/goktugasci/Desktop/reports/notebooks/de_1_2_prepare_ls_tasks.ipynb#X15sZmlsZQ%3D%3D?line=6'>7</a>\u001b[0m             {\n\u001b[1;32m      <a href='vscode-notebook-cell:/Users/goktugasci/Desktop/reports/notebooks/de_1_2_prepare_ls_tasks.ipynb#X15sZmlsZQ%3D%3D?line=7'>8</a>\u001b[0m                 \u001b[39m\"\u001b[39m\u001b[39mreport_id\u001b[39m\u001b[39m\"\u001b[39m: row[\u001b[39m\"\u001b[39m\u001b[39mreport_id\u001b[39m\u001b[39m\"\u001b[39m],\n\u001b[1;32m      <a href='vscode-notebook-cell:/Users/goktugasci/Desktop/reports/notebooks/de_1_2_prepare_ls_tasks.ipynb#X15sZmlsZQ%3D%3D?line=8'>9</a>\u001b[0m                 \u001b[39m\"\u001b[39m\u001b[39mpatient_no\u001b[39m\u001b[39m\"\u001b[39m: row[\u001b[39m\"\u001b[39m\u001b[39mpatient_no\u001b[39m\u001b[39m\"\u001b[39m],\n\u001b[1;32m     <a href='vscode-notebook-cell:/Users/goktugasci/Desktop/reports/notebooks/de_1_2_prepare_ls_tasks.ipynb#X15sZmlsZQ%3D%3D?line=9'>10</a>\u001b[0m                 \u001b[39m\"\u001b[39m\u001b[39mprotocol_no\u001b[39m\u001b[39m\"\u001b[39m: row[\u001b[39m\"\u001b[39m\u001b[39mprotocol_no\u001b[39m\u001b[39m\"\u001b[39m],\n\u001b[1;32m     <a href='vscode-notebook-cell:/Users/goktugasci/Desktop/reports/notebooks/de_1_2_prepare_ls_tasks.ipynb#X15sZmlsZQ%3D%3D?line=10'>11</a>\u001b[0m                 \u001b[39m\"\u001b[39m\u001b[39mreport_original\u001b[39m\u001b[39m\"\u001b[39m: row[\u001b[39m\"\u001b[39m\u001b[39mreport_original\u001b[39m\u001b[39m\"\u001b[39m],\n\u001b[0;32m---> <a href='vscode-notebook-cell:/Users/goktugasci/Desktop/reports/notebooks/de_1_2_prepare_ls_tasks.ipynb#X15sZmlsZQ%3D%3D?line=11'>12</a>\u001b[0m                 \u001b[39m\"\u001b[39m\u001b[39mreport_prompted\u001b[39m\u001b[39m\"\u001b[39m: transformation\u001b[39m.\u001b[39;49mprompt_report(\n\u001b[1;32m     <a href='vscode-notebook-cell:/Users/goktugasci/Desktop/reports/notebooks/de_1_2_prepare_ls_tasks.ipynb#X15sZmlsZQ%3D%3D?line=12'>13</a>\u001b[0m                     report\u001b[39m=\u001b[39;49mrow[\u001b[39m\"\u001b[39;49m\u001b[39mreport_original\u001b[39;49m\u001b[39m\"\u001b[39;49m], prompt\u001b[39m=\u001b[39;49mPROMPT\n\u001b[1;32m     <a href='vscode-notebook-cell:/Users/goktugasci/Desktop/reports/notebooks/de_1_2_prepare_ls_tasks.ipynb#X15sZmlsZQ%3D%3D?line=13'>14</a>\u001b[0m                 ),\n\u001b[1;32m     <a href='vscode-notebook-cell:/Users/goktugasci/Desktop/reports/notebooks/de_1_2_prepare_ls_tasks.ipynb#X15sZmlsZQ%3D%3D?line=14'>15</a>\u001b[0m                 \u001b[39m\"\u001b[39m\u001b[39mreport_length\u001b[39m\u001b[39m\"\u001b[39m: row[\u001b[39m\"\u001b[39m\u001b[39mreport_length\u001b[39m\u001b[39m\"\u001b[39m],\n\u001b[1;32m     <a href='vscode-notebook-cell:/Users/goktugasci/Desktop/reports/notebooks/de_1_2_prepare_ls_tasks.ipynb#X15sZmlsZQ%3D%3D?line=15'>16</a>\u001b[0m                 \u001b[39m\"\u001b[39m\u001b[39mpatient_report_count\u001b[39m\u001b[39m\"\u001b[39m: row[\u001b[39m\"\u001b[39m\u001b[39mpatient_report_count\u001b[39m\u001b[39m\"\u001b[39m],\n\u001b[1;32m     <a href='vscode-notebook-cell:/Users/goktugasci/Desktop/reports/notebooks/de_1_2_prepare_ls_tasks.ipynb#X15sZmlsZQ%3D%3D?line=16'>17</a>\u001b[0m             }\n\u001b[1;32m     <a href='vscode-notebook-cell:/Users/goktugasci/Desktop/reports/notebooks/de_1_2_prepare_ls_tasks.ipynb#X15sZmlsZQ%3D%3D?line=17'>18</a>\u001b[0m         )\n\u001b[1;32m     <a href='vscode-notebook-cell:/Users/goktugasci/Desktop/reports/notebooks/de_1_2_prepare_ls_tasks.ipynb#X15sZmlsZQ%3D%3D?line=20'>21</a>\u001b[0m         db\u001b[39m.\u001b[39mupsert_values(reports_raw, data_to_insert, cols_to_upsert, [\u001b[39m\"\u001b[39m\u001b[39mreport_id\u001b[39m\u001b[39m\"\u001b[39m])\n\u001b[1;32m     <a href='vscode-notebook-cell:/Users/goktugasci/Desktop/reports/notebooks/de_1_2_prepare_ls_tasks.ipynb#X15sZmlsZQ%3D%3D?line=22'>23</a>\u001b[0m         time\u001b[39m.\u001b[39msleep(\u001b[39m20\u001b[39m)\n",
      "File \u001b[0;32m~/Desktop/reports/src/experiment/utils/transformation.py:105\u001b[0m, in \u001b[0;36mprompt_report\u001b[0;34m(report, prompt)\u001b[0m\n\u001b[1;32m     86\u001b[0m \u001b[39m\u001b[39m\u001b[39m'''The `prompt_report` function takes a report in a specified language and uses OpenAI's\u001b[39;00m\n\u001b[1;32m     87\u001b[0m \u001b[39mGPT-3.5-turbo model to translate it into English.\u001b[39;00m\n\u001b[1;32m     88\u001b[0m \u001b[39m\u001b[39;00m\n\u001b[0;32m   (...)\u001b[0m\n\u001b[1;32m    101\u001b[0m \u001b[39m\u001b[39;00m\n\u001b[1;32m    102\u001b[0m \u001b[39m'''\u001b[39;00m\n\u001b[1;32m    103\u001b[0m openai\u001b[39m.\u001b[39mapi_key \u001b[39m=\u001b[39m os\u001b[39m.\u001b[39mgetenv(\u001b[39m\"\u001b[39m\u001b[39mOPEN_AI_API_KEY\u001b[39m\u001b[39m\"\u001b[39m)\n\u001b[0;32m--> 105\u001b[0m response \u001b[39m=\u001b[39m openai\u001b[39m.\u001b[39;49mChatCompletion\u001b[39m.\u001b[39;49mcreate(\n\u001b[1;32m    106\u001b[0m     model\u001b[39m=\u001b[39;49m\u001b[39m\"\u001b[39;49m\u001b[39mgpt-3.5-turbo\u001b[39;49m\u001b[39m\"\u001b[39;49m,\n\u001b[1;32m    107\u001b[0m     messages\u001b[39m=\u001b[39;49m[\n\u001b[1;32m    108\u001b[0m         {\u001b[39m\"\u001b[39;49m\u001b[39mrole\u001b[39;49m\u001b[39m\"\u001b[39;49m: \u001b[39m\"\u001b[39;49m\u001b[39muser\u001b[39;49m\u001b[39m\"\u001b[39;49m, \u001b[39m\"\u001b[39;49m\u001b[39mcontent\u001b[39;49m\u001b[39m\"\u001b[39;49m: \u001b[39mf\u001b[39;49m\u001b[39m\"\u001b[39;49m\u001b[39m{\u001b[39;49;00mprompt\u001b[39m}\u001b[39;49;00m\u001b[39m: \u001b[39;49m\u001b[39m{\u001b[39;49;00mreport\u001b[39m}\u001b[39;49;00m\u001b[39m\"\u001b[39;49m}\n\u001b[1;32m    109\u001b[0m     ],\n\u001b[1;32m    110\u001b[0m )\n\u001b[1;32m    112\u001b[0m prompted_report \u001b[39m=\u001b[39m response\u001b[39m.\u001b[39mchoices[\u001b[39m0\u001b[39m]\u001b[39m.\u001b[39mmessage\u001b[39m.\u001b[39mcontent\n\u001b[1;32m    114\u001b[0m \u001b[39mif\u001b[39;00m prompted_report \u001b[39m==\u001b[39m \u001b[39m\"\u001b[39m\u001b[39m\"\u001b[39m:\n",
      "File \u001b[0;32m~/Desktop/reports/.venv/lib/python3.11/site-packages/openai/api_resources/chat_completion.py:25\u001b[0m, in \u001b[0;36mChatCompletion.create\u001b[0;34m(cls, *args, **kwargs)\u001b[0m\n\u001b[1;32m     23\u001b[0m \u001b[39mwhile\u001b[39;00m \u001b[39mTrue\u001b[39;00m:\n\u001b[1;32m     24\u001b[0m     \u001b[39mtry\u001b[39;00m:\n\u001b[0;32m---> 25\u001b[0m         \u001b[39mreturn\u001b[39;00m \u001b[39msuper\u001b[39;49m()\u001b[39m.\u001b[39;49mcreate(\u001b[39m*\u001b[39;49margs, \u001b[39m*\u001b[39;49m\u001b[39m*\u001b[39;49mkwargs)\n\u001b[1;32m     26\u001b[0m     \u001b[39mexcept\u001b[39;00m TryAgain \u001b[39mas\u001b[39;00m e:\n\u001b[1;32m     27\u001b[0m         \u001b[39mif\u001b[39;00m timeout \u001b[39mis\u001b[39;00m \u001b[39mnot\u001b[39;00m \u001b[39mNone\u001b[39;00m \u001b[39mand\u001b[39;00m time\u001b[39m.\u001b[39mtime() \u001b[39m>\u001b[39m start \u001b[39m+\u001b[39m timeout:\n",
      "File \u001b[0;32m~/Desktop/reports/.venv/lib/python3.11/site-packages/openai/api_resources/abstract/engine_api_resource.py:153\u001b[0m, in \u001b[0;36mEngineAPIResource.create\u001b[0;34m(cls, api_key, api_base, api_type, request_id, api_version, organization, **params)\u001b[0m\n\u001b[1;32m    127\u001b[0m \u001b[39m@classmethod\u001b[39m\n\u001b[1;32m    128\u001b[0m \u001b[39mdef\u001b[39;00m \u001b[39mcreate\u001b[39m(\n\u001b[1;32m    129\u001b[0m     \u001b[39mcls\u001b[39m,\n\u001b[0;32m   (...)\u001b[0m\n\u001b[1;32m    136\u001b[0m     \u001b[39m*\u001b[39m\u001b[39m*\u001b[39mparams,\n\u001b[1;32m    137\u001b[0m ):\n\u001b[1;32m    138\u001b[0m     (\n\u001b[1;32m    139\u001b[0m         deployment_id,\n\u001b[1;32m    140\u001b[0m         engine,\n\u001b[0;32m   (...)\u001b[0m\n\u001b[1;32m    150\u001b[0m         api_key, api_base, api_type, api_version, organization, \u001b[39m*\u001b[39m\u001b[39m*\u001b[39mparams\n\u001b[1;32m    151\u001b[0m     )\n\u001b[0;32m--> 153\u001b[0m     response, _, api_key \u001b[39m=\u001b[39m requestor\u001b[39m.\u001b[39;49mrequest(\n\u001b[1;32m    154\u001b[0m         \u001b[39m\"\u001b[39;49m\u001b[39mpost\u001b[39;49m\u001b[39m\"\u001b[39;49m,\n\u001b[1;32m    155\u001b[0m         url,\n\u001b[1;32m    156\u001b[0m         params\u001b[39m=\u001b[39;49mparams,\n\u001b[1;32m    157\u001b[0m         headers\u001b[39m=\u001b[39;49mheaders,\n\u001b[1;32m    158\u001b[0m         stream\u001b[39m=\u001b[39;49mstream,\n\u001b[1;32m    159\u001b[0m         request_id\u001b[39m=\u001b[39;49mrequest_id,\n\u001b[1;32m    160\u001b[0m         request_timeout\u001b[39m=\u001b[39;49mrequest_timeout,\n\u001b[1;32m    161\u001b[0m     )\n\u001b[1;32m    163\u001b[0m     \u001b[39mif\u001b[39;00m stream:\n\u001b[1;32m    164\u001b[0m         \u001b[39m# must be an iterator\u001b[39;00m\n\u001b[1;32m    165\u001b[0m         \u001b[39massert\u001b[39;00m \u001b[39mnot\u001b[39;00m \u001b[39misinstance\u001b[39m(response, OpenAIResponse)\n",
      "File \u001b[0;32m~/Desktop/reports/.venv/lib/python3.11/site-packages/openai/api_requestor.py:288\u001b[0m, in \u001b[0;36mAPIRequestor.request\u001b[0;34m(self, method, url, params, headers, files, stream, request_id, request_timeout)\u001b[0m\n\u001b[1;32m    277\u001b[0m \u001b[39mdef\u001b[39;00m \u001b[39mrequest\u001b[39m(\n\u001b[1;32m    278\u001b[0m     \u001b[39mself\u001b[39m,\n\u001b[1;32m    279\u001b[0m     method,\n\u001b[0;32m   (...)\u001b[0m\n\u001b[1;32m    286\u001b[0m     request_timeout: Optional[Union[\u001b[39mfloat\u001b[39m, Tuple[\u001b[39mfloat\u001b[39m, \u001b[39mfloat\u001b[39m]]] \u001b[39m=\u001b[39m \u001b[39mNone\u001b[39;00m,\n\u001b[1;32m    287\u001b[0m ) \u001b[39m-\u001b[39m\u001b[39m>\u001b[39m Tuple[Union[OpenAIResponse, Iterator[OpenAIResponse]], \u001b[39mbool\u001b[39m, \u001b[39mstr\u001b[39m]:\n\u001b[0;32m--> 288\u001b[0m     result \u001b[39m=\u001b[39m \u001b[39mself\u001b[39;49m\u001b[39m.\u001b[39;49mrequest_raw(\n\u001b[1;32m    289\u001b[0m         method\u001b[39m.\u001b[39;49mlower(),\n\u001b[1;32m    290\u001b[0m         url,\n\u001b[1;32m    291\u001b[0m         params\u001b[39m=\u001b[39;49mparams,\n\u001b[1;32m    292\u001b[0m         supplied_headers\u001b[39m=\u001b[39;49mheaders,\n\u001b[1;32m    293\u001b[0m         files\u001b[39m=\u001b[39;49mfiles,\n\u001b[1;32m    294\u001b[0m         stream\u001b[39m=\u001b[39;49mstream,\n\u001b[1;32m    295\u001b[0m         request_id\u001b[39m=\u001b[39;49mrequest_id,\n\u001b[1;32m    296\u001b[0m         request_timeout\u001b[39m=\u001b[39;49mrequest_timeout,\n\u001b[1;32m    297\u001b[0m     )\n\u001b[1;32m    298\u001b[0m     resp, got_stream \u001b[39m=\u001b[39m \u001b[39mself\u001b[39m\u001b[39m.\u001b[39m_interpret_response(result, stream)\n\u001b[1;32m    299\u001b[0m     \u001b[39mreturn\u001b[39;00m resp, got_stream, \u001b[39mself\u001b[39m\u001b[39m.\u001b[39mapi_key\n",
      "File \u001b[0;32m~/Desktop/reports/.venv/lib/python3.11/site-packages/openai/api_requestor.py:607\u001b[0m, in \u001b[0;36mAPIRequestor.request_raw\u001b[0;34m(self, method, url, params, supplied_headers, files, stream, request_id, request_timeout)\u001b[0m\n\u001b[1;32m    596\u001b[0m     result \u001b[39m=\u001b[39m _thread_context\u001b[39m.\u001b[39msession\u001b[39m.\u001b[39mrequest(\n\u001b[1;32m    597\u001b[0m         method,\n\u001b[1;32m    598\u001b[0m         abs_url,\n\u001b[0;32m   (...)\u001b[0m\n\u001b[1;32m    604\u001b[0m         proxies\u001b[39m=\u001b[39m_thread_context\u001b[39m.\u001b[39msession\u001b[39m.\u001b[39mproxies,\n\u001b[1;32m    605\u001b[0m     )\n\u001b[1;32m    606\u001b[0m \u001b[39mexcept\u001b[39;00m requests\u001b[39m.\u001b[39mexceptions\u001b[39m.\u001b[39mTimeout \u001b[39mas\u001b[39;00m e:\n\u001b[0;32m--> 607\u001b[0m     \u001b[39mraise\u001b[39;00m error\u001b[39m.\u001b[39mTimeout(\u001b[39m\"\u001b[39m\u001b[39mRequest timed out: \u001b[39m\u001b[39m{}\u001b[39;00m\u001b[39m\"\u001b[39m\u001b[39m.\u001b[39mformat(e)) \u001b[39mfrom\u001b[39;00m \u001b[39me\u001b[39;00m\n\u001b[1;32m    608\u001b[0m \u001b[39mexcept\u001b[39;00m requests\u001b[39m.\u001b[39mexceptions\u001b[39m.\u001b[39mRequestException \u001b[39mas\u001b[39;00m e:\n\u001b[1;32m    609\u001b[0m     \u001b[39mraise\u001b[39;00m error\u001b[39m.\u001b[39mAPIConnectionError(\n\u001b[1;32m    610\u001b[0m         \u001b[39m\"\u001b[39m\u001b[39mError communicating with OpenAI: \u001b[39m\u001b[39m{}\u001b[39;00m\u001b[39m\"\u001b[39m\u001b[39m.\u001b[39mformat(e)\n\u001b[1;32m    611\u001b[0m     ) \u001b[39mfrom\u001b[39;00m \u001b[39me\u001b[39;00m\n",
      "\u001b[0;31mTimeout\u001b[0m: Request timed out: HTTPSConnectionPool(host='api.openai.com', port=443): Read timed out. (read timeout=600)"
     ]
    }
   ],
   "source": [
    "cols_to_upsert = df_upload_tasks.columns.to_list()\n",
    "cols_to_upsert.remove(\"report_id\")\n",
    "data_to_insert = []\n",
    "for _, row in df_upload_tasks.iterrows():\n",
    "    try:\n",
    "        data_to_insert.append(\n",
    "            {\n",
    "                \"report_id\": row[\"report_id\"],\n",
    "                \"patient_no\": row[\"patient_no\"],\n",
    "                \"protocol_no\": row[\"protocol_no\"],\n",
    "                \"report_original\": row[\"report_original\"],\n",
    "                \"report_prompted\": transformation.prompt_report(\n",
    "                    report=row[\"report_original\"], prompt=PROMPT\n",
    "                ),\n",
    "                \"report_length\": row[\"report_length\"],\n",
    "                \"patient_report_count\": row[\"patient_report_count\"],\n",
    "            }\n",
    "        )\n",
    "    \n",
    "\n",
    "        db.upsert_values(reports_raw, data_to_insert, cols_to_upsert, [\"report_id\"])\n",
    "\n",
    "        time.sleep(20)\n",
    "    except openai.error.RateLimitError as rate_error:\n",
    "        # openai restriction: 3 RPM - 200 RPD\n",
    "        lg.log(f\"Rate limit for: {datetime.datetime.now()}\", \"WARNING\")\n",
    "\n",
    "lg.log(f\"Finished prompting {len(data_to_insert)} reports\")"
   ]
  },
  {
   "cell_type": "markdown",
   "metadata": {},
   "source": [
    "### 3) Upload Tasks to Label Studio"
   ]
  },
  {
   "cell_type": "code",
   "execution_count": 12,
   "metadata": {},
   "outputs": [],
   "source": [
    "# get reports directly from database\n",
    "query = \"\"\"\n",
    "            SELECT\n",
    "                report_id,\n",
    "                patient_no,\n",
    "                protocol_no,\n",
    "                report_original,\n",
    "                report_prompted as text,\n",
    "                report_length,\n",
    "                patient_report_count\n",
    "            FROM\n",
    "                annotation.upload_tasks\n",
    "            WHERE\n",
    "                report_id NOT IN (\n",
    "                SELECT\n",
    "                    (DATA ->> 'report_id')::INT AS report_id\n",
    "                FROM\n",
    "                    public.task)\n",
    "                AND report_prompted != ''\n",
    "        \"\"\"\n",
    "\n",
    "# get values from the database\n",
    "df_upload_tasks = db.read_sql_query(query)\n",
    "\n",
    "# output tasks as a csv file\n",
    "output_path = (\n",
    "    transformation.get_project_root() / \"tmp\" / \"data\" / \"upload_tasks.csv\"\n",
    ")\n",
    "df_upload_tasks.to_csv(output_path, index=False)"
   ]
  },
  {
   "cell_type": "code",
   "execution_count": 13,
   "metadata": {},
   "outputs": [
    {
     "name": "stderr",
     "output_type": "stream",
     "text": [
      "  % Total    % Received % Xferd  Average Speed   Time    Time     Time  Current\n",
      "                                 Dload  Upload   Total   Spent    Left  Speed\n",
      "  0     0    0     0    0     0      0      0 --:--:-- --:--:-- --:--:--     0"
     ]
    },
    {
     "name": "stdout",
     "output_type": "stream",
     "text": [
      "{\"task_count\":115,\"annotation_count\":0,\"prediction_count\":0,\"duration\":0.42647647857666016,\"file_upload_ids\":[62],\"could_be_tasks_list\":true,\"found_formats\":{\".csv\":1},\"data_columns\":[\"report_original\",\"report_length\",\"patient_report_count\",\"text\",\"patient_no\",\"report_id\",\"protocol_no\"]}"
     ]
    },
    {
     "name": "stderr",
     "output_type": "stream",
     "text": [
      "100  110k  100   288  100  110k    277   106k  0:00:01  0:00:01 --:--:--  106k\n"
     ]
    }
   ],
   "source": [
    "# upload tasks to label studio\n",
    "label_studio.upload_csv_tasks(csv_path=output_path, project_id=7)"
   ]
  },
  {
   "cell_type": "code",
   "execution_count": 14,
   "metadata": {},
   "outputs": [
    {
     "name": "stderr",
     "output_type": "stream",
     "text": [
      "Scaling dynos... done, now running \u001b[32mweb\u001b[39m at 0:Basic\n"
     ]
    }
   ],
   "source": [
    "label_studio.stop_label_studio()"
   ]
  }
 ],
 "metadata": {
  "kernelspec": {
   "display_name": ".venv",
   "language": "python",
   "name": "python3"
  },
  "language_info": {
   "codemirror_mode": {
    "name": "ipython",
    "version": 3
   },
   "file_extension": ".py",
   "mimetype": "text/x-python",
   "name": "python",
   "nbconvert_exporter": "python",
   "pygments_lexer": "ipython3",
   "version": "3.11.6"
  },
  "orig_nbformat": 4
 },
 "nbformat": 4,
 "nbformat_minor": 2
}
