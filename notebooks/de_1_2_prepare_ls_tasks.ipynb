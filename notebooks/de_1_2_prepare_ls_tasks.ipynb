{
 "cells": [
  {
   "cell_type": "code",
   "execution_count": null,
   "metadata": {},
   "outputs": [],
   "source": [
    "import time\n",
    "import datetime\n",
    "\n",
    "from experiment.utils import dbutils, transformation\n",
    "from experiment.utils.logging import logger\n",
    "from experiment.utils.tables.upload_tasks_table import UploadTasksTable\n",
    "from experiment.api import label_studio\n",
    "\n",
    "import openai"
   ]
  },
  {
   "cell_type": "code",
   "execution_count": null,
   "metadata": {},
   "outputs": [],
   "source": [
    "db = dbutils.DatabaseUtils()"
   ]
  },
  {
   "cell_type": "code",
   "execution_count": null,
   "metadata": {},
   "outputs": [],
   "source": [
    "PROMPT_N_MORE_REPORTS = 200\n",
    "PROMPT = \"Perform the following transformation on the report: Translate into English\" \n",
    "PRIORITIZE_BY = \"normal\" # \"normal\" or \"emergency\""
   ]
  },
  {
   "cell_type": "code",
   "execution_count": null,
   "metadata": {},
   "outputs": [],
   "source": [
    "reports_raw, Base = UploadTasksTable()"
   ]
  },
  {
   "cell_type": "code",
   "execution_count": null,
   "metadata": {},
   "outputs": [],
   "source": [
    "# generate annotation tables\n",
    "# Base.metadata.create_all(db.engine)\n",
    "\n",
    "db.run_dbt_model('all')"
   ]
  },
  {
   "cell_type": "markdown",
   "metadata": {},
   "source": [
    "### 1) Select Reports"
   ]
  },
  {
   "cell_type": "code",
   "execution_count": null,
   "metadata": {},
   "outputs": [],
   "source": [
    "PRIORITIZE_BY_VALUES = {\n",
    "    \"normal\": \"ASC\",\n",
    "    \"emergency\": \"DESC\"\n",
    "}"
   ]
  },
  {
   "cell_type": "code",
   "execution_count": null,
   "metadata": {},
   "outputs": [],
   "source": [
    "# get reports directly from database\n",
    "query = f\"\"\"\n",
    "            SELECT * FROM annotation.upload_tasks ut \n",
    "            ORDER BY patient_report_count {PRIORITIZE_BY_VALUES[PRIORITIZE_BY]}, report_length {PRIORITIZE_BY_VALUES[PRIORITIZE_BY]} \n",
    "        \"\"\"\n",
    "\n",
    "# get values from the database\n",
    "df_reports = db.read_sql_query(query)\n",
    "df_reports.head()"
   ]
  },
  {
   "cell_type": "code",
   "execution_count": null,
   "metadata": {},
   "outputs": [],
   "source": [
    "# get annotated reports \n",
    "query = \"\"\"\n",
    "            SELECT \n",
    "                DISTINCT data ->> 'patient_no' as patient_no\n",
    "            FROM task\n",
    "            WHERE is_labeled = TRUE\n",
    "        \"\"\"\n",
    "\n",
    "# get values from the database\n",
    "annotated_patient_nos = db.read_sql_query(query)[\"patient_no\"].to_list()"
   ]
  },
  {
   "cell_type": "code",
   "execution_count": null,
   "metadata": {},
   "outputs": [],
   "source": [
    "# get tasks that have been prompted\n",
    "query = \"\"\"\n",
    "            SELECT \n",
    "                report_id\n",
    "            FROM annotation.upload_tasks\n",
    "            WHERE report_prompted != '' \n",
    "        \"\"\"\n",
    "\n",
    "# get values from the database\n",
    "upload_tasks_prompted = db.read_sql_query(query)[\"report_id\"].to_list()"
   ]
  },
  {
   "cell_type": "code",
   "execution_count": null,
   "metadata": {},
   "outputs": [],
   "source": [
    "# use only non-prompted reports & non-annotated patients\n",
    "df_upload_tasks = (\n",
    "    df_reports.loc[~df_reports[\"patient_no\"].isin(annotated_patient_nos)]\n",
    "    .loc[~df_reports[\"report_id\"].isin(upload_tasks_prompted)]\n",
    "    .head(PROMPT_N_MORE_REPORTS)\n",
    ")"
   ]
  },
  {
   "cell_type": "markdown",
   "metadata": {},
   "source": [
    "### 2) Prompt Reports"
   ]
  },
  {
   "cell_type": "code",
   "execution_count": null,
   "metadata": {},
   "outputs": [],
   "source": [
    "cols_to_upsert = df_upload_tasks.columns.to_list()\n",
    "cols_to_upsert.remove(\"report_id\")\n",
    "data_to_insert = []\n",
    "for _, row in df_upload_tasks.iterrows():\n",
    "    try:\n",
    "        data_to_insert.append(\n",
    "            {\n",
    "                \"report_id\": row[\"report_id\"],\n",
    "                \"patient_no\": row[\"patient_no\"],\n",
    "                \"protocol_no\": row[\"protocol_no\"],\n",
    "                \"report_original\": row[\"report_original\"],\n",
    "                \"report_prompted\": transformation.prompt_report(\n",
    "                    report=row[\"report_original\"], prompt=PROMPT\n",
    "                ),\n",
    "                \"report_length\": row[\"report_length\"],\n",
    "                \"patient_report_count\": row[\"patient_report_count\"],\n",
    "            }\n",
    "        )\n",
    "\n",
    "        db.upsert_values(reports_raw, data_to_insert, cols_to_upsert, [\"report_id\"])\n",
    "\n",
    "        time.sleep(20)\n",
    "    except openai.error.RateLimitError as rate_error:\n",
    "        # openai restriction: 3 RPM - 200 RPD\n",
    "        logger.warning(f\"Rate limit for: {datetime.datetime.now()}\")\n",
    "\n",
    "logger.info(f\"Finished prompting {len(data_to_insert)} reports\")"
   ]
  },
  {
   "cell_type": "markdown",
   "metadata": {},
   "source": [
    "### 3) Upload Tasks to Label Studio"
   ]
  },
  {
   "cell_type": "code",
   "execution_count": null,
   "metadata": {},
   "outputs": [],
   "source": [
    "# get reports directly from database\n",
    "query = \"\"\"\n",
    "            SELECT\n",
    "                report_id,\n",
    "                patient_no,\n",
    "                protocol_no,\n",
    "                report_original,\n",
    "                report_prompted as text,\n",
    "                report_length,\n",
    "                patient_report_count\n",
    "            FROM\n",
    "                annotation.upload_tasks\n",
    "            WHERE\n",
    "                report_id NOT IN (\n",
    "                SELECT\n",
    "                    (DATA ->> 'report_id')::INT AS report_id\n",
    "                FROM\n",
    "                    public.task)\n",
    "                AND report_prompted != ''\n",
    "        \"\"\"\n",
    "\n",
    "# get values from the database\n",
    "df_upload_tasks = db.read_sql_query(query)\n",
    "\n",
    "# output tasks as a csv file\n",
    "output_path = (\n",
    "    transformation.get_project_root() / \"tmp\" / \"data\" / \"upload_tasks.csv\"\n",
    ")\n",
    "df_upload_tasks.to_csv(output_path, index=False)"
   ]
  },
  {
   "cell_type": "code",
   "execution_count": null,
   "metadata": {},
   "outputs": [],
   "source": [
    "# upload tasks to label studio\n",
    "label_studio.upload_csv_tasks(csv_path=output_path, project_id=7)"
   ]
  },
  {
   "cell_type": "code",
   "execution_count": null,
   "metadata": {},
   "outputs": [],
   "source": [
    "label_studio.stop_label_studio()"
   ]
  }
 ],
 "metadata": {
  "kernelspec": {
   "display_name": ".venv",
   "language": "python",
   "name": "python3"
  },
  "language_info": {
   "codemirror_mode": {
    "name": "ipython",
    "version": 3
   },
   "file_extension": ".py",
   "mimetype": "text/x-python",
   "name": "python",
   "nbconvert_exporter": "python",
   "pygments_lexer": "ipython3",
   "version": "3.11.6"
  },
  "orig_nbformat": 4
 },
 "nbformat": 4,
 "nbformat_minor": 2
}
