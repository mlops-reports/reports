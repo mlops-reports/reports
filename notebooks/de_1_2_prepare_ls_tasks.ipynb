{
 "cells": [
  {
   "cell_type": "code",
   "execution_count": 1,
   "metadata": {},
   "outputs": [],
   "source": [
    "import warnings\n",
    "import time\n",
    "\n",
    "import pandas as pd\n",
    "\n",
    "from experiment.utils import dbutils, logger, transformation\n",
    "from experiment.utils.tables.upload_tasks_table import UploadTasksTable"
   ]
  },
  {
   "cell_type": "code",
   "execution_count": 2,
   "metadata": {},
   "outputs": [],
   "source": [
    "# suppress warnings\n",
    "warnings.filterwarnings(\"ignore\", category=UserWarning)"
   ]
  },
  {
   "cell_type": "code",
   "execution_count": 3,
   "metadata": {},
   "outputs": [],
   "source": [
    "db = dbutils.DatabaseUtils()\n",
    "lg = logger.Logger(\n",
    "    logging_level=\"DEBUG\",\n",
    "    output_path=transformation.get_project_root() / \"tmp\" / \"report_translation.log\",\n",
    ")"
   ]
  },
  {
   "cell_type": "code",
   "execution_count": 4,
   "metadata": {},
   "outputs": [],
   "source": [
    "TRANSLATE_N_MORE_REPORTS = 71"
   ]
  },
  {
   "cell_type": "code",
   "execution_count": 5,
   "metadata": {},
   "outputs": [
    {
     "data": {
      "text/html": [
       "<div>\n",
       "<style scoped>\n",
       "    .dataframe tbody tr th:only-of-type {\n",
       "        vertical-align: middle;\n",
       "    }\n",
       "\n",
       "    .dataframe tbody tr th {\n",
       "        vertical-align: top;\n",
       "    }\n",
       "\n",
       "    .dataframe thead th {\n",
       "        text-align: right;\n",
       "    }\n",
       "</style>\n",
       "<table border=\"1\" class=\"dataframe\">\n",
       "  <thead>\n",
       "    <tr style=\"text-align: right;\">\n",
       "      <th></th>\n",
       "      <th>report_id</th>\n",
       "      <th>patient_no</th>\n",
       "      <th>full_name</th>\n",
       "      <th>report_original</th>\n",
       "    </tr>\n",
       "  </thead>\n",
       "  <tbody>\n",
       "    <tr>\n",
       "      <th>0</th>\n",
       "      <td>23012646</td>\n",
       "      <td>2004001412</td>\n",
       "      <td>SADİ İYEM</td>\n",
       "      <td>RAPOR TARİHİ: 26/09/2022   FİLM NO: 12796199\\n...</td>\n",
       "    </tr>\n",
       "    <tr>\n",
       "      <th>1</th>\n",
       "      <td>22394628</td>\n",
       "      <td>2004001562</td>\n",
       "      <td>İLKNUR ERTENER</td>\n",
       "      <td>RAPOR TARİHİ: 15.03.2022    FİLM NO: 12523533\\...</td>\n",
       "    </tr>\n",
       "    <tr>\n",
       "      <th>2</th>\n",
       "      <td>22296380</td>\n",
       "      <td>2004001709</td>\n",
       "      <td>VEHBİYE AKBALIK</td>\n",
       "      <td>RAPOR TARİHİ:15/02/2022   FİLM NO:12493333\\n\\n...</td>\n",
       "    </tr>\n",
       "    <tr>\n",
       "      <th>3</th>\n",
       "      <td>23963976</td>\n",
       "      <td>2004002163</td>\n",
       "      <td>HAVVA AYDIN</td>\n",
       "      <td>RAPOR TARİHİ: 25/05/2023   FİLM NO:\\n\\nKontras...</td>\n",
       "    </tr>\n",
       "    <tr>\n",
       "      <th>4</th>\n",
       "      <td>21367900</td>\n",
       "      <td>2004002609</td>\n",
       "      <td>ZEYNEP YEŞİLOVA</td>\n",
       "      <td>RAPOR TARİHİ: 09.08.2021     FİLM NO: 11338850...</td>\n",
       "    </tr>\n",
       "  </tbody>\n",
       "</table>\n",
       "</div>"
      ],
      "text/plain": [
       "   report_id  patient_no        full_name  \\\n",
       "0   23012646  2004001412        SADİ İYEM   \n",
       "1   22394628  2004001562   İLKNUR ERTENER   \n",
       "2   22296380  2004001709  VEHBİYE AKBALIK   \n",
       "3   23963976  2004002163      HAVVA AYDIN   \n",
       "4   21367900  2004002609  ZEYNEP YEŞİLOVA   \n",
       "\n",
       "                                     report_original  \n",
       "0  RAPOR TARİHİ: 26/09/2022   FİLM NO: 12796199\\n...  \n",
       "1  RAPOR TARİHİ: 15.03.2022    FİLM NO: 12523533\\...  \n",
       "2  RAPOR TARİHİ:15/02/2022   FİLM NO:12493333\\n\\n...  \n",
       "3  RAPOR TARİHİ: 25/05/2023   FİLM NO:\\n\\nKontras...  \n",
       "4  RAPOR TARİHİ: 09.08.2021     FİLM NO: 11338850...  "
      ]
     },
     "execution_count": 5,
     "metadata": {},
     "output_type": "execute_result"
    }
   ],
   "source": [
    "# get reports directly from database\n",
    "query = \"\"\"\n",
    "            SELECT * FROM annotation.reports\n",
    "        \"\"\"\n",
    "\n",
    "# get values from the database\n",
    "df_reports = db.read_sql_query(query)\n",
    "df_reports.head()"
   ]
  },
  {
   "cell_type": "code",
   "execution_count": 6,
   "metadata": {},
   "outputs": [
    {
     "data": {
      "text/html": [
       "<div>\n",
       "<style scoped>\n",
       "    .dataframe tbody tr th:only-of-type {\n",
       "        vertical-align: middle;\n",
       "    }\n",
       "\n",
       "    .dataframe tbody tr th {\n",
       "        vertical-align: top;\n",
       "    }\n",
       "\n",
       "    .dataframe thead th {\n",
       "        text-align: right;\n",
       "    }\n",
       "</style>\n",
       "<table border=\"1\" class=\"dataframe\">\n",
       "  <thead>\n",
       "    <tr style=\"text-align: right;\">\n",
       "      <th></th>\n",
       "      <th>report_id</th>\n",
       "      <th>patient_no</th>\n",
       "      <th>full_name</th>\n",
       "      <th>report_original</th>\n",
       "      <th>report_original_clean</th>\n",
       "      <th>report_date</th>\n",
       "      <th>study_no</th>\n",
       "    </tr>\n",
       "  </thead>\n",
       "  <tbody>\n",
       "    <tr>\n",
       "      <th>0</th>\n",
       "      <td>23012646</td>\n",
       "      <td>2004001412</td>\n",
       "      <td>SADİ İYEM</td>\n",
       "      <td>RAPOR TARİHİ: 26/09/2022   FİLM NO: 12796199\\n...</td>\n",
       "      <td>Kafa tabanı ve verteks arasından kontrastsız e...</td>\n",
       "      <td>26/09/2022</td>\n",
       "      <td>12796199</td>\n",
       "    </tr>\n",
       "    <tr>\n",
       "      <th>1</th>\n",
       "      <td>22394628</td>\n",
       "      <td>2004001562</td>\n",
       "      <td>İLKNUR ERTENER</td>\n",
       "      <td>RAPOR TARİHİ: 15.03.2022    FİLM NO: 12523533\\...</td>\n",
       "      <td>Beyin BT   Kafa tabanı ve verteks arasından el...</td>\n",
       "      <td>15.03.2022</td>\n",
       "      <td>12523533</td>\n",
       "    </tr>\n",
       "    <tr>\n",
       "      <th>2</th>\n",
       "      <td>22296380</td>\n",
       "      <td>2004001709</td>\n",
       "      <td>VEHBİYE AKBALIK</td>\n",
       "      <td>RAPOR TARİHİ:15/02/2022   FİLM NO:12493333\\n\\n...</td>\n",
       "      <td>Kontrastsız   beyin  BT   tetkiki   Kafa kaide...</td>\n",
       "      <td>15/02/2022</td>\n",
       "      <td>12493333</td>\n",
       "    </tr>\n",
       "    <tr>\n",
       "      <th>3</th>\n",
       "      <td>23963976</td>\n",
       "      <td>2004002163</td>\n",
       "      <td>HAVVA AYDIN</td>\n",
       "      <td>RAPOR TARİHİ: 25/05/2023   FİLM NO:\\n\\nKontras...</td>\n",
       "      <td>Kontrastlı  beyin     BT  İnfratentorial yapıl...</td>\n",
       "      <td>25/05/2023</td>\n",
       "      <td></td>\n",
       "    </tr>\n",
       "    <tr>\n",
       "      <th>4</th>\n",
       "      <td>21367900</td>\n",
       "      <td>2004002609</td>\n",
       "      <td>ZEYNEP YEŞİLOVA</td>\n",
       "      <td>RAPOR TARİHİ: 09.08.2021     FİLM NO: 11338850...</td>\n",
       "      <td>BEYİN BT   Kafa tabanı ve verteks arasından el...</td>\n",
       "      <td>09.08.2021</td>\n",
       "      <td>11338850</td>\n",
       "    </tr>\n",
       "  </tbody>\n",
       "</table>\n",
       "</div>"
      ],
      "text/plain": [
       "   report_id  patient_no        full_name  \\\n",
       "0   23012646  2004001412        SADİ İYEM   \n",
       "1   22394628  2004001562   İLKNUR ERTENER   \n",
       "2   22296380  2004001709  VEHBİYE AKBALIK   \n",
       "3   23963976  2004002163      HAVVA AYDIN   \n",
       "4   21367900  2004002609  ZEYNEP YEŞİLOVA   \n",
       "\n",
       "                                     report_original  \\\n",
       "0  RAPOR TARİHİ: 26/09/2022   FİLM NO: 12796199\\n...   \n",
       "1  RAPOR TARİHİ: 15.03.2022    FİLM NO: 12523533\\...   \n",
       "2  RAPOR TARİHİ:15/02/2022   FİLM NO:12493333\\n\\n...   \n",
       "3  RAPOR TARİHİ: 25/05/2023   FİLM NO:\\n\\nKontras...   \n",
       "4  RAPOR TARİHİ: 09.08.2021     FİLM NO: 11338850...   \n",
       "\n",
       "                               report_original_clean report_date  study_no  \n",
       "0  Kafa tabanı ve verteks arasından kontrastsız e...  26/09/2022  12796199  \n",
       "1  Beyin BT   Kafa tabanı ve verteks arasından el...  15.03.2022  12523533  \n",
       "2  Kontrastsız   beyin  BT   tetkiki   Kafa kaide...  15/02/2022  12493333  \n",
       "3  Kontrastlı  beyin     BT  İnfratentorial yapıl...  25/05/2023            \n",
       "4  BEYİN BT   Kafa tabanı ve verteks arasından el...  09.08.2021  11338850  "
      ]
     },
     "execution_count": 6,
     "metadata": {},
     "output_type": "execute_result"
    }
   ],
   "source": [
    "# extract relevant information\n",
    "result = df_reports['report_original'].apply(transformation.prepare_data_transformations)\n",
    "df_reports[[\"report_original_clean\", \"report_date\", \"study_no\"]] = pd.DataFrame(\n",
    "    result.tolist(), index=result.index\n",
    ")\n",
    "df_reports.head()"
   ]
  },
  {
   "cell_type": "code",
   "execution_count": 7,
   "metadata": {},
   "outputs": [],
   "source": [
    "# filter\n",
    "query = \"\"\"\n",
    "            SELECT \n",
    "                DISTINCT data ->> 'patient_no' as patient_no\n",
    "            FROM task\n",
    "            WHERE is_labeled = TRUE\n",
    "        \"\"\"\n",
    "\n",
    "# get values from the database\n",
    "annotated_patient_nos = db.read_sql_query(query)[\"patient_no\"].to_list()"
   ]
  },
  {
   "cell_type": "code",
   "execution_count": 8,
   "metadata": {},
   "outputs": [],
   "source": [
    "# filter by non-annotated patients\n",
    "df_reports = df_reports.loc[~df_reports[\"patient_no\"].isin(annotated_patient_nos)]"
   ]
  },
  {
   "cell_type": "code",
   "execution_count": 9,
   "metadata": {},
   "outputs": [],
   "source": [
    "# convert the report date column\n",
    "df_reports['report_date'] = pd.to_datetime(df_reports['report_date'], errors='coerce')"
   ]
  },
  {
   "cell_type": "code",
   "execution_count": 10,
   "metadata": {},
   "outputs": [],
   "source": [
    "# detect report count\n",
    "df_report_count = df_reports.groupby(\"patient_no\").agg(report_count=pd.NamedAgg(column=\"patient_no\", aggfunc=\"count\")).reset_index()"
   ]
  },
  {
   "cell_type": "code",
   "execution_count": 11,
   "metadata": {},
   "outputs": [],
   "source": [
    "# merge report counts & order by report count/date & drop duplicates\n",
    "df_reports = df_reports.drop_duplicates(subset=[\"patient_no\"], keep=\"first\").merge(\n",
    "    df_report_count, on=\"patient_no\", how=\"left\"\n",
    ").sort_values([\"report_count\", \"report_date\"], ascending=[True, True])"
   ]
  },
  {
   "cell_type": "code",
   "execution_count": 12,
   "metadata": {},
   "outputs": [
    {
     "data": {
      "text/plain": [
       "Index(['report_id', 'patient_no', 'full_name', 'report_original',\n",
       "       'report_original_clean', 'report_date', 'study_no', 'report_count'],\n",
       "      dtype='object')"
      ]
     },
     "execution_count": 12,
     "metadata": {},
     "output_type": "execute_result"
    }
   ],
   "source": [
    "df_reports.columns"
   ]
  },
  {
   "cell_type": "code",
   "execution_count": 13,
   "metadata": {},
   "outputs": [],
   "source": [
    "# filter\n",
    "query = \"\"\"\n",
    "            SELECT \n",
    "                report_id\n",
    "            FROM annotation.upload_tasks\n",
    "            WHERE report_english_clean IS NOT NULL \n",
    "        \"\"\"\n",
    "\n",
    "# get values from the database\n",
    "upload_tasks_with_translation = db.read_sql_query(query)[\"report_id\"].to_list()"
   ]
  },
  {
   "cell_type": "code",
   "execution_count": 14,
   "metadata": {},
   "outputs": [],
   "source": [
    "reports_raw, Base = UploadTasksTable()\n",
    "#Base.metadata.create_all(db.engine)"
   ]
  },
  {
   "cell_type": "code",
   "execution_count": 15,
   "metadata": {},
   "outputs": [],
   "source": [
    "# use only non-translated reports\n",
    "df_reports = df_reports.loc[~df_reports[\"report_id\"].isin(upload_tasks_with_translation)].head(\n",
    "    TRANSLATE_N_MORE_REPORTS\n",
    ")"
   ]
  },
  {
   "cell_type": "code",
   "execution_count": 16,
   "metadata": {},
   "outputs": [
    {
     "name": "stderr",
     "output_type": "stream",
     "text": [
      "2023-09-20 15:53:50,252 - Reports - INFO - Report upserted: 21199645\n",
      "2023-09-20 15:54:18,331 - Reports - INFO - Report upserted: 21199484\n"
     ]
    },
    {
     "ename": "KeyboardInterrupt",
     "evalue": "",
     "output_type": "error",
     "traceback": [
      "\u001b[0;31m---------------------------------------------------------------------------\u001b[0m",
      "\u001b[0;31mKeyboardInterrupt\u001b[0m                         Traceback (most recent call last)",
      "\u001b[1;32m/Users/gokasci/Desktop/reports/notebooks/de_1_2_prepare_ls_tasks.ipynb Cell 16\u001b[0m line \u001b[0;36m2\n\u001b[1;32m     <a href='vscode-notebook-cell:/Users/gokasci/Desktop/reports/notebooks/de_1_2_prepare_ls_tasks.ipynb#X20sZmlsZQ%3D%3D?line=20'>21</a>\u001b[0m lg\u001b[39m.\u001b[39mlogger\u001b[39m.\u001b[39minfo(\u001b[39mf\u001b[39m\u001b[39m\"\u001b[39m\u001b[39mReport upserted: \u001b[39m\u001b[39m{\u001b[39;00mrow[\u001b[39m'\u001b[39m\u001b[39mreport_id\u001b[39m\u001b[39m'\u001b[39m]\u001b[39m}\u001b[39;00m\u001b[39m\"\u001b[39m)\n\u001b[1;32m     <a href='vscode-notebook-cell:/Users/gokasci/Desktop/reports/notebooks/de_1_2_prepare_ls_tasks.ipynb#X20sZmlsZQ%3D%3D?line=22'>23</a>\u001b[0m \u001b[39m# openai restriction: 3 RPM\u001b[39;00m\n\u001b[0;32m---> <a href='vscode-notebook-cell:/Users/gokasci/Desktop/reports/notebooks/de_1_2_prepare_ls_tasks.ipynb#X20sZmlsZQ%3D%3D?line=23'>24</a>\u001b[0m time\u001b[39m.\u001b[39;49msleep(\u001b[39m20\u001b[39;49m)\n",
      "\u001b[0;31mKeyboardInterrupt\u001b[0m: "
     ]
    }
   ],
   "source": [
    "cols_to_upsert = df_reports.columns.to_list()\n",
    "cols_to_upsert.remove(\"report_id\")\n",
    "data_to_insert = []\n",
    "for _, row in df_reports.iterrows():\n",
    "\n",
    "    data_to_insert.append(\n",
    "        {\n",
    "            \"report_id\": row[\"report_id\"],\n",
    "            \"patient_no\": row[\"patient_no\"],\n",
    "            \"full_name\": row[\"full_name\"],\n",
    "            \"report_original\": row[\"report_original\"],\n",
    "            \"report_original_clean\": row[\"report_original_clean\"],\n",
    "            \"report_english_clean\": transformation.translate_report(row[\"report_original_clean\"]),\n",
    "            \"study_no\": row[\"study_no\"],\n",
    "            \"report_count\": row[\"report_count\"]\n",
    "        }\n",
    "    )\n",
    "\n",
    "    db.upsert_values(reports_raw, data_to_insert, cols_to_upsert, [\"report_id\"])\n",
    "\n",
    "    lg.logger.info(f\"Report upserted: {row['report_id']}\")\n",
    "\n",
    "    # openai restriction: 3 RPM\n",
    "    time.sleep(20)"
   ]
  }
 ],
 "metadata": {
  "kernelspec": {
   "display_name": ".venv",
   "language": "python",
   "name": "python3"
  },
  "language_info": {
   "codemirror_mode": {
    "name": "ipython",
    "version": 3
   },
   "file_extension": ".py",
   "mimetype": "text/x-python",
   "name": "python",
   "nbconvert_exporter": "python",
   "pygments_lexer": "ipython3",
   "version": "3.11.2"
  },
  "orig_nbformat": 4
 },
 "nbformat": 4,
 "nbformat_minor": 2
}
