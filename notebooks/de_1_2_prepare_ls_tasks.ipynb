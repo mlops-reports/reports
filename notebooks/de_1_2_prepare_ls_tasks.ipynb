{
 "cells": [
  {
   "cell_type": "code",
   "execution_count": 49,
   "metadata": {},
   "outputs": [],
   "source": [
    "import warnings\n",
    "import time\n",
    "\n",
    "import pandas as pd\n",
    "\n",
    "from experiment.utils import dbutils, logger, transformation\n",
    "from experiment.utils.tables.upload_tasks_table import UploadTasksTable"
   ]
  },
  {
   "cell_type": "code",
   "execution_count": 50,
   "metadata": {},
   "outputs": [],
   "source": [
    "# suppress warnings\n",
    "warnings.filterwarnings(\"ignore\", category=UserWarning)"
   ]
  },
  {
   "cell_type": "code",
   "execution_count": 51,
   "metadata": {},
   "outputs": [],
   "source": [
    "db = dbutils.DatabaseUtils()\n",
    "lg = logger.Logger(\n",
    "    logging_level=\"DEBUG\",\n",
    "    output_path=transformation.get_project_root() / \"tmp\" / \"report_translation.log\",\n",
    ")"
   ]
  },
  {
   "cell_type": "code",
   "execution_count": 52,
   "metadata": {},
   "outputs": [],
   "source": [
    "TRANSLATE_N_MORE_REPORTS = 300"
   ]
  },
  {
   "cell_type": "code",
   "execution_count": 53,
   "metadata": {},
   "outputs": [
    {
     "data": {
      "text/html": [
       "<div>\n",
       "<style scoped>\n",
       "    .dataframe tbody tr th:only-of-type {\n",
       "        vertical-align: middle;\n",
       "    }\n",
       "\n",
       "    .dataframe tbody tr th {\n",
       "        vertical-align: top;\n",
       "    }\n",
       "\n",
       "    .dataframe thead th {\n",
       "        text-align: right;\n",
       "    }\n",
       "</style>\n",
       "<table border=\"1\" class=\"dataframe\">\n",
       "  <thead>\n",
       "    <tr style=\"text-align: right;\">\n",
       "      <th></th>\n",
       "      <th>report_id</th>\n",
       "      <th>patient_no</th>\n",
       "      <th>report_original</th>\n",
       "    </tr>\n",
       "  </thead>\n",
       "  <tbody>\n",
       "    <tr>\n",
       "      <th>0</th>\n",
       "      <td>23204350</td>\n",
       "      <td>2008726684</td>\n",
       "      <td>RAPOR TARİHİ:19/11/2022   FİLM NO:\\n\\nBeyin  B...</td>\n",
       "    </tr>\n",
       "    <tr>\n",
       "      <th>1</th>\n",
       "      <td>23072879</td>\n",
       "      <td>2004022945</td>\n",
       "      <td>RAPOR TARİHİ: 13/10/2022   FİLM NO: 12831139\\n...</td>\n",
       "    </tr>\n",
       "    <tr>\n",
       "      <th>2</th>\n",
       "      <td>22123896</td>\n",
       "      <td>2004023205</td>\n",
       "      <td>RAPOR TARİHİ: 27/01/2022   FİLM NO:  \\n\\nKafa ...</td>\n",
       "    </tr>\n",
       "    <tr>\n",
       "      <th>3</th>\n",
       "      <td>24087380</td>\n",
       "      <td>2008742855</td>\n",
       "      <td>RAPOR TARİHİ:17/07/2023   FİLM NO:\\n\\nKontrast...</td>\n",
       "    </tr>\n",
       "    <tr>\n",
       "      <th>4</th>\n",
       "      <td>21367900</td>\n",
       "      <td>2004002609</td>\n",
       "      <td>RAPOR TARİHİ: 09.08.2021     FİLM NO: 11338850...</td>\n",
       "    </tr>\n",
       "  </tbody>\n",
       "</table>\n",
       "</div>"
      ],
      "text/plain": [
       "   report_id  patient_no                                    report_original\n",
       "0   23204350  2008726684  RAPOR TARİHİ:19/11/2022   FİLM NO:\\n\\nBeyin  B...\n",
       "1   23072879  2004022945  RAPOR TARİHİ: 13/10/2022   FİLM NO: 12831139\\n...\n",
       "2   22123896  2004023205  RAPOR TARİHİ: 27/01/2022   FİLM NO:  \\n\\nKafa ...\n",
       "3   24087380  2008742855  RAPOR TARİHİ:17/07/2023   FİLM NO:\\n\\nKontrast...\n",
       "4   21367900  2004002609  RAPOR TARİHİ: 09.08.2021     FİLM NO: 11338850..."
      ]
     },
     "execution_count": 53,
     "metadata": {},
     "output_type": "execute_result"
    }
   ],
   "source": [
    "# get reports directly from database\n",
    "query = \"\"\"\n",
    "            SELECT report_id, patient_no, report_original FROM annotation.reports\n",
    "        \"\"\"\n",
    "\n",
    "# get values from the database\n",
    "df_reports = db.read_sql_query(query)\n",
    "df_reports.head()"
   ]
  },
  {
   "cell_type": "code",
   "execution_count": 54,
   "metadata": {},
   "outputs": [
    {
     "data": {
      "text/html": [
       "<div>\n",
       "<style scoped>\n",
       "    .dataframe tbody tr th:only-of-type {\n",
       "        vertical-align: middle;\n",
       "    }\n",
       "\n",
       "    .dataframe tbody tr th {\n",
       "        vertical-align: top;\n",
       "    }\n",
       "\n",
       "    .dataframe thead th {\n",
       "        text-align: right;\n",
       "    }\n",
       "</style>\n",
       "<table border=\"1\" class=\"dataframe\">\n",
       "  <thead>\n",
       "    <tr style=\"text-align: right;\">\n",
       "      <th></th>\n",
       "      <th>report_id</th>\n",
       "      <th>patient_no</th>\n",
       "      <th>report_original</th>\n",
       "      <th>report_original_clean</th>\n",
       "      <th>report_date</th>\n",
       "      <th>study_no</th>\n",
       "    </tr>\n",
       "  </thead>\n",
       "  <tbody>\n",
       "    <tr>\n",
       "      <th>0</th>\n",
       "      <td>23204350</td>\n",
       "      <td>2008726684</td>\n",
       "      <td>RAPOR TARİHİ:19/11/2022   FİLM NO:\\n\\nBeyin  B...</td>\n",
       "      <td>Beyin  BT Kafa kaidesi ve kalvarial kemik yapı...</td>\n",
       "      <td>19/11/2022</td>\n",
       "      <td></td>\n",
       "    </tr>\n",
       "    <tr>\n",
       "      <th>1</th>\n",
       "      <td>23072879</td>\n",
       "      <td>2004022945</td>\n",
       "      <td>RAPOR TARİHİ: 13/10/2022   FİLM NO: 12831139\\n...</td>\n",
       "      <td>Kafa tabanı ve verteks arasından elde olunan k...</td>\n",
       "      <td>13/10/2022</td>\n",
       "      <td>12831139</td>\n",
       "    </tr>\n",
       "    <tr>\n",
       "      <th>2</th>\n",
       "      <td>22123896</td>\n",
       "      <td>2004023205</td>\n",
       "      <td>RAPOR TARİHİ: 27/01/2022   FİLM NO:  \\n\\nKafa ...</td>\n",
       "      <td>Kafa tabanı ve verteks arasından elde olunan k...</td>\n",
       "      <td>27/01/2022</td>\n",
       "      <td></td>\n",
       "    </tr>\n",
       "    <tr>\n",
       "      <th>3</th>\n",
       "      <td>24087380</td>\n",
       "      <td>2008742855</td>\n",
       "      <td>RAPOR TARİHİ:17/07/2023   FİLM NO:\\n\\nKontrast...</td>\n",
       "      <td>Kontrastsız  beyin     BT   Kafa kaidesi ve ka...</td>\n",
       "      <td>17/07/2023</td>\n",
       "      <td></td>\n",
       "    </tr>\n",
       "    <tr>\n",
       "      <th>4</th>\n",
       "      <td>21367900</td>\n",
       "      <td>2004002609</td>\n",
       "      <td>RAPOR TARİHİ: 09.08.2021     FİLM NO: 11338850...</td>\n",
       "      <td>BEYİN BT   Kafa tabanı ve verteks arasından el...</td>\n",
       "      <td>09.08.2021</td>\n",
       "      <td>11338850</td>\n",
       "    </tr>\n",
       "  </tbody>\n",
       "</table>\n",
       "</div>"
      ],
      "text/plain": [
       "   report_id  patient_no                                    report_original  \\\n",
       "0   23204350  2008726684  RAPOR TARİHİ:19/11/2022   FİLM NO:\\n\\nBeyin  B...   \n",
       "1   23072879  2004022945  RAPOR TARİHİ: 13/10/2022   FİLM NO: 12831139\\n...   \n",
       "2   22123896  2004023205  RAPOR TARİHİ: 27/01/2022   FİLM NO:  \\n\\nKafa ...   \n",
       "3   24087380  2008742855  RAPOR TARİHİ:17/07/2023   FİLM NO:\\n\\nKontrast...   \n",
       "4   21367900  2004002609  RAPOR TARİHİ: 09.08.2021     FİLM NO: 11338850...   \n",
       "\n",
       "                               report_original_clean report_date  study_no  \n",
       "0  Beyin  BT Kafa kaidesi ve kalvarial kemik yapı...  19/11/2022            \n",
       "1  Kafa tabanı ve verteks arasından elde olunan k...  13/10/2022  12831139  \n",
       "2  Kafa tabanı ve verteks arasından elde olunan k...  27/01/2022            \n",
       "3  Kontrastsız  beyin     BT   Kafa kaidesi ve ka...  17/07/2023            \n",
       "4  BEYİN BT   Kafa tabanı ve verteks arasından el...  09.08.2021  11338850  "
      ]
     },
     "execution_count": 54,
     "metadata": {},
     "output_type": "execute_result"
    }
   ],
   "source": [
    "# extract relevant information\n",
    "result = df_reports['report_original'].apply(transformation.prepare_data_transformations)\n",
    "df_reports[[\"report_original_clean\", \"report_date\", \"study_no\"]] = pd.DataFrame(\n",
    "    result.tolist(), index=result.index\n",
    ")\n",
    "df_reports.head()"
   ]
  },
  {
   "cell_type": "code",
   "execution_count": 55,
   "metadata": {},
   "outputs": [],
   "source": [
    "# filter\n",
    "query = \"\"\"\n",
    "            SELECT \n",
    "                DISTINCT data ->> 'patient_no' as patient_no\n",
    "            FROM task\n",
    "            WHERE is_labeled = TRUE\n",
    "        \"\"\"\n",
    "\n",
    "# get values from the database\n",
    "annotated_patient_nos = db.read_sql_query(query)[\"patient_no\"].to_list()"
   ]
  },
  {
   "cell_type": "code",
   "execution_count": 56,
   "metadata": {},
   "outputs": [],
   "source": [
    "# filter by non-annotated patients\n",
    "df_reports = df_reports.loc[~df_reports[\"patient_no\"].isin(annotated_patient_nos)]"
   ]
  },
  {
   "cell_type": "code",
   "execution_count": 57,
   "metadata": {},
   "outputs": [],
   "source": [
    "# convert the report date column\n",
    "df_reports['report_date'] = pd.to_datetime(df_reports['report_date'], errors='coerce')"
   ]
  },
  {
   "cell_type": "code",
   "execution_count": 58,
   "metadata": {},
   "outputs": [],
   "source": [
    "# detect report count\n",
    "df_report_count = df_reports.groupby(\"patient_no\").agg(report_count=pd.NamedAgg(column=\"patient_no\", aggfunc=\"count\")).reset_index()"
   ]
  },
  {
   "cell_type": "code",
   "execution_count": 59,
   "metadata": {},
   "outputs": [],
   "source": [
    "# merge report counts & order by report count/date & drop duplicates\n",
    "df_reports = df_reports.drop_duplicates(subset=[\"patient_no\"], keep=\"first\").merge(\n",
    "    df_report_count, on=\"patient_no\", how=\"left\"\n",
    ").sort_values([\"report_count\", \"report_date\"], ascending=[True, True])"
   ]
  },
  {
   "cell_type": "code",
   "execution_count": 60,
   "metadata": {},
   "outputs": [],
   "source": [
    "# filter\n",
    "query = \"\"\"\n",
    "            SELECT \n",
    "                report_id\n",
    "            FROM annotation.upload_tasks\n",
    "            WHERE report_english_clean IS NOT NULL \n",
    "        \"\"\"\n",
    "\n",
    "# get values from the database\n",
    "upload_tasks_with_translation = db.read_sql_query(query)[\"report_id\"].to_list()"
   ]
  },
  {
   "cell_type": "code",
   "execution_count": 61,
   "metadata": {},
   "outputs": [],
   "source": [
    "reports_raw, Base = UploadTasksTable()\n",
    "#Base.metadata.create_all(db.engine)"
   ]
  },
  {
   "cell_type": "code",
   "execution_count": 62,
   "metadata": {},
   "outputs": [],
   "source": [
    "# use only non-translated reports\n",
    "df_upload_tasks = df_reports.loc[~df_reports[\"report_id\"].isin(upload_tasks_with_translation)].head(\n",
    "    TRANSLATE_N_MORE_REPORTS\n",
    ")"
   ]
  },
  {
   "cell_type": "code",
   "execution_count": 63,
   "metadata": {},
   "outputs": [
    {
     "data": {
      "text/plain": [
       "Index(['report_id', 'patient_no', 'report_original', 'report_original_clean',\n",
       "       'report_date', 'study_no', 'report_count'],\n",
       "      dtype='object')"
      ]
     },
     "execution_count": 63,
     "metadata": {},
     "output_type": "execute_result"
    }
   ],
   "source": [
    "df_upload_tasks.columns"
   ]
  },
  {
   "cell_type": "code",
   "execution_count": 64,
   "metadata": {},
   "outputs": [
    {
     "ename": "RateLimitError",
     "evalue": "Rate limit reached for default-gpt-3.5-turbo in organization org-G5GXNK7ybi1FeYo1ZA7weCK9 on requests per day. Limit: 200 / day. Please try again in 7m12s. Contact us through our help center at help.openai.com if you continue to have issues. Please add a payment method to your account to increase your rate limit. Visit https://platform.openai.com/account/billing to add a payment method.",
     "output_type": "error",
     "traceback": [
      "\u001b[0;31m---------------------------------------------------------------------------\u001b[0m",
      "\u001b[0;31mRateLimitError\u001b[0m                            Traceback (most recent call last)",
      "\u001b[1;32m/Users/gokasci/Desktop/reports/notebooks/de_1_2_prepare_ls_tasks.ipynb Cell 16\u001b[0m line \u001b[0;36m1\n\u001b[1;32m      <a href='vscode-notebook-cell:/Users/gokasci/Desktop/reports/notebooks/de_1_2_prepare_ls_tasks.ipynb#X21sZmlsZQ%3D%3D?line=2'>3</a>\u001b[0m data_to_insert \u001b[39m=\u001b[39m []\n\u001b[1;32m      <a href='vscode-notebook-cell:/Users/gokasci/Desktop/reports/notebooks/de_1_2_prepare_ls_tasks.ipynb#X21sZmlsZQ%3D%3D?line=3'>4</a>\u001b[0m \u001b[39mfor\u001b[39;00m _, row \u001b[39min\u001b[39;00m df_upload_tasks\u001b[39m.\u001b[39miterrows():\n\u001b[1;32m      <a href='vscode-notebook-cell:/Users/gokasci/Desktop/reports/notebooks/de_1_2_prepare_ls_tasks.ipynb#X21sZmlsZQ%3D%3D?line=5'>6</a>\u001b[0m     data_to_insert\u001b[39m.\u001b[39mappend(\n\u001b[1;32m      <a href='vscode-notebook-cell:/Users/gokasci/Desktop/reports/notebooks/de_1_2_prepare_ls_tasks.ipynb#X21sZmlsZQ%3D%3D?line=6'>7</a>\u001b[0m         {\n\u001b[1;32m      <a href='vscode-notebook-cell:/Users/gokasci/Desktop/reports/notebooks/de_1_2_prepare_ls_tasks.ipynb#X21sZmlsZQ%3D%3D?line=7'>8</a>\u001b[0m             \u001b[39m\"\u001b[39m\u001b[39mreport_id\u001b[39m\u001b[39m\"\u001b[39m: row[\u001b[39m\"\u001b[39m\u001b[39mreport_id\u001b[39m\u001b[39m\"\u001b[39m],\n\u001b[1;32m      <a href='vscode-notebook-cell:/Users/gokasci/Desktop/reports/notebooks/de_1_2_prepare_ls_tasks.ipynb#X21sZmlsZQ%3D%3D?line=8'>9</a>\u001b[0m             \u001b[39m\"\u001b[39m\u001b[39mpatient_no\u001b[39m\u001b[39m\"\u001b[39m: row[\u001b[39m\"\u001b[39m\u001b[39mpatient_no\u001b[39m\u001b[39m\"\u001b[39m],\n\u001b[1;32m     <a href='vscode-notebook-cell:/Users/gokasci/Desktop/reports/notebooks/de_1_2_prepare_ls_tasks.ipynb#X21sZmlsZQ%3D%3D?line=9'>10</a>\u001b[0m             \u001b[39m\"\u001b[39m\u001b[39mreport_original\u001b[39m\u001b[39m\"\u001b[39m: row[\u001b[39m\"\u001b[39m\u001b[39mreport_original\u001b[39m\u001b[39m\"\u001b[39m],\n\u001b[1;32m     <a href='vscode-notebook-cell:/Users/gokasci/Desktop/reports/notebooks/de_1_2_prepare_ls_tasks.ipynb#X21sZmlsZQ%3D%3D?line=10'>11</a>\u001b[0m             \u001b[39m\"\u001b[39m\u001b[39mreport_original_clean\u001b[39m\u001b[39m\"\u001b[39m: row[\u001b[39m\"\u001b[39m\u001b[39mreport_original_clean\u001b[39m\u001b[39m\"\u001b[39m],\n\u001b[0;32m---> <a href='vscode-notebook-cell:/Users/gokasci/Desktop/reports/notebooks/de_1_2_prepare_ls_tasks.ipynb#X21sZmlsZQ%3D%3D?line=11'>12</a>\u001b[0m             \u001b[39m\"\u001b[39m\u001b[39mreport_english_clean\u001b[39m\u001b[39m\"\u001b[39m: transformation\u001b[39m.\u001b[39;49mtranslate_report(row[\u001b[39m\"\u001b[39;49m\u001b[39mreport_original_clean\u001b[39;49m\u001b[39m\"\u001b[39;49m]),\n\u001b[1;32m     <a href='vscode-notebook-cell:/Users/gokasci/Desktop/reports/notebooks/de_1_2_prepare_ls_tasks.ipynb#X21sZmlsZQ%3D%3D?line=12'>13</a>\u001b[0m             \u001b[39m\"\u001b[39m\u001b[39mstudy_no\u001b[39m\u001b[39m\"\u001b[39m: row[\u001b[39m\"\u001b[39m\u001b[39mstudy_no\u001b[39m\u001b[39m\"\u001b[39m],\n\u001b[1;32m     <a href='vscode-notebook-cell:/Users/gokasci/Desktop/reports/notebooks/de_1_2_prepare_ls_tasks.ipynb#X21sZmlsZQ%3D%3D?line=13'>14</a>\u001b[0m             \u001b[39m\"\u001b[39m\u001b[39mreport_count\u001b[39m\u001b[39m\"\u001b[39m: row[\u001b[39m\"\u001b[39m\u001b[39mreport_count\u001b[39m\u001b[39m\"\u001b[39m]\n\u001b[1;32m     <a href='vscode-notebook-cell:/Users/gokasci/Desktop/reports/notebooks/de_1_2_prepare_ls_tasks.ipynb#X21sZmlsZQ%3D%3D?line=14'>15</a>\u001b[0m         }\n\u001b[1;32m     <a href='vscode-notebook-cell:/Users/gokasci/Desktop/reports/notebooks/de_1_2_prepare_ls_tasks.ipynb#X21sZmlsZQ%3D%3D?line=15'>16</a>\u001b[0m     )\n\u001b[1;32m     <a href='vscode-notebook-cell:/Users/gokasci/Desktop/reports/notebooks/de_1_2_prepare_ls_tasks.ipynb#X21sZmlsZQ%3D%3D?line=17'>18</a>\u001b[0m     db\u001b[39m.\u001b[39mupsert_values(reports_raw, data_to_insert, cols_to_upsert, [\u001b[39m\"\u001b[39m\u001b[39mreport_id\u001b[39m\u001b[39m\"\u001b[39m])\n\u001b[1;32m     <a href='vscode-notebook-cell:/Users/gokasci/Desktop/reports/notebooks/de_1_2_prepare_ls_tasks.ipynb#X21sZmlsZQ%3D%3D?line=19'>20</a>\u001b[0m     \u001b[39m# openai restriction: 3 RPM\u001b[39;00m\n",
      "File \u001b[0;32m~/Desktop/reports/src/experiment/utils/transformation.py:241\u001b[0m, in \u001b[0;36mtranslate_report\u001b[0;34m(report)\u001b[0m\n\u001b[1;32m    235\u001b[0m text \u001b[39m=\u001b[39m replace_patterns_from_text(text, [\u001b[39m\"\u001b[39m\u001b[39m\\n\u001b[39;00m\u001b[39m\"\u001b[39m, \u001b[39m\"\u001b[39m\u001b[39m*\u001b[39m\u001b[39m\"\u001b[39m], \u001b[39m\"\u001b[39m\u001b[39m \u001b[39m\u001b[39m\"\u001b[39m)\n\u001b[1;32m    236\u001b[0m text \u001b[39m=\u001b[39m replace_patterns_from_text(text, [\u001b[39m\"\u001b[39m\u001b[39m:\u001b[39m\u001b[39m\"\u001b[39m, \u001b[39m\"\u001b[39m\u001b[39m;\u001b[39m\u001b[39m\"\u001b[39m], \u001b[39m\"\u001b[39m\u001b[39m \u001b[39m\u001b[39m\"\u001b[39m)\n\u001b[1;32m    238\u001b[0m film_no, text \u001b[39m=\u001b[39m pattern_find_and_remove(\n\u001b[1;32m    239\u001b[0m     text,\n\u001b[1;32m    240\u001b[0m     film_no_pattern,\n\u001b[0;32m--> 241\u001b[0m )\n\u001b[1;32m    242\u001b[0m rapor_tarihi, text \u001b[39m=\u001b[39m pattern_find_and_remove(text, rapor_tarihi_pattern)\n\u001b[1;32m    244\u001b[0m \u001b[39mreturn\u001b[39;00m text\u001b[39m.\u001b[39mstrip(), rapor_tarihi, film_no\n",
      "File \u001b[0;32m~/Desktop/reports/.venv/lib/python3.11/site-packages/openai/api_resources/chat_completion.py:25\u001b[0m, in \u001b[0;36mChatCompletion.create\u001b[0;34m(cls, *args, **kwargs)\u001b[0m\n\u001b[1;32m     23\u001b[0m \u001b[39mwhile\u001b[39;00m \u001b[39mTrue\u001b[39;00m:\n\u001b[1;32m     24\u001b[0m     \u001b[39mtry\u001b[39;00m:\n\u001b[0;32m---> 25\u001b[0m         \u001b[39mreturn\u001b[39;00m \u001b[39msuper\u001b[39;49m()\u001b[39m.\u001b[39;49mcreate(\u001b[39m*\u001b[39;49margs, \u001b[39m*\u001b[39;49m\u001b[39m*\u001b[39;49mkwargs)\n\u001b[1;32m     26\u001b[0m     \u001b[39mexcept\u001b[39;00m TryAgain \u001b[39mas\u001b[39;00m e:\n\u001b[1;32m     27\u001b[0m         \u001b[39mif\u001b[39;00m timeout \u001b[39mis\u001b[39;00m \u001b[39mnot\u001b[39;00m \u001b[39mNone\u001b[39;00m \u001b[39mand\u001b[39;00m time\u001b[39m.\u001b[39mtime() \u001b[39m>\u001b[39m start \u001b[39m+\u001b[39m timeout:\n",
      "File \u001b[0;32m~/Desktop/reports/.venv/lib/python3.11/site-packages/openai/api_resources/abstract/engine_api_resource.py:153\u001b[0m, in \u001b[0;36mEngineAPIResource.create\u001b[0;34m(cls, api_key, api_base, api_type, request_id, api_version, organization, **params)\u001b[0m\n\u001b[1;32m    127\u001b[0m \u001b[39m@classmethod\u001b[39m\n\u001b[1;32m    128\u001b[0m \u001b[39mdef\u001b[39;00m \u001b[39mcreate\u001b[39m(\n\u001b[1;32m    129\u001b[0m     \u001b[39mcls\u001b[39m,\n\u001b[0;32m   (...)\u001b[0m\n\u001b[1;32m    136\u001b[0m     \u001b[39m*\u001b[39m\u001b[39m*\u001b[39mparams,\n\u001b[1;32m    137\u001b[0m ):\n\u001b[1;32m    138\u001b[0m     (\n\u001b[1;32m    139\u001b[0m         deployment_id,\n\u001b[1;32m    140\u001b[0m         engine,\n\u001b[0;32m   (...)\u001b[0m\n\u001b[1;32m    150\u001b[0m         api_key, api_base, api_type, api_version, organization, \u001b[39m*\u001b[39m\u001b[39m*\u001b[39mparams\n\u001b[1;32m    151\u001b[0m     )\n\u001b[0;32m--> 153\u001b[0m     response, _, api_key \u001b[39m=\u001b[39m requestor\u001b[39m.\u001b[39;49mrequest(\n\u001b[1;32m    154\u001b[0m         \u001b[39m\"\u001b[39;49m\u001b[39mpost\u001b[39;49m\u001b[39m\"\u001b[39;49m,\n\u001b[1;32m    155\u001b[0m         url,\n\u001b[1;32m    156\u001b[0m         params\u001b[39m=\u001b[39;49mparams,\n\u001b[1;32m    157\u001b[0m         headers\u001b[39m=\u001b[39;49mheaders,\n\u001b[1;32m    158\u001b[0m         stream\u001b[39m=\u001b[39;49mstream,\n\u001b[1;32m    159\u001b[0m         request_id\u001b[39m=\u001b[39;49mrequest_id,\n\u001b[1;32m    160\u001b[0m         request_timeout\u001b[39m=\u001b[39;49mrequest_timeout,\n\u001b[1;32m    161\u001b[0m     )\n\u001b[1;32m    163\u001b[0m     \u001b[39mif\u001b[39;00m stream:\n\u001b[1;32m    164\u001b[0m         \u001b[39m# must be an iterator\u001b[39;00m\n\u001b[1;32m    165\u001b[0m         \u001b[39massert\u001b[39;00m \u001b[39mnot\u001b[39;00m \u001b[39misinstance\u001b[39m(response, OpenAIResponse)\n",
      "File \u001b[0;32m~/Desktop/reports/.venv/lib/python3.11/site-packages/openai/api_requestor.py:298\u001b[0m, in \u001b[0;36mAPIRequestor.request\u001b[0;34m(self, method, url, params, headers, files, stream, request_id, request_timeout)\u001b[0m\n\u001b[1;32m    277\u001b[0m \u001b[39mdef\u001b[39;00m \u001b[39mrequest\u001b[39m(\n\u001b[1;32m    278\u001b[0m     \u001b[39mself\u001b[39m,\n\u001b[1;32m    279\u001b[0m     method,\n\u001b[0;32m   (...)\u001b[0m\n\u001b[1;32m    286\u001b[0m     request_timeout: Optional[Union[\u001b[39mfloat\u001b[39m, Tuple[\u001b[39mfloat\u001b[39m, \u001b[39mfloat\u001b[39m]]] \u001b[39m=\u001b[39m \u001b[39mNone\u001b[39;00m,\n\u001b[1;32m    287\u001b[0m ) \u001b[39m-\u001b[39m\u001b[39m>\u001b[39m Tuple[Union[OpenAIResponse, Iterator[OpenAIResponse]], \u001b[39mbool\u001b[39m, \u001b[39mstr\u001b[39m]:\n\u001b[1;32m    288\u001b[0m     result \u001b[39m=\u001b[39m \u001b[39mself\u001b[39m\u001b[39m.\u001b[39mrequest_raw(\n\u001b[1;32m    289\u001b[0m         method\u001b[39m.\u001b[39mlower(),\n\u001b[1;32m    290\u001b[0m         url,\n\u001b[0;32m   (...)\u001b[0m\n\u001b[1;32m    296\u001b[0m         request_timeout\u001b[39m=\u001b[39mrequest_timeout,\n\u001b[1;32m    297\u001b[0m     )\n\u001b[0;32m--> 298\u001b[0m     resp, got_stream \u001b[39m=\u001b[39m \u001b[39mself\u001b[39;49m\u001b[39m.\u001b[39;49m_interpret_response(result, stream)\n\u001b[1;32m    299\u001b[0m     \u001b[39mreturn\u001b[39;00m resp, got_stream, \u001b[39mself\u001b[39m\u001b[39m.\u001b[39mapi_key\n",
      "File \u001b[0;32m~/Desktop/reports/.venv/lib/python3.11/site-packages/openai/api_requestor.py:700\u001b[0m, in \u001b[0;36mAPIRequestor._interpret_response\u001b[0;34m(self, result, stream)\u001b[0m\n\u001b[1;32m    692\u001b[0m     \u001b[39mreturn\u001b[39;00m (\n\u001b[1;32m    693\u001b[0m         \u001b[39mself\u001b[39m\u001b[39m.\u001b[39m_interpret_response_line(\n\u001b[1;32m    694\u001b[0m             line, result\u001b[39m.\u001b[39mstatus_code, result\u001b[39m.\u001b[39mheaders, stream\u001b[39m=\u001b[39m\u001b[39mTrue\u001b[39;00m\n\u001b[1;32m    695\u001b[0m         )\n\u001b[1;32m    696\u001b[0m         \u001b[39mfor\u001b[39;00m line \u001b[39min\u001b[39;00m parse_stream(result\u001b[39m.\u001b[39miter_lines())\n\u001b[1;32m    697\u001b[0m     ), \u001b[39mTrue\u001b[39;00m\n\u001b[1;32m    698\u001b[0m \u001b[39melse\u001b[39;00m:\n\u001b[1;32m    699\u001b[0m     \u001b[39mreturn\u001b[39;00m (\n\u001b[0;32m--> 700\u001b[0m         \u001b[39mself\u001b[39;49m\u001b[39m.\u001b[39;49m_interpret_response_line(\n\u001b[1;32m    701\u001b[0m             result\u001b[39m.\u001b[39;49mcontent\u001b[39m.\u001b[39;49mdecode(\u001b[39m\"\u001b[39;49m\u001b[39mutf-8\u001b[39;49m\u001b[39m\"\u001b[39;49m),\n\u001b[1;32m    702\u001b[0m             result\u001b[39m.\u001b[39;49mstatus_code,\n\u001b[1;32m    703\u001b[0m             result\u001b[39m.\u001b[39;49mheaders,\n\u001b[1;32m    704\u001b[0m             stream\u001b[39m=\u001b[39;49m\u001b[39mFalse\u001b[39;49;00m,\n\u001b[1;32m    705\u001b[0m         ),\n\u001b[1;32m    706\u001b[0m         \u001b[39mFalse\u001b[39;00m,\n\u001b[1;32m    707\u001b[0m     )\n",
      "File \u001b[0;32m~/Desktop/reports/.venv/lib/python3.11/site-packages/openai/api_requestor.py:765\u001b[0m, in \u001b[0;36mAPIRequestor._interpret_response_line\u001b[0;34m(self, rbody, rcode, rheaders, stream)\u001b[0m\n\u001b[1;32m    763\u001b[0m stream_error \u001b[39m=\u001b[39m stream \u001b[39mand\u001b[39;00m \u001b[39m\"\u001b[39m\u001b[39merror\u001b[39m\u001b[39m\"\u001b[39m \u001b[39min\u001b[39;00m resp\u001b[39m.\u001b[39mdata\n\u001b[1;32m    764\u001b[0m \u001b[39mif\u001b[39;00m stream_error \u001b[39mor\u001b[39;00m \u001b[39mnot\u001b[39;00m \u001b[39m200\u001b[39m \u001b[39m<\u001b[39m\u001b[39m=\u001b[39m rcode \u001b[39m<\u001b[39m \u001b[39m300\u001b[39m:\n\u001b[0;32m--> 765\u001b[0m     \u001b[39mraise\u001b[39;00m \u001b[39mself\u001b[39m\u001b[39m.\u001b[39mhandle_error_response(\n\u001b[1;32m    766\u001b[0m         rbody, rcode, resp\u001b[39m.\u001b[39mdata, rheaders, stream_error\u001b[39m=\u001b[39mstream_error\n\u001b[1;32m    767\u001b[0m     )\n\u001b[1;32m    768\u001b[0m \u001b[39mreturn\u001b[39;00m resp\n",
      "\u001b[0;31mRateLimitError\u001b[0m: Rate limit reached for default-gpt-3.5-turbo in organization org-G5GXNK7ybi1FeYo1ZA7weCK9 on requests per day. Limit: 200 / day. Please try again in 7m12s. Contact us through our help center at help.openai.com if you continue to have issues. Please add a payment method to your account to increase your rate limit. Visit https://platform.openai.com/account/billing to add a payment method."
     ]
    }
   ],
   "source": [
    "cols_to_upsert = df_upload_tasks.columns.to_list()\n",
    "cols_to_upsert.remove(\"report_id\")\n",
    "data_to_insert = []\n",
    "for _, row in df_upload_tasks.iterrows():\n",
    "\n",
    "    data_to_insert.append(\n",
    "        {\n",
    "            \"report_id\": row[\"report_id\"],\n",
    "            \"patient_no\": row[\"patient_no\"],\n",
    "            \"report_original\": row[\"report_original\"],\n",
    "            \"report_original_clean\": row[\"report_original_clean\"],\n",
    "            \"report_english_clean\": transformation.translate_report(row[\"report_original_clean\"]),\n",
    "            \"study_no\": row[\"study_no\"],\n",
    "            \"report_count\": row[\"report_count\"]\n",
    "        }\n",
    "    )\n",
    "\n",
    "    db.upsert_values(reports_raw, data_to_insert, cols_to_upsert, [\"report_id\"])\n",
    "\n",
    "    # openai restriction: 3 RPM - 200 RPD\n",
    "    time.sleep(20)"
   ]
  }
 ],
 "metadata": {
  "kernelspec": {
   "display_name": ".venv",
   "language": "python",
   "name": "python3"
  },
  "language_info": {
   "codemirror_mode": {
    "name": "ipython",
    "version": 3
   },
   "file_extension": ".py",
   "mimetype": "text/x-python",
   "name": "python",
   "nbconvert_exporter": "python",
   "pygments_lexer": "ipython3",
   "version": "3.11.2"
  },
  "orig_nbformat": 4
 },
 "nbformat": 4,
 "nbformat_minor": 2
}
