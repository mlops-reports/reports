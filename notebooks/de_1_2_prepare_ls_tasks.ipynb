{
 "cells": [
  {
   "cell_type": "code",
   "execution_count": null,
   "metadata": {},
   "outputs": [],
   "source": [
    "import pandas as pd\n",
    "import warnings\n",
    "\n",
    "from experiment.utils import dbutils\n",
    "from experiment.utils import transformation"
   ]
  },
  {
   "cell_type": "code",
   "execution_count": null,
   "metadata": {},
   "outputs": [],
   "source": [
    "# suppress warnings\n",
    "warnings.filterwarnings(\"ignore\", category=UserWarning)"
   ]
  },
  {
   "cell_type": "code",
   "execution_count": null,
   "metadata": {},
   "outputs": [],
   "source": [
    "db = dbutils.DatabaseUtils()"
   ]
  },
  {
   "cell_type": "code",
   "execution_count": null,
   "metadata": {},
   "outputs": [],
   "source": [
    "# get reports directly from database\n",
    "query = \"\"\"\n",
    "            SELECT * FROM annotation.reports\n",
    "        \"\"\"\n",
    "\n",
    "# get values from the database\n",
    "df_reports = db.read_sql_query(query)\n",
    "df_reports.head()"
   ]
  },
  {
   "cell_type": "code",
   "execution_count": null,
   "metadata": {},
   "outputs": [],
   "source": [
    "df_reports.head()"
   ]
  },
  {
   "cell_type": "code",
   "execution_count": null,
   "metadata": {},
   "outputs": [],
   "source": [
    "# extract relevant information\n",
    "result = df_reports['report'].apply(transformation.prepare_data_transformations)\n",
    "df_reports[[\"text\", \"report_date\", \"study_no\"]] = pd.DataFrame(\n",
    "    result.tolist(), index=result.index\n",
    ")"
   ]
  },
  {
   "cell_type": "code",
   "execution_count": null,
   "metadata": {},
   "outputs": [],
   "source": [
    "df_reports"
   ]
  },
  {
   "cell_type": "code",
   "execution_count": null,
   "metadata": {},
   "outputs": [],
   "source": [
    "# check empty dates\n",
    "(df_reports['report_date'].values == '').sum() "
   ]
  },
  {
   "cell_type": "code",
   "execution_count": null,
   "metadata": {},
   "outputs": [],
   "source": [
    "# filter\n",
    "query = \"\"\"\n",
    "            SELECT \n",
    "                DISTINCT data ->> 'patient_no' as patient_no\n",
    "            FROM task\n",
    "            WHERE is_labeled = TRUE\n",
    "        \"\"\"\n",
    "\n",
    "# get values from the database\n",
    "annotated_patient_nos = db.read_sql_query(query)[\"patient_no\"].to_list()"
   ]
  },
  {
   "cell_type": "code",
   "execution_count": null,
   "metadata": {},
   "outputs": [],
   "source": [
    "# filter by non-annotated patients\n",
    "df_reports = df_reports.loc[~df_reports[\"patient_no\"].isin(annotated_patient_nos)]"
   ]
  },
  {
   "cell_type": "code",
   "execution_count": null,
   "metadata": {},
   "outputs": [],
   "source": [
    "# convert the report date column\n",
    "df_reports['report_date'] = pd.to_datetime(df_reports['report_date'], errors='coerce')"
   ]
  },
  {
   "cell_type": "code",
   "execution_count": null,
   "metadata": {},
   "outputs": [],
   "source": [
    "# detect report count\n",
    "df_report_count = df_reports.groupby(\"patient_no\").agg(report_count=pd.NamedAgg(column=\"patient_no\", aggfunc=\"count\")).reset_index()"
   ]
  },
  {
   "cell_type": "code",
   "execution_count": null,
   "metadata": {},
   "outputs": [],
   "source": [
    "# merge report counts & order by report count/date & drop duplicates\n",
    "df_reports = df_reports.drop_duplicates(subset=[\"patient_no\"], keep=\"first\").merge(\n",
    "    df_report_count, on=\"patient_no\", how=\"left\"\n",
    ").sort_values([\"report_count\", \"report_date\"], ascending=[True, True])"
   ]
  },
  {
   "cell_type": "code",
   "execution_count": null,
   "metadata": {},
   "outputs": [],
   "source": [
    "len(df_reports)"
   ]
  },
  {
   "cell_type": "code",
   "execution_count": null,
   "metadata": {},
   "outputs": [],
   "source": [
    "# convert output df to a csv file\n",
    "df_reports.to_csv(transformation.get_project_root() / \"data\" / \"input\" / \"upload_tasks.csv\")"
   ]
  }
 ],
 "metadata": {
  "kernelspec": {
   "display_name": ".venv",
   "language": "python",
   "name": "python3"
  },
  "language_info": {
   "codemirror_mode": {
    "name": "ipython",
    "version": 3
   },
   "file_extension": ".py",
   "mimetype": "text/x-python",
   "name": "python",
   "nbconvert_exporter": "python",
   "pygments_lexer": "ipython3",
   "version": "3.11.2"
  },
  "orig_nbformat": 4
 },
 "nbformat": 4,
 "nbformat_minor": 2
}
