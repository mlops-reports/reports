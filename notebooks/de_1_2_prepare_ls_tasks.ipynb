{
 "cells": [
  {
   "cell_type": "code",
   "execution_count": 1,
   "metadata": {},
   "outputs": [],
   "source": [
    "import time\n",
    "\n",
    "from experiment.utils import dbutils, logger, transformation\n",
    "from experiment.utils.tables.upload_tasks_table import UploadTasksTable\n",
    "from experiment.api import label_studio"
   ]
  },
  {
   "cell_type": "code",
   "execution_count": 3,
   "metadata": {},
   "outputs": [],
   "source": [
    "db = dbutils.DatabaseUtils()\n",
    "lg = logger.Logger(\n",
    "    logging_level=\"DEBUG\",\n",
    "    output_path=transformation.get_project_root() / \"tmp\" / \"report_prompting.log\",\n",
    ")"
   ]
  },
  {
   "cell_type": "code",
   "execution_count": 2,
   "metadata": {},
   "outputs": [],
   "source": [
    "PROMPT_N_MORE_REPORTS = 200\n",
    "PROMPT = \"Perform the following transformation on the report: Translate into English\" "
   ]
  },
  {
   "cell_type": "code",
   "execution_count": 4,
   "metadata": {},
   "outputs": [],
   "source": [
    "reports_raw, Base = UploadTasksTable()"
   ]
  },
  {
   "cell_type": "code",
   "execution_count": 5,
   "metadata": {},
   "outputs": [
    {
     "name": "stdout",
     "output_type": "stream",
     "text": [
      "\u001b[0m11:52:22  Running with dbt=1.6.1\n",
      "\u001b[0m11:52:22  Registered adapter: postgres=1.6.1\n",
      "\u001b[0m11:52:22  [\u001b[33mWARNING\u001b[0m]: Did not find matching node for patch with name 'annotations' in the 'models' section of file 'models/schema.yml'\n",
      "\u001b[0m11:52:22  Found 8 models, 5 sources, 0 exposures, 0 metrics, 689 macros, 0 groups, 0 semantic models\n",
      "\u001b[0m11:52:22  \n",
      "\u001b[0m11:52:24  Concurrency: 5 threads (target='prod')\n",
      "\u001b[0m11:52:24  \n",
      "\u001b[0m11:52:24  1 of 1 START sql incremental model annotation.upload_tasks ..................... [RUN]\n",
      "\u001b[0m11:52:26  1 of 1 OK created sql incremental model annotation.upload_tasks ................ [\u001b[32mMERGE 25687\u001b[0m in 2.07s]\n",
      "\u001b[0m11:52:27  \n",
      "\u001b[0m11:52:27  Finished running 1 incremental model in 0 hours 0 minutes and 4.44 seconds (4.44s).\n",
      "\u001b[0m11:52:27  \n",
      "\u001b[0m11:52:27  \u001b[32mCompleted successfully\u001b[0m\n",
      "\u001b[0m11:52:27  \n",
      "\u001b[0m11:52:27  Done. PASS=1 WARN=0 ERROR=0 SKIP=0 TOTAL=1\n"
     ]
    }
   ],
   "source": [
    "# # run the dbt model to generate tables from scratch\n",
    "# Base.metadata.create_all(db.engine)\n",
    "# db.run_dbt_model('upload_tasks')"
   ]
  },
  {
   "cell_type": "markdown",
   "metadata": {},
   "source": [
    "### 1) Select Reports"
   ]
  },
  {
   "cell_type": "code",
   "execution_count": 6,
   "metadata": {},
   "outputs": [
    {
     "data": {
      "text/html": [
       "<div>\n",
       "<style scoped>\n",
       "    .dataframe tbody tr th:only-of-type {\n",
       "        vertical-align: middle;\n",
       "    }\n",
       "\n",
       "    .dataframe tbody tr th {\n",
       "        vertical-align: top;\n",
       "    }\n",
       "\n",
       "    .dataframe thead th {\n",
       "        text-align: right;\n",
       "    }\n",
       "</style>\n",
       "<table border=\"1\" class=\"dataframe\">\n",
       "  <thead>\n",
       "    <tr style=\"text-align: right;\">\n",
       "      <th></th>\n",
       "      <th>report_id</th>\n",
       "      <th>patient_no</th>\n",
       "      <th>protocol_no</th>\n",
       "      <th>report_original</th>\n",
       "      <th>report_length</th>\n",
       "      <th>report_prompted</th>\n",
       "      <th>patient_report_count</th>\n",
       "    </tr>\n",
       "  </thead>\n",
       "  <tbody>\n",
       "    <tr>\n",
       "      <th>0</th>\n",
       "      <td>5408</td>\n",
       "      <td>2005183286</td>\n",
       "      <td>21302877</td>\n",
       "      <td>RAPOR TARİHİ: 24.06.2021     FİLM NO: 12217711...</td>\n",
       "      <td>79</td>\n",
       "      <td></td>\n",
       "      <td>27</td>\n",
       "    </tr>\n",
       "    <tr>\n",
       "      <th>1</th>\n",
       "      <td>6125</td>\n",
       "      <td>2006000036</td>\n",
       "      <td>22202602</td>\n",
       "      <td>RAPOR TARİHİ:01/02/2022            TETKİK NO: ...</td>\n",
       "      <td>83</td>\n",
       "      <td></td>\n",
       "      <td>26</td>\n",
       "    </tr>\n",
       "    <tr>\n",
       "      <th>2</th>\n",
       "      <td>16913</td>\n",
       "      <td>2008509284</td>\n",
       "      <td>22344550</td>\n",
       "      <td>RAPOR TARİHİ: 21/02/2022   FİLM NO:12506694\\n\\...</td>\n",
       "      <td>165</td>\n",
       "      <td></td>\n",
       "      <td>20</td>\n",
       "    </tr>\n",
       "    <tr>\n",
       "      <th>3</th>\n",
       "      <td>16909</td>\n",
       "      <td>2008509284</td>\n",
       "      <td>22344550</td>\n",
       "      <td>RAPOR TARİHİ:08/02/2022   FİLM NO:12506525\\n\\n...</td>\n",
       "      <td>113</td>\n",
       "      <td></td>\n",
       "      <td>20</td>\n",
       "    </tr>\n",
       "    <tr>\n",
       "      <th>4</th>\n",
       "      <td>26</td>\n",
       "      <td>2004004697</td>\n",
       "      <td>22023602</td>\n",
       "      <td>RAPOR TARİHİ:27/12/2021   FİLM NO:\\n\\nKontrast...</td>\n",
       "      <td>128</td>\n",
       "      <td></td>\n",
       "      <td>19</td>\n",
       "    </tr>\n",
       "  </tbody>\n",
       "</table>\n",
       "</div>"
      ],
      "text/plain": [
       "   report_id  patient_no  protocol_no  \\\n",
       "0       5408  2005183286     21302877   \n",
       "1       6125  2006000036     22202602   \n",
       "2      16913  2008509284     22344550   \n",
       "3      16909  2008509284     22344550   \n",
       "4         26  2004004697     22023602   \n",
       "\n",
       "                                     report_original  report_length  \\\n",
       "0  RAPOR TARİHİ: 24.06.2021     FİLM NO: 12217711...             79   \n",
       "1  RAPOR TARİHİ:01/02/2022            TETKİK NO: ...             83   \n",
       "2  RAPOR TARİHİ: 21/02/2022   FİLM NO:12506694\\n\\...            165   \n",
       "3  RAPOR TARİHİ:08/02/2022   FİLM NO:12506525\\n\\n...            113   \n",
       "4  RAPOR TARİHİ:27/12/2021   FİLM NO:\\n\\nKontrast...            128   \n",
       "\n",
       "  report_prompted  patient_report_count  \n",
       "0                                    27  \n",
       "1                                    26  \n",
       "2                                    20  \n",
       "3                                    20  \n",
       "4                                    19  "
      ]
     },
     "execution_count": 6,
     "metadata": {},
     "output_type": "execute_result"
    }
   ],
   "source": [
    "# get reports directly from database\n",
    "query = \"\"\"\n",
    "            SELECT * FROM annotation.upload_tasks ut \n",
    "            ORDER BY patient_report_count DESC, report_length DESC \n",
    "        \"\"\"\n",
    "\n",
    "# get values from the database\n",
    "df_reports = db.read_sql_query(query)\n",
    "df_reports.head()"
   ]
  },
  {
   "cell_type": "code",
   "execution_count": 7,
   "metadata": {},
   "outputs": [],
   "source": [
    "# get annotated reports \n",
    "query = \"\"\"\n",
    "            SELECT \n",
    "                DISTINCT data ->> 'patient_no' as patient_no\n",
    "            FROM task\n",
    "            WHERE is_labeled = TRUE\n",
    "        \"\"\"\n",
    "\n",
    "# get values from the database\n",
    "annotated_patient_nos = db.read_sql_query(query)[\"patient_no\"].to_list()"
   ]
  },
  {
   "cell_type": "code",
   "execution_count": 8,
   "metadata": {},
   "outputs": [],
   "source": [
    "# get tasks that have been prompted\n",
    "query = \"\"\"\n",
    "            SELECT \n",
    "                report_id\n",
    "            FROM annotation.upload_tasks\n",
    "            WHERE report_prompted != '' \n",
    "        \"\"\"\n",
    "\n",
    "# get values from the database\n",
    "upload_tasks_prompted = db.read_sql_query(query)[\"report_id\"].to_list()"
   ]
  },
  {
   "cell_type": "code",
   "execution_count": 9,
   "metadata": {},
   "outputs": [],
   "source": [
    "# use only non-prompted reports & non-annotated patients\n",
    "df_upload_tasks = (\n",
    "    df_reports.loc[~df_reports[\"patient_no\"].isin(annotated_patient_nos)]\n",
    "    .loc[~df_reports[\"report_id\"].isin(upload_tasks_prompted)]\n",
    "    .head(PROMPT_N_MORE_REPORTS)\n",
    ")"
   ]
  },
  {
   "cell_type": "markdown",
   "metadata": {},
   "source": [
    "### 2) Prompt Reports"
   ]
  },
  {
   "cell_type": "code",
   "execution_count": 10,
   "metadata": {},
   "outputs": [],
   "source": [
    "cols_to_upsert = df_upload_tasks.columns.to_list()\n",
    "cols_to_upsert.remove(\"report_id\")\n",
    "data_to_insert = []\n",
    "for _, row in df_upload_tasks.iterrows():\n",
    "    data_to_insert.append(\n",
    "        {\n",
    "            \"report_id\": row[\"report_id\"],\n",
    "            \"patient_no\": row[\"patient_no\"],\n",
    "            \"protocol_no\": row[\"protocol_no\"],\n",
    "            \"report_original\": row[\"report_original\"],\n",
    "            \"report_prompted\": transformation.prompt_report(\n",
    "                row[\"report_original\"], prompt=PROMPT\n",
    "            ),\n",
    "            \"report_length\": row[\"report_length\"],\n",
    "            \"patient_report_count\": row[\"patient_report_count\"],\n",
    "        }\n",
    "    )\n",
    "\n",
    "    db.upsert_values(reports_raw, data_to_insert, cols_to_upsert, [\"report_id\"])\n",
    "\n",
    "    # openai restriction: 3 RPM - 200 RPD\n",
    "    time.sleep(20)"
   ]
  },
  {
   "cell_type": "markdown",
   "metadata": {},
   "source": [
    "### 3) Upload Tasks to Label Studio"
   ]
  },
  {
   "cell_type": "code",
   "execution_count": null,
   "metadata": {},
   "outputs": [],
   "source": [
    "# get reports directly from database\n",
    "query = \"\"\"\n",
    "            SELECT\n",
    "                report_id,\n",
    "                patient_no,\n",
    "                protocol_no,\n",
    "                report_original,\n",
    "                report_prompted as text,\n",
    "                report_length,\n",
    "                patient_report_count\n",
    "            FROM\n",
    "                annotation.upload_tasks\n",
    "            WHERE\n",
    "                report_id NOT IN (\n",
    "                SELECT\n",
    "                    (DATA ->> 'report_id')::INT AS report_id\n",
    "                FROM\n",
    "                    public.task)\n",
    "                AND report_prompted != ''\n",
    "        \"\"\"\n",
    "\n",
    "# get values from the database\n",
    "df_upload_tasks = db.read_sql_query(query)\n",
    "\n",
    "# output tasks as a csv file\n",
    "output_path = (\n",
    "    transformation.get_project_root() / \"tmp\" / \"data\" / \"upload_tasks.csv\"\n",
    ")\n",
    "df_upload_tasks.to_csv(output_path, index=False)\n",
    "df_upload_tasks"
   ]
  },
  {
   "cell_type": "code",
   "execution_count": null,
   "metadata": {},
   "outputs": [],
   "source": [
    "# upload tasks to label studio\n",
    "label_studio.upload_csv_tasks(csv_path=output_path, project_id=7)"
   ]
  },
  {
   "cell_type": "code",
   "execution_count": null,
   "metadata": {},
   "outputs": [],
   "source": [
    "label_studio.stop_label_studio()"
   ]
  }
 ],
 "metadata": {
  "kernelspec": {
   "display_name": ".venv",
   "language": "python",
   "name": "python3"
  },
  "language_info": {
   "codemirror_mode": {
    "name": "ipython",
    "version": 3
   },
   "file_extension": ".py",
   "mimetype": "text/x-python",
   "name": "python",
   "nbconvert_exporter": "python",
   "pygments_lexer": "ipython3",
   "version": "3.11.2"
  },
  "orig_nbformat": 4
 },
 "nbformat": 4,
 "nbformat_minor": 2
}
