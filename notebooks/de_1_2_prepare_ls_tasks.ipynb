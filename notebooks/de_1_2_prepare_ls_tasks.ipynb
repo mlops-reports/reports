{
 "cells": [
  {
   "cell_type": "code",
   "execution_count": 11,
   "metadata": {},
   "outputs": [],
   "source": [
    "import time\n",
    "import datetime\n",
    "\n",
    "from experiment.utils import dbutils, logger, transformation\n",
    "from experiment.utils.tables.upload_tasks_table import UploadTasksTable\n",
    "from experiment.api import label_studio\n",
    "\n",
    "import openai"
   ]
  },
  {
   "cell_type": "code",
   "execution_count": 12,
   "metadata": {},
   "outputs": [],
   "source": [
    "db = dbutils.DatabaseUtils()\n",
    "lg = logger.Logger(\n",
    "    logging_level=\"DEBUG\",\n",
    "    log_file=transformation.get_project_root() / \"tmp\" / \"report_prompting.log\",\n",
    ")"
   ]
  },
  {
   "cell_type": "code",
   "execution_count": 13,
   "metadata": {},
   "outputs": [],
   "source": [
    "PROMPT_N_MORE_REPORTS = 200\n",
    "PROMPT = \"Perform the following transformation on the report: Translate into English\" "
   ]
  },
  {
   "cell_type": "code",
   "execution_count": 14,
   "metadata": {},
   "outputs": [],
   "source": [
    "reports_raw, Base = UploadTasksTable()"
   ]
  },
  {
   "cell_type": "code",
   "execution_count": 15,
   "metadata": {},
   "outputs": [
    {
     "name": "stderr",
     "output_type": "stream",
     "text": [
      "run.sh: line 1: .venv/bin/activate: No such file or directory\n"
     ]
    },
    {
     "name": "stdout",
     "output_type": "stream",
     "text": [
      "\u001b[0m13:38:01  Running with dbt=1.6.1\n",
      "\u001b[0m13:38:01  Registered adapter: postgres=1.6.1\n",
      "\u001b[0m13:38:02  [\u001b[33mWARNING\u001b[0m]: Did not find matching node for patch with name 'annotations' in the 'models' section of file 'models/schema.yml'\n",
      "\u001b[0m13:38:02  Found 8 models, 3 sources, 0 exposures, 0 metrics, 689 macros, 0 groups, 0 semantic models\n",
      "\u001b[0m13:38:02  \n",
      "\u001b[0m13:38:04  Concurrency: 5 threads (target='prod')\n",
      "\u001b[0m13:38:04  \n",
      "\u001b[0m13:38:04  1 of 3 START sql view model annotation.stg_reports ............................. [RUN]\n",
      "\u001b[0m13:38:04  1 of 3 OK created sql view model annotation.stg_reports ........................ [\u001b[32mCREATE VIEW\u001b[0m in 0.82s]\n",
      "\u001b[0m13:38:04  2 of 3 START sql table model annotation.reports ................................ [RUN]\n",
      "\u001b[0m13:38:06  2 of 3 OK created sql table model annotation.reports ........................... [\u001b[32mSELECT 32132\u001b[0m in 1.13s]\n",
      "\u001b[0m13:38:06  3 of 3 START sql incremental model annotation.upload_tasks ..................... [RUN]\n",
      "\u001b[0m13:38:08  3 of 3 OK created sql incremental model annotation.upload_tasks ................ [\u001b[32mMERGE 25687\u001b[0m in 2.09s]\n",
      "\u001b[0m13:38:08  \n",
      "\u001b[0m13:38:08  Finished running 1 view model, 1 table model, 1 incremental model in 0 hours 0 minutes and 6.30 seconds (6.30s).\n",
      "\u001b[0m13:38:08  \n",
      "\u001b[0m13:38:08  \u001b[32mCompleted successfully\u001b[0m\n",
      "\u001b[0m13:38:08  \n",
      "\u001b[0m13:38:08  Done. PASS=3 WARN=0 ERROR=0 SKIP=0 TOTAL=3\n",
      "\u001b[0m13:38:10  Running with dbt=1.6.1\n",
      "\u001b[0m13:38:10  Registered adapter: postgres=1.6.1\n",
      "\u001b[0m13:38:10  [\u001b[33mWARNING\u001b[0m]: Did not find matching node for patch with name 'annotations' in the 'models' section of file 'models/schema.yml'\n",
      "\u001b[0m13:38:10  Found 8 models, 3 sources, 0 exposures, 0 metrics, 689 macros, 0 groups, 0 semantic models\n",
      "\u001b[0m13:38:10  \n",
      "\u001b[0m13:38:12  Concurrency: 1 threads (target='prod')\n",
      "\u001b[0m13:38:12  \n",
      "\u001b[0m13:38:12  1 of 5 START sql view model annotation.stg_task_completion ..................... [RUN]\n",
      "\u001b[0m13:38:13  1 of 5 OK created sql view model annotation.stg_task_completion ................ [\u001b[32mCREATE VIEW\u001b[0m in 0.81s]\n",
      "\u001b[0m13:38:13  2 of 5 START sql incremental model annotation.tasks ............................ [RUN]\n",
      "\u001b[0m13:38:14  2 of 5 OK created sql incremental model annotation.tasks ....................... [\u001b[32mSELECT 577\u001b[0m in 0.86s]\n",
      "\u001b[0m13:38:14  3 of 5 START sql incremental model annotation.choices .......................... [RUN]\n",
      "\u001b[0m13:38:15  3 of 5 OK created sql incremental model annotation.choices ..................... [\u001b[32mSELECT 65\u001b[0m in 0.93s]\n",
      "\u001b[0m13:38:15  4 of 5 START sql incremental model annotation.labels ........................... [RUN]\n",
      "\u001b[0m13:38:16  4 of 5 OK created sql incremental model annotation.labels ...................... [\u001b[32mSELECT 52\u001b[0m in 0.92s]\n",
      "\u001b[0m13:38:16  5 of 5 START sql incremental model annotation.textareas ........................ [RUN]\n",
      "\u001b[0m13:38:17  5 of 5 OK created sql incremental model annotation.textareas ................... [\u001b[32mSELECT 38\u001b[0m in 0.86s]\n",
      "\u001b[0m13:38:17  \n",
      "\u001b[0m13:38:17  Finished running 1 view model, 4 incremental models in 0 hours 0 minutes and 6.69 seconds (6.69s).\n",
      "\u001b[0m13:38:17  \n",
      "\u001b[0m13:38:17  \u001b[32mCompleted successfully\u001b[0m\n",
      "\u001b[0m13:38:17  \n",
      "\u001b[0m13:38:17  Done. PASS=5 WARN=0 ERROR=0 SKIP=0 TOTAL=5\n"
     ]
    },
    {
     "name": "stderr",
     "output_type": "stream",
     "text": [
      "DeprecationWarning: 'source deactivate' is deprecated. Use 'conda deactivate'.\n"
     ]
    }
   ],
   "source": [
    "# generate annotation tables\n",
    "# Base.metadata.create_all(db.engine)\n",
    "\n",
    "db.run_dbt_model('all')"
   ]
  },
  {
   "cell_type": "markdown",
   "metadata": {},
   "source": [
    "### 1) Select Reports"
   ]
  },
  {
   "cell_type": "code",
   "execution_count": 16,
   "metadata": {},
   "outputs": [
    {
     "data": {
      "text/html": [
       "<div>\n",
       "<style scoped>\n",
       "    .dataframe tbody tr th:only-of-type {\n",
       "        vertical-align: middle;\n",
       "    }\n",
       "\n",
       "    .dataframe tbody tr th {\n",
       "        vertical-align: top;\n",
       "    }\n",
       "\n",
       "    .dataframe thead th {\n",
       "        text-align: right;\n",
       "    }\n",
       "</style>\n",
       "<table border=\"1\" class=\"dataframe\">\n",
       "  <thead>\n",
       "    <tr style=\"text-align: right;\">\n",
       "      <th></th>\n",
       "      <th>report_id</th>\n",
       "      <th>patient_no</th>\n",
       "      <th>protocol_no</th>\n",
       "      <th>report_original</th>\n",
       "      <th>report_length</th>\n",
       "      <th>report_prompted</th>\n",
       "      <th>patient_report_count</th>\n",
       "    </tr>\n",
       "  </thead>\n",
       "  <tbody>\n",
       "    <tr>\n",
       "      <th>0</th>\n",
       "      <td>5408</td>\n",
       "      <td>2005183286</td>\n",
       "      <td>21302877</td>\n",
       "      <td>RAPOR TARİHİ: 24.06.2021     FİLM NO: 12217711...</td>\n",
       "      <td>79</td>\n",
       "      <td>REPORT DATE: 24.06.2021     FILM NO: 12217711\\...</td>\n",
       "      <td>27</td>\n",
       "    </tr>\n",
       "    <tr>\n",
       "      <th>1</th>\n",
       "      <td>6125</td>\n",
       "      <td>2006000036</td>\n",
       "      <td>22202602</td>\n",
       "      <td>RAPOR TARİHİ:01/02/2022            TETKİK NO: ...</td>\n",
       "      <td>83</td>\n",
       "      <td>REPORT DATE: 01/02/2022            EXAMINATION...</td>\n",
       "      <td>26</td>\n",
       "    </tr>\n",
       "    <tr>\n",
       "      <th>2</th>\n",
       "      <td>16913</td>\n",
       "      <td>2008509284</td>\n",
       "      <td>22344550</td>\n",
       "      <td>RAPOR TARİHİ: 21/02/2022   FİLM NO:12506694\\n\\...</td>\n",
       "      <td>165</td>\n",
       "      <td>REPORT DATE: 02/21/2022   FILM NUMBER: 1250669...</td>\n",
       "      <td>20</td>\n",
       "    </tr>\n",
       "    <tr>\n",
       "      <th>3</th>\n",
       "      <td>16909</td>\n",
       "      <td>2008509284</td>\n",
       "      <td>22344550</td>\n",
       "      <td>RAPOR TARİHİ:08/02/2022   FİLM NO:12506525\\n\\n...</td>\n",
       "      <td>113</td>\n",
       "      <td>REPORT DATE: 08/02/2022   FILM NO: 12506525\\n\\...</td>\n",
       "      <td>20</td>\n",
       "    </tr>\n",
       "    <tr>\n",
       "      <th>4</th>\n",
       "      <td>26</td>\n",
       "      <td>2004004697</td>\n",
       "      <td>22023602</td>\n",
       "      <td>RAPOR TARİHİ:27/12/2021   FİLM NO:\\n\\nKontrast...</td>\n",
       "      <td>128</td>\n",
       "      <td>REPORT DATE: 27/12/2021   FILM NO:\\n \\nPlain b...</td>\n",
       "      <td>19</td>\n",
       "    </tr>\n",
       "  </tbody>\n",
       "</table>\n",
       "</div>"
      ],
      "text/plain": [
       "   report_id  patient_no  protocol_no  \\\n",
       "0       5408  2005183286     21302877   \n",
       "1       6125  2006000036     22202602   \n",
       "2      16913  2008509284     22344550   \n",
       "3      16909  2008509284     22344550   \n",
       "4         26  2004004697     22023602   \n",
       "\n",
       "                                     report_original  report_length  \\\n",
       "0  RAPOR TARİHİ: 24.06.2021     FİLM NO: 12217711...             79   \n",
       "1  RAPOR TARİHİ:01/02/2022            TETKİK NO: ...             83   \n",
       "2  RAPOR TARİHİ: 21/02/2022   FİLM NO:12506694\\n\\...            165   \n",
       "3  RAPOR TARİHİ:08/02/2022   FİLM NO:12506525\\n\\n...            113   \n",
       "4  RAPOR TARİHİ:27/12/2021   FİLM NO:\\n\\nKontrast...            128   \n",
       "\n",
       "                                     report_prompted  patient_report_count  \n",
       "0  REPORT DATE: 24.06.2021     FILM NO: 12217711\\...                    27  \n",
       "1  REPORT DATE: 01/02/2022            EXAMINATION...                    26  \n",
       "2  REPORT DATE: 02/21/2022   FILM NUMBER: 1250669...                    20  \n",
       "3  REPORT DATE: 08/02/2022   FILM NO: 12506525\\n\\...                    20  \n",
       "4  REPORT DATE: 27/12/2021   FILM NO:\\n \\nPlain b...                    19  "
      ]
     },
     "execution_count": 16,
     "metadata": {},
     "output_type": "execute_result"
    }
   ],
   "source": [
    "# get reports directly from database\n",
    "query = \"\"\"\n",
    "            SELECT * FROM annotation.upload_tasks ut \n",
    "            ORDER BY patient_report_count DESC, report_length DESC \n",
    "        \"\"\"\n",
    "\n",
    "# get values from the database\n",
    "df_reports = db.read_sql_query(query)\n",
    "df_reports.head()"
   ]
  },
  {
   "cell_type": "code",
   "execution_count": 17,
   "metadata": {},
   "outputs": [],
   "source": [
    "# get annotated reports \n",
    "query = \"\"\"\n",
    "            SELECT \n",
    "                DISTINCT data ->> 'patient_no' as patient_no\n",
    "            FROM task\n",
    "            WHERE is_labeled = TRUE\n",
    "        \"\"\"\n",
    "\n",
    "# get values from the database\n",
    "annotated_patient_nos = db.read_sql_query(query)[\"patient_no\"].to_list()"
   ]
  },
  {
   "cell_type": "code",
   "execution_count": 18,
   "metadata": {},
   "outputs": [],
   "source": [
    "# get tasks that have been prompted\n",
    "query = \"\"\"\n",
    "            SELECT \n",
    "                report_id\n",
    "            FROM annotation.upload_tasks\n",
    "            WHERE report_prompted != '' \n",
    "        \"\"\"\n",
    "\n",
    "# get values from the database\n",
    "upload_tasks_prompted = db.read_sql_query(query)[\"report_id\"].to_list()"
   ]
  },
  {
   "cell_type": "code",
   "execution_count": 19,
   "metadata": {},
   "outputs": [],
   "source": [
    "# use only non-prompted reports & non-annotated patients\n",
    "df_upload_tasks = (\n",
    "    df_reports.loc[~df_reports[\"patient_no\"].isin(annotated_patient_nos)]\n",
    "    .loc[~df_reports[\"report_id\"].isin(upload_tasks_prompted)]\n",
    "    .head(PROMPT_N_MORE_REPORTS)\n",
    ")"
   ]
  },
  {
   "cell_type": "markdown",
   "metadata": {},
   "source": [
    "### 2) Prompt Reports"
   ]
  },
  {
   "cell_type": "code",
   "execution_count": 20,
   "metadata": {},
   "outputs": [],
   "source": [
    "cols_to_upsert = df_upload_tasks.columns.to_list()\n",
    "cols_to_upsert.remove(\"report_id\")\n",
    "data_to_insert = []\n",
    "for _, row in df_upload_tasks.iterrows():\n",
    "    try:\n",
    "        data_to_insert.append(\n",
    "            {\n",
    "                \"report_id\": row[\"report_id\"],\n",
    "                \"patient_no\": row[\"patient_no\"],\n",
    "                \"protocol_no\": row[\"protocol_no\"],\n",
    "                \"report_original\": row[\"report_original\"],\n",
    "                \"report_prompted\": transformation.prompt_report(\n",
    "                    report=row[\"report_original\"], prompt=PROMPT\n",
    "                ),\n",
    "                \"report_length\": row[\"report_length\"],\n",
    "                \"patient_report_count\": row[\"patient_report_count\"],\n",
    "            }\n",
    "        )\n",
    "    \n",
    "\n",
    "        db.upsert_values(reports_raw, data_to_insert, cols_to_upsert, [\"report_id\"])\n",
    "\n",
    "        time.sleep(20)\n",
    "    except openai.error.RateLimitError as rate_error:\n",
    "        # openai restriction: 3 RPM - 200 RPD\n",
    "        lg.log(f\"Rate limit for: {datetime.datetime.now()}\", \"WARNING\")\n",
    "\n",
    "lg.log(f\"Finished prompting {len(data_to_insert)} reports\")"
   ]
  },
  {
   "cell_type": "markdown",
   "metadata": {},
   "source": [
    "### 3) Upload Tasks to Label Studio"
   ]
  },
  {
   "cell_type": "code",
   "execution_count": null,
   "metadata": {},
   "outputs": [],
   "source": [
    "# get reports directly from database\n",
    "query = \"\"\"\n",
    "            SELECT\n",
    "                report_id,\n",
    "                patient_no,\n",
    "                protocol_no,\n",
    "                report_original,\n",
    "                report_prompted as text,\n",
    "                report_length,\n",
    "                patient_report_count\n",
    "            FROM\n",
    "                annotation.upload_tasks\n",
    "            WHERE\n",
    "                report_id NOT IN (\n",
    "                SELECT\n",
    "                    (DATA ->> 'report_id')::INT AS report_id\n",
    "                FROM\n",
    "                    public.task)\n",
    "                AND report_prompted != ''\n",
    "        \"\"\"\n",
    "\n",
    "# get values from the database\n",
    "df_upload_tasks = db.read_sql_query(query)\n",
    "\n",
    "# output tasks as a csv file\n",
    "output_path = (\n",
    "    transformation.get_project_root() / \"tmp\" / \"data\" / \"upload_tasks.csv\"\n",
    ")\n",
    "df_upload_tasks.to_csv(output_path, index=False)"
   ]
  },
  {
   "cell_type": "code",
   "execution_count": null,
   "metadata": {},
   "outputs": [
    {
     "name": "stderr",
     "output_type": "stream",
     "text": [
      "Scaling dynos... done, now running \u001b[32mweb\u001b[39m at 1:Basic\n",
      "  % Total    % Received % Xferd  Average Speed   Time    Time     Time  Current\n",
      "                                 Dload  Upload   Total   Spent    Left  Speed\n",
      "  0     0    0     0    0     0      0      0 --:--:-- --:--:-- --:--:--     0"
     ]
    },
    {
     "name": "stdout",
     "output_type": "stream",
     "text": [
      "{\"task_count\":39,\"annotation_count\":0,\"prediction_count\":0,\"duration\":0.2435135841369629,\"file_upload_ids\":[42],\"could_be_tasks_list\":true,\"found_formats\":{\".csv\":1},\"data_columns\":[\"report_id\",\"text\",\"patient_no\",\"report_length\",\"report_original\",\"patient_report_count\",\"protocol_no\"]}"
     ]
    },
    {
     "name": "stderr",
     "output_type": "stream",
     "text": [
      "100 79456  100   286  100 79170    417   112k --:--:-- --:--:-- --:--:--  114k\n"
     ]
    }
   ],
   "source": [
    "# upload tasks to label studio\n",
    "label_studio.upload_csv_tasks(csv_path=output_path, project_id=7)"
   ]
  },
  {
   "cell_type": "code",
   "execution_count": null,
   "metadata": {},
   "outputs": [
    {
     "name": "stderr",
     "output_type": "stream",
     "text": [
      "Scaling dynos... done, now running \u001b[32mweb\u001b[39m at 0:Basic\n"
     ]
    }
   ],
   "source": [
    "label_studio.stop_label_studio()"
   ]
  }
 ],
 "metadata": {
  "kernelspec": {
   "display_name": ".venv",
   "language": "python",
   "name": "python3"
  },
  "language_info": {
   "codemirror_mode": {
    "name": "ipython",
    "version": 3
   },
   "file_extension": ".py",
   "mimetype": "text/x-python",
   "name": "python",
   "nbconvert_exporter": "python",
   "pygments_lexer": "ipython3",
   "version": "3.11.4"
  },
  "orig_nbformat": 4
 },
 "nbformat": 4,
 "nbformat_minor": 2
}
