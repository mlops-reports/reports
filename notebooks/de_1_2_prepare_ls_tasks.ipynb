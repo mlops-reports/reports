{
 "cells": [
  {
   "cell_type": "code",
   "execution_count": 1,
   "metadata": {},
   "outputs": [],
   "source": [
    "import pandas as pd\n",
    "import warnings\n",
    "\n",
    "from experiment.utils import dbutils\n",
    "from experiment.utils import transformation\n",
    "\n",
    "from experiment.utils.tables.upload_tasks_table import UploadTasksTable"
   ]
  },
  {
   "cell_type": "code",
   "execution_count": 2,
   "metadata": {},
   "outputs": [],
   "source": [
    "# suppress warnings\n",
    "warnings.filterwarnings(\"ignore\", category=UserWarning)"
   ]
  },
  {
   "cell_type": "code",
   "execution_count": 3,
   "metadata": {},
   "outputs": [],
   "source": [
    "db = dbutils.DatabaseUtils()"
   ]
  },
  {
   "cell_type": "code",
   "execution_count": 4,
   "metadata": {},
   "outputs": [
    {
     "data": {
      "text/html": [
       "<div>\n",
       "<style scoped>\n",
       "    .dataframe tbody tr th:only-of-type {\n",
       "        vertical-align: middle;\n",
       "    }\n",
       "\n",
       "    .dataframe tbody tr th {\n",
       "        vertical-align: top;\n",
       "    }\n",
       "\n",
       "    .dataframe thead th {\n",
       "        text-align: right;\n",
       "    }\n",
       "</style>\n",
       "<table border=\"1\" class=\"dataframe\">\n",
       "  <thead>\n",
       "    <tr style=\"text-align: right;\">\n",
       "      <th></th>\n",
       "      <th>report_id</th>\n",
       "      <th>patient_no</th>\n",
       "      <th>full_name</th>\n",
       "      <th>report_original</th>\n",
       "      <th>report_english</th>\n",
       "    </tr>\n",
       "  </thead>\n",
       "  <tbody>\n",
       "    <tr>\n",
       "      <th>0</th>\n",
       "      <td>23012646</td>\n",
       "      <td>2004001412</td>\n",
       "      <td>SADİ İYEM</td>\n",
       "      <td>RAPOR TARİHİ: 26/09/2022   FİLM NO: 12796199\\n...</td>\n",
       "      <td>None</td>\n",
       "    </tr>\n",
       "    <tr>\n",
       "      <th>1</th>\n",
       "      <td>22394628</td>\n",
       "      <td>2004001562</td>\n",
       "      <td>İLKNUR ERTENER</td>\n",
       "      <td>RAPOR TARİHİ: 15.03.2022    FİLM NO: 12523533\\...</td>\n",
       "      <td>None</td>\n",
       "    </tr>\n",
       "    <tr>\n",
       "      <th>2</th>\n",
       "      <td>22296380</td>\n",
       "      <td>2004001709</td>\n",
       "      <td>VEHBİYE AKBALIK</td>\n",
       "      <td>RAPOR TARİHİ:15/02/2022   FİLM NO:12493333\\n\\n...</td>\n",
       "      <td>None</td>\n",
       "    </tr>\n",
       "    <tr>\n",
       "      <th>3</th>\n",
       "      <td>23963976</td>\n",
       "      <td>2004002163</td>\n",
       "      <td>HAVVA AYDIN</td>\n",
       "      <td>RAPOR TARİHİ: 25/05/2023   FİLM NO:\\n\\nKontras...</td>\n",
       "      <td>None</td>\n",
       "    </tr>\n",
       "    <tr>\n",
       "      <th>4</th>\n",
       "      <td>21367900</td>\n",
       "      <td>2004002609</td>\n",
       "      <td>ZEYNEP YEŞİLOVA</td>\n",
       "      <td>RAPOR TARİHİ: 09.08.2021     FİLM NO: 11338850...</td>\n",
       "      <td>None</td>\n",
       "    </tr>\n",
       "  </tbody>\n",
       "</table>\n",
       "</div>"
      ],
      "text/plain": [
       "   report_id  patient_no        full_name  \\\n",
       "0   23012646  2004001412        SADİ İYEM   \n",
       "1   22394628  2004001562   İLKNUR ERTENER   \n",
       "2   22296380  2004001709  VEHBİYE AKBALIK   \n",
       "3   23963976  2004002163      HAVVA AYDIN   \n",
       "4   21367900  2004002609  ZEYNEP YEŞİLOVA   \n",
       "\n",
       "                                     report_original report_english  \n",
       "0  RAPOR TARİHİ: 26/09/2022   FİLM NO: 12796199\\n...           None  \n",
       "1  RAPOR TARİHİ: 15.03.2022    FİLM NO: 12523533\\...           None  \n",
       "2  RAPOR TARİHİ:15/02/2022   FİLM NO:12493333\\n\\n...           None  \n",
       "3  RAPOR TARİHİ: 25/05/2023   FİLM NO:\\n\\nKontras...           None  \n",
       "4  RAPOR TARİHİ: 09.08.2021     FİLM NO: 11338850...           None  "
      ]
     },
     "execution_count": 4,
     "metadata": {},
     "output_type": "execute_result"
    }
   ],
   "source": [
    "# get reports directly from database\n",
    "query = \"\"\"\n",
    "            SELECT * FROM annotation.reports\n",
    "        \"\"\"\n",
    "\n",
    "# get values from the database\n",
    "df_reports = db.read_sql_query(query)\n",
    "df_reports.head()"
   ]
  },
  {
   "cell_type": "code",
   "execution_count": 5,
   "metadata": {},
   "outputs": [],
   "source": [
    "# extract relevant information\n",
    "result = df_reports['report_original'].apply(transformation.prepare_data_transformations)\n",
    "df_reports[[\"text\", \"report_date\", \"study_no\"]] = pd.DataFrame(\n",
    "    result.tolist(), index=result.index\n",
    ")"
   ]
  },
  {
   "cell_type": "code",
   "execution_count": 6,
   "metadata": {},
   "outputs": [
    {
     "data": {
      "text/html": [
       "<div>\n",
       "<style scoped>\n",
       "    .dataframe tbody tr th:only-of-type {\n",
       "        vertical-align: middle;\n",
       "    }\n",
       "\n",
       "    .dataframe tbody tr th {\n",
       "        vertical-align: top;\n",
       "    }\n",
       "\n",
       "    .dataframe thead th {\n",
       "        text-align: right;\n",
       "    }\n",
       "</style>\n",
       "<table border=\"1\" class=\"dataframe\">\n",
       "  <thead>\n",
       "    <tr style=\"text-align: right;\">\n",
       "      <th></th>\n",
       "      <th>report_id</th>\n",
       "      <th>patient_no</th>\n",
       "      <th>full_name</th>\n",
       "      <th>report_original</th>\n",
       "      <th>report_english</th>\n",
       "      <th>text</th>\n",
       "      <th>report_date</th>\n",
       "      <th>study_no</th>\n",
       "    </tr>\n",
       "  </thead>\n",
       "  <tbody>\n",
       "    <tr>\n",
       "      <th>0</th>\n",
       "      <td>23012646</td>\n",
       "      <td>2004001412</td>\n",
       "      <td>SADİ İYEM</td>\n",
       "      <td>RAPOR TARİHİ: 26/09/2022   FİLM NO: 12796199\\n...</td>\n",
       "      <td>None</td>\n",
       "      <td>Kafa tabanı ve verteks arasından kontrastsız e...</td>\n",
       "      <td>26/09/2022</td>\n",
       "      <td>12796199</td>\n",
       "    </tr>\n",
       "    <tr>\n",
       "      <th>1</th>\n",
       "      <td>22394628</td>\n",
       "      <td>2004001562</td>\n",
       "      <td>İLKNUR ERTENER</td>\n",
       "      <td>RAPOR TARİHİ: 15.03.2022    FİLM NO: 12523533\\...</td>\n",
       "      <td>None</td>\n",
       "      <td>Beyin BT   Kafa tabanı ve verteks arasından el...</td>\n",
       "      <td>15.03.2022</td>\n",
       "      <td>12523533</td>\n",
       "    </tr>\n",
       "    <tr>\n",
       "      <th>2</th>\n",
       "      <td>22296380</td>\n",
       "      <td>2004001709</td>\n",
       "      <td>VEHBİYE AKBALIK</td>\n",
       "      <td>RAPOR TARİHİ:15/02/2022   FİLM NO:12493333\\n\\n...</td>\n",
       "      <td>None</td>\n",
       "      <td>Kontrastsız   beyin  BT   tetkiki   Kafa kaide...</td>\n",
       "      <td>15/02/2022</td>\n",
       "      <td>12493333</td>\n",
       "    </tr>\n",
       "    <tr>\n",
       "      <th>3</th>\n",
       "      <td>23963976</td>\n",
       "      <td>2004002163</td>\n",
       "      <td>HAVVA AYDIN</td>\n",
       "      <td>RAPOR TARİHİ: 25/05/2023   FİLM NO:\\n\\nKontras...</td>\n",
       "      <td>None</td>\n",
       "      <td>Kontrastlı  beyin     BT  İnfratentorial yapıl...</td>\n",
       "      <td>25/05/2023</td>\n",
       "      <td></td>\n",
       "    </tr>\n",
       "    <tr>\n",
       "      <th>4</th>\n",
       "      <td>21367900</td>\n",
       "      <td>2004002609</td>\n",
       "      <td>ZEYNEP YEŞİLOVA</td>\n",
       "      <td>RAPOR TARİHİ: 09.08.2021     FİLM NO: 11338850...</td>\n",
       "      <td>None</td>\n",
       "      <td>BEYİN BT   Kafa tabanı ve verteks arasından el...</td>\n",
       "      <td>09.08.2021</td>\n",
       "      <td>11338850</td>\n",
       "    </tr>\n",
       "    <tr>\n",
       "      <th>...</th>\n",
       "      <td>...</td>\n",
       "      <td>...</td>\n",
       "      <td>...</td>\n",
       "      <td>...</td>\n",
       "      <td>...</td>\n",
       "      <td>...</td>\n",
       "      <td>...</td>\n",
       "      <td>...</td>\n",
       "    </tr>\n",
       "    <tr>\n",
       "      <th>29530</th>\n",
       "      <td>24165013</td>\n",
       "      <td>2009595219</td>\n",
       "      <td>MUKADDES DUMAN</td>\n",
       "      <td>RAPOR TARİHİ:20/07/2023   FİLM NO:\\n\\nKontrast...</td>\n",
       "      <td>None</td>\n",
       "      <td>Kontrastsız  beyin BT  İnfratentorial yapılar ...</td>\n",
       "      <td>20/07/2023</td>\n",
       "      <td></td>\n",
       "    </tr>\n",
       "    <tr>\n",
       "      <th>29531</th>\n",
       "      <td>24165077</td>\n",
       "      <td>2009595225</td>\n",
       "      <td>ZEYNEP ALBAYRAK</td>\n",
       "      <td>RAPOR TARİHİ : 20/07/2023    FİLM NO : \\n\\nKaf...</td>\n",
       "      <td>None</td>\n",
       "      <td>Kafa tabanı ve verteks arasından elde olunan k...</td>\n",
       "      <td>20/07/2023</td>\n",
       "      <td></td>\n",
       "    </tr>\n",
       "    <tr>\n",
       "      <th>29532</th>\n",
       "      <td>24165121</td>\n",
       "      <td>2009595227</td>\n",
       "      <td>BERİL SARGIN</td>\n",
       "      <td>RAPOR TARİHİ:20/07/2023   FİLM NO:\\n\\nKontrast...</td>\n",
       "      <td>None</td>\n",
       "      <td>Kontrastsız  beyin     BT   Kafa kaidesi ve ka...</td>\n",
       "      <td>20/07/2023</td>\n",
       "      <td></td>\n",
       "    </tr>\n",
       "    <tr>\n",
       "      <th>29533</th>\n",
       "      <td>24167884</td>\n",
       "      <td>2009595436</td>\n",
       "      <td>MUHAMMED DABUL</td>\n",
       "      <td>RAPOR TARİHİ: 21/07/2023            TETKİK NO:...</td>\n",
       "      <td>None</td>\n",
       "      <td>BEYİN BT  Kafa tabanı ve verteks arasından eld...</td>\n",
       "      <td>21/07/2023</td>\n",
       "      <td>13333104</td>\n",
       "    </tr>\n",
       "    <tr>\n",
       "      <th>29534</th>\n",
       "      <td>24168883</td>\n",
       "      <td>2009595507</td>\n",
       "      <td>MUHAMMED MUSTAFA KANDEMİR</td>\n",
       "      <td>RAPOR TARİHİ: 21/07/2023            TETKİK NO:...</td>\n",
       "      <td>None</td>\n",
       "      <td>BEYİN  + ORBİTA BT    Kafa tabanı ve verteks a...</td>\n",
       "      <td>21/07/2023</td>\n",
       "      <td></td>\n",
       "    </tr>\n",
       "  </tbody>\n",
       "</table>\n",
       "<p>29535 rows × 8 columns</p>\n",
       "</div>"
      ],
      "text/plain": [
       "       report_id  patient_no                  full_name  \\\n",
       "0       23012646  2004001412                  SADİ İYEM   \n",
       "1       22394628  2004001562             İLKNUR ERTENER   \n",
       "2       22296380  2004001709            VEHBİYE AKBALIK   \n",
       "3       23963976  2004002163                HAVVA AYDIN   \n",
       "4       21367900  2004002609            ZEYNEP YEŞİLOVA   \n",
       "...          ...         ...                        ...   \n",
       "29530   24165013  2009595219             MUKADDES DUMAN   \n",
       "29531   24165077  2009595225            ZEYNEP ALBAYRAK   \n",
       "29532   24165121  2009595227               BERİL SARGIN   \n",
       "29533   24167884  2009595436             MUHAMMED DABUL   \n",
       "29534   24168883  2009595507  MUHAMMED MUSTAFA KANDEMİR   \n",
       "\n",
       "                                         report_original report_english  \\\n",
       "0      RAPOR TARİHİ: 26/09/2022   FİLM NO: 12796199\\n...           None   \n",
       "1      RAPOR TARİHİ: 15.03.2022    FİLM NO: 12523533\\...           None   \n",
       "2      RAPOR TARİHİ:15/02/2022   FİLM NO:12493333\\n\\n...           None   \n",
       "3      RAPOR TARİHİ: 25/05/2023   FİLM NO:\\n\\nKontras...           None   \n",
       "4      RAPOR TARİHİ: 09.08.2021     FİLM NO: 11338850...           None   \n",
       "...                                                  ...            ...   \n",
       "29530  RAPOR TARİHİ:20/07/2023   FİLM NO:\\n\\nKontrast...           None   \n",
       "29531  RAPOR TARİHİ : 20/07/2023    FİLM NO : \\n\\nKaf...           None   \n",
       "29532  RAPOR TARİHİ:20/07/2023   FİLM NO:\\n\\nKontrast...           None   \n",
       "29533  RAPOR TARİHİ: 21/07/2023            TETKİK NO:...           None   \n",
       "29534  RAPOR TARİHİ: 21/07/2023            TETKİK NO:...           None   \n",
       "\n",
       "                                                    text report_date  study_no  \n",
       "0      Kafa tabanı ve verteks arasından kontrastsız e...  26/09/2022  12796199  \n",
       "1      Beyin BT   Kafa tabanı ve verteks arasından el...  15.03.2022  12523533  \n",
       "2      Kontrastsız   beyin  BT   tetkiki   Kafa kaide...  15/02/2022  12493333  \n",
       "3      Kontrastlı  beyin     BT  İnfratentorial yapıl...  25/05/2023            \n",
       "4      BEYİN BT   Kafa tabanı ve verteks arasından el...  09.08.2021  11338850  \n",
       "...                                                  ...         ...       ...  \n",
       "29530  Kontrastsız  beyin BT  İnfratentorial yapılar ...  20/07/2023            \n",
       "29531  Kafa tabanı ve verteks arasından elde olunan k...  20/07/2023            \n",
       "29532  Kontrastsız  beyin     BT   Kafa kaidesi ve ka...  20/07/2023            \n",
       "29533  BEYİN BT  Kafa tabanı ve verteks arasından eld...  21/07/2023  13333104  \n",
       "29534  BEYİN  + ORBİTA BT    Kafa tabanı ve verteks a...  21/07/2023            \n",
       "\n",
       "[29535 rows x 8 columns]"
      ]
     },
     "execution_count": 6,
     "metadata": {},
     "output_type": "execute_result"
    }
   ],
   "source": [
    "df_reports"
   ]
  },
  {
   "cell_type": "code",
   "execution_count": 7,
   "metadata": {},
   "outputs": [
    {
     "data": {
      "text/plain": [
       "1665"
      ]
     },
     "execution_count": 7,
     "metadata": {},
     "output_type": "execute_result"
    }
   ],
   "source": [
    "# check empty dates\n",
    "(df_reports['report_date'].values == '').sum() "
   ]
  },
  {
   "cell_type": "code",
   "execution_count": 8,
   "metadata": {},
   "outputs": [],
   "source": [
    "# filter\n",
    "query = \"\"\"\n",
    "            SELECT \n",
    "                DISTINCT data ->> 'patient_no' as patient_no\n",
    "            FROM task\n",
    "            WHERE is_labeled = TRUE\n",
    "        \"\"\"\n",
    "\n",
    "# get values from the database\n",
    "annotated_patient_nos = db.read_sql_query(query)[\"patient_no\"].to_list()"
   ]
  },
  {
   "cell_type": "code",
   "execution_count": 9,
   "metadata": {},
   "outputs": [],
   "source": [
    "# filter by non-annotated patients\n",
    "df_reports = df_reports.loc[~df_reports[\"patient_no\"].isin(annotated_patient_nos)]"
   ]
  },
  {
   "cell_type": "code",
   "execution_count": 10,
   "metadata": {},
   "outputs": [
    {
     "name": "stderr",
     "output_type": "stream",
     "text": [
      "/var/folders/tw/lfd3rmhn6zq_lyb7qwr0g5z00000gn/T/ipykernel_55470/3618944243.py:2: SettingWithCopyWarning: \n",
      "A value is trying to be set on a copy of a slice from a DataFrame.\n",
      "Try using .loc[row_indexer,col_indexer] = value instead\n",
      "\n",
      "See the caveats in the documentation: https://pandas.pydata.org/pandas-docs/stable/user_guide/indexing.html#returning-a-view-versus-a-copy\n",
      "  df_reports['report_date'] = pd.to_datetime(df_reports['report_date'], errors='coerce')\n"
     ]
    }
   ],
   "source": [
    "# convert the report date column\n",
    "df_reports['report_date'] = pd.to_datetime(df_reports['report_date'], errors='coerce')"
   ]
  },
  {
   "cell_type": "code",
   "execution_count": 11,
   "metadata": {},
   "outputs": [],
   "source": [
    "# detect report count\n",
    "df_report_count = df_reports.groupby(\"patient_no\").agg(report_count=pd.NamedAgg(column=\"patient_no\", aggfunc=\"count\")).reset_index()"
   ]
  },
  {
   "cell_type": "code",
   "execution_count": 12,
   "metadata": {},
   "outputs": [],
   "source": [
    "# merge report counts & order by report count/date & drop duplicates\n",
    "df_reports = df_reports.drop_duplicates(subset=[\"patient_no\"], keep=\"first\").merge(\n",
    "    df_report_count, on=\"patient_no\", how=\"left\"\n",
    ").sort_values([\"report_count\", \"report_date\"], ascending=[True, True])"
   ]
  },
  {
   "cell_type": "code",
   "execution_count": 13,
   "metadata": {},
   "outputs": [
    {
     "data": {
      "text/plain": [
       "24288"
      ]
     },
     "execution_count": 13,
     "metadata": {},
     "output_type": "execute_result"
    }
   ],
   "source": [
    "len(df_reports)"
   ]
  },
  {
   "cell_type": "code",
   "execution_count": 14,
   "metadata": {},
   "outputs": [
    {
     "data": {
      "text/plain": [
       "Index(['report_id', 'patient_no', 'full_name', 'report_original',\n",
       "       'report_english', 'text', 'report_date', 'study_no', 'report_count'],\n",
       "      dtype='object')"
      ]
     },
     "execution_count": 14,
     "metadata": {},
     "output_type": "execute_result"
    }
   ],
   "source": [
    "df_reports.columns"
   ]
  },
  {
   "cell_type": "code",
   "execution_count": 15,
   "metadata": {},
   "outputs": [],
   "source": [
    "reports_raw, Base = UploadTasksTable()\n",
    "#Base.metadata.create_all(db.engine)\n",
    "\n",
    "cols_to_upsert = df_reports.columns.to_list()\n",
    "cols_to_upsert.remove(\"report_id\")\n",
    "data_to_insert = []\n",
    "for _, row in df_reports.iterrows():\n",
    "\n",
    "    data_to_insert.append(\n",
    "        {\n",
    "            \"report_id\": row[\"report_id\"],\n",
    "            \"patient_no\": row[\"patient_no\"],\n",
    "            \"full_name\": row[\"full_name\"],\n",
    "            \"report_original\": row[\"report_original\"],\n",
    "            \"report_english\": row[\"report_english\"],\n",
    "            \"text\": row[\"text\"],\n",
    "            \"study_no\": row[\"study_no\"],\n",
    "            \"report_count\": row[\"report_count\"], \n",
    "            # \"report_date\": row[\"report_date\"],\n",
    "        }\n",
    "    )\n",
    "\n",
    "db.upsert_values(reports_raw, data_to_insert, cols_to_upsert, [\"report_id\"])"
   ]
  }
 ],
 "metadata": {
  "kernelspec": {
   "display_name": ".venv",
   "language": "python",
   "name": "python3"
  },
  "language_info": {
   "codemirror_mode": {
    "name": "ipython",
    "version": 3
   },
   "file_extension": ".py",
   "mimetype": "text/x-python",
   "name": "python",
   "nbconvert_exporter": "python",
   "pygments_lexer": "ipython3",
   "version": "3.11.2"
  },
  "orig_nbformat": 4
 },
 "nbformat": 4,
 "nbformat_minor": 2
}
