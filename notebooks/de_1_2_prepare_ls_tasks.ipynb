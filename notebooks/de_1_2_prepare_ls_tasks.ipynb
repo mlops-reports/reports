{
 "cells": [
  {
   "cell_type": "code",
   "execution_count": 33,
   "metadata": {},
   "outputs": [],
   "source": [
    "import warnings\n",
    "import time\n",
    "\n",
    "import pandas as pd\n",
    "\n",
    "from experiment.utils import dbutils, logger, transformation\n",
    "from experiment.utils.tables.upload_tasks_table import UploadTasksTable"
   ]
  },
  {
   "cell_type": "code",
   "execution_count": 34,
   "metadata": {},
   "outputs": [],
   "source": [
    "# suppress warnings\n",
    "warnings.filterwarnings(\"ignore\", category=UserWarning)"
   ]
  },
  {
   "cell_type": "code",
   "execution_count": 35,
   "metadata": {},
   "outputs": [],
   "source": [
    "db = dbutils.DatabaseUtils()\n",
    "lg = logger.Logger(\n",
    "    logging_level=\"DEBUG\",\n",
    "    output_path=transformation.get_project_root() / \"tmp\" / \"report_translation.log\",\n",
    ")"
   ]
  },
  {
   "cell_type": "code",
   "execution_count": 36,
   "metadata": {},
   "outputs": [],
   "source": [
    "TRANSLATE_N_MORE_REPORTS = 1"
   ]
  },
  {
   "cell_type": "code",
   "execution_count": 37,
   "metadata": {},
   "outputs": [
    {
     "data": {
      "text/html": [
       "<div>\n",
       "<style scoped>\n",
       "    .dataframe tbody tr th:only-of-type {\n",
       "        vertical-align: middle;\n",
       "    }\n",
       "\n",
       "    .dataframe tbody tr th {\n",
       "        vertical-align: top;\n",
       "    }\n",
       "\n",
       "    .dataframe thead th {\n",
       "        text-align: right;\n",
       "    }\n",
       "</style>\n",
       "<table border=\"1\" class=\"dataframe\">\n",
       "  <thead>\n",
       "    <tr style=\"text-align: right;\">\n",
       "      <th></th>\n",
       "      <th>report_id</th>\n",
       "      <th>patient_no</th>\n",
       "      <th>report_original</th>\n",
       "    </tr>\n",
       "  </thead>\n",
       "  <tbody>\n",
       "    <tr>\n",
       "      <th>0</th>\n",
       "      <td>23204350</td>\n",
       "      <td>2008726684</td>\n",
       "      <td>RAPOR TARİHİ:19/11/2022   FİLM NO:\\n\\nBeyin  B...</td>\n",
       "    </tr>\n",
       "    <tr>\n",
       "      <th>1</th>\n",
       "      <td>22810477</td>\n",
       "      <td>2008231237</td>\n",
       "      <td>RAPOR TARİHİ: 14/07/2022   FİLM NO:\\n\\nBeyin  ...</td>\n",
       "    </tr>\n",
       "    <tr>\n",
       "      <th>2</th>\n",
       "      <td>23072879</td>\n",
       "      <td>2004022945</td>\n",
       "      <td>RAPOR TARİHİ: 13/10/2022   FİLM NO: 12831139\\n...</td>\n",
       "    </tr>\n",
       "    <tr>\n",
       "      <th>3</th>\n",
       "      <td>22664628</td>\n",
       "      <td>2008231238</td>\n",
       "      <td>RAPOR TARİHİ: 16.06.2022    FİLM NO:\\n\\nBeyin ...</td>\n",
       "    </tr>\n",
       "    <tr>\n",
       "      <th>4</th>\n",
       "      <td>23452265</td>\n",
       "      <td>2009543927</td>\n",
       "      <td>RAPOR TARİHİ: 10/01/2023   FİLM NO: \\n\\nKafa t...</td>\n",
       "    </tr>\n",
       "  </tbody>\n",
       "</table>\n",
       "</div>"
      ],
      "text/plain": [
       "   report_id  patient_no                                    report_original\n",
       "0   23204350  2008726684  RAPOR TARİHİ:19/11/2022   FİLM NO:\\n\\nBeyin  B...\n",
       "1   22810477  2008231237  RAPOR TARİHİ: 14/07/2022   FİLM NO:\\n\\nBeyin  ...\n",
       "2   23072879  2004022945  RAPOR TARİHİ: 13/10/2022   FİLM NO: 12831139\\n...\n",
       "3   22664628  2008231238  RAPOR TARİHİ: 16.06.2022    FİLM NO:\\n\\nBeyin ...\n",
       "4   23452265  2009543927  RAPOR TARİHİ: 10/01/2023   FİLM NO: \\n\\nKafa t..."
      ]
     },
     "execution_count": 37,
     "metadata": {},
     "output_type": "execute_result"
    }
   ],
   "source": [
    "# get reports directly from database\n",
    "query = \"\"\"\n",
    "            SELECT report_id, patient_no, report_original FROM annotation.reports\n",
    "        \"\"\"\n",
    "\n",
    "# get values from the database\n",
    "df_reports = db.read_sql_query(query)\n",
    "df_reports.head()"
   ]
  },
  {
   "cell_type": "code",
   "execution_count": 38,
   "metadata": {},
   "outputs": [
    {
     "data": {
      "text/html": [
       "<div>\n",
       "<style scoped>\n",
       "    .dataframe tbody tr th:only-of-type {\n",
       "        vertical-align: middle;\n",
       "    }\n",
       "\n",
       "    .dataframe tbody tr th {\n",
       "        vertical-align: top;\n",
       "    }\n",
       "\n",
       "    .dataframe thead th {\n",
       "        text-align: right;\n",
       "    }\n",
       "</style>\n",
       "<table border=\"1\" class=\"dataframe\">\n",
       "  <thead>\n",
       "    <tr style=\"text-align: right;\">\n",
       "      <th></th>\n",
       "      <th>report_id</th>\n",
       "      <th>patient_no</th>\n",
       "      <th>report_original</th>\n",
       "      <th>report_original_clean</th>\n",
       "      <th>report_date</th>\n",
       "      <th>study_no</th>\n",
       "    </tr>\n",
       "  </thead>\n",
       "  <tbody>\n",
       "    <tr>\n",
       "      <th>0</th>\n",
       "      <td>23204350</td>\n",
       "      <td>2008726684</td>\n",
       "      <td>RAPOR TARİHİ:19/11/2022   FİLM NO:\\n\\nBeyin  B...</td>\n",
       "      <td>Beyin  BT Kafa kaidesi ve kalvarial kemik yapı...</td>\n",
       "      <td>19/11/2022</td>\n",
       "      <td></td>\n",
       "    </tr>\n",
       "    <tr>\n",
       "      <th>1</th>\n",
       "      <td>22810477</td>\n",
       "      <td>2008231237</td>\n",
       "      <td>RAPOR TARİHİ: 14/07/2022   FİLM NO:\\n\\nBeyin  ...</td>\n",
       "      <td>Beyin      BT Kafa kaidesi ve kalvarial kemik ...</td>\n",
       "      <td>14/07/2022</td>\n",
       "      <td></td>\n",
       "    </tr>\n",
       "    <tr>\n",
       "      <th>2</th>\n",
       "      <td>23072879</td>\n",
       "      <td>2004022945</td>\n",
       "      <td>RAPOR TARİHİ: 13/10/2022   FİLM NO: 12831139\\n...</td>\n",
       "      <td>Kafa tabanı ve verteks arasından elde olunan k...</td>\n",
       "      <td>13/10/2022</td>\n",
       "      <td>12831139</td>\n",
       "    </tr>\n",
       "    <tr>\n",
       "      <th>3</th>\n",
       "      <td>22664628</td>\n",
       "      <td>2008231238</td>\n",
       "      <td>RAPOR TARİHİ: 16.06.2022    FİLM NO:\\n\\nBeyin ...</td>\n",
       "      <td>Beyin BT   Posterior fossada beyin sapı artefa...</td>\n",
       "      <td>16.06.2022</td>\n",
       "      <td></td>\n",
       "    </tr>\n",
       "    <tr>\n",
       "      <th>4</th>\n",
       "      <td>23452265</td>\n",
       "      <td>2009543927</td>\n",
       "      <td>RAPOR TARİHİ: 10/01/2023   FİLM NO: \\n\\nKafa t...</td>\n",
       "      <td>Kafa tabanı ve verteks arasından elde olunan k...</td>\n",
       "      <td>10/01/2023</td>\n",
       "      <td></td>\n",
       "    </tr>\n",
       "  </tbody>\n",
       "</table>\n",
       "</div>"
      ],
      "text/plain": [
       "   report_id  patient_no                                    report_original  \\\n",
       "0   23204350  2008726684  RAPOR TARİHİ:19/11/2022   FİLM NO:\\n\\nBeyin  B...   \n",
       "1   22810477  2008231237  RAPOR TARİHİ: 14/07/2022   FİLM NO:\\n\\nBeyin  ...   \n",
       "2   23072879  2004022945  RAPOR TARİHİ: 13/10/2022   FİLM NO: 12831139\\n...   \n",
       "3   22664628  2008231238  RAPOR TARİHİ: 16.06.2022    FİLM NO:\\n\\nBeyin ...   \n",
       "4   23452265  2009543927  RAPOR TARİHİ: 10/01/2023   FİLM NO: \\n\\nKafa t...   \n",
       "\n",
       "                               report_original_clean report_date  study_no  \n",
       "0  Beyin  BT Kafa kaidesi ve kalvarial kemik yapı...  19/11/2022            \n",
       "1  Beyin      BT Kafa kaidesi ve kalvarial kemik ...  14/07/2022            \n",
       "2  Kafa tabanı ve verteks arasından elde olunan k...  13/10/2022  12831139  \n",
       "3  Beyin BT   Posterior fossada beyin sapı artefa...  16.06.2022            \n",
       "4  Kafa tabanı ve verteks arasından elde olunan k...  10/01/2023            "
      ]
     },
     "execution_count": 38,
     "metadata": {},
     "output_type": "execute_result"
    }
   ],
   "source": [
    "# extract relevant information\n",
    "result = df_reports['report_original'].apply(transformation.prepare_data_transformations)\n",
    "df_reports[[\"report_original_clean\", \"report_date\", \"study_no\"]] = pd.DataFrame(\n",
    "    result.tolist(), index=result.index\n",
    ")\n",
    "df_reports.head()"
   ]
  },
  {
   "cell_type": "code",
   "execution_count": 39,
   "metadata": {},
   "outputs": [],
   "source": [
    "# filter\n",
    "query = \"\"\"\n",
    "            SELECT \n",
    "                DISTINCT data ->> 'patient_no' as patient_no\n",
    "            FROM task\n",
    "            WHERE is_labeled = TRUE\n",
    "        \"\"\"\n",
    "\n",
    "# get values from the database\n",
    "annotated_patient_nos = db.read_sql_query(query)[\"patient_no\"].to_list()"
   ]
  },
  {
   "cell_type": "code",
   "execution_count": 40,
   "metadata": {},
   "outputs": [],
   "source": [
    "# filter by non-annotated patients\n",
    "df_reports = df_reports.loc[~df_reports[\"patient_no\"].isin(annotated_patient_nos)]"
   ]
  },
  {
   "cell_type": "code",
   "execution_count": 41,
   "metadata": {},
   "outputs": [],
   "source": [
    "# convert the report date column\n",
    "df_reports['report_date'] = pd.to_datetime(df_reports['report_date'], errors='coerce')"
   ]
  },
  {
   "cell_type": "code",
   "execution_count": 42,
   "metadata": {},
   "outputs": [],
   "source": [
    "# detect report count\n",
    "df_report_count = df_reports.groupby(\"patient_no\").agg(report_count=pd.NamedAgg(column=\"patient_no\", aggfunc=\"count\")).reset_index()"
   ]
  },
  {
   "cell_type": "code",
   "execution_count": 43,
   "metadata": {},
   "outputs": [],
   "source": [
    "# merge report counts & order by report count/date & drop duplicates\n",
    "df_reports = df_reports.drop_duplicates(subset=[\"patient_no\"], keep=\"first\").merge(\n",
    "    df_report_count, on=\"patient_no\", how=\"left\"\n",
    ").sort_values([\"report_count\", \"report_date\"], ascending=[True, True])"
   ]
  },
  {
   "cell_type": "code",
   "execution_count": 44,
   "metadata": {},
   "outputs": [],
   "source": [
    "# filter\n",
    "query = \"\"\"\n",
    "            SELECT \n",
    "                report_id\n",
    "            FROM annotation.upload_tasks\n",
    "            WHERE report_english_clean IS NOT NULL \n",
    "        \"\"\"\n",
    "\n",
    "# get values from the database\n",
    "upload_tasks_with_translation = db.read_sql_query(query)[\"report_id\"].to_list()"
   ]
  },
  {
   "cell_type": "code",
   "execution_count": 45,
   "metadata": {},
   "outputs": [],
   "source": [
    "reports_raw, Base = UploadTasksTable()\n",
    "#Base.metadata.create_all(db.engine)"
   ]
  },
  {
   "cell_type": "code",
   "execution_count": 46,
   "metadata": {},
   "outputs": [],
   "source": [
    "# use only non-translated reports\n",
    "df_upload_tasks = df_reports.loc[~df_reports[\"report_id\"].isin(upload_tasks_with_translation)].head(\n",
    "    TRANSLATE_N_MORE_REPORTS\n",
    ")"
   ]
  },
  {
   "cell_type": "code",
   "execution_count": 47,
   "metadata": {},
   "outputs": [
    {
     "data": {
      "text/plain": [
       "Index(['report_id', 'patient_no', 'report_original', 'report_original_clean',\n",
       "       'report_date', 'study_no', 'report_count'],\n",
       "      dtype='object')"
      ]
     },
     "execution_count": 47,
     "metadata": {},
     "output_type": "execute_result"
    }
   ],
   "source": [
    "df_upload_tasks.columns"
   ]
  },
  {
   "cell_type": "code",
   "execution_count": 48,
   "metadata": {},
   "outputs": [],
   "source": [
    "cols_to_upsert = df_upload_tasks.columns.to_list()\n",
    "cols_to_upsert.remove(\"report_id\")\n",
    "data_to_insert = []\n",
    "for _, row in df_upload_tasks.iterrows():\n",
    "\n",
    "    data_to_insert.append(\n",
    "        {\n",
    "            \"report_id\": row[\"report_id\"],\n",
    "            \"patient_no\": row[\"patient_no\"],\n",
    "            \"report_original\": row[\"report_original\"],\n",
    "            \"report_original_clean\": row[\"report_original_clean\"],\n",
    "            \"report_english_clean\": transformation.translate_report(row[\"report_original_clean\"]),\n",
    "            \"study_no\": row[\"study_no\"],\n",
    "            \"report_count\": row[\"report_count\"]\n",
    "        }\n",
    "    )\n",
    "\n",
    "    db.upsert_values(reports_raw, data_to_insert, cols_to_upsert, [\"report_id\"])\n",
    "\n",
    "    # openai restriction: 3 RPM\n",
    "    time.sleep(20)"
   ]
  }
 ],
 "metadata": {
  "kernelspec": {
   "display_name": ".venv",
   "language": "python",
   "name": "python3"
  },
  "language_info": {
   "codemirror_mode": {
    "name": "ipython",
    "version": 3
   },
   "file_extension": ".py",
   "mimetype": "text/x-python",
   "name": "python",
   "nbconvert_exporter": "python",
   "pygments_lexer": "ipython3",
   "version": "3.11.2"
  },
  "orig_nbformat": 4
 },
 "nbformat": 4,
 "nbformat_minor": 2
}
