{
 "cells": [
  {
   "cell_type": "code",
   "execution_count": 8,
   "metadata": {},
   "outputs": [],
   "source": [
    "import time\n",
    "import datetime\n",
    "\n",
    "from experiment.utils import dbutils, logger, transformation\n",
    "from experiment.utils.tables.upload_tasks_table import UploadTasksTable\n",
    "from experiment.api import label_studio\n",
    "\n",
    "import openai"
   ]
  },
  {
   "cell_type": "code",
   "execution_count": 9,
   "metadata": {},
   "outputs": [],
   "source": [
    "db = dbutils.DatabaseUtils()\n",
    "lg = logger.Logger(\n",
    "    logging_level=\"DEBUG\",\n",
    "    log_file=transformation.get_project_root() / \"tmp\" / \"report_prompting.log\",\n",
    ")"
   ]
  },
  {
   "cell_type": "code",
   "execution_count": 10,
   "metadata": {},
   "outputs": [],
   "source": [
    "PROMPT_N_MORE_REPORTS = 200\n",
    "PROMPT = \"Perform the following transformation on the report: Translate into English\" \n",
    "PRIORITIZE_BY = \"normal\" # \"normal\" or \"emergency\""
   ]
  },
  {
   "cell_type": "code",
   "execution_count": 11,
   "metadata": {},
   "outputs": [],
   "source": [
    "reports_raw, Base = UploadTasksTable()"
   ]
  },
  {
   "cell_type": "code",
   "execution_count": 12,
   "metadata": {},
   "outputs": [
    {
     "name": "stdout",
     "output_type": "stream",
     "text": [
      "\u001b[0m17:44:19  Running with dbt=1.6.1\n",
      "\u001b[0m17:44:19  Registered adapter: postgres=1.6.1\n",
      "\u001b[0m17:44:20  [\u001b[33mWARNING\u001b[0m]: Did not find matching node for patch with name 'annotations' in the 'models' section of file 'models/schema.yml'\n",
      "\u001b[0m17:44:20  Found 8 models, 3 sources, 0 exposures, 0 metrics, 689 macros, 0 groups, 0 semantic models\n",
      "\u001b[0m17:44:20  \n",
      "\u001b[0m17:44:23  Concurrency: 5 threads (target='prod')\n",
      "\u001b[0m17:44:23  \n",
      "\u001b[0m17:44:23  1 of 3 START sql view model annotation.stg_reports ............................. [RUN]\n",
      "\u001b[0m17:44:24  1 of 3 OK created sql view model annotation.stg_reports ........................ [\u001b[32mCREATE VIEW\u001b[0m in 0.87s]\n",
      "\u001b[0m17:44:24  2 of 3 START sql table model annotation.reports ................................ [RUN]\n",
      "\u001b[0m17:44:25  2 of 3 OK created sql table model annotation.reports ........................... [\u001b[32mSELECT 32132\u001b[0m in 1.40s]\n",
      "\u001b[0m17:44:25  3 of 3 START sql incremental model annotation.upload_tasks ..................... [RUN]\n",
      "\u001b[0m17:44:27  3 of 3 OK created sql incremental model annotation.upload_tasks ................ [\u001b[32mMERGE 25687\u001b[0m in 1.98s]\n",
      "\u001b[0m17:44:28  \n",
      "\u001b[0m17:44:28  Finished running 1 view model, 1 table model, 1 incremental model in 0 hours 0 minutes and 7.82 seconds (7.82s).\n",
      "\u001b[0m17:44:28  \n",
      "\u001b[0m17:44:28  \u001b[32mCompleted successfully\u001b[0m\n",
      "\u001b[0m17:44:28  \n",
      "\u001b[0m17:44:28  Done. PASS=3 WARN=0 ERROR=0 SKIP=0 TOTAL=3\n",
      "\u001b[0m17:44:30  Running with dbt=1.6.1\n",
      "\u001b[0m17:44:30  Registered adapter: postgres=1.6.1\n",
      "\u001b[0m17:44:31  [\u001b[33mWARNING\u001b[0m]: Did not find matching node for patch with name 'annotations' in the 'models' section of file 'models/schema.yml'\n",
      "\u001b[0m17:44:31  Found 8 models, 3 sources, 0 exposures, 0 metrics, 689 macros, 0 groups, 0 semantic models\n",
      "\u001b[0m17:44:31  \n",
      "\u001b[0m17:44:34  Concurrency: 1 threads (target='prod')\n",
      "\u001b[0m17:44:34  \n",
      "\u001b[0m17:44:34  1 of 5 START sql view model annotation.stg_task_completion ..................... [RUN]\n",
      "\u001b[0m17:44:35  1 of 5 OK created sql view model annotation.stg_task_completion ................ [\u001b[32mCREATE VIEW\u001b[0m in 1.13s]\n",
      "\u001b[0m17:44:35  2 of 5 START sql incremental model annotation.tasks ............................ [RUN]\n",
      "\u001b[0m17:44:36  2 of 5 OK created sql incremental model annotation.tasks ....................... [\u001b[32mSELECT 2296\u001b[0m in 1.02s]\n",
      "\u001b[0m17:44:36  3 of 5 START sql incremental model annotation.choices .......................... [RUN]\n",
      "\u001b[0m17:44:37  3 of 5 OK created sql incremental model annotation.choices ..................... [\u001b[32mSELECT 382\u001b[0m in 0.91s]\n",
      "\u001b[0m17:44:37  4 of 5 START sql incremental model annotation.labels ........................... [RUN]\n",
      "\u001b[0m17:44:38  4 of 5 OK created sql incremental model annotation.labels ...................... [\u001b[32mSELECT 248\u001b[0m in 1.00s]\n",
      "\u001b[0m17:44:38  5 of 5 START sql incremental model annotation.textareas ........................ [RUN]\n",
      "\u001b[0m17:44:39  5 of 5 OK created sql incremental model annotation.textareas ................... [\u001b[32mSELECT 221\u001b[0m in 0.76s]\n",
      "\u001b[0m17:44:39  \n",
      "\u001b[0m17:44:39  Finished running 1 view model, 4 incremental models in 0 hours 0 minutes and 7.85 seconds (7.85s).\n",
      "\u001b[0m17:44:39  \n",
      "\u001b[0m17:44:39  \u001b[32mCompleted successfully\u001b[0m\n",
      "\u001b[0m17:44:39  \n",
      "\u001b[0m17:44:39  Done. PASS=5 WARN=0 ERROR=0 SKIP=0 TOTAL=5\n"
     ]
    }
   ],
   "source": [
    "# generate annotation tables\n",
    "# Base.metadata.create_all(db.engine)\n",
    "\n",
    "db.run_dbt_model('all')"
   ]
  },
  {
   "cell_type": "markdown",
   "metadata": {},
   "source": [
    "### 1) Select Reports"
   ]
  },
  {
   "cell_type": "code",
   "execution_count": 13,
   "metadata": {},
   "outputs": [],
   "source": [
    "PRIORITIZE_BY_VALUES = {\n",
    "    \"normal\": \"ASC\",\n",
    "    \"emergency\": \"DESC\"\n",
    "}"
   ]
  },
  {
   "cell_type": "code",
   "execution_count": 14,
   "metadata": {},
   "outputs": [
    {
     "data": {
      "text/html": [
       "<div>\n",
       "<style scoped>\n",
       "    .dataframe tbody tr th:only-of-type {\n",
       "        vertical-align: middle;\n",
       "    }\n",
       "\n",
       "    .dataframe tbody tr th {\n",
       "        vertical-align: top;\n",
       "    }\n",
       "\n",
       "    .dataframe thead th {\n",
       "        text-align: right;\n",
       "    }\n",
       "</style>\n",
       "<table border=\"1\" class=\"dataframe\">\n",
       "  <thead>\n",
       "    <tr style=\"text-align: right;\">\n",
       "      <th></th>\n",
       "      <th>report_id</th>\n",
       "      <th>patient_no</th>\n",
       "      <th>protocol_no</th>\n",
       "      <th>report_original</th>\n",
       "      <th>report_length</th>\n",
       "      <th>report_prompted</th>\n",
       "      <th>patient_report_count</th>\n",
       "    </tr>\n",
       "  </thead>\n",
       "  <tbody>\n",
       "    <tr>\n",
       "      <th>0</th>\n",
       "      <td>3885</td>\n",
       "      <td>2005072330</td>\n",
       "      <td>24087556</td>\n",
       "      <td>\\n.\\n.\\n..\\n\\n..\\n.\\n.\\n.\\n.\\n.\\n.\\n.\\n.\\n\\n.\\...</td>\n",
       "      <td>1</td>\n",
       "      <td>Perform the following transformation on the re...</td>\n",
       "      <td>1</td>\n",
       "    </tr>\n",
       "    <tr>\n",
       "      <th>1</th>\n",
       "      <td>10572</td>\n",
       "      <td>2008067603</td>\n",
       "      <td>21389331</td>\n",
       "      <td>görüntüler yok \\n.\\n..\\n.\\n.\\n\\n.\\n.\\n.\\n.\\n.\\...</td>\n",
       "      <td>3</td>\n",
       "      <td>There are no images.</td>\n",
       "      <td>1</td>\n",
       "    </tr>\n",
       "    <tr>\n",
       "      <th>2</th>\n",
       "      <td>18041</td>\n",
       "      <td>2008609782</td>\n",
       "      <td>24028540</td>\n",
       "      <td>SONUCU GİRİLECEKTİR......................SONUC...</td>\n",
       "      <td>3</td>\n",
       "      <td>The result will be entered.</td>\n",
       "      <td>1</td>\n",
       "    </tr>\n",
       "    <tr>\n",
       "      <th>3</th>\n",
       "      <td>14847</td>\n",
       "      <td>2008342803</td>\n",
       "      <td>24154059</td>\n",
       "      <td>DİĞER TETKİKLERİNİ OKUDUNUZ BU TETKİKLERİDE OK...</td>\n",
       "      <td>6</td>\n",
       "      <td>Did you read the other tests? Can you also rea...</td>\n",
       "      <td>1</td>\n",
       "    </tr>\n",
       "    <tr>\n",
       "      <th>4</th>\n",
       "      <td>21371</td>\n",
       "      <td>2008938063</td>\n",
       "      <td>24072123</td>\n",
       "      <td>RAPOR TARİHİ:21/05/2023   FİLM NO: \\n\\nraporla...</td>\n",
       "      <td>7</td>\n",
       "      <td>REPORT DATE: 21/05/2023   FILM NO: \\n\\nto be r...</td>\n",
       "      <td>1</td>\n",
       "    </tr>\n",
       "  </tbody>\n",
       "</table>\n",
       "</div>"
      ],
      "text/plain": [
       "   report_id  patient_no  protocol_no  \\\n",
       "0       3885  2005072330     24087556   \n",
       "1      10572  2008067603     21389331   \n",
       "2      18041  2008609782     24028540   \n",
       "3      14847  2008342803     24154059   \n",
       "4      21371  2008938063     24072123   \n",
       "\n",
       "                                     report_original  report_length  \\\n",
       "0  \\n.\\n.\\n..\\n\\n..\\n.\\n.\\n.\\n.\\n.\\n.\\n.\\n.\\n\\n.\\...              1   \n",
       "1  görüntüler yok \\n.\\n..\\n.\\n.\\n\\n.\\n.\\n.\\n.\\n.\\...              3   \n",
       "2  SONUCU GİRİLECEKTİR......................SONUC...              3   \n",
       "3  DİĞER TETKİKLERİNİ OKUDUNUZ BU TETKİKLERİDE OK...              6   \n",
       "4  RAPOR TARİHİ:21/05/2023   FİLM NO: \\n\\nraporla...              7   \n",
       "\n",
       "                                     report_prompted  patient_report_count  \n",
       "0  Perform the following transformation on the re...                     1  \n",
       "1                               There are no images.                     1  \n",
       "2                        The result will be entered.                     1  \n",
       "3  Did you read the other tests? Can you also rea...                     1  \n",
       "4  REPORT DATE: 21/05/2023   FILM NO: \\n\\nto be r...                     1  "
      ]
     },
     "execution_count": 14,
     "metadata": {},
     "output_type": "execute_result"
    }
   ],
   "source": [
    "# get reports directly from database\n",
    "query = f\"\"\"\n",
    "            SELECT * FROM annotation.upload_tasks ut \n",
    "            ORDER BY patient_report_count {PRIORITIZE_BY_VALUES[PRIORITIZE_BY]}, report_length {PRIORITIZE_BY_VALUES[PRIORITIZE_BY]} \n",
    "        \"\"\"\n",
    "\n",
    "# get values from the database\n",
    "df_reports = db.read_sql_query(query)\n",
    "df_reports.head()"
   ]
  },
  {
   "cell_type": "code",
   "execution_count": 15,
   "metadata": {},
   "outputs": [],
   "source": [
    "# get annotated reports \n",
    "query = \"\"\"\n",
    "            SELECT \n",
    "                DISTINCT data ->> 'patient_no' as patient_no\n",
    "            FROM task\n",
    "            WHERE is_labeled = TRUE\n",
    "        \"\"\"\n",
    "\n",
    "# get values from the database\n",
    "annotated_patient_nos = db.read_sql_query(query)[\"patient_no\"].to_list()"
   ]
  },
  {
   "cell_type": "code",
   "execution_count": 16,
   "metadata": {},
   "outputs": [],
   "source": [
    "# get tasks that have been prompted\n",
    "query = \"\"\"\n",
    "            SELECT \n",
    "                report_id\n",
    "            FROM annotation.upload_tasks\n",
    "            WHERE report_prompted != '' \n",
    "        \"\"\"\n",
    "\n",
    "# get values from the database\n",
    "upload_tasks_prompted = db.read_sql_query(query)[\"report_id\"].to_list()"
   ]
  },
  {
   "cell_type": "code",
   "execution_count": 17,
   "metadata": {},
   "outputs": [],
   "source": [
    "# use only non-prompted reports & non-annotated patients\n",
    "df_upload_tasks = (\n",
    "    df_reports.loc[~df_reports[\"patient_no\"].isin(annotated_patient_nos)]\n",
    "    .loc[~df_reports[\"report_id\"].isin(upload_tasks_prompted)]\n",
    "    .head(PROMPT_N_MORE_REPORTS)\n",
    ")"
   ]
  },
  {
   "cell_type": "markdown",
   "metadata": {},
   "source": [
    "### 2) Prompt Reports"
   ]
  },
  {
   "cell_type": "code",
   "execution_count": 19,
   "metadata": {},
   "outputs": [],
   "source": [
    "cols_to_upsert = df_upload_tasks.columns.to_list()\n",
    "cols_to_upsert.remove(\"report_id\")\n",
    "data_to_insert = []\n",
    "for _, row in df_upload_tasks.iterrows():\n",
    "    try:\n",
    "        data_to_insert.append(\n",
    "            {\n",
    "                \"report_id\": row[\"report_id\"],\n",
    "                \"patient_no\": row[\"patient_no\"],\n",
    "                \"protocol_no\": row[\"protocol_no\"],\n",
    "                \"report_original\": row[\"report_original\"],\n",
    "                \"report_prompted\": transformation.prompt_report(\n",
    "                    report=row[\"report_original\"], prompt=PROMPT\n",
    "                ),\n",
    "                \"report_length\": row[\"report_length\"],\n",
    "                \"patient_report_count\": row[\"patient_report_count\"],\n",
    "            }\n",
    "        )\n",
    "    \n",
    "\n",
    "        db.upsert_values(reports_raw, data_to_insert, cols_to_upsert, [\"report_id\"])\n",
    "\n",
    "        time.sleep(20)\n",
    "    except openai.error.RateLimitError as rate_error:\n",
    "        # openai restriction: 3 RPM - 200 RPD\n",
    "        lg.log(f\"Rate limit for: {datetime.datetime.now()}\", \"WARNING\")\n",
    "\n",
    "lg.log(f\"Finished prompting {len(data_to_insert)} reports\")"
   ]
  },
  {
   "cell_type": "markdown",
   "metadata": {},
   "source": [
    "### 3) Upload Tasks to Label Studio"
   ]
  },
  {
   "cell_type": "code",
   "execution_count": null,
   "metadata": {},
   "outputs": [],
   "source": [
    "# get reports directly from database\n",
    "query = \"\"\"\n",
    "            SELECT\n",
    "                report_id,\n",
    "                patient_no,\n",
    "                protocol_no,\n",
    "                report_original,\n",
    "                report_prompted as text,\n",
    "                report_length,\n",
    "                patient_report_count\n",
    "            FROM\n",
    "                annotation.upload_tasks\n",
    "            WHERE\n",
    "                report_id NOT IN (\n",
    "                SELECT\n",
    "                    (DATA ->> 'report_id')::INT AS report_id\n",
    "                FROM\n",
    "                    public.task)\n",
    "                AND report_prompted != ''\n",
    "        \"\"\"\n",
    "\n",
    "# get values from the database\n",
    "df_upload_tasks = db.read_sql_query(query)\n",
    "\n",
    "# output tasks as a csv file\n",
    "output_path = (\n",
    "    transformation.get_project_root() / \"tmp\" / \"data\" / \"upload_tasks.csv\"\n",
    ")\n",
    "df_upload_tasks.to_csv(output_path, index=False)"
   ]
  },
  {
   "cell_type": "code",
   "execution_count": null,
   "metadata": {},
   "outputs": [
    {
     "name": "stderr",
     "output_type": "stream",
     "text": [
      "  % Total    % Received % Xferd  Average Speed   Time    Time     Time  Current\n",
      "                                 Dload  Upload   Total   Spent    Left  Speed\n",
      "  0     0    0     0    0     0      0      0 --:--:-- --:--:-- --:--:--     0"
     ]
    },
    {
     "name": "stdout",
     "output_type": "stream",
     "text": [
      "{\"task_count\":454,\"annotation_count\":0,\"prediction_count\":0,\"duration\":0.334151029586792,\"file_upload_ids\":[50],\"could_be_tasks_list\":true,\"found_formats\":{\".csv\":1},\"data_columns\":[\"text\",\"report_original\",\"report_id\",\"protocol_no\",\"patient_report_count\",\"report_length\",\"patient_no\"]}"
     ]
    },
    {
     "name": "stderr",
     "output_type": "stream",
     "text": [
      "100  759k  100   286  100  759k    272   723k  0:00:01  0:00:01 --:--:--  727k\n"
     ]
    }
   ],
   "source": [
    "# upload tasks to label studio\n",
    "label_studio.upload_csv_tasks(csv_path=output_path, project_id=7)"
   ]
  },
  {
   "cell_type": "code",
   "execution_count": null,
   "metadata": {},
   "outputs": [
    {
     "name": "stderr",
     "output_type": "stream",
     "text": [
      " \u001b[33m›\u001b[39m   Warning: Our terms of service have changed: \n",
      " \u001b[33m›\u001b[39m   https://dashboard.heroku.com/terms-of-service\n",
      "Scaling dynos... done, now running \u001b[32mweb\u001b[39m at 0:Basic\n"
     ]
    }
   ],
   "source": [
    "label_studio.stop_label_studio()"
   ]
  }
 ],
 "metadata": {
  "kernelspec": {
   "display_name": ".venv",
   "language": "python",
   "name": "python3"
  },
  "language_info": {
   "codemirror_mode": {
    "name": "ipython",
    "version": 3
   },
   "file_extension": ".py",
   "mimetype": "text/x-python",
   "name": "python",
   "nbconvert_exporter": "python",
   "pygments_lexer": "ipython3",
   "version": "3.11.6"
  },
  "orig_nbformat": 4
 },
 "nbformat": 4,
 "nbformat_minor": 2
}
