{
 "cells": [
  {
   "cell_type": "code",
   "execution_count": 1,
   "metadata": {},
   "outputs": [
    {
     "name": "stderr",
     "output_type": "stream",
     "text": [
      "2023-11-25 01:15:48,867 - AI Reports - WARNING - Logging to file: /Users/goktugasci/Desktop/reports/tmp/run_2023-11-25_01-15-48.log\n"
     ]
    }
   ],
   "source": [
    "import time\n",
    "import datetime\n",
    "\n",
    "from experiment.utils import dbutils, transformation\n",
    "from experiment.utils.logging import logger\n",
    "from experiment.utils.tables.upload_tasks_table import UploadTasksTable\n",
    "from experiment.api import label_studio\n",
    "\n",
    "import openai"
   ]
  },
  {
   "cell_type": "code",
   "execution_count": 2,
   "metadata": {},
   "outputs": [],
   "source": [
    "db = dbutils.DatabaseUtils()"
   ]
  },
  {
   "cell_type": "code",
   "execution_count": 3,
   "metadata": {},
   "outputs": [],
   "source": [
    "PROMPT_N_MORE_REPORTS = 200\n",
    "PROMPT = \"Perform the following transformation on the report: Translate into English\" \n",
    "PRIORITIZE_BY = \"normal\" # \"normal\" or \"emergency\""
   ]
  },
  {
   "cell_type": "code",
   "execution_count": 4,
   "metadata": {},
   "outputs": [],
   "source": [
    "reports_raw, Base = UploadTasksTable()"
   ]
  },
  {
   "cell_type": "code",
   "execution_count": 5,
   "metadata": {},
   "outputs": [
    {
     "name": "stdout",
     "output_type": "stream",
     "text": [
      "\u001b[0m22:15:53  Running with dbt=1.6.1\n",
      "\u001b[0m22:15:53  Registered adapter: postgres=1.6.1\n",
      "\u001b[0m22:15:54  Found 9 models, 1 snapshot, 3 sources, 0 exposures, 0 metrics, 689 macros, 0 groups, 0 semantic models\n",
      "\u001b[0m22:15:54  \n",
      "\u001b[0m22:15:56  Concurrency: 5 threads (target='prod')\n",
      "\u001b[0m22:15:56  \n",
      "\u001b[0m22:15:56  1 of 1 START snapshot snapshot.report_classifications_snapshot ................. [RUN]\n",
      "\u001b[0m22:15:58  1 of 1 OK snapshotted snapshot.report_classifications_snapshot ................. [\u001b[32msuccess\u001b[0m in 1.60s]\n",
      "\u001b[0m22:15:58  \n",
      "\u001b[0m22:15:58  Finished running 1 snapshot in 0 hours 0 minutes and 4.78 seconds (4.78s).\n",
      "\u001b[0m22:15:58  \n",
      "\u001b[0m22:15:58  \u001b[32mCompleted successfully\u001b[0m\n",
      "\u001b[0m22:15:58  \n",
      "\u001b[0m22:15:58  Done. PASS=1 WARN=0 ERROR=0 SKIP=0 TOTAL=1\n",
      "\u001b[0m22:16:00  Running with dbt=1.6.1\n",
      "\u001b[0m22:16:00  Registered adapter: postgres=1.6.1\n",
      "\u001b[0m22:16:01  Found 9 models, 1 snapshot, 3 sources, 0 exposures, 0 metrics, 689 macros, 0 groups, 0 semantic models\n",
      "\u001b[0m22:16:01  \n",
      "\u001b[0m22:16:03  Concurrency: 5 threads (target='prod')\n",
      "\u001b[0m22:16:03  \n",
      "\u001b[0m22:16:03  1 of 3 START sql view model annotation.stg_reports ............................. [RUN]\n",
      "\u001b[0m22:16:04  1 of 3 OK created sql view model annotation.stg_reports ........................ [\u001b[32mCREATE VIEW\u001b[0m in 1.11s]\n",
      "\u001b[0m22:16:04  2 of 3 START sql table model annotation.reports ................................ [RUN]\n",
      "\u001b[0m22:16:06  2 of 3 OK created sql table model annotation.reports ........................... [\u001b[32mSELECT 32132\u001b[0m in 1.94s]\n",
      "\u001b[0m22:16:06  3 of 3 START sql incremental model annotation.upload_tasks ..................... [RUN]\n",
      "\u001b[0m22:16:09  3 of 3 OK created sql incremental model annotation.upload_tasks ................ [\u001b[32mMERGE 25687\u001b[0m in 2.63s]\n",
      "\u001b[0m22:16:10  \n",
      "\u001b[0m22:16:10  Finished running 1 view model, 1 table model, 1 incremental model in 0 hours 0 minutes and 8.80 seconds (8.80s).\n",
      "\u001b[0m22:16:10  \n",
      "\u001b[0m22:16:10  \u001b[32mCompleted successfully\u001b[0m\n",
      "\u001b[0m22:16:10  \n",
      "\u001b[0m22:16:10  Done. PASS=3 WARN=0 ERROR=0 SKIP=0 TOTAL=3\n",
      "\u001b[0m22:16:11  Running with dbt=1.6.1\n",
      "\u001b[0m22:16:11  Registered adapter: postgres=1.6.1\n",
      "\u001b[0m22:16:12  Found 9 models, 1 snapshot, 3 sources, 0 exposures, 0 metrics, 689 macros, 0 groups, 0 semantic models\n",
      "\u001b[0m22:16:12  \n",
      "\u001b[0m22:16:15  Concurrency: 1 threads (target='prod')\n",
      "\u001b[0m22:16:15  \n",
      "\u001b[0m22:16:15  1 of 6 START sql view model annotation.stg_task_completion ..................... [RUN]\n",
      "\u001b[0m22:16:16  1 of 6 OK created sql view model annotation.stg_task_completion ................ [\u001b[32mCREATE VIEW\u001b[0m in 1.10s]\n",
      "\u001b[0m22:16:16  2 of 6 START sql incremental model annotation.tasks ............................ [RUN]\n",
      "\u001b[0m22:16:17  2 of 6 OK created sql incremental model annotation.tasks ....................... [\u001b[32mSELECT 2688\u001b[0m in 1.14s]\n",
      "\u001b[0m22:16:18  3 of 6 START sql incremental model annotation.choices .......................... [RUN]\n",
      "\u001b[0m22:16:19  3 of 6 OK created sql incremental model annotation.choices ..................... [\u001b[32mSELECT 862\u001b[0m in 1.14s]\n",
      "\u001b[0m22:16:19  4 of 6 START sql incremental model annotation.labels ........................... [RUN]\n",
      "\u001b[0m22:16:20  4 of 6 OK created sql incremental model annotation.labels ...................... [\u001b[32mSELECT 444\u001b[0m in 1.15s]\n",
      "\u001b[0m22:16:20  5 of 6 START sql incremental model annotation.textareas ........................ [RUN]\n",
      "\u001b[0m22:16:21  5 of 6 OK created sql incremental model annotation.textareas ................... [\u001b[32mSELECT 539\u001b[0m in 1.16s]\n",
      "\u001b[0m22:16:21  6 of 6 START sql incremental model annotation.report_classifications ........... [RUN]\n",
      "\u001b[0m22:16:22  6 of 6 OK created sql incremental model annotation.report_classifications ...... [\u001b[32mSELECT 862\u001b[0m in 1.11s]\n",
      "\u001b[0m22:16:23  \n",
      "\u001b[0m22:16:23  Finished running 1 view model, 5 incremental models in 0 hours 0 minutes and 10.90 seconds (10.90s).\n",
      "\u001b[0m22:16:23  \n",
      "\u001b[0m22:16:23  \u001b[32mCompleted successfully\u001b[0m\n",
      "\u001b[0m22:16:23  \n",
      "\u001b[0m22:16:23  Done. PASS=6 WARN=0 ERROR=0 SKIP=0 TOTAL=6\n"
     ]
    }
   ],
   "source": [
    "# generate annotation tables\n",
    "# Base.metadata.create_all(db.engine)\n",
    "\n",
    "db.run_dbt_model('all')"
   ]
  },
  {
   "cell_type": "markdown",
   "metadata": {},
   "source": [
    "### 1) Select Reports"
   ]
  },
  {
   "cell_type": "code",
   "execution_count": 6,
   "metadata": {},
   "outputs": [],
   "source": [
    "PRIORITIZE_BY_VALUES = {\n",
    "    \"normal\": \"ASC\",\n",
    "    \"emergency\": \"DESC\"\n",
    "}"
   ]
  },
  {
   "cell_type": "code",
   "execution_count": 7,
   "metadata": {},
   "outputs": [
    {
     "data": {
      "text/html": [
       "<div>\n",
       "<style scoped>\n",
       "    .dataframe tbody tr th:only-of-type {\n",
       "        vertical-align: middle;\n",
       "    }\n",
       "\n",
       "    .dataframe tbody tr th {\n",
       "        vertical-align: top;\n",
       "    }\n",
       "\n",
       "    .dataframe thead th {\n",
       "        text-align: right;\n",
       "    }\n",
       "</style>\n",
       "<table border=\"1\" class=\"dataframe\">\n",
       "  <thead>\n",
       "    <tr style=\"text-align: right;\">\n",
       "      <th></th>\n",
       "      <th>report_id</th>\n",
       "      <th>patient_no</th>\n",
       "      <th>protocol_no</th>\n",
       "      <th>report_original</th>\n",
       "      <th>report_length</th>\n",
       "      <th>report_prompted</th>\n",
       "      <th>patient_report_count</th>\n",
       "    </tr>\n",
       "  </thead>\n",
       "  <tbody>\n",
       "    <tr>\n",
       "      <th>0</th>\n",
       "      <td>4211</td>\n",
       "      <td>2005095794</td>\n",
       "      <td>22813555</td>\n",
       "      <td>RAPOR TARİHİ:16/07/2022   FİLM NO:\\n\\n Beyin B...</td>\n",
       "      <td>47</td>\n",
       "      <td></td>\n",
       "      <td>1</td>\n",
       "    </tr>\n",
       "    <tr>\n",
       "      <th>1</th>\n",
       "      <td>2844</td>\n",
       "      <td>2004946777</td>\n",
       "      <td>21894588</td>\n",
       "      <td>RAPOR TARİHİ: 07/12/2021   FİLM NO: 12405087\\n...</td>\n",
       "      <td>47</td>\n",
       "      <td></td>\n",
       "      <td>1</td>\n",
       "    </tr>\n",
       "    <tr>\n",
       "      <th>2</th>\n",
       "      <td>915</td>\n",
       "      <td>2004336082</td>\n",
       "      <td>23924988</td>\n",
       "      <td>RAPOR TARİHİ:14/05/2023   FİLM NO:\\n\\nKontrast...</td>\n",
       "      <td>47</td>\n",
       "      <td></td>\n",
       "      <td>1</td>\n",
       "    </tr>\n",
       "    <tr>\n",
       "      <th>3</th>\n",
       "      <td>3301</td>\n",
       "      <td>2005040837</td>\n",
       "      <td>22665007</td>\n",
       "      <td>RAPOR TARİHİ:27/06/2022   FİLM NO:\\n\\nBeyin   ...</td>\n",
       "      <td>47</td>\n",
       "      <td></td>\n",
       "      <td>1</td>\n",
       "    </tr>\n",
       "    <tr>\n",
       "      <th>4</th>\n",
       "      <td>4923</td>\n",
       "      <td>2005145142</td>\n",
       "      <td>22865336</td>\n",
       "      <td>RAPOR TARİHİ:30/07/2022   FİLM NO:\\n\\nBeyin BT...</td>\n",
       "      <td>47</td>\n",
       "      <td></td>\n",
       "      <td>1</td>\n",
       "    </tr>\n",
       "  </tbody>\n",
       "</table>\n",
       "</div>"
      ],
      "text/plain": [
       "   report_id  patient_no  protocol_no  \\\n",
       "0       4211  2005095794     22813555   \n",
       "1       2844  2004946777     21894588   \n",
       "2        915  2004336082     23924988   \n",
       "3       3301  2005040837     22665007   \n",
       "4       4923  2005145142     22865336   \n",
       "\n",
       "                                     report_original  report_length  \\\n",
       "0  RAPOR TARİHİ:16/07/2022   FİLM NO:\\n\\n Beyin B...             47   \n",
       "1  RAPOR TARİHİ: 07/12/2021   FİLM NO: 12405087\\n...             47   \n",
       "2  RAPOR TARİHİ:14/05/2023   FİLM NO:\\n\\nKontrast...             47   \n",
       "3  RAPOR TARİHİ:27/06/2022   FİLM NO:\\n\\nBeyin   ...             47   \n",
       "4  RAPOR TARİHİ:30/07/2022   FİLM NO:\\n\\nBeyin BT...             47   \n",
       "\n",
       "  report_prompted  patient_report_count  \n",
       "0                                     1  \n",
       "1                                     1  \n",
       "2                                     1  \n",
       "3                                     1  \n",
       "4                                     1  "
      ]
     },
     "execution_count": 7,
     "metadata": {},
     "output_type": "execute_result"
    }
   ],
   "source": [
    "# get reports directly from database\n",
    "query = f\"\"\"\n",
    "            SELECT * FROM annotation.upload_tasks ut \n",
    "            WHERE\n",
    "                report_id NOT IN (\n",
    "                SELECT\n",
    "                    (DATA ->> 'report_id')::INT AS report_id\n",
    "                FROM\n",
    "                    public.task)\n",
    "                ORDER BY patient_report_count {PRIORITIZE_BY_VALUES[PRIORITIZE_BY]}, report_length {PRIORITIZE_BY_VALUES[PRIORITIZE_BY]} \n",
    "        \"\"\"\n",
    "\n",
    "# get values from the database\n",
    "df_reports = db.read_sql_query(query)\n",
    "df_reports.head()"
   ]
  },
  {
   "cell_type": "code",
   "execution_count": 8,
   "metadata": {},
   "outputs": [],
   "source": [
    "# get annotated reports \n",
    "query = \"\"\"\n",
    "            SELECT \n",
    "                DISTINCT data ->> 'patient_no' as patient_no\n",
    "            FROM task\n",
    "            WHERE is_labeled = TRUE\n",
    "        \"\"\"\n",
    "\n",
    "# get values from the database\n",
    "annotated_patient_nos = db.read_sql_query(query)[\"patient_no\"].to_list()"
   ]
  },
  {
   "cell_type": "code",
   "execution_count": 9,
   "metadata": {},
   "outputs": [],
   "source": [
    "# get tasks that have been prompted\n",
    "query = \"\"\"\n",
    "            SELECT \n",
    "                report_id\n",
    "            FROM annotation.upload_tasks\n",
    "            WHERE report_prompted != '' \n",
    "        \"\"\"\n",
    "\n",
    "# get values from the database\n",
    "upload_tasks_prompted = db.read_sql_query(query)[\"report_id\"].to_list()"
   ]
  },
  {
   "cell_type": "code",
   "execution_count": 10,
   "metadata": {},
   "outputs": [],
   "source": [
    "# use only non-prompted reports & non-annotated patients\n",
    "df_upload_tasks = (\n",
    "    df_reports.loc[~df_reports[\"patient_no\"].isin(annotated_patient_nos)]\n",
    "    .loc[~df_reports[\"report_id\"].isin(upload_tasks_prompted)]\n",
    "    .head(PROMPT_N_MORE_REPORTS)\n",
    ")"
   ]
  },
  {
   "cell_type": "markdown",
   "metadata": {},
   "source": [
    "### 2) Prompt Reports"
   ]
  },
  {
   "cell_type": "code",
   "execution_count": 14,
   "metadata": {},
   "outputs": [
    {
     "name": "stderr",
     "output_type": "stream",
     "text": [
      "2023-11-25 01:20:42,270 - AI Reports - INFO - 1 - A report translated & uploaded\n"
     ]
    }
   ],
   "source": [
    "cols_to_upsert = df_upload_tasks.columns.to_list()\n",
    "cols_to_upsert.remove(\"report_id\")\n",
    "data_to_insert = []\n",
    "\n",
    "for idx, (_, row) in enumerate(df_upload_tasks.iterrows()):\n",
    "    try:\n",
    "        data_to_insert.append(\n",
    "            {\n",
    "                \"report_id\": row[\"report_id\"],\n",
    "                \"patient_no\": row[\"patient_no\"],\n",
    "                \"protocol_no\": row[\"protocol_no\"],\n",
    "                \"report_original\": row[\"report_original\"],\n",
    "                \"report_prompted\": transformation.prompt_report(\n",
    "                    report=row[\"report_original\"], prompt=PROMPT\n",
    "                ),\n",
    "                \"report_length\": row[\"report_length\"],\n",
    "                \"patient_report_count\": row[\"patient_report_count\"],\n",
    "            }\n",
    "        )\n",
    "\n",
    "        db.upsert_values(reports_raw, data_to_insert, cols_to_upsert, [\"report_id\"])\n",
    "\n",
    "        logger.info(f\"{idx + 1}. report translated & uploaded\")\n",
    "\n",
    "        time.sleep(20)\n",
    "    except Exception as error:\n",
    "        # openai restriction: 3 RPM - 200 RPD\n",
    "        logger.error(error)\n",
    "\n",
    "logger.info(f\"Finished prompting {len(data_to_insert)} reports\")"
   ]
  },
  {
   "cell_type": "markdown",
   "metadata": {},
   "source": [
    "### 3) Upload Tasks to Label Studio"
   ]
  },
  {
   "cell_type": "code",
   "execution_count": null,
   "metadata": {},
   "outputs": [],
   "source": [
    "# get reports directly from database\n",
    "query = \"\"\"\n",
    "            SELECT\n",
    "                report_id,\n",
    "                patient_no,\n",
    "                protocol_no,\n",
    "                report_original,\n",
    "                report_prompted as text,\n",
    "                report_length,\n",
    "                patient_report_count\n",
    "            FROM\n",
    "                annotation.upload_tasks\n",
    "            WHERE\n",
    "                report_id NOT IN (\n",
    "                SELECT\n",
    "                    (DATA ->> 'report_id')::INT AS report_id\n",
    "                FROM\n",
    "                    public.task)\n",
    "                AND report_prompted != ''\n",
    "        \"\"\"\n",
    "\n",
    "# get values from the database\n",
    "df_upload_tasks = db.read_sql_query(query)\n",
    "\n",
    "# output tasks as a csv file\n",
    "output_path = (\n",
    "    transformation.get_project_root() / \"tmp\" / \"data\" / \"upload_tasks.csv\"\n",
    ")\n",
    "df_upload_tasks.to_csv(output_path, index=False)"
   ]
  },
  {
   "cell_type": "code",
   "execution_count": null,
   "metadata": {},
   "outputs": [],
   "source": [
    "# upload tasks to label studio\n",
    "label_studio.upload_csv_tasks(csv_path=output_path, project_id=7)"
   ]
  },
  {
   "cell_type": "code",
   "execution_count": null,
   "metadata": {},
   "outputs": [],
   "source": [
    "label_studio.stop_label_studio()"
   ]
  }
 ],
 "metadata": {
  "kernelspec": {
   "display_name": ".venv",
   "language": "python",
   "name": "python3"
  },
  "language_info": {
   "codemirror_mode": {
    "name": "ipython",
    "version": 3
   },
   "file_extension": ".py",
   "mimetype": "text/x-python",
   "name": "python",
   "nbconvert_exporter": "python",
   "pygments_lexer": "ipython3",
   "version": "3.11.6"
  },
  "orig_nbformat": 4
 },
 "nbformat": 4,
 "nbformat_minor": 2
}
