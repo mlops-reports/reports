{
 "cells": [
  {
   "cell_type": "code",
   "execution_count": 61,
   "metadata": {},
   "outputs": [],
   "source": [
    "import tensorflow as tf\n",
    "# from tensorflow import keras\n",
    "import nltk\n",
    "import simplemma\n",
    "from experiment import transformation\n",
    "import pandas as pd\n",
    "import pathlib\n",
    "import json\n",
    "import numpy as np\n",
    "\n",
    "\n",
    "from tensorflow.keras.preprocessing.text import Tokenizer\n",
    "from tensorflow.keras.preprocessing.sequence import pad_sequences"
   ]
  },
  {
   "cell_type": "code",
   "execution_count": 62,
   "metadata": {},
   "outputs": [],
   "source": [
    "working_dir = pathlib.Path.cwd()\n",
    "\n",
    "test_and_train_studies = 40\n",
    "vocab_size = 10000\n",
    "embedding_dim = 16\n",
    "max_input_length = 25 # default\n",
    "trunc_type='post'\n",
    "padding_type='post'\n",
    "oov_token = None # \"<OOV>\"\n",
    "training_percent = 80\n",
    "num_epochs = 100\n",
    "batch_size=8"
   ]
  },
  {
   "cell_type": "code",
   "execution_count": 63,
   "metadata": {},
   "outputs": [],
   "source": [
    "clean_annotations = pd.read_csv(working_dir.parent / \"data\" / \"output\" / \"clean_annotations.csv\")\n",
    "\n",
    "sentences = clean_annotations[\"relevant_text\"].to_list()[:test_and_train_studies]\n",
    "production_sentences = clean_annotations[\"relevant_text\"].to_list()[test_and_train_studies:]\n",
    "\n",
    "# 1. Emergency\n",
    "# 2. Normal\n",
    "# 3. Non Emergency [Doctor]\n",
    "# 4. Non Emergency [No Doctor]\n",
    "clean_labels = clean_annotations[\"classifications\"].to_list()[:test_and_train_studies]\n",
    "production_labels = clean_annotations[\"classifications\"].to_list()[test_and_train_studies:]"
   ]
  },
  {
   "cell_type": "code",
   "execution_count": 64,
   "metadata": {},
   "outputs": [
    {
     "data": {
      "text/plain": [
       "['Kontrastsız Beyin BT Kafa kaidesi ve kalvarial kemik yapılar normal sınırlardadır. 4.ventrikül ve bazal sisternalar normal genişliktedir. Posterior fossa oluşumları olağandır. İntrakranial hipo veya hiperdens sınırlanabilen patoloji saptanmadı. 3.ventrikül orta hatta ve normal genişliktedir. Lateral ventriküller olağandır. Beyin orta hat yapılarında yer değiştirme saptanmamıştır. Serebral sulkuslar olağandır. Nazal septum sola deviye görünümdedir ve BTye yansıyan tipik bir akut iskemi bulgusu mevcut değildir.  Ancak bu konuda klinik kuşku varsa olgunun diffüzyon MRG ile değerlendirilmesi ve detaylandırılması daha yararlı olacaktır. ',\n",
       " 'Sol serebellar hemisferde sekel ??? ensefalomalazi sahaları ve eski iskemi sekeli değişiklikler izlenmektedir. Sağ serebellar hemisfer düzeyinde de benzer bulgular izlenmekle birlikte her iki serebellumda atrofi bulguları ve folyolarda belirginleşme mevcuttur. Supratentorial kesitlerin değerlendirilmesinde 3. ve lateral ventrikul, konveksite sulkusları atrofiye sekonder belirginleşmiştir. Sağda posterior serebral arter sulama sahasında kronik iskemik sekel gliozis sahalarının varlığı mevcuttur. Periventrikuler lökoriazis alanları izlenmektedir. ',\n",
       " ' Periventriküler derin beyaz cevherde kronik iskemik gliozise bağlı dansite kaybı izlenmektedir. Bazal sisterna ve serebral konvekste sulkuslarının genişliği atrofi ile uyumlu artmıştır. Sağ oksipital lobda kronik infarkt sekeli ensefalomalazi- gliozis ile uyumlu hipodens alan mevcuttur. Sağ kapsüle interna ön bölümünde de kronik infarkta ait hipodens alan izlenmiştir. Her iki lateral ventrikül genişliği atrofi zemininde hafif artmış görünümdedir. ',\n",
       " 'Sağda orbita tavanınd frontal sinüs tabanında çökme gösteren fraktür hatları izlenmiştir. Sağ orbita medial duvarında da fraktür hatları izlenmektedir. Sağ orbita tabanında maksiller sinüs üst duvarında yine çökme gösteren fraktür hattı mevcut olup orbital yağ dokunun bu düzeyden maksiller sinüse doğru uzanımı saptanmıştır. Sağ maksiller sinüs içerisinde kanama ile uyumlu yüksek dansiteli görünümlerde izlenmiştir. ',\n",
       " 'Sağ orbita üst duvarında fraktüre ait görünüm izlenmekte olup medial kesimde frontal sinüs duvarına uzanmaktadır,fraktüre komşu dural planlarda milimetrik hava değerleri mevcuttur.Sağ frontal sinüs inferior kesiminde anterior duvarda da fraktür hattı izlenmiştir.Sağ frontal bölgede ve periorbital alanda cilt altı yumuşak dokuda ödem- hematom ile uyumlu dansite ve kalınlık artışı ile hava değerleri mevcuttur. ']"
      ]
     },
     "execution_count": 64,
     "metadata": {},
     "output_type": "execute_result"
    }
   ],
   "source": [
    "sentences[:5]"
   ]
  },
  {
   "cell_type": "code",
   "execution_count": 65,
   "metadata": {},
   "outputs": [
    {
     "name": "stderr",
     "output_type": "stream",
     "text": [
      "[nltk_data] Downloading package stopwords to\n",
      "[nltk_data]     /Users/gokasci/nltk_data...\n",
      "[nltk_data]   Package stopwords is already up-to-date!\n"
     ]
    }
   ],
   "source": [
    "clean_sentences = transformation.sentence_cleaning_pipeline(sentences)\n",
    "max_input_length = transformation.find_longest_sentence_length(clean_sentences)"
   ]
  },
  {
   "cell_type": "code",
   "execution_count": 66,
   "metadata": {},
   "outputs": [
    {
     "name": "stdout",
     "output_type": "stream",
     "text": [
      "clean sentences: 40\n",
      "production sentences: 13\n"
     ]
    },
    {
     "data": {
      "text/plain": [
       "['kontrast beyin bt kafa kaide kalvarial kemik yapı normal sınır 4 ventrikül bazal sisternalar normal genişlik posterior fossa oluşum olağan i̇ntrakranial hipo hiperdens sınırlanabilen patoloji 3 ventrikül orta hatta normal genişlik lateral ventrikül olağan beyin orta hat yapı yer değiş sapta serebral sulkus olağan nazal septum sol deviye görünüm btye yansı tipik bir akut iskemi bulgu mevcut değil ancak konu klinik kuşku var olgu diffüzyon mrg değer detaylandırılması yarar ol',\n",
       " 'sol serebellar hemisfer sekel ensefalomalazi saha eski iskemi sekel değişik izle sağ serebellar hemisfer düzey benzer bulgu izle birlikte iki serebellumda atrofi bulgu folyo belirgin mevcut supratentorial kesit değerlendirilmesin 3 lateral ventrikul konveksite sulkus atrofiye sekonder belirgin sağ posterior serebral arter sula saha kronik iskemik sekel gliozis saha varlık mevcut periventrikuler lökoriazis alan izle',\n",
       " 'periventriküler derin beyaz cevher kronik iskemik gliozise bağ dansite kayıp izle bazal sisterna serebral konveks sulkuslar genişlik atrofi uyum art sağ oksipital lobda kronik infarkt sekel ensefalomalazi gliozis uyum hipodens alan mevcut sağ kapsül interna ön bölüm kronik infarkta ait hipodens alan izle her iki lateral ventrikül genişlik atrofi zemin hafif art görünüm',\n",
       " 'sağ orbita tavan frontal sinüs taban çök göster fraktür hat izle sağ orbita medial duvar fraktür hat izle sağ orbita taban maksiller sinüs üst duvar yine çök göster fraktür hat mevcut ol orbital yağ doku düzey maksiller sinüs doğru uzanım sapta sağ maksiller sinüs içeri kana uyum yüksek dansite görünüm izle',\n",
       " 'sağ orbita üst duvar fraktüre ait görünüm izle ol medial kesim frontal sinüs duvar uza fraktüre komşu dural plan milimetrik hava değer mevcut sağ frontal sinüs inferior kesim anterior duvar fraktür hat izle sağ frontal bölge periorbital alan cilt altı yumuşak doku ödem hematom uyum dansite kalınlık art hava değer mevcut']"
      ]
     },
     "execution_count": 66,
     "metadata": {},
     "output_type": "execute_result"
    }
   ],
   "source": [
    "# sentence count\n",
    "print(f\"clean sentences: {len(clean_sentences)}\")\n",
    "print(f\"production sentences: {len(production_sentences)}\")\n",
    "# show clean sentences\n",
    "clean_sentences[:5]"
   ]
  },
  {
   "cell_type": "code",
   "execution_count": 67,
   "metadata": {},
   "outputs": [
    {
     "data": {
      "text/plain": [
       "[1, 3, 3, 0, 0]"
      ]
     },
     "execution_count": 67,
     "metadata": {},
     "output_type": "execute_result"
    }
   ],
   "source": [
    "clean_labels[:5]"
   ]
  },
  {
   "cell_type": "code",
   "execution_count": 68,
   "metadata": {},
   "outputs": [],
   "source": [
    "# save json files\n",
    "with open(working_dir.parent / \"data\" / \"output\" / \"lemma_correction.json\", \"w\", encoding=\"utf-8\") as json_file:\n",
    "    data = {\n",
    "        str(index): {\"no_lemma\": sentence, \"lemma\": clean_sentence}\n",
    "        for index, (sentence, clean_sentence) in enumerate(\n",
    "            zip(sentences, clean_sentences)\n",
    "        )\n",
    "    }\n",
    "    json_file.write(json.dumps(data, indent=4, ensure_ascii=False))"
   ]
  },
  {
   "cell_type": "code",
   "execution_count": 69,
   "metadata": {},
   "outputs": [],
   "source": [
    "# manuall test the word lemmatizer\n",
    "# word = \"hemisferde\"\n",
    "# simplemma.lemmatize(word, lang=\"tr\").lower()"
   ]
  },
  {
   "cell_type": "code",
   "execution_count": 70,
   "metadata": {},
   "outputs": [],
   "source": [
    "training_size = int(len(clean_sentences) * training_percent / 100)\n",
    "training_sentences = clean_sentences[0:training_size]\n",
    "testing_sentences = clean_sentences[training_size:]\n",
    "training_labels = clean_labels[0:training_size]\n",
    "testing_labels = clean_labels[training_size:]"
   ]
  },
  {
   "cell_type": "code",
   "execution_count": 71,
   "metadata": {},
   "outputs": [],
   "source": [
    "tokenizer = Tokenizer(num_words=vocab_size, oov_token=oov_token)\n",
    "tokenizer.fit_on_texts(training_sentences)\n",
    "\n",
    "training_sequences = tokenizer.texts_to_sequences(training_sentences)\n",
    "training_padded = pad_sequences(training_sequences, maxlen=max_input_length, padding=padding_type, truncating=trunc_type)\n",
    "testing_sequences = tokenizer.texts_to_sequences(testing_sentences)\n",
    "testing_padded = pad_sequences(testing_sequences, maxlen=max_input_length, padding=padding_type, truncating=trunc_type)\n",
    "\n",
    "training_padded = np.array(training_padded)\n",
    "training_labels = np.array(training_labels)\n",
    "testing_padded = np.array(testing_padded)\n",
    "testing_labels = np.array(testing_labels)"
   ]
  },
  {
   "cell_type": "code",
   "execution_count": 72,
   "metadata": {},
   "outputs": [],
   "source": [
    "model = tf.keras.Sequential(\n",
    "    [\n",
    "        tf.keras.layers.Embedding(\n",
    "            vocab_size, embedding_dim, input_length=max_input_length\n",
    "        ),\n",
    "        tf.keras.layers.GlobalAveragePooling1D(),\n",
    "        tf.keras.layers.Dense(64, activation=\"relu\"),\n",
    "        tf.keras.layers.Dense(64, activation=\"relu\"),\n",
    "        tf.keras.layers.Dense(64, activation=\"relu\"),\n",
    "        tf.keras.layers.Dense(64, activation=\"relu\"),\n",
    "        tf.keras.layers.Dense(64, activation=\"relu\"),\n",
    "        tf.keras.layers.Dense(64, activation=\"relu\"),\n",
    "        tf.keras.layers.Dense(32, activation=\"relu\"),\n",
    "        tf.keras.layers.Dense(4, activation=\"softmax\"),\n",
    "    ]\n",
    ")\n",
    "model.compile(\n",
    "    loss=\"sparse_categorical_crossentropy\", optimizer=\"adam\", metrics=[\"accuracy\"]\n",
    ")"
   ]
  },
  {
   "cell_type": "code",
   "execution_count": 73,
   "metadata": {},
   "outputs": [
    {
     "name": "stdout",
     "output_type": "stream",
     "text": [
      "Model: \"sequential_3\"\n",
      "_________________________________________________________________\n",
      " Layer (type)                Output Shape              Param #   \n",
      "=================================================================\n",
      " embedding_3 (Embedding)     (None, 70, 16)            160000    \n",
      "                                                                 \n",
      " global_average_pooling1d_3  (None, 16)                0         \n",
      "  (GlobalAveragePooling1D)                                       \n",
      "                                                                 \n",
      " dense_24 (Dense)            (None, 64)                1088      \n",
      "                                                                 \n",
      " dense_25 (Dense)            (None, 64)                4160      \n",
      "                                                                 \n",
      " dense_26 (Dense)            (None, 64)                4160      \n",
      "                                                                 \n",
      " dense_27 (Dense)            (None, 64)                4160      \n",
      "                                                                 \n",
      " dense_28 (Dense)            (None, 64)                4160      \n",
      "                                                                 \n",
      " dense_29 (Dense)            (None, 64)                4160      \n",
      "                                                                 \n",
      " dense_30 (Dense)            (None, 32)                2080      \n",
      "                                                                 \n",
      " dense_31 (Dense)            (None, 4)                 132       \n",
      "                                                                 \n",
      "=================================================================\n",
      "Total params: 184100 (719.14 KB)\n",
      "Trainable params: 184100 (719.14 KB)\n",
      "Non-trainable params: 0 (0.00 Byte)\n",
      "_________________________________________________________________\n"
     ]
    }
   ],
   "source": [
    "model.summary()"
   ]
  },
  {
   "cell_type": "code",
   "execution_count": 74,
   "metadata": {},
   "outputs": [
    {
     "name": "stdout",
     "output_type": "stream",
     "text": [
      "Epoch 1/100\n"
     ]
    },
    {
     "name": "stdout",
     "output_type": "stream",
     "text": [
      "4/4 - 0s - loss: 1.3814 - accuracy: 0.3750 - val_loss: 1.3822 - val_accuracy: 0.5000 - 494ms/epoch - 123ms/step\n",
      "Epoch 2/100\n",
      "4/4 - 0s - loss: 1.3663 - accuracy: 0.3750 - val_loss: 1.3771 - val_accuracy: 0.5000 - 22ms/epoch - 6ms/step\n",
      "Epoch 3/100\n",
      "4/4 - 0s - loss: 1.3406 - accuracy: 0.3750 - val_loss: 1.3823 - val_accuracy: 0.5000 - 25ms/epoch - 6ms/step\n",
      "Epoch 4/100\n",
      "4/4 - 0s - loss: 1.3056 - accuracy: 0.3750 - val_loss: 1.3868 - val_accuracy: 0.5000 - 23ms/epoch - 6ms/step\n",
      "Epoch 5/100\n",
      "4/4 - 0s - loss: 1.2599 - accuracy: 0.3750 - val_loss: 1.4140 - val_accuracy: 0.5000 - 24ms/epoch - 6ms/step\n",
      "Epoch 6/100\n",
      "4/4 - 0s - loss: 1.1916 - accuracy: 0.3750 - val_loss: 1.5032 - val_accuracy: 0.5000 - 24ms/epoch - 6ms/step\n",
      "Epoch 7/100\n",
      "4/4 - 0s - loss: 1.1566 - accuracy: 0.3750 - val_loss: 1.6925 - val_accuracy: 0.5000 - 27ms/epoch - 7ms/step\n",
      "Epoch 8/100\n",
      "4/4 - 0s - loss: 1.1341 - accuracy: 0.3750 - val_loss: 1.9126 - val_accuracy: 0.0000e+00 - 24ms/epoch - 6ms/step\n",
      "Epoch 9/100\n",
      "4/4 - 0s - loss: 1.0946 - accuracy: 0.4688 - val_loss: 1.9600 - val_accuracy: 0.0000e+00 - 24ms/epoch - 6ms/step\n",
      "Epoch 10/100\n",
      "4/4 - 0s - loss: 1.0871 - accuracy: 0.4688 - val_loss: 1.9339 - val_accuracy: 0.0000e+00 - 23ms/epoch - 6ms/step\n",
      "Epoch 11/100\n",
      "4/4 - 0s - loss: 1.0653 - accuracy: 0.4688 - val_loss: 1.8895 - val_accuracy: 0.0000e+00 - 24ms/epoch - 6ms/step\n",
      "Epoch 12/100\n",
      "4/4 - 0s - loss: 1.0463 - accuracy: 0.4688 - val_loss: 1.8200 - val_accuracy: 0.0000e+00 - 22ms/epoch - 6ms/step\n",
      "Epoch 13/100\n",
      "4/4 - 0s - loss: 1.0269 - accuracy: 0.4688 - val_loss: 1.7936 - val_accuracy: 0.0000e+00 - 23ms/epoch - 6ms/step\n",
      "Epoch 14/100\n",
      "4/4 - 0s - loss: 1.0023 - accuracy: 0.4688 - val_loss: 1.7661 - val_accuracy: 0.0000e+00 - 23ms/epoch - 6ms/step\n",
      "Epoch 15/100\n",
      "4/4 - 0s - loss: 0.9730 - accuracy: 0.4688 - val_loss: 1.7257 - val_accuracy: 0.0000e+00 - 25ms/epoch - 6ms/step\n",
      "Epoch 16/100\n",
      "4/4 - 0s - loss: 0.9278 - accuracy: 0.4688 - val_loss: 1.7034 - val_accuracy: 0.0000e+00 - 25ms/epoch - 6ms/step\n",
      "Epoch 17/100\n",
      "4/4 - 0s - loss: 0.8723 - accuracy: 0.4688 - val_loss: 1.6856 - val_accuracy: 0.0000e+00 - 24ms/epoch - 6ms/step\n",
      "Epoch 18/100\n",
      "4/4 - 0s - loss: 0.8019 - accuracy: 0.4688 - val_loss: 1.5649 - val_accuracy: 0.0000e+00 - 25ms/epoch - 6ms/step\n",
      "Epoch 19/100\n",
      "4/4 - 0s - loss: 0.7132 - accuracy: 0.5312 - val_loss: 1.4725 - val_accuracy: 0.5000 - 24ms/epoch - 6ms/step\n",
      "Epoch 20/100\n",
      "4/4 - 0s - loss: 0.6117 - accuracy: 0.8125 - val_loss: 1.3686 - val_accuracy: 0.5000 - 25ms/epoch - 6ms/step\n",
      "Epoch 21/100\n",
      "4/4 - 0s - loss: 0.5181 - accuracy: 0.8438 - val_loss: 1.3595 - val_accuracy: 0.5000 - 24ms/epoch - 6ms/step\n",
      "Epoch 22/100\n",
      "4/4 - 0s - loss: 0.4027 - accuracy: 0.8438 - val_loss: 1.3438 - val_accuracy: 0.5000 - 25ms/epoch - 6ms/step\n",
      "Epoch 23/100\n",
      "4/4 - 0s - loss: 0.3292 - accuracy: 0.8438 - val_loss: 1.4146 - val_accuracy: 0.5000 - 23ms/epoch - 6ms/step\n",
      "Epoch 24/100\n",
      "4/4 - 0s - loss: 0.2777 - accuracy: 0.8438 - val_loss: 1.3862 - val_accuracy: 0.5000 - 24ms/epoch - 6ms/step\n",
      "Epoch 25/100\n",
      "4/4 - 0s - loss: 0.2401 - accuracy: 0.8438 - val_loss: 1.1091 - val_accuracy: 0.5000 - 24ms/epoch - 6ms/step\n",
      "Epoch 26/100\n",
      "4/4 - 0s - loss: 0.2245 - accuracy: 0.8750 - val_loss: 0.9943 - val_accuracy: 0.5000 - 24ms/epoch - 6ms/step\n",
      "Epoch 27/100\n",
      "4/4 - 0s - loss: 0.2112 - accuracy: 0.9375 - val_loss: 0.9522 - val_accuracy: 0.5000 - 23ms/epoch - 6ms/step\n",
      "Epoch 28/100\n",
      "4/4 - 0s - loss: 0.2028 - accuracy: 0.9375 - val_loss: 0.9461 - val_accuracy: 0.5000 - 23ms/epoch - 6ms/step\n",
      "Epoch 29/100\n",
      "4/4 - 0s - loss: 0.1909 - accuracy: 0.9375 - val_loss: 0.9707 - val_accuracy: 0.5000 - 23ms/epoch - 6ms/step\n",
      "Epoch 30/100\n",
      "4/4 - 0s - loss: 0.1809 - accuracy: 0.9375 - val_loss: 0.9680 - val_accuracy: 0.3750 - 24ms/epoch - 6ms/step\n",
      "Epoch 31/100\n",
      "4/4 - 0s - loss: 0.1654 - accuracy: 0.9375 - val_loss: 0.9402 - val_accuracy: 0.5000 - 22ms/epoch - 6ms/step\n",
      "Epoch 32/100\n",
      "4/4 - 0s - loss: 0.1561 - accuracy: 0.9375 - val_loss: 0.8902 - val_accuracy: 0.6250 - 23ms/epoch - 6ms/step\n",
      "Epoch 33/100\n",
      "4/4 - 0s - loss: 0.1378 - accuracy: 0.9375 - val_loss: 0.8424 - val_accuracy: 0.6250 - 22ms/epoch - 5ms/step\n",
      "Epoch 34/100\n",
      "4/4 - 0s - loss: 0.1244 - accuracy: 0.9062 - val_loss: 0.8641 - val_accuracy: 0.7500 - 23ms/epoch - 6ms/step\n",
      "Epoch 35/100\n",
      "4/4 - 0s - loss: 0.1196 - accuracy: 0.9062 - val_loss: 0.9561 - val_accuracy: 0.6250 - 24ms/epoch - 6ms/step\n",
      "Epoch 36/100\n",
      "4/4 - 0s - loss: 0.1128 - accuracy: 0.9375 - val_loss: 1.0364 - val_accuracy: 0.6250 - 23ms/epoch - 6ms/step\n",
      "Epoch 37/100\n",
      "4/4 - 0s - loss: 0.1083 - accuracy: 0.9375 - val_loss: 1.0647 - val_accuracy: 0.6250 - 23ms/epoch - 6ms/step\n",
      "Epoch 38/100\n",
      "4/4 - 0s - loss: 0.1055 - accuracy: 0.9375 - val_loss: 1.0629 - val_accuracy: 0.6250 - 24ms/epoch - 6ms/step\n",
      "Epoch 39/100\n",
      "4/4 - 0s - loss: 0.1187 - accuracy: 0.9375 - val_loss: 1.0627 - val_accuracy: 0.6250 - 25ms/epoch - 6ms/step\n",
      "Epoch 40/100\n",
      "4/4 - 0s - loss: 0.1082 - accuracy: 0.9375 - val_loss: 0.9212 - val_accuracy: 0.7500 - 28ms/epoch - 7ms/step\n",
      "Epoch 41/100\n",
      "4/4 - 0s - loss: 0.1065 - accuracy: 0.9375 - val_loss: 0.9953 - val_accuracy: 0.6250 - 26ms/epoch - 7ms/step\n",
      "Epoch 42/100\n",
      "4/4 - 0s - loss: 0.0977 - accuracy: 0.9688 - val_loss: 1.0380 - val_accuracy: 0.6250 - 28ms/epoch - 7ms/step\n",
      "Epoch 43/100\n",
      "4/4 - 0s - loss: 0.0977 - accuracy: 0.9688 - val_loss: 0.9553 - val_accuracy: 0.6250 - 28ms/epoch - 7ms/step\n",
      "Epoch 44/100\n",
      "4/4 - 0s - loss: 0.0931 - accuracy: 0.9688 - val_loss: 0.9459 - val_accuracy: 0.6250 - 23ms/epoch - 6ms/step\n",
      "Epoch 45/100\n",
      "4/4 - 0s - loss: 0.0910 - accuracy: 0.9688 - val_loss: 0.9352 - val_accuracy: 0.6250 - 26ms/epoch - 7ms/step\n",
      "Epoch 46/100\n",
      "4/4 - 0s - loss: 0.0847 - accuracy: 0.9688 - val_loss: 0.9546 - val_accuracy: 0.5000 - 25ms/epoch - 6ms/step\n",
      "Epoch 47/100\n",
      "4/4 - 0s - loss: 0.0836 - accuracy: 0.9688 - val_loss: 0.9690 - val_accuracy: 0.5000 - 23ms/epoch - 6ms/step\n",
      "Epoch 48/100\n",
      "4/4 - 0s - loss: 0.0773 - accuracy: 0.9688 - val_loss: 1.0341 - val_accuracy: 0.5000 - 25ms/epoch - 6ms/step\n",
      "Epoch 49/100\n",
      "4/4 - 0s - loss: 0.0687 - accuracy: 0.9688 - val_loss: 1.1268 - val_accuracy: 0.5000 - 23ms/epoch - 6ms/step\n",
      "Epoch 50/100\n",
      "4/4 - 0s - loss: 0.0559 - accuracy: 1.0000 - val_loss: 1.1647 - val_accuracy: 0.5000 - 25ms/epoch - 6ms/step\n",
      "Epoch 51/100\n",
      "4/4 - 0s - loss: 0.0420 - accuracy: 1.0000 - val_loss: 1.2274 - val_accuracy: 0.5000 - 22ms/epoch - 6ms/step\n",
      "Epoch 52/100\n",
      "4/4 - 0s - loss: 0.0272 - accuracy: 1.0000 - val_loss: 1.4626 - val_accuracy: 0.5000 - 24ms/epoch - 6ms/step\n",
      "Epoch 53/100\n",
      "4/4 - 0s - loss: 0.0211 - accuracy: 1.0000 - val_loss: 1.8861 - val_accuracy: 0.3750 - 22ms/epoch - 5ms/step\n",
      "Epoch 54/100\n",
      "4/4 - 0s - loss: 0.0102 - accuracy: 1.0000 - val_loss: 1.8353 - val_accuracy: 0.3750 - 23ms/epoch - 6ms/step\n",
      "Epoch 55/100\n",
      "4/4 - 0s - loss: 0.0057 - accuracy: 1.0000 - val_loss: 1.9798 - val_accuracy: 0.5000 - 23ms/epoch - 6ms/step\n",
      "Epoch 56/100\n",
      "4/4 - 0s - loss: 0.0042 - accuracy: 1.0000 - val_loss: 2.5483 - val_accuracy: 0.3750 - 22ms/epoch - 6ms/step\n",
      "Epoch 57/100\n",
      "4/4 - 0s - loss: 0.0027 - accuracy: 1.0000 - val_loss: 3.2405 - val_accuracy: 0.2500 - 24ms/epoch - 6ms/step\n",
      "Epoch 58/100\n",
      "4/4 - 0s - loss: 0.0016 - accuracy: 1.0000 - val_loss: 3.6040 - val_accuracy: 0.2500 - 23ms/epoch - 6ms/step\n",
      "Epoch 59/100\n",
      "4/4 - 0s - loss: 0.0011 - accuracy: 1.0000 - val_loss: 3.6242 - val_accuracy: 0.2500 - 23ms/epoch - 6ms/step\n",
      "Epoch 60/100\n",
      "4/4 - 0s - loss: 7.4597e-04 - accuracy: 1.0000 - val_loss: 3.6607 - val_accuracy: 0.3750 - 22ms/epoch - 6ms/step\n",
      "Epoch 61/100\n",
      "4/4 - 0s - loss: 5.6474e-04 - accuracy: 1.0000 - val_loss: 3.7477 - val_accuracy: 0.3750 - 25ms/epoch - 6ms/step\n",
      "Epoch 62/100\n",
      "4/4 - 0s - loss: 4.4983e-04 - accuracy: 1.0000 - val_loss: 3.8633 - val_accuracy: 0.3750 - 22ms/epoch - 6ms/step\n",
      "Epoch 63/100\n",
      "4/4 - 0s - loss: 3.7654e-04 - accuracy: 1.0000 - val_loss: 4.0180 - val_accuracy: 0.3750 - 23ms/epoch - 6ms/step\n",
      "Epoch 64/100\n",
      "4/4 - 0s - loss: 3.2391e-04 - accuracy: 1.0000 - val_loss: 4.1760 - val_accuracy: 0.2500 - 22ms/epoch - 6ms/step\n",
      "Epoch 65/100\n",
      "4/4 - 0s - loss: 2.7993e-04 - accuracy: 1.0000 - val_loss: 4.3251 - val_accuracy: 0.2500 - 22ms/epoch - 5ms/step\n",
      "Epoch 66/100\n",
      "4/4 - 0s - loss: 2.4382e-04 - accuracy: 1.0000 - val_loss: 4.4374 - val_accuracy: 0.2500 - 23ms/epoch - 6ms/step\n",
      "Epoch 67/100\n",
      "4/4 - 0s - loss: 2.1889e-04 - accuracy: 1.0000 - val_loss: 4.5330 - val_accuracy: 0.2500 - 22ms/epoch - 6ms/step\n",
      "Epoch 68/100\n",
      "4/4 - 0s - loss: 1.9834e-04 - accuracy: 1.0000 - val_loss: 4.6049 - val_accuracy: 0.2500 - 22ms/epoch - 5ms/step\n",
      "Epoch 69/100\n",
      "4/4 - 0s - loss: 1.8254e-04 - accuracy: 1.0000 - val_loss: 4.6617 - val_accuracy: 0.2500 - 22ms/epoch - 5ms/step\n",
      "Epoch 70/100\n",
      "4/4 - 0s - loss: 1.6804e-04 - accuracy: 1.0000 - val_loss: 4.6946 - val_accuracy: 0.2500 - 25ms/epoch - 6ms/step\n",
      "Epoch 71/100\n",
      "4/4 - 0s - loss: 1.5612e-04 - accuracy: 1.0000 - val_loss: 4.7211 - val_accuracy: 0.2500 - 23ms/epoch - 6ms/step\n",
      "Epoch 72/100\n",
      "4/4 - 0s - loss: 1.4750e-04 - accuracy: 1.0000 - val_loss: 4.7672 - val_accuracy: 0.2500 - 23ms/epoch - 6ms/step\n",
      "Epoch 73/100\n",
      "4/4 - 0s - loss: 1.3715e-04 - accuracy: 1.0000 - val_loss: 4.7885 - val_accuracy: 0.2500 - 22ms/epoch - 5ms/step\n",
      "Epoch 74/100\n",
      "4/4 - 0s - loss: 1.3113e-04 - accuracy: 1.0000 - val_loss: 4.8302 - val_accuracy: 0.2500 - 23ms/epoch - 6ms/step\n",
      "Epoch 75/100\n",
      "4/4 - 0s - loss: 1.2101e-04 - accuracy: 1.0000 - val_loss: 4.8620 - val_accuracy: 0.2500 - 24ms/epoch - 6ms/step\n",
      "Epoch 76/100\n",
      "4/4 - 0s - loss: 1.1399e-04 - accuracy: 1.0000 - val_loss: 4.8861 - val_accuracy: 0.2500 - 23ms/epoch - 6ms/step\n",
      "Epoch 77/100\n",
      "4/4 - 0s - loss: 1.0752e-04 - accuracy: 1.0000 - val_loss: 4.9177 - val_accuracy: 0.2500 - 24ms/epoch - 6ms/step\n",
      "Epoch 78/100\n",
      "4/4 - 0s - loss: 1.0180e-04 - accuracy: 1.0000 - val_loss: 4.9469 - val_accuracy: 0.2500 - 23ms/epoch - 6ms/step\n",
      "Epoch 79/100\n",
      "4/4 - 0s - loss: 9.5860e-05 - accuracy: 1.0000 - val_loss: 4.9830 - val_accuracy: 0.2500 - 24ms/epoch - 6ms/step\n",
      "Epoch 80/100\n",
      "4/4 - 0s - loss: 9.0540e-05 - accuracy: 1.0000 - val_loss: 5.0054 - val_accuracy: 0.2500 - 22ms/epoch - 6ms/step\n",
      "Epoch 81/100\n",
      "4/4 - 0s - loss: 8.6068e-05 - accuracy: 1.0000 - val_loss: 5.0453 - val_accuracy: 0.2500 - 27ms/epoch - 7ms/step\n",
      "Epoch 82/100\n",
      "4/4 - 0s - loss: 8.1939e-05 - accuracy: 1.0000 - val_loss: 5.0860 - val_accuracy: 0.2500 - 24ms/epoch - 6ms/step\n",
      "Epoch 83/100\n",
      "4/4 - 0s - loss: 7.6931e-05 - accuracy: 1.0000 - val_loss: 5.1014 - val_accuracy: 0.2500 - 24ms/epoch - 6ms/step\n",
      "Epoch 84/100\n",
      "4/4 - 0s - loss: 7.3516e-05 - accuracy: 1.0000 - val_loss: 5.1339 - val_accuracy: 0.2500 - 22ms/epoch - 6ms/step\n",
      "Epoch 85/100\n",
      "4/4 - 0s - loss: 6.8974e-05 - accuracy: 1.0000 - val_loss: 5.1588 - val_accuracy: 0.2500 - 24ms/epoch - 6ms/step\n",
      "Epoch 86/100\n",
      "4/4 - 0s - loss: 6.5165e-05 - accuracy: 1.0000 - val_loss: 5.1776 - val_accuracy: 0.2500 - 23ms/epoch - 6ms/step\n",
      "Epoch 87/100\n",
      "4/4 - 0s - loss: 6.1973e-05 - accuracy: 1.0000 - val_loss: 5.1966 - val_accuracy: 0.2500 - 25ms/epoch - 6ms/step\n",
      "Epoch 88/100\n",
      "4/4 - 0s - loss: 5.9720e-05 - accuracy: 1.0000 - val_loss: 5.2341 - val_accuracy: 0.2500 - 23ms/epoch - 6ms/step\n",
      "Epoch 89/100\n",
      "4/4 - 0s - loss: 5.6358e-05 - accuracy: 1.0000 - val_loss: 5.2575 - val_accuracy: 0.2500 - 24ms/epoch - 6ms/step\n",
      "Epoch 90/100\n",
      "4/4 - 0s - loss: 5.3371e-05 - accuracy: 1.0000 - val_loss: 5.2816 - val_accuracy: 0.2500 - 23ms/epoch - 6ms/step\n",
      "Epoch 91/100\n",
      "4/4 - 0s - loss: 5.1851e-05 - accuracy: 1.0000 - val_loss: 5.3124 - val_accuracy: 0.2500 - 23ms/epoch - 6ms/step\n",
      "Epoch 92/100\n",
      "4/4 - 0s - loss: 4.8984e-05 - accuracy: 1.0000 - val_loss: 5.3321 - val_accuracy: 0.2500 - 23ms/epoch - 6ms/step\n",
      "Epoch 93/100\n",
      "4/4 - 0s - loss: 4.6950e-05 - accuracy: 1.0000 - val_loss: 5.3537 - val_accuracy: 0.2500 - 23ms/epoch - 6ms/step\n",
      "Epoch 94/100\n",
      "4/4 - 0s - loss: 4.4831e-05 - accuracy: 1.0000 - val_loss: 5.3700 - val_accuracy: 0.2500 - 22ms/epoch - 6ms/step\n",
      "Epoch 95/100\n",
      "4/4 - 0s - loss: 4.2951e-05 - accuracy: 1.0000 - val_loss: 5.3866 - val_accuracy: 0.2500 - 22ms/epoch - 6ms/step\n",
      "Epoch 96/100\n",
      "4/4 - 0s - loss: 4.0995e-05 - accuracy: 1.0000 - val_loss: 5.4091 - val_accuracy: 0.2500 - 24ms/epoch - 6ms/step\n",
      "Epoch 97/100\n",
      "4/4 - 0s - loss: 3.9323e-05 - accuracy: 1.0000 - val_loss: 5.4327 - val_accuracy: 0.2500 - 22ms/epoch - 6ms/step\n",
      "Epoch 98/100\n",
      "4/4 - 0s - loss: 3.7617e-05 - accuracy: 1.0000 - val_loss: 5.4464 - val_accuracy: 0.2500 - 25ms/epoch - 6ms/step\n",
      "Epoch 99/100\n",
      "4/4 - 0s - loss: 3.6444e-05 - accuracy: 1.0000 - val_loss: 5.4687 - val_accuracy: 0.2500 - 23ms/epoch - 6ms/step\n",
      "Epoch 100/100\n",
      "4/4 - 0s - loss: 3.4850e-05 - accuracy: 1.0000 - val_loss: 5.4872 - val_accuracy: 0.2500 - 25ms/epoch - 6ms/step\n"
     ]
    }
   ],
   "source": [
    "history = model.fit(training_padded, training_labels, epochs=num_epochs, batch_size=batch_size, validation_data=(testing_padded, testing_labels), verbose=2)"
   ]
  },
  {
   "cell_type": "code",
   "execution_count": 75,
   "metadata": {},
   "outputs": [
    {
     "data": {
      "image/png": "[encoded data removed]",
      "text/plain": [
       "<Figure size 640x480 with 1 Axes>"
      ]
     },
     "metadata": {},
     "output_type": "display_data"
    },
    {
     "data": {
      "image/png": "[encoded data removed]",
      "text/plain": [
       "<Figure size 640x480 with 1 Axes>"
      ]
     },
     "metadata": {},
     "output_type": "display_data"
    }
   ],
   "source": [
    "transformation.plot_graphs(history, \"accuracy\")\n",
    "transformation.plot_graphs(history, \"loss\")"
   ]
  },
  {
   "cell_type": "code",
   "execution_count": 76,
   "metadata": {},
   "outputs": [
    {
     "data": {
      "text/plain": [
       "['Serebral sulkus ve sisternalar atrofiye sekonder genişlemiştir. Ponsta iki adet laküner infarkt alanı izlenmektedir.',\n",
       " 'Periventriküler beyaz cevher doku yoğunlukları azalmıştır. Hemisferik kortikal sulkuslar ve serebellar folyolar atrofik görünümdedir.',\n",
       " 'Sağda bazal ganglionik düzeyde genişlemiş perivaskuler aralığa ait görünümün varlığı izlenmiştir (normalin varyasyonu). ']"
      ]
     },
     "execution_count": 76,
     "metadata": {},
     "output_type": "execute_result"
    }
   ],
   "source": [
    "production_sentences[:3]"
   ]
  },
  {
   "cell_type": "code",
   "execution_count": 77,
   "metadata": {},
   "outputs": [
    {
     "data": {
      "text/plain": [
       "13"
      ]
     },
     "execution_count": 77,
     "metadata": {},
     "output_type": "execute_result"
    }
   ],
   "source": [
    "len(production_sentences)"
   ]
  },
  {
   "cell_type": "code",
   "execution_count": 78,
   "metadata": {},
   "outputs": [],
   "source": [
    "# predict a sentence\n",
    "tokenizer.fit_on_texts(production_sentences)\n",
    "prediction_sequences = tokenizer.texts_to_sequences(production_sentences)\n",
    "prediction_padded = pad_sequences(prediction_sequences, maxlen=max_input_length, padding=padding_type, truncating=trunc_type)\n",
    "prediction_padded = np.array(prediction_padded)"
   ]
  },
  {
   "cell_type": "code",
   "execution_count": 79,
   "metadata": {},
   "outputs": [
    {
     "name": "stdout",
     "output_type": "stream",
     "text": [
      "1/1 [==============================] - 0s 99ms/step\n"
     ]
    }
   ],
   "source": [
    "predictions = model.predict(prediction_padded)\n",
    "predictions = [np.argmax(prediction) for prediction in predictions]"
   ]
  },
  {
   "cell_type": "code",
   "execution_count": 80,
   "metadata": {},
   "outputs": [
    {
     "data": {
      "text/plain": [
       "0.7692307692307693"
      ]
     },
     "execution_count": 80,
     "metadata": {},
     "output_type": "execute_result"
    }
   ],
   "source": [
    "transformation.calculate_matching_ratio(production_labels, predictions)"
   ]
  }
 ],
 "metadata": {
  "kernelspec": {
   "display_name": ".venv",
   "language": "python",
   "name": "python3"
  },
  "language_info": {
   "codemirror_mode": {
    "name": "ipython",
    "version": 3
   },
   "file_extension": ".py",
   "mimetype": "text/x-python",
   "name": "python",
   "nbconvert_exporter": "python",
   "pygments_lexer": "ipython3",
   "version": "3.11.2"
  },
  "orig_nbformat": 4
 },
 "nbformat": 4,
 "nbformat_minor": 2
}
