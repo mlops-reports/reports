{
 "cells": [
  {
   "cell_type": "code",
   "execution_count": 92,
   "metadata": {},
   "outputs": [],
   "source": [
    "import tensorflow as tf\n",
    "# from tensorflow import keras\n",
    "import nltk\n",
    "import simplemma\n",
    "from experiment import transformation\n",
    "import pandas as pd\n",
    "import pathlib\n",
    "import json\n",
    "import numpy as np\n",
    "from collections import Counter\n",
    "\n",
    "\n",
    "from tensorflow.keras.preprocessing.text import Tokenizer\n",
    "from tensorflow.keras.preprocessing.sequence import pad_sequences"
   ]
  },
  {
   "cell_type": "code",
   "execution_count": 93,
   "metadata": {},
   "outputs": [],
   "source": [
    "working_dir = pathlib.Path.cwd()\n",
    "\n",
    "test_and_train_studies = 40\n",
    "vocab_size = 10000\n",
    "embedding_dim = 16\n",
    "max_input_length = 25 # default\n",
    "trunc_type='post'\n",
    "padding_type='post'\n",
    "oov_token = None # \"<OOV>\"\n",
    "training_percent = 80\n",
    "num_epochs = 100\n",
    "batch_size=8"
   ]
  },
  {
   "cell_type": "code",
   "execution_count": 94,
   "metadata": {},
   "outputs": [],
   "source": [
    "clean_annotations = pd.read_csv(working_dir.parent / \"data\" / \"output\" / \"clean_annotations.csv\")\n",
    "\n",
    "sentences = clean_annotations[\"relevant_text\"].to_list()[:test_and_train_studies]\n",
    "production_sentences = clean_annotations[\"relevant_text\"].to_list()[test_and_train_studies:]\n",
    "\n",
    "# 1. Emergency\n",
    "# 2. Normal\n",
    "# 3. Non Emergency [Doctor]\n",
    "# 4. Non Emergency [No Doctor]\n",
    "clean_labels = clean_annotations[\"classifications\"].to_list()[:test_and_train_studies]\n",
    "production_labels = clean_annotations[\"classifications\"].to_list()[test_and_train_studies:]"
   ]
  },
  {
   "cell_type": "code",
   "execution_count": 114,
   "metadata": {},
   "outputs": [
    {
     "name": "stdout",
     "output_type": "stream",
     "text": [
      "Item 1 occurs 15 times in the list.\n",
      "Item 3 occurs 24 times in the list.\n",
      "Item 0 occurs 6 times in the list.\n",
      "Item 2 occurs 8 times in the list.\n"
     ]
    }
   ],
   "source": [
    "item_counts = Counter(clean_annotations[\"classifications\"].to_list())\n",
    "\n",
    "# 1. Emergency\n",
    "# 2. Normal\n",
    "# 3. Non Emergency [Doctor]\n",
    "# 4. Non Emergency [No Doctor]\n",
    "for item, count in item_counts.items():\n",
    "    print(f\"Item {item} occurs {count} times in the list.\")"
   ]
  },
  {
   "cell_type": "code",
   "execution_count": 95,
   "metadata": {},
   "outputs": [
    {
     "data": {
      "text/plain": [
       "['Kontrastsız Beyin BT Kafa kaidesi ve kalvarial kemik yapılar normal sınırlardadır. 4.ventrikül ve bazal sisternalar normal genişliktedir. Posterior fossa oluşumları olağandır. İntrakranial hipo veya hiperdens sınırlanabilen patoloji saptanmadı. 3.ventrikül orta hatta ve normal genişliktedir. Lateral ventriküller olağandır. Beyin orta hat yapılarında yer değiştirme saptanmamıştır. Serebral sulkuslar olağandır. Nazal septum sola deviye görünümdedir ve BTye yansıyan tipik bir akut iskemi bulgusu mevcut değildir.  Ancak bu konuda klinik kuşku varsa olgunun diffüzyon MRG ile değerlendirilmesi ve detaylandırılması daha yararlı olacaktır. ',\n",
       " 'Sol serebellar hemisferde sekel ??? ensefalomalazi sahaları ve eski iskemi sekeli değişiklikler izlenmektedir. Sağ serebellar hemisfer düzeyinde de benzer bulgular izlenmekle birlikte her iki serebellumda atrofi bulguları ve folyolarda belirginleşme mevcuttur. Supratentorial kesitlerin değerlendirilmesinde 3. ve lateral ventrikul, konveksite sulkusları atrofiye sekonder belirginleşmiştir. Sağda posterior serebral arter sulama sahasında kronik iskemik sekel gliozis sahalarının varlığı mevcuttur. Periventrikuler lökoriazis alanları izlenmektedir. ',\n",
       " ' Periventriküler derin beyaz cevherde kronik iskemik gliozise bağlı dansite kaybı izlenmektedir. Bazal sisterna ve serebral konvekste sulkuslarının genişliği atrofi ile uyumlu artmıştır. Sağ oksipital lobda kronik infarkt sekeli ensefalomalazi- gliozis ile uyumlu hipodens alan mevcuttur. Sağ kapsüle interna ön bölümünde de kronik infarkta ait hipodens alan izlenmiştir. Her iki lateral ventrikül genişliği atrofi zemininde hafif artmış görünümdedir. ',\n",
       " 'Sağda orbita tavanınd frontal sinüs tabanında çökme gösteren fraktür hatları izlenmiştir. Sağ orbita medial duvarında da fraktür hatları izlenmektedir. Sağ orbita tabanında maksiller sinüs üst duvarında yine çökme gösteren fraktür hattı mevcut olup orbital yağ dokunun bu düzeyden maksiller sinüse doğru uzanımı saptanmıştır. Sağ maksiller sinüs içerisinde kanama ile uyumlu yüksek dansiteli görünümlerde izlenmiştir. ',\n",
       " 'Sağ orbita üst duvarında fraktüre ait görünüm izlenmekte olup medial kesimde frontal sinüs duvarına uzanmaktadır,fraktüre komşu dural planlarda milimetrik hava değerleri mevcuttur.Sağ frontal sinüs inferior kesiminde anterior duvarda da fraktür hattı izlenmiştir.Sağ frontal bölgede ve periorbital alanda cilt altı yumuşak dokuda ödem- hematom ile uyumlu dansite ve kalınlık artışı ile hava değerleri mevcuttur. ']"
      ]
     },
     "execution_count": 95,
     "metadata": {},
     "output_type": "execute_result"
    }
   ],
   "source": [
    "sentences[:5]"
   ]
  },
  {
   "cell_type": "code",
   "execution_count": 96,
   "metadata": {},
   "outputs": [
    {
     "name": "stderr",
     "output_type": "stream",
     "text": [
      "[nltk_data] Downloading package stopwords to\n",
      "[nltk_data]     /Users/gokasci/nltk_data...\n",
      "[nltk_data]   Package stopwords is already up-to-date!\n"
     ]
    }
   ],
   "source": [
    "clean_sentences = transformation.sentence_cleaning_pipeline(sentences)\n",
    "max_input_length = transformation.find_longest_sentence_length(clean_sentences)"
   ]
  },
  {
   "cell_type": "code",
   "execution_count": 97,
   "metadata": {},
   "outputs": [
    {
     "name": "stdout",
     "output_type": "stream",
     "text": [
      "clean sentences: 40\n",
      "production sentences: 13\n"
     ]
    },
    {
     "data": {
      "text/plain": [
       "['kontrast beyin bt kafa kaide kalvarial kemik yapı normal sınır 4 ventrikül bazal sisternalar normal genişlik posterior fossa oluşum olağan i̇ntrakranial hipo hiperdens sınırlanabilen patoloji 3 ventrikül orta hatta normal genişlik lateral ventrikül olağan beyin orta hat yapı yer değiş sapta serebral sulkus olağan nazal septum sol deviye görünüm btye yansı tipik bir akut iskemi bulgu mevcut değil ancak konu klinik kuşku var olgu diffüzyon mrg değer detaylandırılması yarar ol',\n",
       " 'sol serebellar hemisfer sekel ensefalomalazi saha eski iskemi sekel değişik izle sağ serebellar hemisfer düzey benzer bulgu izle birlikte iki serebellumda atrofi bulgu folyo belirgin mevcut supratentorial kesit değerlendirilmesin 3 lateral ventrikul konveksite sulkus atrofiye sekonder belirgin sağ posterior serebral arter sula saha kronik iskemik sekel gliozis saha varlık mevcut periventrikuler lökoriazis alan izle',\n",
       " 'periventriküler derin beyaz cevher kronik iskemik gliozise bağ dansite kayıp izle bazal sisterna serebral konveks sulkuslar genişlik atrofi uyum art sağ oksipital lobda kronik infarkt sekel ensefalomalazi gliozis uyum hipodens alan mevcut sağ kapsül interna ön bölüm kronik infarkta ait hipodens alan izle her iki lateral ventrikül genişlik atrofi zemin hafif art görünüm',\n",
       " 'sağ orbita tavan frontal sinüs taban çök göster fraktür hat izle sağ orbita medial duvar fraktür hat izle sağ orbita taban maksiller sinüs üst duvar yine çök göster fraktür hat mevcut ol orbital yağ doku düzey maksiller sinüs doğru uzanım sapta sağ maksiller sinüs içeri kana uyum yüksek dansite görünüm izle',\n",
       " 'sağ orbita üst duvar fraktüre ait görünüm izle ol medial kesim frontal sinüs duvar uza fraktüre komşu dural plan milimetrik hava değer mevcut sağ frontal sinüs inferior kesim anterior duvar fraktür hat izle sağ frontal bölge periorbital alan cilt altı yumuşak doku ödem hematom uyum dansite kalınlık art hava değer mevcut']"
      ]
     },
     "execution_count": 97,
     "metadata": {},
     "output_type": "execute_result"
    }
   ],
   "source": [
    "# sentence count\n",
    "print(f\"clean sentences: {len(clean_sentences)}\")\n",
    "print(f\"production sentences: {len(production_sentences)}\")\n",
    "# show clean sentences\n",
    "clean_sentences[:5]"
   ]
  },
  {
   "cell_type": "code",
   "execution_count": 98,
   "metadata": {},
   "outputs": [
    {
     "data": {
      "text/plain": [
       "[1, 3, 3, 0, 0]"
      ]
     },
     "execution_count": 98,
     "metadata": {},
     "output_type": "execute_result"
    }
   ],
   "source": [
    "clean_labels[:5]"
   ]
  },
  {
   "cell_type": "code",
   "execution_count": 99,
   "metadata": {},
   "outputs": [],
   "source": [
    "# save json files\n",
    "with open(working_dir.parent / \"data\" / \"output\" / \"lemma_correction.json\", \"w\", encoding=\"utf-8\") as json_file:\n",
    "    data = {\n",
    "        str(index): {\"no_lemma\": sentence, \"lemma\": clean_sentence}\n",
    "        for index, (sentence, clean_sentence) in enumerate(\n",
    "            zip(sentences, clean_sentences)\n",
    "        )\n",
    "    }\n",
    "    json_file.write(json.dumps(data, indent=4, ensure_ascii=False))"
   ]
  },
  {
   "cell_type": "code",
   "execution_count": 100,
   "metadata": {},
   "outputs": [],
   "source": [
    "# manuall test the word lemmatizer\n",
    "# word = \"hemisferde\"\n",
    "# simplemma.lemmatize(word, lang=\"tr\").lower()"
   ]
  },
  {
   "cell_type": "code",
   "execution_count": 101,
   "metadata": {},
   "outputs": [],
   "source": [
    "training_size = int(len(clean_sentences) * training_percent / 100)\n",
    "training_sentences = clean_sentences[0:training_size]\n",
    "testing_sentences = clean_sentences[training_size:]\n",
    "training_labels = clean_labels[0:training_size]\n",
    "testing_labels = clean_labels[training_size:]"
   ]
  },
  {
   "cell_type": "code",
   "execution_count": 102,
   "metadata": {},
   "outputs": [],
   "source": [
    "tokenizer = Tokenizer(num_words=vocab_size, oov_token=oov_token)\n",
    "tokenizer.fit_on_texts(training_sentences)\n",
    "\n",
    "training_sequences = tokenizer.texts_to_sequences(training_sentences)\n",
    "training_padded = pad_sequences(training_sequences, maxlen=max_input_length, padding=padding_type, truncating=trunc_type)\n",
    "testing_sequences = tokenizer.texts_to_sequences(testing_sentences)\n",
    "testing_padded = pad_sequences(testing_sequences, maxlen=max_input_length, padding=padding_type, truncating=trunc_type)\n",
    "\n",
    "training_padded = np.array(training_padded)\n",
    "training_labels = np.array(training_labels)\n",
    "testing_padded = np.array(testing_padded)\n",
    "testing_labels = np.array(testing_labels)"
   ]
  },
  {
   "cell_type": "code",
   "execution_count": 103,
   "metadata": {},
   "outputs": [
    {
     "data": {
      "text/plain": [
       "array([[147,  18,  67, ..., 161, 162,   9],\n",
       "       [ 47,  44,  58, ...,   0,   0,   0],\n",
       "       [ 49,  88,  53, ...,   0,   0,   0],\n",
       "       ...,\n",
       "       [ 80,  81,  82, ...,   0,   0,   0],\n",
       "       [ 80,  81,  82, ...,   0,   0,   0],\n",
       "       [ 61,   5,  71, ...,   0,   0,   0]], dtype=int32)"
      ]
     },
     "execution_count": 103,
     "metadata": {},
     "output_type": "execute_result"
    }
   ],
   "source": [
    "training_padded"
   ]
  },
  {
   "cell_type": "code",
   "execution_count": 104,
   "metadata": {},
   "outputs": [],
   "source": [
    "model = tf.keras.Sequential(\n",
    "    [\n",
    "        tf.keras.layers.Embedding(\n",
    "            vocab_size, embedding_dim, input_length=max_input_length\n",
    "        ),\n",
    "        tf.keras.layers.GlobalAveragePooling1D(),\n",
    "        tf.keras.layers.Dense(64, activation=\"relu\"),\n",
    "        tf.keras.layers.Dense(64, activation=\"relu\"),\n",
    "        tf.keras.layers.Dense(64, activation=\"relu\"),\n",
    "        tf.keras.layers.Dense(32, activation=\"relu\"),\n",
    "        tf.keras.layers.Dense(4, activation=\"softmax\"),\n",
    "    ]\n",
    ")\n",
    "model.compile(\n",
    "    loss=\"sparse_categorical_crossentropy\", optimizer=\"adam\", metrics=[\"accuracy\"]\n",
    ")"
   ]
  },
  {
   "cell_type": "code",
   "execution_count": 105,
   "metadata": {},
   "outputs": [
    {
     "name": "stdout",
     "output_type": "stream",
     "text": [
      "Model: \"sequential_6\"\n",
      "_________________________________________________________________\n",
      " Layer (type)                Output Shape              Param #   \n",
      "=================================================================\n",
      " embedding_6 (Embedding)     (None, 70, 16)            160000    \n",
      "                                                                 \n",
      " global_average_pooling1d_2  (None, 1, 16)             0         \n",
      "  (GlobalAveragePooling1D)                                       \n",
      "                                                                 \n",
      " dense_48 (Dense)            (None, 1, 320)            5440      \n",
      "                                                                 \n",
      " dense_49 (Dense)            (None, 1, 64)             20544     \n",
      "                                                                 \n",
      " dense_50 (Dense)            (None, 1, 64)             4160      \n",
      "                                                                 \n",
      " dense_51 (Dense)            (None, 1, 64)             4160      \n",
      "                                                                 \n",
      " dense_52 (Dense)            (None, 1, 64)             4160      \n",
      "                                                                 \n",
      " dense_53 (Dense)            (None, 1, 64)             4160      \n",
      "                                                                 \n",
      " dense_54 (Dense)            (None, 1, 32)             2080      \n",
      "                                                                 \n",
      " dense_55 (Dense)            (None, 1, 4)              132       \n",
      "                                                                 \n",
      "=================================================================\n",
      "Total params: 204836 (800.14 KB)\n",
      "Trainable params: 204836 (800.14 KB)\n",
      "Non-trainable params: 0 (0.00 Byte)\n",
      "_________________________________________________________________\n"
     ]
    }
   ],
   "source": [
    "model.summary()"
   ]
  },
  {
   "cell_type": "code",
   "execution_count": 106,
   "metadata": {},
   "outputs": [
    {
     "name": "stdout",
     "output_type": "stream",
     "text": [
      "Epoch 1/100\n",
      "4/4 - 0s - loss: 1.3815 - accuracy: 0.4375 - val_loss: 1.3906 - val_accuracy: 0.0000e+00 - 382ms/epoch - 96ms/step\n",
      "Epoch 2/100\n",
      "4/4 - 0s - loss: 1.3662 - accuracy: 0.4688 - val_loss: 1.3951 - val_accuracy: 0.0000e+00 - 16ms/epoch - 4ms/step\n",
      "Epoch 3/100\n",
      "4/4 - 0s - loss: 1.3424 - accuracy: 0.4688 - val_loss: 1.4022 - val_accuracy: 0.0000e+00 - 18ms/epoch - 5ms/step\n",
      "Epoch 4/100\n",
      "4/4 - 0s - loss: 1.3076 - accuracy: 0.4688 - val_loss: 1.4176 - val_accuracy: 0.0000e+00 - 19ms/epoch - 5ms/step\n",
      "Epoch 5/100\n",
      "4/4 - 0s - loss: 1.2477 - accuracy: 0.4688 - val_loss: 1.4628 - val_accuracy: 0.0000e+00 - 21ms/epoch - 5ms/step\n",
      "Epoch 6/100\n",
      "4/4 - 0s - loss: 1.1946 - accuracy: 0.4688 - val_loss: 1.6100 - val_accuracy: 0.0000e+00 - 22ms/epoch - 6ms/step\n",
      "Epoch 7/100\n",
      "4/4 - 0s - loss: 1.1275 - accuracy: 0.4688 - val_loss: 1.8101 - val_accuracy: 0.0000e+00 - 17ms/epoch - 4ms/step\n",
      "Epoch 8/100\n",
      "4/4 - 0s - loss: 1.1100 - accuracy: 0.4688 - val_loss: 1.9305 - val_accuracy: 0.0000e+00 - 18ms/epoch - 4ms/step\n",
      "Epoch 9/100\n",
      "4/4 - 0s - loss: 1.0990 - accuracy: 0.4688 - val_loss: 1.9916 - val_accuracy: 0.0000e+00 - 17ms/epoch - 4ms/step\n",
      "Epoch 10/100\n",
      "4/4 - 0s - loss: 1.0839 - accuracy: 0.4688 - val_loss: 1.8898 - val_accuracy: 0.0000e+00 - 19ms/epoch - 5ms/step\n",
      "Epoch 11/100\n",
      "4/4 - 0s - loss: 1.0661 - accuracy: 0.4688 - val_loss: 1.8612 - val_accuracy: 0.0000e+00 - 18ms/epoch - 4ms/step\n",
      "Epoch 12/100\n",
      "4/4 - 0s - loss: 1.0400 - accuracy: 0.4688 - val_loss: 1.8012 - val_accuracy: 0.0000e+00 - 17ms/epoch - 4ms/step\n",
      "Epoch 13/100\n",
      "4/4 - 0s - loss: 1.0183 - accuracy: 0.4688 - val_loss: 1.7328 - val_accuracy: 0.0000e+00 - 15ms/epoch - 4ms/step\n",
      "Epoch 14/100\n",
      "4/4 - 0s - loss: 0.9837 - accuracy: 0.4688 - val_loss: 1.7656 - val_accuracy: 0.0000e+00 - 18ms/epoch - 4ms/step\n",
      "Epoch 15/100\n",
      "4/4 - 0s - loss: 0.9256 - accuracy: 0.4688 - val_loss: 1.7236 - val_accuracy: 0.0000e+00 - 16ms/epoch - 4ms/step\n",
      "Epoch 16/100\n",
      "4/4 - 0s - loss: 0.8789 - accuracy: 0.4688 - val_loss: 1.6264 - val_accuracy: 0.0000e+00 - 21ms/epoch - 5ms/step\n",
      "Epoch 17/100\n",
      "4/4 - 0s - loss: 0.7899 - accuracy: 0.4688 - val_loss: 1.4613 - val_accuracy: 0.0000e+00 - 17ms/epoch - 4ms/step\n",
      "Epoch 18/100\n",
      "4/4 - 0s - loss: 0.7278 - accuracy: 0.4688 - val_loss: 1.3833 - val_accuracy: 0.2500 - 20ms/epoch - 5ms/step\n",
      "Epoch 19/100\n",
      "4/4 - 0s - loss: 0.6627 - accuracy: 0.4336 - val_loss: 1.3502 - val_accuracy: 0.4375 - 19ms/epoch - 5ms/step\n",
      "Epoch 20/100\n",
      "4/4 - 0s - loss: 0.6045 - accuracy: 0.4375 - val_loss: 1.3107 - val_accuracy: 0.5000 - 16ms/epoch - 4ms/step\n",
      "Epoch 21/100\n",
      "4/4 - 0s - loss: 0.5317 - accuracy: 0.4414 - val_loss: 1.2626 - val_accuracy: 0.5000 - 18ms/epoch - 4ms/step\n",
      "Epoch 22/100\n",
      "4/4 - 0s - loss: 0.4305 - accuracy: 0.4414 - val_loss: 1.2593 - val_accuracy: 0.5000 - 16ms/epoch - 4ms/step\n",
      "Epoch 23/100\n",
      "4/4 - 0s - loss: 0.3362 - accuracy: 0.4336 - val_loss: 1.2662 - val_accuracy: 0.5000 - 20ms/epoch - 5ms/step\n",
      "Epoch 24/100\n",
      "4/4 - 0s - loss: 0.2739 - accuracy: 0.4297 - val_loss: 1.1955 - val_accuracy: 0.5000 - 19ms/epoch - 5ms/step\n",
      "Epoch 25/100\n",
      "4/4 - 0s - loss: 0.2341 - accuracy: 0.4453 - val_loss: 1.0626 - val_accuracy: 0.5000 - 19ms/epoch - 5ms/step\n",
      "Epoch 26/100\n",
      "4/4 - 0s - loss: 0.2096 - accuracy: 0.3906 - val_loss: 1.0201 - val_accuracy: 0.4531 - 20ms/epoch - 5ms/step\n",
      "Epoch 27/100\n",
      "4/4 - 0s - loss: 0.1917 - accuracy: 0.4102 - val_loss: 0.9888 - val_accuracy: 0.4531 - 17ms/epoch - 4ms/step\n",
      "Epoch 28/100\n",
      "4/4 - 0s - loss: 0.1695 - accuracy: 0.3984 - val_loss: 1.0045 - val_accuracy: 0.4375 - 20ms/epoch - 5ms/step\n",
      "Epoch 29/100\n",
      "4/4 - 0s - loss: 0.1489 - accuracy: 0.5000 - val_loss: 1.1624 - val_accuracy: 0.4062 - 19ms/epoch - 5ms/step\n",
      "Epoch 30/100\n",
      "4/4 - 0s - loss: 0.1311 - accuracy: 0.4180 - val_loss: 1.5162 - val_accuracy: 0.3906 - 18ms/epoch - 5ms/step\n",
      "Epoch 31/100\n",
      "4/4 - 0s - loss: 0.1161 - accuracy: 0.4141 - val_loss: 2.0218 - val_accuracy: 0.3906 - 19ms/epoch - 5ms/step\n",
      "Epoch 32/100\n",
      "4/4 - 0s - loss: 0.1099 - accuracy: 0.3945 - val_loss: 2.3950 - val_accuracy: 0.3906 - 18ms/epoch - 5ms/step\n",
      "Epoch 33/100\n",
      "4/4 - 0s - loss: 0.1086 - accuracy: 0.4922 - val_loss: 2.6337 - val_accuracy: 0.3906 - 19ms/epoch - 5ms/step\n",
      "Epoch 34/100\n",
      "4/4 - 0s - loss: 0.1056 - accuracy: 0.4297 - val_loss: 2.5622 - val_accuracy: 0.3906 - 17ms/epoch - 4ms/step\n",
      "Epoch 35/100\n",
      "4/4 - 0s - loss: 0.1059 - accuracy: 0.4414 - val_loss: 2.3998 - val_accuracy: 0.3906 - 18ms/epoch - 5ms/step\n",
      "Epoch 36/100\n",
      "4/4 - 0s - loss: 0.1062 - accuracy: 0.4180 - val_loss: 2.2785 - val_accuracy: 0.3906 - 19ms/epoch - 5ms/step\n",
      "Epoch 37/100\n",
      "4/4 - 0s - loss: 0.1055 - accuracy: 0.4297 - val_loss: 2.1788 - val_accuracy: 0.3906 - 21ms/epoch - 5ms/step\n",
      "Epoch 38/100\n",
      "4/4 - 0s - loss: 0.1041 - accuracy: 0.4375 - val_loss: 1.9640 - val_accuracy: 0.3906 - 19ms/epoch - 5ms/step\n",
      "Epoch 39/100\n",
      "4/4 - 0s - loss: 0.1044 - accuracy: 0.4023 - val_loss: 1.7739 - val_accuracy: 0.4062 - 20ms/epoch - 5ms/step\n",
      "Epoch 40/100\n",
      "4/4 - 0s - loss: 0.1051 - accuracy: 0.4023 - val_loss: 1.6312 - val_accuracy: 0.4062 - 20ms/epoch - 5ms/step\n",
      "Epoch 41/100\n",
      "4/4 - 0s - loss: 0.1034 - accuracy: 0.4609 - val_loss: 1.9460 - val_accuracy: 0.4062 - 19ms/epoch - 5ms/step\n",
      "Epoch 42/100\n",
      "4/4 - 0s - loss: 0.1092 - accuracy: 0.4141 - val_loss: 2.3778 - val_accuracy: 0.3906 - 21ms/epoch - 5ms/step\n",
      "Epoch 43/100\n",
      "4/4 - 0s - loss: 0.1011 - accuracy: 0.4180 - val_loss: 2.0385 - val_accuracy: 0.3906 - 19ms/epoch - 5ms/step\n",
      "Epoch 44/100\n",
      "4/4 - 0s - loss: 0.1004 - accuracy: 0.4453 - val_loss: 1.2803 - val_accuracy: 0.4375 - 21ms/epoch - 5ms/step\n",
      "Epoch 45/100\n",
      "4/4 - 0s - loss: 0.1037 - accuracy: 0.4609 - val_loss: 1.2765 - val_accuracy: 0.4531 - 18ms/epoch - 4ms/step\n",
      "Epoch 46/100\n",
      "4/4 - 0s - loss: 0.0975 - accuracy: 0.4414 - val_loss: 1.6788 - val_accuracy: 0.4062 - 19ms/epoch - 5ms/step\n",
      "Epoch 47/100\n",
      "4/4 - 0s - loss: 0.0978 - accuracy: 0.4219 - val_loss: 2.4431 - val_accuracy: 0.3906 - 21ms/epoch - 5ms/step\n",
      "Epoch 48/100\n",
      "4/4 - 0s - loss: 0.0938 - accuracy: 0.4375 - val_loss: 2.0254 - val_accuracy: 0.3281 - 21ms/epoch - 5ms/step\n",
      "Epoch 49/100\n",
      "4/4 - 0s - loss: 0.0903 - accuracy: 0.3945 - val_loss: 1.5009 - val_accuracy: 0.3750 - 21ms/epoch - 5ms/step\n",
      "Epoch 50/100\n",
      "4/4 - 0s - loss: 0.0867 - accuracy: 0.4102 - val_loss: 1.1805 - val_accuracy: 0.4375 - 17ms/epoch - 4ms/step\n",
      "Epoch 51/100\n",
      "4/4 - 0s - loss: 0.0839 - accuracy: 0.4297 - val_loss: 1.1233 - val_accuracy: 0.4531 - 20ms/epoch - 5ms/step\n",
      "Epoch 52/100\n",
      "4/4 - 0s - loss: 0.0755 - accuracy: 0.4062 - val_loss: 1.2020 - val_accuracy: 0.3125 - 20ms/epoch - 5ms/step\n",
      "Epoch 53/100\n",
      "4/4 - 0s - loss: 0.0697 - accuracy: 0.4336 - val_loss: 1.0571 - val_accuracy: 0.3594 - 20ms/epoch - 5ms/step\n",
      "Epoch 54/100\n",
      "4/4 - 0s - loss: 0.0599 - accuracy: 0.4141 - val_loss: 1.0554 - val_accuracy: 0.3594 - 19ms/epoch - 5ms/step\n",
      "Epoch 55/100\n",
      "4/4 - 0s - loss: 0.0490 - accuracy: 0.4375 - val_loss: 1.3436 - val_accuracy: 0.2656 - 22ms/epoch - 5ms/step\n",
      "Epoch 56/100\n",
      "4/4 - 0s - loss: 0.0327 - accuracy: 0.4766 - val_loss: 1.2366 - val_accuracy: 0.2656 - 19ms/epoch - 5ms/step\n",
      "Epoch 57/100\n",
      "4/4 - 0s - loss: 0.0247 - accuracy: 0.4688 - val_loss: 1.1804 - val_accuracy: 0.3125 - 19ms/epoch - 5ms/step\n",
      "Epoch 58/100\n",
      "4/4 - 0s - loss: 0.0183 - accuracy: 0.4297 - val_loss: 2.4431 - val_accuracy: 0.1719 - 20ms/epoch - 5ms/step\n",
      "Epoch 59/100\n",
      "4/4 - 0s - loss: 0.0084 - accuracy: 0.4219 - val_loss: 2.6610 - val_accuracy: 0.1719 - 18ms/epoch - 4ms/step\n",
      "Epoch 60/100\n",
      "4/4 - 0s - loss: 0.0046 - accuracy: 0.4453 - val_loss: 2.1689 - val_accuracy: 0.2188 - 19ms/epoch - 5ms/step\n",
      "Epoch 61/100\n",
      "4/4 - 0s - loss: 0.0025 - accuracy: 0.5000 - val_loss: 2.0825 - val_accuracy: 0.3125 - 17ms/epoch - 4ms/step\n",
      "Epoch 62/100\n",
      "4/4 - 0s - loss: 0.0020 - accuracy: 0.5156 - val_loss: 2.2493 - val_accuracy: 0.3125 - 19ms/epoch - 5ms/step\n",
      "Epoch 63/100\n",
      "4/4 - 0s - loss: 0.0014 - accuracy: 0.4062 - val_loss: 2.4434 - val_accuracy: 0.2656 - 19ms/epoch - 5ms/step\n",
      "Epoch 64/100\n",
      "4/4 - 0s - loss: 7.9001e-04 - accuracy: 0.4453 - val_loss: 2.6300 - val_accuracy: 0.2656 - 20ms/epoch - 5ms/step\n",
      "Epoch 65/100\n",
      "4/4 - 0s - loss: 6.7722e-04 - accuracy: 0.4062 - val_loss: 2.8186 - val_accuracy: 0.2656 - 17ms/epoch - 4ms/step\n",
      "Epoch 66/100\n",
      "4/4 - 0s - loss: 5.0695e-04 - accuracy: 0.3984 - val_loss: 2.9650 - val_accuracy: 0.2188 - 19ms/epoch - 5ms/step\n",
      "Epoch 67/100\n",
      "4/4 - 0s - loss: 4.2158e-04 - accuracy: 0.4453 - val_loss: 3.0768 - val_accuracy: 0.2188 - 17ms/epoch - 4ms/step\n",
      "Epoch 68/100\n",
      "4/4 - 0s - loss: 3.5084e-04 - accuracy: 0.4922 - val_loss: 3.1417 - val_accuracy: 0.2188 - 19ms/epoch - 5ms/step\n",
      "Epoch 69/100\n",
      "4/4 - 0s - loss: 3.1656e-04 - accuracy: 0.4297 - val_loss: 3.1940 - val_accuracy: 0.2188 - 22ms/epoch - 5ms/step\n",
      "Epoch 70/100\n",
      "4/4 - 0s - loss: 2.8214e-04 - accuracy: 0.4375 - val_loss: 3.2462 - val_accuracy: 0.2188 - 25ms/epoch - 6ms/step\n",
      "Epoch 71/100\n",
      "4/4 - 0s - loss: 2.5626e-04 - accuracy: 0.5156 - val_loss: 3.2914 - val_accuracy: 0.2188 - 18ms/epoch - 4ms/step\n",
      "Epoch 72/100\n",
      "4/4 - 0s - loss: 2.3873e-04 - accuracy: 0.4062 - val_loss: 3.3299 - val_accuracy: 0.2188 - 19ms/epoch - 5ms/step\n",
      "Epoch 73/100\n",
      "4/4 - 0s - loss: 2.1988e-04 - accuracy: 0.4688 - val_loss: 3.3708 - val_accuracy: 0.2188 - 18ms/epoch - 5ms/step\n",
      "Epoch 74/100\n",
      "4/4 - 0s - loss: 2.0401e-04 - accuracy: 0.3984 - val_loss: 3.4098 - val_accuracy: 0.2188 - 21ms/epoch - 5ms/step\n",
      "Epoch 75/100\n",
      "4/4 - 0s - loss: 1.9069e-04 - accuracy: 0.4453 - val_loss: 3.4453 - val_accuracy: 0.2188 - 17ms/epoch - 4ms/step\n",
      "Epoch 76/100\n",
      "4/4 - 0s - loss: 1.8374e-04 - accuracy: 0.4141 - val_loss: 3.4890 - val_accuracy: 0.2188 - 20ms/epoch - 5ms/step\n",
      "Epoch 77/100\n",
      "4/4 - 0s - loss: 1.7177e-04 - accuracy: 0.4766 - val_loss: 3.5246 - val_accuracy: 0.2188 - 18ms/epoch - 5ms/step\n",
      "Epoch 78/100\n",
      "4/4 - 0s - loss: 1.6502e-04 - accuracy: 0.3984 - val_loss: 3.5675 - val_accuracy: 0.2188 - 19ms/epoch - 5ms/step\n",
      "Epoch 79/100\n",
      "4/4 - 0s - loss: 1.5671e-04 - accuracy: 0.5078 - val_loss: 3.6036 - val_accuracy: 0.2188 - 18ms/epoch - 4ms/step\n",
      "Epoch 80/100\n",
      "4/4 - 0s - loss: 1.5084e-04 - accuracy: 0.4375 - val_loss: 3.6381 - val_accuracy: 0.2188 - 19ms/epoch - 5ms/step\n",
      "Epoch 81/100\n",
      "4/4 - 0s - loss: 1.4217e-04 - accuracy: 0.3906 - val_loss: 3.6637 - val_accuracy: 0.2188 - 17ms/epoch - 4ms/step\n",
      "Epoch 82/100\n",
      "4/4 - 0s - loss: 1.3690e-04 - accuracy: 0.3984 - val_loss: 3.6874 - val_accuracy: 0.2188 - 19ms/epoch - 5ms/step\n",
      "Epoch 83/100\n",
      "4/4 - 0s - loss: 1.3133e-04 - accuracy: 0.5156 - val_loss: 3.7110 - val_accuracy: 0.2188 - 19ms/epoch - 5ms/step\n",
      "Epoch 84/100\n",
      "4/4 - 0s - loss: 1.2505e-04 - accuracy: 0.4297 - val_loss: 3.7277 - val_accuracy: 0.2188 - 18ms/epoch - 4ms/step\n",
      "Epoch 85/100\n",
      "4/4 - 0s - loss: 1.2051e-04 - accuracy: 0.3906 - val_loss: 3.7519 - val_accuracy: 0.2188 - 17ms/epoch - 4ms/step\n",
      "Epoch 86/100\n",
      "4/4 - 0s - loss: 1.1661e-04 - accuracy: 0.4844 - val_loss: 3.7797 - val_accuracy: 0.2188 - 18ms/epoch - 5ms/step\n",
      "Epoch 87/100\n",
      "4/4 - 0s - loss: 1.1208e-04 - accuracy: 0.4453 - val_loss: 3.8077 - val_accuracy: 0.2188 - 18ms/epoch - 5ms/step\n",
      "Epoch 88/100\n",
      "4/4 - 0s - loss: 1.0735e-04 - accuracy: 0.4297 - val_loss: 3.8344 - val_accuracy: 0.2188 - 19ms/epoch - 5ms/step\n",
      "Epoch 89/100\n",
      "4/4 - 0s - loss: 1.0307e-04 - accuracy: 0.3984 - val_loss: 3.8560 - val_accuracy: 0.2188 - 21ms/epoch - 5ms/step\n",
      "Epoch 90/100\n",
      "4/4 - 0s - loss: 1.0032e-04 - accuracy: 0.4141 - val_loss: 3.8781 - val_accuracy: 0.2188 - 21ms/epoch - 5ms/step\n",
      "Epoch 91/100\n",
      "4/4 - 0s - loss: 9.6774e-05 - accuracy: 0.4219 - val_loss: 3.8990 - val_accuracy: 0.2188 - 20ms/epoch - 5ms/step\n",
      "Epoch 92/100\n",
      "4/4 - 0s - loss: 9.2718e-05 - accuracy: 0.4375 - val_loss: 3.9201 - val_accuracy: 0.2188 - 16ms/epoch - 4ms/step\n",
      "Epoch 93/100\n",
      "4/4 - 0s - loss: 8.9766e-05 - accuracy: 0.4219 - val_loss: 3.9416 - val_accuracy: 0.2188 - 18ms/epoch - 5ms/step\n",
      "Epoch 94/100\n",
      "4/4 - 0s - loss: 8.6710e-05 - accuracy: 0.4609 - val_loss: 3.9598 - val_accuracy: 0.2188 - 18ms/epoch - 4ms/step\n",
      "Epoch 95/100\n",
      "4/4 - 0s - loss: 8.4611e-05 - accuracy: 0.4141 - val_loss: 3.9811 - val_accuracy: 0.2188 - 19ms/epoch - 5ms/step\n",
      "Epoch 96/100\n",
      "4/4 - 0s - loss: 8.1964e-05 - accuracy: 0.4531 - val_loss: 4.0045 - val_accuracy: 0.2188 - 19ms/epoch - 5ms/step\n",
      "Epoch 97/100\n",
      "4/4 - 0s - loss: 8.0427e-05 - accuracy: 0.4609 - val_loss: 4.0295 - val_accuracy: 0.2188 - 19ms/epoch - 5ms/step\n",
      "Epoch 98/100\n",
      "4/4 - 0s - loss: 7.7348e-05 - accuracy: 0.4453 - val_loss: 4.0478 - val_accuracy: 0.2188 - 20ms/epoch - 5ms/step\n",
      "Epoch 99/100\n",
      "4/4 - 0s - loss: 7.5230e-05 - accuracy: 0.4297 - val_loss: 4.0690 - val_accuracy: 0.2188 - 18ms/epoch - 5ms/step\n",
      "Epoch 100/100\n",
      "4/4 - 0s - loss: 7.2751e-05 - accuracy: 0.4375 - val_loss: 4.0885 - val_accuracy: 0.2188 - 20ms/epoch - 5ms/step\n"
     ]
    }
   ],
   "source": [
    "history = model.fit(training_padded, training_labels, epochs=num_epochs, batch_size=batch_size, validation_data=(testing_padded, testing_labels), verbose=2)"
   ]
  },
  {
   "cell_type": "code",
   "execution_count": 107,
   "metadata": {},
   "outputs": [
    {
     "data": {
      "image/png": "[encoded data removed]",
      "text/plain": [
       "<Figure size 640x480 with 1 Axes>"
      ]
     },
     "metadata": {},
     "output_type": "display_data"
    },
    {
     "data": {
      "image/png": "[encoded data removed]",
      "text/plain": [
       "<Figure size 640x480 with 1 Axes>"
      ]
     },
     "metadata": {},
     "output_type": "display_data"
    }
   ],
   "source": [
    "transformation.plot_graphs(history, \"accuracy\")\n",
    "transformation.plot_graphs(history, \"loss\")"
   ]
  },
  {
   "cell_type": "code",
   "execution_count": 108,
   "metadata": {},
   "outputs": [
    {
     "data": {
      "text/plain": [
       "['Serebral sulkus ve sisternalar atrofiye sekonder genişlemiştir. Ponsta iki adet laküner infarkt alanı izlenmektedir.',\n",
       " 'Periventriküler beyaz cevher doku yoğunlukları azalmıştır. Hemisferik kortikal sulkuslar ve serebellar folyolar atrofik görünümdedir.',\n",
       " 'Sağda bazal ganglionik düzeyde genişlemiş perivaskuler aralığa ait görünümün varlığı izlenmiştir (normalin varyasyonu). ']"
      ]
     },
     "execution_count": 108,
     "metadata": {},
     "output_type": "execute_result"
    }
   ],
   "source": [
    "production_sentences[:3]"
   ]
  },
  {
   "cell_type": "code",
   "execution_count": 109,
   "metadata": {},
   "outputs": [
    {
     "data": {
      "text/plain": [
       "13"
      ]
     },
     "execution_count": 109,
     "metadata": {},
     "output_type": "execute_result"
    }
   ],
   "source": [
    "len(production_sentences)"
   ]
  },
  {
   "cell_type": "code",
   "execution_count": 110,
   "metadata": {},
   "outputs": [],
   "source": [
    "# predict a sentence\n",
    "tokenizer.fit_on_texts(production_sentences)\n",
    "prediction_sequences = tokenizer.texts_to_sequences(production_sentences)\n",
    "prediction_padded = pad_sequences(prediction_sequences, maxlen=max_input_length, padding=padding_type, truncating=trunc_type)\n",
    "prediction_padded = np.array(prediction_padded)"
   ]
  },
  {
   "cell_type": "code",
   "execution_count": 111,
   "metadata": {},
   "outputs": [
    {
     "name": "stdout",
     "output_type": "stream",
     "text": [
      "1/1 [==============================] - 0s 106ms/step\n"
     ]
    }
   ],
   "source": [
    "predictions = model.predict(prediction_padded)\n",
    "predictions = [np.argmax(prediction) for prediction in predictions]"
   ]
  },
  {
   "cell_type": "code",
   "execution_count": 112,
   "metadata": {},
   "outputs": [
    {
     "data": {
      "text/plain": [
       "0.6153846153846154"
      ]
     },
     "execution_count": 112,
     "metadata": {},
     "output_type": "execute_result"
    }
   ],
   "source": [
    "transformation.calculate_matching_ratio(production_labels, predictions)"
   ]
  }
 ],
 "metadata": {
  "kernelspec": {
   "display_name": ".venv",
   "language": "python",
   "name": "python3"
  },
  "language_info": {
   "codemirror_mode": {
    "name": "ipython",
    "version": 3
   },
   "file_extension": ".py",
   "mimetype": "text/x-python",
   "name": "python",
   "nbconvert_exporter": "python",
   "pygments_lexer": "ipython3",
   "version": "3.11.4"
  },
  "orig_nbformat": 4
 },
 "nbformat": 4,
 "nbformat_minor": 2
}
