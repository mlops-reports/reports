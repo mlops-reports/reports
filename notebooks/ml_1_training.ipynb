{
 "cells": [
  {
   "cell_type": "code",
   "execution_count": 1,
   "metadata": {},
   "outputs": [],
   "source": [
    "from experiment.api import mlflow as mlflow_api\n",
    "import tensorflow as tf\n",
    "import simplemma\n",
    "from experiment import transformation\n",
    "import pandas as pd\n",
    "import pathlib\n",
    "import json\n",
    "import numpy as np\n",
    "from collections import Counter\n",
    "\n",
    "\n",
    "from tensorflow.keras.preprocessing.text import Tokenizer\n",
    "from tensorflow.keras.preprocessing.sequence import pad_sequences"
   ]
  },
  {
   "cell_type": "code",
   "execution_count": 2,
   "metadata": {},
   "outputs": [
    {
     "name": "stderr",
     "output_type": "stream",
     "text": [
      "kill: usage: kill [-s sigspec | -n signum | -sigspec] pid | jobspec ... or kill -l [sigspec]\n"
     ]
    }
   ],
   "source": [
    "mlflow = mlflow_api.MLFlow()\n",
    "mlflow.clean()"
   ]
  },
  {
   "cell_type": "code",
   "execution_count": 3,
   "metadata": {},
   "outputs": [],
   "source": [
    "# run the tracking server in background\n",
    "mlflow.run_server()"
   ]
  },
  {
   "cell_type": "code",
   "execution_count": 4,
   "metadata": {},
   "outputs": [],
   "source": [
    "working_dir = pathlib.Path.cwd()\n",
    "\n",
    "model_config = {\n",
    "    \"test_and_train_studies\": 40,\n",
    "    \"vocab_size\": 10000,\n",
    "    \"embedding_dim\": 16,\n",
    "    \"max_input_length\": 25,  # default\n",
    "    \"trunc_type\": \"post\",\n",
    "    \"padding_type\": \"post\",\n",
    "    \"oov_token\": None,  # \"<OOV>\"\n",
    "    \"training_percent\": 80,\n",
    "    \"num_epochs\": 100,\n",
    "    \"batch_size\": 8,\n",
    "}"
   ]
  },
  {
   "cell_type": "code",
   "execution_count": 5,
   "metadata": {},
   "outputs": [],
   "source": [
    "clean_annotations = pd.read_csv(\n",
    "    working_dir.parent / \"data\" / \"output\" / \"clean_annotations.csv\"\n",
    ")\n",
    "\n",
    "sentences = clean_annotations[\"relevant_text\"].to_list()[\n",
    "    : model_config[\"test_and_train_studies\"]\n",
    "]\n",
    "production_sentences = clean_annotations[\"relevant_text\"].to_list()[\n",
    "    model_config[\"test_and_train_studies\"] :\n",
    "]\n",
    "\n",
    "# 1. Emergency\n",
    "# 2. Normal\n",
    "# 3. Non Emergency [Doctor]\n",
    "# 4. Non Emergency [No Doctor]\n",
    "clean_labels = clean_annotations[\"classifications\"].to_list()[\n",
    "    : model_config[\"test_and_train_studies\"]\n",
    "]\n",
    "production_labels = clean_annotations[\"classifications\"].to_list()[\n",
    "    model_config[\"test_and_train_studies\"] :\n",
    "]"
   ]
  },
  {
   "cell_type": "code",
   "execution_count": 6,
   "metadata": {},
   "outputs": [
    {
     "name": "stdout",
     "output_type": "stream",
     "text": [
      "Item 1 occurs 15 times in the list.\n",
      "Item 3 occurs 24 times in the list.\n",
      "Item 0 occurs 6 times in the list.\n",
      "Item 2 occurs 8 times in the list.\n"
     ]
    }
   ],
   "source": [
    "item_counts = Counter(clean_annotations[\"classifications\"].to_list())\n",
    "\n",
    "# 1. Emergency\n",
    "# 2. Normal\n",
    "# 3. Non Emergency [Doctor]\n",
    "# 4. Non Emergency [No Doctor]\n",
    "for item, count in item_counts.items():\n",
    "    print(f\"Item {item} occurs {count} times in the list.\")"
   ]
  },
  {
   "cell_type": "code",
   "execution_count": 7,
   "metadata": {},
   "outputs": [
    {
     "data": {
      "text/plain": [
       "['Kontrastsız Beyin BT Kafa kaidesi ve kalvarial kemik yapılar normal sınırlardadır. 4.ventrikül ve bazal sisternalar normal genişliktedir. Posterior fossa oluşumları olağandır. İntrakranial hipo veya hiperdens sınırlanabilen patoloji saptanmadı. 3.ventrikül orta hatta ve normal genişliktedir. Lateral ventriküller olağandır. Beyin orta hat yapılarında yer değiştirme saptanmamıştır. Serebral sulkuslar olağandır. Nazal septum sola deviye görünümdedir ve BTye yansıyan tipik bir akut iskemi bulgusu mevcut değildir.  Ancak bu konuda klinik kuşku varsa olgunun diffüzyon MRG ile değerlendirilmesi ve detaylandırılması daha yararlı olacaktır. ',\n",
       " 'Sol serebellar hemisferde sekel ??? ensefalomalazi sahaları ve eski iskemi sekeli değişiklikler izlenmektedir. Sağ serebellar hemisfer düzeyinde de benzer bulgular izlenmekle birlikte her iki serebellumda atrofi bulguları ve folyolarda belirginleşme mevcuttur. Supratentorial kesitlerin değerlendirilmesinde 3. ve lateral ventrikul, konveksite sulkusları atrofiye sekonder belirginleşmiştir. Sağda posterior serebral arter sulama sahasında kronik iskemik sekel gliozis sahalarının varlığı mevcuttur. Periventrikuler lökoriazis alanları izlenmektedir. ',\n",
       " ' Periventriküler derin beyaz cevherde kronik iskemik gliozise bağlı dansite kaybı izlenmektedir. Bazal sisterna ve serebral konvekste sulkuslarının genişliği atrofi ile uyumlu artmıştır. Sağ oksipital lobda kronik infarkt sekeli ensefalomalazi- gliozis ile uyumlu hipodens alan mevcuttur. Sağ kapsüle interna ön bölümünde de kronik infarkta ait hipodens alan izlenmiştir. Her iki lateral ventrikül genişliği atrofi zemininde hafif artmış görünümdedir. ',\n",
       " 'Sağda orbita tavanınd frontal sinüs tabanında çökme gösteren fraktür hatları izlenmiştir. Sağ orbita medial duvarında da fraktür hatları izlenmektedir. Sağ orbita tabanında maksiller sinüs üst duvarında yine çökme gösteren fraktür hattı mevcut olup orbital yağ dokunun bu düzeyden maksiller sinüse doğru uzanımı saptanmıştır. Sağ maksiller sinüs içerisinde kanama ile uyumlu yüksek dansiteli görünümlerde izlenmiştir. ',\n",
       " 'Sağ orbita üst duvarında fraktüre ait görünüm izlenmekte olup medial kesimde frontal sinüs duvarına uzanmaktadır,fraktüre komşu dural planlarda milimetrik hava değerleri mevcuttur.Sağ frontal sinüs inferior kesiminde anterior duvarda da fraktür hattı izlenmiştir.Sağ frontal bölgede ve periorbital alanda cilt altı yumuşak dokuda ödem- hematom ile uyumlu dansite ve kalınlık artışı ile hava değerleri mevcuttur. ']"
      ]
     },
     "execution_count": 7,
     "metadata": {},
     "output_type": "execute_result"
    }
   ],
   "source": [
    "sentences[:5]"
   ]
  },
  {
   "cell_type": "code",
   "execution_count": 8,
   "metadata": {},
   "outputs": [
    {
     "name": "stderr",
     "output_type": "stream",
     "text": [
      "[nltk_data] Downloading package stopwords to\n",
      "[nltk_data]     /Users/gokasci/nltk_data...\n",
      "[nltk_data]   Package stopwords is already up-to-date!\n"
     ]
    }
   ],
   "source": [
    "clean_sentences = transformation.sentence_cleaning_pipeline(sentences)\n",
    "max_input_length = transformation.find_longest_sentence_length(clean_sentences)"
   ]
  },
  {
   "cell_type": "code",
   "execution_count": 9,
   "metadata": {},
   "outputs": [
    {
     "name": "stdout",
     "output_type": "stream",
     "text": [
      "clean sentences: 40\n",
      "production sentences: 13\n"
     ]
    },
    {
     "data": {
      "text/plain": [
       "['kontrast beyin bt kafa kaide kalvarial kemik yapı normal sınır 4 ventrikül bazal sisternalar normal genişlik posterior fossa oluşum olağan i̇ntrakranial hipo hiperdens sınırlanabilen patoloji 3 ventrikül orta hatta normal genişlik lateral ventrikül olağan beyin orta hat yapı yer değiş sapta serebral sulkus olağan nazal septum sol deviye görünüm btye yansı tipik bir akut iskemi bulgu mevcut değil ancak konu klinik kuşku var olgu diffüzyon mrg değer detaylandırılması yarar ol',\n",
       " 'sol serebellar hemisfer sekel ensefalomalazi saha eski iskemi sekel değişik izle sağ serebellar hemisfer düzey benzer bulgu izle birlikte iki serebellumda atrofi bulgu folyo belirgin mevcut supratentorial kesit değerlendirilmesin 3 lateral ventrikul konveksite sulkus atrofiye sekonder belirgin sağ posterior serebral arter sula saha kronik iskemik sekel gliozis saha varlık mevcut periventrikuler lökoriazis alan izle',\n",
       " 'periventriküler derin beyaz cevher kronik iskemik gliozise bağ dansite kayıp izle bazal sisterna serebral konveks sulkuslar genişlik atrofi uyum art sağ oksipital lobda kronik infarkt sekel ensefalomalazi gliozis uyum hipodens alan mevcut sağ kapsül interna ön bölüm kronik infarkta ait hipodens alan izle her iki lateral ventrikül genişlik atrofi zemin hafif art görünüm',\n",
       " 'sağ orbita tavan frontal sinüs taban çök göster fraktür hat izle sağ orbita medial duvar fraktür hat izle sağ orbita taban maksiller sinüs üst duvar yine çök göster fraktür hat mevcut ol orbital yağ doku düzey maksiller sinüs doğru uzanım sapta sağ maksiller sinüs içeri kana uyum yüksek dansite görünüm izle',\n",
       " 'sağ orbita üst duvar fraktüre ait görünüm izle ol medial kesim frontal sinüs duvar uza fraktüre komşu dural plan milimetrik hava değer mevcut sağ frontal sinüs inferior kesim anterior duvar fraktür hat izle sağ frontal bölge periorbital alan cilt altı yumuşak doku ödem hematom uyum dansite kalınlık art hava değer mevcut']"
      ]
     },
     "execution_count": 9,
     "metadata": {},
     "output_type": "execute_result"
    }
   ],
   "source": [
    "# sentence count\n",
    "print(f\"clean sentences: {len(clean_sentences)}\")\n",
    "print(f\"production sentences: {len(production_sentences)}\")\n",
    "# show clean sentences\n",
    "clean_sentences[:5]"
   ]
  },
  {
   "cell_type": "code",
   "execution_count": 10,
   "metadata": {},
   "outputs": [
    {
     "data": {
      "text/plain": [
       "[1, 3, 3, 0, 0]"
      ]
     },
     "execution_count": 10,
     "metadata": {},
     "output_type": "execute_result"
    }
   ],
   "source": [
    "clean_labels[:5]"
   ]
  },
  {
   "cell_type": "code",
   "execution_count": 11,
   "metadata": {},
   "outputs": [],
   "source": [
    "# save json files\n",
    "with open(\n",
    "    working_dir.parent / \"data\" / \"output\" / \"lemma_correction.json\",\n",
    "    \"w\",\n",
    "    encoding=\"utf-8\",\n",
    ") as json_file:\n",
    "    data = {\n",
    "        str(index): {\"no_lemma\": sentence, \"lemma\": clean_sentence}\n",
    "        for index, (sentence, clean_sentence) in enumerate(\n",
    "            zip(sentences, clean_sentences)\n",
    "        )\n",
    "    }\n",
    "    json_file.write(json.dumps(data, indent=4, ensure_ascii=False))"
   ]
  },
  {
   "cell_type": "code",
   "execution_count": 12,
   "metadata": {},
   "outputs": [],
   "source": [
    "# manuall test the word lemmatizer\n",
    "# word = \"hemisferde\"\n",
    "# simplemma.lemmatize(word, lang=\"tr\").lower()"
   ]
  },
  {
   "cell_type": "code",
   "execution_count": 13,
   "metadata": {},
   "outputs": [],
   "source": [
    "training_size = int(len(clean_sentences) * model_config[\"training_percent\"] / 100)\n",
    "training_sentences = clean_sentences[0:training_size]\n",
    "testing_sentences = clean_sentences[training_size:]\n",
    "training_labels = clean_labels[0:training_size]\n",
    "testing_labels = clean_labels[training_size:]"
   ]
  },
  {
   "cell_type": "code",
   "execution_count": 14,
   "metadata": {},
   "outputs": [],
   "source": [
    "tokenizer = Tokenizer(\n",
    "    num_words=model_config[\"vocab_size\"], oov_token=model_config[\"oov_token\"]\n",
    ")\n",
    "tokenizer.fit_on_texts(training_sentences)\n",
    "\n",
    "training_sequences = tokenizer.texts_to_sequences(training_sentences)\n",
    "training_padded = pad_sequences(\n",
    "    training_sequences,\n",
    "    maxlen=max_input_length,\n",
    "    padding=model_config[\"padding_type\"],\n",
    "    truncating=model_config[\"trunc_type\"],\n",
    ")\n",
    "testing_sequences = tokenizer.texts_to_sequences(testing_sentences)\n",
    "testing_padded = pad_sequences(\n",
    "    testing_sequences,\n",
    "    maxlen=max_input_length,\n",
    "    padding=model_config[\"padding_type\"],\n",
    "    truncating=model_config[\"trunc_type\"],\n",
    ")\n",
    "\n",
    "training_padded = np.array(training_padded)\n",
    "training_labels = np.array(training_labels)\n",
    "testing_padded = np.array(testing_padded)\n",
    "testing_labels = np.array(testing_labels)"
   ]
  },
  {
   "cell_type": "code",
   "execution_count": 15,
   "metadata": {},
   "outputs": [
    {
     "data": {
      "text/plain": [
       "array([[147,  18,  67, ..., 161, 162,   9],\n",
       "       [ 47,  44,  58, ...,   0,   0,   0],\n",
       "       [ 49,  88,  53, ...,   0,   0,   0],\n",
       "       ...,\n",
       "       [ 80,  81,  82, ...,   0,   0,   0],\n",
       "       [ 80,  81,  82, ...,   0,   0,   0],\n",
       "       [ 61,   5,  71, ...,   0,   0,   0]], dtype=int32)"
      ]
     },
     "execution_count": 15,
     "metadata": {},
     "output_type": "execute_result"
    }
   ],
   "source": [
    "training_padded"
   ]
  },
  {
   "cell_type": "code",
   "execution_count": 16,
   "metadata": {},
   "outputs": [],
   "source": [
    "model = tf.keras.Sequential(\n",
    "    [\n",
    "        tf.keras.layers.Embedding(\n",
    "            model_config[\"vocab_size\"],\n",
    "            model_config[\"embedding_dim\"],\n",
    "            input_length=max_input_length,\n",
    "        ),\n",
    "        tf.keras.layers.GlobalAveragePooling1D(),\n",
    "        tf.keras.layers.Dense(64, activation=\"relu\"),\n",
    "        tf.keras.layers.Dense(64, activation=\"relu\"),\n",
    "        tf.keras.layers.Dense(64, activation=\"relu\"),\n",
    "        tf.keras.layers.Dense(32, activation=\"relu\"),\n",
    "        tf.keras.layers.Dense(4, activation=\"softmax\"),\n",
    "    ]\n",
    ")\n",
    "model.compile(\n",
    "    loss=\"sparse_categorical_crossentropy\", optimizer=\"adam\", metrics=[\"accuracy\"]\n",
    ")"
   ]
  },
  {
   "cell_type": "code",
   "execution_count": 17,
   "metadata": {},
   "outputs": [
    {
     "name": "stdout",
     "output_type": "stream",
     "text": [
      "Model: \"sequential\"\n",
      "_________________________________________________________________\n",
      " Layer (type)                Output Shape              Param #   \n",
      "=================================================================\n",
      " embedding (Embedding)       (None, 70, 16)            160000    \n",
      "                                                                 \n",
      " global_average_pooling1d (  (None, 16)                0         \n",
      " GlobalAveragePooling1D)                                         \n",
      "                                                                 \n",
      " dense (Dense)               (None, 64)                1088      \n",
      "                                                                 \n",
      " dense_1 (Dense)             (None, 64)                4160      \n",
      "                                                                 \n",
      " dense_2 (Dense)             (None, 64)                4160      \n",
      "                                                                 \n",
      " dense_3 (Dense)             (None, 32)                2080      \n",
      "                                                                 \n",
      " dense_4 (Dense)             (None, 4)                 132       \n",
      "                                                                 \n",
      "=================================================================\n",
      "Total params: 171620 (670.39 KB)\n",
      "Trainable params: 171620 (670.39 KB)\n",
      "Non-trainable params: 0 (0.00 Byte)\n",
      "_________________________________________________________________\n"
     ]
    }
   ],
   "source": [
    "model.summary()"
   ]
  },
  {
   "cell_type": "code",
   "execution_count": 18,
   "metadata": {},
   "outputs": [
    {
     "name": "stdout",
     "output_type": "stream",
     "text": [
      "Epoch 1/100\n",
      "4/4 - 0s - loss: 1.3856 - accuracy: 0.3438 - val_loss: 1.3898 - val_accuracy: 0.0000e+00 - 290ms/epoch - 72ms/step\n",
      "Epoch 2/100\n",
      "4/4 - 0s - loss: 1.3760 - accuracy: 0.4688 - val_loss: 1.3947 - val_accuracy: 0.0000e+00 - 15ms/epoch - 4ms/step\n",
      "Epoch 3/100\n",
      "4/4 - 0s - loss: 1.3633 - accuracy: 0.4688 - val_loss: 1.3981 - val_accuracy: 0.0000e+00 - 15ms/epoch - 4ms/step\n",
      "Epoch 4/100\n",
      "4/4 - 0s - loss: 1.3525 - accuracy: 0.4688 - val_loss: 1.4046 - val_accuracy: 0.0000e+00 - 15ms/epoch - 4ms/step\n",
      "Epoch 5/100\n",
      "4/4 - 0s - loss: 1.3372 - accuracy: 0.4688 - val_loss: 1.4126 - val_accuracy: 0.0000e+00 - 16ms/epoch - 4ms/step\n",
      "Epoch 6/100\n",
      "4/4 - 0s - loss: 1.3159 - accuracy: 0.4688 - val_loss: 1.4216 - val_accuracy: 0.0000e+00 - 16ms/epoch - 4ms/step\n",
      "Epoch 7/100\n",
      "4/4 - 0s - loss: 1.2913 - accuracy: 0.4688 - val_loss: 1.4375 - val_accuracy: 0.0000e+00 - 16ms/epoch - 4ms/step\n",
      "Epoch 8/100\n",
      "4/4 - 0s - loss: 1.2554 - accuracy: 0.4688 - val_loss: 1.4556 - val_accuracy: 0.0000e+00 - 17ms/epoch - 4ms/step\n",
      "Epoch 9/100\n",
      "4/4 - 0s - loss: 1.2153 - accuracy: 0.4688 - val_loss: 1.4814 - val_accuracy: 0.0000e+00 - 17ms/epoch - 4ms/step\n",
      "Epoch 10/100\n",
      "4/4 - 0s - loss: 1.1542 - accuracy: 0.4688 - val_loss: 1.4985 - val_accuracy: 0.0000e+00 - 17ms/epoch - 4ms/step\n",
      "Epoch 11/100\n",
      "4/4 - 0s - loss: 1.0974 - accuracy: 0.4688 - val_loss: 1.5295 - val_accuracy: 0.0000e+00 - 17ms/epoch - 4ms/step\n",
      "Epoch 12/100\n",
      "4/4 - 0s - loss: 1.0219 - accuracy: 0.4688 - val_loss: 1.5245 - val_accuracy: 0.0000e+00 - 16ms/epoch - 4ms/step\n",
      "Epoch 13/100\n",
      "4/4 - 0s - loss: 0.9389 - accuracy: 0.4688 - val_loss: 1.5025 - val_accuracy: 0.0000e+00 - 15ms/epoch - 4ms/step\n",
      "Epoch 14/100\n",
      "4/4 - 0s - loss: 0.8515 - accuracy: 0.4688 - val_loss: 1.4630 - val_accuracy: 0.0000e+00 - 14ms/epoch - 3ms/step\n",
      "Epoch 15/100\n",
      "4/4 - 0s - loss: 0.7703 - accuracy: 0.6562 - val_loss: 1.4157 - val_accuracy: 0.5000 - 14ms/epoch - 4ms/step\n",
      "Epoch 16/100\n",
      "4/4 - 0s - loss: 0.7033 - accuracy: 0.8438 - val_loss: 1.3587 - val_accuracy: 0.5000 - 14ms/epoch - 4ms/step\n",
      "Epoch 17/100\n",
      "4/4 - 0s - loss: 0.6423 - accuracy: 0.8438 - val_loss: 1.3128 - val_accuracy: 0.5000 - 14ms/epoch - 3ms/step\n",
      "Epoch 18/100\n",
      "4/4 - 0s - loss: 0.5933 - accuracy: 0.8438 - val_loss: 1.2844 - val_accuracy: 0.5000 - 14ms/epoch - 3ms/step\n",
      "Epoch 19/100\n",
      "4/4 - 0s - loss: 0.5530 - accuracy: 0.8438 - val_loss: 1.2791 - val_accuracy: 0.5000 - 15ms/epoch - 4ms/step\n",
      "Epoch 20/100\n",
      "4/4 - 0s - loss: 0.5154 - accuracy: 0.8438 - val_loss: 1.2790 - val_accuracy: 0.5000 - 14ms/epoch - 4ms/step\n",
      "Epoch 21/100\n",
      "4/4 - 0s - loss: 0.4856 - accuracy: 0.8438 - val_loss: 1.3025 - val_accuracy: 0.5000 - 14ms/epoch - 3ms/step\n",
      "Epoch 22/100\n",
      "4/4 - 0s - loss: 0.4604 - accuracy: 0.8438 - val_loss: 1.3352 - val_accuracy: 0.5000 - 14ms/epoch - 3ms/step\n",
      "Epoch 23/100\n",
      "4/4 - 0s - loss: 0.4340 - accuracy: 0.8438 - val_loss: 1.3155 - val_accuracy: 0.5000 - 14ms/epoch - 3ms/step\n",
      "Epoch 24/100\n",
      "4/4 - 0s - loss: 0.4142 - accuracy: 0.8438 - val_loss: 1.2969 - val_accuracy: 0.5000 - 16ms/epoch - 4ms/step\n",
      "Epoch 25/100\n",
      "4/4 - 0s - loss: 0.3930 - accuracy: 0.8438 - val_loss: 1.2610 - val_accuracy: 0.5000 - 15ms/epoch - 4ms/step\n",
      "Epoch 26/100\n",
      "4/4 - 0s - loss: 0.3742 - accuracy: 0.8438 - val_loss: 1.2056 - val_accuracy: 0.5000 - 15ms/epoch - 4ms/step\n",
      "Epoch 27/100\n",
      "4/4 - 0s - loss: 0.3463 - accuracy: 0.8438 - val_loss: 1.2245 - val_accuracy: 0.5000 - 16ms/epoch - 4ms/step\n",
      "Epoch 28/100\n",
      "4/4 - 0s - loss: 0.3236 - accuracy: 0.8438 - val_loss: 1.1623 - val_accuracy: 0.5000 - 16ms/epoch - 4ms/step\n",
      "Epoch 29/100\n",
      "4/4 - 0s - loss: 0.2976 - accuracy: 0.8438 - val_loss: 1.0957 - val_accuracy: 0.5000 - 15ms/epoch - 4ms/step\n",
      "Epoch 30/100\n",
      "4/4 - 0s - loss: 0.2725 - accuracy: 0.9062 - val_loss: 1.0863 - val_accuracy: 0.5000 - 16ms/epoch - 4ms/step\n",
      "Epoch 31/100\n",
      "4/4 - 0s - loss: 0.2432 - accuracy: 0.9062 - val_loss: 1.0962 - val_accuracy: 0.5000 - 16ms/epoch - 4ms/step\n",
      "Epoch 32/100\n",
      "4/4 - 0s - loss: 0.2212 - accuracy: 0.9062 - val_loss: 1.0650 - val_accuracy: 0.5000 - 16ms/epoch - 4ms/step\n",
      "Epoch 33/100\n",
      "4/4 - 0s - loss: 0.2022 - accuracy: 0.9375 - val_loss: 0.9877 - val_accuracy: 0.5000 - 15ms/epoch - 4ms/step\n",
      "Epoch 34/100\n",
      "4/4 - 0s - loss: 0.1834 - accuracy: 0.9375 - val_loss: 0.9923 - val_accuracy: 0.5000 - 16ms/epoch - 4ms/step\n",
      "Epoch 35/100\n",
      "4/4 - 0s - loss: 0.1657 - accuracy: 0.9375 - val_loss: 0.9851 - val_accuracy: 0.5000 - 17ms/epoch - 4ms/step\n",
      "Epoch 36/100\n",
      "4/4 - 0s - loss: 0.1507 - accuracy: 0.9375 - val_loss: 1.0566 - val_accuracy: 0.5000 - 15ms/epoch - 4ms/step\n",
      "Epoch 37/100\n",
      "4/4 - 0s - loss: 0.1411 - accuracy: 0.9375 - val_loss: 0.9971 - val_accuracy: 0.5000 - 16ms/epoch - 4ms/step\n",
      "Epoch 38/100\n",
      "4/4 - 0s - loss: 0.1302 - accuracy: 0.9375 - val_loss: 0.9362 - val_accuracy: 0.5000 - 18ms/epoch - 5ms/step\n",
      "Epoch 39/100\n",
      "4/4 - 0s - loss: 0.1215 - accuracy: 0.9375 - val_loss: 0.9309 - val_accuracy: 0.3750 - 25ms/epoch - 6ms/step\n",
      "Epoch 40/100\n",
      "4/4 - 0s - loss: 0.1154 - accuracy: 0.9375 - val_loss: 0.9794 - val_accuracy: 0.5000 - 15ms/epoch - 4ms/step\n",
      "Epoch 41/100\n",
      "4/4 - 0s - loss: 0.1090 - accuracy: 0.9375 - val_loss: 1.0124 - val_accuracy: 0.5000 - 16ms/epoch - 4ms/step\n",
      "Epoch 42/100\n",
      "4/4 - 0s - loss: 0.1039 - accuracy: 0.9375 - val_loss: 0.9897 - val_accuracy: 0.5000 - 15ms/epoch - 4ms/step\n",
      "Epoch 43/100\n",
      "4/4 - 0s - loss: 0.1035 - accuracy: 0.9375 - val_loss: 0.9945 - val_accuracy: 0.3750 - 16ms/epoch - 4ms/step\n",
      "Epoch 44/100\n",
      "4/4 - 0s - loss: 0.0964 - accuracy: 0.9688 - val_loss: 0.9886 - val_accuracy: 0.3750 - 34ms/epoch - 8ms/step\n",
      "Epoch 45/100\n",
      "4/4 - 0s - loss: 0.0927 - accuracy: 0.9688 - val_loss: 1.0108 - val_accuracy: 0.3750 - 16ms/epoch - 4ms/step\n",
      "Epoch 46/100\n",
      "4/4 - 0s - loss: 0.0886 - accuracy: 0.9688 - val_loss: 1.0309 - val_accuracy: 0.3750 - 15ms/epoch - 4ms/step\n",
      "Epoch 47/100\n",
      "4/4 - 0s - loss: 0.0850 - accuracy: 0.9688 - val_loss: 1.0592 - val_accuracy: 0.3750 - 15ms/epoch - 4ms/step\n",
      "Epoch 48/100\n",
      "4/4 - 0s - loss: 0.0822 - accuracy: 0.9688 - val_loss: 1.0694 - val_accuracy: 0.3750 - 17ms/epoch - 4ms/step\n",
      "Epoch 49/100\n",
      "4/4 - 0s - loss: 0.0804 - accuracy: 0.9688 - val_loss: 1.0941 - val_accuracy: 0.3750 - 20ms/epoch - 5ms/step\n",
      "Epoch 50/100\n",
      "4/4 - 0s - loss: 0.0775 - accuracy: 0.9688 - val_loss: 1.0756 - val_accuracy: 0.3750 - 19ms/epoch - 5ms/step\n",
      "Epoch 51/100\n",
      "4/4 - 0s - loss: 0.0725 - accuracy: 0.9688 - val_loss: 1.1073 - val_accuracy: 0.3750 - 18ms/epoch - 5ms/step\n",
      "Epoch 52/100\n",
      "4/4 - 0s - loss: 0.0687 - accuracy: 0.9688 - val_loss: 1.1737 - val_accuracy: 0.3750 - 18ms/epoch - 5ms/step\n",
      "Epoch 53/100\n",
      "4/4 - 0s - loss: 0.0648 - accuracy: 0.9688 - val_loss: 1.2195 - val_accuracy: 0.3750 - 18ms/epoch - 5ms/step\n",
      "Epoch 54/100\n",
      "4/4 - 0s - loss: 0.0589 - accuracy: 1.0000 - val_loss: 1.2343 - val_accuracy: 0.3750 - 19ms/epoch - 5ms/step\n",
      "Epoch 55/100\n",
      "4/4 - 0s - loss: 0.0538 - accuracy: 1.0000 - val_loss: 1.2475 - val_accuracy: 0.3750 - 17ms/epoch - 4ms/step\n",
      "Epoch 56/100\n",
      "4/4 - 0s - loss: 0.0483 - accuracy: 1.0000 - val_loss: 1.2558 - val_accuracy: 0.5000 - 18ms/epoch - 4ms/step\n",
      "Epoch 57/100\n",
      "4/4 - 0s - loss: 0.0407 - accuracy: 1.0000 - val_loss: 1.2734 - val_accuracy: 0.5000 - 17ms/epoch - 4ms/step\n",
      "Epoch 58/100\n",
      "4/4 - 0s - loss: 0.0381 - accuracy: 1.0000 - val_loss: 1.3191 - val_accuracy: 0.5000 - 16ms/epoch - 4ms/step\n",
      "Epoch 59/100\n",
      "4/4 - 0s - loss: 0.0334 - accuracy: 1.0000 - val_loss: 1.3498 - val_accuracy: 0.5000 - 18ms/epoch - 4ms/step\n",
      "Epoch 60/100\n",
      "4/4 - 0s - loss: 0.0283 - accuracy: 1.0000 - val_loss: 1.3702 - val_accuracy: 0.5000 - 17ms/epoch - 4ms/step\n",
      "Epoch 61/100\n",
      "4/4 - 0s - loss: 0.0246 - accuracy: 1.0000 - val_loss: 1.4361 - val_accuracy: 0.5000 - 16ms/epoch - 4ms/step\n",
      "Epoch 62/100\n",
      "4/4 - 0s - loss: 0.0214 - accuracy: 1.0000 - val_loss: 1.5015 - val_accuracy: 0.5000 - 15ms/epoch - 4ms/step\n",
      "Epoch 63/100\n",
      "4/4 - 0s - loss: 0.0178 - accuracy: 1.0000 - val_loss: 1.5949 - val_accuracy: 0.3750 - 16ms/epoch - 4ms/step\n",
      "Epoch 64/100\n",
      "4/4 - 0s - loss: 0.0174 - accuracy: 1.0000 - val_loss: 1.6792 - val_accuracy: 0.3750 - 16ms/epoch - 4ms/step\n",
      "Epoch 65/100\n",
      "4/4 - 0s - loss: 0.0150 - accuracy: 1.0000 - val_loss: 1.7047 - val_accuracy: 0.3750 - 16ms/epoch - 4ms/step\n",
      "Epoch 66/100\n",
      "4/4 - 0s - loss: 0.0125 - accuracy: 1.0000 - val_loss: 1.7562 - val_accuracy: 0.3750 - 16ms/epoch - 4ms/step\n",
      "Epoch 67/100\n",
      "4/4 - 0s - loss: 0.0109 - accuracy: 1.0000 - val_loss: 1.8112 - val_accuracy: 0.3750 - 16ms/epoch - 4ms/step\n",
      "Epoch 68/100\n",
      "4/4 - 0s - loss: 0.0092 - accuracy: 1.0000 - val_loss: 1.9048 - val_accuracy: 0.3750 - 15ms/epoch - 4ms/step\n",
      "Epoch 69/100\n",
      "4/4 - 0s - loss: 0.0086 - accuracy: 1.0000 - val_loss: 1.9588 - val_accuracy: 0.3750 - 15ms/epoch - 4ms/step\n",
      "Epoch 70/100\n",
      "4/4 - 0s - loss: 0.0078 - accuracy: 1.0000 - val_loss: 1.9933 - val_accuracy: 0.3750 - 16ms/epoch - 4ms/step\n",
      "Epoch 71/100\n",
      "4/4 - 0s - loss: 0.0068 - accuracy: 1.0000 - val_loss: 2.0472 - val_accuracy: 0.3750 - 16ms/epoch - 4ms/step\n",
      "Epoch 72/100\n",
      "4/4 - 0s - loss: 0.0059 - accuracy: 1.0000 - val_loss: 2.1135 - val_accuracy: 0.3750 - 16ms/epoch - 4ms/step\n",
      "Epoch 73/100\n",
      "4/4 - 0s - loss: 0.0055 - accuracy: 1.0000 - val_loss: 2.1759 - val_accuracy: 0.3750 - 17ms/epoch - 4ms/step\n",
      "Epoch 74/100\n",
      "4/4 - 0s - loss: 0.0048 - accuracy: 1.0000 - val_loss: 2.2210 - val_accuracy: 0.3750 - 16ms/epoch - 4ms/step\n",
      "Epoch 75/100\n",
      "4/4 - 0s - loss: 0.0044 - accuracy: 1.0000 - val_loss: 2.2585 - val_accuracy: 0.3750 - 16ms/epoch - 4ms/step\n",
      "Epoch 76/100\n",
      "4/4 - 0s - loss: 0.0041 - accuracy: 1.0000 - val_loss: 2.2974 - val_accuracy: 0.3750 - 17ms/epoch - 4ms/step\n",
      "Epoch 77/100\n",
      "4/4 - 0s - loss: 0.0037 - accuracy: 1.0000 - val_loss: 2.3386 - val_accuracy: 0.3750 - 16ms/epoch - 4ms/step\n",
      "Epoch 78/100\n",
      "4/4 - 0s - loss: 0.0035 - accuracy: 1.0000 - val_loss: 2.3908 - val_accuracy: 0.3750 - 16ms/epoch - 4ms/step\n",
      "Epoch 79/100\n",
      "4/4 - 0s - loss: 0.0032 - accuracy: 1.0000 - val_loss: 2.4443 - val_accuracy: 0.3750 - 16ms/epoch - 4ms/step\n",
      "Epoch 80/100\n",
      "4/4 - 0s - loss: 0.0029 - accuracy: 1.0000 - val_loss: 2.4920 - val_accuracy: 0.3750 - 16ms/epoch - 4ms/step\n",
      "Epoch 81/100\n",
      "4/4 - 0s - loss: 0.0028 - accuracy: 1.0000 - val_loss: 2.5289 - val_accuracy: 0.3750 - 16ms/epoch - 4ms/step\n",
      "Epoch 82/100\n",
      "4/4 - 0s - loss: 0.0026 - accuracy: 1.0000 - val_loss: 2.5615 - val_accuracy: 0.3750 - 17ms/epoch - 4ms/step\n",
      "Epoch 83/100\n",
      "4/4 - 0s - loss: 0.0025 - accuracy: 1.0000 - val_loss: 2.6079 - val_accuracy: 0.3750 - 18ms/epoch - 5ms/step\n",
      "Epoch 84/100\n",
      "4/4 - 0s - loss: 0.0023 - accuracy: 1.0000 - val_loss: 2.6490 - val_accuracy: 0.3750 - 22ms/epoch - 5ms/step\n",
      "Epoch 85/100\n",
      "4/4 - 0s - loss: 0.0021 - accuracy: 1.0000 - val_loss: 2.6815 - val_accuracy: 0.3750 - 21ms/epoch - 5ms/step\n",
      "Epoch 86/100\n",
      "4/4 - 0s - loss: 0.0020 - accuracy: 1.0000 - val_loss: 2.7119 - val_accuracy: 0.3750 - 19ms/epoch - 5ms/step\n",
      "Epoch 87/100\n",
      "4/4 - 0s - loss: 0.0019 - accuracy: 1.0000 - val_loss: 2.7348 - val_accuracy: 0.3750 - 17ms/epoch - 4ms/step\n",
      "Epoch 88/100\n",
      "4/4 - 0s - loss: 0.0018 - accuracy: 1.0000 - val_loss: 2.7650 - val_accuracy: 0.3750 - 18ms/epoch - 4ms/step\n",
      "Epoch 89/100\n",
      "4/4 - 0s - loss: 0.0017 - accuracy: 1.0000 - val_loss: 2.8100 - val_accuracy: 0.3750 - 16ms/epoch - 4ms/step\n",
      "Epoch 90/100\n",
      "4/4 - 0s - loss: 0.0017 - accuracy: 1.0000 - val_loss: 2.8391 - val_accuracy: 0.3750 - 17ms/epoch - 4ms/step\n",
      "Epoch 91/100\n",
      "4/4 - 0s - loss: 0.0015 - accuracy: 1.0000 - val_loss: 2.8578 - val_accuracy: 0.3750 - 17ms/epoch - 4ms/step\n",
      "Epoch 92/100\n",
      "4/4 - 0s - loss: 0.0015 - accuracy: 1.0000 - val_loss: 2.8824 - val_accuracy: 0.3750 - 17ms/epoch - 4ms/step\n",
      "Epoch 93/100\n",
      "4/4 - 0s - loss: 0.0014 - accuracy: 1.0000 - val_loss: 2.9128 - val_accuracy: 0.3750 - 16ms/epoch - 4ms/step\n",
      "Epoch 94/100\n",
      "4/4 - 0s - loss: 0.0014 - accuracy: 1.0000 - val_loss: 2.9421 - val_accuracy: 0.3750 - 17ms/epoch - 4ms/step\n",
      "Epoch 95/100\n",
      "4/4 - 0s - loss: 0.0013 - accuracy: 1.0000 - val_loss: 2.9755 - val_accuracy: 0.3750 - 16ms/epoch - 4ms/step\n",
      "Epoch 96/100\n",
      "4/4 - 0s - loss: 0.0012 - accuracy: 1.0000 - val_loss: 2.9953 - val_accuracy: 0.3750 - 16ms/epoch - 4ms/step\n",
      "Epoch 97/100\n",
      "4/4 - 0s - loss: 0.0012 - accuracy: 1.0000 - val_loss: 3.0286 - val_accuracy: 0.3750 - 17ms/epoch - 4ms/step\n",
      "Epoch 98/100\n",
      "4/4 - 0s - loss: 0.0012 - accuracy: 1.0000 - val_loss: 3.0511 - val_accuracy: 0.3750 - 18ms/epoch - 4ms/step\n",
      "Epoch 99/100\n",
      "4/4 - 0s - loss: 0.0011 - accuracy: 1.0000 - val_loss: 3.0653 - val_accuracy: 0.3750 - 17ms/epoch - 4ms/step\n",
      "Epoch 100/100\n",
      "4/4 - 0s - loss: 0.0011 - accuracy: 1.0000 - val_loss: 3.0812 - val_accuracy: 0.3750 - 16ms/epoch - 4ms/step\n"
     ]
    }
   ],
   "source": [
    "history = model.fit(\n",
    "    training_padded,\n",
    "    training_labels,\n",
    "    epochs=model_config[\"num_epochs\"],\n",
    "    batch_size=model_config[\"batch_size\"],\n",
    "    validation_data=(testing_padded, testing_labels),\n",
    "    verbose=2,\n",
    ")"
   ]
  },
  {
   "cell_type": "code",
   "execution_count": 19,
   "metadata": {},
   "outputs": [
    {
     "data": {
      "image/png": "[encoded data removed]",
      "text/plain": [
       "<Figure size 640x480 with 1 Axes>"
      ]
     },
     "metadata": {},
     "output_type": "display_data"
    },
    {
     "data": {
      "image/png": "[encoded data removed]",
      "text/plain": [
       "<Figure size 640x480 with 1 Axes>"
      ]
     },
     "metadata": {},
     "output_type": "display_data"
    }
   ],
   "source": [
    "transformation.plot_graphs(history, \"accuracy\")\n",
    "transformation.plot_graphs(history, \"loss\")"
   ]
  },
  {
   "cell_type": "code",
   "execution_count": 20,
   "metadata": {},
   "outputs": [
    {
     "data": {
      "text/plain": [
       "['Serebral sulkus ve sisternalar atrofiye sekonder genişlemiştir. Ponsta iki adet laküner infarkt alanı izlenmektedir.',\n",
       " 'Periventriküler beyaz cevher doku yoğunlukları azalmıştır. Hemisferik kortikal sulkuslar ve serebellar folyolar atrofik görünümdedir.',\n",
       " 'Sağda bazal ganglionik düzeyde genişlemiş perivaskuler aralığa ait görünümün varlığı izlenmiştir (normalin varyasyonu). ']"
      ]
     },
     "execution_count": 20,
     "metadata": {},
     "output_type": "execute_result"
    }
   ],
   "source": [
    "production_sentences[:3]"
   ]
  },
  {
   "cell_type": "code",
   "execution_count": 21,
   "metadata": {},
   "outputs": [
    {
     "data": {
      "text/plain": [
       "13"
      ]
     },
     "execution_count": 21,
     "metadata": {},
     "output_type": "execute_result"
    }
   ],
   "source": [
    "len(production_sentences)"
   ]
  },
  {
   "cell_type": "code",
   "execution_count": 22,
   "metadata": {},
   "outputs": [],
   "source": [
    "# predict a sentence\n",
    "tokenizer.fit_on_texts(production_sentences)\n",
    "prediction_sequences = tokenizer.texts_to_sequences(production_sentences)\n",
    "prediction_padded = pad_sequences(\n",
    "    prediction_sequences,\n",
    "    maxlen=max_input_length,\n",
    "    padding=model_config[\"padding_type\"],\n",
    "    truncating=model_config[\"trunc_type\"],\n",
    ")\n",
    "prediction_padded = np.array(prediction_padded)"
   ]
  },
  {
   "cell_type": "code",
   "execution_count": 23,
   "metadata": {},
   "outputs": [
    {
     "name": "stdout",
     "output_type": "stream",
     "text": [
      "1/1 [==============================] - 0s 46ms/step\n"
     ]
    }
   ],
   "source": [
    "predictions = model.predict(prediction_padded)\n",
    "predictions = [np.argmax(prediction) for prediction in predictions]"
   ]
  },
  {
   "cell_type": "code",
   "execution_count": 24,
   "metadata": {},
   "outputs": [],
   "source": [
    "accuracy = transformation.calculate_matching_ratio(production_labels, predictions)"
   ]
  },
  {
   "cell_type": "code",
   "execution_count": 25,
   "metadata": {},
   "outputs": [
    {
     "name": "stderr",
     "output_type": "stream",
     "text": [
      "[2023-08-19 11:55:10 +0200] [85560] [INFO] Starting gunicorn 21.2.0\n",
      "[2023-08-19 11:55:10 +0200] [85560] [INFO] Listening at: http://127.0.0.1:9999 (85560)\n",
      "[2023-08-19 11:55:10 +0200] [85560] [INFO] Using worker: sync\n",
      "[2023-08-19 11:55:10 +0200] [85561] [INFO] Booting worker with pid: 85561\n",
      "[2023-08-19 11:55:10 +0200] [85563] [INFO] Booting worker with pid: 85563\n",
      "[2023-08-19 11:55:10 +0200] [85564] [INFO] Booting worker with pid: 85564\n",
      "[2023-08-19 11:55:10 +0200] [85566] [INFO] Booting worker with pid: 85566\n",
      "2023/08/19 11:55:27 WARNING mlflow.utils.environment: Encountered an unexpected error while inferring pip requirements (model URI: /var/folders/p7/2cvrhtmd5jbfn60b_h4pd4lw0000gn/T/tmpvwrelpoy/model/model.pkl, flavor: sklearn), fall back to return ['scikit-learn==1.3.0', 'cloudpickle==2.2.1']. Set logging level to DEBUG to see the full traceback.\n",
      "/Users/gokasci/Desktop/reports/.venv/lib/python3.11/site-packages/_distutils_hack/__init__.py:33: UserWarning: Setuptools is replacing distutils.\n",
      "  warnings.warn(\"Setuptools is replacing distutils.\")\n",
      "Registered model 'rnn_experiments' already exists. Creating a new version of this model...\n",
      "2023/08/19 11:55:37 INFO mlflow.tracking._model_registry.client: Waiting up to 300 seconds for model version to finish creation. Model name: rnn_experiments, version 2\n",
      "Created version '2' of model 'rnn_experiments'.\n"
     ]
    }
   ],
   "source": [
    "# log a model run\n",
    "log_dict = {\n",
    "    \"params\": model_config,\n",
    "    \"metrics\": {\"accuracy\": accuracy},\n",
    "}\n",
    "\n",
    "run_id = mlflow.log_mlflow(\n",
    "    model=model,\n",
    "    experiment_name=\"NLP Experiments\",\n",
    "    run_name=f\"RNN: first_run\",\n",
    "    log_dict=log_dict,\n",
    "    registered_model_name=\"rnn_experiments\",\n",
    "    tags={\"model\": \"deep_learning\"},\n",
    ")"
   ]
  }
 ],
 "metadata": {
  "kernelspec": {
   "display_name": ".venv",
   "language": "python",
   "name": "python3"
  },
  "language_info": {
   "codemirror_mode": {
    "name": "ipython",
    "version": 3
   },
   "file_extension": ".py",
   "mimetype": "text/x-python",
   "name": "python",
   "nbconvert_exporter": "python",
   "pygments_lexer": "ipython3",
   "version": "3.11.4"
  },
  "orig_nbformat": 4
 },
 "nbformat": 4,
 "nbformat_minor": 2
}
