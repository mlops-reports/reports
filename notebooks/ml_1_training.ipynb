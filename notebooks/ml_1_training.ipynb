{
 "cells": [
  {
   "cell_type": "code",
   "execution_count": 1,
   "metadata": {},
   "outputs": [],
   "source": [
    "from experiment.api import mlflow as mlflow_api\n",
    "import tensorflow as tf\n",
    "import simplemma\n",
    "from experiment import transformation\n",
    "import pandas as pd\n",
    "import pathlib\n",
    "import json\n",
    "import numpy as np\n",
    "from collections import Counter\n",
    "\n",
    "\n",
    "from tensorflow.keras.preprocessing.text import Tokenizer\n",
    "from tensorflow.keras.preprocessing.sequence import pad_sequences"
   ]
  },
  {
   "cell_type": "code",
   "execution_count": 2,
   "metadata": {},
   "outputs": [
    {
     "name": "stderr",
     "output_type": "stream",
     "text": [
      "kill: usage: kill [-s sigspec | -n signum | -sigspec] pid | jobspec ... or kill -l [sigspec]\n"
     ]
    }
   ],
   "source": [
    "mlflow = mlflow_api.MLFlow()\n",
    "mlflow.clean()"
   ]
  },
  {
   "cell_type": "code",
   "execution_count": 3,
   "metadata": {},
   "outputs": [],
   "source": [
    "# run the tracking server in background\n",
    "mlflow.run_server()"
   ]
  },
  {
   "cell_type": "code",
   "execution_count": 4,
   "metadata": {},
   "outputs": [],
   "source": [
    "working_dir = pathlib.Path.cwd()\n",
    "\n",
    "model_config = {\n",
    "    \"test_and_train_studies\": 40,\n",
    "    \"vocab_size\": 10000,\n",
    "    \"embedding_dim\": 16,\n",
    "    \"max_input_length\": 25,  # default\n",
    "    \"trunc_type\": \"post\",\n",
    "    \"padding_type\": \"post\",\n",
    "    \"oov_token\": None,  # \"<OOV>\"\n",
    "    \"training_percent\": 80,\n",
    "    \"num_epochs\": 100,\n",
    "    \"batch_size\": 8,\n",
    "}"
   ]
  },
  {
   "cell_type": "code",
   "execution_count": 5,
   "metadata": {},
   "outputs": [],
   "source": [
    "clean_annotations = pd.read_csv(\n",
    "    working_dir.parent / \"data\" / \"output\" / \"clean_annotations.csv\"\n",
    ")\n",
    "\n",
    "sentences = clean_annotations[\"relevant_text\"].to_list()[\n",
    "    : model_config[\"test_and_train_studies\"]\n",
    "]\n",
    "production_sentences = clean_annotations[\"relevant_text\"].to_list()[\n",
    "    model_config[\"test_and_train_studies\"] :\n",
    "]\n",
    "\n",
    "# 1. Emergency\n",
    "# 2. Normal\n",
    "# 3. Non Emergency [Doctor]\n",
    "# 4. Non Emergency [No Doctor]\n",
    "clean_labels = clean_annotations[\"classifications\"].to_list()[\n",
    "    : model_config[\"test_and_train_studies\"]\n",
    "]\n",
    "production_labels = clean_annotations[\"classifications\"].to_list()[\n",
    "    model_config[\"test_and_train_studies\"] :\n",
    "]"
   ]
  },
  {
   "cell_type": "code",
   "execution_count": 6,
   "metadata": {},
   "outputs": [
    {
     "name": "stdout",
     "output_type": "stream",
     "text": [
      "Item 1 occurs 15 times in the list.\n",
      "Item 3 occurs 24 times in the list.\n",
      "Item 0 occurs 6 times in the list.\n",
      "Item 2 occurs 8 times in the list.\n"
     ]
    }
   ],
   "source": [
    "item_counts = Counter(clean_annotations[\"classifications\"].to_list())\n",
    "\n",
    "# 1. Emergency\n",
    "# 2. Normal\n",
    "# 3. Non Emergency [Doctor]\n",
    "# 4. Non Emergency [No Doctor]\n",
    "for item, count in item_counts.items():\n",
    "    print(f\"Item {item} occurs {count} times in the list.\")"
   ]
  },
  {
   "cell_type": "code",
   "execution_count": 7,
   "metadata": {},
   "outputs": [
    {
     "data": {
      "text/plain": [
       "['Kontrastsız Beyin BT Kafa kaidesi ve kalvarial kemik yapılar normal sınırlardadır. 4.ventrikül ve bazal sisternalar normal genişliktedir. Posterior fossa oluşumları olağandır. İntrakranial hipo veya hiperdens sınırlanabilen patoloji saptanmadı. 3.ventrikül orta hatta ve normal genişliktedir. Lateral ventriküller olağandır. Beyin orta hat yapılarında yer değiştirme saptanmamıştır. Serebral sulkuslar olağandır. Nazal septum sola deviye görünümdedir ve BTye yansıyan tipik bir akut iskemi bulgusu mevcut değildir.  Ancak bu konuda klinik kuşku varsa olgunun diffüzyon MRG ile değerlendirilmesi ve detaylandırılması daha yararlı olacaktır. ',\n",
       " 'Sol serebellar hemisferde sekel ??? ensefalomalazi sahaları ve eski iskemi sekeli değişiklikler izlenmektedir. Sağ serebellar hemisfer düzeyinde de benzer bulgular izlenmekle birlikte her iki serebellumda atrofi bulguları ve folyolarda belirginleşme mevcuttur. Supratentorial kesitlerin değerlendirilmesinde 3. ve lateral ventrikul, konveksite sulkusları atrofiye sekonder belirginleşmiştir. Sağda posterior serebral arter sulama sahasında kronik iskemik sekel gliozis sahalarının varlığı mevcuttur. Periventrikuler lökoriazis alanları izlenmektedir. ',\n",
       " ' Periventriküler derin beyaz cevherde kronik iskemik gliozise bağlı dansite kaybı izlenmektedir. Bazal sisterna ve serebral konvekste sulkuslarının genişliği atrofi ile uyumlu artmıştır. Sağ oksipital lobda kronik infarkt sekeli ensefalomalazi- gliozis ile uyumlu hipodens alan mevcuttur. Sağ kapsüle interna ön bölümünde de kronik infarkta ait hipodens alan izlenmiştir. Her iki lateral ventrikül genişliği atrofi zemininde hafif artmış görünümdedir. ',\n",
       " 'Sağda orbita tavanınd frontal sinüs tabanında çökme gösteren fraktür hatları izlenmiştir. Sağ orbita medial duvarında da fraktür hatları izlenmektedir. Sağ orbita tabanında maksiller sinüs üst duvarında yine çökme gösteren fraktür hattı mevcut olup orbital yağ dokunun bu düzeyden maksiller sinüse doğru uzanımı saptanmıştır. Sağ maksiller sinüs içerisinde kanama ile uyumlu yüksek dansiteli görünümlerde izlenmiştir. ',\n",
       " 'Sağ orbita üst duvarında fraktüre ait görünüm izlenmekte olup medial kesimde frontal sinüs duvarına uzanmaktadır,fraktüre komşu dural planlarda milimetrik hava değerleri mevcuttur.Sağ frontal sinüs inferior kesiminde anterior duvarda da fraktür hattı izlenmiştir.Sağ frontal bölgede ve periorbital alanda cilt altı yumuşak dokuda ödem- hematom ile uyumlu dansite ve kalınlık artışı ile hava değerleri mevcuttur. ']"
      ]
     },
     "execution_count": 7,
     "metadata": {},
     "output_type": "execute_result"
    }
   ],
   "source": [
    "sentences[:5]"
   ]
  },
  {
   "cell_type": "code",
   "execution_count": 8,
   "metadata": {},
   "outputs": [
    {
     "name": "stderr",
     "output_type": "stream",
     "text": [
      "[nltk_data] Downloading package stopwords to\n",
      "[nltk_data]     /Users/gokasci/nltk_data...\n",
      "[nltk_data]   Package stopwords is already up-to-date!\n"
     ]
    }
   ],
   "source": [
    "clean_sentences = transformation.sentence_cleaning_pipeline(sentences)\n",
    "max_input_length = transformation.find_longest_sentence_length(clean_sentences)"
   ]
  },
  {
   "cell_type": "code",
   "execution_count": 9,
   "metadata": {},
   "outputs": [
    {
     "name": "stdout",
     "output_type": "stream",
     "text": [
      "clean sentences: 40\n",
      "production sentences: 13\n"
     ]
    },
    {
     "data": {
      "text/plain": [
       "['kontrast beyin bt kafa kaide kalvarial kemik yapı normal sınır 4 ventrikül bazal sisternalar normal genişlik posterior fossa oluşum olağan i̇ntrakranial hipo hiperdens sınırlanabilen patoloji 3 ventrikül orta hatta normal genişlik lateral ventrikül olağan beyin orta hat yapı yer değiş sapta serebral sulkus olağan nazal septum sol deviye görünüm btye yansı tipik bir akut iskemi bulgu mevcut değil ancak konu klinik kuşku var olgu diffüzyon mrg değer detaylandırılması yarar ol',\n",
       " 'sol serebellar hemisfer sekel ensefalomalazi saha eski iskemi sekel değişik izle sağ serebellar hemisfer düzey benzer bulgu izle birlikte iki serebellumda atrofi bulgu folyo belirgin mevcut supratentorial kesit değerlendirilmesin 3 lateral ventrikul konveksite sulkus atrofiye sekonder belirgin sağ posterior serebral arter sula saha kronik iskemik sekel gliozis saha varlık mevcut periventrikuler lökoriazis alan izle',\n",
       " 'periventriküler derin beyaz cevher kronik iskemik gliozise bağ dansite kayıp izle bazal sisterna serebral konveks sulkuslar genişlik atrofi uyum art sağ oksipital lobda kronik infarkt sekel ensefalomalazi gliozis uyum hipodens alan mevcut sağ kapsül interna ön bölüm kronik infarkta ait hipodens alan izle her iki lateral ventrikül genişlik atrofi zemin hafif art görünüm',\n",
       " 'sağ orbita tavan frontal sinüs taban çök göster fraktür hat izle sağ orbita medial duvar fraktür hat izle sağ orbita taban maksiller sinüs üst duvar yine çök göster fraktür hat mevcut ol orbital yağ doku düzey maksiller sinüs doğru uzanım sapta sağ maksiller sinüs içeri kana uyum yüksek dansite görünüm izle',\n",
       " 'sağ orbita üst duvar fraktüre ait görünüm izle ol medial kesim frontal sinüs duvar uza fraktüre komşu dural plan milimetrik hava değer mevcut sağ frontal sinüs inferior kesim anterior duvar fraktür hat izle sağ frontal bölge periorbital alan cilt altı yumuşak doku ödem hematom uyum dansite kalınlık art hava değer mevcut']"
      ]
     },
     "execution_count": 9,
     "metadata": {},
     "output_type": "execute_result"
    }
   ],
   "source": [
    "# sentence count\n",
    "print(f\"clean sentences: {len(clean_sentences)}\")\n",
    "print(f\"production sentences: {len(production_sentences)}\")\n",
    "# show clean sentences\n",
    "clean_sentences[:5]"
   ]
  },
  {
   "cell_type": "code",
   "execution_count": 10,
   "metadata": {},
   "outputs": [
    {
     "data": {
      "text/plain": [
       "[1, 3, 3, 0, 0]"
      ]
     },
     "execution_count": 10,
     "metadata": {},
     "output_type": "execute_result"
    }
   ],
   "source": [
    "clean_labels[:5]"
   ]
  },
  {
   "cell_type": "code",
   "execution_count": 11,
   "metadata": {},
   "outputs": [],
   "source": [
    "# save json files\n",
    "with open(\n",
    "    working_dir.parent / \"data\" / \"output\" / \"lemma_correction.json\",\n",
    "    \"w\",\n",
    "    encoding=\"utf-8\",\n",
    ") as json_file:\n",
    "    data = {\n",
    "        str(index): {\"no_lemma\": sentence, \"lemma\": clean_sentence}\n",
    "        for index, (sentence, clean_sentence) in enumerate(\n",
    "            zip(sentences, clean_sentences)\n",
    "        )\n",
    "    }\n",
    "    json_file.write(json.dumps(data, indent=4, ensure_ascii=False))"
   ]
  },
  {
   "cell_type": "code",
   "execution_count": 12,
   "metadata": {},
   "outputs": [],
   "source": [
    "# manuall test the word lemmatizer\n",
    "# word = \"hemisferde\"\n",
    "# simplemma.lemmatize(word, lang=\"tr\").lower()"
   ]
  },
  {
   "cell_type": "code",
   "execution_count": 13,
   "metadata": {},
   "outputs": [],
   "source": [
    "training_size = int(len(clean_sentences) * model_config[\"training_percent\"] / 100)\n",
    "training_sentences = clean_sentences[0:training_size]\n",
    "testing_sentences = clean_sentences[training_size:]\n",
    "training_labels = clean_labels[0:training_size]\n",
    "testing_labels = clean_labels[training_size:]"
   ]
  },
  {
   "cell_type": "code",
   "execution_count": 14,
   "metadata": {},
   "outputs": [],
   "source": [
    "tokenizer = Tokenizer(\n",
    "    num_words=model_config[\"vocab_size\"], oov_token=model_config[\"oov_token\"]\n",
    ")\n",
    "tokenizer.fit_on_texts(training_sentences)\n",
    "\n",
    "training_sequences = tokenizer.texts_to_sequences(training_sentences)\n",
    "training_padded = pad_sequences(\n",
    "    training_sequences,\n",
    "    maxlen=max_input_length,\n",
    "    padding=model_config[\"padding_type\"],\n",
    "    truncating=model_config[\"trunc_type\"],\n",
    ")\n",
    "testing_sequences = tokenizer.texts_to_sequences(testing_sentences)\n",
    "testing_padded = pad_sequences(\n",
    "    testing_sequences,\n",
    "    maxlen=max_input_length,\n",
    "    padding=model_config[\"padding_type\"],\n",
    "    truncating=model_config[\"trunc_type\"],\n",
    ")\n",
    "\n",
    "training_padded = np.array(training_padded)\n",
    "training_labels = np.array(training_labels)\n",
    "testing_padded = np.array(testing_padded)\n",
    "testing_labels = np.array(testing_labels)"
   ]
  },
  {
   "cell_type": "code",
   "execution_count": 15,
   "metadata": {},
   "outputs": [
    {
     "data": {
      "text/plain": [
       "array([[147,  18,  67, ..., 161, 162,   9],\n",
       "       [ 47,  44,  58, ...,   0,   0,   0],\n",
       "       [ 49,  88,  53, ...,   0,   0,   0],\n",
       "       ...,\n",
       "       [ 80,  81,  82, ...,   0,   0,   0],\n",
       "       [ 80,  81,  82, ...,   0,   0,   0],\n",
       "       [ 61,   5,  71, ...,   0,   0,   0]], dtype=int32)"
      ]
     },
     "execution_count": 15,
     "metadata": {},
     "output_type": "execute_result"
    }
   ],
   "source": [
    "training_padded"
   ]
  },
  {
   "cell_type": "code",
   "execution_count": 16,
   "metadata": {},
   "outputs": [],
   "source": [
    "model = tf.keras.Sequential(\n",
    "    [\n",
    "        tf.keras.layers.Embedding(\n",
    "            model_config[\"vocab_size\"],\n",
    "            model_config[\"embedding_dim\"],\n",
    "            input_length=max_input_length,\n",
    "        ),\n",
    "        tf.keras.layers.GlobalAveragePooling1D(),\n",
    "        tf.keras.layers.Dense(64, activation=\"relu\"),\n",
    "        tf.keras.layers.Dense(64, activation=\"relu\"),\n",
    "        tf.keras.layers.Dense(64, activation=\"relu\"),\n",
    "        tf.keras.layers.Dense(32, activation=\"relu\"),\n",
    "        tf.keras.layers.Dense(4, activation=\"softmax\"),\n",
    "    ]\n",
    ")\n",
    "model.compile(\n",
    "    loss=\"sparse_categorical_crossentropy\", optimizer=\"adam\", metrics=[\"accuracy\"]\n",
    ")"
   ]
  },
  {
   "cell_type": "code",
   "execution_count": 17,
   "metadata": {},
   "outputs": [
    {
     "name": "stdout",
     "output_type": "stream",
     "text": [
      "Model: \"sequential\"\n",
      "_________________________________________________________________\n",
      " Layer (type)                Output Shape              Param #   \n",
      "=================================================================\n",
      " embedding (Embedding)       (None, 70, 16)            160000    \n",
      "                                                                 \n",
      " global_average_pooling1d (  (None, 16)                0         \n",
      " GlobalAveragePooling1D)                                         \n",
      "                                                                 \n",
      " dense (Dense)               (None, 64)                1088      \n",
      "                                                                 \n",
      " dense_1 (Dense)             (None, 64)                4160      \n",
      "                                                                 \n",
      " dense_2 (Dense)             (None, 64)                4160      \n",
      "                                                                 \n",
      " dense_3 (Dense)             (None, 32)                2080      \n",
      "                                                                 \n",
      " dense_4 (Dense)             (None, 4)                 132       \n",
      "                                                                 \n",
      "=================================================================\n",
      "Total params: 171620 (670.39 KB)\n",
      "Trainable params: 171620 (670.39 KB)\n",
      "Non-trainable params: 0 (0.00 Byte)\n",
      "_________________________________________________________________\n"
     ]
    }
   ],
   "source": [
    "model.summary()"
   ]
  },
  {
   "cell_type": "code",
   "execution_count": 18,
   "metadata": {},
   "outputs": [
    {
     "name": "stdout",
     "output_type": "stream",
     "text": [
      "Epoch 1/100\n",
      "4/4 - 0s - loss: 1.3779 - accuracy: 0.4062 - val_loss: 1.3809 - val_accuracy: 0.5000 - 287ms/epoch - 72ms/step\n",
      "Epoch 2/100\n",
      "4/4 - 0s - loss: 1.3595 - accuracy: 0.6250 - val_loss: 1.3818 - val_accuracy: 0.5000 - 15ms/epoch - 4ms/step\n",
      "Epoch 3/100\n",
      "4/4 - 0s - loss: 1.3421 - accuracy: 0.6250 - val_loss: 1.3800 - val_accuracy: 0.5000 - 15ms/epoch - 4ms/step\n",
      "Epoch 4/100\n",
      "4/4 - 0s - loss: 1.3138 - accuracy: 0.4062 - val_loss: 1.3819 - val_accuracy: 0.5000 - 14ms/epoch - 4ms/step\n",
      "Epoch 5/100\n",
      "4/4 - 0s - loss: 1.2851 - accuracy: 0.4062 - val_loss: 1.3883 - val_accuracy: 0.5000 - 14ms/epoch - 4ms/step\n",
      "Epoch 6/100\n",
      "4/4 - 0s - loss: 1.2366 - accuracy: 0.4062 - val_loss: 1.4110 - val_accuracy: 0.5000 - 16ms/epoch - 4ms/step\n",
      "Epoch 7/100\n",
      "4/4 - 0s - loss: 1.1977 - accuracy: 0.8438 - val_loss: 1.4584 - val_accuracy: 0.5000 - 15ms/epoch - 4ms/step\n",
      "Epoch 8/100\n",
      "4/4 - 0s - loss: 1.1487 - accuracy: 0.8438 - val_loss: 1.5171 - val_accuracy: 0.5000 - 15ms/epoch - 4ms/step\n",
      "Epoch 9/100\n",
      "4/4 - 0s - loss: 1.1003 - accuracy: 0.8438 - val_loss: 1.6139 - val_accuracy: 0.5000 - 15ms/epoch - 4ms/step\n",
      "Epoch 10/100\n",
      "4/4 - 0s - loss: 1.0710 - accuracy: 0.8438 - val_loss: 1.7346 - val_accuracy: 0.5000 - 14ms/epoch - 4ms/step\n",
      "Epoch 11/100\n",
      "4/4 - 0s - loss: 1.0468 - accuracy: 0.7188 - val_loss: 1.8352 - val_accuracy: 0.5000 - 15ms/epoch - 4ms/step\n",
      "Epoch 12/100\n",
      "4/4 - 0s - loss: 1.0308 - accuracy: 0.7188 - val_loss: 1.8867 - val_accuracy: 0.5000 - 14ms/epoch - 4ms/step\n",
      "Epoch 13/100\n",
      "4/4 - 0s - loss: 1.0022 - accuracy: 0.8438 - val_loss: 1.8966 - val_accuracy: 0.5000 - 14ms/epoch - 4ms/step\n",
      "Epoch 14/100\n",
      "4/4 - 0s - loss: 0.9668 - accuracy: 0.7812 - val_loss: 1.8653 - val_accuracy: 0.5000 - 15ms/epoch - 4ms/step\n",
      "Epoch 15/100\n",
      "4/4 - 0s - loss: 0.9251 - accuracy: 0.8125 - val_loss: 1.7840 - val_accuracy: 0.5000 - 14ms/epoch - 3ms/step\n",
      "Epoch 16/100\n",
      "4/4 - 0s - loss: 0.8711 - accuracy: 0.8438 - val_loss: 1.7069 - val_accuracy: 0.5000 - 14ms/epoch - 4ms/step\n",
      "Epoch 17/100\n",
      "4/4 - 0s - loss: 0.8047 - accuracy: 0.8438 - val_loss: 1.6373 - val_accuracy: 0.5000 - 14ms/epoch - 3ms/step\n",
      "Epoch 18/100\n",
      "4/4 - 0s - loss: 0.7297 - accuracy: 0.8438 - val_loss: 1.5851 - val_accuracy: 0.5000 - 14ms/epoch - 4ms/step\n",
      "Epoch 19/100\n",
      "4/4 - 0s - loss: 0.6453 - accuracy: 0.8438 - val_loss: 1.5704 - val_accuracy: 0.5000 - 14ms/epoch - 4ms/step\n",
      "Epoch 20/100\n",
      "4/4 - 0s - loss: 0.5551 - accuracy: 0.8438 - val_loss: 1.5445 - val_accuracy: 0.5000 - 14ms/epoch - 4ms/step\n",
      "Epoch 21/100\n",
      "4/4 - 0s - loss: 0.4756 - accuracy: 0.8438 - val_loss: 1.5500 - val_accuracy: 0.5000 - 14ms/epoch - 4ms/step\n",
      "Epoch 22/100\n",
      "4/4 - 0s - loss: 0.4135 - accuracy: 0.8438 - val_loss: 1.5758 - val_accuracy: 0.5000 - 14ms/epoch - 3ms/step\n",
      "Epoch 23/100\n",
      "4/4 - 0s - loss: 0.3696 - accuracy: 0.8438 - val_loss: 1.5856 - val_accuracy: 0.5000 - 14ms/epoch - 4ms/step\n",
      "Epoch 24/100\n",
      "4/4 - 0s - loss: 0.3419 - accuracy: 0.8438 - val_loss: 1.5237 - val_accuracy: 0.5000 - 16ms/epoch - 4ms/step\n",
      "Epoch 25/100\n",
      "4/4 - 0s - loss: 0.3147 - accuracy: 0.8438 - val_loss: 1.4958 - val_accuracy: 0.5000 - 15ms/epoch - 4ms/step\n",
      "Epoch 26/100\n",
      "4/4 - 0s - loss: 0.2940 - accuracy: 0.8438 - val_loss: 1.4915 - val_accuracy: 0.5000 - 16ms/epoch - 4ms/step\n",
      "Epoch 27/100\n",
      "4/4 - 0s - loss: 0.2811 - accuracy: 0.8438 - val_loss: 1.4848 - val_accuracy: 0.5000 - 15ms/epoch - 4ms/step\n",
      "Epoch 28/100\n",
      "4/4 - 0s - loss: 0.2678 - accuracy: 0.9062 - val_loss: 1.4485 - val_accuracy: 0.5000 - 16ms/epoch - 4ms/step\n",
      "Epoch 29/100\n",
      "4/4 - 0s - loss: 0.2569 - accuracy: 0.9062 - val_loss: 1.4143 - val_accuracy: 0.5000 - 15ms/epoch - 4ms/step\n",
      "Epoch 30/100\n",
      "4/4 - 0s - loss: 0.2480 - accuracy: 0.9062 - val_loss: 1.3719 - val_accuracy: 0.5000 - 18ms/epoch - 4ms/step\n",
      "Epoch 31/100\n",
      "4/4 - 0s - loss: 0.2346 - accuracy: 0.9375 - val_loss: 1.4124 - val_accuracy: 0.5000 - 16ms/epoch - 4ms/step\n",
      "Epoch 32/100\n",
      "4/4 - 0s - loss: 0.2246 - accuracy: 0.9375 - val_loss: 1.4384 - val_accuracy: 0.5000 - 16ms/epoch - 4ms/step\n",
      "Epoch 33/100\n",
      "4/4 - 0s - loss: 0.2133 - accuracy: 0.9375 - val_loss: 1.4259 - val_accuracy: 0.5000 - 16ms/epoch - 4ms/step\n",
      "Epoch 34/100\n",
      "4/4 - 0s - loss: 0.2025 - accuracy: 0.9375 - val_loss: 1.3428 - val_accuracy: 0.5000 - 17ms/epoch - 4ms/step\n",
      "Epoch 35/100\n",
      "4/4 - 0s - loss: 0.1905 - accuracy: 0.9375 - val_loss: 1.3099 - val_accuracy: 0.5000 - 17ms/epoch - 4ms/step\n",
      "Epoch 36/100\n",
      "4/4 - 0s - loss: 0.1800 - accuracy: 0.9375 - val_loss: 1.3287 - val_accuracy: 0.5000 - 16ms/epoch - 4ms/step\n",
      "Epoch 37/100\n",
      "4/4 - 0s - loss: 0.1667 - accuracy: 0.9375 - val_loss: 1.3157 - val_accuracy: 0.5000 - 16ms/epoch - 4ms/step\n",
      "Epoch 38/100\n",
      "4/4 - 0s - loss: 0.1574 - accuracy: 0.9375 - val_loss: 1.2738 - val_accuracy: 0.5000 - 16ms/epoch - 4ms/step\n",
      "Epoch 39/100\n",
      "4/4 - 0s - loss: 0.1431 - accuracy: 0.9688 - val_loss: 1.2918 - val_accuracy: 0.5000 - 16ms/epoch - 4ms/step\n",
      "Epoch 40/100\n",
      "4/4 - 0s - loss: 0.1332 - accuracy: 0.9688 - val_loss: 1.3383 - val_accuracy: 0.5000 - 18ms/epoch - 5ms/step\n",
      "Epoch 41/100\n",
      "4/4 - 0s - loss: 0.1222 - accuracy: 0.9688 - val_loss: 1.3985 - val_accuracy: 0.5000 - 17ms/epoch - 4ms/step\n",
      "Epoch 42/100\n",
      "4/4 - 0s - loss: 0.1121 - accuracy: 0.9688 - val_loss: 1.4566 - val_accuracy: 0.5000 - 17ms/epoch - 4ms/step\n",
      "Epoch 43/100\n",
      "4/4 - 0s - loss: 0.1015 - accuracy: 0.9688 - val_loss: 1.4097 - val_accuracy: 0.5000 - 16ms/epoch - 4ms/step\n",
      "Epoch 44/100\n",
      "4/4 - 0s - loss: 0.0946 - accuracy: 0.9688 - val_loss: 1.4303 - val_accuracy: 0.5000 - 16ms/epoch - 4ms/step\n",
      "Epoch 45/100\n",
      "4/4 - 0s - loss: 0.0868 - accuracy: 0.9688 - val_loss: 1.5161 - val_accuracy: 0.5000 - 15ms/epoch - 4ms/step\n",
      "Epoch 46/100\n",
      "4/4 - 0s - loss: 0.0786 - accuracy: 0.9688 - val_loss: 1.6580 - val_accuracy: 0.5000 - 16ms/epoch - 4ms/step\n",
      "Epoch 47/100\n",
      "4/4 - 0s - loss: 0.0689 - accuracy: 1.0000 - val_loss: 1.6388 - val_accuracy: 0.5000 - 16ms/epoch - 4ms/step\n",
      "Epoch 48/100\n",
      "4/4 - 0s - loss: 0.0617 - accuracy: 1.0000 - val_loss: 1.6352 - val_accuracy: 0.3750 - 16ms/epoch - 4ms/step\n",
      "Epoch 49/100\n",
      "4/4 - 0s - loss: 0.0552 - accuracy: 1.0000 - val_loss: 1.7986 - val_accuracy: 0.3750 - 18ms/epoch - 4ms/step\n",
      "Epoch 50/100\n",
      "4/4 - 0s - loss: 0.0454 - accuracy: 1.0000 - val_loss: 1.8902 - val_accuracy: 0.3750 - 16ms/epoch - 4ms/step\n",
      "Epoch 51/100\n",
      "4/4 - 0s - loss: 0.0390 - accuracy: 1.0000 - val_loss: 1.9234 - val_accuracy: 0.3750 - 16ms/epoch - 4ms/step\n",
      "Epoch 52/100\n",
      "4/4 - 0s - loss: 0.0318 - accuracy: 1.0000 - val_loss: 2.0431 - val_accuracy: 0.3750 - 16ms/epoch - 4ms/step\n",
      "Epoch 53/100\n",
      "4/4 - 0s - loss: 0.0261 - accuracy: 1.0000 - val_loss: 2.0631 - val_accuracy: 0.3750 - 16ms/epoch - 4ms/step\n",
      "Epoch 54/100\n",
      "4/4 - 0s - loss: 0.0213 - accuracy: 1.0000 - val_loss: 2.0806 - val_accuracy: 0.3750 - 16ms/epoch - 4ms/step\n",
      "Epoch 55/100\n",
      "4/4 - 0s - loss: 0.0190 - accuracy: 1.0000 - val_loss: 2.2486 - val_accuracy: 0.3750 - 16ms/epoch - 4ms/step\n",
      "Epoch 56/100\n",
      "4/4 - 0s - loss: 0.0142 - accuracy: 1.0000 - val_loss: 2.3394 - val_accuracy: 0.3750 - 16ms/epoch - 4ms/step\n",
      "Epoch 57/100\n",
      "4/4 - 0s - loss: 0.0123 - accuracy: 1.0000 - val_loss: 2.4205 - val_accuracy: 0.3750 - 16ms/epoch - 4ms/step\n",
      "Epoch 58/100\n",
      "4/4 - 0s - loss: 0.0097 - accuracy: 1.0000 - val_loss: 2.4326 - val_accuracy: 0.3750 - 15ms/epoch - 4ms/step\n",
      "Epoch 59/100\n",
      "4/4 - 0s - loss: 0.0081 - accuracy: 1.0000 - val_loss: 2.4353 - val_accuracy: 0.3750 - 16ms/epoch - 4ms/step\n",
      "Epoch 60/100\n",
      "4/4 - 0s - loss: 0.0070 - accuracy: 1.0000 - val_loss: 2.4526 - val_accuracy: 0.3750 - 20ms/epoch - 5ms/step\n",
      "Epoch 61/100\n",
      "4/4 - 0s - loss: 0.0062 - accuracy: 1.0000 - val_loss: 2.5231 - val_accuracy: 0.3750 - 18ms/epoch - 5ms/step\n",
      "Epoch 62/100\n",
      "4/4 - 0s - loss: 0.0055 - accuracy: 1.0000 - val_loss: 2.5849 - val_accuracy: 0.3750 - 16ms/epoch - 4ms/step\n",
      "Epoch 63/100\n",
      "4/4 - 0s - loss: 0.0048 - accuracy: 1.0000 - val_loss: 2.6324 - val_accuracy: 0.3750 - 15ms/epoch - 4ms/step\n",
      "Epoch 64/100\n",
      "4/4 - 0s - loss: 0.0043 - accuracy: 1.0000 - val_loss: 2.6777 - val_accuracy: 0.3750 - 15ms/epoch - 4ms/step\n",
      "Epoch 65/100\n",
      "4/4 - 0s - loss: 0.0038 - accuracy: 1.0000 - val_loss: 2.6887 - val_accuracy: 0.3750 - 16ms/epoch - 4ms/step\n",
      "Epoch 66/100\n",
      "4/4 - 0s - loss: 0.0034 - accuracy: 1.0000 - val_loss: 2.7049 - val_accuracy: 0.3750 - 16ms/epoch - 4ms/step\n",
      "Epoch 67/100\n",
      "4/4 - 0s - loss: 0.0031 - accuracy: 1.0000 - val_loss: 2.7101 - val_accuracy: 0.3750 - 16ms/epoch - 4ms/step\n",
      "Epoch 68/100\n",
      "4/4 - 0s - loss: 0.0029 - accuracy: 1.0000 - val_loss: 2.7225 - val_accuracy: 0.3750 - 17ms/epoch - 4ms/step\n",
      "Epoch 69/100\n",
      "4/4 - 0s - loss: 0.0027 - accuracy: 1.0000 - val_loss: 2.7698 - val_accuracy: 0.3750 - 17ms/epoch - 4ms/step\n",
      "Epoch 70/100\n",
      "4/4 - 0s - loss: 0.0024 - accuracy: 1.0000 - val_loss: 2.8013 - val_accuracy: 0.3750 - 17ms/epoch - 4ms/step\n",
      "Epoch 71/100\n",
      "4/4 - 0s - loss: 0.0023 - accuracy: 1.0000 - val_loss: 2.8111 - val_accuracy: 0.3750 - 17ms/epoch - 4ms/step\n",
      "Epoch 72/100\n",
      "4/4 - 0s - loss: 0.0022 - accuracy: 1.0000 - val_loss: 2.8230 - val_accuracy: 0.3750 - 18ms/epoch - 4ms/step\n",
      "Epoch 73/100\n",
      "4/4 - 0s - loss: 0.0020 - accuracy: 1.0000 - val_loss: 2.8352 - val_accuracy: 0.3750 - 18ms/epoch - 5ms/step\n",
      "Epoch 74/100\n",
      "4/4 - 0s - loss: 0.0019 - accuracy: 1.0000 - val_loss: 2.8626 - val_accuracy: 0.3750 - 16ms/epoch - 4ms/step\n",
      "Epoch 75/100\n",
      "4/4 - 0s - loss: 0.0018 - accuracy: 1.0000 - val_loss: 2.8826 - val_accuracy: 0.3750 - 16ms/epoch - 4ms/step\n",
      "Epoch 76/100\n",
      "4/4 - 0s - loss: 0.0016 - accuracy: 1.0000 - val_loss: 2.9069 - val_accuracy: 0.3750 - 16ms/epoch - 4ms/step\n",
      "Epoch 77/100\n",
      "4/4 - 0s - loss: 0.0016 - accuracy: 1.0000 - val_loss: 2.9220 - val_accuracy: 0.3750 - 16ms/epoch - 4ms/step\n",
      "Epoch 78/100\n",
      "4/4 - 0s - loss: 0.0014 - accuracy: 1.0000 - val_loss: 2.9385 - val_accuracy: 0.3750 - 15ms/epoch - 4ms/step\n",
      "Epoch 79/100\n",
      "4/4 - 0s - loss: 0.0014 - accuracy: 1.0000 - val_loss: 2.9609 - val_accuracy: 0.3750 - 16ms/epoch - 4ms/step\n",
      "Epoch 80/100\n",
      "4/4 - 0s - loss: 0.0013 - accuracy: 1.0000 - val_loss: 2.9787 - val_accuracy: 0.3750 - 15ms/epoch - 4ms/step\n",
      "Epoch 81/100\n",
      "4/4 - 0s - loss: 0.0012 - accuracy: 1.0000 - val_loss: 2.9938 - val_accuracy: 0.3750 - 15ms/epoch - 4ms/step\n",
      "Epoch 82/100\n",
      "4/4 - 0s - loss: 0.0011 - accuracy: 1.0000 - val_loss: 3.0035 - val_accuracy: 0.3750 - 16ms/epoch - 4ms/step\n",
      "Epoch 83/100\n",
      "4/4 - 0s - loss: 0.0011 - accuracy: 1.0000 - val_loss: 3.0249 - val_accuracy: 0.3750 - 15ms/epoch - 4ms/step\n",
      "Epoch 84/100\n",
      "4/4 - 0s - loss: 0.0010 - accuracy: 1.0000 - val_loss: 3.0437 - val_accuracy: 0.3750 - 16ms/epoch - 4ms/step\n",
      "Epoch 85/100\n",
      "4/4 - 0s - loss: 9.7949e-04 - accuracy: 1.0000 - val_loss: 3.0556 - val_accuracy: 0.3750 - 16ms/epoch - 4ms/step\n",
      "Epoch 86/100\n",
      "4/4 - 0s - loss: 9.4172e-04 - accuracy: 1.0000 - val_loss: 3.0660 - val_accuracy: 0.3750 - 16ms/epoch - 4ms/step\n",
      "Epoch 87/100\n",
      "4/4 - 0s - loss: 8.9773e-04 - accuracy: 1.0000 - val_loss: 3.0879 - val_accuracy: 0.3750 - 15ms/epoch - 4ms/step\n",
      "Epoch 88/100\n",
      "4/4 - 0s - loss: 8.5460e-04 - accuracy: 1.0000 - val_loss: 3.1012 - val_accuracy: 0.3750 - 15ms/epoch - 4ms/step\n",
      "Epoch 89/100\n",
      "4/4 - 0s - loss: 8.1576e-04 - accuracy: 1.0000 - val_loss: 3.1144 - val_accuracy: 0.3750 - 15ms/epoch - 4ms/step\n",
      "Epoch 90/100\n",
      "4/4 - 0s - loss: 7.7592e-04 - accuracy: 1.0000 - val_loss: 3.1262 - val_accuracy: 0.3750 - 15ms/epoch - 4ms/step\n",
      "Epoch 91/100\n",
      "4/4 - 0s - loss: 7.4916e-04 - accuracy: 1.0000 - val_loss: 3.1446 - val_accuracy: 0.3750 - 16ms/epoch - 4ms/step\n",
      "Epoch 92/100\n",
      "4/4 - 0s - loss: 7.1563e-04 - accuracy: 1.0000 - val_loss: 3.1490 - val_accuracy: 0.3750 - 15ms/epoch - 4ms/step\n",
      "Epoch 93/100\n",
      "4/4 - 0s - loss: 6.8352e-04 - accuracy: 1.0000 - val_loss: 3.1680 - val_accuracy: 0.3750 - 15ms/epoch - 4ms/step\n",
      "Epoch 94/100\n",
      "4/4 - 0s - loss: 6.6054e-04 - accuracy: 1.0000 - val_loss: 3.1789 - val_accuracy: 0.3750 - 15ms/epoch - 4ms/step\n",
      "Epoch 95/100\n",
      "4/4 - 0s - loss: 6.2970e-04 - accuracy: 1.0000 - val_loss: 3.1847 - val_accuracy: 0.3750 - 17ms/epoch - 4ms/step\n",
      "Epoch 96/100\n",
      "4/4 - 0s - loss: 6.1056e-04 - accuracy: 1.0000 - val_loss: 3.1965 - val_accuracy: 0.3750 - 15ms/epoch - 4ms/step\n",
      "Epoch 97/100\n",
      "4/4 - 0s - loss: 5.8357e-04 - accuracy: 1.0000 - val_loss: 3.2113 - val_accuracy: 0.3750 - 16ms/epoch - 4ms/step\n",
      "Epoch 98/100\n",
      "4/4 - 0s - loss: 5.6299e-04 - accuracy: 1.0000 - val_loss: 3.2243 - val_accuracy: 0.3750 - 15ms/epoch - 4ms/step\n",
      "Epoch 99/100\n",
      "4/4 - 0s - loss: 5.4184e-04 - accuracy: 1.0000 - val_loss: 3.2304 - val_accuracy: 0.3750 - 18ms/epoch - 4ms/step\n",
      "Epoch 100/100\n",
      "4/4 - 0s - loss: 5.2813e-04 - accuracy: 1.0000 - val_loss: 3.2406 - val_accuracy: 0.3750 - 16ms/epoch - 4ms/step\n"
     ]
    }
   ],
   "source": [
    "history = model.fit(\n",
    "    training_padded,\n",
    "    training_labels,\n",
    "    epochs=model_config[\"num_epochs\"],\n",
    "    batch_size=model_config[\"batch_size\"],\n",
    "    validation_data=(testing_padded, testing_labels),\n",
    "    verbose=2,\n",
    ")"
   ]
  },
  {
   "cell_type": "code",
   "execution_count": 19,
   "metadata": {},
   "outputs": [
    {
     "data": {
      "image/png": "[encoded data removed]",
      "text/plain": [
       "<Figure size 640x480 with 1 Axes>"
      ]
     },
     "metadata": {},
     "output_type": "display_data"
    },
    {
     "data": {
      "image/png": "[encoded data removed]",
      "text/plain": [
       "<Figure size 640x480 with 1 Axes>"
      ]
     },
     "metadata": {},
     "output_type": "display_data"
    }
   ],
   "source": [
    "transformation.plot_graphs(history, \"accuracy\")\n",
    "transformation.plot_graphs(history, \"loss\")"
   ]
  },
  {
   "cell_type": "code",
   "execution_count": 20,
   "metadata": {},
   "outputs": [
    {
     "data": {
      "text/plain": [
       "['Serebral sulkus ve sisternalar atrofiye sekonder genişlemiştir. Ponsta iki adet laküner infarkt alanı izlenmektedir.',\n",
       " 'Periventriküler beyaz cevher doku yoğunlukları azalmıştır. Hemisferik kortikal sulkuslar ve serebellar folyolar atrofik görünümdedir.',\n",
       " 'Sağda bazal ganglionik düzeyde genişlemiş perivaskuler aralığa ait görünümün varlığı izlenmiştir (normalin varyasyonu). ']"
      ]
     },
     "execution_count": 20,
     "metadata": {},
     "output_type": "execute_result"
    }
   ],
   "source": [
    "production_sentences[:3]"
   ]
  },
  {
   "cell_type": "code",
   "execution_count": 21,
   "metadata": {},
   "outputs": [
    {
     "data": {
      "text/plain": [
       "13"
      ]
     },
     "execution_count": 21,
     "metadata": {},
     "output_type": "execute_result"
    }
   ],
   "source": [
    "len(production_sentences)"
   ]
  },
  {
   "cell_type": "code",
   "execution_count": 22,
   "metadata": {},
   "outputs": [],
   "source": [
    "# predict a sentence\n",
    "tokenizer.fit_on_texts(production_sentences)\n",
    "prediction_sequences = tokenizer.texts_to_sequences(production_sentences)\n",
    "prediction_padded = pad_sequences(\n",
    "    prediction_sequences,\n",
    "    maxlen=max_input_length,\n",
    "    padding=model_config[\"padding_type\"],\n",
    "    truncating=model_config[\"trunc_type\"],\n",
    ")\n",
    "prediction_padded = np.array(prediction_padded)"
   ]
  },
  {
   "cell_type": "code",
   "execution_count": 23,
   "metadata": {},
   "outputs": [
    {
     "name": "stdout",
     "output_type": "stream",
     "text": [
      "1/1 [==============================] - 0s 51ms/step\n"
     ]
    }
   ],
   "source": [
    "predictions = model.predict(prediction_padded)\n",
    "predictions = [np.argmax(prediction) for prediction in predictions]"
   ]
  },
  {
   "cell_type": "code",
   "execution_count": 24,
   "metadata": {},
   "outputs": [],
   "source": [
    "accuracy = transformation.calculate_matching_ratio(production_labels, predictions)"
   ]
  },
  {
   "cell_type": "code",
   "execution_count": 26,
   "metadata": {},
   "outputs": [
    {
     "name": "stderr",
     "output_type": "stream",
     "text": [
      "2023/08/19 11:38:35 WARNING mlflow.utils.environment: Encountered an unexpected error while inferring pip requirements (model URI: /var/folders/p7/2cvrhtmd5jbfn60b_h4pd4lw0000gn/T/tmp0e6bue91/model/model.pkl, flavor: sklearn), fall back to return ['scikit-learn==1.3.0', 'cloudpickle==2.2.1']. Set logging level to DEBUG to see the full traceback.\n",
      "2023/08/19 11:38:37 ERROR mlflow.server: Exception on /ajax-api/2.0/mlflow/artifacts/list [GET]\n",
      "Traceback (most recent call last):\n",
      "  File \"/Users/gokasci/Desktop/reports/.venv/lib/python3.11/site-packages/flask/app.py\", line 2190, in wsgi_app\n",
      "    response = self.full_dispatch_request()\n",
      "               ^^^^^^^^^^^^^^^^^^^^^^^^^^^^\n",
      "  File \"/Users/gokasci/Desktop/reports/.venv/lib/python3.11/site-packages/flask/app.py\", line 1486, in full_dispatch_request\n",
      "    rv = self.handle_user_exception(e)\n",
      "         ^^^^^^^^^^^^^^^^^^^^^^^^^^^^^\n",
      "  File \"/Users/gokasci/Desktop/reports/.venv/lib/python3.11/site-packages/flask/app.py\", line 1484, in full_dispatch_request\n",
      "    rv = self.dispatch_request()\n",
      "         ^^^^^^^^^^^^^^^^^^^^^^^\n",
      "  File \"/Users/gokasci/Desktop/reports/.venv/lib/python3.11/site-packages/flask/app.py\", line 1469, in dispatch_request\n",
      "    return self.ensure_sync(self.view_functions[rule.endpoint])(**view_args)\n",
      "           ^^^^^^^^^^^^^^^^^^^^^^^^^^^^^^^^^^^^^^^^^^^^^^^^^^^^^^^^^^^^^^^^^\n",
      "  File \"/Users/gokasci/Desktop/reports/.venv/lib/python3.11/site-packages/mlflow/server/handlers.py\", line 476, in wrapper\n",
      "    return func(*args, **kwargs)\n",
      "           ^^^^^^^^^^^^^^^^^^^^^\n",
      "  File \"/Users/gokasci/Desktop/reports/.venv/lib/python3.11/site-packages/mlflow/server/handlers.py\", line 517, in wrapper\n",
      "    return func(*args, **kwargs)\n",
      "           ^^^^^^^^^^^^^^^^^^^^^\n",
      "  File \"/Users/gokasci/Desktop/reports/.venv/lib/python3.11/site-packages/mlflow/server/handlers.py\", line 953, in _list_artifacts\n",
      "    artifact_entities = _get_artifact_repo(run).list_artifacts(path)\n",
      "                        ^^^^^^^^^^^^^^^^^^^^^^^^^^^^^^^^^^^^^^^^^^^^\n",
      "  File \"/Users/gokasci/Desktop/reports/.venv/lib/python3.11/site-packages/mlflow/store/artifact/s3_artifact_repo.py\", line 187, in list_artifacts\n",
      "    for result in results:\n",
      "  File \"/Users/gokasci/Desktop/reports/.venv/lib/python3.11/site-packages/botocore/paginate.py\", line 269, in __iter__\n",
      "    response = self._make_request(current_kwargs)\n",
      "               ^^^^^^^^^^^^^^^^^^^^^^^^^^^^^^^^^^\n",
      "  File \"/Users/gokasci/Desktop/reports/.venv/lib/python3.11/site-packages/botocore/paginate.py\", line 357, in _make_request\n",
      "    return self._method(**current_kwargs)\n",
      "           ^^^^^^^^^^^^^^^^^^^^^^^^^^^^^^\n",
      "  File \"/Users/gokasci/Desktop/reports/.venv/lib/python3.11/site-packages/botocore/client.py\", line 535, in _api_call\n",
      "    return self._make_api_call(operation_name, kwargs)\n",
      "           ^^^^^^^^^^^^^^^^^^^^^^^^^^^^^^^^^^^^^^^^^^^\n",
      "  File \"/Users/gokasci/Desktop/reports/.venv/lib/python3.11/site-packages/botocore/client.py\", line 980, in _make_api_call\n",
      "    raise error_class(parsed_response, operation_name)\n",
      "botocore.exceptions.ClientError: An error occurred (InvalidAccessKeyId) when calling the ListObjectsV2 operation: The AWS Access Key Id you provided does not exist in our records.\n"
     ]
    },
    {
     "ename": "S3UploadFailedError",
     "evalue": "Failed to upload /var/folders/p7/2cvrhtmd5jbfn60b_h4pd4lw0000gn/T/tmp0e6bue91/model/python_env.yaml to ml-experiment-reports/mlartifacts/09c373dc73164157ba0e0170e6469b4c/artifacts/python_env.yaml: An error occurred (InvalidAccessKeyId) when calling the PutObject operation: The AWS Access Key Id you provided does not exist in our records.",
     "output_type": "error",
     "traceback": [
      "\u001b[0;31m---------------------------------------------------------------------------\u001b[0m",
      "\u001b[0;31mClientError\u001b[0m                               Traceback (most recent call last)",
      "File \u001b[0;32m~/Desktop/reports/.venv/lib/python3.11/site-packages/boto3/s3/transfer.py:292\u001b[0m, in \u001b[0;36mS3Transfer.upload_file\u001b[0;34m(self, filename, bucket, key, callback, extra_args)\u001b[0m\n\u001b[1;32m    291\u001b[0m \u001b[39mtry\u001b[39;00m:\n\u001b[0;32m--> 292\u001b[0m     future\u001b[39m.\u001b[39;49mresult()\n\u001b[1;32m    293\u001b[0m \u001b[39m# If a client error was raised, add the backwards compatibility layer\u001b[39;00m\n\u001b[1;32m    294\u001b[0m \u001b[39m# that raises a S3UploadFailedError. These specific errors were only\u001b[39;00m\n\u001b[1;32m    295\u001b[0m \u001b[39m# ever thrown for upload_parts but now can be thrown for any related\u001b[39;00m\n\u001b[1;32m    296\u001b[0m \u001b[39m# client error.\u001b[39;00m\n",
      "File \u001b[0;32m~/Desktop/reports/.venv/lib/python3.11/site-packages/s3transfer/futures.py:103\u001b[0m, in \u001b[0;36mTransferFuture.result\u001b[0;34m(self)\u001b[0m\n\u001b[1;32m     99\u001b[0m \u001b[39mtry\u001b[39;00m:\n\u001b[1;32m    100\u001b[0m     \u001b[39m# Usually the result() method blocks until the transfer is done,\u001b[39;00m\n\u001b[1;32m    101\u001b[0m     \u001b[39m# however if a KeyboardInterrupt is raised we want want to exit\u001b[39;00m\n\u001b[1;32m    102\u001b[0m     \u001b[39m# out of this and propagate the exception.\u001b[39;00m\n\u001b[0;32m--> 103\u001b[0m     \u001b[39mreturn\u001b[39;00m \u001b[39mself\u001b[39;49m\u001b[39m.\u001b[39;49m_coordinator\u001b[39m.\u001b[39;49mresult()\n\u001b[1;32m    104\u001b[0m \u001b[39mexcept\u001b[39;00m \u001b[39mKeyboardInterrupt\u001b[39;00m \u001b[39mas\u001b[39;00m e:\n",
      "File \u001b[0;32m~/Desktop/reports/.venv/lib/python3.11/site-packages/s3transfer/futures.py:266\u001b[0m, in \u001b[0;36mTransferCoordinator.result\u001b[0;34m(self)\u001b[0m\n\u001b[1;32m    265\u001b[0m \u001b[39mif\u001b[39;00m \u001b[39mself\u001b[39m\u001b[39m.\u001b[39m_exception:\n\u001b[0;32m--> 266\u001b[0m     \u001b[39mraise\u001b[39;00m \u001b[39mself\u001b[39m\u001b[39m.\u001b[39m_exception\n\u001b[1;32m    267\u001b[0m \u001b[39mreturn\u001b[39;00m \u001b[39mself\u001b[39m\u001b[39m.\u001b[39m_result\n",
      "File \u001b[0;32m~/Desktop/reports/.venv/lib/python3.11/site-packages/s3transfer/tasks.py:139\u001b[0m, in \u001b[0;36mTask.__call__\u001b[0;34m(self)\u001b[0m\n\u001b[1;32m    138\u001b[0m     \u001b[39mif\u001b[39;00m \u001b[39mnot\u001b[39;00m \u001b[39mself\u001b[39m\u001b[39m.\u001b[39m_transfer_coordinator\u001b[39m.\u001b[39mdone():\n\u001b[0;32m--> 139\u001b[0m         \u001b[39mreturn\u001b[39;00m \u001b[39mself\u001b[39;49m\u001b[39m.\u001b[39;49m_execute_main(kwargs)\n\u001b[1;32m    140\u001b[0m \u001b[39mexcept\u001b[39;00m \u001b[39mException\u001b[39;00m \u001b[39mas\u001b[39;00m e:\n",
      "File \u001b[0;32m~/Desktop/reports/.venv/lib/python3.11/site-packages/s3transfer/tasks.py:162\u001b[0m, in \u001b[0;36mTask._execute_main\u001b[0;34m(self, kwargs)\u001b[0m\n\u001b[1;32m    160\u001b[0m logger\u001b[39m.\u001b[39mdebug(\u001b[39mf\u001b[39m\u001b[39m\"\u001b[39m\u001b[39mExecuting task \u001b[39m\u001b[39m{\u001b[39;00m\u001b[39mself\u001b[39m\u001b[39m}\u001b[39;00m\u001b[39m with kwargs \u001b[39m\u001b[39m{\u001b[39;00mkwargs_to_display\u001b[39m}\u001b[39;00m\u001b[39m\"\u001b[39m)\n\u001b[0;32m--> 162\u001b[0m return_value \u001b[39m=\u001b[39m \u001b[39mself\u001b[39;49m\u001b[39m.\u001b[39;49m_main(\u001b[39m*\u001b[39;49m\u001b[39m*\u001b[39;49mkwargs)\n\u001b[1;32m    163\u001b[0m \u001b[39m# If the task is the final task, then set the TransferFuture's\u001b[39;00m\n\u001b[1;32m    164\u001b[0m \u001b[39m# value to the return value from main().\u001b[39;00m\n",
      "File \u001b[0;32m~/Desktop/reports/.venv/lib/python3.11/site-packages/s3transfer/upload.py:758\u001b[0m, in \u001b[0;36mPutObjectTask._main\u001b[0;34m(self, client, fileobj, bucket, key, extra_args)\u001b[0m\n\u001b[1;32m    757\u001b[0m \u001b[39mwith\u001b[39;00m fileobj \u001b[39mas\u001b[39;00m body:\n\u001b[0;32m--> 758\u001b[0m     client\u001b[39m.\u001b[39;49mput_object(Bucket\u001b[39m=\u001b[39;49mbucket, Key\u001b[39m=\u001b[39;49mkey, Body\u001b[39m=\u001b[39;49mbody, \u001b[39m*\u001b[39;49m\u001b[39m*\u001b[39;49mextra_args)\n",
      "File \u001b[0;32m~/Desktop/reports/.venv/lib/python3.11/site-packages/botocore/client.py:535\u001b[0m, in \u001b[0;36mClientCreator._create_api_method.<locals>._api_call\u001b[0;34m(self, *args, **kwargs)\u001b[0m\n\u001b[1;32m    534\u001b[0m \u001b[39m# The \"self\" in this scope is referring to the BaseClient.\u001b[39;00m\n\u001b[0;32m--> 535\u001b[0m \u001b[39mreturn\u001b[39;00m \u001b[39mself\u001b[39;49m\u001b[39m.\u001b[39;49m_make_api_call(operation_name, kwargs)\n",
      "File \u001b[0;32m~/Desktop/reports/.venv/lib/python3.11/site-packages/botocore/client.py:980\u001b[0m, in \u001b[0;36mBaseClient._make_api_call\u001b[0;34m(self, operation_name, api_params)\u001b[0m\n\u001b[1;32m    979\u001b[0m     error_class \u001b[39m=\u001b[39m \u001b[39mself\u001b[39m\u001b[39m.\u001b[39mexceptions\u001b[39m.\u001b[39mfrom_code(error_code)\n\u001b[0;32m--> 980\u001b[0m     \u001b[39mraise\u001b[39;00m error_class(parsed_response, operation_name)\n\u001b[1;32m    981\u001b[0m \u001b[39melse\u001b[39;00m:\n",
      "\u001b[0;31mClientError\u001b[0m: An error occurred (InvalidAccessKeyId) when calling the PutObject operation: The AWS Access Key Id you provided does not exist in our records.",
      "\nDuring handling of the above exception, another exception occurred:\n",
      "\u001b[0;31mS3UploadFailedError\u001b[0m                       Traceback (most recent call last)",
      "Cell \u001b[0;32mIn[26], line 7\u001b[0m\n\u001b[1;32m      1\u001b[0m \u001b[39m# log a model run\u001b[39;00m\n\u001b[1;32m      2\u001b[0m log_dict \u001b[39m=\u001b[39m {\n\u001b[1;32m      3\u001b[0m     \u001b[39m\"\u001b[39m\u001b[39mparams\u001b[39m\u001b[39m\"\u001b[39m: model_config,\n\u001b[1;32m      4\u001b[0m     \u001b[39m\"\u001b[39m\u001b[39mmetrics\u001b[39m\u001b[39m\"\u001b[39m: {\u001b[39m\"\u001b[39m\u001b[39maccuracy\u001b[39m\u001b[39m\"\u001b[39m: accuracy},\n\u001b[1;32m      5\u001b[0m }\n\u001b[0;32m----> 7\u001b[0m run_id \u001b[39m=\u001b[39m mlflow\u001b[39m.\u001b[39;49mlog_mlflow(\n\u001b[1;32m      8\u001b[0m     model\u001b[39m=\u001b[39;49mmodel,\n\u001b[1;32m      9\u001b[0m     experiment_name\u001b[39m=\u001b[39;49m\u001b[39m\"\u001b[39;49m\u001b[39mNLP Experiments\u001b[39;49m\u001b[39m\"\u001b[39;49m,\n\u001b[1;32m     10\u001b[0m     run_name\u001b[39m=\u001b[39;49m\u001b[39mf\u001b[39;49m\u001b[39m\"\u001b[39;49m\u001b[39mRNN: first_run\u001b[39;49m\u001b[39m\"\u001b[39;49m,\n\u001b[1;32m     11\u001b[0m     log_dict\u001b[39m=\u001b[39;49mlog_dict,\n\u001b[1;32m     12\u001b[0m     registered_model_name\u001b[39m=\u001b[39;49m\u001b[39m\"\u001b[39;49m\u001b[39mrnn_experiments\u001b[39;49m\u001b[39m\"\u001b[39;49m,\n\u001b[1;32m     13\u001b[0m     tags\u001b[39m=\u001b[39;49m{\u001b[39m\"\u001b[39;49m\u001b[39mmodel\u001b[39;49m\u001b[39m\"\u001b[39;49m: \u001b[39m\"\u001b[39;49m\u001b[39mdeep_learning\u001b[39;49m\u001b[39m\"\u001b[39;49m},\n\u001b[1;32m     14\u001b[0m )\n",
      "File \u001b[0;32m~/Desktop/reports/src/experiment/api/mlflow.py:127\u001b[0m, in \u001b[0;36mMLFlow.log_mlflow\u001b[0;34m(self, model, experiment_name, run_name, log_dict, registered_model_name, user_id, tags, artifact_path)\u001b[0m\n\u001b[1;32m    124\u001b[0m     \u001b[39mfor\u001b[39;00m metric, value \u001b[39min\u001b[39;00m log_dict[\u001b[39m\"\u001b[39m\u001b[39mmetrics\u001b[39m\u001b[39m\"\u001b[39m]\u001b[39m.\u001b[39mitems():\n\u001b[1;32m    125\u001b[0m         mlflow\u001b[39m.\u001b[39mlog_metric(metric, value)\n\u001b[0;32m--> 127\u001b[0m     mlflow\u001b[39m.\u001b[39;49msklearn\u001b[39m.\u001b[39;49mlog_model(\n\u001b[1;32m    128\u001b[0m         sk_model\u001b[39m=\u001b[39;49mmodel,\n\u001b[1;32m    129\u001b[0m         artifact_path\u001b[39m=\u001b[39;49martifact_path,\n\u001b[1;32m    130\u001b[0m         registered_model_name\u001b[39m=\u001b[39;49mregistered_model_name,\n\u001b[1;32m    131\u001b[0m     )\n\u001b[1;32m    133\u001b[0m \u001b[39mreturn\u001b[39;00m run_id\n",
      "File \u001b[0;32m~/Desktop/reports/.venv/lib/python3.11/site-packages/mlflow/sklearn/__init__.py:408\u001b[0m, in \u001b[0;36mlog_model\u001b[0;34m(sk_model, artifact_path, conda_env, code_paths, serialization_format, registered_model_name, signature, input_example, await_registration_for, pip_requirements, extra_pip_requirements, pyfunc_predict_fn, metadata)\u001b[0m\n\u001b[1;32m    328\u001b[0m \u001b[39m@format_docstring\u001b[39m(LOG_MODEL_PARAM_DOCS\u001b[39m.\u001b[39mformat(package_name\u001b[39m=\u001b[39m\u001b[39m\"\u001b[39m\u001b[39mscikit-learn\u001b[39m\u001b[39m\"\u001b[39m))\n\u001b[1;32m    329\u001b[0m \u001b[39mdef\u001b[39;00m \u001b[39mlog_model\u001b[39m(\n\u001b[1;32m    330\u001b[0m     sk_model,\n\u001b[0;32m   (...)\u001b[0m\n\u001b[1;32m    342\u001b[0m     metadata\u001b[39m=\u001b[39m\u001b[39mNone\u001b[39;00m,\n\u001b[1;32m    343\u001b[0m ):\n\u001b[1;32m    344\u001b[0m \u001b[39m    \u001b[39m\u001b[39m\"\"\"\u001b[39;00m\n\u001b[1;32m    345\u001b[0m \u001b[39m    Log a scikit-learn model as an MLflow artifact for the current run. Produces an MLflow Model\u001b[39;00m\n\u001b[1;32m    346\u001b[0m \u001b[39m    containing the following flavors:\u001b[39;00m\n\u001b[0;32m   (...)\u001b[0m\n\u001b[1;32m    406\u001b[0m \n\u001b[1;32m    407\u001b[0m \u001b[39m    \"\"\"\u001b[39;00m\n\u001b[0;32m--> 408\u001b[0m     \u001b[39mreturn\u001b[39;00m Model\u001b[39m.\u001b[39;49mlog(\n\u001b[1;32m    409\u001b[0m         artifact_path\u001b[39m=\u001b[39;49martifact_path,\n\u001b[1;32m    410\u001b[0m         flavor\u001b[39m=\u001b[39;49mmlflow\u001b[39m.\u001b[39;49msklearn,\n\u001b[1;32m    411\u001b[0m         sk_model\u001b[39m=\u001b[39;49msk_model,\n\u001b[1;32m    412\u001b[0m         conda_env\u001b[39m=\u001b[39;49mconda_env,\n\u001b[1;32m    413\u001b[0m         code_paths\u001b[39m=\u001b[39;49mcode_paths,\n\u001b[1;32m    414\u001b[0m         serialization_format\u001b[39m=\u001b[39;49mserialization_format,\n\u001b[1;32m    415\u001b[0m         registered_model_name\u001b[39m=\u001b[39;49mregistered_model_name,\n\u001b[1;32m    416\u001b[0m         signature\u001b[39m=\u001b[39;49msignature,\n\u001b[1;32m    417\u001b[0m         input_example\u001b[39m=\u001b[39;49minput_example,\n\u001b[1;32m    418\u001b[0m         await_registration_for\u001b[39m=\u001b[39;49mawait_registration_for,\n\u001b[1;32m    419\u001b[0m         pip_requirements\u001b[39m=\u001b[39;49mpip_requirements,\n\u001b[1;32m    420\u001b[0m         extra_pip_requirements\u001b[39m=\u001b[39;49mextra_pip_requirements,\n\u001b[1;32m    421\u001b[0m         pyfunc_predict_fn\u001b[39m=\u001b[39;49mpyfunc_predict_fn,\n\u001b[1;32m    422\u001b[0m         metadata\u001b[39m=\u001b[39;49mmetadata,\n\u001b[1;32m    423\u001b[0m     )\n",
      "File \u001b[0;32m~/Desktop/reports/.venv/lib/python3.11/site-packages/mlflow/models/model.py:580\u001b[0m, in \u001b[0;36mModel.log\u001b[0;34m(cls, artifact_path, flavor, registered_model_name, await_registration_for, metadata, **kwargs)\u001b[0m\n\u001b[1;32m    578\u001b[0m     _logger\u001b[39m.\u001b[39mwarning(_LOG_MODEL_MISSING_SIGNATURE_WARNING)\n\u001b[1;32m    579\u001b[0m flavor\u001b[39m.\u001b[39msave_model(path\u001b[39m=\u001b[39mlocal_path, mlflow_model\u001b[39m=\u001b[39mmlflow_model, \u001b[39m*\u001b[39m\u001b[39m*\u001b[39mkwargs)\n\u001b[0;32m--> 580\u001b[0m mlflow\u001b[39m.\u001b[39;49mtracking\u001b[39m.\u001b[39;49mfluent\u001b[39m.\u001b[39;49mlog_artifacts(local_path, mlflow_model\u001b[39m.\u001b[39;49martifact_path)\n\u001b[1;32m    581\u001b[0m \u001b[39mtry\u001b[39;00m:\n\u001b[1;32m    582\u001b[0m     mlflow\u001b[39m.\u001b[39mtracking\u001b[39m.\u001b[39mfluent\u001b[39m.\u001b[39m_record_logged_model(mlflow_model)\n",
      "File \u001b[0;32m~/Desktop/reports/.venv/lib/python3.11/site-packages/mlflow/tracking/fluent.py:911\u001b[0m, in \u001b[0;36mlog_artifacts\u001b[0;34m(local_dir, artifact_path)\u001b[0m\n\u001b[1;32m    881\u001b[0m \u001b[39m\u001b[39m\u001b[39m\"\"\"\u001b[39;00m\n\u001b[1;32m    882\u001b[0m \u001b[39mLog all the contents of a local directory as artifacts of the run. If no run is active,\u001b[39;00m\n\u001b[1;32m    883\u001b[0m \u001b[39mthis method will create a new active run.\u001b[39;00m\n\u001b[0;32m   (...)\u001b[0m\n\u001b[1;32m    908\u001b[0m \u001b[39m        mlflow.log_artifacts(\"data\", artifact_path=\"states\")\u001b[39;00m\n\u001b[1;32m    909\u001b[0m \u001b[39m\"\"\"\u001b[39;00m\n\u001b[1;32m    910\u001b[0m run_id \u001b[39m=\u001b[39m _get_or_start_run()\u001b[39m.\u001b[39minfo\u001b[39m.\u001b[39mrun_id\n\u001b[0;32m--> 911\u001b[0m MlflowClient()\u001b[39m.\u001b[39;49mlog_artifacts(run_id, local_dir, artifact_path)\n",
      "File \u001b[0;32m~/Desktop/reports/.venv/lib/python3.11/site-packages/mlflow/tracking/client.py:1137\u001b[0m, in \u001b[0;36mMlflowClient.log_artifacts\u001b[0;34m(self, run_id, local_dir, artifact_path)\u001b[0m\n\u001b[1;32m   1093\u001b[0m \u001b[39mdef\u001b[39;00m \u001b[39mlog_artifacts\u001b[39m(\n\u001b[1;32m   1094\u001b[0m     \u001b[39mself\u001b[39m, run_id: \u001b[39mstr\u001b[39m, local_dir: \u001b[39mstr\u001b[39m, artifact_path: Optional[\u001b[39mstr\u001b[39m] \u001b[39m=\u001b[39m \u001b[39mNone\u001b[39;00m\n\u001b[1;32m   1095\u001b[0m ) \u001b[39m-\u001b[39m\u001b[39m>\u001b[39m \u001b[39mNone\u001b[39;00m:\n\u001b[1;32m   1096\u001b[0m \u001b[39m    \u001b[39m\u001b[39m\"\"\"\u001b[39;00m\n\u001b[1;32m   1097\u001b[0m \u001b[39m    Write a directory of files to the remote ``artifact_uri``.\u001b[39;00m\n\u001b[1;32m   1098\u001b[0m \n\u001b[0;32m   (...)\u001b[0m\n\u001b[1;32m   1135\u001b[0m \u001b[39m        is_dir: True\u001b[39;00m\n\u001b[1;32m   1136\u001b[0m \u001b[39m    \"\"\"\u001b[39;00m\n\u001b[0;32m-> 1137\u001b[0m     \u001b[39mself\u001b[39;49m\u001b[39m.\u001b[39;49m_tracking_client\u001b[39m.\u001b[39;49mlog_artifacts(run_id, local_dir, artifact_path)\n",
      "File \u001b[0;32m~/Desktop/reports/.venv/lib/python3.11/site-packages/mlflow/tracking/_tracking_service/client.py:465\u001b[0m, in \u001b[0;36mTrackingServiceClient.log_artifacts\u001b[0;34m(self, run_id, local_dir, artifact_path)\u001b[0m\n\u001b[1;32m    458\u001b[0m \u001b[39mdef\u001b[39;00m \u001b[39mlog_artifacts\u001b[39m(\u001b[39mself\u001b[39m, run_id, local_dir, artifact_path\u001b[39m=\u001b[39m\u001b[39mNone\u001b[39;00m):\n\u001b[1;32m    459\u001b[0m \u001b[39m    \u001b[39m\u001b[39m\"\"\"\u001b[39;00m\n\u001b[1;32m    460\u001b[0m \u001b[39m    Write a directory of files to the remote ``artifact_uri``.\u001b[39;00m\n\u001b[1;32m    461\u001b[0m \n\u001b[1;32m    462\u001b[0m \u001b[39m    :param local_dir: Path to the directory of files to write.\u001b[39;00m\n\u001b[1;32m    463\u001b[0m \u001b[39m    :param artifact_path: If provided, the directory in ``artifact_uri`` to write to.\u001b[39;00m\n\u001b[1;32m    464\u001b[0m \u001b[39m    \"\"\"\u001b[39;00m\n\u001b[0;32m--> 465\u001b[0m     \u001b[39mself\u001b[39;49m\u001b[39m.\u001b[39;49m_get_artifact_repo(run_id)\u001b[39m.\u001b[39;49mlog_artifacts(local_dir, artifact_path)\n",
      "File \u001b[0;32m~/Desktop/reports/.venv/lib/python3.11/site-packages/mlflow/store/artifact/s3_artifact_repo.py:170\u001b[0m, in \u001b[0;36mS3ArtifactRepository.log_artifacts\u001b[0;34m(self, local_dir, artifact_path)\u001b[0m\n\u001b[1;32m    168\u001b[0m     upload_path \u001b[39m=\u001b[39m posixpath\u001b[39m.\u001b[39mjoin(dest_path, rel_path)\n\u001b[1;32m    169\u001b[0m \u001b[39mfor\u001b[39;00m f \u001b[39min\u001b[39;00m filenames:\n\u001b[0;32m--> 170\u001b[0m     \u001b[39mself\u001b[39;49m\u001b[39m.\u001b[39;49m_upload_file(\n\u001b[1;32m    171\u001b[0m         s3_client\u001b[39m=\u001b[39;49ms3_client,\n\u001b[1;32m    172\u001b[0m         local_file\u001b[39m=\u001b[39;49mos\u001b[39m.\u001b[39;49mpath\u001b[39m.\u001b[39;49mjoin(root, f),\n\u001b[1;32m    173\u001b[0m         bucket\u001b[39m=\u001b[39;49mbucket,\n\u001b[1;32m    174\u001b[0m         key\u001b[39m=\u001b[39;49mposixpath\u001b[39m.\u001b[39;49mjoin(upload_path, f),\n\u001b[1;32m    175\u001b[0m     )\n",
      "File \u001b[0;32m~/Desktop/reports/.venv/lib/python3.11/site-packages/mlflow/store/artifact/s3_artifact_repo.py:146\u001b[0m, in \u001b[0;36mS3ArtifactRepository._upload_file\u001b[0;34m(self, s3_client, local_file, bucket, key)\u001b[0m\n\u001b[1;32m    144\u001b[0m \u001b[39mif\u001b[39;00m environ_extra_args \u001b[39mis\u001b[39;00m \u001b[39mnot\u001b[39;00m \u001b[39mNone\u001b[39;00m:\n\u001b[1;32m    145\u001b[0m     extra_args\u001b[39m.\u001b[39mupdate(environ_extra_args)\n\u001b[0;32m--> 146\u001b[0m s3_client\u001b[39m.\u001b[39;49mupload_file(Filename\u001b[39m=\u001b[39;49mlocal_file, Bucket\u001b[39m=\u001b[39;49mbucket, Key\u001b[39m=\u001b[39;49mkey, ExtraArgs\u001b[39m=\u001b[39;49mextra_args)\n",
      "File \u001b[0;32m~/Desktop/reports/.venv/lib/python3.11/site-packages/boto3/s3/inject.py:143\u001b[0m, in \u001b[0;36mupload_file\u001b[0;34m(self, Filename, Bucket, Key, ExtraArgs, Callback, Config)\u001b[0m\n\u001b[1;32m    108\u001b[0m \u001b[39m\u001b[39m\u001b[39m\"\"\"Upload a file to an S3 object.\u001b[39;00m\n\u001b[1;32m    109\u001b[0m \n\u001b[1;32m    110\u001b[0m \u001b[39mUsage::\u001b[39;00m\n\u001b[0;32m   (...)\u001b[0m\n\u001b[1;32m    140\u001b[0m \u001b[39m    transfer.\u001b[39;00m\n\u001b[1;32m    141\u001b[0m \u001b[39m\"\"\"\u001b[39;00m\n\u001b[1;32m    142\u001b[0m \u001b[39mwith\u001b[39;00m S3Transfer(\u001b[39mself\u001b[39m, Config) \u001b[39mas\u001b[39;00m transfer:\n\u001b[0;32m--> 143\u001b[0m     \u001b[39mreturn\u001b[39;00m transfer\u001b[39m.\u001b[39;49mupload_file(\n\u001b[1;32m    144\u001b[0m         filename\u001b[39m=\u001b[39;49mFilename,\n\u001b[1;32m    145\u001b[0m         bucket\u001b[39m=\u001b[39;49mBucket,\n\u001b[1;32m    146\u001b[0m         key\u001b[39m=\u001b[39;49mKey,\n\u001b[1;32m    147\u001b[0m         extra_args\u001b[39m=\u001b[39;49mExtraArgs,\n\u001b[1;32m    148\u001b[0m         callback\u001b[39m=\u001b[39;49mCallback,\n\u001b[1;32m    149\u001b[0m     )\n",
      "File \u001b[0;32m~/Desktop/reports/.venv/lib/python3.11/site-packages/boto3/s3/transfer.py:298\u001b[0m, in \u001b[0;36mS3Transfer.upload_file\u001b[0;34m(self, filename, bucket, key, callback, extra_args)\u001b[0m\n\u001b[1;32m    293\u001b[0m \u001b[39m# If a client error was raised, add the backwards compatibility layer\u001b[39;00m\n\u001b[1;32m    294\u001b[0m \u001b[39m# that raises a S3UploadFailedError. These specific errors were only\u001b[39;00m\n\u001b[1;32m    295\u001b[0m \u001b[39m# ever thrown for upload_parts but now can be thrown for any related\u001b[39;00m\n\u001b[1;32m    296\u001b[0m \u001b[39m# client error.\u001b[39;00m\n\u001b[1;32m    297\u001b[0m \u001b[39mexcept\u001b[39;00m ClientError \u001b[39mas\u001b[39;00m e:\n\u001b[0;32m--> 298\u001b[0m     \u001b[39mraise\u001b[39;00m S3UploadFailedError(\n\u001b[1;32m    299\u001b[0m         \u001b[39m\"\u001b[39m\u001b[39mFailed to upload \u001b[39m\u001b[39m{}\u001b[39;00m\u001b[39m to \u001b[39m\u001b[39m{}\u001b[39;00m\u001b[39m: \u001b[39m\u001b[39m{}\u001b[39;00m\u001b[39m\"\u001b[39m\u001b[39m.\u001b[39mformat(\n\u001b[1;32m    300\u001b[0m             filename, \u001b[39m'\u001b[39m\u001b[39m/\u001b[39m\u001b[39m'\u001b[39m\u001b[39m.\u001b[39mjoin([bucket, key]), e\n\u001b[1;32m    301\u001b[0m         )\n\u001b[1;32m    302\u001b[0m     )\n",
      "\u001b[0;31mS3UploadFailedError\u001b[0m: Failed to upload /var/folders/p7/2cvrhtmd5jbfn60b_h4pd4lw0000gn/T/tmp0e6bue91/model/python_env.yaml to ml-experiment-reports/mlartifacts/09c373dc73164157ba0e0170e6469b4c/artifacts/python_env.yaml: An error occurred (InvalidAccessKeyId) when calling the PutObject operation: The AWS Access Key Id you provided does not exist in our records."
     ]
    }
   ],
   "source": [
    "# log a model run\n",
    "log_dict = {\n",
    "    \"params\": model_config,\n",
    "    \"metrics\": {\"accuracy\": accuracy},\n",
    "}\n",
    "\n",
    "run_id = mlflow.log_mlflow(\n",
    "    model=model,\n",
    "    experiment_name=\"NLP Experiments\",\n",
    "    run_name=f\"RNN: first_run\",\n",
    "    log_dict=log_dict,\n",
    "    registered_model_name=\"rnn_experiments\",\n",
    "    tags={\"model\": \"deep_learning\"},\n",
    ")"
   ]
  }
 ],
 "metadata": {
  "kernelspec": {
   "display_name": ".venv",
   "language": "python",
   "name": "python3"
  },
  "language_info": {
   "codemirror_mode": {
    "name": "ipython",
    "version": 3
   },
   "file_extension": ".py",
   "mimetype": "text/x-python",
   "name": "python",
   "nbconvert_exporter": "python",
   "pygments_lexer": "ipython3",
   "version": "3.11.4"
  },
  "orig_nbformat": 4
 },
 "nbformat": 4,
 "nbformat_minor": 2
}
