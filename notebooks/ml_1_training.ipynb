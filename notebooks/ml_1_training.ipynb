{
 "cells": [
  {
   "cell_type": "code",
   "execution_count": 27,
   "metadata": {},
   "outputs": [],
   "source": [
    "from experiment.api import mlflow as mlflow_api\n",
    "import tensorflow as tf\n",
    "import simplemma\n",
    "from experiment import transformation\n",
    "import pandas as pd\n",
    "import pathlib\n",
    "import json\n",
    "import numpy as np\n",
    "from collections import Counter\n",
    "\n",
    "\n",
    "from tensorflow.keras.preprocessing.text import Tokenizer\n",
    "from tensorflow.keras.preprocessing.sequence import pad_sequences"
   ]
  },
  {
   "cell_type": "code",
   "execution_count": 28,
   "metadata": {},
   "outputs": [
    {
     "name": "stderr",
     "output_type": "stream",
     "text": [
      "kill: usage: kill [-s sigspec | -n signum | -sigspec] pid | jobspec ... or kill -l [sigspec]\n"
     ]
    }
   ],
   "source": [
    "mlflow = mlflow_api.MLFlow()\n",
    "mlflow.clean()"
   ]
  },
  {
   "cell_type": "code",
   "execution_count": 29,
   "metadata": {},
   "outputs": [],
   "source": [
    "# run the tracking server in background\n",
    "mlflow.run_server()"
   ]
  },
  {
   "cell_type": "code",
   "execution_count": 30,
   "metadata": {},
   "outputs": [],
   "source": [
    "working_dir = pathlib.Path.cwd()\n",
    "\n",
    "model_config = {\n",
    "    \"test_and_train_studies\": 40,\n",
    "    \"vocab_size\": 10000,\n",
    "    \"embedding_dim\": 16,\n",
    "    \"max_input_length\": 25,  # default\n",
    "    \"trunc_type\": \"post\",\n",
    "    \"padding_type\": \"post\",\n",
    "    \"oov_token\": None,  # \"<OOV>\"\n",
    "    \"training_percent\": 80,\n",
    "    \"num_epochs\": 100,\n",
    "    \"batch_size\": 8,\n",
    "}"
   ]
  },
  {
   "cell_type": "code",
   "execution_count": 31,
   "metadata": {},
   "outputs": [],
   "source": [
    "clean_annotations = pd.read_csv(\n",
    "    working_dir.parent / \"data\" / \"output\" / \"clean_annotations.csv\"\n",
    ")\n",
    "\n",
    "sentences = clean_annotations[\"relevant_text\"].to_list()[\n",
    "    : model_config[\"test_and_train_studies\"]\n",
    "]\n",
    "production_sentences = clean_annotations[\"relevant_text\"].to_list()[\n",
    "    model_config[\"test_and_train_studies\"] :\n",
    "]\n",
    "\n",
    "# 1. Emergency\n",
    "# 2. Normal\n",
    "# 3. Non Emergency [Doctor]\n",
    "# 4. Non Emergency [No Doctor]\n",
    "clean_labels = clean_annotations[\"classifications\"].to_list()[\n",
    "    : model_config[\"test_and_train_studies\"]\n",
    "]\n",
    "production_labels = clean_annotations[\"classifications\"].to_list()[\n",
    "    model_config[\"test_and_train_studies\"] :\n",
    "]"
   ]
  },
  {
   "cell_type": "code",
   "execution_count": 32,
   "metadata": {},
   "outputs": [
    {
     "name": "stdout",
     "output_type": "stream",
     "text": [
      "Item 1 occurs 15 times in the list.\n",
      "Item 3 occurs 24 times in the list.\n",
      "Item 0 occurs 6 times in the list.\n",
      "Item 2 occurs 8 times in the list.\n"
     ]
    }
   ],
   "source": [
    "item_counts = Counter(clean_annotations[\"classifications\"].to_list())\n",
    "\n",
    "# 1. Emergency\n",
    "# 2. Normal\n",
    "# 3. Non Emergency [Doctor]\n",
    "# 4. Non Emergency [No Doctor]\n",
    "for item, count in item_counts.items():\n",
    "    print(f\"Item {item} occurs {count} times in the list.\")"
   ]
  },
  {
   "cell_type": "code",
   "execution_count": 33,
   "metadata": {},
   "outputs": [
    {
     "data": {
      "text/plain": [
       "['Kontrastsız Beyin BT Kafa kaidesi ve kalvarial kemik yapılar normal sınırlardadır. 4.ventrikül ve bazal sisternalar normal genişliktedir. Posterior fossa oluşumları olağandır. İntrakranial hipo veya hiperdens sınırlanabilen patoloji saptanmadı. 3.ventrikül orta hatta ve normal genişliktedir. Lateral ventriküller olağandır. Beyin orta hat yapılarında yer değiştirme saptanmamıştır. Serebral sulkuslar olağandır. Nazal septum sola deviye görünümdedir ve BTye yansıyan tipik bir akut iskemi bulgusu mevcut değildir.  Ancak bu konuda klinik kuşku varsa olgunun diffüzyon MRG ile değerlendirilmesi ve detaylandırılması daha yararlı olacaktır. ',\n",
       " 'Sol serebellar hemisferde sekel ??? ensefalomalazi sahaları ve eski iskemi sekeli değişiklikler izlenmektedir. Sağ serebellar hemisfer düzeyinde de benzer bulgular izlenmekle birlikte her iki serebellumda atrofi bulguları ve folyolarda belirginleşme mevcuttur. Supratentorial kesitlerin değerlendirilmesinde 3. ve lateral ventrikul, konveksite sulkusları atrofiye sekonder belirginleşmiştir. Sağda posterior serebral arter sulama sahasında kronik iskemik sekel gliozis sahalarının varlığı mevcuttur. Periventrikuler lökoriazis alanları izlenmektedir. ',\n",
       " ' Periventriküler derin beyaz cevherde kronik iskemik gliozise bağlı dansite kaybı izlenmektedir. Bazal sisterna ve serebral konvekste sulkuslarının genişliği atrofi ile uyumlu artmıştır. Sağ oksipital lobda kronik infarkt sekeli ensefalomalazi- gliozis ile uyumlu hipodens alan mevcuttur. Sağ kapsüle interna ön bölümünde de kronik infarkta ait hipodens alan izlenmiştir. Her iki lateral ventrikül genişliği atrofi zemininde hafif artmış görünümdedir. ',\n",
       " 'Sağda orbita tavanınd frontal sinüs tabanında çökme gösteren fraktür hatları izlenmiştir. Sağ orbita medial duvarında da fraktür hatları izlenmektedir. Sağ orbita tabanında maksiller sinüs üst duvarında yine çökme gösteren fraktür hattı mevcut olup orbital yağ dokunun bu düzeyden maksiller sinüse doğru uzanımı saptanmıştır. Sağ maksiller sinüs içerisinde kanama ile uyumlu yüksek dansiteli görünümlerde izlenmiştir. ',\n",
       " 'Sağ orbita üst duvarında fraktüre ait görünüm izlenmekte olup medial kesimde frontal sinüs duvarına uzanmaktadır,fraktüre komşu dural planlarda milimetrik hava değerleri mevcuttur.Sağ frontal sinüs inferior kesiminde anterior duvarda da fraktür hattı izlenmiştir.Sağ frontal bölgede ve periorbital alanda cilt altı yumuşak dokuda ödem- hematom ile uyumlu dansite ve kalınlık artışı ile hava değerleri mevcuttur. ']"
      ]
     },
     "execution_count": 33,
     "metadata": {},
     "output_type": "execute_result"
    }
   ],
   "source": [
    "sentences[:5]"
   ]
  },
  {
   "cell_type": "code",
   "execution_count": 34,
   "metadata": {},
   "outputs": [
    {
     "name": "stderr",
     "output_type": "stream",
     "text": [
      "[nltk_data] Downloading package stopwords to\n",
      "[nltk_data]     /Users/gokasci/nltk_data...\n",
      "[nltk_data]   Package stopwords is already up-to-date!\n"
     ]
    }
   ],
   "source": [
    "clean_sentences = transformation.sentence_cleaning_pipeline(sentences)\n",
    "max_input_length = transformation.find_longest_sentence_length(clean_sentences)"
   ]
  },
  {
   "cell_type": "code",
   "execution_count": 35,
   "metadata": {},
   "outputs": [
    {
     "name": "stdout",
     "output_type": "stream",
     "text": [
      "clean sentences: 40\n",
      "production sentences: 13\n"
     ]
    },
    {
     "data": {
      "text/plain": [
       "['kontrast beyin bt kafa kaide kalvarial kemik yapı normal sınır 4 ventrikül bazal sisternalar normal genişlik posterior fossa oluşum olağan i̇ntrakranial hipo hiperdens sınırlanabilen patoloji 3 ventrikül orta hatta normal genişlik lateral ventrikül olağan beyin orta hat yapı yer değiş sapta serebral sulkus olağan nazal septum sol deviye görünüm btye yansı tipik bir akut iskemi bulgu mevcut değil ancak konu klinik kuşku var olgu diffüzyon mrg değer detaylandırılması yarar ol',\n",
       " 'sol serebellar hemisfer sekel ensefalomalazi saha eski iskemi sekel değişik izle sağ serebellar hemisfer düzey benzer bulgu izle birlikte iki serebellumda atrofi bulgu folyo belirgin mevcut supratentorial kesit değerlendirilmesin 3 lateral ventrikul konveksite sulkus atrofiye sekonder belirgin sağ posterior serebral arter sula saha kronik iskemik sekel gliozis saha varlık mevcut periventrikuler lökoriazis alan izle',\n",
       " 'periventriküler derin beyaz cevher kronik iskemik gliozise bağ dansite kayıp izle bazal sisterna serebral konveks sulkuslar genişlik atrofi uyum art sağ oksipital lobda kronik infarkt sekel ensefalomalazi gliozis uyum hipodens alan mevcut sağ kapsül interna ön bölüm kronik infarkta ait hipodens alan izle her iki lateral ventrikül genişlik atrofi zemin hafif art görünüm',\n",
       " 'sağ orbita tavan frontal sinüs taban çök göster fraktür hat izle sağ orbita medial duvar fraktür hat izle sağ orbita taban maksiller sinüs üst duvar yine çök göster fraktür hat mevcut ol orbital yağ doku düzey maksiller sinüs doğru uzanım sapta sağ maksiller sinüs içeri kana uyum yüksek dansite görünüm izle',\n",
       " 'sağ orbita üst duvar fraktüre ait görünüm izle ol medial kesim frontal sinüs duvar uza fraktüre komşu dural plan milimetrik hava değer mevcut sağ frontal sinüs inferior kesim anterior duvar fraktür hat izle sağ frontal bölge periorbital alan cilt altı yumuşak doku ödem hematom uyum dansite kalınlık art hava değer mevcut']"
      ]
     },
     "execution_count": 35,
     "metadata": {},
     "output_type": "execute_result"
    }
   ],
   "source": [
    "# sentence count\n",
    "print(f\"clean sentences: {len(clean_sentences)}\")\n",
    "print(f\"production sentences: {len(production_sentences)}\")\n",
    "# show clean sentences\n",
    "clean_sentences[:5]"
   ]
  },
  {
   "cell_type": "code",
   "execution_count": 36,
   "metadata": {},
   "outputs": [
    {
     "data": {
      "text/plain": [
       "[1, 3, 3, 0, 0]"
      ]
     },
     "execution_count": 36,
     "metadata": {},
     "output_type": "execute_result"
    }
   ],
   "source": [
    "clean_labels[:5]"
   ]
  },
  {
   "cell_type": "code",
   "execution_count": 37,
   "metadata": {},
   "outputs": [],
   "source": [
    "# save json files\n",
    "with open(\n",
    "    working_dir.parent / \"data\" / \"output\" / \"lemma_correction.json\",\n",
    "    \"w\",\n",
    "    encoding=\"utf-8\",\n",
    ") as json_file:\n",
    "    data = {\n",
    "        str(index): {\"no_lemma\": sentence, \"lemma\": clean_sentence}\n",
    "        for index, (sentence, clean_sentence) in enumerate(\n",
    "            zip(sentences, clean_sentences)\n",
    "        )\n",
    "    }\n",
    "    json_file.write(json.dumps(data, indent=4, ensure_ascii=False))"
   ]
  },
  {
   "cell_type": "code",
   "execution_count": 38,
   "metadata": {},
   "outputs": [],
   "source": [
    "# manuall test the word lemmatizer\n",
    "# word = \"hemisferde\"\n",
    "# simplemma.lemmatize(word, lang=\"tr\").lower()"
   ]
  },
  {
   "cell_type": "code",
   "execution_count": 39,
   "metadata": {},
   "outputs": [],
   "source": [
    "training_size = int(len(clean_sentences) * model_config[\"training_percent\"] / 100)\n",
    "training_sentences = clean_sentences[0:training_size]\n",
    "testing_sentences = clean_sentences[training_size:]\n",
    "training_labels = clean_labels[0:training_size]\n",
    "testing_labels = clean_labels[training_size:]"
   ]
  },
  {
   "cell_type": "code",
   "execution_count": 40,
   "metadata": {},
   "outputs": [],
   "source": [
    "tokenizer = Tokenizer(\n",
    "    num_words=model_config[\"vocab_size\"], oov_token=model_config[\"oov_token\"]\n",
    ")\n",
    "tokenizer.fit_on_texts(training_sentences)\n",
    "\n",
    "training_sequences = tokenizer.texts_to_sequences(training_sentences)\n",
    "training_padded = pad_sequences(\n",
    "    training_sequences,\n",
    "    maxlen=max_input_length,\n",
    "    padding=model_config[\"padding_type\"],\n",
    "    truncating=model_config[\"trunc_type\"],\n",
    ")\n",
    "testing_sequences = tokenizer.texts_to_sequences(testing_sentences)\n",
    "testing_padded = pad_sequences(\n",
    "    testing_sequences,\n",
    "    maxlen=max_input_length,\n",
    "    padding=model_config[\"padding_type\"],\n",
    "    truncating=model_config[\"trunc_type\"],\n",
    ")\n",
    "\n",
    "training_padded = np.array(training_padded)\n",
    "training_labels = np.array(training_labels)\n",
    "testing_padded = np.array(testing_padded)\n",
    "testing_labels = np.array(testing_labels)"
   ]
  },
  {
   "cell_type": "code",
   "execution_count": 41,
   "metadata": {},
   "outputs": [
    {
     "data": {
      "text/plain": [
       "array([[147,  18,  67, ..., 161, 162,   9],\n",
       "       [ 47,  44,  58, ...,   0,   0,   0],\n",
       "       [ 49,  88,  53, ...,   0,   0,   0],\n",
       "       ...,\n",
       "       [ 80,  81,  82, ...,   0,   0,   0],\n",
       "       [ 80,  81,  82, ...,   0,   0,   0],\n",
       "       [ 61,   5,  71, ...,   0,   0,   0]], dtype=int32)"
      ]
     },
     "execution_count": 41,
     "metadata": {},
     "output_type": "execute_result"
    }
   ],
   "source": [
    "training_padded"
   ]
  },
  {
   "cell_type": "code",
   "execution_count": 42,
   "metadata": {},
   "outputs": [],
   "source": [
    "model = tf.keras.Sequential(\n",
    "    [\n",
    "        tf.keras.layers.Embedding(\n",
    "            model_config[\"vocab_size\"],\n",
    "            model_config[\"embedding_dim\"],\n",
    "            input_length=max_input_length,\n",
    "        ),\n",
    "        tf.keras.layers.GlobalAveragePooling1D(),\n",
    "        tf.keras.layers.Dense(64, activation=\"relu\"),\n",
    "        tf.keras.layers.Dense(64, activation=\"relu\"),\n",
    "        tf.keras.layers.Dense(64, activation=\"relu\"),\n",
    "        tf.keras.layers.Dense(32, activation=\"relu\"),\n",
    "        tf.keras.layers.Dense(4, activation=\"softmax\"),\n",
    "    ]\n",
    ")\n",
    "model.compile(\n",
    "    loss=\"sparse_categorical_crossentropy\", optimizer=\"adam\", metrics=[\"accuracy\"]\n",
    ")"
   ]
  },
  {
   "cell_type": "code",
   "execution_count": 43,
   "metadata": {},
   "outputs": [
    {
     "name": "stdout",
     "output_type": "stream",
     "text": [
      "Model: \"sequential_1\"\n",
      "_________________________________________________________________\n",
      " Layer (type)                Output Shape              Param #   \n",
      "=================================================================\n",
      " embedding_1 (Embedding)     (None, 70, 16)            160000    \n",
      "                                                                 \n",
      " global_average_pooling1d_1  (None, 16)                0         \n",
      "  (GlobalAveragePooling1D)                                       \n",
      "                                                                 \n",
      " dense_5 (Dense)             (None, 64)                1088      \n",
      "                                                                 \n",
      " dense_6 (Dense)             (None, 64)                4160      \n",
      "                                                                 \n",
      " dense_7 (Dense)             (None, 64)                4160      \n",
      "                                                                 \n",
      " dense_8 (Dense)             (None, 32)                2080      \n",
      "                                                                 \n",
      " dense_9 (Dense)             (None, 4)                 132       \n",
      "                                                                 \n",
      "=================================================================\n",
      "Total params: 171620 (670.39 KB)\n",
      "Trainable params: 171620 (670.39 KB)\n",
      "Non-trainable params: 0 (0.00 Byte)\n",
      "_________________________________________________________________\n"
     ]
    }
   ],
   "source": [
    "model.summary()"
   ]
  },
  {
   "cell_type": "code",
   "execution_count": 44,
   "metadata": {},
   "outputs": [
    {
     "name": "stdout",
     "output_type": "stream",
     "text": [
      "Epoch 1/100\n"
     ]
    },
    {
     "name": "stdout",
     "output_type": "stream",
     "text": [
      "4/4 - 0s - loss: 1.3806 - accuracy: 0.4688 - val_loss: 1.3899 - val_accuracy: 0.0000e+00 - 268ms/epoch - 67ms/step\n",
      "Epoch 2/100\n",
      "4/4 - 0s - loss: 1.3660 - accuracy: 0.4688 - val_loss: 1.3912 - val_accuracy: 0.0000e+00 - 17ms/epoch - 4ms/step\n",
      "Epoch 3/100\n",
      "4/4 - 0s - loss: 1.3446 - accuracy: 0.4688 - val_loss: 1.3904 - val_accuracy: 0.0000e+00 - 16ms/epoch - 4ms/step\n",
      "Epoch 4/100\n",
      "4/4 - 0s - loss: 1.3220 - accuracy: 0.4688 - val_loss: 1.3933 - val_accuracy: 0.0000e+00 - 15ms/epoch - 4ms/step\n",
      "Epoch 5/100\n",
      "4/4 - 0s - loss: 1.2901 - accuracy: 0.4688 - val_loss: 1.3973 - val_accuracy: 0.1250 - 16ms/epoch - 4ms/step\n",
      "Epoch 6/100\n",
      "4/4 - 0s - loss: 1.2568 - accuracy: 0.4688 - val_loss: 1.4068 - val_accuracy: 0.5000 - 16ms/epoch - 4ms/step\n",
      "Epoch 7/100\n",
      "4/4 - 0s - loss: 1.2158 - accuracy: 0.6875 - val_loss: 1.4206 - val_accuracy: 0.5000 - 15ms/epoch - 4ms/step\n",
      "Epoch 8/100\n",
      "4/4 - 0s - loss: 1.1733 - accuracy: 0.7500 - val_loss: 1.4554 - val_accuracy: 0.5000 - 15ms/epoch - 4ms/step\n",
      "Epoch 9/100\n",
      "4/4 - 0s - loss: 1.1105 - accuracy: 0.7500 - val_loss: 1.4926 - val_accuracy: 0.5000 - 15ms/epoch - 4ms/step\n",
      "Epoch 10/100\n",
      "4/4 - 0s - loss: 1.0585 - accuracy: 0.7812 - val_loss: 1.5455 - val_accuracy: 0.5000 - 71ms/epoch - 18ms/step\n",
      "Epoch 11/100\n",
      "4/4 - 0s - loss: 1.0102 - accuracy: 0.7812 - val_loss: 1.6192 - val_accuracy: 0.5000 - 30ms/epoch - 8ms/step\n",
      "Epoch 12/100\n",
      "4/4 - 0s - loss: 0.9400 - accuracy: 0.8438 - val_loss: 1.6358 - val_accuracy: 0.5000 - 21ms/epoch - 5ms/step\n",
      "Epoch 13/100\n",
      "4/4 - 0s - loss: 0.8794 - accuracy: 0.8438 - val_loss: 1.6369 - val_accuracy: 0.5000 - 17ms/epoch - 4ms/step\n",
      "Epoch 14/100\n",
      "4/4 - 0s - loss: 0.8032 - accuracy: 0.8438 - val_loss: 1.5735 - val_accuracy: 0.5000 - 20ms/epoch - 5ms/step\n",
      "Epoch 15/100\n",
      "4/4 - 0s - loss: 0.7182 - accuracy: 0.8438 - val_loss: 1.5153 - val_accuracy: 0.5000 - 23ms/epoch - 6ms/step\n",
      "Epoch 16/100\n",
      "4/4 - 0s - loss: 0.6448 - accuracy: 0.8438 - val_loss: 1.4699 - val_accuracy: 0.5000 - 21ms/epoch - 5ms/step\n",
      "Epoch 17/100\n",
      "4/4 - 0s - loss: 0.5805 - accuracy: 0.8438 - val_loss: 1.3952 - val_accuracy: 0.5000 - 21ms/epoch - 5ms/step\n",
      "Epoch 18/100\n",
      "4/4 - 0s - loss: 0.5254 - accuracy: 0.8438 - val_loss: 1.3425 - val_accuracy: 0.5000 - 19ms/epoch - 5ms/step\n",
      "Epoch 19/100\n",
      "4/4 - 0s - loss: 0.4804 - accuracy: 0.8438 - val_loss: 1.3168 - val_accuracy: 0.5000 - 16ms/epoch - 4ms/step\n",
      "Epoch 20/100\n",
      "4/4 - 0s - loss: 0.4459 - accuracy: 0.8438 - val_loss: 1.2863 - val_accuracy: 0.5000 - 16ms/epoch - 4ms/step\n",
      "Epoch 21/100\n",
      "4/4 - 0s - loss: 0.4160 - accuracy: 0.8438 - val_loss: 1.2405 - val_accuracy: 0.5000 - 16ms/epoch - 4ms/step\n",
      "Epoch 22/100\n",
      "4/4 - 0s - loss: 0.3930 - accuracy: 0.8438 - val_loss: 1.2166 - val_accuracy: 0.5000 - 16ms/epoch - 4ms/step\n",
      "Epoch 23/100\n",
      "4/4 - 0s - loss: 0.3748 - accuracy: 0.8438 - val_loss: 1.2446 - val_accuracy: 0.5000 - 35ms/epoch - 9ms/step\n",
      "Epoch 24/100\n",
      "4/4 - 0s - loss: 0.3562 - accuracy: 0.8438 - val_loss: 1.2009 - val_accuracy: 0.5000 - 84ms/epoch - 21ms/step\n",
      "Epoch 25/100\n",
      "4/4 - 0s - loss: 0.3322 - accuracy: 0.8438 - val_loss: 1.1752 - val_accuracy: 0.5000 - 27ms/epoch - 7ms/step\n",
      "Epoch 26/100\n",
      "4/4 - 0s - loss: 0.3142 - accuracy: 0.8438 - val_loss: 1.1506 - val_accuracy: 0.5000 - 24ms/epoch - 6ms/step\n",
      "Epoch 27/100\n",
      "4/4 - 0s - loss: 0.2956 - accuracy: 0.8438 - val_loss: 1.1632 - val_accuracy: 0.5000 - 23ms/epoch - 6ms/step\n",
      "Epoch 28/100\n",
      "4/4 - 0s - loss: 0.2762 - accuracy: 0.9062 - val_loss: 1.1636 - val_accuracy: 0.5000 - 33ms/epoch - 8ms/step\n",
      "Epoch 29/100\n",
      "4/4 - 0s - loss: 0.2574 - accuracy: 0.9062 - val_loss: 1.1134 - val_accuracy: 0.5000 - 25ms/epoch - 6ms/step\n",
      "Epoch 30/100\n",
      "4/4 - 0s - loss: 0.2412 - accuracy: 0.9062 - val_loss: 1.0720 - val_accuracy: 0.5000 - 18ms/epoch - 4ms/step\n",
      "Epoch 31/100\n",
      "4/4 - 0s - loss: 0.2245 - accuracy: 0.9062 - val_loss: 1.0599 - val_accuracy: 0.5000 - 16ms/epoch - 4ms/step\n",
      "Epoch 32/100\n",
      "4/4 - 0s - loss: 0.2079 - accuracy: 0.9062 - val_loss: 1.1267 - val_accuracy: 0.5000 - 15ms/epoch - 4ms/step\n",
      "Epoch 33/100\n",
      "4/4 - 0s - loss: 0.1956 - accuracy: 0.9375 - val_loss: 1.0503 - val_accuracy: 0.5000 - 16ms/epoch - 4ms/step\n",
      "Epoch 34/100\n",
      "4/4 - 0s - loss: 0.1792 - accuracy: 0.9375 - val_loss: 1.0286 - val_accuracy: 0.5000 - 15ms/epoch - 4ms/step\n",
      "Epoch 35/100\n",
      "4/4 - 0s - loss: 0.1674 - accuracy: 0.9375 - val_loss: 1.0453 - val_accuracy: 0.5000 - 15ms/epoch - 4ms/step\n",
      "Epoch 36/100\n",
      "4/4 - 0s - loss: 0.1574 - accuracy: 0.9375 - val_loss: 1.0963 - val_accuracy: 0.5000 - 16ms/epoch - 4ms/step\n",
      "Epoch 37/100\n",
      "4/4 - 0s - loss: 0.1490 - accuracy: 0.9375 - val_loss: 1.0468 - val_accuracy: 0.5000 - 16ms/epoch - 4ms/step\n",
      "Epoch 38/100\n",
      "4/4 - 0s - loss: 0.1415 - accuracy: 0.9375 - val_loss: 1.0254 - val_accuracy: 0.5000 - 16ms/epoch - 4ms/step\n",
      "Epoch 39/100\n",
      "4/4 - 0s - loss: 0.1359 - accuracy: 0.9375 - val_loss: 1.1107 - val_accuracy: 0.5000 - 15ms/epoch - 4ms/step\n",
      "Epoch 40/100\n",
      "4/4 - 0s - loss: 0.1288 - accuracy: 0.9375 - val_loss: 1.1255 - val_accuracy: 0.5000 - 16ms/epoch - 4ms/step\n",
      "Epoch 41/100\n",
      "4/4 - 0s - loss: 0.1228 - accuracy: 0.9375 - val_loss: 1.1443 - val_accuracy: 0.5000 - 16ms/epoch - 4ms/step\n",
      "Epoch 42/100\n",
      "4/4 - 0s - loss: 0.1193 - accuracy: 0.9375 - val_loss: 1.1271 - val_accuracy: 0.5000 - 16ms/epoch - 4ms/step\n",
      "Epoch 43/100\n",
      "4/4 - 0s - loss: 0.1148 - accuracy: 0.9375 - val_loss: 1.1624 - val_accuracy: 0.5000 - 16ms/epoch - 4ms/step\n",
      "Epoch 44/100\n",
      "4/4 - 0s - loss: 0.1116 - accuracy: 0.9375 - val_loss: 1.1852 - val_accuracy: 0.5000 - 17ms/epoch - 4ms/step\n",
      "Epoch 45/100\n",
      "4/4 - 0s - loss: 0.1093 - accuracy: 0.9375 - val_loss: 1.1680 - val_accuracy: 0.5000 - 19ms/epoch - 5ms/step\n",
      "Epoch 46/100\n",
      "4/4 - 0s - loss: 0.1047 - accuracy: 0.9688 - val_loss: 1.2042 - val_accuracy: 0.5000 - 16ms/epoch - 4ms/step\n",
      "Epoch 47/100\n",
      "4/4 - 0s - loss: 0.1023 - accuracy: 0.9688 - val_loss: 1.1710 - val_accuracy: 0.5000 - 15ms/epoch - 4ms/step\n",
      "Epoch 48/100\n",
      "4/4 - 0s - loss: 0.0983 - accuracy: 0.9688 - val_loss: 1.1721 - val_accuracy: 0.5000 - 17ms/epoch - 4ms/step\n",
      "Epoch 49/100\n",
      "4/4 - 0s - loss: 0.0964 - accuracy: 0.9688 - val_loss: 1.2882 - val_accuracy: 0.5000 - 16ms/epoch - 4ms/step\n",
      "Epoch 50/100\n",
      "4/4 - 0s - loss: 0.0922 - accuracy: 0.9688 - val_loss: 1.3097 - val_accuracy: 0.5000 - 17ms/epoch - 4ms/step\n",
      "Epoch 51/100\n",
      "4/4 - 0s - loss: 0.0902 - accuracy: 0.9688 - val_loss: 1.2516 - val_accuracy: 0.5000 - 15ms/epoch - 4ms/step\n",
      "Epoch 52/100\n",
      "4/4 - 0s - loss: 0.0865 - accuracy: 0.9688 - val_loss: 1.2696 - val_accuracy: 0.5000 - 15ms/epoch - 4ms/step\n",
      "Epoch 53/100\n",
      "4/4 - 0s - loss: 0.0829 - accuracy: 0.9688 - val_loss: 1.3261 - val_accuracy: 0.5000 - 16ms/epoch - 4ms/step\n",
      "Epoch 54/100\n",
      "4/4 - 0s - loss: 0.0777 - accuracy: 0.9688 - val_loss: 1.4135 - val_accuracy: 0.5000 - 17ms/epoch - 4ms/step\n",
      "Epoch 55/100\n",
      "4/4 - 0s - loss: 0.0753 - accuracy: 0.9688 - val_loss: 1.5589 - val_accuracy: 0.5000 - 15ms/epoch - 4ms/step\n",
      "Epoch 56/100\n",
      "4/4 - 0s - loss: 0.0696 - accuracy: 1.0000 - val_loss: 1.4397 - val_accuracy: 0.5000 - 15ms/epoch - 4ms/step\n",
      "Epoch 57/100\n",
      "4/4 - 0s - loss: 0.0630 - accuracy: 1.0000 - val_loss: 1.3964 - val_accuracy: 0.3750 - 15ms/epoch - 4ms/step\n",
      "Epoch 58/100\n",
      "4/4 - 0s - loss: 0.0568 - accuracy: 1.0000 - val_loss: 1.4038 - val_accuracy: 0.3750 - 19ms/epoch - 5ms/step\n",
      "Epoch 59/100\n",
      "4/4 - 0s - loss: 0.0536 - accuracy: 1.0000 - val_loss: 1.6112 - val_accuracy: 0.5000 - 24ms/epoch - 6ms/step\n",
      "Epoch 60/100\n",
      "4/4 - 0s - loss: 0.0475 - accuracy: 1.0000 - val_loss: 1.4807 - val_accuracy: 0.3750 - 16ms/epoch - 4ms/step\n",
      "Epoch 61/100\n",
      "4/4 - 0s - loss: 0.0407 - accuracy: 1.0000 - val_loss: 1.4678 - val_accuracy: 0.3750 - 16ms/epoch - 4ms/step\n",
      "Epoch 62/100\n",
      "4/4 - 0s - loss: 0.0379 - accuracy: 1.0000 - val_loss: 1.5610 - val_accuracy: 0.3750 - 15ms/epoch - 4ms/step\n",
      "Epoch 63/100\n",
      "4/4 - 0s - loss: 0.0338 - accuracy: 1.0000 - val_loss: 1.5975 - val_accuracy: 0.3750 - 16ms/epoch - 4ms/step\n",
      "Epoch 64/100\n",
      "4/4 - 0s - loss: 0.0291 - accuracy: 1.0000 - val_loss: 1.6158 - val_accuracy: 0.3750 - 16ms/epoch - 4ms/step\n",
      "Epoch 65/100\n",
      "4/4 - 0s - loss: 0.0270 - accuracy: 1.0000 - val_loss: 1.6815 - val_accuracy: 0.3750 - 15ms/epoch - 4ms/step\n",
      "Epoch 66/100\n",
      "4/4 - 0s - loss: 0.0237 - accuracy: 1.0000 - val_loss: 1.7413 - val_accuracy: 0.3750 - 15ms/epoch - 4ms/step\n",
      "Epoch 67/100\n",
      "4/4 - 0s - loss: 0.0209 - accuracy: 1.0000 - val_loss: 1.7910 - val_accuracy: 0.3750 - 15ms/epoch - 4ms/step\n",
      "Epoch 68/100\n",
      "4/4 - 0s - loss: 0.0184 - accuracy: 1.0000 - val_loss: 1.8279 - val_accuracy: 0.5000 - 15ms/epoch - 4ms/step\n",
      "Epoch 69/100\n",
      "4/4 - 0s - loss: 0.0158 - accuracy: 1.0000 - val_loss: 1.9055 - val_accuracy: 0.3750 - 15ms/epoch - 4ms/step\n",
      "Epoch 70/100\n",
      "4/4 - 0s - loss: 0.0139 - accuracy: 1.0000 - val_loss: 1.9828 - val_accuracy: 0.3750 - 15ms/epoch - 4ms/step\n",
      "Epoch 71/100\n",
      "4/4 - 0s - loss: 0.0124 - accuracy: 1.0000 - val_loss: 1.9884 - val_accuracy: 0.5000 - 16ms/epoch - 4ms/step\n",
      "Epoch 72/100\n",
      "4/4 - 0s - loss: 0.0108 - accuracy: 1.0000 - val_loss: 2.0373 - val_accuracy: 0.5000 - 16ms/epoch - 4ms/step\n",
      "Epoch 73/100\n",
      "4/4 - 0s - loss: 0.0101 - accuracy: 1.0000 - val_loss: 2.1398 - val_accuracy: 0.5000 - 16ms/epoch - 4ms/step\n",
      "Epoch 74/100\n",
      "4/4 - 0s - loss: 0.0086 - accuracy: 1.0000 - val_loss: 2.1907 - val_accuracy: 0.5000 - 17ms/epoch - 4ms/step\n",
      "Epoch 75/100\n",
      "4/4 - 0s - loss: 0.0079 - accuracy: 1.0000 - val_loss: 2.2355 - val_accuracy: 0.5000 - 15ms/epoch - 4ms/step\n",
      "Epoch 76/100\n",
      "4/4 - 0s - loss: 0.0073 - accuracy: 1.0000 - val_loss: 2.2938 - val_accuracy: 0.5000 - 16ms/epoch - 4ms/step\n",
      "Epoch 77/100\n",
      "4/4 - 0s - loss: 0.0067 - accuracy: 1.0000 - val_loss: 2.3542 - val_accuracy: 0.5000 - 16ms/epoch - 4ms/step\n",
      "Epoch 78/100\n",
      "4/4 - 0s - loss: 0.0060 - accuracy: 1.0000 - val_loss: 2.4280 - val_accuracy: 0.5000 - 16ms/epoch - 4ms/step\n",
      "Epoch 79/100\n",
      "4/4 - 0s - loss: 0.0056 - accuracy: 1.0000 - val_loss: 2.4835 - val_accuracy: 0.5000 - 16ms/epoch - 4ms/step\n",
      "Epoch 80/100\n",
      "4/4 - 0s - loss: 0.0052 - accuracy: 1.0000 - val_loss: 2.5044 - val_accuracy: 0.5000 - 15ms/epoch - 4ms/step\n",
      "Epoch 81/100\n",
      "4/4 - 0s - loss: 0.0046 - accuracy: 1.0000 - val_loss: 2.5359 - val_accuracy: 0.5000 - 15ms/epoch - 4ms/step\n",
      "Epoch 82/100\n",
      "4/4 - 0s - loss: 0.0044 - accuracy: 1.0000 - val_loss: 2.5762 - val_accuracy: 0.5000 - 16ms/epoch - 4ms/step\n",
      "Epoch 83/100\n",
      "4/4 - 0s - loss: 0.0039 - accuracy: 1.0000 - val_loss: 2.6111 - val_accuracy: 0.5000 - 15ms/epoch - 4ms/step\n",
      "Epoch 84/100\n",
      "4/4 - 0s - loss: 0.0036 - accuracy: 1.0000 - val_loss: 2.6373 - val_accuracy: 0.5000 - 18ms/epoch - 4ms/step\n",
      "Epoch 85/100\n",
      "4/4 - 0s - loss: 0.0035 - accuracy: 1.0000 - val_loss: 2.6679 - val_accuracy: 0.5000 - 16ms/epoch - 4ms/step\n",
      "Epoch 86/100\n",
      "4/4 - 0s - loss: 0.0032 - accuracy: 1.0000 - val_loss: 2.6966 - val_accuracy: 0.5000 - 16ms/epoch - 4ms/step\n",
      "Epoch 87/100\n",
      "4/4 - 0s - loss: 0.0030 - accuracy: 1.0000 - val_loss: 2.7218 - val_accuracy: 0.5000 - 16ms/epoch - 4ms/step\n",
      "Epoch 88/100\n",
      "4/4 - 0s - loss: 0.0029 - accuracy: 1.0000 - val_loss: 2.7569 - val_accuracy: 0.5000 - 16ms/epoch - 4ms/step\n",
      "Epoch 89/100\n",
      "4/4 - 0s - loss: 0.0027 - accuracy: 1.0000 - val_loss: 2.7790 - val_accuracy: 0.5000 - 17ms/epoch - 4ms/step\n",
      "Epoch 90/100\n",
      "4/4 - 0s - loss: 0.0025 - accuracy: 1.0000 - val_loss: 2.8114 - val_accuracy: 0.5000 - 16ms/epoch - 4ms/step\n",
      "Epoch 91/100\n",
      "4/4 - 0s - loss: 0.0024 - accuracy: 1.0000 - val_loss: 2.8374 - val_accuracy: 0.3750 - 16ms/epoch - 4ms/step\n",
      "Epoch 92/100\n",
      "4/4 - 0s - loss: 0.0023 - accuracy: 1.0000 - val_loss: 2.8597 - val_accuracy: 0.5000 - 16ms/epoch - 4ms/step\n",
      "Epoch 93/100\n",
      "4/4 - 0s - loss: 0.0022 - accuracy: 1.0000 - val_loss: 2.8869 - val_accuracy: 0.5000 - 16ms/epoch - 4ms/step\n",
      "Epoch 94/100\n",
      "4/4 - 0s - loss: 0.0021 - accuracy: 1.0000 - val_loss: 2.9081 - val_accuracy: 0.5000 - 16ms/epoch - 4ms/step\n",
      "Epoch 95/100\n",
      "4/4 - 0s - loss: 0.0019 - accuracy: 1.0000 - val_loss: 2.9334 - val_accuracy: 0.5000 - 15ms/epoch - 4ms/step\n",
      "Epoch 96/100\n",
      "4/4 - 0s - loss: 0.0019 - accuracy: 1.0000 - val_loss: 2.9635 - val_accuracy: 0.3750 - 16ms/epoch - 4ms/step\n",
      "Epoch 97/100\n",
      "4/4 - 0s - loss: 0.0018 - accuracy: 1.0000 - val_loss: 2.9913 - val_accuracy: 0.3750 - 16ms/epoch - 4ms/step\n",
      "Epoch 98/100\n",
      "4/4 - 0s - loss: 0.0017 - accuracy: 1.0000 - val_loss: 3.0070 - val_accuracy: 0.5000 - 16ms/epoch - 4ms/step\n",
      "Epoch 99/100\n",
      "4/4 - 0s - loss: 0.0017 - accuracy: 1.0000 - val_loss: 3.0310 - val_accuracy: 0.5000 - 16ms/epoch - 4ms/step\n",
      "Epoch 100/100\n",
      "4/4 - 0s - loss: 0.0016 - accuracy: 1.0000 - val_loss: 3.0489 - val_accuracy: 0.3750 - 17ms/epoch - 4ms/step\n"
     ]
    }
   ],
   "source": [
    "history = model.fit(\n",
    "    training_padded,\n",
    "    training_labels,\n",
    "    epochs=model_config[\"num_epochs\"],\n",
    "    batch_size=model_config[\"batch_size\"],\n",
    "    validation_data=(testing_padded, testing_labels),\n",
    "    verbose=2,\n",
    ")"
   ]
  },
  {
   "cell_type": "code",
   "execution_count": 45,
   "metadata": {},
   "outputs": [
    {
     "data": {
      "image/png": "[encoded data removed]",
      "text/plain": [
       "<Figure size 640x480 with 1 Axes>"
      ]
     },
     "metadata": {},
     "output_type": "display_data"
    },
    {
     "data": {
      "image/png": "[encoded data removed]",
      "text/plain": [
       "<Figure size 640x480 with 1 Axes>"
      ]
     },
     "metadata": {},
     "output_type": "display_data"
    }
   ],
   "source": [
    "transformation.plot_graphs(history, \"accuracy\")\n",
    "transformation.plot_graphs(history, \"loss\")"
   ]
  },
  {
   "cell_type": "code",
   "execution_count": 46,
   "metadata": {},
   "outputs": [
    {
     "data": {
      "text/plain": [
       "['Serebral sulkus ve sisternalar atrofiye sekonder genişlemiştir. Ponsta iki adet laküner infarkt alanı izlenmektedir.',\n",
       " 'Periventriküler beyaz cevher doku yoğunlukları azalmıştır. Hemisferik kortikal sulkuslar ve serebellar folyolar atrofik görünümdedir.',\n",
       " 'Sağda bazal ganglionik düzeyde genişlemiş perivaskuler aralığa ait görünümün varlığı izlenmiştir (normalin varyasyonu). ']"
      ]
     },
     "execution_count": 46,
     "metadata": {},
     "output_type": "execute_result"
    }
   ],
   "source": [
    "production_sentences[:3]"
   ]
  },
  {
   "cell_type": "code",
   "execution_count": 47,
   "metadata": {},
   "outputs": [
    {
     "data": {
      "text/plain": [
       "13"
      ]
     },
     "execution_count": 47,
     "metadata": {},
     "output_type": "execute_result"
    }
   ],
   "source": [
    "len(production_sentences)"
   ]
  },
  {
   "cell_type": "code",
   "execution_count": 48,
   "metadata": {},
   "outputs": [],
   "source": [
    "# predict a sentence\n",
    "tokenizer.fit_on_texts(production_sentences)\n",
    "prediction_sequences = tokenizer.texts_to_sequences(production_sentences)\n",
    "prediction_padded = pad_sequences(\n",
    "    prediction_sequences,\n",
    "    maxlen=max_input_length,\n",
    "    padding=model_config[\"padding_type\"],\n",
    "    truncating=model_config[\"trunc_type\"],\n",
    ")\n",
    "prediction_padded = np.array(prediction_padded)"
   ]
  },
  {
   "cell_type": "code",
   "execution_count": 49,
   "metadata": {},
   "outputs": [
    {
     "name": "stdout",
     "output_type": "stream",
     "text": [
      "1/1 [==============================] - 0s 36ms/step\n"
     ]
    }
   ],
   "source": [
    "predictions = model.predict(prediction_padded)\n",
    "predictions = [np.argmax(prediction) for prediction in predictions]"
   ]
  },
  {
   "cell_type": "code",
   "execution_count": 50,
   "metadata": {},
   "outputs": [],
   "source": [
    "accuracy = transformation.calculate_matching_ratio(production_labels, predictions)"
   ]
  },
  {
   "cell_type": "code",
   "execution_count": 52,
   "metadata": {},
   "outputs": [
    {
     "name": "stderr",
     "output_type": "stream",
     "text": [
      "2023/08/19 11:15:01 WARNING mlflow.utils.environment: Encountered an unexpected error while inferring pip requirements (model URI: /var/folders/p7/2cvrhtmd5jbfn60b_h4pd4lw0000gn/T/tmpuefmbs6o/model/model.pkl, flavor: sklearn), fall back to return ['scikit-learn==1.3.0', 'cloudpickle==2.2.1']. Set logging level to DEBUG to see the full traceback.\n",
      "/Users/gokasci/Desktop/reports/.venv/lib/python3.11/site-packages/_distutils_hack/__init__.py:33: UserWarning: Setuptools is replacing distutils.\n",
      "  warnings.warn(\"Setuptools is replacing distutils.\")\n",
      "Successfully registered model 'rnn_experiments'.\n",
      "2023/08/19 11:15:11 INFO mlflow.tracking._model_registry.client: Waiting up to 300 seconds for model version to finish creation. Model name: rnn_experiments, version 1\n",
      "Created version '1' of model 'rnn_experiments'.\n"
     ]
    },
    {
     "name": "stderr",
     "output_type": "stream",
     "text": [
      "Downloading artifacts: 100%|██████████| 1/1 [00:00<00:00,  6.26it/s]\n",
      "Downloading artifacts: 100%|██████████| 1/1 [00:00<00:00,  5.95it/s]\n"
     ]
    }
   ],
   "source": [
    "# log a model run\n",
    "log_dict = {\n",
    "    \"params\": model_config,\n",
    "    \"metrics\": {\"accuracy\": accuracy},\n",
    "}\n",
    "\n",
    "run_id = mlflow.log_mlflow(\n",
    "    model=model,\n",
    "    experiment_name=\"NLP Experiments\",\n",
    "    run_name=f\"RNN: first_run\",\n",
    "    log_dict=log_dict,\n",
    "    registered_model_name=\"rnn_experiments\",\n",
    "    tags={\"model\": \"deep_learning\"},\n",
    ")"
   ]
  }
 ],
 "metadata": {
  "kernelspec": {
   "display_name": ".venv",
   "language": "python",
   "name": "python3"
  },
  "language_info": {
   "codemirror_mode": {
    "name": "ipython",
    "version": 3
   },
   "file_extension": ".py",
   "mimetype": "text/x-python",
   "name": "python",
   "nbconvert_exporter": "python",
   "pygments_lexer": "ipython3",
   "version": "3.11.4"
  },
  "orig_nbformat": 4
 },
 "nbformat": 4,
 "nbformat_minor": 2
}
