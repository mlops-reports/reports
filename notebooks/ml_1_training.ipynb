{
 "cells": [
  {
   "cell_type": "code",
   "execution_count": 1,
   "metadata": {},
   "outputs": [],
   "source": [
    "from experiment.api import mlflow as mlflow_api\n",
    "from experiment.utils import transformation\n",
    "\n",
    "import pandas as pd\n",
    "import numpy as np\n",
    "# import pathlib\n",
    "# import json\n",
    "import collections\n",
    "\n",
    "import tensorflow as tf\n",
    "from tensorflow.keras.preprocessing.text import Tokenizer\n",
    "from tensorflow.keras.preprocessing.sequence import pad_sequences"
   ]
  },
  {
   "cell_type": "code",
   "execution_count": 2,
   "metadata": {},
   "outputs": [],
   "source": [
    "LOG_MODEL_RUN = True"
   ]
  },
  {
   "cell_type": "code",
   "execution_count": 3,
   "metadata": {},
   "outputs": [],
   "source": [
    "mlflow = mlflow_api.MLFlow()\n",
    "\n",
    "# clean the environment without garbage collection\n",
    "mlflow.clean()"
   ]
  },
  {
   "cell_type": "code",
   "execution_count": 4,
   "metadata": {},
   "outputs": [],
   "source": [
    "# run the tracking server in background\n",
    "mlflow.run_server()"
   ]
  },
  {
   "cell_type": "code",
   "execution_count": 5,
   "metadata": {},
   "outputs": [],
   "source": [
    "model_config_path = (\n",
    "    transformation.get_project_root() / \"data\" / \"input\" / \"model_config\" / \"nlp_experiment.json\"\n",
    ")\n",
    "model_config = mlflow.get_model_config(model_config_path)"
   ]
  },
  {
   "cell_type": "code",
   "execution_count": 6,
   "metadata": {},
   "outputs": [],
   "source": [
    "clean_annotations = pd.read_csv(\n",
    "    transformation.get_project_root() / \"data\" / \"output\" / \"clean_annotations.csv\"\n",
    ")\n",
    "\n",
    "# skip the last report\n",
    "sentences = clean_annotations[\"relevant_text\"].to_list()[:-1]\n",
    "clean_labels = clean_annotations[\"classifications\"].to_list()[:-1]"
   ]
  },
  {
   "cell_type": "code",
   "execution_count": 7,
   "metadata": {},
   "outputs": [
    {
     "name": "stdout",
     "output_type": "stream",
     "text": [
      "Item 1 occurs 15 times in the list.\n",
      "Item 3 occurs 24 times in the list.\n",
      "Item 0 occurs 6 times in the list.\n",
      "Item 2 occurs 8 times in the list.\n"
     ]
    }
   ],
   "source": [
    "item_counts = collections.Counter(clean_annotations[\"classifications\"].to_list())\n",
    "\n",
    "# 1. Emergency\n",
    "# 2. Normal\n",
    "# 3. Non Emergency [Doctor]\n",
    "# 4. Non Emergency [No Doctor]\n",
    "for item, count in item_counts.items():\n",
    "    print(f\"Item {item} occurs {count} times in the list.\")"
   ]
  },
  {
   "cell_type": "code",
   "execution_count": 8,
   "metadata": {},
   "outputs": [
    {
     "data": {
      "text/plain": [
       "['Kontrastsız Beyin BT Kafa kaidesi ve kalvarial kemik yapılar normal sınırlardadır. 4.ventrikül ve bazal sisternalar normal genişliktedir. Posterior fossa oluşumları olağandır. İntrakranial hipo veya hiperdens sınırlanabilen patoloji saptanmadı. 3.ventrikül orta hatta ve normal genişliktedir. Lateral ventriküller olağandır. Beyin orta hat yapılarında yer değiştirme saptanmamıştır. Serebral sulkuslar olağandır. Nazal septum sola deviye görünümdedir ve BTye yansıyan tipik bir akut iskemi bulgusu mevcut değildir.  Ancak bu konuda klinik kuşku varsa olgunun diffüzyon MRG ile değerlendirilmesi ve detaylandırılması daha yararlı olacaktır. ',\n",
       " 'Sol serebellar hemisferde sekel ??? ensefalomalazi sahaları ve eski iskemi sekeli değişiklikler izlenmektedir. Sağ serebellar hemisfer düzeyinde de benzer bulgular izlenmekle birlikte her iki serebellumda atrofi bulguları ve folyolarda belirginleşme mevcuttur. Supratentorial kesitlerin değerlendirilmesinde 3. ve lateral ventrikul, konveksite sulkusları atrofiye sekonder belirginleşmiştir. Sağda posterior serebral arter sulama sahasında kronik iskemik sekel gliozis sahalarının varlığı mevcuttur. Periventrikuler lökoriazis alanları izlenmektedir. ',\n",
       " ' Periventriküler derin beyaz cevherde kronik iskemik gliozise bağlı dansite kaybı izlenmektedir. Bazal sisterna ve serebral konvekste sulkuslarının genişliği atrofi ile uyumlu artmıştır. Sağ oksipital lobda kronik infarkt sekeli ensefalomalazi- gliozis ile uyumlu hipodens alan mevcuttur. Sağ kapsüle interna ön bölümünde de kronik infarkta ait hipodens alan izlenmiştir. Her iki lateral ventrikül genişliği atrofi zemininde hafif artmış görünümdedir. ',\n",
       " 'Sağda orbita tavanınd frontal sinüs tabanında çökme gösteren fraktür hatları izlenmiştir. Sağ orbita medial duvarında da fraktür hatları izlenmektedir. Sağ orbita tabanında maksiller sinüs üst duvarında yine çökme gösteren fraktür hattı mevcut olup orbital yağ dokunun bu düzeyden maksiller sinüse doğru uzanımı saptanmıştır. Sağ maksiller sinüs içerisinde kanama ile uyumlu yüksek dansiteli görünümlerde izlenmiştir. ',\n",
       " 'Sağ orbita üst duvarında fraktüre ait görünüm izlenmekte olup medial kesimde frontal sinüs duvarına uzanmaktadır,fraktüre komşu dural planlarda milimetrik hava değerleri mevcuttur.Sağ frontal sinüs inferior kesiminde anterior duvarda da fraktür hattı izlenmiştir.Sağ frontal bölgede ve periorbital alanda cilt altı yumuşak dokuda ödem- hematom ile uyumlu dansite ve kalınlık artışı ile hava değerleri mevcuttur. ']"
      ]
     },
     "execution_count": 8,
     "metadata": {},
     "output_type": "execute_result"
    }
   ],
   "source": [
    "sentences[:5]"
   ]
  },
  {
   "cell_type": "code",
   "execution_count": 9,
   "metadata": {},
   "outputs": [],
   "source": [
    "clean_sentences = transformation.sentence_cleaning_pipeline(sentences)\n",
    "max_input_length = transformation.find_longest_sentence_length(clean_sentences)\n",
    "\n",
    "mlflow.set_model_config(model_config_path, {\"max_input_length\": max_input_length})"
   ]
  },
  {
   "cell_type": "code",
   "execution_count": 10,
   "metadata": {},
   "outputs": [
    {
     "name": "stdout",
     "output_type": "stream",
     "text": [
      "clean sentences: 52\n"
     ]
    },
    {
     "data": {
      "text/plain": [
       "['kontrast beyin bt kafa kaide kalvarial kemik yapı normal sınır 4 ventrikül bazal sisternalar normal genişlik posterior fossa oluşum olağan i̇ntrakranial hipo hiperdens sınırlanabilen patoloji 3 ventrikül orta hatta normal genişlik lateral ventrikül olağan beyin orta hat yapı yer değiş sapta serebral sulkus olağan nazal septum sol deviye görünüm btye yansı tipik bir akut iskemi bulgu mevcut değil ancak konu klinik kuşku var olgu diffüzyon mrg değer detaylandırılması yarar ol',\n",
       " 'sol serebellar hemisfer sekel ensefalomalazi saha eski iskemi sekel değişik izle sağ serebellar hemisfer düzey benzer bulgu izle birlikte iki serebellumda atrofi bulgu folyo belirgin mevcut supratentorial kesit değerlendirilmesin 3 lateral ventrikul konveksite sulkus atrofiye sekonder belirgin sağ posterior serebral arter sula saha kronik iskemik sekel gliozis saha varlık mevcut periventrikuler lökoriazis alan izle',\n",
       " 'periventriküler derin beyaz cevher kronik iskemik gliozise bağ dansite kayıp izle bazal sisterna serebral konveks sulkuslar genişlik atrofi uyum art sağ oksipital lobda kronik infarkt sekel ensefalomalazi gliozis uyum hipodens alan mevcut sağ kapsül interna ön bölüm kronik infarkta ait hipodens alan izle her iki lateral ventrikül genişlik atrofi zemin hafif art görünüm',\n",
       " 'sağ orbita tavan frontal sinüs taban çök göster fraktür hat izle sağ orbita medial duvar fraktür hat izle sağ orbita taban maksiller sinüs üst duvar yine çök göster fraktür hat mevcut ol orbital yağ doku düzey maksiller sinüs doğru uzanım sapta sağ maksiller sinüs içeri kana uyum yüksek dansite görünüm izle',\n",
       " 'sağ orbita üst duvar fraktüre ait görünüm izle ol medial kesim frontal sinüs duvar uza fraktüre komşu dural plan milimetrik hava değer mevcut sağ frontal sinüs inferior kesim anterior duvar fraktür hat izle sağ frontal bölge periorbital alan cilt altı yumuşak doku ödem hematom uyum dansite kalınlık art hava değer mevcut']"
      ]
     },
     "execution_count": 10,
     "metadata": {},
     "output_type": "execute_result"
    }
   ],
   "source": [
    "# sentence count\n",
    "print(f\"clean sentences: {len(clean_sentences)}\")\n",
    "clean_sentences[:5]"
   ]
  },
  {
   "cell_type": "code",
   "execution_count": 11,
   "metadata": {},
   "outputs": [],
   "source": [
    "# # manual test the word lemmatizer\n",
    "# import simplemma\n",
    "# word = \"hemisferde\"\n",
    "# simplemma.lemmatize(word, lang=\"tr\").lower()"
   ]
  },
  {
   "cell_type": "code",
   "execution_count": 12,
   "metadata": {},
   "outputs": [],
   "source": [
    "training_size = int(len(clean_sentences) * model_config[\"training_percent\"] / 100)\n",
    "training_sentences = clean_sentences[0:training_size]\n",
    "testing_sentences = clean_sentences[training_size:]\n",
    "training_labels = clean_labels[0:training_size]\n",
    "testing_labels = clean_labels[training_size:]"
   ]
  },
  {
   "cell_type": "code",
   "execution_count": 13,
   "metadata": {},
   "outputs": [],
   "source": [
    "tokenizer = Tokenizer(\n",
    "    num_words=model_config[\"vocab_size\"], oov_token=model_config[\"oov_token\"]\n",
    ")\n",
    "\n",
    "tokenizer.fit_on_texts(training_sentences)\n",
    "\n",
    "training_sequences = tokenizer.texts_to_sequences(training_sentences)\n",
    "training_padded = pad_sequences(\n",
    "    training_sequences,\n",
    "    maxlen=max_input_length,\n",
    "    padding=model_config[\"padding_type\"],\n",
    "    truncating=model_config[\"trunc_type\"],\n",
    ")\n",
    "testing_sequences = tokenizer.texts_to_sequences(testing_sentences)\n",
    "testing_padded = pad_sequences(\n",
    "    testing_sequences,\n",
    "    maxlen=max_input_length,\n",
    "    padding=model_config[\"padding_type\"],\n",
    "    truncating=model_config[\"trunc_type\"],\n",
    ")\n",
    "\n",
    "training_padded = np.array(training_padded)\n",
    "training_labels = np.array(training_labels)\n",
    "testing_padded = np.array(testing_padded)\n",
    "testing_labels = np.array(testing_labels)"
   ]
  },
  {
   "cell_type": "code",
   "execution_count": 14,
   "metadata": {},
   "outputs": [],
   "source": [
    "tokenizer_path =  transformation.get_project_root() / \"tmp\" / \"data\" / 'tokenizer.json'\n",
    "\n",
    "with open(tokenizer_path, 'w') as file:\n",
    "    file.write(tokenizer.to_json())"
   ]
  },
  {
   "cell_type": "code",
   "execution_count": 15,
   "metadata": {},
   "outputs": [],
   "source": [
    "# training_padded"
   ]
  },
  {
   "cell_type": "code",
   "execution_count": 16,
   "metadata": {},
   "outputs": [],
   "source": [
    "model = tf.keras.Sequential(\n",
    "    [\n",
    "        tf.keras.layers.Embedding(\n",
    "            model_config[\"vocab_size\"],\n",
    "            model_config[\"embedding_dim\"],\n",
    "            input_length=max_input_length,\n",
    "        ),\n",
    "        tf.keras.layers.GlobalAveragePooling1D(),\n",
    "        tf.keras.layers.Dense(64, activation=\"relu\"),\n",
    "        tf.keras.layers.Dense(64, activation=\"relu\"),\n",
    "        tf.keras.layers.Dense(64, activation=\"relu\"),\n",
    "        tf.keras.layers.Dense(32, activation=\"relu\"),\n",
    "        tf.keras.layers.Dense(4, activation=\"softmax\"),\n",
    "    ]\n",
    ")\n",
    "model.compile(\n",
    "    loss=\"sparse_categorical_crossentropy\", optimizer=\"adam\", metrics=[\"accuracy\"]\n",
    ")"
   ]
  },
  {
   "cell_type": "code",
   "execution_count": 17,
   "metadata": {},
   "outputs": [
    {
     "name": "stdout",
     "output_type": "stream",
     "text": [
      "Model: \"sequential\"\n",
      "_________________________________________________________________\n",
      " Layer (type)                Output Shape              Param #   \n",
      "=================================================================\n",
      " embedding (Embedding)       (None, 70, 16)            160000    \n",
      "                                                                 \n",
      " global_average_pooling1d (  (None, 16)                0         \n",
      " GlobalAveragePooling1D)                                         \n",
      "                                                                 \n",
      " dense (Dense)               (None, 64)                1088      \n",
      "                                                                 \n",
      " dense_1 (Dense)             (None, 64)                4160      \n",
      "                                                                 \n",
      " dense_2 (Dense)             (None, 64)                4160      \n",
      "                                                                 \n",
      " dense_3 (Dense)             (None, 32)                2080      \n",
      "                                                                 \n",
      " dense_4 (Dense)             (None, 4)                 132       \n",
      "                                                                 \n",
      "=================================================================\n",
      "Total params: 171620 (670.39 KB)\n",
      "Trainable params: 171620 (670.39 KB)\n",
      "Non-trainable params: 0 (0.00 Byte)\n",
      "_________________________________________________________________\n"
     ]
    }
   ],
   "source": [
    "model.summary()"
   ]
  },
  {
   "cell_type": "code",
   "execution_count": 18,
   "metadata": {},
   "outputs": [],
   "source": [
    "history = model.fit(\n",
    "    training_padded,\n",
    "    training_labels,\n",
    "    epochs=model_config[\"num_epochs\"],\n",
    "    batch_size=model_config[\"batch_size\"],\n",
    "    validation_data=(testing_padded, testing_labels),\n",
    "    verbose=None,\n",
    ")"
   ]
  },
  {
   "cell_type": "code",
   "execution_count": 19,
   "metadata": {},
   "outputs": [
    {
     "data": {
      "image/png": "[encoded data removed]",
      "text/plain": [
       "<Figure size 640x480 with 1 Axes>"
      ]
     },
     "metadata": {},
     "output_type": "display_data"
    }
   ],
   "source": [
    "transformation.plot_graphs(history, \"accuracy\")"
   ]
  },
  {
   "cell_type": "code",
   "execution_count": 20,
   "metadata": {},
   "outputs": [
    {
     "data": {
      "image/png": "[encoded data removed]",
      "text/plain": [
       "<Figure size 640x480 with 1 Axes>"
      ]
     },
     "metadata": {},
     "output_type": "display_data"
    }
   ],
   "source": [
    "transformation.plot_graphs(history, \"loss\")"
   ]
  },
  {
   "cell_type": "code",
   "execution_count": 21,
   "metadata": {},
   "outputs": [
    {
     "name": "stderr",
     "output_type": "stream",
     "text": [
      "[2023-08-22 18:30:25 +0200] [64254] [INFO] Starting gunicorn 21.2.0\n",
      "[2023-08-22 18:30:25 +0200] [64254] [INFO] Listening at: http://0.0.0.0:9999 (64254)\n",
      "[2023-08-22 18:30:25 +0200] [64254] [INFO] Using worker: sync\n",
      "[2023-08-22 18:30:25 +0200] [64255] [INFO] Booting worker with pid: 64255\n",
      "[2023-08-22 18:30:25 +0200] [64256] [INFO] Booting worker with pid: 64256\n",
      "[2023-08-22 18:30:25 +0200] [64257] [INFO] Booting worker with pid: 64257\n",
      "[2023-08-22 18:30:25 +0200] [64258] [INFO] Booting worker with pid: 64258\n"
     ]
    },
    {
     "name": "stderr",
     "output_type": "stream",
     "text": [
      "2023/08/22 18:30:46 WARNING mlflow.tensorflow: You are saving a TensorFlow Core model or Keras model without a signature. Inference with mlflow.pyfunc.spark_udf() will not work unless the model's pyfunc representation accepts pandas DataFrames as inference inputs.\n"
     ]
    },
    {
     "name": "stdout",
     "output_type": "stream",
     "text": [
      "INFO:tensorflow:Assets written to: /var/folders/p7/2cvrhtmd5jbfn60b_h4pd4lw0000gn/T/tmprnfg80s0/model/data/model/assets\n"
     ]
    },
    {
     "name": "stderr",
     "output_type": "stream",
     "text": [
      "INFO:tensorflow:Assets written to: /var/folders/p7/2cvrhtmd5jbfn60b_h4pd4lw0000gn/T/tmprnfg80s0/model/data/model/assets\n",
      "/Users/gokasci/Desktop/reports/.venv/lib/python3.11/site-packages/_distutils_hack/__init__.py:33: UserWarning: Setuptools is replacing distutils.\n",
      "  warnings.warn(\"Setuptools is replacing distutils.\")\n",
      "Registered model 'rnn_experiments' already exists. Creating a new version of this model...\n",
      "2023/08/22 18:31:01 INFO mlflow.tracking._model_registry.client: Waiting up to 300 seconds for model version to finish creation. Model name: rnn_experiments, version 42\n",
      "Created version '42' of model 'rnn_experiments'.\n",
      "[2023-08-22 18:31:18 +0200] [64254] [INFO] Handling signal: term\n",
      "[2023-08-22 18:31:18 +0200] [64256] [INFO] Worker exiting (pid: 64256)\n",
      "[2023-08-22 18:31:18 +0200] [64255] [INFO] Worker exiting (pid: 64255)\n",
      "[2023-08-22 18:31:18 +0200] [64257] [INFO] Worker exiting (pid: 64257)\n",
      "[2023-08-22 18:31:18 +0200] [64258] [INFO] Worker exiting (pid: 64258)\n",
      "[2023-08-22 18:31:18 +0200] [64254] [ERROR] Worker (pid:64255) was sent SIGTERM!\n",
      "[2023-08-22 18:31:18 +0200] [64254] [INFO] Shutting down: Master\n"
     ]
    }
   ],
   "source": [
    "if LOG_MODEL_RUN:\n",
    "    # log a model run\n",
    "    log_dict = {\n",
    "        \"params\": model_config,\n",
    "        \"metrics\": {\n",
    "            \"accuracy\": history.history[\"accuracy\"][-1],\n",
    "            \"loss\": history.history[\"loss\"][-1],\n",
    "            \"val_loss\": history.history[\"val_loss\"][-1],\n",
    "            \"val_accuracy\": history.history[\"val_accuracy\"][-1],\n",
    "        },\n",
    "    }\n",
    "\n",
    "    extra_artifacts = {\n",
    "        \"tokenizer\": {\n",
    "            \"local_path\": tokenizer_path,\n",
    "            \"save_path\": \"data\"\n",
    "        }\n",
    "    }\n",
    "\n",
    "    run_id = mlflow.log_experiment_run(\n",
    "        model=model,\n",
    "        experiment_name=\"NLP Experiments\",\n",
    "        run_name=f\"RNN: first_run\",\n",
    "        log_dict=log_dict,\n",
    "        registered_model_name=\"rnn_experiments\",\n",
    "        extra_artifacts=extra_artifacts,\n",
    "        tags={\"model\": \"deep_learning\"},\n",
    "    )"
   ]
  }
 ],
 "metadata": {
  "kernelspec": {
   "display_name": ".venv",
   "language": "python",
   "name": "python3"
  },
  "language_info": {
   "codemirror_mode": {
    "name": "ipython",
    "version": 3
   },
   "file_extension": ".py",
   "mimetype": "text/x-python",
   "name": "python",
   "nbconvert_exporter": "python",
   "pygments_lexer": "ipython3",
   "version": "3.11.4"
  },
  "orig_nbformat": 4
 },
 "nbformat": 4,
 "nbformat_minor": 2
}
