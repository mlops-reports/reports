{
 "cells": [
  {
   "cell_type": "code",
   "execution_count": null,
   "metadata": {},
   "outputs": [],
   "source": [
    "import pandas as pd\n",
    "import pathlib\n",
    "import warnings\n",
    "import json\n",
    "\n",
    "from experiment.utils import transformation"
   ]
  },
  {
   "cell_type": "code",
   "execution_count": null,
   "metadata": {},
   "outputs": [],
   "source": [
    "# suppress warnings\n",
    "warnings.filterwarnings(\"ignore\", category=UserWarning)"
   ]
  },
  {
   "cell_type": "code",
   "execution_count": null,
   "metadata": {},
   "outputs": [],
   "source": [
    "# get the source file\n",
    "source_data = transformation.get_project_root() / \"data\" / \"input\" / \"BT_BEYIN_KSIZ.xls\"\n",
    "df_reports = pd.read_excel(source_data)\n",
    "\n",
    "DB_PATH = transformation.get_project_root() / \"data\" / \"output\" / \"db.json\"\n",
    "\n",
    "with open(DB_PATH, \"r\") as file:\n",
    "    db = json.load(file)"
   ]
  },
  {
   "cell_type": "code",
   "execution_count": null,
   "metadata": {},
   "outputs": [],
   "source": [
    "# extract relevant information\n",
    "result = df_reports['ACIKLAMA'].apply(transformation.prepare_data_transformations)\n",
    "df_reports[[\"text\", \"report_date\", \"study_no\"]] = pd.DataFrame(\n",
    "    result.tolist(), index=result.index\n",
    ")"
   ]
  },
  {
   "cell_type": "code",
   "execution_count": null,
   "metadata": {},
   "outputs": [],
   "source": [
    "# check empty dates\n",
    "(df_reports['report_date'].values == '').sum() "
   ]
  },
  {
   "cell_type": "code",
   "execution_count": null,
   "metadata": {},
   "outputs": [],
   "source": [
    "# drop unnecessary columns\n",
    "df_reports = df_reports.rename(\n",
    "    columns={\n",
    "        \"HASTA_NO\": \"patient_no\",\n",
    "        \"PROTOKOL_NO\": \"protocol_no\",\n",
    "    }\n",
    ").drop([\"ACIKLAMA\", \"AD_SOYAD\"], axis=1)"
   ]
  },
  {
   "cell_type": "code",
   "execution_count": null,
   "metadata": {},
   "outputs": [],
   "source": [
    "# filter by non-annotated patients\n",
    "df_reports = df_reports.loc[~df_reports[\"patient_no\"].isin(db[\"annotated\"])]"
   ]
  },
  {
   "cell_type": "code",
   "execution_count": null,
   "metadata": {},
   "outputs": [],
   "source": [
    "# convert the report date column\n",
    "df_reports['report_date'] = pd.to_datetime(df_reports['report_date'], errors='coerce')"
   ]
  },
  {
   "cell_type": "code",
   "execution_count": null,
   "metadata": {},
   "outputs": [],
   "source": [
    "# detect report count\n",
    "df_report_count = df_reports.groupby(\"patient_no\").agg(report_count=pd.NamedAgg(column=\"patient_no\", aggfunc=\"count\")).reset_index()"
   ]
  },
  {
   "cell_type": "code",
   "execution_count": null,
   "metadata": {},
   "outputs": [],
   "source": [
    "# merge report counts & order by report count/date & drop duplicates\n",
    "df_reports = df_reports.drop_duplicates(subset=[\"patient_no\"], keep=\"first\").merge(\n",
    "    df_report_count, on=\"patient_no\", how=\"left\"\n",
    ").sort_values([\"report_count\", \"report_date\"], ascending=[True, True])"
   ]
  },
  {
   "cell_type": "code",
   "execution_count": null,
   "metadata": {},
   "outputs": [],
   "source": [
    "df_reports[\"lemmatised\"] = transformation.sentence_cleaning_pipeline(df_reports[\"text\"].to_list())"
   ]
  },
  {
   "cell_type": "code",
   "execution_count": null,
   "metadata": {},
   "outputs": [],
   "source": [
    "len(df_reports)"
   ]
  },
  {
   "cell_type": "code",
   "execution_count": null,
   "metadata": {},
   "outputs": [],
   "source": [
    "# convert output df to a csv file\n",
    "df_reports.to_csv(transformation.get_project_root() / \"data\" / \"output\" / \"tasks.csv\")"
   ]
  }
 ],
 "metadata": {
  "kernelspec": {
   "display_name": ".venv",
   "language": "python",
   "name": "python3"
  },
  "language_info": {
   "codemirror_mode": {
    "name": "ipython",
    "version": 3
   },
   "file_extension": ".py",
   "mimetype": "text/x-python",
   "name": "python",
   "nbconvert_exporter": "python",
   "pygments_lexer": "ipython3",
   "version": "3.11.2"
  },
  "orig_nbformat": 4
 },
 "nbformat": 4,
 "nbformat_minor": 2
}
