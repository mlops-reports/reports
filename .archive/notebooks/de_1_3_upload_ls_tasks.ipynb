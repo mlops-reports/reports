{
 "cells": [
  {
   "cell_type": "code",
   "execution_count": 7,
   "metadata": {},
   "outputs": [],
   "source": [
    "from experiment.utils import dbutils, transformation\n",
    "from experiment.api import label_studio"
   ]
  },
  {
   "cell_type": "code",
   "execution_count": 8,
   "metadata": {},
   "outputs": [],
   "source": [
    "db = dbutils.DatabaseUtils()"
   ]
  },
  {
   "cell_type": "code",
   "execution_count": 9,
   "metadata": {},
   "outputs": [
    {
     "data": {
      "text/html": [
       "<div>\n",
       "<style scoped>\n",
       "    .dataframe tbody tr th:only-of-type {\n",
       "        vertical-align: middle;\n",
       "    }\n",
       "\n",
       "    .dataframe tbody tr th {\n",
       "        vertical-align: top;\n",
       "    }\n",
       "\n",
       "    .dataframe thead th {\n",
       "        text-align: right;\n",
       "    }\n",
       "</style>\n",
       "<table border=\"1\" class=\"dataframe\">\n",
       "  <thead>\n",
       "    <tr style=\"text-align: right;\">\n",
       "      <th></th>\n",
       "      <th>report_id</th>\n",
       "      <th>patient_no</th>\n",
       "      <th>protocol_no</th>\n",
       "      <th>report_original</th>\n",
       "      <th>text</th>\n",
       "      <th>report_length</th>\n",
       "      <th>patient_report_count</th>\n",
       "    </tr>\n",
       "  </thead>\n",
       "  <tbody>\n",
       "    <tr>\n",
       "      <th>0</th>\n",
       "      <td>26</td>\n",
       "      <td>2004004697</td>\n",
       "      <td>22023602</td>\n",
       "      <td>RAPOR TARİHİ:27/12/2021   FİLM NO:\\n\\nKontrast...</td>\n",
       "      <td>REPORT DATE: 27/12/2021   FILM NO: Contrastles...</td>\n",
       "      <td>128</td>\n",
       "      <td>19</td>\n",
       "    </tr>\n",
       "    <tr>\n",
       "      <th>1</th>\n",
       "      <td>16913</td>\n",
       "      <td>2008509284</td>\n",
       "      <td>22344550</td>\n",
       "      <td>RAPOR TARİHİ: 21/02/2022   FİLM NO:12506694\\n\\...</td>\n",
       "      <td>REPORT DATE: 02/21/2022   FILM NO:12506694  Co...</td>\n",
       "      <td>165</td>\n",
       "      <td>20</td>\n",
       "    </tr>\n",
       "    <tr>\n",
       "      <th>2</th>\n",
       "      <td>16909</td>\n",
       "      <td>2008509284</td>\n",
       "      <td>22344550</td>\n",
       "      <td>RAPOR TARİHİ:08/02/2022   FİLM NO:12506525\\n\\n...</td>\n",
       "      <td>REPORT DATE: 08/02/2022 FILM NO: 12506525  Con...</td>\n",
       "      <td>113</td>\n",
       "      <td>20</td>\n",
       "    </tr>\n",
       "  </tbody>\n",
       "</table>\n",
       "</div>"
      ],
      "text/plain": [
       "   report_id  patient_no  protocol_no  \\\n",
       "0         26  2004004697     22023602   \n",
       "1      16913  2008509284     22344550   \n",
       "2      16909  2008509284     22344550   \n",
       "\n",
       "                                     report_original  \\\n",
       "0  RAPOR TARİHİ:27/12/2021   FİLM NO:\\n\\nKontrast...   \n",
       "1  RAPOR TARİHİ: 21/02/2022   FİLM NO:12506694\\n\\...   \n",
       "2  RAPOR TARİHİ:08/02/2022   FİLM NO:12506525\\n\\n...   \n",
       "\n",
       "                                                text  report_length  \\\n",
       "0  REPORT DATE: 27/12/2021   FILM NO: Contrastles...            128   \n",
       "1  REPORT DATE: 02/21/2022   FILM NO:12506694  Co...            165   \n",
       "2  REPORT DATE: 08/02/2022 FILM NO: 12506525  Con...            113   \n",
       "\n",
       "   patient_report_count  \n",
       "0                    19  \n",
       "1                    20  \n",
       "2                    20  "
      ]
     },
     "execution_count": 9,
     "metadata": {},
     "output_type": "execute_result"
    }
   ],
   "source": [
    "# get reports directly from database\n",
    "query = \"\"\"\n",
    "            SELECT\n",
    "                report_id,\n",
    "                patient_no,\n",
    "                protocol_no,\n",
    "                report_original,\n",
    "                report_prompted as text,\n",
    "                report_length,\n",
    "                patient_report_count\n",
    "            FROM\n",
    "                annotation.upload_tasks\n",
    "            WHERE\n",
    "                report_id NOT IN (\n",
    "                SELECT\n",
    "                    (DATA ->> 'report_id')::INT AS report_id\n",
    "                FROM\n",
    "                    public.task)\n",
    "                AND report_prompted != ''\n",
    "        \"\"\"\n",
    "\n",
    "# get values from the database\n",
    "df_upload_tasks = db.read_sql_query(query)\n",
    "\n",
    "# output tasks as a csv file\n",
    "output_path = (\n",
    "    transformation.get_project_root() / \"tmp\" / \"data\" / \"upload_tasks.csv\"\n",
    ")\n",
    "df_upload_tasks.to_csv(output_path, index=False)\n",
    "df_upload_tasks"
   ]
  },
  {
   "cell_type": "code",
   "execution_count": 10,
   "metadata": {},
   "outputs": [
    {
     "name": "stderr",
     "output_type": "stream",
     "text": [
      "  % Total    % Received % Xferd  Average Speed   Time    Time     Time  Current\n",
      "                                 Dload  Upload   Total   Spent    Left  Speed\n",
      "  0     0    0     0    0     0      0      0 --:--:-- --:--:-- --:--:--     0"
     ]
    },
    {
     "name": "stdout",
     "output_type": "stream",
     "text": [
      "{\"task_count\":3,\"annotation_count\":0,\"prediction_count\":0,\"duration\":0.057959794998168945,\"file_upload_ids\":[32],\"could_be_tasks_list\":true,\"found_formats\":{\".csv\":1},\"data_columns\":[\"patient_report_count\",\"patient_no\",\"report_id\",\"report_length\",\"text\",\"protocol_no\",\"report_original\"]}"
     ]
    },
    {
     "name": "stderr",
     "output_type": "stream",
     "text": [
      "100  6438  100   287  100  6151    850  18237 --:--:-- --:--:-- --:--:-- 19275\n"
     ]
    }
   ],
   "source": [
    "# upload tasks to label studio\n",
    "label_studio.upload_csv_tasks(csv_path=output_path, project_id=7)"
   ]
  },
  {
   "cell_type": "code",
   "execution_count": 11,
   "metadata": {},
   "outputs": [],
   "source": [
    "label_studio.stop_label_studio()"
   ]
  }
 ],
 "metadata": {
  "kernelspec": {
   "display_name": ".venv",
   "language": "python",
   "name": "python3"
  },
  "language_info": {
   "codemirror_mode": {
    "name": "ipython",
    "version": 3
   },
   "file_extension": ".py",
   "mimetype": "text/x-python",
   "name": "python",
   "nbconvert_exporter": "python",
   "pygments_lexer": "ipython3",
   "version": "3.11.2"
  },
  "orig_nbformat": 4
 },
 "nbformat": 4,
 "nbformat_minor": 2
}
